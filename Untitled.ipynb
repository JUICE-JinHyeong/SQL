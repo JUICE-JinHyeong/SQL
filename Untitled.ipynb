{
 "cells": [
  {
   "cell_type": "code",
   "execution_count": 2,
   "id": "79b34d31",
   "metadata": {},
   "outputs": [
    {
     "data": {
      "text/plain": [
       "{'cod': 401,\n",
       " 'message': 'Invalid API key. Please see https://openweathermap.org/faq#error401 for more info.'}"
      ]
     },
     "execution_count": 2,
     "metadata": {},
     "output_type": "execute_result"
    }
   ],
   "source": [
    "import requests \n",
    " \n",
    "# 모듈 임포트 \n",
    " \n",
    "url = 'https://api.openweathermap.org/data/2.5/weather?q=Seoul&appid=<Your_API_Key>' \n",
    "# API URL \n",
    " \n",
    "response = requests.get(url) \n",
    "# 서버에 데이터 요청 \n",
    " \n",
    "data = response.json() \n",
    "# JSON 형태로 데이터 받기 \n",
    "data\n",
    "# print(data['weather'][0]['main'], '-', data['weather'][0]['description']) \n",
    "# 날씨의 메인(main)과 상세(description) 출력"
   ]
  }
 ],
 "metadata": {
  "kernelspec": {
   "display_name": "Python 3 (ipykernel)",
   "language": "python",
   "name": "python3"
  },
  "language_info": {
   "codemirror_mode": {
    "name": "ipython",
    "version": 3
   },
   "file_extension": ".py",
   "mimetype": "text/x-python",
   "name": "python",
   "nbconvert_exporter": "python",
   "pygments_lexer": "ipython3",
   "version": "3.9.13"
  }
 },
 "nbformat": 4,
 "nbformat_minor": 5
}
