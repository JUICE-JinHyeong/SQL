{
 "cells": [
  {
   "cell_type": "code",
   "execution_count": 1,
   "id": "1bde53c6",
   "metadata": {},
   "outputs": [
    {
     "name": "stdout",
     "output_type": "stream",
     "text": [
      "0 0\n"
     ]
    }
   ],
   "source": [
    "for i in range(1,3):\n",
    "    globals()['num_{}'.format(i)] = 0\n",
    "    \n",
    "print(num_1, num_2) # 0 0"
   ]
  },
  {
   "cell_type": "code",
   "execution_count": 3,
   "id": "b55986e7",
   "metadata": {},
   "outputs": [
    {
     "ename": "ImportError",
     "evalue": "attempted relative import with no known parent package",
     "output_type": "error",
     "traceback": [
      "\u001b[1;31m---------------------------------------------------------------------------\u001b[0m",
      "\u001b[1;31mImportError\u001b[0m                               Traceback (most recent call last)",
      "Input \u001b[1;32mIn [3]\u001b[0m, in \u001b[0;36m<cell line: 3>\u001b[1;34m()\u001b[0m\n\u001b[0;32m      1\u001b[0m \u001b[38;5;66;03m# django views.py\u001b[39;00m\n\u001b[1;32m----> 3\u001b[0m \u001b[38;5;28;01mfrom\u001b[39;00m \u001b[38;5;21;01m.\u001b[39;00m\u001b[38;5;21;01mmodels\u001b[39;00m \u001b[38;5;28;01mimport\u001b[39;00m Status\n\u001b[0;32m      6\u001b[0m \u001b[38;5;28;01mdef\u001b[39;00m \u001b[38;5;21mstatus\u001b[39m(request):\n\u001b[0;32m      7\u001b[0m     status \u001b[38;5;241m=\u001b[39m Status\u001b[38;5;241m.\u001b[39mobjects\u001b[38;5;241m.\u001b[39mall()\u001b[38;5;241m.\u001b[39morder_by(\u001b[38;5;124m'\u001b[39m\u001b[38;5;124m-kind\u001b[39m\u001b[38;5;124m'\u001b[39m)\n",
      "\u001b[1;31mImportError\u001b[0m: attempted relative import with no known parent package"
     ]
    }
   ],
   "source": [
    "# django views.py\n",
    "\n",
    "from .models import Status\n",
    "\n",
    "\n",
    "def status(request):\n",
    "    status = Status.objects.all().order_by('-kind')\n",
    "    status_kind = status.values_list('kind', flat=True).distinct()\n",
    "    locals()['{}_data'.format(kind)] = []\t# 리스트로 선언\n",
    "    \n",
    "    for kind in status_kind:\n",
    "        locals()['{}_data'.format(kind)].append('this is data')\n",
    "    \n",
    "    return render(request, 'law-status.html')"
   ]
  }
 ],
 "metadata": {
  "kernelspec": {
   "display_name": "Python 3 (ipykernel)",
   "language": "python",
   "name": "python3"
  },
  "language_info": {
   "codemirror_mode": {
    "name": "ipython",
    "version": 3
   },
   "file_extension": ".py",
   "mimetype": "text/x-python",
   "name": "python",
   "nbconvert_exporter": "python",
   "pygments_lexer": "ipython3",
   "version": "3.9.13"
  }
 },
 "nbformat": 4,
 "nbformat_minor": 5
}
