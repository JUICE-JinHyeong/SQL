{
 "cells": [
  {
   "cell_type": "code",
   "execution_count": 3,
   "id": "937fb575",
   "metadata": {},
   "outputs": [
    {
     "name": "stdout",
     "output_type": "stream",
     "text": [
      "http://prod.danawa.com/info/?pcode=13653416#bookmark_cm_opinion\n",
      "http://prod.danawa.com/info/?pcode=13536143#bookmark_cm_opinion\n",
      "http://prod.danawa.com/info/?pcode=13566611#bookmark_cm_opinion\n",
      "http://prod.danawa.com/info/?pcode=16889648#bookmark_cm_opinion\n",
      "http://prod.danawa.com/info/?pcode=13054001#bookmark_cm_opinion\n",
      "http://prod.danawa.com/info/?pcode=11441436#bookmark_cm_opinion\n"
     ]
    }
   ],
   "source": [
    "pcodes = ['13653416' , '13536143' , '13566611' , '16889648' , '13054001' , '11441436']\n",
    "\n",
    "for pcode in pcodes :\n",
    "    address = f'http://prod.danawa.com/info/?pcode={pcode}#bookmark_cm_opinion'\n",
    "    print(address)"
   ]
  }
 ],
 "metadata": {
  "kernelspec": {
   "display_name": "Python 3 (ipykernel)",
   "language": "python",
   "name": "python3"
  },
  "language_info": {
   "codemirror_mode": {
    "name": "ipython",
    "version": 3
   },
   "file_extension": ".py",
   "mimetype": "text/x-python",
   "name": "python",
   "nbconvert_exporter": "python",
   "pygments_lexer": "ipython3",
   "version": "3.9.13"
  }
 },
 "nbformat": 4,
 "nbformat_minor": 5
}
