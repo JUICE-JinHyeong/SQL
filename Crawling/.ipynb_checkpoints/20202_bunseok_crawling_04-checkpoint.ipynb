{
 "cells": [
  {
   "cell_type": "code",
   "execution_count": 8,
   "id": "7374e296",
   "metadata": {},
   "outputs": [
    {
     "name": "stdout",
     "output_type": "stream",
     "text": [
      "numpy version -  1.21.5\n",
      "pandas version -  1.4.4\n"
     ]
    }
   ],
   "source": [
    "import numpy as np\n",
    "import pandas as pd\n",
    "import seaborn as sns\n",
    "\n",
    "import matplotlib as mpl\n",
    "import matplotlib.pyplot as plt\n",
    "import json\n",
    "\n",
    "%matplotlib inline\n",
    "\n",
    "# 한글 폰트 문제 해결\n",
    "import platform\n",
    "from matplotlib import font_manager, rc\n",
    "plt.rcParams['axes.unicode_minus'] = False\n",
    "\n",
    "if platform.system() == 'Darwin':\n",
    "    rc('font', family='AppleGothic')\n",
    "elif platform.system() == 'Windows':\n",
    "    path = \"c:/Windows/Fonts/malgun.ttf\"\n",
    "    font_name = font_manager.FontProperties(fname=path).get_name()\n",
    "    rc('font', family=font_name)\n",
    "else:\n",
    "    print('Unknown system... sorry~~~~')\n",
    "\n",
    "\n",
    "# 노란색 글씨의 warining 문구 강제 생략\n",
    "import warnings\n",
    "warnings.filterwarnings(action='ignore')\n",
    "    \n",
    "\n",
    "# 차트 축 <- 음수 부호 지원\n",
    "import matplotlib\n",
    "matplotlib.rcParams['axes.unicode_minus'] = False\n",
    "\n",
    "\n",
    "print('numpy version - ' , np.__version__)\n",
    "print('pandas version - ' , pd.__version__)\n",
    "\n",
    "# 크롤링\n",
    "from bs4 import BeautifulSoup\n",
    "# url img를 내려받을 수 있는 패키지\n",
    "from urllib.request import urlopen , urlretrieve\n",
    "from urllib.error   import HTTPError\n",
    "from urllib.error   import URLError\n",
    "\n",
    "import requests\n",
    "import re\n",
    "\n",
    "from selenium import webdriver\n",
    "from selenium.webdriver.common.by import By"
   ]
  },
  {
   "cell_type": "markdown",
   "id": "38df3a78",
   "metadata": {},
   "source": [
    "- 정적 스크리핑 - BS\n",
    "- 동적 스크리핑 - selenium\n",
    "- 정규표현식 : https://docs.python.org/ko/3/library/re.html#regular-expression-syntax"
   ]
  },
  {
   "cell_type": "markdown",
   "id": "ffb1fc1d",
   "metadata": {},
   "source": [
    "- 페이지 정보 확인법 \n",
    "- f12 -> network -> f5 -> content -> Request URL 확인 - > Payload 확인"
   ]
  },
  {
   "cell_type": "code",
   "execution_count": 9,
   "id": "29d5ac2a",
   "metadata": {},
   "outputs": [],
   "source": [
    "\n",
    "# 구글크롬 드라이버 다운 후 폴더 경로 선언\n",
    "driver_path = 'C:/Users/PiGiraffe0/Documents/SQL/diver/chromedriver.exe'\n",
    "\n",
    "# 드라이버를 제어할 수 있는 객체 생성\n",
    "chrome_driver = webdriver.Chrome(driver_path)\n",
    "\n",
    "# 해당 홈페이지를 불러온다.\n",
    "chrome_driver.get('https://python.org')"
   ]
  },
  {
   "cell_type": "markdown",
   "id": "b3f2a871",
   "metadata": {},
   "source": [
    "- xpath : 절대주소\n",
    "     - 절대주소를 사용하여 정형화되어있을 경우 루프를 돌려 다양한 정보를 가져올 수 있다.\n",
    "     - 사용방법 : 특정 정보 데이터에 들어가서 a href를 찾고 마우스 우클릭 - > copy -> copt xpath"
   ]
  },
  {
   "cell_type": "code",
   "execution_count": null,
   "id": "5714cdd7",
   "metadata": {},
   "outputs": [],
   "source": [
    "# @는 식별자이다.\n",
    "//*[@id=\"rank_holder\"]/ul/li[1]/div/a\n",
    "//*[@id=\"rank_holder\"]/ul/li[2]/div/a"
   ]
  },
  {
   "cell_type": "code",
   "execution_count": 13,
   "id": "c90e5d14",
   "metadata": {},
   "outputs": [],
   "source": [
    "driver_path = 'C:/Users/PiGiraffe0/Documents/SQL/diver/chromedriver.exe'\n",
    "driver = webdriver.Chrome(driver_path)\n",
    "driver.get('http://www.cine21.com/rank/person')"
   ]
  },
  {
   "cell_type": "code",
   "execution_count": 12,
   "id": "d3f22bce",
   "metadata": {},
   "outputs": [
    {
     "name": "stdout",
     "output_type": "stream",
     "text": [
      "case03 - selenium xpath 배우 이름 추출\n"
     ]
    }
   ],
   "source": [
    "print('case03 - selenium xpath 배우 이름 추출')"
   ]
  },
  {
   "cell_type": "code",
   "execution_count": null,
   "id": "4e478ccf",
   "metadata": {},
   "outputs": [],
   "source": [
    "//*[@id=\"rank_holder\"]/ul/li[1]\n",
    "//*[@id=\"rank_holder\"]/ul/li[2]"
   ]
  },
  {
   "cell_type": "code",
   "execution_count": 17,
   "id": "8caa9fca",
   "metadata": {},
   "outputs": [
    {
     "data": {
      "text/plain": [
       "'류준열(3편)\\n흥행지수\\n69,778\\n올빼미\\n리틀 포레스트\\n더 킹\\n1'"
      ]
     },
     "execution_count": 17,
     "metadata": {},
     "output_type": "execute_result"
    }
   ],
   "source": [
    "people_lst = driver.find_elements(By.XPATH , '//*[@id=\"rank_holder\"]/ul/li')\n",
    "people_lst[0].text"
   ]
  },
  {
   "cell_type": "code",
   "execution_count": 24,
   "id": "8faccc8e",
   "metadata": {
    "collapsed": true
   },
   "outputs": [
    {
     "name": "stdout",
     "output_type": "stream",
     "text": [
      "류준열(3편)\n",
      "흥행지수\n",
      "69,778\n",
      "올빼미\n",
      "리틀 포레스트\n",
      "더 킹\n",
      "1\n",
      "유해진(2편)\n",
      "흥행지수\n",
      "63,623\n",
      "올빼미\n",
      "공조2: 인터내셔날\n",
      "2\n",
      "소지섭(1편)\n",
      "흥행지수\n",
      "57,190\n",
      "자백\n",
      "3\n",
      "최무성(2편)\n",
      "흥행지수\n",
      "52,474\n",
      "올빼미\n",
      "탄생\n",
      "4\n",
      "김래원(1편)\n",
      "흥행지수\n",
      "51,745\n",
      "데시벨\n",
      "5\n",
      "여진구(1편)\n",
      "흥행지수\n",
      "48,516\n",
      "동감\n",
      "6\n",
      "이종석(1편)\n",
      "흥행지수\n",
      "45,995\n",
      "데시벨\n",
      "7\n"
     ]
    }
   ],
   "source": [
    "# 이름을 가져오는 xpath\n",
    "# //*[@id=\"rank_holder\"]/ul/li[1]/div/a\n",
    "\n",
    "for people in people_lst :\n",
    "    print(people.text)"
   ]
  },
  {
   "cell_type": "code",
   "execution_count": 46,
   "id": "b8e43449",
   "metadata": {
    "collapsed": true
   },
   "outputs": [
    {
     "name": "stdout",
     "output_type": "stream",
     "text": [
      "1\n",
      "배우 이름  :  류준열(3편)\n",
      "흥행 지수 :  69,778\n",
      "순위 :  1\n",
      "영화 :  올빼미\n",
      "영화 :  리틀 포레스트\n",
      "영화 :  더 킹\n",
      "2\n",
      "배우 이름  :  유해진(2편)\n",
      "흥행 지수 :  63,623\n",
      "순위 :  2\n",
      "영화 :  올빼미\n",
      "영화 :  공조2: 인터내셔날\n",
      "3\n",
      "배우 이름  :  소지섭(1편)\n",
      "흥행 지수 :  57,190\n",
      "순위 :  3\n",
      "영화 :  자백\n",
      "4\n",
      "배우 이름  :  최무성(2편)\n",
      "흥행 지수 :  52,474\n",
      "순위 :  4\n",
      "영화 :  올빼미\n",
      "영화 :  탄생\n",
      "5\n",
      "배우 이름  :  김래원(1편)\n",
      "흥행 지수 :  51,745\n",
      "순위 :  5\n",
      "영화 :  데시벨\n",
      "6\n",
      "배우 이름  :  여진구(1편)\n",
      "흥행 지수 :  48,516\n",
      "순위 :  6\n",
      "영화 :  동감\n",
      "7\n",
      "배우 이름  :  이종석(1편)\n",
      "흥행 지수 :  45,995\n",
      "순위 :  7\n",
      "영화 :  데시벨\n"
     ]
    }
   ],
   "source": [
    "# xpaths는 절대 경로이기 때문에 경로를 살짝만 바꾸어주어도 다양한 정보를 가져올 수 있다.\n",
    "# 단 경로 방식으로만 찾아야함\n",
    "\n",
    "# //*[@id=\"rank_holder\"]/ul/li[1]/ul[1]/li/strong\n",
    "# //*[@id=\"rank_holder\"]/ul/li[2]/ul[1]/li/strong\n",
    "\n",
    "# //*[@id=\"rank_holder\"]/ul/li[1]/span\n",
    "# //*[@id=\"rank_holder\"]/ul/li[2]/span\n",
    "\n",
    "# 영화\n",
    "# //*[@id=\"rank_holder\"]/ul/li[1]/ul[2]/li[1]/a/span\n",
    "# //*[@id=\"rank_holder\"]/ul/li[1]/ul[2]/li[2]/a/span\n",
    "\n",
    "# //*[@id=\"rank_holder\"]/ul/li[2]/ul[2]/li[1]/a/span\n",
    "\n",
    "for idx in range(len(people_lst)) :\n",
    "    print(idx+1)\n",
    "    print('배우 이름  : ' \n",
    "          , driver.find_element(By.XPATH , '//*[@id=\"rank_holder\"]/ul/li[{}]/div/a'.format(idx+1)).text)\n",
    "    #print('배우 이름  : ' \n",
    "    #      , driver.find_element(By.XPATH , f'//*[@id=\"rank_holder\"]/ul/li[{idx+1}]/div/a').text)\n",
    "    \n",
    "    print('흥행 지수 : ' \n",
    "          , driver.find_element(By.XPATH , '//*[@id=\"rank_holder\"]/ul/li[{}]/ul[1]/li/strong'.format(idx+1)).text)\n",
    "    \n",
    "    print('순위 : ' \n",
    "          , driver.find_element(By.XPATH , '//*[@id=\"rank_holder\"]/ul/li[{}]/span'.format(idx+1)).text)\n",
    "    \n",
    "    for movie in driver.find_elements(By.XPATH , '//*[@id=\"rank_holder\"]/ul/li[{}]/ul[2]/li'.format(idx+1)) : \n",
    "        print('영화 : ' , movie.text)\n",
    "    \n",
    "    \n",
    "    \n",
    "# driver.find_element(By.XPATH , '//*[@id=\"rank_holder\"]/div/div/a[2]').click()\n"
   ]
  },
  {
   "cell_type": "code",
   "execution_count": null,
   "id": "a82f5e3c",
   "metadata": {},
   "outputs": [],
   "source": [
    "# 배우 링크 클릭시 내부에 상세 정보들을 가져올 수 있다.\n",
    "# .click()\n",
    "# 뒤로가기 \n",
    "# driver.back()"
   ]
  },
  {
   "cell_type": "code",
   "execution_count": null,
   "id": "02b22574",
   "metadata": {},
   "outputs": [],
   "source": [
    "print('case04 - selenium xpath 추출')\n",
    "print('상세정보를 가져오기 위한 click()')\n",
    "print('배우 이름, 흥행 지수 , 출연 영화')\n",
    "print('배우의 실명 , 직업 , 생년월일 , 성별 , 홈페이지 ,신장 및 체중 , 학교 , 취미')"
   ]
  },
  {
   "cell_type": "code",
   "execution_count": null,
   "id": "0ba3cafd",
   "metadata": {},
   "outputs": [],
   "source": []
  },
  {
   "cell_type": "code",
   "execution_count": null,
   "id": "a7163421",
   "metadata": {},
   "outputs": [],
   "source": [
    "people_lst = driver.find_elements(By.XPATH , '//*[@id=\"rank_holder\"]/ul/li')\n"
   ]
  },
  {
   "cell_type": "code",
   "execution_count": null,
   "id": "184de9f3",
   "metadata": {},
   "outputs": [],
   "source": [
    "//*[@id=\"rank_holder\"]/ul/li[1]/a\n",
    "//*[@id=\"rank_holder\"]/ul/li[1]/a/img"
   ]
  },
  {
   "cell_type": "code",
   "execution_count": 54,
   "id": "2bb38ffd",
   "metadata": {},
   "outputs": [
    {
     "name": "stdout",
     "output_type": "stream",
     "text": [
      "<selenium.webdriver.remote.webelement.WebElement (session=\"894466f77df8a560069da7225e52ba9f\", element=\"76c843d2-4450-43e9-b924-ef1df7e00a53\")>\n",
      "<selenium.webdriver.remote.webelement.WebElement (session=\"894466f77df8a560069da7225e52ba9f\", element=\"12fce9f9-1c04-473a-9be3-b3e36fe7f1a8\")>\n",
      "<selenium.webdriver.remote.webelement.WebElement (session=\"894466f77df8a560069da7225e52ba9f\", element=\"afd61db6-3d83-406f-9d7b-26cae878dd0a\")>\n",
      "<selenium.webdriver.remote.webelement.WebElement (session=\"894466f77df8a560069da7225e52ba9f\", element=\"e3aeaec3-307d-4507-ac0d-86dacb0fd84d\")>\n",
      "<selenium.webdriver.remote.webelement.WebElement (session=\"894466f77df8a560069da7225e52ba9f\", element=\"041b5c88-5f61-41a6-993d-577596d48094\")>\n",
      "<selenium.webdriver.remote.webelement.WebElement (session=\"894466f77df8a560069da7225e52ba9f\", element=\"2f10b0e1-77d5-4273-a91f-e34ace11938f\")>\n",
      "<selenium.webdriver.remote.webelement.WebElement (session=\"894466f77df8a560069da7225e52ba9f\", element=\"1a1b6de9-e4bb-4504-9329-0103e2fbcf09\")>\n"
     ]
    }
   ],
   "source": [
    "for idx in range(len(people_lst)) :\n",
    "    print(driver.find_element(By.XPATH , f'//*[@id=\"rank_holder\"]/ul/li[{idx+1}]/a/img' ))"
   ]
  },
  {
   "cell_type": "code",
   "execution_count": null,
   "id": "a22edcb1",
   "metadata": {},
   "outputs": [],
   "source": []
  },
  {
   "cell_type": "code",
   "execution_count": 134,
   "id": "db9ebf8f",
   "metadata": {
    "collapsed": true
   },
   "outputs": [
    {
     "name": "stdout",
     "output_type": "stream",
     "text": [
      "배우 이름  :  류준열\n",
      "흥행 지수 :  69,778\n",
      "순위 :  1\n",
      "영화 :   올빼미  리틀 포레스트  더 킹\n",
      "직업 : 배우\n",
      "생년월일 : 1986-09-25\n",
      "성별 : 남\n",
      "홈페이지 :  https://www.instagram.com/ryusdb/\n",
      "------------------------------------------------------------\n",
      "배우 이름  :  유해진\n",
      "흥행 지수 :  63,623\n",
      "순위 :  2\n",
      "영화 :   올빼미  공조2: 인터내셔날\n",
      "다른 이름 : YOO HAI JIN\n",
      "직업 : 배우\n",
      "생년월일 : 1970-01-04\n",
      "성별 : 남\n",
      "신장/체중 : 174cm, 65kg\n",
      "학교 : 서울예술대학 연극과\n",
      "소속사 : 심엔터테인먼트\n",
      "------------------------------------------------------------\n",
      "배우 이름  :  소지섭\n",
      "흥행 지수 :  57,190\n",
      "순위 :  3\n",
      "영화 :   자백\n",
      "직업 : 배우\n",
      "생년월일 : 1977-11-04\n",
      "성별 : 남\n",
      "홈페이지 :  http://www.sojisub.com/\n",
      "신장/체중 : 182cm, 70kg\n",
      "학교 : 청운대 방송연기학 학사\n",
      "취미 : 각종 운동, 음악 감상, 영화 감상\n",
      "특기 : 수영\n",
      "소속사 : 피프티원케이\n",
      "------------------------------------------------------------\n",
      "배우 이름  :  최무성\n",
      "흥행 지수 :  52,474\n",
      "순위 :  4\n",
      "영화 :   올빼미  탄생\n",
      "다른 이름 : CHOI Moo-sung;최명수;CHOI Myung-soo\n",
      "직업 : 배우\n",
      "생년월일 : 1968-01-12\n",
      "성별 : 남\n",
      "------------------------------------------------------------\n",
      "배우 이름  :  김래원\n",
      "흥행 지수 :  51,745\n",
      "순위 :  5\n",
      "영화 :   데시벨\n",
      "다른 이름 : Kim Rae-Won\n",
      "직업 : 배우\n",
      "생년월일 : 1981-03-19\n",
      "성별 : 남\n",
      "홈페이지 :  https://twitter.com/krw810319\n",
      "신장/체중 : 183cm, 67kg\n",
      "학교 : 중앙대 연극영화\n",
      "취미 : 낚시\n",
      "특기 : 농구, 스노우보드\n",
      "------------------------------------------------------------\n",
      "배우 이름  :  여진구\n",
      "흥행 지수 :  48,516\n",
      "순위 :  6\n",
      "영화 :   동감\n",
      "직업 : 배우\n",
      "생년월일 : 1997-08-13\n",
      "성별 : 남\n",
      "홈페이지 :  http://www.jingooyeo.com\n",
      "https://www.instagram.com/yeojin9oo/\n",
      "신장/체중 : 177cm\n",
      "학교 : 신림중,남강고등\n",
      "취미 : 수영, 승마\n",
      "소속사 : 제이너스 엔터테인먼트\n",
      "------------------------------------------------------------\n",
      "배우 이름  :  이종석\n",
      "흥행 지수 :  45,995\n",
      "순위 :  7\n",
      "영화 :   데시벨\n",
      "직업 : 배우\n",
      "생년월일 : 1989-09-14\n",
      "성별 : 남\n",
      "홈페이지 :  https://www.instagram.com/jongsuk0206/\n",
      "신장/체중 : 185cm, 65kg\n",
      "취미 : 게임, 농구\n",
      "특기 : 태권도 4단, 노래\n",
      "------------------------------------------------------------\n",
      "배우 이름  :  조성하\n",
      "흥행 지수 :  43,606\n",
      "순위 :  8\n",
      "영화 :   올빼미  거래완료\n",
      "다른 이름 : 조성권; CHO Seong-ha\n",
      "직업 : 배우\n",
      "생년월일 : 1966-08-08\n",
      "성별 : 남\n",
      "홈페이지 :  https://twitter.com/actorchoseongha\n",
      "https://www.facebook.com/people/%EC%A1%B0%EC%84%B1%ED%95%98/100001871227924\n",
      "------------------------------------------------------------\n",
      "배우 이름  :  김윤진\n",
      "흥행 지수 :  42,896\n",
      "순위 :  9\n",
      "영화 :   자백  국제시장\n",
      "다른 이름 : Kim Yun Jin; Kim Yun-Jin\n",
      "직업 : 배우\n",
      "생년월일 : 1973-11-07\n",
      "성별 : 여\n",
      "홈페이지 :  https://www.yunjinkim.co.kr:9023/profile/\n",
      "신장/체중 : 168cm, 48kg\n",
      "학교 : 보스턴대 공연예술학\n",
      "취미 : 음악감상, 여행\n",
      "특기 : 발레, 재즈무용\n",
      "소속사 : 자이온 이엔티(주)\n",
      "------------------------------------------------------------\n",
      "배우 이름  :  정상훈\n",
      "흥행 지수 :  40,246\n",
      "순위 :  10\n",
      "영화 :   데시벨\n",
      "다른 이름 : 정상\n",
      "직업 : 배우\n",
      "생년월일 : 1976-09-09\n",
      "성별 : 남\n",
      "홈페이지 :  https://twitter.com/jj3274\n",
      "https://ko-kr.facebook.com/people/%EC%A0%95%EC%83%81%ED%9B%88/100002543037617\n",
      "https://instagram.com/jjsshh0909/\n",
      "신장/체중 : 176cm, 70kg\n",
      "학교 : 서울예술대학 방송연예과\n",
      "------------------------------------------------------------\n",
      "배우 이름  :  조이현\n",
      "흥행 지수 :  38,813\n",
      "순위 :  11\n",
      "영화 :   동감\n",
      "직업 : 배우\n",
      "생년월일 : 1999-12-08\n",
      "성별 : 여\n",
      "홈페이지 :  http://www.artistcompany.co.kr/portfolio-item/cho-yi-hyun/\n",
      "소속사 : 아티스트컴퍼니\n",
      "------------------------------------------------------------\n",
      "배우 이름  :  박명훈\n",
      "흥행 지수 :  34,962\n",
      "순위 :  12\n",
      "영화 :   올빼미  리미트  기생충\n",
      "직업 : 배우\n",
      "생년월일 : 1975-05-28\n",
      "성별 : 남\n",
      "------------------------------------------------------------\n",
      "배우 이름  :  박병은\n",
      "흥행 지수 :  34,498\n",
      "순위 :  13\n",
      "영화 :   데시벨  이상한 나라의 수학자\n",
      "직업 : 배우\n",
      "생년월일 : 1977-00-00\n",
      "성별 : 남\n",
      "------------------------------------------------------------\n",
      "배우 이름  :  이성민\n",
      "흥행 지수 :  32,109\n",
      "순위 :  14\n",
      "영화 :   리멤버  기적  변호인\n",
      "직업 : 배우\n",
      "생년월일 : 1968-10-15\n",
      "성별 : 남\n",
      "신장/체중 : 178cm\n",
      "------------------------------------------------------------\n"
     ]
    }
   ],
   "source": [
    "\n",
    "# //*[@id=\"rank_holder\"]/div/div/a[1]\n",
    "# driver.find_element(By.XPATH , '//*[@id=\"rank_holder\"]/div/div/a[1]').click()\n",
    "\n",
    "pages = [1,2]\n",
    "\n",
    "for page in pages :\n",
    "    driver.find_element(By.XPATH , f'//*[@id=\"rank_holder\"]/div/div/a[{page}]').click()\n",
    "    sleep(1)\n",
    "    for idx in range(len(people_lst)) :\n",
    "        print('배우 이름  : ' \n",
    "              , re.sub('\\(\\w*\\)','',driver.find_element(By.XPATH , '//*[@id=\"rank_holder\"]/ul/li[{}]/div/a'.format(idx+1)).text))\n",
    "\n",
    "        print('흥행 지수 : ' \n",
    "              , driver.find_element(By.XPATH , '//*[@id=\"rank_holder\"]/ul/li[{}]/ul[1]/li/strong'.format(idx+1)).text)\n",
    "\n",
    "        print('순위 : ' \n",
    "              , driver.find_element(By.XPATH , '//*[@id=\"rank_holder\"]/ul/li[{}]/span'.format(idx+1)).text)\n",
    "        lst_movie = []\n",
    "        for movie in driver.find_elements(By.XPATH , '//*[@id=\"rank_holder\"]/ul/li[{}]/ul[2]/li'.format(idx+1)) : \n",
    "            lst_movie.append(movie.text)\n",
    "        print('영화 : ' , end = '')\n",
    "        for cnt in lst_movie :\n",
    "            print(' ' , cnt , end = '')\n",
    "\n",
    "        print()\n",
    "\n",
    "\n",
    "        # insert page - person\n",
    "        driver.find_element(By.XPATH , f'//*[@id=\"rank_holder\"]/ul/li[{idx+1}]/a/img' ).click()\n",
    "\n",
    "        basic_info = driver.find_elements(By.XPATH , '//*[@id=\"info_content\"]/div[1]/ul/li/span' )\n",
    "        information = driver.find_elements(By.XPATH , '//*[@id=\"info_content\"]/div[1]/ul/li' )\n",
    "\n",
    "        for basic , info in zip(basic_info , information):\n",
    "            print(basic.text , ': ' , end = '')\n",
    "            print(re.sub(f'{basic.text}' ,'',info.text))\n",
    "\n",
    "        # out page - person\n",
    "        print('-' * 60)\n",
    "        driver.back()\n",
    "    # sleep(1)\n",
    "    #driver.find_element(By.XPATH , f'//*[@id=\"rank_holder\"]/div/div/a[{page}]').click()\n",
    "    "
   ]
  },
  {
   "cell_type": "code",
   "execution_count": 94,
   "id": "fa91cd23",
   "metadata": {
    "scrolled": true
   },
   "outputs": [
    {
     "name": "stdout",
     "output_type": "stream",
     "text": [
      "직업\n",
      "생년월일\n",
      "성별\n",
      "홈페이지\n"
     ]
    }
   ],
   "source": [
    "for i in driver.find_elements(By.XPATH , '//*[@id=\"info_content\"]/div[1]/ul/li/span' ) :\n",
    "    print(i.text)"
   ]
  },
  {
   "cell_type": "code",
   "execution_count": null,
   "id": "33532beb",
   "metadata": {},
   "outputs": [],
   "source": [
    "//*[@id=\"info_content\"]/div[1]"
   ]
  },
  {
   "cell_type": "code",
   "execution_count": 108,
   "id": "0789faa4",
   "metadata": {},
   "outputs": [
    {
     "name": "stdout",
     "output_type": "stream",
     "text": [
      "직업 : 배우\n",
      "생년월일 : 1986-09-25\n",
      "성별 : 남\n",
      "홈페이지 :  https://www.instagram.com/ryusdb/\n"
     ]
    }
   ],
   "source": [
    "basic_info = driver.find_elements(By.XPATH , '//*[@id=\"info_content\"]/div[1]/ul/li/span' )\n",
    "information = driver.find_elements(By.XPATH , '//*[@id=\"info_content\"]/div[1]/ul/li' )\n",
    "\n",
    "for basic , info in zip(basic_info , information):\n",
    "    print(basic.text , ': ' , end = '')\n",
    "    print(re.sub(f'{basic.text}' ,'',info.text))\n",
    "    "
   ]
  },
  {
   "cell_type": "code",
   "execution_count": 121,
   "id": "a609924d",
   "metadata": {},
   "outputs": [],
   "source": [
    "from time import sleep, time\n",
    "from random import randint \n",
    "from IPython.core.display import clear_output"
   ]
  },
  {
   "cell_type": "code",
   "execution_count": 122,
   "id": "30baefab",
   "metadata": {},
   "outputs": [],
   "source": [
    "for i in [1,2,3] :\n",
    "    driver.find_element(By.XPATH , f'//*[@id=\"rank_holder\"]/div/div/a[{i}]').click()\n",
    "    sleep(0.5)"
   ]
  },
  {
   "cell_type": "code",
   "execution_count": 135,
   "id": "b2fdc549",
   "metadata": {},
   "outputs": [
    {
     "ename": "NameError",
     "evalue": "name 'name' is not defined",
     "output_type": "error",
     "traceback": [
      "\u001b[1;31m---------------------------------------------------------------------------\u001b[0m",
      "\u001b[1;31mNameError\u001b[0m                                 Traceback (most recent call last)",
      "Input \u001b[1;32mIn [135]\u001b[0m, in \u001b[0;36m<cell line: 1>\u001b[1;34m()\u001b[0m\n\u001b[1;32m----> 1\u001b[0m \u001b[38;5;28mprint\u001b[39m(re\u001b[38;5;241m.\u001b[39msub(\u001b[38;5;124m'\u001b[39m\u001b[38;5;124m\\\u001b[39m\u001b[38;5;124m(\u001b[39m\u001b[38;5;124m\\\u001b[39m\u001b[38;5;124mw*\u001b[39m\u001b[38;5;124m\\\u001b[39m\u001b[38;5;124m)\u001b[39m\u001b[38;5;124m'\u001b[39m,\u001b[38;5;124m'\u001b[39m\u001b[38;5;124m'\u001b[39m,\u001b[43mname\u001b[49m\u001b[38;5;241m.\u001b[39mtext))\n",
      "\u001b[1;31mNameError\u001b[0m: name 'name' is not defined"
     ]
    }
   ],
   "source": []
  },
  {
   "cell_type": "markdown",
   "id": "8668256f",
   "metadata": {},
   "source": [
    "## 일동제약 크롤링\n"
   ]
  },
  {
   "cell_type": "code",
   "execution_count": 137,
   "id": "a21f22bd",
   "metadata": {},
   "outputs": [],
   "source": [
    "ildong_path = 'C:/Users/PiGiraffe0/Documents/SQL/diver/chromedriver.exe'\n",
    "ildong = webdriver.Chrome(ildong_path)\n",
    "ildong.get('https://www.ildong.com/kor/product/list.id?page=1&halt=&prdDisease=&prdCategory=&searchVal=&searchOption=0')\n"
   ]
  },
  {
   "cell_type": "code",
   "execution_count": 167,
   "id": "c2bc6891",
   "metadata": {},
   "outputs": [],
   "source": [
    "# //*[@id=\"contents\"]/div[2]/div[2]/div[2]/div[1]/ul/li[1]/a\n",
    "# //*[@id=\"contents\"]/div[2]/div[2]/div[2]/div[1]/ul/li[2]/a\n",
    "\n",
    "# insert page\n",
    "ildong.find_element(By.XPATH , '//*[@id=\"contents\"]/div[2]/div[2]/div[2]/div[1]/ul/li[3]/a').click()\n",
    "\n",
    "# out page\n",
    "ildong.back()\n",
    "\n",
    "# next page\n",
    "ildong.find_element(By.XPATH , '//*[@id=\"contents\"]/div[2]/div[2]/div[2]/div[2]/a[3]').click()"
   ]
  },
  {
   "cell_type": "code",
   "execution_count": 187,
   "id": "ed02f08e",
   "metadata": {},
   "outputs": [
    {
     "ename": "NoSuchElementException",
     "evalue": "Message: no such element: Unable to locate element: {\"method\":\"xpath\",\"selector\":\"//*[@id=\"contents\"]/div[2]/div[2]/div[2]/div[1]/ul/li[0]/a\"}\n  (Session info: chrome=108.0.5359.72)\nStacktrace:\nBacktrace:\n\t(No symbol) [0x005CF243]\n\t(No symbol) [0x00557FD1]\n\t(No symbol) [0x0044D04D]\n\t(No symbol) [0x0047C0B0]\n\t(No symbol) [0x0047C22B]\n\t(No symbol) [0x004AE612]\n\t(No symbol) [0x004985D4]\n\t(No symbol) [0x004AC9EB]\n\t(No symbol) [0x00498386]\n\t(No symbol) [0x0047163C]\n\t(No symbol) [0x0047269D]\n\tGetHandleVerifier [0x00869A22+2655074]\n\tGetHandleVerifier [0x0085CA24+2601828]\n\tGetHandleVerifier [0x00678C0A+619850]\n\tGetHandleVerifier [0x00677830+614768]\n\t(No symbol) [0x005605FC]\n\t(No symbol) [0x00565968]\n\t(No symbol) [0x00565A55]\n\t(No symbol) [0x0057051B]\n\tBaseThreadInitThunk [0x76DBFEF9+25]\n\tRtlGetAppContainerNamedObjectPath [0x77A87BBE+286]\n\tRtlGetAppContainerNamedObjectPath [0x77A87B8E+238]\n",
     "output_type": "error",
     "traceback": [
      "\u001b[1;31m---------------------------------------------------------------------------\u001b[0m",
      "\u001b[1;31mNoSuchElementException\u001b[0m                    Traceback (most recent call last)",
      "Input \u001b[1;32mIn [187]\u001b[0m, in \u001b[0;36m<cell line: 3>\u001b[1;34m()\u001b[0m\n\u001b[0;32m      5\u001b[0m sleep(\u001b[38;5;241m1\u001b[39m)\n\u001b[0;32m      6\u001b[0m \u001b[38;5;28;01mfor\u001b[39;00m cnt \u001b[38;5;129;01min\u001b[39;00m \u001b[38;5;28mrange\u001b[39m(\u001b[38;5;28mlen\u001b[39m(ildong\u001b[38;5;241m.\u001b[39mfind_elements(By\u001b[38;5;241m.\u001b[39mXPATH , \u001b[38;5;124m'\u001b[39m\u001b[38;5;124m//*[@id=\u001b[39m\u001b[38;5;124m\"\u001b[39m\u001b[38;5;124mcontents\u001b[39m\u001b[38;5;124m\"\u001b[39m\u001b[38;5;124m]/div[2]/div[2]/div[2]/div[1]/ul/li\u001b[39m\u001b[38;5;124m'\u001b[39m))) :\n\u001b[0;32m      7\u001b[0m     \u001b[38;5;66;03m# insert page\u001b[39;00m\n\u001b[1;32m----> 8\u001b[0m     \u001b[43mildong\u001b[49m\u001b[38;5;241;43m.\u001b[39;49m\u001b[43mfind_element\u001b[49m\u001b[43m(\u001b[49m\u001b[43mBy\u001b[49m\u001b[38;5;241;43m.\u001b[39;49m\u001b[43mXPATH\u001b[49m\u001b[43m \u001b[49m\u001b[43m,\u001b[49m\u001b[43m \u001b[49m\u001b[38;5;124;43mf\u001b[39;49m\u001b[38;5;124;43m'\u001b[39;49m\u001b[38;5;124;43m//*[@id=\u001b[39;49m\u001b[38;5;124;43m\"\u001b[39;49m\u001b[38;5;124;43mcontents\u001b[39;49m\u001b[38;5;124;43m\"\u001b[39;49m\u001b[38;5;124;43m]/div[2]/div[2]/div[2]/div[1]/ul/li[\u001b[39;49m\u001b[38;5;132;43;01m{\u001b[39;49;00m\u001b[43mcnt\u001b[49m\u001b[38;5;132;43;01m}\u001b[39;49;00m\u001b[38;5;124;43m]/a\u001b[39;49m\u001b[38;5;124;43m'\u001b[39;49m\u001b[43m)\u001b[49m\u001b[38;5;241m.\u001b[39mclick()\n\u001b[0;32m     10\u001b[0m     \u001b[38;5;66;03m# out page\u001b[39;00m\n\u001b[0;32m     11\u001b[0m     ildong\u001b[38;5;241m.\u001b[39mback()\n",
      "File \u001b[1;32mD:\\anaconda3\\lib\\site-packages\\selenium\\webdriver\\remote\\webdriver.py:861\u001b[0m, in \u001b[0;36mWebDriver.find_element\u001b[1;34m(self, by, value)\u001b[0m\n\u001b[0;32m    858\u001b[0m     by \u001b[38;5;241m=\u001b[39m By\u001b[38;5;241m.\u001b[39mCSS_SELECTOR\n\u001b[0;32m    859\u001b[0m     value \u001b[38;5;241m=\u001b[39m \u001b[38;5;124m'\u001b[39m\u001b[38;5;124m[name=\u001b[39m\u001b[38;5;124m\"\u001b[39m\u001b[38;5;132;01m%s\u001b[39;00m\u001b[38;5;124m\"\u001b[39m\u001b[38;5;124m]\u001b[39m\u001b[38;5;124m'\u001b[39m \u001b[38;5;241m%\u001b[39m value\n\u001b[1;32m--> 861\u001b[0m \u001b[38;5;28;01mreturn\u001b[39;00m \u001b[38;5;28;43mself\u001b[39;49m\u001b[38;5;241;43m.\u001b[39;49m\u001b[43mexecute\u001b[49m\u001b[43m(\u001b[49m\u001b[43mCommand\u001b[49m\u001b[38;5;241;43m.\u001b[39;49m\u001b[43mFIND_ELEMENT\u001b[49m\u001b[43m,\u001b[49m\u001b[43m \u001b[49m\u001b[43m{\u001b[49m\u001b[38;5;124;43m\"\u001b[39;49m\u001b[38;5;124;43musing\u001b[39;49m\u001b[38;5;124;43m\"\u001b[39;49m\u001b[43m:\u001b[49m\u001b[43m \u001b[49m\u001b[43mby\u001b[49m\u001b[43m,\u001b[49m\u001b[43m \u001b[49m\u001b[38;5;124;43m\"\u001b[39;49m\u001b[38;5;124;43mvalue\u001b[39;49m\u001b[38;5;124;43m\"\u001b[39;49m\u001b[43m:\u001b[49m\u001b[43m \u001b[49m\u001b[43mvalue\u001b[49m\u001b[43m}\u001b[49m\u001b[43m)\u001b[49m[\u001b[38;5;124m\"\u001b[39m\u001b[38;5;124mvalue\u001b[39m\u001b[38;5;124m\"\u001b[39m]\n",
      "File \u001b[1;32mD:\\anaconda3\\lib\\site-packages\\selenium\\webdriver\\remote\\webdriver.py:444\u001b[0m, in \u001b[0;36mWebDriver.execute\u001b[1;34m(self, driver_command, params)\u001b[0m\n\u001b[0;32m    442\u001b[0m response \u001b[38;5;241m=\u001b[39m \u001b[38;5;28mself\u001b[39m\u001b[38;5;241m.\u001b[39mcommand_executor\u001b[38;5;241m.\u001b[39mexecute(driver_command, params)\n\u001b[0;32m    443\u001b[0m \u001b[38;5;28;01mif\u001b[39;00m response:\n\u001b[1;32m--> 444\u001b[0m     \u001b[38;5;28;43mself\u001b[39;49m\u001b[38;5;241;43m.\u001b[39;49m\u001b[43merror_handler\u001b[49m\u001b[38;5;241;43m.\u001b[39;49m\u001b[43mcheck_response\u001b[49m\u001b[43m(\u001b[49m\u001b[43mresponse\u001b[49m\u001b[43m)\u001b[49m\n\u001b[0;32m    445\u001b[0m     response[\u001b[38;5;124m\"\u001b[39m\u001b[38;5;124mvalue\u001b[39m\u001b[38;5;124m\"\u001b[39m] \u001b[38;5;241m=\u001b[39m \u001b[38;5;28mself\u001b[39m\u001b[38;5;241m.\u001b[39m_unwrap_value(response\u001b[38;5;241m.\u001b[39mget(\u001b[38;5;124m\"\u001b[39m\u001b[38;5;124mvalue\u001b[39m\u001b[38;5;124m\"\u001b[39m, \u001b[38;5;28;01mNone\u001b[39;00m))\n\u001b[0;32m    446\u001b[0m     \u001b[38;5;28;01mreturn\u001b[39;00m response\n",
      "File \u001b[1;32mD:\\anaconda3\\lib\\site-packages\\selenium\\webdriver\\remote\\errorhandler.py:249\u001b[0m, in \u001b[0;36mErrorHandler.check_response\u001b[1;34m(self, response)\u001b[0m\n\u001b[0;32m    247\u001b[0m         alert_text \u001b[38;5;241m=\u001b[39m value[\u001b[38;5;124m\"\u001b[39m\u001b[38;5;124malert\u001b[39m\u001b[38;5;124m\"\u001b[39m]\u001b[38;5;241m.\u001b[39mget(\u001b[38;5;124m\"\u001b[39m\u001b[38;5;124mtext\u001b[39m\u001b[38;5;124m\"\u001b[39m)\n\u001b[0;32m    248\u001b[0m     \u001b[38;5;28;01mraise\u001b[39;00m exception_class(message, screen, stacktrace, alert_text)  \u001b[38;5;66;03m# type: ignore[call-arg]  # mypy is not smart enough here\u001b[39;00m\n\u001b[1;32m--> 249\u001b[0m \u001b[38;5;28;01mraise\u001b[39;00m exception_class(message, screen, stacktrace)\n",
      "\u001b[1;31mNoSuchElementException\u001b[0m: Message: no such element: Unable to locate element: {\"method\":\"xpath\",\"selector\":\"//*[@id=\"contents\"]/div[2]/div[2]/div[2]/div[1]/ul/li[0]/a\"}\n  (Session info: chrome=108.0.5359.72)\nStacktrace:\nBacktrace:\n\t(No symbol) [0x005CF243]\n\t(No symbol) [0x00557FD1]\n\t(No symbol) [0x0044D04D]\n\t(No symbol) [0x0047C0B0]\n\t(No symbol) [0x0047C22B]\n\t(No symbol) [0x004AE612]\n\t(No symbol) [0x004985D4]\n\t(No symbol) [0x004AC9EB]\n\t(No symbol) [0x00498386]\n\t(No symbol) [0x0047163C]\n\t(No symbol) [0x0047269D]\n\tGetHandleVerifier [0x00869A22+2655074]\n\tGetHandleVerifier [0x0085CA24+2601828]\n\tGetHandleVerifier [0x00678C0A+619850]\n\tGetHandleVerifier [0x00677830+614768]\n\t(No symbol) [0x005605FC]\n\t(No symbol) [0x00565968]\n\t(No symbol) [0x00565A55]\n\t(No symbol) [0x0057051B]\n\tBaseThreadInitThunk [0x76DBFEF9+25]\n\tRtlGetAppContainerNamedObjectPath [0x77A87BBE+286]\n\tRtlGetAppContainerNamedObjectPath [0x77A87B8E+238]\n"
     ]
    }
   ],
   "source": [
    "pages = range(2)\n",
    "\n",
    "for page in pages :\n",
    "    ildong.find_element(By.XPATH , '//*[@id=\"contents\"]/div[2]/div[2]/div[2]/div[2]/a[3]').click()\n",
    "    sleep(1)\n",
    "    for cnt in range(len(ildong.find_elements(By.XPATH , '//*[@id=\"contents\"]/div[2]/div[2]/div[2]/div[1]/ul/li'))) :\n",
    "        # insert page\n",
    "        ildong.find_element(By.XPATH , f'//*[@id=\"contents\"]/div[2]/div[2]/div[2]/div[1]/ul/li[{cnt}]/a').click()\n",
    "        sleep(0.5)\n",
    "        # out page\n",
    "        ildong.back()"
   ]
  },
  {
   "cell_type": "code",
   "execution_count": null,
   "id": "175af697",
   "metadata": {},
   "outputs": [],
   "source": [
    "# '제품 특징' \n",
    "//*[@id=\"contents\"]/div[2]/div[2]/div[3]/div[1]/div[2]/p[1]\n",
    "# 제품 특징\n",
    "//*[@id=\"contents\"]/div[2]/div[2]/div[3]/div[1]/div[2]/p[3]\n",
    "# 제품 이름\n",
    "//*[@id=\"contents\"]/div[2]/div[2]/div[1]/div[2]/div[1]/h4/strong[2]"
   ]
  },
  {
   "cell_type": "code",
   "execution_count": 184,
   "id": "adaa67a2",
   "metadata": {},
   "outputs": [
    {
     "name": "stdout",
     "output_type": "stream",
     "text": [
      "마이니 간에다밀크씨슬\n",
      "\n",
      "제품특징\n",
      "\n",
      "간건강에 도움을 주는 밀크씨슬\n",
      "지친 간을 위한 자연의 선물, 밀크씨슬\n",
      "※본 제품은 질병의 예방 및 치료를 위한 의약품이 아니며 인체에 유용한 기능성을 가진 원료나 성분을 사용하여 제조·가공한 건강기능식품입니다.\n"
     ]
    }
   ],
   "source": [
    "print(ildong.find_element(By.XPATH , '//*[@id=\"contents\"]/div[2]/div[2]/div[1]/div[2]/div[1]/h4/strong[2]').text)\n",
    "print()\n",
    "print(ildong.find_element(By.XPATH , '//*[@id=\"contents\"]/div[2]/div[2]/div[3]/div[1]/div[2]/p[1]').text)\n",
    "print()\n",
    "print(ildong.find_element(By.XPATH , '//*[@id=\"contents\"]/div[2]/div[2]/div[3]/div[1]/div[2]/p[3]').text)"
   ]
  }
 ],
 "metadata": {
  "kernelspec": {
   "display_name": "Python 3 (ipykernel)",
   "language": "python",
   "name": "python3"
  },
  "language_info": {
   "codemirror_mode": {
    "name": "ipython",
    "version": 3
   },
   "file_extension": ".py",
   "mimetype": "text/x-python",
   "name": "python",
   "nbconvert_exporter": "python",
   "pygments_lexer": "ipython3",
   "version": "3.9.13"
  }
 },
 "nbformat": 4,
 "nbformat_minor": 5
}
