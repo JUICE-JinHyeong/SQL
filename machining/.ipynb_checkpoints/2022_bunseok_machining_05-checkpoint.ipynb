{
 "cells": [
  {
   "cell_type": "code",
   "execution_count": null,
   "metadata": {
    "id": "1cAc1uOz_YVI"
   },
   "outputs": [],
   "source": []
  },
  {
   "cell_type": "markdown",
   "metadata": {
    "id": "kKcpXC0HDnGW"
   },
   "source": [
    "#### TensorFlow 구글에서 제공하는 오픈소스 머신러닝 플랫폼\n",
    "- API\n",
    "- 인공신경망(ANN)(지도 , 비지도)\n",
    "- input_layer -- hidden_layer -- output_layer\n",
    "- MLP(Multi Layer Perceptron)\n",
    "- CNN(합성곱) , RNN(순환)\n",
    "\n",
    "\n"
   ]
  },
  {
   "cell_type": "code",
   "execution_count": null,
   "metadata": {
    "id": "lZm4V-zGFOBd"
   },
   "outputs": [],
   "source": [
    "# TensorFlow 내부에서 케라스를 사용한다.\n",
    "\n",
    "import tensorflow as tf\n",
    "from tensorflow.keras.models import Sequential\n",
    "from tensorflow.keras.layers import Dense , Activation\n",
    "\n",
    "import numpy as np\n",
    "import pandas as pd\n",
    "\n",
    "print('Neural Network(NN) 구성 - ')\n",
    "print('손실함수(lost function) , 옵티마이저(optimizer)')\n",
    "print('손실함수 - NN 예측이 얼마나 잘 맞는지 측정하는 역할')\n",
    "print('옵티마이저 - 알고리즘(예측값을 개선할 수 있도록 최적화된 계산을 하는 것)')\n",
    "print()\n",
    "\n",
    "# y = 2x - 1\n",
    "\n",
    "X = np.array([-1.0 , 0.0 , 1.0 , 2.0 , 3.0 , 4.0] , dtype = float)\n",
    "y = np.array([3.0 , -1.0 , 1.0 , 3.0 , 5.0 , 7.0] , dtype = float)\n",
    "\n",
    "\n",
    "# 모델 생성\n",
    "model = Sequential()\n",
    "\n",
    "# 입력층 추가\n",
    "# Dense : output 노드 n개 생성\n",
    "# input_shape[] : input 노드 개수\n",
    "print('입력층')\n",
    "model.add(Dense(units = 1 , input_shape=[1]))\n",
    "\n",
    "# 손실함수 추가(활성화 함수 - 0.5 미만이면 버리고 05 이상이면 가져가는 이진분류 함수)\n",
    "# 손실함수는 각각의 모델에 모두 필요하다.\n",
    "# model.add(Activation('sigmoid'))\n",
    "\n",
    "# 히든층 추가 input_shape이 존재하지 않음\n",
    "# print('히든층')\n",
    "# model.add(Dense(units = 1 ))\n",
    "# model.add(Activation('sigmoid'))\n",
    "\n",
    "# model.add(Dense(units = 1 ))\n",
    "# model.add(Activation('sigmoid'))\n",
    "\n",
    "# model.add(Dense(units = 1 ))\n",
    "# model.add(Activation('sigmoid'))\n",
    "\n",
    "# model.add(Dense(units = 1 ))\n",
    "# model.add(Activation('sigmoid'))\n",
    "\n",
    "# print('출력층')\n",
    "# model.add(Dense(units = 1 ))\n",
    "\n",
    "# 컴파일이 끝나야 학습이 이루어진다.\n",
    "# accuracy : 분류 모델\n",
    "# mean_squared_error : 회귀 모델\n",
    "\n",
    "model.compile(loss = 'mean_squared_error', optimizer='sgd')\n",
    "\n",
    "# epochs = 500 훈련 횟수 5백번\n",
    "# 학습이 epochs만큼 일어난다.\n",
    "\n",
    "model.fit(X , y , epochs = 500)\n",
    "\n",
    "print('학습된 모델로부터 예측 값 - ')\n",
    "y_predict = model.predict([5,0])\n",
    "print('model guess - ' , y_predict)\n",
    "# model.predict()\n",
    "\n",
    "\n"
   ]
  },
  {
   "cell_type": "code",
   "execution_count": 19,
   "metadata": {
    "colab": {
     "base_uri": "https://localhost:8080/"
    },
    "id": "8ZRFe4l7FT21",
    "outputId": "f3e1f3d0-4abd-46f4-c981-08cc38833ea3"
   },
   "outputs": [
    {
     "name": "stdout",
     "output_type": "stream",
     "text": [
      "학습된 모델로부터 예측 값 - \n",
      "1/1 [==============================] - 0s 50ms/step\n",
      "model guess -  [[7.06481   7.074926  7.06044  ]\n",
      " [1.1799427 1.1634351 1.1870725]]\n"
     ]
    }
   ],
   "source": [
    "print('학습된 모델로부터 예측 값 - ')\n",
    "y_predict = model.predict([5,0])\n",
    "print('model guess - ' , y_predict)"
   ]
  },
  {
   "cell_type": "code",
   "execution_count": 22,
   "metadata": {
    "colab": {
     "base_uri": "https://localhost:8080/"
    },
    "id": "4UQtTNoSFUis",
    "outputId": "05907414-0925-4b29-deca-cc09b75a3d67"
   },
   "outputs": [
    {
     "name": "stdout",
     "output_type": "stream",
     "text": [
      "1/1 [==============================] - 0s 44ms/step\n",
      "model guess -  [[0. 0. 0.]]\n",
      "손실값 - evaluate()\n",
      "1/1 [==============================] - 0s 96ms/step - loss: 0.3333\n"
     ]
    },
    {
     "data": {
      "text/plain": [
       "0.3333333432674408"
      ]
     },
     "execution_count": 22,
     "metadata": {},
     "output_type": "execute_result"
    }
   ],
   "source": [
    "# y = 2x - 1\n",
    "\n",
    "X = np.array([-1.0 , 0.0 , 1.0 , 2.0 , 3.0 , 4.0] , dtype = float)\n",
    "y = np.array([3.0 , -1.0 , 1.0 , 3.0 , 5.0 , 7.0] , dtype = float)\n",
    "\n",
    "model = Sequential()\n",
    "model.add(Dense(units = 3 , input_shape=[1]))\n",
    "model.compile(loss = 'mse')\n",
    "# model.fit(X , y , epochs = 500)\n",
    "\n",
    "y_predict = model.predict([0])\n",
    "print('model guess - ' , y_predict)\n",
    "\n",
    "print('손실값 - evaluate()')\n",
    "model.evaluate([0] , [[0, 1, 0]])"
   ]
  },
  {
   "cell_type": "code",
   "execution_count": null,
   "metadata": {
    "id": "0q2XgFsEFUqE"
   },
   "outputs": [],
   "source": [
    "print('옵티마이저 - SGD , Adam , RMSprop etc...')\n",
    "\n",
    "model = Sequential()\n",
    "model.add(Dense(units = 3 , input_shape=[1]))\n",
    "model.compile(loss = 'mse' , optimizer = 'SGD')\n",
    "# model.fit(X , y , epochs = 500)\n",
    "history = model.fit([1] , [[0,1,0]] , epochs = 100)\n",
    "\n",
    "print('손실값 - evaluate()')\n",
    "# model.evaluate([0] , [[0, 1, 0]])"
   ]
  },
  {
   "cell_type": "code",
   "execution_count": null,
   "metadata": {
    "id": "QokUB9KZYkI-"
   },
   "outputs": [],
   "source": [
    "history.history"
   ]
  },
  {
   "cell_type": "code",
   "execution_count": 28,
   "metadata": {
    "colab": {
     "base_uri": "https://localhost:8080/",
     "height": 279
    },
    "id": "h_aARfKuYp43",
    "outputId": "0eeb14d9-a60e-4a04-fdf7-c182a1566f0d"
   },
   "outputs": [
    {
     "data": {
      "image/png": "[encoded data removed]",
      "text/plain": [
       "<Figure size 432x288 with 1 Axes>"
      ]
     },
     "metadata": {
      "needs_background": "light"
     },
     "output_type": "display_data"
    }
   ],
   "source": [
    "import matplotlib.pyplot as plt\n",
    "\n",
    "loss = history.history['loss']\n",
    "plt.plot(loss)\n",
    "plt.xlabel('Epoch')\n",
    "plt.ylabel('Loss')\n",
    "plt.show()\n",
    "plt.close()"
   ]
  },
  {
   "cell_type": "code",
   "execution_count": 34,
   "metadata": {
    "colab": {
     "base_uri": "https://localhost:8080/"
    },
    "id": "Bz1fiJWTYsI9",
    "outputId": "cf38b0f2-1768-4a66-d8ad-285043231171"
   },
   "outputs": [
    {
     "name": "stdout",
     "output_type": "stream",
     "text": [
      "True | False - AND 논리 연산 결과 출력\n",
      "ReLU(Recified Linear Unite)\n",
      "1/1 [==============================] - 0s 52ms/step\n",
      "before fit - \n",
      " [[0.        ]\n",
      " [0.5913974 ]\n",
      " [0.7681652 ]\n",
      " [0.31468654]]\n",
      "1/1 [==============================] - 0s 28ms/step\n",
      "after_fit - \n",
      " [[-0.23283255]\n",
      " [ 0.24881905]\n",
      " [ 0.25666636]\n",
      " [ 0.7383179 ]]\n"
     ]
    }
   ],
   "source": [
    "print('True | False - AND 논리 연산 결과 출력')\n",
    "print('ReLU(Recified Linear Unite)')\n",
    "X = [[0,0],[0,1],[1,0],[1,1]]\n",
    "y = [[0] , [0] , [0] , [1]]\n",
    "\n",
    "\n",
    "model = Sequential()\n",
    "\n",
    "# 4행 2열이므로 input_shape은 2개가 들어간다.\n",
    "\n",
    "model.add(Dense(units = 3 , input_shape=[2]))\n",
    "model.add(Activation('relu'))\n",
    "# 히든층이 아닌 출력층으로서의 역할을 한다.\n",
    "model.add(Dense(units = 1))\n",
    "# 모델 생성\n",
    "#model.compile(loss='mse' , optimizer = 'Adam')\n",
    "model.compile(loss='mse' , optimizer = 'SGD')\n",
    "before_predict = model.predict(X)\n",
    "print('before fit - \\n' , before_predict)\n",
    "# 모델 학습\n",
    "# verbose 콘솔에 (과정을) 출력합니다.\n",
    "history = model.fit(X, y , epochs = 1000 , verbose = 0)\n",
    "# 모델 예측\n",
    "after_predict = model.predict(X)\n",
    "print('after_fit - \\n' , after_predict)"
   ]
  },
  {
   "cell_type": "code",
   "execution_count": 35,
   "metadata": {
    "colab": {
     "base_uri": "https://localhost:8080/",
     "height": 279
    },
    "id": "tBpUJfWLYsT0",
    "outputId": "e635248a-6b3b-4c4c-d019-79e2e93ee09b"
   },
   "outputs": [
    {
     "data": {
      "image/png": "[encoded data removed]",
      "text/plain": [
       "<Figure size 432x288 with 1 Axes>"
      ]
     },
     "metadata": {
      "needs_background": "light"
     },
     "output_type": "display_data"
    }
   ],
   "source": [
    "loss = history.history['loss']\n",
    "plt.plot(loss)\n",
    "plt.xlabel('Epoch')\n",
    "plt.ylabel('Loss')\n",
    "plt.show()\n",
    "plt.close()"
   ]
  },
  {
   "cell_type": "code",
   "execution_count": 38,
   "metadata": {
    "colab": {
     "base_uri": "https://localhost:8080/",
     "height": 283
    },
    "id": "QywxWzbEYsZs",
    "outputId": "89433c84-a42b-48b4-a9ac-ba60ea30e050"
   },
   "outputs": [
    {
     "name": "stdout",
     "output_type": "stream",
     "text": [
      "훈련 결과의 시각화 - \n"
     ]
    },
    {
     "data": {
      "image/png": "[encoded data removed]",
      "text/plain": [
       "<Figure size 432x288 with 1 Axes>"
      ]
     },
     "metadata": {
      "needs_background": "light"
     },
     "output_type": "display_data"
    }
   ],
   "source": [
    "print('훈련 결과의 시각화 - ')\n",
    "plt.plot(before_predict , 's-' , markersize = 10 , label = 'before fit predict')\n",
    "plt.plot(after_predict  , 'd-' , markersize = 10 , label = 'after  fit predict')\n",
    "plt.plot(y  , 'o-' , markersize = 10 , label = 'Y(TARGET)')\n",
    "plt.xticks(np.arange(4) , labels=['[0,0]' , '[0,1]' , '[1,0]' , '[1,1]'])\n",
    "plt.legend()\n",
    "plt.show()\n",
    "plt.close()"
   ]
  },
  {
   "cell_type": "code",
   "execution_count": 79,
   "metadata": {
    "id": "njiuHsEDYsd9"
   },
   "outputs": [],
   "source": [
    "import tensorflow as tf\n",
    "from tensorflow.keras.models   import Sequential\n",
    "from tensorflow.keras.layers   import Dense , Activation\n",
    "# mnist 인공지능 공채 시험 최다\n",
    "from tensorflow.keras.datasets import boston_housing , mnist\n",
    "from tensorflow.keras          import optimizers"
   ]
  },
  {
   "cell_type": "code",
   "execution_count": 42,
   "metadata": {
    "colab": {
     "base_uri": "https://localhost:8080/"
    },
    "id": "JpwvSV4bYsiU",
    "outputId": "f178d1bc-a7b6-4d36-94ac-ada52ad9b21f"
   },
   "outputs": [
    {
     "name": "stdout",
     "output_type": "stream",
     "text": [
      "회귀 - 보스턴 집값 예측\n"
     ]
    }
   ],
   "source": [
    "# boston_housing : 모듈 종류이다.\n",
    "# 형식이 독특하니 주의하자.\n",
    "(X_train , y_train) , (X_test , y_test) = boston_housing.load_data()\n",
    "\n",
    "# 404개의 feature 13개의 input\n",
    "(X_train.shape , y_train.shape) , (X_test.shape , y_test.shape)\n",
    "\n",
    "\n",
    "print('회귀 - 보스턴 집값 예측')\n",
    "# accuracy : 분류 모델\n",
    "# mean_squared_error : 회귀 모델"
   ]
  },
  {
   "cell_type": "code",
   "execution_count": 44,
   "metadata": {
    "colab": {
     "base_uri": "https://localhost:8080/"
    },
    "id": "H4oJSFKoYslz",
    "outputId": "64810629-76d4-43b2-d0cb-551987dda31c"
   },
   "outputs": [
    {
     "data": {
      "text/plain": [
       "dtype('float64')"
      ]
     },
     "execution_count": 44,
     "metadata": {},
     "output_type": "execute_result"
    }
   ],
   "source": [
    "y_train.dtype"
   ]
  },
  {
   "cell_type": "code",
   "execution_count": 45,
   "metadata": {
    "colab": {
     "base_uri": "https://localhost:8080/"
    },
    "id": "BzDEMeFIYsp0",
    "outputId": "6a59c025-9af9-446a-c937-ea781aac0233"
   },
   "outputs": [
    {
     "name": "stdout",
     "output_type": "stream",
     "text": [
      "feature -  [  1.23247   0.        8.14      0.        0.538     6.142    91.7\n",
      "   3.9769    4.      307.       21.      396.9      18.72   ]\n",
      "\n",
      "target -  15.2\n"
     ]
    }
   ],
   "source": [
    "print('feature - ' , X_train[0])\n",
    "print()\n",
    "print('target - ' , y_train[0])\n"
   ]
  },
  {
   "cell_type": "code",
   "execution_count": 48,
   "metadata": {
    "colab": {
     "base_uri": "https://localhost:8080/"
    },
    "id": "KNauhCpdYsts",
    "outputId": "abced98f-de66-4cef-b7d1-a616e459dc9d"
   },
   "outputs": [
    {
     "name": "stderr",
     "output_type": "stream",
     "text": [
      "/usr/local/lib/python3.8/dist-packages/keras/optimizers/optimizer_v2/gradient_descent.py:108: UserWarning: The `lr` argument is deprecated, use `learning_rate` instead.\n",
      "  super(SGD, self).__init__(name, **kwargs)\n"
     ]
    }
   ],
   "source": [
    "# 1. 모델 생성\n",
    "\n",
    "house_model = Sequential()\n",
    "\n",
    "# 2. 모델에 쌓을 수 있는 입력층 생성\n",
    "# 13개의 입력이 각각 10개의 유닛(피처)에 입력된다.\n",
    "\n",
    "house_model.add(Dense(units = 10 , input_shape=(13,)))\n",
    "house_model.add(Activation('sigmoid'))\n",
    "\n",
    "# 3. 은닉층 생성\n",
    "# 뉴런 모델은 units 개수가 줄어들어야한다.\n",
    "# 단, units가 같을 경우 바닐라형이라 불린다.\n",
    "\n",
    "house_model.add(Dense(units = 10))\n",
    "house_model.add(Activation('sigmoid'))\n",
    "\n",
    "house_model.add(Dense(units = 10))\n",
    "house_model.add(Activation('sigmoid'))\n",
    "\n",
    "# 4. 활성함수 생성\n",
    "\n",
    "house_model.add(Dense(units = 1))\n",
    "\n",
    "# 5 컴파일\n",
    "\n",
    "# 과대적합이 되지않도록 lr을 조절하여 학습률을 조정할 수 있다.\n",
    "# lr 높을수록 학습을 대충, 낮을수록 학승을 심하게 하므로 잘 조절하자.\n",
    "\n",
    "opt = optimizers.SGD(lr = 0.001)\n",
    "\n",
    "# 회귀 모델이므로 loss : mse , metrics : loss함수의 평균값\n",
    "house_model.compile(  loss='mse' \n",
    "                    , metrics = ['mse']\n",
    "                    , optimizer = 'SGD')\n"
   ]
  },
  {
   "cell_type": "code",
   "execution_count": null,
   "metadata": {
    "id": "A8gug2EcYsx0"
   },
   "outputs": [],
   "source": [
    "# 6. model 피팅\n",
    "\n",
    "# batch_size : 1번 학습할때 데이터를 몇 개 가져올 것인가\n",
    "# epochs     : 학습 횟수  - 학습을 많이시키면 과대적합이 생긴다.\n",
    "# -> 미리 방지할 방법은 없으며, 시각화를 통해 그래프를 보고 loss가 줄어들지 않는 최저점을 확인하여 loss에 대한 변화가 없는 구간을 구하도록 한다.\n",
    "\n",
    "# loss : 오차 , mse : 정확도\n",
    "history = house_model.fit(X_train , y_train \n",
    "                , batch_size = 50\n",
    "                , epochs     = 100\n",
    "                , verbose    = 1)"
   ]
  },
  {
   "cell_type": "code",
   "execution_count": null,
   "metadata": {
    "id": "Bi4v21jI-nJ0"
   },
   "outputs": [],
   "source": [
    "history.history"
   ]
  },
  {
   "cell_type": "code",
   "execution_count": 75,
   "metadata": {
    "colab": {
     "base_uri": "https://localhost:8080/"
    },
    "id": "sMBzv-t1_gBd",
    "outputId": "a7c13045-c2e3-4484-f0ed-b1fad5d5471d"
   },
   "outputs": [
    {
     "name": "stdout",
     "output_type": "stream",
     "text": [
      "13개의 입력값 - \n",
      " [ 18.0846   0.      18.1      0.       0.679    6.434  100.       1.8347\n",
      "  24.     666.      20.2     27.25    29.05  ]\n",
      "13개의 입력값 - \n",
      " [3.0490e-02 5.5000e+01 3.7800e+00 0.0000e+00 4.8400e-01 6.8740e+00\n",
      " 2.8100e+01 6.4654e+00 5.0000e+00 3.7000e+02 1.7600e+01 3.8797e+02\n",
      " 4.6100e+00]\n",
      "목표값 - \n",
      " 7.2\n",
      "위 두개의 값의 오차의 제곱 - mse\n",
      "\n",
      "4/4 [==============================] - 0s 5ms/step\n",
      "model guess -  [22.751968]\n",
      "4/4 [==============================] - 0s 3ms/step - loss: 83.3504 - mse: 83.3504\n",
      "metrics name :  ['loss', 'mse']\n",
      "loss -  83.35042572021484\n",
      "mse  -  83.35042572021484\n"
     ]
    }
   ],
   "source": [
    "# 13개를 입력받을 수 있는 값이 predict에 들어가야한다.\n",
    "print('13개의 입력값 - \\n' , X_test[0])\n",
    "print('13개의 입력값 - \\n' , X_test[6])\n",
    "print('목표값 - \\n' , y_test[0])\n",
    "print('위 두개의 값의 오차의 제곱 - mse')\n",
    "\n",
    "print()\n",
    "\n",
    "y_predict = house_model.predict(X_test)\n",
    "print('model guess - ' , y_predict[0])\n",
    "\n",
    "eval_result = house_model.evaluate(X_test , y_test)\n",
    "print('metrics name : ', house_model.metrics_names)\n",
    "print('loss - ' , eval_result[0])\n",
    "print('mse  - ' , eval_result[1])"
   ]
  },
  {
   "cell_type": "code",
   "execution_count": 80,
   "metadata": {
    "colab": {
     "base_uri": "https://localhost:8080/"
    },
    "id": "YEbbFb1O_m8s",
    "outputId": "c1fb3773-4ca8-4655-b25d-d52194b671d9"
   },
   "outputs": [
    {
     "name": "stdout",
     "output_type": "stream",
     "text": [
      "다중 분류 - mnist\n",
      "Downloading data from https://storage.googleapis.com/tensorflow/tf-keras-datasets/mnist.npz\n",
      "11490434/11490434 [==============================] - 0s 0us/step\n"
     ]
    },
    {
     "data": {
      "text/plain": [
       "(((60000, 28, 28), (60000,)), ((10000, 28, 28), (10000,)))"
      ]
     },
     "execution_count": 80,
     "metadata": {},
     "output_type": "execute_result"
    }
   ],
   "source": [
    "print('다중 분류 - mnist')\n",
    "\n",
    "\n",
    "(X_train , y_train) , (X_test , y_test) = mnist.load_data()\n",
    "(X_train.shape , y_train.shape) , (X_test.shape , y_test.shape)\n",
    "\n",
    "# 가로가 28 세로가 28인 RGB값을 의미\n"
   ]
  },
  {
   "cell_type": "code",
   "execution_count": 82,
   "metadata": {
    "colab": {
     "base_uri": "https://localhost:8080/",
     "height": 302
    },
    "id": "Qx1YSUDMH-NL",
    "outputId": "f998841a-7ab3-4c58-9620-e4acddfa5ef9"
   },
   "outputs": [
    {
     "name": "stdout",
     "output_type": "stream",
     "text": [
      "\n",
      "\n"
     ]
    },
    {
     "data": {
      "image/png": "[encoded data removed]",
      "text/plain": [
       "<Figure size 432x288 with 1 Axes>"
      ]
     },
     "metadata": {
      "needs_background": "light"
     },
     "output_type": "display_data"
    }
   ],
   "source": [
    "y_train[0]\n",
    "print()\n",
    "X_train[0]\n",
    "print()\n",
    "\n",
    "plt.imshow(X_train[0] , cmap = plt.cm.binary)\n",
    "plt.show()\n",
    "plt.close()"
   ]
  },
  {
   "cell_type": "code",
   "execution_count": 83,
   "metadata": {
    "colab": {
     "base_uri": "https://localhost:8080/"
    },
    "id": "YdtNKrDBJCvE",
    "outputId": "e2c50727-12dc-4682-9a52-0940f005931a"
   },
   "outputs": [
    {
     "name": "stdout",
     "output_type": "stream",
     "text": [
      "퍼셉트론 모델은 행렬을 입력으로 사용할 수 없다. - 1차원 벡터로 변환\n",
      "reshape 28 * 28 -> 784\n"
     ]
    }
   ],
   "source": [
    "print('퍼셉트론 모델은 행렬을 입력으로 사용할 수 없다. - 1차원 벡터로 변환')\n",
    "print('reshape 28 * 28 -> 784')"
   ]
  },
  {
   "cell_type": "code",
   "execution_count": 86,
   "metadata": {
    "id": "RimM9DjfJcA8"
   },
   "outputs": [],
   "source": [
    "X_train = X_train.reshape((X_train.shape[0] , -1))\n",
    "X_test  = X_test.reshape((X_test.shape[0] , -1))"
   ]
  },
  {
   "cell_type": "code",
   "execution_count": null,
   "metadata": {
    "id": "1OhNGx2gKQr8"
   },
   "outputs": [],
   "source": [
    "X_train[0]"
   ]
  },
  {
   "cell_type": "code",
   "execution_count": 89,
   "metadata": {
    "colab": {
     "base_uri": "https://localhost:8080/"
    },
    "id": "nTMDTq5zKT9j",
    "outputId": "566ad9d0-122f-46f3-c247-b8c51292fbe8"
   },
   "outputs": [
    {
     "data": {
      "text/plain": [
       "array([[0, 0, 0, ..., 0, 0, 0],\n",
       "       [0, 0, 0, ..., 0, 0, 0],\n",
       "       [0, 0, 0, ..., 0, 0, 0],\n",
       "       ...,\n",
       "       [0, 0, 0, ..., 0, 0, 0],\n",
       "       [0, 0, 0, ..., 0, 0, 0],\n",
       "       [0, 0, 0, ..., 0, 0, 0]], dtype=uint8)"
      ]
     },
     "execution_count": 89,
     "metadata": {},
     "output_type": "execute_result"
    }
   ],
   "source": [
    "X_test"
   ]
  },
  {
   "cell_type": "code",
   "execution_count": 91,
   "metadata": {
    "colab": {
     "base_uri": "https://localhost:8080/"
    },
    "id": "8aTtyH19Ke_F",
    "outputId": "922170f9-2ce7-4f42-893a-6efd065b031e"
   },
   "outputs": [
    {
     "data": {
      "text/plain": [
       "(((60000, 784), (60000,)), ((10000, 784), (10000,)))"
      ]
     },
     "execution_count": 91,
     "metadata": {},
     "output_type": "execute_result"
    }
   ],
   "source": [
    "(X_train.shape , y_train.shape) , (X_test.shape , y_test.shape)"
   ]
  },
  {
   "cell_type": "code",
   "execution_count": 92,
   "metadata": {
    "colab": {
     "base_uri": "https://localhost:8080/"
    },
    "id": "uEvnXnScKwS1",
    "outputId": "4b0e8d7a-fbf7-4c90-e2f2-e6b3c0dc135f"
   },
   "outputs": [
    {
     "data": {
      "text/plain": [
       "5"
      ]
     },
     "execution_count": 92,
     "metadata": {},
     "output_type": "execute_result"
    }
   ],
   "source": [
    "y_train[0]"
   ]
  },
  {
   "cell_type": "code",
   "execution_count": 93,
   "metadata": {
    "colab": {
     "base_uri": "https://localhost:8080/"
    },
    "id": "t95xUDBqKxBU",
    "outputId": "482e1389-a777-40b1-f1f4-64762e3090ee"
   },
   "outputs": [
    {
     "name": "stdout",
     "output_type": "stream",
     "text": [
      "다중 분류의 확률을 사용하기 위해서는 타켓의 값을 원-핫 인코딩 해야 한다.\n"
     ]
    }
   ],
   "source": [
    "from keras.utils.np_utils import to_categorical\n",
    "print('다중 분류의 확률을 사용하기 위해서는 타켓의 값을 원-핫 인코딩 해야 한다.')\n",
    "\n",
    "y_train = to_categorical(y_train)\n",
    "y_test  = to_categorical(y_test)"
   ]
  },
  {
   "cell_type": "code",
   "execution_count": 95,
   "metadata": {
    "colab": {
     "base_uri": "https://localhost:8080/"
    },
    "id": "8F09snH4KxL0",
    "outputId": "fa090c8e-25dc-43cd-c0f0-63e5186b9e39"
   },
   "outputs": [
    {
     "name": "stdout",
     "output_type": "stream",
     "text": [
      "[0. 0. 0. 0. 0. 1. 0. 0. 0. 0.]\n",
      "[1. 0. 0. 0. 0. 0. 0. 0. 0. 0.]\n",
      "[0. 0. 0. 0. 1. 0. 0. 0. 0. 0.]\n",
      "[0. 1. 0. 0. 0. 0. 0. 0. 0. 0.]\n",
      "[0. 0. 0. 0. 0. 0. 0. 0. 0. 1.]\n",
      "[0. 0. 1. 0. 0. 0. 0. 0. 0. 0.]\n",
      "[0. 1. 0. 0. 0. 0. 0. 0. 0. 0.]\n",
      "[0. 0. 0. 1. 0. 0. 0. 0. 0. 0.]\n",
      "[0. 1. 0. 0. 0. 0. 0. 0. 0. 0.]\n",
      "[0. 0. 0. 0. 1. 0. 0. 0. 0. 0.]\n"
     ]
    }
   ],
   "source": [
    "for idx in range(10) :\n",
    "  print(y_train[idx])"
   ]
  },
  {
   "cell_type": "code",
   "execution_count": null,
   "metadata": {
    "id": "o4eC9nKEKxTU"
   },
   "outputs": [],
   "source": [
    "mnist_model = Sequential()\n",
    "mnist_model.add(Dense(units = 50 , input_shape=(784 ,)))\n",
    "mnist_model.add(Activation('sigmoid'))\n",
    "\n",
    "mnist_model.add(Dense(units = 50))\n",
    "mnist_model.add(Activation('sigmoid'))\n",
    "\n",
    "mnist_model.add(Dense(units = 50))\n",
    "mnist_model.add(Activation('sigmoid'))\n",
    "\n",
    "mnist_model.add(Dense(units = 50))\n",
    "mnist_model.add(Activation('sigmoid'))\n",
    "\n",
    "mnist_model.add(Dense(units = 50))\n",
    "mnist_model.add(Activation('sigmoid'))\n",
    "\n",
    "mnist_model.add(Dense(units = 10))\n",
    "mnist_model.add(Activation('softmax'))\n",
    "\n",
    "mnist_model.summary()"
   ]
  },
  {
   "cell_type": "code",
   "execution_count": 111,
   "metadata": {
    "colab": {
     "base_uri": "https://localhost:8080/"
    },
    "id": "M7MGkkilMkUN",
    "outputId": "b5ff6446-75b6-40ce-e06c-b3cd0c64c325"
   },
   "outputs": [
    {
     "name": "stdout",
     "output_type": "stream",
     "text": [
      "분류 손실함수 - binary_crossentropy , categorical_crossentropy\n"
     ]
    }
   ],
   "source": [
    "\n",
    "print('분류 손실함수 - binary_crossentropy , categorical_crossentropy')\n",
    "\n",
    "opt = optimizers.SGD(lr = 0.1)\n",
    "\n",
    "# 분류 모델이므로 loss : mse , metrics : loss함수의 평균값\n",
    "mnist_model.compile(  loss='categorical_crossentropy' \n",
    "                    , metrics = ['accuracy']\n",
    "                    , optimizer = opt)"
   ]
  },
  {
   "cell_type": "code",
   "execution_count": null,
   "metadata": {
    "id": "nl2IDDd3NofN"
   },
   "outputs": [],
   "source": [
    "# validation_split : 교차 검증\n",
    "\n",
    "history = mnist_model.fit(X_train , y_train \n",
    "                          , batch_size = 500\n",
    "                          , epochs     = 50\n",
    "                          , verbose    = 1\n",
    "                          , validation_split = 0.3)"
   ]
  },
  {
   "cell_type": "code",
   "execution_count": null,
   "metadata": {
    "id": "uRBpl9ouOyBG"
   },
   "outputs": [],
   "source": [
    "history.history"
   ]
  },
  {
   "cell_type": "code",
   "execution_count": 113,
   "metadata": {
    "colab": {
     "base_uri": "https://localhost:8080/",
     "height": 265
    },
    "id": "JNVMvCq4PeCN",
    "outputId": "2a27db12-a0ac-4304-a17e-9f5b9eb6dbc6"
   },
   "outputs": [
    {
     "data": {
      "image/png": "[encoded data removed]",
      "text/plain": [
       "<Figure size 432x288 with 1 Axes>"
      ]
     },
     "metadata": {
      "needs_background": "light"
     },
     "output_type": "display_data"
    }
   ],
   "source": [
    "plt.plot(history.history['accuracy'] , label = 'acc')\n",
    "plt.plot(history.history['val_accuracy'] , label = 'val_acc')\n",
    "\n",
    "plt.legend()\n",
    "\n",
    "plt.show()\n",
    "plt.close()"
   ]
  },
  {
   "cell_type": "code",
   "execution_count": 114,
   "metadata": {
    "colab": {
     "base_uri": "https://localhost:8080/"
    },
    "id": "LGyXwU_VQ5A-",
    "outputId": "e658cfdf-5feb-4db5-bc80-a80c802df9cc"
   },
   "outputs": [
    {
     "name": "stdout",
     "output_type": "stream",
     "text": [
      "313/313 [==============================] - 0s 1ms/step - loss: 0.6074 - accuracy: 0.8391\n"
     ]
    },
    {
     "data": {
      "text/plain": [
       "[0.6074228286743164, 0.8391000032424927]"
      ]
     },
     "execution_count": 114,
     "metadata": {},
     "output_type": "execute_result"
    }
   ],
   "source": [
    "mnist_model.evaluate(X_test , y_test)\n"
   ]
  }
 ],
 "metadata": {
  "colab": {
   "provenance": []
  },
  "kernelspec": {
   "display_name": "Python 3 (ipykernel)",
   "language": "python",
   "name": "python3"
  },
  "language_info": {
   "codemirror_mode": {
    "name": "ipython",
    "version": 3
   },
   "file_extension": ".py",
   "mimetype": "text/x-python",
   "name": "python",
   "nbconvert_exporter": "python",
   "pygments_lexer": "ipython3",
   "version": "3.9.13"
  }
 },
 "nbformat": 4,
 "nbformat_minor": 1
}
