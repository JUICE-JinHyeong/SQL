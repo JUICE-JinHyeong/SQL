{
 "cells": [
  {
   "cell_type": "code",
   "execution_count": 124,
   "id": "5ff3ffa9",
   "metadata": {},
   "outputs": [
    {
     "name": "stdout",
     "output_type": "stream",
     "text": [
      "numpy version -  1.21.5\n",
      "pandas version -  1.4.2\n"
     ]
    }
   ],
   "source": [
    "import numpy as np\n",
    "import pandas as pd\n",
    "import seaborn as sns\n",
    "\n",
    "import matplotlib as mpl\n",
    "import matplotlib.pyplot as plt\n",
    "import json\n",
    "\n",
    "%matplotlib inline\n",
    "\n",
    "# 한글 폰트 문제 해결\n",
    "import platform\n",
    "from matplotlib import font_manager, rc\n",
    "plt.rcParams['axes.unicode_minus'] = False\n",
    "\n",
    "if platform.system() == 'Darwin':\n",
    "    rc('font', family='AppleGothic')\n",
    "elif platform.system() == 'Windows':\n",
    "    path = \"c:/Windows/Fonts/malgun.ttf\"\n",
    "    font_name = font_manager.FontProperties(fname=path).get_name()\n",
    "    rc('font', family=font_name)\n",
    "else:\n",
    "    print('Unknown system... sorry~~~~')\n",
    "\n",
    "\n",
    "# 노란색 글씨의 warining 문구 강제 생략\n",
    "import warnings\n",
    "warnings.filterwarnings(action='ignore')\n",
    "    \n",
    "\n",
    "# 차트 축 <- 음수 부호 지원\n",
    "import matplotlib\n",
    "matplotlib.rcParams['axes.unicode_minus'] = False\n",
    "\n",
    "\n",
    "print('numpy version - ' , np.__version__)\n",
    "print('pandas version - ' , pd.__version__)\n",
    "\n",
    "# 크롤링\n",
    "from bs4                        import BeautifulSoup\n",
    "from urllib.request             import urlopen , urlretrieve\n",
    "from urllib.error               import HTTPError\n",
    "from urllib.error               import URLError\n",
    "\n",
    "import requests\n",
    "import re\n",
    "\n",
    "\n",
    "\n",
    "# ai lib\n",
    "\n",
    "import sklearn\n",
    "from   sklearn.datasets          import load_iris , load_breast_cancer\n",
    "\n",
    "from   sklearn.tree              import DecisionTreeClassifier\n",
    "from   sklearn.neighbors         import KNeighborsClassifier , KNeighborsRegressor\n",
    "from   sklearn.linear_model      import LogisticRegression\n",
    "\n",
    "\n",
    "\n",
    "from   sklearn.metrics           import accuracy_score , classification_report , mean_absolute_error , mean_squared_error\n",
    "from   sklearn.model_selection   import train_test_split , GridSearchCV , KFold , StratifiedKFold , cross_val_score , cross_validate\n",
    "from   sklearn.preprocessing     import LabelEncoder , OneHotEncoder , MinMaxScaler , StandardScaler"
   ]
  },
  {
   "cell_type": "markdown",
   "id": "68bd5892",
   "metadata": {},
   "source": [
    "- classification(이진분류 , 다중분류) : 정확도 , 정밀도 , 재현율 , F1-Scroe , confusion-matrix(오차 행렬)"
   ]
  },
  {
   "cell_type": "code",
   "execution_count": 3,
   "id": "dfc239b9",
   "metadata": {},
   "outputs": [
    {
     "name": "stdout",
     "output_type": "stream",
     "text": [
      "type -  <class 'pandas.core.frame.DataFrame'>\n"
     ]
    }
   ],
   "source": [
    "multi_classification_frm = pd.read_csv('https://bit.ly/fish_csv_data')\n",
    "print('type - ' , type(multi_classification_frm))"
   ]
  },
  {
   "cell_type": "code",
   "execution_count": 4,
   "id": "c2bcff74",
   "metadata": {},
   "outputs": [
    {
     "data": {
      "text/html": [
       "<div>\n",
       "<style scoped>\n",
       "    .dataframe tbody tr th:only-of-type {\n",
       "        vertical-align: middle;\n",
       "    }\n",
       "\n",
       "    .dataframe tbody tr th {\n",
       "        vertical-align: top;\n",
       "    }\n",
       "\n",
       "    .dataframe thead th {\n",
       "        text-align: right;\n",
       "    }\n",
       "</style>\n",
       "<table border=\"1\" class=\"dataframe\">\n",
       "  <thead>\n",
       "    <tr style=\"text-align: right;\">\n",
       "      <th></th>\n",
       "      <th>Species</th>\n",
       "      <th>Weight</th>\n",
       "      <th>Length</th>\n",
       "      <th>Diagonal</th>\n",
       "      <th>Height</th>\n",
       "      <th>Width</th>\n",
       "    </tr>\n",
       "  </thead>\n",
       "  <tbody>\n",
       "    <tr>\n",
       "      <th>0</th>\n",
       "      <td>Bream</td>\n",
       "      <td>242.0</td>\n",
       "      <td>25.4</td>\n",
       "      <td>30.0</td>\n",
       "      <td>11.5200</td>\n",
       "      <td>4.0200</td>\n",
       "    </tr>\n",
       "    <tr>\n",
       "      <th>1</th>\n",
       "      <td>Bream</td>\n",
       "      <td>290.0</td>\n",
       "      <td>26.3</td>\n",
       "      <td>31.2</td>\n",
       "      <td>12.4800</td>\n",
       "      <td>4.3056</td>\n",
       "    </tr>\n",
       "    <tr>\n",
       "      <th>2</th>\n",
       "      <td>Bream</td>\n",
       "      <td>340.0</td>\n",
       "      <td>26.5</td>\n",
       "      <td>31.1</td>\n",
       "      <td>12.3778</td>\n",
       "      <td>4.6961</td>\n",
       "    </tr>\n",
       "    <tr>\n",
       "      <th>3</th>\n",
       "      <td>Bream</td>\n",
       "      <td>363.0</td>\n",
       "      <td>29.0</td>\n",
       "      <td>33.5</td>\n",
       "      <td>12.7300</td>\n",
       "      <td>4.4555</td>\n",
       "    </tr>\n",
       "    <tr>\n",
       "      <th>4</th>\n",
       "      <td>Bream</td>\n",
       "      <td>430.0</td>\n",
       "      <td>29.0</td>\n",
       "      <td>34.0</td>\n",
       "      <td>12.4440</td>\n",
       "      <td>5.1340</td>\n",
       "    </tr>\n",
       "  </tbody>\n",
       "</table>\n",
       "</div>"
      ],
      "text/plain": [
       "  Species  Weight  Length  Diagonal   Height   Width\n",
       "0   Bream   242.0    25.4      30.0  11.5200  4.0200\n",
       "1   Bream   290.0    26.3      31.2  12.4800  4.3056\n",
       "2   Bream   340.0    26.5      31.1  12.3778  4.6961\n",
       "3   Bream   363.0    29.0      33.5  12.7300  4.4555\n",
       "4   Bream   430.0    29.0      34.0  12.4440  5.1340"
      ]
     },
     "execution_count": 4,
     "metadata": {},
     "output_type": "execute_result"
    }
   ],
   "source": [
    "multi_classification_frm.head()"
   ]
  },
  {
   "cell_type": "code",
   "execution_count": 5,
   "id": "e28bc102",
   "metadata": {},
   "outputs": [
    {
     "data": {
      "text/plain": [
       "array(['Bream', 'Roach', 'Whitefish', 'Parkki', 'Perch', 'Pike', 'Smelt'],\n",
       "      dtype=object)"
      ]
     },
     "execution_count": 5,
     "metadata": {},
     "output_type": "execute_result"
    }
   ],
   "source": [
    "multi_classification_frm['Species'].unique()"
   ]
  },
  {
   "cell_type": "code",
   "execution_count": 7,
   "id": "2a6451d5",
   "metadata": {},
   "outputs": [],
   "source": [
    "# 데이터를 ndarray로 만들자\n",
    "\n",
    "features = multi_classification_frm.drop('Species' , axis = 1).to_numpy()\n",
    "target   = multi_classification_frm['Species'].to_numpy()"
   ]
  },
  {
   "cell_type": "code",
   "execution_count": 13,
   "id": "5d03e70c",
   "metadata": {},
   "outputs": [
    {
     "data": {
      "text/plain": [
       "array([[242.    ,  25.4   ,  30.    ,  11.52  ,   4.02  ],\n",
       "       [290.    ,  26.3   ,  31.2   ,  12.48  ,   4.3056],\n",
       "       [340.    ,  26.5   ,  31.1   ,  12.3778,   4.6961],\n",
       "       [363.    ,  29.    ,  33.5   ,  12.73  ,   4.4555],\n",
       "       [430.    ,  29.    ,  34.    ,  12.444 ,   5.134 ]])"
      ]
     },
     "execution_count": 13,
     "metadata": {},
     "output_type": "execute_result"
    }
   ],
   "source": [
    "features[:5]"
   ]
  },
  {
   "cell_type": "code",
   "execution_count": 10,
   "id": "03e1f51d",
   "metadata": {},
   "outputs": [
    {
     "data": {
      "text/plain": [
       "array(['Bream', 'Bream', 'Bream', 'Bream', 'Bream', 'Bream', 'Bream',\n",
       "       'Bream', 'Bream', 'Bream', 'Bream', 'Bream', 'Bream', 'Bream',\n",
       "       'Bream', 'Bream', 'Bream', 'Bream', 'Bream', 'Bream', 'Bream',\n",
       "       'Bream', 'Bream', 'Bream', 'Bream', 'Bream', 'Bream', 'Bream',\n",
       "       'Bream', 'Bream', 'Bream', 'Bream', 'Bream', 'Bream', 'Bream',\n",
       "       'Roach', 'Roach', 'Roach', 'Roach', 'Roach', 'Roach', 'Roach',\n",
       "       'Roach', 'Roach', 'Roach', 'Roach', 'Roach', 'Roach', 'Roach',\n",
       "       'Roach', 'Roach', 'Roach', 'Roach', 'Roach', 'Roach', 'Whitefish',\n",
       "       'Whitefish', 'Whitefish', 'Whitefish', 'Whitefish', 'Whitefish',\n",
       "       'Parkki', 'Parkki', 'Parkki', 'Parkki', 'Parkki', 'Parkki',\n",
       "       'Parkki', 'Parkki', 'Parkki', 'Parkki', 'Parkki', 'Perch', 'Perch',\n",
       "       'Perch', 'Perch', 'Perch', 'Perch', 'Perch', 'Perch', 'Perch',\n",
       "       'Perch', 'Perch', 'Perch', 'Perch', 'Perch', 'Perch', 'Perch',\n",
       "       'Perch', 'Perch', 'Perch', 'Perch', 'Perch', 'Perch', 'Perch',\n",
       "       'Perch', 'Perch', 'Perch', 'Perch', 'Perch', 'Perch', 'Perch',\n",
       "       'Perch', 'Perch', 'Perch', 'Perch', 'Perch', 'Perch', 'Perch',\n",
       "       'Perch', 'Perch', 'Perch', 'Perch', 'Perch', 'Perch', 'Perch',\n",
       "       'Perch', 'Perch', 'Perch', 'Perch', 'Perch', 'Perch', 'Perch',\n",
       "       'Perch', 'Perch', 'Perch', 'Perch', 'Perch', 'Pike', 'Pike',\n",
       "       'Pike', 'Pike', 'Pike', 'Pike', 'Pike', 'Pike', 'Pike', 'Pike',\n",
       "       'Pike', 'Pike', 'Pike', 'Pike', 'Pike', 'Pike', 'Pike', 'Smelt',\n",
       "       'Smelt', 'Smelt', 'Smelt', 'Smelt', 'Smelt', 'Smelt', 'Smelt',\n",
       "       'Smelt', 'Smelt', 'Smelt', 'Smelt', 'Smelt', 'Smelt'], dtype=object)"
      ]
     },
     "execution_count": 10,
     "metadata": {},
     "output_type": "execute_result"
    }
   ],
   "source": [
    "# 레이블 인코딩이 필요하다.\n",
    "\n",
    "target"
   ]
  },
  {
   "cell_type": "code",
   "execution_count": 11,
   "id": "979eae0d",
   "metadata": {},
   "outputs": [
    {
     "name": "stdout",
     "output_type": "stream",
     "text": [
      "label_digit -  [0 0 0 0 0 0 0 0 0 0 0 0 0 0 0 0 0 0 0 0 0 0 0 0 0 0 0 0 0 0 0 0 0 0 0 4 4\n",
      " 4 4 4 4 4 4 4 4 4 4 4 4 4 4 4 4 4 4 6 6 6 6 6 6 1 1 1 1 1 1 1 1 1 1 1 2 2\n",
      " 2 2 2 2 2 2 2 2 2 2 2 2 2 2 2 2 2 2 2 2 2 2 2 2 2 2 2 2 2 2 2 2 2 2 2 2 2\n",
      " 2 2 2 2 2 2 2 2 2 2 2 2 2 2 2 2 2 3 3 3 3 3 3 3 3 3 3 3 3 3 3 3 3 3 5 5 5\n",
      " 5 5 5 5 5 5 5 5 5 5 5]\n",
      "label       -  ['Bream' 'Parkki' 'Perch' 'Pike' 'Roach' 'Smelt' 'Whitefish']\n"
     ]
    }
   ],
   "source": [
    "# digit 변환\n",
    "# LabelEncoder()\n",
    "\n",
    "# 회귀 분석 과정에 숫자의 특성이 반영되면 값에 오류가 생긴다. -> 회귀 분석과정에서는 쓰면 안됨\n",
    "\n",
    "\n",
    "encoder = LabelEncoder()\n",
    "label_digit = encoder.fit(target).transform(target)\n",
    "print('label_digit - ' , label_digit)\n",
    "print('label       - ' , encoder.classes_)\n"
   ]
  },
  {
   "cell_type": "code",
   "execution_count": 15,
   "id": "f5f5c336",
   "metadata": {},
   "outputs": [
    {
     "name": "stdout",
     "output_type": "stream",
     "text": [
      "데이터 분리 - \n",
      "shqpe -  (127, 5) (32, 5) (127,) (32,)\n"
     ]
    }
   ],
   "source": [
    "# 1 데이터 분리\n",
    "\n",
    "\n",
    "print('데이터 분리 - ')\n",
    "X_train , X_test , y_train , y_test = train_test_split ( features \n",
    "                                                       , target\n",
    "                                                        # 테스트 데이터의 비율 20퍼센트\n",
    "                                                       , test_size = 0.2\n",
    "                                                        # 데이터 셔플\n",
    "                                                       , shuffle   = True\n",
    "                                                       , random_state = 200)\n",
    "print('shqpe - ' , X_train.shape , X_test.shape , y_train.shape , y_test.shape)"
   ]
  },
  {
   "cell_type": "code",
   "execution_count": 20,
   "id": "993af895",
   "metadata": {},
   "outputs": [],
   "source": [
    "# 분류 모델로 최근접 이웃 객체를 생성하고 학습 및 예측\n",
    "\n",
    "knn = KNeighborsClassifier(n_neighbors = 3)\n",
    "#  fit을 하면 predict 예측 가능\n",
    "knn.fit(X_train , y_train)\n",
    "y_predict = knn.predict(X_test)\n"
   ]
  },
  {
   "cell_type": "code",
   "execution_count": 31,
   "id": "43acd3f5",
   "metadata": {},
   "outputs": [
    {
     "name": "stdout",
     "output_type": "stream",
     "text": [
      "model  - predict :  ['Smelt' 'Bream' 'Pike' 'Parkki' 'Perch']\n",
      "X_test - answer  :  ['Smelt' 'Bream' 'Pike' 'Perch' 'Perch']\n",
      "accuracy -  0.53125\n"
     ]
    }
   ],
   "source": [
    "# 문자열이 리턴되고 있다.\n",
    "# target은 input데이터가 아니기 때문에 레이블 인코딩을 하지않아도 결과를 볼 수 있다.\n",
    "\n",
    "print('model  - predict : ' , y_predict[:5])\n",
    "print('X_test - answer  : ' , y_test[:5])\n",
    "print('accuracy - ' , accuracy_score(y_test , y_predict))"
   ]
  },
  {
   "cell_type": "markdown",
   "id": "cca6ff8a",
   "metadata": {},
   "source": [
    "- 전처리로 표준화를 한다면?"
   ]
  },
  {
   "cell_type": "code",
   "execution_count": 34,
   "id": "ecfd2ecd",
   "metadata": {},
   "outputs": [
    {
     "name": "stdout",
     "output_type": "stream",
     "text": [
      "model  - predict :  ['Smelt' 'Bream' 'Pike' 'Perch' 'Perch']\n",
      "X_test - answer  :  ['Smelt' 'Bream' 'Pike' 'Perch' 'Perch']\n",
      "accuracy -  0.84375\n"
     ]
    }
   ],
   "source": [
    "scaler = StandardScaler()\n",
    "X_train_scaler = scaler.fit_transform(X_train)\n",
    "X_test_scaler = scaler.fit_transform(X_test)\n",
    "knn.fit(X_train_scaler , y_train)\n",
    "y_predict_scaler = knn.predict(X_test_scaler)\n",
    "\n",
    "print('model  - predict : ' , y_predict_scaler[:5])\n",
    "print('X_test - answer  : ' , y_test[:5])\n",
    "print('accuracy - ' , accuracy_score(y_test , y_predict_scaler))"
   ]
  },
  {
   "cell_type": "code",
   "execution_count": 27,
   "id": "9dbbc30d",
   "metadata": {},
   "outputs": [
    {
     "data": {
      "text/plain": [
       "array([[ 8.76232783e-01,  6.06856175e-01,  7.74466186e-01,\n",
       "         1.31449833e+00,  8.90626464e-01],\n",
       "       [ 1.48568087e+00,  8.53561470e-01,  1.03619852e+00,\n",
       "         1.87401757e+00,  1.17762766e+00],\n",
       "       [-7.38804639e-01, -7.25352419e-01, -7.14700535e-01,\n",
       "        -5.98076356e-01, -4.22093109e-01],\n",
       "       [ 2.66784699e-01,  2.61468762e-01,  4.49557083e-01,\n",
       "         1.20589722e+00,  3.51859138e-01],\n",
       "       [ 5.41036337e-01,  1.54433630e+00,  1.41525914e+00,\n",
       "        -2.34451388e-01,  5.26083738e-01],\n",
       "       [-7.23568437e-01, -6.26670301e-01, -6.87624777e-01,\n",
       "        -7.19323280e-01, -3.65217129e-01],\n",
       "       [ 1.94276693e+00,  1.64301842e+00,  1.48746116e+00,\n",
       "         8.54755937e-01,  2.02948720e+00],\n",
       "       [ 1.80564111e+00,  1.10026677e+00,  1.25280459e+00,\n",
       "         2.15065047e+00,  1.23468652e+00],\n",
       "       [-4.95025406e-01, -4.29306065e-01, -3.89791432e-01,\n",
       "         3.58419436e-01, -3.67594581e-01],\n",
       "       [-6.77859831e-01, -6.56274937e-01, -6.24448007e-01,\n",
       "        -6.03746200e-02, -5.92660090e-01],\n",
       "       [-7.69277044e-01, -6.46406725e-01, -6.33473260e-01,\n",
       "        -6.09263035e-01, -5.30907284e-01],\n",
       "       [ 4.61808086e-01,  5.37778692e-01,  3.50279302e-01,\n",
       "         2.85277547e-01,  1.06765524e+00],\n",
       "       [-5.86442618e-01, -6.56274937e-01, -6.24448007e-01,\n",
       "         1.38437910e-01, -5.21946117e-01],\n",
       "       [ 2.05839891e-01,  1.62786644e-01,  3.50279302e-01,\n",
       "         8.44379887e-01,  5.28765993e-01],\n",
       "       [ 9.98122400e-01,  9.52243589e-01,  8.28617703e-01,\n",
       "         4.10739742e-01,  1.28016292e+00],\n",
       "       [-8.45458054e-01, -7.64825267e-01, -8.41054075e-01,\n",
       "        -8.47842704e-01, -7.49693879e-01],\n",
       "       [-5.89489859e-01, -3.30623947e-01, -2.63437892e-01,\n",
       "        -2.92724026e-01, -2.62986669e-01],\n",
       "       [-7.08332235e-01, -4.78647124e-01, -5.52245984e-01,\n",
       "        -6.81455330e-01, -3.91734869e-01],\n",
       "       [ 3.42965710e-01,  3.60150880e-01,  5.48834865e-01,\n",
       "         1.26562899e+00,  5.10599817e-01],\n",
       "       [ 4.19146720e-01,  3.30546244e-01,  5.48834865e-01,\n",
       "         1.25724477e+00,  4.22329270e-01],\n",
       "       [ 1.33331885e+00,  8.93034318e-01,  8.55693462e-01,\n",
       "         6.86237767e-01,  1.40635079e+00],\n",
       "       [-6.47387427e-01, -4.78647124e-01, -5.52245984e-01,\n",
       "        -4.64669999e-01, -3.91734869e-01],\n",
       "       [-1.90301364e-01, -4.97295713e-03, -1.28059100e-01,\n",
       "        -1.10077753e-01,  5.30777683e-01],\n",
       "       [-4.40175078e-01, -8.39186516e-02, -1.91235870e-01,\n",
       "        -3.77585293e-01, -7.47411947e-02],\n",
       "       [ 2.70457703e+00,  2.82720383e+00,  2.66976929e+00,\n",
       "         4.37282048e-01,  1.65708059e+00],\n",
       "       [-9.82583873e-01, -1.21876301e+00, -1.27426621e+00,\n",
       "        -1.15208331e+00, -1.11838191e+00],\n",
       "       [-9.47540608e-01, -1.10034447e+00, -1.16596318e+00,\n",
       "        -9.74115527e-01, -9.96705104e-01],\n",
       "       [-1.08161919e+00, -1.66283254e+00, -1.67137734e+00,\n",
       "        -1.58102181e+00, -1.89379720e+00],\n",
       "       [ 4.19146720e-01,  4.09491939e-01,  5.66885370e-01,\n",
       "         1.14899107e+00,  6.18099264e-02],\n",
       "       [ 9.82886198e-01,  6.56197234e-01,  8.19592450e-01,\n",
       "         1.66649657e+00,  6.72876194e-01],\n",
       "       [-6.62623629e-01, -5.27988183e-01, -5.25170225e-01,\n",
       "        -5.01287265e-01, -4.38186634e-01],\n",
       "       [ 5.89792183e-01,  7.05538293e-01,  5.75910623e-01,\n",
       "         3.37736818e-01,  1.29290363e+00],\n",
       "       [ 1.02859480e+00,  9.52243589e-01,  8.37642956e-01,\n",
       "         4.71722197e-01,  1.21798339e+00],\n",
       "       [ 1.10477581e+00,  7.54879352e-01,  9.73021749e-01,\n",
       "         1.75135783e+00,  1.08911327e+00],\n",
       "       [-1.90301364e-01,  7.54879352e-01,  7.83491439e-01,\n",
       "        -6.62834026e-01,  7.18074192e-02],\n",
       "       [-8.30221852e-01, -9.52321291e-01, -9.31306604e-01,\n",
       "        -3.22647814e-01, -9.71467531e-01],\n",
       "       [ 1.71422390e+00,  1.19894888e+00,  1.37013287e+00,\n",
       "         2.30587433e+00,  1.51370191e+00],\n",
       "       [-1.00696180e+00, -1.34704976e+00, -1.39159450e+00,\n",
       "        -1.22063936e+00, -1.38221818e+00],\n",
       "       [-1.07430581e+00, -1.53454579e+00, -1.53599855e+00,\n",
       "        -1.52499577e+00, -1.89020054e+00],\n",
       "       [-2.96954779e-01,  1.47634665e-02, -1.10008594e-01,\n",
       "        -4.04544494e-01,  4.16930202e-02],\n",
       "       [ 1.39426365e+00,  1.24828994e+00,  1.11742579e+00,\n",
       "         5.41204675e-01,  1.44073241e+00],\n",
       "       [-5.31592291e-01, -2.71414676e-01, -3.53690421e-01,\n",
       "        -4.78242243e-01, -6.14518446e-02],\n",
       "       [ 7.23870762e-01,  4.58832998e-01,  6.39087393e-01,\n",
       "         1.53781502e+00,  8.00649029e-01],\n",
       "       [-7.54040842e-01, -6.26670301e-01, -6.87624777e-01,\n",
       "        -6.67211422e-01, -5.84674288e-01],\n",
       "       [-5.04167127e-01, -1.72732558e-01, -2.81488398e-01,\n",
       "        -5.18171507e-01, -1.68288889e-02],\n",
       "       [-6.77859831e-01, -4.78647124e-01, -4.61993455e-01,\n",
       "        -5.20719198e-01, -5.74006232e-01],\n",
       "       [-6.47387427e-01, -5.27988183e-01, -4.89069214e-01,\n",
       "        -6.93383155e-01, -3.12242609e-01],\n",
       "       [ 4.49619124e-01,  1.49499524e+00,  1.38818338e+00,\n",
       "        -4.57026926e-01,  1.17283819e-01],\n",
       "       [-8.66788737e-01, -8.43770961e-01, -8.04953064e-01,\n",
       "        -7.46398286e-01, -8.30405346e-01],\n",
       "       [-8.39363573e-01, -7.45088843e-01, -7.14700535e-01,\n",
       "        -7.36902347e-01, -6.65690556e-01],\n",
       "       [-1.29356556e-01,  2.61468762e-01,  1.33673233e-01,\n",
       "        -2.73917436e-01,  3.07845786e-01],\n",
       "       [-6.16915023e-01, -4.78647124e-01, -4.34917697e-01,\n",
       "        -4.08759765e-01, -2.72069757e-01],\n",
       "       [ 1.98847554e+00,  1.24828994e+00,  1.10840054e+00,\n",
       "         8.29742245e-01,  1.94816613e+00],\n",
       "       [-1.90301364e-01, -1.33259711e-01, -1.00983341e-01,\n",
       "         5.95169399e-01, -1.98769050e-02],\n",
       "       [-8.45458054e-01, -7.25352419e-01, -8.23003570e-01,\n",
       "        -8.60720123e-01, -9.11116812e-01],\n",
       "       [-6.47387427e-01, -7.25352419e-01, -6.96650030e-01,\n",
       "         2.18926340e-02, -5.93635455e-01],\n",
       "       [-1.04383341e+00, -1.21876301e+00, -1.25621571e+00,\n",
       "        -1.35863156e+00, -1.45537057e+00],\n",
       "       [-1.10447349e+00, -6.76011360e-01, -6.60549018e-01,\n",
       "        -5.38043495e-01, -5.57790786e-01],\n",
       "       [ 2.66784699e-01,  2.31864126e-01,  4.13456072e-01,\n",
       "         1.11267490e+00,  4.02821967e-01],\n",
       "       [ 1.79040491e+00,  2.40287072e+00,  2.25460765e+00,\n",
       "         2.96283499e-02,  1.16104645e+00],\n",
       "       [-1.72017921e-01,  6.41045255e-02,  6.14712104e-02,\n",
       "        -4.69599425e-03,  2.52981496e-01],\n",
       "       [ 1.69898770e+00,  1.10026677e+00,  1.26182984e+00,\n",
       "         2.13974172e+00,  1.24340385e+00],\n",
       "       [ 2.24749097e+00,  1.44565418e+00,  1.30695610e+00,\n",
       "         9.26878749e-01,  1.58606182e+00],\n",
       "       [ 6.23311828e-01,  1.84038265e+00,  1.67699147e+00,\n",
       "        -2.33061739e-01,  3.67830743e-01],\n",
       "       [ 7.84815570e-01,  7.05538293e-01,  8.64718715e-01,\n",
       "         1.55743224e+00,  6.17829023e-01],\n",
       "       [-7.08332235e-01, -5.27988183e-01, -5.97372248e-01,\n",
       "        -6.22626832e-01, -4.52085588e-01],\n",
       "       [ 1.94276693e+00,  9.52243589e-01,  1.12645105e+00,\n",
       "         2.35284448e+00,  1.42427312e+00],\n",
       "       [-6.62623629e-01, -3.30623947e-01, -4.16867191e-01,\n",
       "        -5.61250643e-01, -2.69204622e-01],\n",
       "       [-6.47387427e-01, -4.29306065e-01, -5.07119720e-01,\n",
       "        -8.29105596e-01, -3.90515662e-01],\n",
       "       [-4.95025406e-01, -3.79965006e-01, -2.99538904e-01,\n",
       "        -3.24593323e-01, -8.49825288e-02],\n",
       "       [-1.04444285e+00, -1.28784049e+00, -1.34646824e+00,\n",
       "        -1.37238909e+00, -1.34076516e+00],\n",
       "       [-1.07461053e+00, -1.59375506e+00, -1.59917532e+00,\n",
       "        -1.55526697e+00, -1.82235170e+00],\n",
       "       [-7.38804639e-01, -8.24034537e-01, -7.95927811e-01,\n",
       "        -9.40504610e-02, -8.22053782e-01],\n",
       "       [ 9.82886198e-01,  9.02902529e-01,  8.01541945e-01,\n",
       "         4.82376177e-01,  1.58337956e+00],\n",
       "       [ 1.07125617e+00,  8.53561470e-01,  1.02717327e+00,\n",
       "         1.78772033e+00,  9.66156303e-01],\n",
       "       [-4.18844395e-01, -3.30623947e-01, -4.16867191e-01,\n",
       "        -3.48634260e-01, -3.31384150e-01],\n",
       "       [-7.69277044e-01, -6.26670301e-01, -6.87624777e-01,\n",
       "        -7.19323280e-01, -4.33797491e-01],\n",
       "       [ 4.19146720e-01,  2.31864126e-01,  3.95405566e-01,\n",
       "         1.24633602e+00,  6.16853658e-01],\n",
       "       [ 1.94276693e+00,  1.59367736e+00,  1.43330964e+00,\n",
       "         8.81437209e-01,  2.36245248e+00],\n",
       "       [-9.21639065e-01, -1.16942195e+00, -1.14791267e+00,\n",
       "        -5.14419453e-01, -1.19019317e+00],\n",
       "       [-1.06364047e+00, -1.47533652e+00, -1.49989753e+00,\n",
       "        -1.47494523e+00, -1.82735045e+00],\n",
       "       [ 5.41036337e-01,  3.60150880e-01,  3.50279302e-01,\n",
       "         4.50645845e-01,  1.39927939e+00],\n",
       "       [-1.07461053e+00, -1.51480936e+00, -1.52697329e+00,\n",
       "        -1.52719605e+00, -1.90086860e+00],\n",
       "       [-5.55970214e-01, -2.31941829e-01, -3.26614662e-01,\n",
       "        -5.46311910e-01, -3.55463477e-01],\n",
       "       [-8.66788737e-01, -8.53639173e-01, -9.67407615e-01,\n",
       "        -8.33575635e-01, -6.96902241e-01],\n",
       "       [-2.72576855e-01, -2.31941829e-01, -1.91235870e-01,\n",
       "         5.30319086e-01, -7.47411947e-02],\n",
       "       [-5.31755450e-02,  1.10026677e+00,  9.82047002e-01,\n",
       "        -5.56386870e-01, -1.76544932e-01],\n",
       "       [-7.69277044e-01, -5.27988183e-01, -5.97372248e-01,\n",
       "        -7.58696685e-01, -1.65572074e-01],\n",
       "       [-2.20773768e-01, -1.33259711e-01, -8.29328353e-02,\n",
       "         1.81869018e-02,  1.40326821e-01],\n",
       "       [-3.67041308e-01, -1.92468982e-01, -1.07308125e-02,\n",
       "         6.30373855e-01, -1.50331994e-01],\n",
       "       [-1.08649477e+00, -1.87006499e+00, -1.92408442e+00,\n",
       "        -1.54859666e+00, -1.74261560e+00],\n",
       "       [ 1.86658592e+00,  1.34697206e+00,  1.42428439e+00,\n",
       "         2.27835927e+00,  1.51223887e+00],\n",
       "       [ 1.67478253e-03,  1.62786644e-01,  3.05153038e-01,\n",
       "         9.10619849e-01,  1.15150208e-01],\n",
       "       [-1.08405698e+00, -1.73191002e+00, -1.74357936e+00,\n",
       "        -1.63503286e+00, -1.96231660e+00],\n",
       "       [ 1.63804289e+00,  1.24828994e+00,  1.11742579e+00,\n",
       "         6.79011589e-01,  1.80344632e+00],\n",
       "       [-5.86442618e-01, -3.79965006e-01, -4.61993455e-01,\n",
       "        -5.84411469e-01, -3.30164944e-01],\n",
       "       [-2.81718576e-01, -1.33259711e-01, -1.28059100e-01,\n",
       "        -9.67834384e-02, -1.15863012e-02],\n",
       "       [-4.95025406e-01,  4.88437633e-01,  4.22481325e-01,\n",
       "        -7.48158509e-01, -5.43160309e-01],\n",
       "       [ 1.63804289e+00,  1.14960782e+00,  1.01814801e+00,\n",
       "         5.41575248e-01,  1.96706383e+00],\n",
       "       [-1.07491526e+00, -1.61349148e+00, -1.63527633e+00,\n",
       "        -1.52914156e+00, -1.75968449e+00],\n",
       "       [ 6.47689751e-01,  6.56197234e-01,  8.46668209e-01,\n",
       "         1.46613226e+00,  7.94248195e-01],\n",
       "       [-9.36875267e-01, -1.24836765e+00, -1.22913995e+00,\n",
       "        -4.51815740e-01, -1.18269505e+00],\n",
       "       [-9.82583873e-01, -1.30757692e+00, -1.25621571e+00,\n",
       "        -1.07722752e+00, -1.21835683e+00],\n",
       "       [-3.42663385e-01,  6.41045255e-02, -6.48823296e-02,\n",
       "        -2.26484064e-01, -3.80430809e-02],\n",
       "       [-1.06729716e+00, -1.41612725e+00, -1.47282178e+00,\n",
       "        -1.51038129e+00, -1.83539721e+00],\n",
       "       [ 8.39502739e-02,  4.29228363e-01,  4.40531830e-01,\n",
       "         1.59051046e-01,  6.63488304e-01],\n",
       "       [ 3.61874916e+00,  3.22193230e+00,  3.05785516e+00,\n",
       "         1.85685995e-01,  1.14446524e+00],\n",
       "       [-7.08332235e-01, -5.97065666e-01, -6.60549018e-01,\n",
       "        -5.59166169e-01, -4.46599159e-01],\n",
       "       [ 9.67649996e-01,  7.54879352e-01,  9.45945990e-01,\n",
       "         1.54490223e+00,  1.13629656e+00],\n",
       "       [-1.90301364e-01,  6.56197234e-01,  6.93238910e-01,\n",
       "        -7.15779674e-01, -6.62067497e-02],\n",
       "       [-5.55970214e-01, -2.12205405e-01, -2.00261122e-01,\n",
       "        -3.96438205e-01, -2.19826761e-01],\n",
       "       [ 8.39502739e-02,  2.61468762e-01,  4.40531830e-01,\n",
       "         8.96723354e-01,  2.58102163e-01],\n",
       "       [-2.20773768e-01, -1.03655075e-01,  9.75722218e-02,\n",
       "         8.52717784e-01,  2.37706855e-02],\n",
       "       [-2.81718576e-01, -8.39186516e-02, -7.39075825e-02,\n",
       "        -1.51211380e-01, -1.10376583e-02],\n",
       "       [-1.06729716e+00, -1.49507294e+00, -1.50892279e+00,\n",
       "        -1.55359939e+00, -1.75139389e+00],\n",
       "       [ 2.85068142e-01,  1.49499524e+00,  1.38818338e+00,\n",
       "        -3.51645168e-01,  3.40729800e-02],\n",
       "       [ 1.24190163e+00,  2.03774689e+00,  1.90262279e+00,\n",
       "        -2.59001864e-01,  6.76289972e-01],\n",
       "       [-1.07400109e+00, -1.53454579e+00, -1.53599855e+00,\n",
       "        -1.52499577e+00, -1.81832832e+00],\n",
       "       [ 7.23870762e-01,  4.58832998e-01,  6.39087393e-01,\n",
       "         1.42580926e+00,  5.51199391e-01],\n",
       "       [-6.93096033e-01, -5.27988183e-01, -5.97372248e-01,\n",
       "        -6.77054773e-01, -4.52085588e-01],\n",
       "       [-8.60694256e-01, -8.24034537e-01, -8.95205593e-01,\n",
       "        -7.32455469e-01, -7.41525196e-01],\n",
       "       [-8.91166660e-01, -9.81925926e-01, -1.04863489e+00,\n",
       "        -9.75134604e-01, -8.07789066e-01],\n",
       "       [-7.38804639e-01, -6.26670301e-01, -5.79321743e-01,\n",
       "        -6.21561434e-01, -5.92721050e-01],\n",
       "       [-6.62623629e-01, -5.77329242e-01, -5.43220731e-01,\n",
       "         2.17277362e-01, -6.76358612e-01],\n",
       "       [ 1.02859480e+00,  5.57515116e-01,  7.38365175e-01,\n",
       "         1.40403809e+00,  6.21059920e-01],\n",
       "       [-3.42663385e-01,  1.47634665e-02, -1.10008594e-01,\n",
       "        -3.50996665e-01,  1.82633285e-01],\n",
       "       [ 1.08953961e+00,  7.54879352e-01,  9.45945990e-01,\n",
       "         1.75177473e+00,  1.11154667e+00]])"
      ]
     },
     "execution_count": 27,
     "metadata": {},
     "output_type": "execute_result"
    }
   ],
   "source": [
    "X_train_scaler"
   ]
  },
  {
   "cell_type": "code",
   "execution_count": 28,
   "id": "8e32d4e6",
   "metadata": {
    "collapsed": true
   },
   "outputs": [
    {
     "data": {
      "text/plain": [
       "array([[-1.254145  , -1.82289213, -1.85469995, -1.91145779, -2.18967269],\n",
       "       [ 0.96485102,  0.71367695,  0.87599835,  1.98334344,  0.79475009],\n",
       "       [ 2.49714403,  2.3363979 ,  2.28565087, -0.01405755,  0.66182347],\n",
       "       [-1.03891676, -1.25066947, -1.32305958, -1.10383415, -0.99456551],\n",
       "       [ 0.72911364,  0.62827058,  0.53768175,  0.5656331 ,  1.22662957],\n",
       "       [-0.09596722, -0.14038671,  0.04631715,  1.17375314, -0.11836485],\n",
       "       [-0.89511696, -0.7894751 , -0.71892278, -0.68239711, -0.81286978],\n",
       "       [-0.09596722,  1.05530241,  0.99682571, -0.67126931, -0.07059343],\n",
       "       [-0.99176929, -0.90904401, -0.97668781, -0.9998752 , -0.87519564],\n",
       "       [-1.11199535, -1.2335882 , -1.23445285, -1.08493931, -1.28794308],\n",
       "       [-0.56744199, -0.33682136, -0.44504744, -0.51562962, -0.2235324 ],\n",
       "       [ 0.7055399 ,  0.20123875,  0.13492388,  0.45604802,  1.63116079],\n",
       "       [ 0.25763886,  0.54286421,  0.46518533,  0.36846957,  0.57907444],\n",
       "       [ 1.3184571 ,  0.88448968,  0.79544678,  0.71099142,  1.40861874],\n",
       "       [-0.93283494, -0.84925955, -0.92030171, -0.92190598, -0.81357403],\n",
       "       [ 0.65839242,  0.54286421,  0.45713017,  0.69077718,  1.37041334],\n",
       "       [ 0.16334391,  0.0731292 ,  0.23964093,  1.48782071,  0.06896486],\n",
       "       [-0.66173694, -0.439309  , -0.54170932, -0.61968815, -0.39982891],\n",
       "       [-0.47314704, -0.05498035,  0.13492388,  1.05961239,  0.03316563],\n",
       "       [-0.56744199,  0.39767339,  0.33630281, -0.83846001, -0.58481112],\n",
       "       [-0.99176929, -0.90904401, -0.97668781, -0.88287159, -0.94415316],\n",
       "       [ 0.37550756,  0.28664512,  0.21547546,  0.23715169,  1.01206898],\n",
       "       [ 1.08271972,  0.88448968,  0.77128131,  0.56667867,  1.3268674 ],\n",
       "       [-0.47314704, -0.52471536, -0.36449586,  0.67745868, -0.18790924],\n",
       "       [-0.89747433, -0.86634083, -0.85586046, -0.81067787, -0.7138057 ],\n",
       "       [ 0.37550756,  0.20123875,  0.39268892,  1.63905409,  0.33610922],\n",
       "       [ 2.61501273,  2.62677955,  2.60785716,  0.2876624 ,  1.44588514],\n",
       "       [-0.63344846, -0.48201218, -0.40477165, -0.2709676 , -0.14242662],\n",
       "       [ 1.08271972,  0.62827058,  0.63434363,  0.67153382,  0.88542189],\n",
       "       [ 0.37550756,  0.03042602,  0.23158577,  1.31480473,  0.10634863],\n",
       "       [-1.25815253, -1.88267658, -1.93525153, -1.97364397, -2.26995685],\n",
       "       [-0.26098339,  0.45745785,  0.39268892, -0.58911784, -0.25809919]])"
      ]
     },
     "execution_count": 28,
     "metadata": {},
     "output_type": "execute_result"
    }
   ],
   "source": [
    "X_test_scaler"
   ]
  },
  {
   "cell_type": "markdown",
   "id": "093ad2b6",
   "metadata": {},
   "source": [
    "- 다중분류의 분류기의 확률 예측"
   ]
  },
  {
   "cell_type": "code",
   "execution_count": 37,
   "id": "28444caa",
   "metadata": {},
   "outputs": [
    {
     "name": "stdout",
     "output_type": "stream",
     "text": [
      "['Bream' 'Parkki' 'Perch' 'Pike' 'Roach' 'Smelt' 'Whitefish']\n",
      "['Bream' 'Roach' 'Whitefish' 'Parkki' 'Perch' 'Pike' 'Smelt']\n"
     ]
    }
   ],
   "source": [
    "# knn.classes_\n",
    "# target\n",
    "# 데이터의 정렬 순서가 다르다.\n",
    "\n",
    "print(knn.classes_)\n",
    "print(pd.unique(multi_classification_frm['Species']))"
   ]
  },
  {
   "cell_type": "markdown",
   "id": "6e4eb377",
   "metadata": {},
   "source": [
    "- 어떤 확률로 만들어졌을까?\n",
    "- predict_proba()"
   ]
  },
  {
   "cell_type": "code",
   "execution_count": 43,
   "id": "ff72d71b",
   "metadata": {},
   "outputs": [
    {
     "name": "stdout",
     "output_type": "stream",
     "text": [
      "확률 값 - : \n",
      "[[0.     0.     0.3333 0.     0.     0.6667 0.    ]\n",
      " [1.     0.     0.     0.     0.     0.     0.    ]\n",
      " [0.     0.     0.     1.     0.     0.     0.    ]\n",
      " [0.     0.     0.6667 0.     0.3333 0.     0.    ]\n",
      " [0.     0.     0.6667 0.     0.     0.     0.3333]]\n",
      "\n",
      "정렬된 target -  ['Bream' 'Parkki' 'Perch' 'Pike' 'Roach' 'Smelt' 'Whitefish']\n",
      "model - predict :  ['Smelt' 'Bream' 'Pike' 'Parkki' 'Perch']\n"
     ]
    }
   ],
   "source": [
    "y_predict_scaler_proba = knn.predict_proba(X_test_scaler)\n",
    "\n",
    "print('확률 값 - : ' )\n",
    "print(np.round(y_predict_scaler_proba[:5] , 4))\n",
    "print()\n",
    "print('정렬된 target - ' , knn.classes_)\n",
    "print('model - predict : ' , y_predict[:5])"
   ]
  },
  {
   "cell_type": "markdown",
   "id": "6aee1069",
   "metadata": {},
   "source": [
    "- logistic regression_회귀지만 분류모델이다.\n",
    "- 회귀( 0 ~ 1 , 0% ~ 100%)\n",
    "- 시그모이드(sigmoid function) , logistic function"
   ]
  },
  {
   "cell_type": "code",
   "execution_count": 52,
   "id": "3a150280",
   "metadata": {},
   "outputs": [
    {
     "data": {
      "image/png": "[encoded data removed]",
      "text/plain": [
       "<Figure size 432x288 with 1 Axes>"
      ]
     },
     "metadata": {
      "needs_background": "light"
     },
     "output_type": "display_data"
    }
   ],
   "source": [
    "z = np.arange(-5 , 5 , 0.1)\n",
    "# print(z)\n",
    "\n",
    "phi = 1 / (1 + np.exp(-z))\n",
    "# print(phi)\n",
    "\n",
    "plt.plot(z , phi)\n",
    "plt.xlabel('z')\n",
    "plt.ylabel('phi')\n",
    "plt.show()\n",
    "plt.close()\n",
    "\n",
    "# 아래의 선형방정식을 사용하여 z값을 기준으로 0보다 크면 모두 1로 반환 0보다 작으면 모두 0으로 반환한다."
   ]
  },
  {
   "cell_type": "code",
   "execution_count": 82,
   "id": "50245410",
   "metadata": {},
   "outputs": [
    {
     "name": "stdout",
     "output_type": "stream",
     "text": [
      "\n",
      "\n",
      "\n"
     ]
    }
   ],
   "source": [
    "bream_smelt_train_idx = (y_train== 'Bream') | (y_train == 'Smelt')\n",
    "\n",
    "X_train_scaler_bream_smelt = X_train_scaler[bream_smelt_idx]\n",
    "y_train_bream_smelt = y_train[bream_smelt_idx]\n",
    "\n",
    "\n",
    "print()\n",
    "\n",
    "\n",
    "bream_smelt_test_idx = (y_test== 'Bream') | (y_test == 'Smelt')\n",
    "X_train_scaler_bream_smelt = X_train_scaler[bream_smelt_idx]\n",
    "\n",
    "X_train_scaler_bream_smelt = X_train_scaler[bream_smelt_idx]\n",
    "y_train_bream_smelt = y_train[bream_smelt_idx]\n",
    "\n",
    "print()\n",
    "print()\n",
    "\n",
    "X_test_scaler_bream_smelt = X_test_scaler[bream_smelt_test_idx]\n",
    "y_test_bream_smelt = y_test[bream_smelt_test_idx]\n"
   ]
  },
  {
   "cell_type": "code",
   "execution_count": 83,
   "id": "0ffb3b24",
   "metadata": {},
   "outputs": [
    {
     "name": "stdout",
     "output_type": "stream",
     "text": [
      "이진확률 분류 - \n",
      "['Smelt' 'Bream' 'Bream' 'Bream' 'Bream' 'Bream' 'Bream' 'Bream' 'Smelt']\n",
      "결과를 로지스틱 회귀 확률로 확인\n",
      "[[0.00926313 0.99073687]\n",
      " [0.99761745 0.00238255]\n",
      " [0.94858156 0.05141844]\n",
      " [0.97727126 0.02272874]\n",
      " [0.9459641  0.0540359 ]\n",
      " [0.84045389 0.15954611]\n",
      " [0.98791573 0.01208427]\n",
      " [0.97550998 0.02449002]\n",
      " [0.0074457  0.9925543 ]]\n"
     ]
    }
   ],
   "source": [
    "print('이진확률 분류 - ')\n",
    "logist_model = LogisticRegression()\n",
    "logist_model.fit(X_train_scaler_bream_smelt , y_train_bream_smelt)\n",
    "\n",
    "y_predict = logist_model.predict(X_test_scaler_bream_smelt)\n",
    "print(y_predict)\n",
    "print('결과를 로지스틱 회귀 확률로 확인')\n",
    "print(logist_model.predict_proba(X_test_scaler_bream_smelt))"
   ]
  },
  {
   "cell_type": "code",
   "execution_count": 85,
   "id": "53e89cb0",
   "metadata": {},
   "outputs": [
    {
     "data": {
      "text/plain": [
       "array(['Bream', 'Smelt'], dtype=object)"
      ]
     },
     "execution_count": 85,
     "metadata": {},
     "output_type": "execute_result"
    }
   ],
   "source": [
    "logist_model.classes_"
   ]
  },
  {
   "cell_type": "markdown",
   "id": "31765362",
   "metadata": {},
   "source": [
    "- logistic regression 이진분류지만 다중분류가 가능하다\n",
    "- logistic regression 기본적으로 릿지회귀와 같이 계수의 제곱규제(L2 규제)\n",
    "- logistic regression 규제를 제어하므로 타겟의 수를 늘린다(7개)"
   ]
  },
  {
   "cell_type": "code",
   "execution_count": 97,
   "id": "f915ba48",
   "metadata": {},
   "outputs": [
    {
     "name": "stdout",
     "output_type": "stream",
     "text": [
      "로지스틱을 이용한 다중분류 - \n",
      "model predict -  ['Smelt' 'Bream' 'Bream' 'Bream' 'Bream' 'Bream' 'Bream' 'Bream' 'Smelt']\n",
      "\n",
      "X_test - answer  ['Smelt' 'Bream' 'Pike' 'Perch' 'Perch' 'Bream' 'Roach' 'Pike' 'Perch'\n",
      " 'Roach']\n",
      "\n",
      "\n",
      "확률 - \n",
      "['Bream' 'Parkki' 'Perch' 'Pike' 'Roach' 'Smelt' 'Whitefish']\n",
      "[[0.    0.    0.013 0.    0.001 0.986 0.   ]\n",
      " [0.998 0.002 0.    0.    0.    0.    0.001]\n",
      " [0.    0.    0.01  0.99  0.    0.    0.   ]\n",
      " [0.    0.033 0.756 0.    0.135 0.072 0.004]\n",
      " [0.072 0.001 0.601 0.005 0.019 0.    0.303]\n",
      " [0.678 0.316 0.    0.    0.002 0.    0.004]\n",
      " [0.001 0.108 0.236 0.004 0.59  0.038 0.022]\n",
      " [0.    0.    0.017 0.978 0.005 0.    0.001]\n",
      " [0.    0.022 0.668 0.001 0.24  0.061 0.007]\n",
      " [0.    0.093 0.287 0.    0.216 0.4   0.003]]\n"
     ]
    }
   ],
   "source": [
    "print('로지스틱을 이용한 다중분류 - ')\n",
    "\n",
    "# LogisticRegression(C = ) 규제를 하겠다.\n",
    "\n",
    "logist_model = LogisticRegression(C = 7 , max_iter = 1000)\n",
    "logist_model.fit(X_train_scaler , y_train)\n",
    "logist_model.predict(X_test_scaler)\n",
    "\n",
    "print('model predict - ' , y_predict)\n",
    "print()\n",
    "print('X_test - answer ' , y_test[:10])\n",
    "print()\n",
    "print()\n",
    "logist_model_proba = logist_model.predict_proba(X_test_scaler)\n",
    "print('확률 - ')\n",
    "print(logist_model.classes_)\n",
    "print(np.round(logist_model_proba[:10],3))"
   ]
  },
  {
   "cell_type": "markdown",
   "id": "0be2df94",
   "metadata": {},
   "source": [
    "- 지도학습의 회귀이란 ?\n",
    "- 타겟 중 하나로 분류하는 것이 아니라 임의의 어떠한 숫자를 예측하는 문제\n",
    "- ex) 키 , 몸무게 , 경제 성장률 , 배달 도착시간\n",
    "- 회귀란 정해진 타겟이 없고 임의의 수치를 출력하는 것이다.\n",
    "- 종속변수에 영향을 미치는 독립변수와의 관계를 파악하기 위해서는 상관분석이 필요하다.\n",
    "    - 상관계수가 1에 가깝다면 영향력이 크다.\n",
    "-  용어정라\n",
    "    - 독립변수 (target)\n",
    "    - 종속변수 (feature)\n",
    "    - 독립변수는 종속변수에 영양을 끼친다.\n",
    "- 회귀 : 독립변수를 찾는 일 단, 숫자여야함\n",
    "- 회귀는 독립변수가 종속변수에 어떤 영향을 미치는지를 알아보는 분석방법"
   ]
  },
  {
   "cell_type": "code",
   "execution_count": 99,
   "id": "776c09a2",
   "metadata": {},
   "outputs": [],
   "source": [
    "perch_length = np.array([8.4, 13.7, 15.0, 16.2, 17.4, 18.0, 18.7, 19.0, 19.6, 20.0, 21.0,\n",
    "       21.0, 21.0, 21.3, 22.0, 22.0, 22.0, 22.0, 22.0, 22.5, 22.5, 22.7,\n",
    "       23.0, 23.5, 24.0, 24.0, 24.6, 25.0, 25.6, 26.5, 27.3, 27.5, 27.5,\n",
    "       27.5, 28.0, 28.7, 30.0, 32.8, 34.5, 35.0, 36.5, 36.0, 37.0, 37.0,\n",
    "       39.0, 39.0, 39.0, 40.0, 40.0, 40.0, 40.0, 42.0, 43.0, 43.0, 43.5,\n",
    "       44.0])\n",
    "perch_weight = np.array([5.9, 32.0, 40.0, 51.5, 70.0, 100.0, 78.0, 80.0, 85.0, 85.0, 110.0,\n",
    "       115.0, 125.0, 130.0, 120.0, 120.0, 130.0, 135.0, 110.0, 130.0,\n",
    "       150.0, 145.0, 150.0, 170.0, 225.0, 145.0, 188.0, 180.0, 197.0,\n",
    "       218.0, 300.0, 260.0, 265.0, 250.0, 250.0, 300.0, 320.0, 514.0,\n",
    "       556.0, 840.0, 685.0, 700.0, 700.0, 690.0, 900.0, 650.0, 820.0,\n",
    "       850.0, 900.0, 1015.0, 820.0, 1100.0, 1000.0, 1100.0, 1000.0,\n",
    "       1000.0])\n"
   ]
  },
  {
   "cell_type": "code",
   "execution_count": 104,
   "id": "8e6ff363",
   "metadata": {},
   "outputs": [
    {
     "name": "stdout",
     "output_type": "stream",
     "text": [
      "데이터가 어떤 형태를 띄고 있는 지 시각화 -\n",
      "perch -> 농어\n"
     ]
    },
    {
     "data": {
      "image/png": "[encoded data removed]",
      "text/plain": [
       "<Figure size 432x288 with 1 Axes>"
      ]
     },
     "metadata": {
      "needs_background": "light"
     },
     "output_type": "display_data"
    },
    {
     "name": "stdout",
     "output_type": "stream",
     "text": [
      "농어의 길이가 길수록 농어의 무게가 증가한다.\n"
     ]
    }
   ],
   "source": [
    "print('데이터가 어떤 형태를 띄고 있는 지 시각화 -')\n",
    "print('perch -> 농어')\n",
    "plt.scatter(perch_length , perch_weight , color = 'red')\n",
    "plt.show()\n",
    "plt.close()\n",
    "\n",
    "print('농어의 길이가 길수록 농어의 무게가 증가한다.')"
   ]
  },
  {
   "cell_type": "code",
   "execution_count": 107,
   "id": "b14b777d",
   "metadata": {},
   "outputs": [
    {
     "name": "stdout",
     "output_type": "stream",
     "text": [
      "데이터 분리 - \n",
      "학습에 필요한 데이터셋은 2차원 배열이어야한다. - reshape\n",
      "농어의 무게를 예측하려고 한다. 그런데 무게에 영향을 미치는 요소는 길이가 된다.\n",
      "shqpe -  (44,) (12,) (44,) (12,)\n"
     ]
    }
   ],
   "source": [
    "# 1 데이터 분리\n",
    "\n",
    "\n",
    "print('데이터 분리 - ')\n",
    "print('학습에 필요한 데이터셋은 2차원 배열이어야한다. - reshape')\n",
    "print('농어의 무게를 예측하려고 한다. 그런데 무게에 영향을 미치는 요소는 길이가 된다.')\n",
    "X_train , X_test , y_train , y_test = train_test_split ( perch_length\n",
    "                                                       , perch_weight\n",
    "                                                        # 테스트 데이터의 비율 20퍼센트\n",
    "                                                       , test_size = 0.2\n",
    "                                                        # 데이터 셔플\n",
    "                                                       , shuffle   = True\n",
    "                                                       , random_state = 200)\n",
    "print('shqpe - ' , X_train.shape , X_test.shape , y_train.shape , y_test.shape)"
   ]
  },
  {
   "cell_type": "code",
   "execution_count": 108,
   "id": "91125210",
   "metadata": {},
   "outputs": [],
   "source": [
    "X_train = X_train.reshape(-1 ,1)\n",
    "X_test  = X_test.reshape(-1 , 1)"
   ]
  },
  {
   "cell_type": "code",
   "execution_count": 109,
   "id": "bc2fd631",
   "metadata": {},
   "outputs": [
    {
     "name": "stdout",
     "output_type": "stream",
     "text": [
      "shqpe -  (44, 1) (12, 1) (44,) (12,)\n"
     ]
    }
   ],
   "source": [
    "print('shqpe - ' , X_train.shape , X_test.shape , y_train.shape , y_test.shape)"
   ]
  },
  {
   "cell_type": "code",
   "execution_count": 139,
   "id": "f3e728bd",
   "metadata": {},
   "outputs": [
    {
     "name": "stdout",
     "output_type": "stream",
     "text": [
      "\n",
      "mse - 모델이 예측값과 실제값 차이의 면적을 제곱한 합이다. (작을수록 성능이 뛰어나다.)\n",
      "특이값에 민감한 특징을 가진다.\n",
      "mse -  11274.808333333334\n",
      "\n",
      "mae -  모델이 예측값과 실제값  차이의 절댓값의 평균\n",
      "가장 직관적인 지표\n",
      "mae -  76.78333333333333\n",
      "\n",
      "rmse - mse에 루트를 씌운 것\n",
      "rmse 사용하면 오류지표가 실제값과 유사한 단위로 다시 변환되어 해석이 용이하다.\n",
      "rmse -  106.18290038105634\n"
     ]
    }
   ],
   "source": [
    "# 분류방식 설정\n",
    "\n",
    "knn_regression_model = KNeighborsRegressor()\n",
    "knn_regression_model.fit(X_train , y_train)\n",
    "y_predict = knn_regression_model.predict(X_test)\n",
    "print()\n",
    "\n",
    "\n",
    "mse = mean_squared_error(y_test , y_predict)\n",
    "mae = mean_absolute_error(y_test , y_predict)\n",
    "rmse = np.sqrt(mean_squared_error(y_test , y_predict))\n",
    "\n",
    "print('mse - 모델이 예측값과 실제값 차이의 면적을 제곱한 합이다. (작을수록 성능이 뛰어나다.)')\n",
    "print('특이값에 민감한 특징을 가진다.')\n",
    "print('mse - ' , mse)\n",
    "print()\n",
    "print('mae -  모델이 예측값과 실제값  차이의 절댓값의 평균' )\n",
    "print('가장 직관적인 지표')\n",
    "print('mae - ' , mae)\n",
    "print()\n",
    "print('rmse - mse에 루트를 씌운 것')\n",
    "print('rmse 사용하면 오류지표가 실제값과 유사한 단위로 다시 변환되어 해석이 용이하다.')\n",
    "print('rmse - ' , rmse)\n",
    "\n",
    "\n",
    "# rmse를 0에 가깝게 만들어가는 과정"
   ]
  },
  {
   "cell_type": "code",
   "execution_count": 123,
   "id": "199163b2",
   "metadata": {},
   "outputs": [
    {
     "name": "stdout",
     "output_type": "stream",
     "text": [
      "train - score :  0.9883720473430138\n",
      "test  - score :  0.9002306544743127\n"
     ]
    }
   ],
   "source": [
    "print('train - score : ' , knn_regression_model.score(X_train , y_train))\n",
    "print('test  - score : ' , knn_regression_model.score(X_test , y_test))\n"
   ]
  },
  {
   "cell_type": "markdown",
   "id": "e0efb63c",
   "metadata": {},
   "source": [
    "- 회귀는 평가지표로 분류 모델의 평가지표가 아닌 절댓값의 오차 평균을 측정도구로 사용한다.\n",
    "- 회귀란 기울기와 절편의 값을 학습을 통해서 조정해나가는 방식으로 오차를 줄이는 것이다.\n",
    "- y = (a * x) + bias"
   ]
  },
  {
   "cell_type": "code",
   "execution_count": 142,
   "id": "05f7fdff",
   "metadata": {},
   "outputs": [
    {
     "name": "stdout",
     "output_type": "stream",
     "text": [
      "answer -  900.0\n",
      "guess  -  855.0\n"
     ]
    }
   ],
   "source": [
    "print('answer - ' , y_test[0])\n",
    "print('guess  - ' , y_predict[0])\n",
    "print()"
   ]
  },
  {
   "cell_type": "code",
   "execution_count": 144,
   "id": "96c6b063",
   "metadata": {},
   "outputs": [
    {
     "data": {
      "text/plain": [
       "12"
      ]
     },
     "execution_count": 144,
     "metadata": {},
     "output_type": "execute_result"
    }
   ],
   "source": [
    "for i in range(12) : "
   ]
  },
  {
   "cell_type": "code",
   "execution_count": null,
   "id": "9724b3c4",
   "metadata": {},
   "outputs": [],
   "source": []
  },
  {
   "cell_type": "code",
   "execution_count": null,
   "id": "bad64bbf",
   "metadata": {},
   "outputs": [],
   "source": []
  },
  {
   "cell_type": "code",
   "execution_count": null,
   "id": "59fbf332",
   "metadata": {},
   "outputs": [],
   "source": []
  },
  {
   "cell_type": "code",
   "execution_count": null,
   "id": "e22cdb50",
   "metadata": {},
   "outputs": [],
   "source": []
  },
  {
   "cell_type": "code",
   "execution_count": null,
   "id": "4588ffbe",
   "metadata": {},
   "outputs": [],
   "source": []
  },
  {
   "cell_type": "code",
   "execution_count": null,
   "id": "1c0c6eca",
   "metadata": {},
   "outputs": [],
   "source": []
  },
  {
   "cell_type": "code",
   "execution_count": null,
   "id": "8c4528d5",
   "metadata": {},
   "outputs": [],
   "source": []
  }
 ],
 "metadata": {
  "kernelspec": {
   "display_name": "Python 3 (ipykernel)",
   "language": "python",
   "name": "python3"
  },
  "language_info": {
   "codemirror_mode": {
    "name": "ipython",
    "version": 3
   },
   "file_extension": ".py",
   "mimetype": "text/x-python",
   "name": "python",
   "nbconvert_exporter": "python",
   "pygments_lexer": "ipython3",
   "version": "3.9.12"
  }
 },
 "nbformat": 4,
 "nbformat_minor": 5
}
