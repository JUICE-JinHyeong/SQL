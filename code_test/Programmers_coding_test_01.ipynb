{
 "cells": [
  {
   "cell_type": "markdown",
   "id": "abbdf1ad",
   "metadata": {},
   "source": [
    "#### remember def"
   ]
  },
  {
   "cell_type": "code",
   "execution_count": 80,
   "id": "7e344114",
   "metadata": {},
   "outputs": [],
   "source": [
    "# *args 의 *은 변수의 개수가 다수라는 뜻이다.\n",
    "# 전달시 튜플로 전달\n",
    "def func6(*args):\n",
    "    a = 0\n",
    "    for i in args:\n",
    "        a = a + i\n",
    "    return a"
   ]
  },
  {
   "cell_type": "code",
   "execution_count": 81,
   "id": "a831ee2f",
   "metadata": {},
   "outputs": [],
   "source": [
    "# **dicts 의 **은 변수의 개수가 다수라는 뜻이다.\n",
    "# 전달시 dict로 전달\n",
    "def func7(**dicts):\n",
    "    pass"
   ]
  },
  {
   "cell_type": "markdown",
   "id": "cc62dfae",
   "metadata": {},
   "source": [
    "##### 정수 n이 주어질 때, n이하의 짝수를 모두 더한 값을 return 하도록 solution 함수를 작성해주세요.\n",
    "- 한 줄 코드"
   ]
  },
  {
   "cell_type": "code",
   "execution_count": 30,
   "id": "ad3cd633",
   "metadata": {},
   "outputs": [],
   "source": [
    "def solution(n):\n",
    "    answer = sum([x for x in range(n+1) if x%2 == 0])\n",
    "    return answer"
   ]
  },
  {
   "cell_type": "code",
   "execution_count": 45,
   "id": "fd98caca",
   "metadata": {},
   "outputs": [
    {
     "name": "stdout",
     "output_type": "stream",
     "text": [
      "insert -  95\n"
     ]
    },
    {
     "data": {
      "text/plain": [
       "2256"
      ]
     },
     "execution_count": 45,
     "metadata": {},
     "output_type": "execute_result"
    }
   ],
   "source": [
    "import numpy as np\n",
    "\n",
    "ran_nu = np.random.randint(0,100)\n",
    "print('insert - ' , ran_nu)\n",
    "solution(ran_nu)"
   ]
  },
  {
   "cell_type": "markdown",
   "id": "72d97014",
   "metadata": {},
   "source": [
    "##### 머쓱이네 양꼬치 가게는 10인분을 먹으면 음료수 하나를 서비스로 줍니다. \n",
    "##### 양꼬치는 1인분에 12,000원, 음료수는 2,000원입니다. \n",
    "##### 정수 n과 k가 매개변수로 주어졌을 때, 양꼬치 n인분과 음료수 k개를 먹었다면 \n",
    "##### 총얼마를 지불해야 하는지 return 하도록 solution 함수를 완성해보세요.\n",
    "- 한 줄 코드"
   ]
  },
  {
   "cell_type": "markdown",
   "id": "6bd06ffc",
   "metadata": {},
   "source": [
    "- 제한사항\n",
    "- 0 < n < 1,000\n",
    "- n / 10 ≤ k < 1,000\n",
    "- 서비스로 받은 음료수는 모두 마십니다."
   ]
  },
  {
   "cell_type": "code",
   "execution_count": 46,
   "id": "2e24db06",
   "metadata": {},
   "outputs": [],
   "source": [
    "def solution(n, k):\n",
    "    answer = 12000*n + 2000*(k - n//10)\n",
    "    return answer"
   ]
  },
  {
   "cell_type": "code",
   "execution_count": 56,
   "id": "f3cf167e",
   "metadata": {},
   "outputs": [
    {
     "name": "stdout",
     "output_type": "stream",
     "text": [
      "n -  801\n",
      "k -  80\n"
     ]
    },
    {
     "data": {
      "text/plain": [
       "9612000"
      ]
     },
     "execution_count": 56,
     "metadata": {},
     "output_type": "execute_result"
    }
   ],
   "source": [
    "import numpy as np\n",
    "n = np.random.randint(1,999)\n",
    "k = n // 10\n",
    "\n",
    "print('n - ' , n)\n",
    "print('k - ' , k)\n",
    "\n",
    "solution(n,k)"
   ]
  },
  {
   "cell_type": "markdown",
   "id": "41a3d579",
   "metadata": {},
   "source": [
    "#### 정수 배열 numbers가 매개변수로 주어집니다. \n",
    "#### numbers의 원소의 평균값을 return하도록 solution 함수를 완성해주세요.\n",
    "- 한 줄 코드"
   ]
  },
  {
   "cell_type": "markdown",
   "id": "781ca838",
   "metadata": {},
   "source": [
    "- 제한사항\n",
    "- 0 ≤ numbers의 원소 ≤ 1,000\n",
    "- 1 ≤ numbers의 길이 ≤ 100\n",
    "- 정답의 소수 부분이 .0 또는 .5인 경우만 입력으로 주어집니다."
   ]
  },
  {
   "cell_type": "code",
   "execution_count": 68,
   "id": "0e13e13a",
   "metadata": {},
   "outputs": [],
   "source": [
    "def solution(list):\n",
    "    import numpy as np\n",
    "    answer = np.mean(list)\n",
    "    return answer"
   ]
  },
  {
   "cell_type": "code",
   "execution_count": 74,
   "id": "7e6aebcf",
   "metadata": {},
   "outputs": [
    {
     "data": {
      "text/plain": [
       "3.0"
      ]
     },
     "execution_count": 74,
     "metadata": {},
     "output_type": "execute_result"
    }
   ],
   "source": [
    "lst=[1,2,3,4,5]\n",
    "solution(lst)"
   ]
  },
  {
   "cell_type": "markdown",
   "id": "52ecae38",
   "metadata": {},
   "source": [
    "##### 머쓱이는 학교에서 키 순으로 줄을 설 때 몇 번째로 서야 하는지 궁금해졌습니다. \n",
    "##### 머쓱이네 반 친구들의 키가 담긴 정수 배열 array와 머쓱이의 키 height가 매개변수로 주어질 때 \n",
    "##### 머쓱이보다 키 큰 사람 수를 return 하도록 solution 함수를 완성해보세요.\n",
    "- 한 줄 코드"
   ]
  },
  {
   "cell_type": "markdown",
   "id": "b74106a4",
   "metadata": {},
   "source": [
    "- 제한사항\n",
    "- 1 ≤ array의 길이 ≤ 100\n",
    "- 1 ≤ height ≤ 200\n",
    "- 1 ≤ array의 원소 ≤ 200"
   ]
  },
  {
   "cell_type": "code",
   "execution_count": 114,
   "id": "674e6825",
   "metadata": {},
   "outputs": [],
   "source": [
    "def solution(array : list, height : int):\n",
    "    answer = [ value for value in array if value > height]\n",
    "    return len(answer)"
   ]
  },
  {
   "cell_type": "code",
   "execution_count": 112,
   "id": "6b1133ea",
   "metadata": {},
   "outputs": [],
   "source": [
    "### another answer\n",
    "def solution(array, height):\n",
    "    return len(list(filter(lambda v: v > height, array)))"
   ]
  },
  {
   "cell_type": "code",
   "execution_count": 115,
   "id": "19d0a587",
   "metadata": {},
   "outputs": [
    {
     "name": "stdout",
     "output_type": "stream",
     "text": [
      "array -  [181 164  27  93 168 114 146 125  68 135  59 118 156   5 176  58   1 102\n",
      " 123 169  14 101  33  71 111 195  27 112  96 156  97  60  83  36   1  34\n",
      "  54  88 160  52  75 112  24  77  99  49  66 131  69  51  54  39 146  26\n",
      " 155  87 152  68  68  31  70 169 108 112 178 143  66  20  69 135  87  21\n",
      " 141 174  69  27  70 163 181  88 190  95  91 120 122 114 146 114  76 156\n",
      " 180  86  71  38 127  42 149 139  11 101]\n",
      "height -  37\n"
     ]
    },
    {
     "data": {
      "text/plain": [
       "84"
      ]
     },
     "execution_count": 115,
     "metadata": {},
     "output_type": "execute_result"
    }
   ],
   "source": [
    "import numpy as np\n",
    "lst = np.random.randint(1 , 200 , 100)\n",
    "height = np.random.randint(1 , 200)\n",
    "print('array - ' , lst)\n",
    "print('height - ' , height)\n",
    "\n",
    "solution(lst , height)\n"
   ]
  },
  {
   "cell_type": "markdown",
   "id": "0b1851ed",
   "metadata": {},
   "source": [
    "#### 정수가 담긴 배열 array와 정수 n이 매개변수로 주어질 때\n",
    "#### array에 n이 몇 개 있는 지를 return 하도록 solution 함수를 완성해보세요.\n",
    "- 한 줄 코드"
   ]
  },
  {
   "cell_type": "markdown",
   "id": "875b4c25",
   "metadata": {},
   "source": [
    "- 제한사항\n",
    "- 1 ≤ array의 길이 ≤ 100\n",
    "- 0 ≤ array의 원소 ≤ 1,000\n",
    "- 0 ≤ n ≤ 1,000"
   ]
  },
  {
   "cell_type": "code",
   "execution_count": 145,
   "id": "00a6f5ae",
   "metadata": {},
   "outputs": [],
   "source": [
    "def solution(array : list , n : int):\n",
    "    return len([value for value in array if n == value])"
   ]
  },
  {
   "cell_type": "code",
   "execution_count": 146,
   "id": "1c6afbe8",
   "metadata": {},
   "outputs": [
    {
     "name": "stdout",
     "output_type": "stream",
     "text": [
      "array -  [815 193 937 452 751 863 744 643 282 908 757 447 575 252 918  55 793  77\n",
      " 513 914 225 611 799   5 614 590 275  93 169 128 956]\n",
      "height -  827\n"
     ]
    },
    {
     "data": {
      "text/plain": [
       "0"
      ]
     },
     "execution_count": 146,
     "metadata": {},
     "output_type": "execute_result"
    }
   ],
   "source": [
    "import numpy as np\n",
    "lst = np.random.randint(1 , 1000 , np.random.randint(1,100))\n",
    "n = np.random.randint(1 , 1000)\n",
    "print('array - ' , lst)\n",
    "print('height - ' , n)\n",
    "\n",
    "solution(lst , n)"
   ]
  },
  {
   "cell_type": "code",
   "execution_count": null,
   "id": "cccbe6cb",
   "metadata": {},
   "outputs": [],
   "source": []
  },
  {
   "cell_type": "code",
   "execution_count": null,
   "id": "a1c79796",
   "metadata": {},
   "outputs": [],
   "source": []
  },
  {
   "cell_type": "code",
   "execution_count": null,
   "id": "5f5b0022",
   "metadata": {},
   "outputs": [],
   "source": []
  }
 ],
 "metadata": {
  "kernelspec": {
   "display_name": "Python 3 (ipykernel)",
   "language": "python",
   "name": "python3"
  },
  "language_info": {
   "codemirror_mode": {
    "name": "ipython",
    "version": 3
   },
   "file_extension": ".py",
   "mimetype": "text/x-python",
   "name": "python",
   "nbconvert_exporter": "python",
   "pygments_lexer": "ipython3",
   "version": "3.9.13"
  }
 },
 "nbformat": 4,
 "nbformat_minor": 5
}
