{
 "cells": [
  {
   "cell_type": "markdown",
   "id": "dacc60d5",
   "metadata": {},
   "source": [
    "#### 정수가 들어 있는 배열 num_list가 매개변수로 주어집니다. \n",
    "#### num_list의 원소의 순서를 거꾸로 뒤집은 배열을 return하도록 solution 함수를 완성해주세요."
   ]
  },
  {
   "cell_type": "markdown",
   "id": "600b2f56",
   "metadata": {},
   "source": [
    "- 제한사항\n",
    "- 1 ≤ num_list의 길이 ≤ 1,000\n",
    "- 0 ≤ num_list의 원소 ≤ 1,000"
   ]
  },
  {
   "cell_type": "markdown",
   "id": "242ed90d",
   "metadata": {},
   "source": [
    "### 배열의 역정렬\n",
    "- pb_resort = np.sort(pb)[::-1]"
   ]
  },
  {
   "cell_type": "code",
   "execution_count": 29,
   "id": "81d2f2a4",
   "metadata": {},
   "outputs": [],
   "source": [
    "def solution(num_list : list):\n",
    "    import numpy as np\n",
    "    answer = np.sort(num_list)[::-1]\n",
    "    return answer"
   ]
  },
  {
   "cell_type": "code",
   "execution_count": 55,
   "id": "ea081f06",
   "metadata": {
    "scrolled": true
   },
   "outputs": [
    {
     "data": {
      "text/plain": [
       "array([994, 989, 984, 982, 979, 979, 979, 975, 967, 965, 961, 960, 955,\n",
       "       953, 950, 943, 940, 932, 932, 932, 931, 931, 929, 923, 920, 912,\n",
       "       902, 901, 900, 899, 894, 893, 892, 889, 885, 884, 880, 879, 876,\n",
       "       875, 870, 869, 867, 859, 856, 856, 853, 851, 851, 848, 846, 841,\n",
       "       839, 836, 834, 832, 831, 828, 827, 824, 822, 821, 817, 815, 814,\n",
       "       809, 806, 805, 798, 795, 791, 787, 781, 780, 780, 778, 778, 778,\n",
       "       775, 771, 771, 768, 765, 759, 758, 758, 758, 758, 756, 754, 753,\n",
       "       752, 752, 750, 750, 744, 737, 737, 737, 736, 733, 729, 727, 725,\n",
       "       725, 722, 717, 710, 709, 709, 705, 703, 702, 702, 700, 699, 695,\n",
       "       694, 692, 689, 688, 687, 686, 681, 678, 678, 676, 673, 667, 663,\n",
       "       655, 649, 646, 643, 643, 641, 640, 637, 637, 632, 628, 624, 620,\n",
       "       618, 602, 596, 594, 594, 590, 590, 589, 588, 584, 582, 578, 577,\n",
       "       576, 567, 565, 563, 563, 560, 560, 560, 560, 558, 557, 550, 548,\n",
       "       547, 546, 538, 537, 536, 536, 532, 529, 526, 522, 522, 521, 521,\n",
       "       520, 518, 510, 506, 502, 499, 495, 492, 490, 488, 487, 474, 472,\n",
       "       457, 447, 446, 445, 442, 441, 439, 436, 433, 430, 426, 424, 424,\n",
       "       423, 420, 416, 414, 411, 409, 407, 405, 404, 403, 401, 389, 388,\n",
       "       384, 379, 377, 374, 368, 366, 354, 347, 345, 345, 345, 342, 341,\n",
       "       341, 340, 340, 338, 338, 330, 330, 325, 324, 322, 319, 315, 314,\n",
       "       306, 304, 301, 301, 301, 301, 297, 295, 295, 294, 285, 284, 281,\n",
       "       274, 269, 269, 266, 263, 263, 258, 254, 246, 240, 238, 237, 237,\n",
       "       234, 231, 229, 225, 225, 224, 222, 221, 220, 215, 212, 207, 204,\n",
       "       203, 203, 201, 200, 196, 183, 183, 166, 164, 164, 161, 160, 160,\n",
       "       159, 149, 147, 146, 144, 143, 143, 143, 142, 141, 139, 134, 131,\n",
       "       124, 122, 119, 116, 116, 109, 107, 105, 105, 105, 104, 102, 100,\n",
       "        97,  96,  91,  90,  88,  86,  84,  83,  83,  83,  81,  78,  77,\n",
       "        75,  65,  61,  55,  51,  45,  41,  40,  40,  37,  28,  27,  24,\n",
       "        17,  15,  14,  13,  11,   8,   5,   3,   2])"
      ]
     },
     "execution_count": 55,
     "metadata": {},
     "output_type": "execute_result"
    }
   ],
   "source": [
    "import numpy as np\n",
    "lst = np.random.randint(0,1000,np.random.randint(0,1000,1))\n",
    "solution(lst)\n"
   ]
  },
  {
   "cell_type": "code",
   "execution_count": null,
   "id": "98141497",
   "metadata": {},
   "outputs": [],
   "source": []
  },
  {
   "cell_type": "code",
   "execution_count": null,
   "id": "4efffb8f",
   "metadata": {},
   "outputs": [],
   "source": []
  },
  {
   "cell_type": "code",
   "execution_count": null,
   "id": "226e90c1",
   "metadata": {},
   "outputs": [],
   "source": []
  },
  {
   "cell_type": "code",
   "execution_count": null,
   "id": "719dacbc",
   "metadata": {},
   "outputs": [],
   "source": []
  },
  {
   "cell_type": "code",
   "execution_count": null,
   "id": "b3437d4c",
   "metadata": {},
   "outputs": [],
   "source": []
  },
  {
   "cell_type": "code",
   "execution_count": null,
   "id": "8d465b3e",
   "metadata": {},
   "outputs": [],
   "source": []
  },
  {
   "cell_type": "code",
   "execution_count": null,
   "id": "d3613cb1",
   "metadata": {},
   "outputs": [],
   "source": []
  },
  {
   "cell_type": "code",
   "execution_count": null,
   "id": "fe8e8db1",
   "metadata": {},
   "outputs": [],
   "source": []
  },
  {
   "cell_type": "code",
   "execution_count": null,
   "id": "26e59bee",
   "metadata": {},
   "outputs": [],
   "source": []
  },
  {
   "cell_type": "code",
   "execution_count": null,
   "id": "9a63e9c6",
   "metadata": {},
   "outputs": [],
   "source": []
  },
  {
   "cell_type": "code",
   "execution_count": null,
   "id": "2f97f38f",
   "metadata": {},
   "outputs": [],
   "source": []
  }
 ],
 "metadata": {
  "kernelspec": {
   "display_name": "Python 3 (ipykernel)",
   "language": "python",
   "name": "python3"
  },
  "language_info": {
   "codemirror_mode": {
    "name": "ipython",
    "version": 3
   },
   "file_extension": ".py",
   "mimetype": "text/x-python",
   "name": "python",
   "nbconvert_exporter": "python",
   "pygments_lexer": "ipython3",
   "version": "3.9.13"
  }
 },
 "nbformat": 4,
 "nbformat_minor": 5
}
