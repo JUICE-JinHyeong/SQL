{
 "cells": [
  {
   "cell_type": "markdown",
   "id": "ffc0a01a",
   "metadata": {},
   "source": [
    "#### 정수가 들어 있는 배열 num_list가 매개변수로 주어집니다. \n",
    "#### num_list의 원소의 순서를 거꾸로 뒤집은 배열을 return하도록 solution 함수를 완성해주세요."
   ]
  },
  {
   "cell_type": "markdown",
   "id": "87909300",
   "metadata": {},
   "source": [
    "- 제한사항\n",
    "- 1 ≤ num_list의 길이 ≤ 1,000\n",
    "- 0 ≤ num_list의 원소 ≤ 1,000"
   ]
  },
  {
   "cell_type": "markdown",
   "id": "aa5a042d",
   "metadata": {},
   "source": [
    "### 배열의 역정렬\n",
    "- pb_resort = np.sort(pb)[::-1]"
   ]
  },
  {
   "cell_type": "markdown",
   "id": "d591f2f0",
   "metadata": {},
   "source": [
    "#### Error\n",
    "- TypeError: Object of type ndarray is not JSON serializable\n",
    "- .tolist() 사용"
   ]
  },
  {
   "cell_type": "code",
   "execution_count": 56,
   "id": "4dbc2a81",
   "metadata": {},
   "outputs": [],
   "source": [
    "def solution(num_list : np.array):\n",
    "    import numpy as np\n",
    "    answer = np.sort(num_list)[::-1]\n",
    "    return answer"
   ]
  },
  {
   "cell_type": "code",
   "execution_count": 66,
   "id": "13178c00",
   "metadata": {
    "scrolled": true
   },
   "outputs": [
    {
     "data": {
      "text/plain": [
       "array([986, 940, 930, 926, 887, 880, 802, 793, 765, 758, 754, 743, 695,\n",
       "       692, 612, 604, 520, 499, 454, 452, 402, 388, 344, 330, 302, 297,\n",
       "       294, 257, 211, 149,  90,  48,   2])"
      ]
     },
     "execution_count": 66,
     "metadata": {},
     "output_type": "execute_result"
    }
   ],
   "source": [
    "import numpy as np\n",
    "lst = np.random.randint(0,1000,np.random.randint(0,1000,1))\n",
    "solution(lst)\n"
   ]
  },
  {
   "cell_type": "markdown",
   "id": "dcfb6ccb",
   "metadata": {},
   "source": [
    "#### 문자열 my_string이 매개변수로 주어집니다. \n",
    "#### my_string을 거꾸로 뒤집은 문자열을 return하도록 solution 함수를 완성해주세요. \n",
    "- 한 줄 코드"
   ]
  },
  {
   "cell_type": "markdown",
   "id": "0282a56a",
   "metadata": {},
   "source": [
    "- 제한사항\n",
    "- 1 ≤ my_string의 길이 ≤ 1,000"
   ]
  },
  {
   "cell_type": "code",
   "execution_count": 4,
   "id": "22f87507",
   "metadata": {},
   "outputs": [],
   "source": [
    "def solution(my_string):\n",
    "    return my_string[::-1]"
   ]
  },
  {
   "cell_type": "code",
   "execution_count": 5,
   "id": "f73c0970",
   "metadata": {},
   "outputs": [
    {
     "data": {
      "text/plain": [
       "'!dlrow wolleh'"
      ]
     },
     "execution_count": 5,
     "metadata": {},
     "output_type": "execute_result"
    }
   ],
   "source": [
    "solution('hellow world!')"
   ]
  },
  {
   "cell_type": "markdown",
   "id": "a7505d7a",
   "metadata": {},
   "source": [
    "#### 정수가 들어 있는 배열 num_list가 매개변수로 주어집니다. \n",
    "#### num_list의 원소의 순서를 거꾸로 뒤집은 배열을 return하도록 solution 함수를 완성해주세요.\n",
    "- 한 줄 코드"
   ]
  },
  {
   "cell_type": "markdown",
   "id": "846bf8d2",
   "metadata": {},
   "source": [
    "- 제한사항\n",
    "- 1 ≤ num_list의 길이 ≤ 1,000\n",
    "- 0 ≤ num_list의 원소 ≤ 1,000"
   ]
  },
  {
   "cell_type": "code",
   "execution_count": null,
   "id": "45062c0b",
   "metadata": {},
   "outputs": [],
   "source": [
    "def solution(num_list):\n",
    "    import numpy as np\n",
    "    answer = num_list[::-1]\n",
    "    return answer.tolist()"
   ]
  },
  {
   "cell_type": "code",
   "execution_count": 10,
   "id": "fccbce03",
   "metadata": {},
   "outputs": [
    {
     "data": {
      "text/plain": [
       "[3, 5, 5, 2, 2, 3, 3, 4, 1]"
      ]
     },
     "execution_count": 10,
     "metadata": {},
     "output_type": "execute_result"
    }
   ],
   "source": [
    "solution([1,4,3,3,2,2,5,5,3])"
   ]
  },
  {
   "cell_type": "markdown",
   "id": "e5fbdd49",
   "metadata": {},
   "source": [
    "#### 머쓱이네 피자가게는 피자를 일곱 조각으로 잘라 줍니다. \n",
    "#### 피자를 나눠먹을 사람의 수 n이 주어질 때\n",
    "#### 모든 사람이 피자를 한 조각 이상 먹기 위해 필요한 피자의 수를 return 하는 solution 함수를 완성해보세요.\n",
    "\n",
    "- 한 줄 코드\n"
   ]
  },
  {
   "cell_type": "code",
   "execution_count": 32,
   "id": "dbe824ee",
   "metadata": {},
   "outputs": [],
   "source": [
    "def solution(n):\n",
    "    answer = [n//7 if n%7 == 0 else n//7+1][0]\n",
    "    return answer"
   ]
  },
  {
   "cell_type": "code",
   "execution_count": 33,
   "id": "d9028126",
   "metadata": {},
   "outputs": [
    {
     "data": {
      "text/plain": [
       "5"
      ]
     },
     "execution_count": 33,
     "metadata": {},
     "output_type": "execute_result"
    }
   ],
   "source": [
    "solution(30)"
   ]
  },
  {
   "cell_type": "code",
   "execution_count": 34,
   "id": "4b86735d",
   "metadata": {},
   "outputs": [],
   "source": [
    "def solution(n):\n",
    "    return (n - 1) // 7 + 1"
   ]
  },
  {
   "cell_type": "code",
   "execution_count": 35,
   "id": "16436e15",
   "metadata": {},
   "outputs": [
    {
     "data": {
      "text/plain": [
       "1"
      ]
     },
     "execution_count": 35,
     "metadata": {},
     "output_type": "execute_result"
    }
   ],
   "source": [
    "solution(1)"
   ]
  },
  {
   "cell_type": "code",
   "execution_count": 38,
   "id": "e7069389",
   "metadata": {},
   "outputs": [
    {
     "data": {
      "text/plain": [
       "0"
      ]
     },
     "execution_count": 38,
     "metadata": {},
     "output_type": "execute_result"
    }
   ],
   "source": [
    "0//7"
   ]
  },
  {
   "cell_type": "code",
   "execution_count": null,
   "id": "03968db2",
   "metadata": {},
   "outputs": [],
   "source": []
  },
  {
   "cell_type": "code",
   "execution_count": null,
   "id": "0dfdc344",
   "metadata": {},
   "outputs": [],
   "source": []
  },
  {
   "cell_type": "code",
   "execution_count": null,
   "id": "951861b6",
   "metadata": {},
   "outputs": [],
   "source": []
  },
  {
   "cell_type": "code",
   "execution_count": null,
   "id": "ac67d2a1",
   "metadata": {},
   "outputs": [],
   "source": []
  },
  {
   "cell_type": "code",
   "execution_count": null,
   "id": "9edf2631",
   "metadata": {},
   "outputs": [],
   "source": []
  }
 ],
 "metadata": {
  "kernelspec": {
   "display_name": "Python 3 (ipykernel)",
   "language": "python",
   "name": "python3"
  },
  "language_info": {
   "codemirror_mode": {
    "name": "ipython",
    "version": 3
   },
   "file_extension": ".py",
   "mimetype": "text/x-python",
   "name": "python",
   "nbconvert_exporter": "python",
   "pygments_lexer": "ipython3",
   "version": "3.9.13"
  }
 },
 "nbformat": 4,
 "nbformat_minor": 5
}
