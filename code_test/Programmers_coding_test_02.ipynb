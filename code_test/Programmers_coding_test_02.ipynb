{
 "cells": [
  {
   "cell_type": "markdown",
   "id": "ffc0a01a",
   "metadata": {},
   "source": [
    "#### 정수가 들어 있는 배열 num_list가 매개변수로 주어집니다. \n",
    "#### num_list의 원소의 순서를 거꾸로 뒤집은 배열을 return하도록 solution 함수를 완성해주세요."
   ]
  },
  {
   "cell_type": "markdown",
   "id": "87909300",
   "metadata": {},
   "source": [
    "- 제한사항\n",
    "- 1 ≤ num_list의 길이 ≤ 1,000\n",
    "- 0 ≤ num_list의 원소 ≤ 1,000"
   ]
  },
  {
   "cell_type": "markdown",
   "id": "aa5a042d",
   "metadata": {},
   "source": [
    "### 배열의 역정렬\n",
    "- pb_resort = np.sort(pb)[::-1]"
   ]
  },
  {
   "cell_type": "markdown",
   "id": "d591f2f0",
   "metadata": {},
   "source": [
    "#### Error\n",
    "- TypeError: Object of type ndarray is not JSON serializable\n",
    "- .tolist() 사용"
   ]
  },
  {
   "cell_type": "code",
   "execution_count": 56,
   "id": "4dbc2a81",
   "metadata": {},
   "outputs": [],
   "source": [
    "def solution(num_list : np.array):\n",
    "    import numpy as np\n",
    "    answer = np.sort(num_list)[::-1]\n",
    "    return answer"
   ]
  },
  {
   "cell_type": "code",
   "execution_count": 66,
   "id": "13178c00",
   "metadata": {
    "scrolled": true
   },
   "outputs": [
    {
     "data": {
      "text/plain": [
       "array([986, 940, 930, 926, 887, 880, 802, 793, 765, 758, 754, 743, 695,\n",
       "       692, 612, 604, 520, 499, 454, 452, 402, 388, 344, 330, 302, 297,\n",
       "       294, 257, 211, 149,  90,  48,   2])"
      ]
     },
     "execution_count": 66,
     "metadata": {},
     "output_type": "execute_result"
    }
   ],
   "source": [
    "import numpy as np\n",
    "lst = np.random.randint(0,1000,np.random.randint(0,1000,1))\n",
    "solution(lst)\n"
   ]
  },
  {
   "cell_type": "code",
   "execution_count": null,
   "id": "3fb1f8dc",
   "metadata": {},
   "outputs": [],
   "source": []
  },
  {
   "cell_type": "code",
   "execution_count": null,
   "id": "8a181fa2",
   "metadata": {},
   "outputs": [],
   "source": []
  },
  {
   "cell_type": "code",
   "execution_count": null,
   "id": "22f87507",
   "metadata": {},
   "outputs": [],
   "source": []
  },
  {
   "cell_type": "code",
   "execution_count": null,
   "id": "f73c0970",
   "metadata": {},
   "outputs": [],
   "source": []
  },
  {
   "cell_type": "code",
   "execution_count": null,
   "id": "48355b07",
   "metadata": {},
   "outputs": [],
   "source": []
  },
  {
   "cell_type": "code",
   "execution_count": null,
   "id": "bd9bb08f",
   "metadata": {},
   "outputs": [],
   "source": []
  },
  {
   "cell_type": "code",
   "execution_count": null,
   "id": "45062c0b",
   "metadata": {},
   "outputs": [],
   "source": []
  },
  {
   "cell_type": "code",
   "execution_count": null,
   "id": "fccbce03",
   "metadata": {},
   "outputs": [],
   "source": []
  },
  {
   "cell_type": "code",
   "execution_count": null,
   "id": "a8e874b7",
   "metadata": {},
   "outputs": [],
   "source": []
  },
  {
   "cell_type": "code",
   "execution_count": null,
   "id": "dbe824ee",
   "metadata": {},
   "outputs": [],
   "source": []
  },
  {
   "cell_type": "code",
   "execution_count": null,
   "id": "d9028126",
   "metadata": {},
   "outputs": [],
   "source": []
  }
 ],
 "metadata": {
  "kernelspec": {
   "display_name": "Python 3 (ipykernel)",
   "language": "python",
   "name": "python3"
  },
  "language_info": {
   "codemirror_mode": {
    "name": "ipython",
    "version": 3
   },
   "file_extension": ".py",
   "mimetype": "text/x-python",
   "name": "python",
   "nbconvert_exporter": "python",
   "pygments_lexer": "ipython3",
   "version": "3.9.13"
  }
 },
 "nbformat": 4,
 "nbformat_minor": 5
}
