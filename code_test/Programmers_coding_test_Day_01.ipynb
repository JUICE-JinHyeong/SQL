{
 "cells": [
  {
   "cell_type": "markdown",
   "id": "6a896ecd",
   "metadata": {},
   "source": [
    "##### 정수 n이 주어질 때, n이하의 짝수를 모두 더한 값을 return 하도록 solution 함수를 작성해주세요.\n",
    "- 한 줄 코드"
   ]
  },
  {
   "cell_type": "code",
   "execution_count": 30,
   "id": "f023708f",
   "metadata": {},
   "outputs": [],
   "source": [
    "def solution(n):\n",
    "    answer = sum([x for x in range(n+1) if x%2 == 0])\n",
    "    return answer"
   ]
  },
  {
   "cell_type": "code",
   "execution_count": 45,
   "id": "33565e33",
   "metadata": {},
   "outputs": [
    {
     "name": "stdout",
     "output_type": "stream",
     "text": [
      "insert -  95\n"
     ]
    },
    {
     "data": {
      "text/plain": [
       "2256"
      ]
     },
     "execution_count": 45,
     "metadata": {},
     "output_type": "execute_result"
    }
   ],
   "source": [
    "import numpy as np\n",
    "\n",
    "ran_nu = np.random.randint(0,100)\n",
    "print('insert - ' , ran_nu)\n",
    "solution(ran_nu)"
   ]
  },
  {
   "cell_type": "markdown",
   "id": "adc9d5f8",
   "metadata": {},
   "source": [
    "##### 머쓱이네 양꼬치 가게는 10인분을 먹으면 음료수 하나를 서비스로 줍니다. \n",
    "##### 양꼬치는 1인분에 12,000원, 음료수는 2,000원입니다. \n",
    "##### 정수 n과 k가 매개변수로 주어졌을 때, 양꼬치 n인분과 음료수 k개를 먹었다면 \n",
    "##### 총얼마를 지불해야 하는지 return 하도록 solution 함수를 완성해보세요.\n",
    "- 한 줄 코드"
   ]
  },
  {
   "cell_type": "markdown",
   "id": "45022fbc",
   "metadata": {},
   "source": [
    "- 제한사항\n",
    "- 0 < n < 1,000\n",
    "- n / 10 ≤ k < 1,000\n",
    "- 서비스로 받은 음료수는 모두 마십니다."
   ]
  },
  {
   "cell_type": "code",
   "execution_count": 46,
   "id": "c2236721",
   "metadata": {},
   "outputs": [],
   "source": [
    "def solution(n, k):\n",
    "    answer = 12000*n + 2000*(k - n//10)\n",
    "    return answer"
   ]
  },
  {
   "cell_type": "code",
   "execution_count": 56,
   "id": "686a61eb",
   "metadata": {},
   "outputs": [
    {
     "name": "stdout",
     "output_type": "stream",
     "text": [
      "n -  801\n",
      "k -  80\n"
     ]
    },
    {
     "data": {
      "text/plain": [
       "9612000"
      ]
     },
     "execution_count": 56,
     "metadata": {},
     "output_type": "execute_result"
    }
   ],
   "source": [
    "import numpy as np\n",
    "n = np.random.randint(1,999)\n",
    "k = n // 10\n",
    "\n",
    "print('n - ' , n)\n",
    "print('k - ' , k)\n",
    "\n",
    "solution(n,k)"
   ]
  },
  {
   "cell_type": "markdown",
   "id": "4b29eeb4",
   "metadata": {},
   "source": [
    "#### 정수 배열 numbers가 매개변수로 주어집니다. \n",
    "#### numbers의 원소의 평균값을 return하도록 solution 함수를 완성해주세요.\n",
    "- 한 줄 코드"
   ]
  },
  {
   "cell_type": "markdown",
   "id": "3e581d82",
   "metadata": {},
   "source": [
    "- 제한사항\n",
    "- 0 ≤ numbers의 원소 ≤ 1,000\n",
    "- 1 ≤ numbers의 길이 ≤ 100\n",
    "- 정답의 소수 부분이 .0 또는 .5인 경우만 입력으로 주어집니다."
   ]
  },
  {
   "cell_type": "code",
   "execution_count": null,
   "id": "94ddd880",
   "metadata": {},
   "outputs": [],
   "source": [
    "def solution(numbers):\n",
    "    answer = 0\n",
    "    return answer"
   ]
  },
  {
   "cell_type": "code",
   "execution_count": null,
   "id": "241feb9e",
   "metadata": {},
   "outputs": [],
   "source": []
  },
  {
   "cell_type": "code",
   "execution_count": null,
   "id": "ffd411c0",
   "metadata": {},
   "outputs": [],
   "source": []
  },
  {
   "cell_type": "code",
   "execution_count": null,
   "id": "b8e51d7a",
   "metadata": {},
   "outputs": [],
   "source": []
  },
  {
   "cell_type": "code",
   "execution_count": null,
   "id": "fd5ed656",
   "metadata": {},
   "outputs": [],
   "source": []
  },
  {
   "cell_type": "code",
   "execution_count": null,
   "id": "900a26d7",
   "metadata": {},
   "outputs": [],
   "source": []
  }
 ],
 "metadata": {
  "kernelspec": {
   "display_name": "Python 3 (ipykernel)",
   "language": "python",
   "name": "python3"
  },
  "language_info": {
   "codemirror_mode": {
    "name": "ipython",
    "version": 3
   },
   "file_extension": ".py",
   "mimetype": "text/x-python",
   "name": "python",
   "nbconvert_exporter": "python",
   "pygments_lexer": "ipython3",
   "version": "3.9.13"
  }
 },
 "nbformat": 4,
 "nbformat_minor": 5
}
