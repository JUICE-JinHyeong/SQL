{
 "cells": [
  {
   "cell_type": "code",
   "execution_count": 1,
   "id": "d9c6fcad",
   "metadata": {},
   "outputs": [],
   "source": [
    "import pandas as pd\n",
    "import numpy as np"
   ]
  },
  {
   "cell_type": "markdown",
   "id": "70a2b09b",
   "metadata": {},
   "source": [
    "#### single_04의 2017년 2021년 성, 연령별 데이터를 불러옵니다.\n",
    "- 해당 데이터는 한 컬럼에 남자 여자 총계가 섞여있으므로 데이터를 분류하기 위해 아래와 같은 boolean 값을 갖는 series를 생성합니다."
   ]
  },
  {
   "cell_type": "code",
   "execution_count": 19,
   "id": "9bedd4d7",
   "metadata": {},
   "outputs": [],
   "source": [
    "df_b = pd.read_excel('C:/Users/PiGiraffe0/Documents/SQL/semi_project/data/single_04.xlsx')\n",
    "data_m = df_b[['성별']] == '남자'\n",
    "data_w = df_b[['성별']] == '여자'\n",
    "data_a = df_b[['성별']] == '계'"
   ]
  },
  {
   "cell_type": "markdown",
   "id": "65bf3ce2",
   "metadata": {},
   "source": [
    "#### 분류한 데이터를 서로 다른 series로 저장하기 위해 아래와 같은 코드를 짭니다.\n",
    "- for 문 : 가져온  series (boolean값을 가진) 데이터를 한 행씩 값을 가져와 if 문을 통해 몇 번 index가 True인지를 확인합니다.\n",
    "- 이후 리스트에 저장하여 원본 dataframe을 불러들여 리스트에 저장된 index번호를 호출합니다.\n",
    "- 칼럼의 이름을 변경하고 마지막으로 index 정렬을 위해 reset_index(drop=True, inplace=False)를 사용합니다."
   ]
  },
  {
   "cell_type": "code",
   "execution_count": 3,
   "id": "bd044368",
   "metadata": {},
   "outputs": [],
   "source": [
    "def classify_column(dataframe , series) :\n",
    "    lst_series = []\n",
    "    \n",
    "    for i in range(51) :\n",
    "        is_series = series.loc[i].bool()\n",
    "        if is_series :\n",
    "            lst_series.append(i)\n",
    "    \n",
    "    series_gender_data = dataframe.loc[lst_series]\n",
    "    series_gender_data = series_gender_data.rename(columns = {\n",
    "        '성별' : 'gender' , '연령별' : 'age' , 2017 : '2017' , 2021 : '2021' })\n",
    "    series_gender_data = series_gender_data.reset_index(drop  = True , inplace = False)\n",
    "    return series_gender_data\n",
    "    \n",
    "    \n",
    "    "
   ]
  },
  {
   "cell_type": "code",
   "execution_count": 4,
   "id": "9b4d9a7f",
   "metadata": {},
   "outputs": [],
   "source": [
    "gender_w   = classify_column(df_b , data_w)\n",
    "gender_m   = classify_column(df_b , data_m)\n",
    "gender_all = classify_column(df_b , data_a)"
   ]
  },
  {
   "cell_type": "code",
   "execution_count": 5,
   "id": "7082dacf",
   "metadata": {},
   "outputs": [
    {
     "data": {
      "text/html": [
       "<div>\n",
       "<style scoped>\n",
       "    .dataframe tbody tr th:only-of-type {\n",
       "        vertical-align: middle;\n",
       "    }\n",
       "\n",
       "    .dataframe tbody tr th {\n",
       "        vertical-align: top;\n",
       "    }\n",
       "\n",
       "    .dataframe thead th {\n",
       "        text-align: right;\n",
       "    }\n",
       "</style>\n",
       "<table border=\"1\" class=\"dataframe\">\n",
       "  <thead>\n",
       "    <tr style=\"text-align: right;\">\n",
       "      <th></th>\n",
       "      <th>gender</th>\n",
       "      <th>age</th>\n",
       "      <th>2017</th>\n",
       "      <th>2021</th>\n",
       "    </tr>\n",
       "  </thead>\n",
       "  <tbody>\n",
       "    <tr>\n",
       "      <th>0</th>\n",
       "      <td>남자</td>\n",
       "      <td>합계</td>\n",
       "      <td>2791849</td>\n",
       "      <td>3583770</td>\n",
       "    </tr>\n",
       "    <tr>\n",
       "      <th>1</th>\n",
       "      <td>남자</td>\n",
       "      <td>15세미만</td>\n",
       "      <td>25</td>\n",
       "      <td>24</td>\n",
       "    </tr>\n",
       "    <tr>\n",
       "      <th>2</th>\n",
       "      <td>남자</td>\n",
       "      <td>15~19세</td>\n",
       "      <td>29083</td>\n",
       "      <td>24991</td>\n",
       "    </tr>\n",
       "    <tr>\n",
       "      <th>3</th>\n",
       "      <td>남자</td>\n",
       "      <td>20~24세</td>\n",
       "      <td>183578</td>\n",
       "      <td>217737</td>\n",
       "    </tr>\n",
       "    <tr>\n",
       "      <th>4</th>\n",
       "      <td>남자</td>\n",
       "      <td>25~29세</td>\n",
       "      <td>333886</td>\n",
       "      <td>480989</td>\n",
       "    </tr>\n",
       "    <tr>\n",
       "      <th>5</th>\n",
       "      <td>남자</td>\n",
       "      <td>30~34세</td>\n",
       "      <td>330699</td>\n",
       "      <td>446721</td>\n",
       "    </tr>\n",
       "    <tr>\n",
       "      <th>6</th>\n",
       "      <td>남자</td>\n",
       "      <td>35~39세</td>\n",
       "      <td>290387</td>\n",
       "      <td>335937</td>\n",
       "    </tr>\n",
       "    <tr>\n",
       "      <th>7</th>\n",
       "      <td>남자</td>\n",
       "      <td>40~44세</td>\n",
       "      <td>260789</td>\n",
       "      <td>299797</td>\n",
       "    </tr>\n",
       "    <tr>\n",
       "      <th>8</th>\n",
       "      <td>남자</td>\n",
       "      <td>45~49세</td>\n",
       "      <td>284359</td>\n",
       "      <td>303753</td>\n",
       "    </tr>\n",
       "    <tr>\n",
       "      <th>9</th>\n",
       "      <td>남자</td>\n",
       "      <td>50~54세</td>\n",
       "      <td>257573</td>\n",
       "      <td>327702</td>\n",
       "    </tr>\n",
       "    <tr>\n",
       "      <th>10</th>\n",
       "      <td>남자</td>\n",
       "      <td>55~59세</td>\n",
       "      <td>265621</td>\n",
       "      <td>309288</td>\n",
       "    </tr>\n",
       "    <tr>\n",
       "      <th>11</th>\n",
       "      <td>남자</td>\n",
       "      <td>60~64세</td>\n",
       "      <td>198975</td>\n",
       "      <td>306578</td>\n",
       "    </tr>\n",
       "    <tr>\n",
       "      <th>12</th>\n",
       "      <td>남자</td>\n",
       "      <td>65~69세</td>\n",
       "      <td>133121</td>\n",
       "      <td>214596</td>\n",
       "    </tr>\n",
       "    <tr>\n",
       "      <th>13</th>\n",
       "      <td>남자</td>\n",
       "      <td>70~74세</td>\n",
       "      <td>88332</td>\n",
       "      <td>132061</td>\n",
       "    </tr>\n",
       "    <tr>\n",
       "      <th>14</th>\n",
       "      <td>남자</td>\n",
       "      <td>75~79세</td>\n",
       "      <td>71059</td>\n",
       "      <td>85037</td>\n",
       "    </tr>\n",
       "    <tr>\n",
       "      <th>15</th>\n",
       "      <td>남자</td>\n",
       "      <td>80~84세</td>\n",
       "      <td>41382</td>\n",
       "      <td>59133</td>\n",
       "    </tr>\n",
       "    <tr>\n",
       "      <th>16</th>\n",
       "      <td>남자</td>\n",
       "      <td>85세 이상</td>\n",
       "      <td>22980</td>\n",
       "      <td>39426</td>\n",
       "    </tr>\n",
       "  </tbody>\n",
       "</table>\n",
       "</div>"
      ],
      "text/plain": [
       "   gender     age     2017     2021\n",
       "0      남자      합계  2791849  3583770\n",
       "1      남자   15세미만       25       24\n",
       "2      남자  15~19세    29083    24991\n",
       "3      남자  20~24세   183578   217737\n",
       "4      남자  25~29세   333886   480989\n",
       "5      남자  30~34세   330699   446721\n",
       "6      남자  35~39세   290387   335937\n",
       "7      남자  40~44세   260789   299797\n",
       "8      남자  45~49세   284359   303753\n",
       "9      남자  50~54세   257573   327702\n",
       "10     남자  55~59세   265621   309288\n",
       "11     남자  60~64세   198975   306578\n",
       "12     남자  65~69세   133121   214596\n",
       "13     남자  70~74세    88332   132061\n",
       "14     남자  75~79세    71059    85037\n",
       "15     남자  80~84세    41382    59133\n",
       "16     남자  85세 이상    22980    39426"
      ]
     },
     "execution_count": 5,
     "metadata": {},
     "output_type": "execute_result"
    }
   ],
   "source": [
    "# 확인 \n",
    "gender_m"
   ]
  },
  {
   "cell_type": "markdown",
   "id": "9946f20a",
   "metadata": {},
   "source": [
    "#### 데이터 정리\n",
    "- dictonary를 생성하여 gender 데이터의 16가지로 분류되어있는 데이터를 필터링하여 값을 넣어줍니다.\n",
    "- DataFrame(dict_value , index = [index_in]) 여기서 index_in 부분은 index 이름을 짓는 부분입니다."
   ]
  },
  {
   "cell_type": "code",
   "execution_count": 6,
   "id": "6091bc9a",
   "metadata": {},
   "outputs": [],
   "source": [
    "def to_extract(series , year) :\n",
    "    from pandas import Series, DataFrame\n",
    "    index_in = input('인덱스에 들어갈 문자를 입력하세요 : \\n' )\n",
    "    dict_value = { \n",
    "        '19세 이하' : series.loc[1:2].sum(axis=0)[year]  ,\n",
    "        '20 ~ 34세' : series.loc[3:5].sum(axis=0)[year]  ,\n",
    "        '35 ~ 49세' : series.loc[6:8].sum(axis=0)[year]  ,\n",
    "        '50 ~ 64세' : series.loc[9:11].sum(axis=0)[year] ,\n",
    "        '65세 이상' : series.loc[11:].sum(axis=0)[year] \n",
    "         }\n",
    "    df_value = DataFrame(dict_value , index = [index_in])\n",
    "    return df_value    "
   ]
  },
  {
   "cell_type": "code",
   "execution_count": 12,
   "id": "f578f55e",
   "metadata": {},
   "outputs": [
    {
     "name": "stdout",
     "output_type": "stream",
     "text": [
      "인덱스에 들어갈 문자를 입력하세요 : \n",
      "2017년 남자\n"
     ]
    }
   ],
   "source": [
    "gender_m_2017 = to_extract(gender_m , '2017')"
   ]
  },
  {
   "cell_type": "code",
   "execution_count": 13,
   "id": "0390fe80",
   "metadata": {},
   "outputs": [
    {
     "name": "stdout",
     "output_type": "stream",
     "text": [
      "인덱스에 들어갈 문자를 입력하세요 : \n",
      "2021년 남자\n"
     ]
    }
   ],
   "source": [
    "gender_m_2021 = to_extract(gender_m , '2021')"
   ]
  },
  {
   "cell_type": "code",
   "execution_count": 14,
   "id": "ff838577",
   "metadata": {},
   "outputs": [
    {
     "name": "stdout",
     "output_type": "stream",
     "text": [
      "인덱스에 들어갈 문자를 입력하세요 : \n",
      "2017년 여자\n"
     ]
    }
   ],
   "source": [
    "gender_w_2017 = to_extract(gender_w , '2017')"
   ]
  },
  {
   "cell_type": "code",
   "execution_count": 15,
   "id": "6d628a78",
   "metadata": {},
   "outputs": [
    {
     "name": "stdout",
     "output_type": "stream",
     "text": [
      "인덱스에 들어갈 문자를 입력하세요 : \n",
      "2021년 여자\n"
     ]
    }
   ],
   "source": [
    "gender_w_2021 = to_extract(gender_w , '2021')"
   ]
  },
  {
   "cell_type": "code",
   "execution_count": 16,
   "id": "65550791",
   "metadata": {},
   "outputs": [
    {
     "name": "stdout",
     "output_type": "stream",
     "text": [
      "인덱스에 들어갈 문자를 입력하세요 : \n",
      "2017년 전체\n"
     ]
    }
   ],
   "source": [
    "gender_a_2017 = to_extract(gender_all , '2017')"
   ]
  },
  {
   "cell_type": "code",
   "execution_count": 17,
   "id": "f645f4a1",
   "metadata": {},
   "outputs": [
    {
     "name": "stdout",
     "output_type": "stream",
     "text": [
      "인덱스에 들어갈 문자를 입력하세요 : \n",
      "2021년 전체\n"
     ]
    }
   ],
   "source": [
    "gender_a_2021 = to_extract(gender_all , '2021')"
   ]
  },
  {
   "cell_type": "markdown",
   "id": "322c04c9",
   "metadata": {},
   "source": [
    "#### pd.concat([dataframe] , aex = 0) 여러개의 dataframe을 행 단위로 결합\n",
    "- aex = 0 행\n",
    "- aex = 1 열"
   ]
  },
  {
   "cell_type": "code",
   "execution_count": null,
   "id": "546ee9f9",
   "metadata": {},
   "outputs": [],
   "source": [
    "gender_and_year = pd.concat([gender_a_2017 , gender_a_2021 , gender_m_2017, gender_m_2021 , gender_w_2017 , gender_w_2021] , axis = 0)"
   ]
  },
  {
   "cell_type": "code",
   "execution_count": 11,
   "id": "02cad51e",
   "metadata": {},
   "outputs": [
    {
     "data": {
      "text/html": [
       "<div>\n",
       "<style scoped>\n",
       "    .dataframe tbody tr th:only-of-type {\n",
       "        vertical-align: middle;\n",
       "    }\n",
       "\n",
       "    .dataframe tbody tr th {\n",
       "        vertical-align: top;\n",
       "    }\n",
       "\n",
       "    .dataframe thead th {\n",
       "        text-align: right;\n",
       "    }\n",
       "</style>\n",
       "<table border=\"1\" class=\"dataframe\">\n",
       "  <thead>\n",
       "    <tr style=\"text-align: right;\">\n",
       "      <th></th>\n",
       "      <th>19세 이하</th>\n",
       "      <th>20 ~ 34세</th>\n",
       "      <th>35 ~ 49세</th>\n",
       "      <th>50 ~ 64세</th>\n",
       "      <th>65세 이상</th>\n",
       "    </tr>\n",
       "  </thead>\n",
       "  <tbody>\n",
       "    <tr>\n",
       "      <th>2017년 전체</th>\n",
       "      <td>61058</td>\n",
       "      <td>1478618</td>\n",
       "      <td>1314444</td>\n",
       "      <td>1393595</td>\n",
       "      <td>1816831</td>\n",
       "    </tr>\n",
       "    <tr>\n",
       "      <th>2021년 전체</th>\n",
       "      <td>54052</td>\n",
       "      <td>2068435</td>\n",
       "      <td>1471387</td>\n",
       "      <td>1747480</td>\n",
       "      <td>2471000</td>\n",
       "    </tr>\n",
       "    <tr>\n",
       "      <th>2017년 남자</th>\n",
       "      <td>29108</td>\n",
       "      <td>848163</td>\n",
       "      <td>835535</td>\n",
       "      <td>722169</td>\n",
       "      <td>555849</td>\n",
       "    </tr>\n",
       "    <tr>\n",
       "      <th>2021년 남자</th>\n",
       "      <td>25015</td>\n",
       "      <td>1145447</td>\n",
       "      <td>939487</td>\n",
       "      <td>943568</td>\n",
       "      <td>836831</td>\n",
       "    </tr>\n",
       "    <tr>\n",
       "      <th>2017년 여자</th>\n",
       "      <td>31950</td>\n",
       "      <td>630455</td>\n",
       "      <td>478909</td>\n",
       "      <td>671426</td>\n",
       "      <td>1260982</td>\n",
       "    </tr>\n",
       "    <tr>\n",
       "      <th>2021년 여자</th>\n",
       "      <td>29037</td>\n",
       "      <td>922988</td>\n",
       "      <td>531900</td>\n",
       "      <td>803912</td>\n",
       "      <td>1634169</td>\n",
       "    </tr>\n",
       "  </tbody>\n",
       "</table>\n",
       "</div>"
      ],
      "text/plain": [
       "          19세 이하  20 ~ 34세  35 ~ 49세  50 ~ 64세   65세 이상\n",
       "2017년 전체   61058   1478618   1314444   1393595  1816831\n",
       "2021년 전체   54052   2068435   1471387   1747480  2471000\n",
       "2017년 남자   29108    848163    835535    722169   555849\n",
       "2021년 남자   25015   1145447    939487    943568   836831\n",
       "2017년 여자   31950    630455    478909    671426  1260982\n",
       "2021년 여자   29037    922988    531900    803912  1634169"
      ]
     },
     "execution_count": 11,
     "metadata": {},
     "output_type": "execute_result"
    }
   ],
   "source": [
    "gender_and_year"
   ]
  },
  {
   "cell_type": "code",
   "execution_count": 21,
   "id": "a5f13a8c",
   "metadata": {},
   "outputs": [],
   "source": [
    "gender_and_year.to_excel('C:/Users/PiGiraffe0/Documents/SQL/semi_project/data/gender_age_combination.xlsx')"
   ]
  },
  {
   "cell_type": "code",
   "execution_count": null,
   "id": "b2ef4401",
   "metadata": {},
   "outputs": [],
   "source": []
  }
 ],
 "metadata": {
  "kernelspec": {
   "display_name": "Python 3 (ipykernel)",
   "language": "python",
   "name": "python3"
  },
  "language_info": {
   "codemirror_mode": {
    "name": "ipython",
    "version": 3
   },
   "file_extension": ".py",
   "mimetype": "text/x-python",
   "name": "python",
   "nbconvert_exporter": "python",
   "pygments_lexer": "ipython3",
   "version": "3.9.12"
  }
 },
 "nbformat": 4,
 "nbformat_minor": 5
}
