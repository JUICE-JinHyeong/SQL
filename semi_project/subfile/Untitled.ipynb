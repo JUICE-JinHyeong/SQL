{
 "cells": [
  {
   "cell_type": "code",
   "execution_count": 2,
   "id": "60597aa3",
   "metadata": {},
   "outputs": [],
   "source": [
    "import pandas as pd"
   ]
  },
  {
   "cell_type": "code",
   "execution_count": 5,
   "id": "98b33e5a",
   "metadata": {},
   "outputs": [],
   "source": [
    "data_01 = pd.read_excel('C:/Users/PiGiraffe0/Documents/SQL/semi_project/data/single_01.xlsx')"
   ]
  },
  {
   "cell_type": "code",
   "execution_count": 9,
   "id": "d506ef3d",
   "metadata": {},
   "outputs": [
    {
     "data": {
      "text/html": [
       "<div>\n",
       "<style scoped>\n",
       "    .dataframe tbody tr th:only-of-type {\n",
       "        vertical-align: middle;\n",
       "    }\n",
       "\n",
       "    .dataframe tbody tr th {\n",
       "        vertical-align: top;\n",
       "    }\n",
       "\n",
       "    .dataframe thead th {\n",
       "        text-align: right;\n",
       "    }\n",
       "</style>\n",
       "<table border=\"1\" class=\"dataframe\">\n",
       "  <thead>\n",
       "    <tr style=\"text-align: right;\">\n",
       "      <th></th>\n",
       "      <th>년도</th>\n",
       "      <th>전국</th>\n",
       "      <th>서울특별시</th>\n",
       "      <th>부산광역시</th>\n",
       "      <th>대구광역시</th>\n",
       "      <th>인천광역시</th>\n",
       "      <th>광주광역시</th>\n",
       "      <th>대전광역시</th>\n",
       "      <th>울산광역시</th>\n",
       "      <th>세종특별자치시</th>\n",
       "      <th>경기도</th>\n",
       "      <th>강원도</th>\n",
       "      <th>충청북도</th>\n",
       "      <th>충청남도</th>\n",
       "      <th>전라북도</th>\n",
       "      <th>전라남도</th>\n",
       "      <th>경상북도</th>\n",
       "      <th>경상남도</th>\n",
       "      <th>제주특별자치도</th>\n",
       "    </tr>\n",
       "  </thead>\n",
       "  <tbody>\n",
       "    <tr>\n",
       "      <th>0</th>\n",
       "      <td>2017</td>\n",
       "      <td>28.6</td>\n",
       "      <td>31.0</td>\n",
       "      <td>28.7</td>\n",
       "      <td>27.4</td>\n",
       "      <td>24.7</td>\n",
       "      <td>29.8</td>\n",
       "      <td>31.5</td>\n",
       "      <td>25.1</td>\n",
       "      <td>30.2</td>\n",
       "      <td>24.4</td>\n",
       "      <td>32.2</td>\n",
       "      <td>31.0</td>\n",
       "      <td>31.1</td>\n",
       "      <td>31.2</td>\n",
       "      <td>31.6</td>\n",
       "      <td>31.9</td>\n",
       "      <td>28.6</td>\n",
       "      <td>28.6</td>\n",
       "    </tr>\n",
       "    <tr>\n",
       "      <th>1</th>\n",
       "      <td>2018</td>\n",
       "      <td>29.3</td>\n",
       "      <td>32.0</td>\n",
       "      <td>29.7</td>\n",
       "      <td>28.2</td>\n",
       "      <td>25.2</td>\n",
       "      <td>30.2</td>\n",
       "      <td>32.5</td>\n",
       "      <td>25.6</td>\n",
       "      <td>30.0</td>\n",
       "      <td>25.2</td>\n",
       "      <td>32.8</td>\n",
       "      <td>31.8</td>\n",
       "      <td>31.8</td>\n",
       "      <td>31.7</td>\n",
       "      <td>31.9</td>\n",
       "      <td>32.3</td>\n",
       "      <td>29.1</td>\n",
       "      <td>29.4</td>\n",
       "    </tr>\n",
       "    <tr>\n",
       "      <th>2</th>\n",
       "      <td>2019</td>\n",
       "      <td>30.2</td>\n",
       "      <td>33.4</td>\n",
       "      <td>30.7</td>\n",
       "      <td>29.4</td>\n",
       "      <td>26.6</td>\n",
       "      <td>31.1</td>\n",
       "      <td>33.7</td>\n",
       "      <td>26.5</td>\n",
       "      <td>30.1</td>\n",
       "      <td>26.3</td>\n",
       "      <td>32.9</td>\n",
       "      <td>32.9</td>\n",
       "      <td>32.5</td>\n",
       "      <td>32.3</td>\n",
       "      <td>32.1</td>\n",
       "      <td>32.7</td>\n",
       "      <td>29.6</td>\n",
       "      <td>29.7</td>\n",
       "    </tr>\n",
       "    <tr>\n",
       "      <th>3</th>\n",
       "      <td>2020</td>\n",
       "      <td>31.7</td>\n",
       "      <td>34.9</td>\n",
       "      <td>32.4</td>\n",
       "      <td>30.9</td>\n",
       "      <td>28.3</td>\n",
       "      <td>32.4</td>\n",
       "      <td>36.3</td>\n",
       "      <td>27.7</td>\n",
       "      <td>31.3</td>\n",
       "      <td>27.6</td>\n",
       "      <td>35.0</td>\n",
       "      <td>34.8</td>\n",
       "      <td>34.2</td>\n",
       "      <td>33.8</td>\n",
       "      <td>33.7</td>\n",
       "      <td>34.4</td>\n",
       "      <td>30.9</td>\n",
       "      <td>31.1</td>\n",
       "    </tr>\n",
       "    <tr>\n",
       "      <th>4</th>\n",
       "      <td>2021</td>\n",
       "      <td>33.4</td>\n",
       "      <td>36.8</td>\n",
       "      <td>34.0</td>\n",
       "      <td>32.7</td>\n",
       "      <td>30.0</td>\n",
       "      <td>34.5</td>\n",
       "      <td>37.6</td>\n",
       "      <td>29.5</td>\n",
       "      <td>31.5</td>\n",
       "      <td>29.2</td>\n",
       "      <td>36.3</td>\n",
       "      <td>36.3</td>\n",
       "      <td>35.8</td>\n",
       "      <td>35.7</td>\n",
       "      <td>35.3</td>\n",
       "      <td>36.0</td>\n",
       "      <td>32.7</td>\n",
       "      <td>32.7</td>\n",
       "    </tr>\n",
       "  </tbody>\n",
       "</table>\n",
       "</div>"
      ],
      "text/plain": [
       "     년도    전국  서울특별시  부산광역시  대구광역시  인천광역시  광주광역시  대전광역시  울산광역시  세종특별자치시   경기도  \\\n",
       "0  2017  28.6   31.0   28.7   27.4   24.7   29.8   31.5   25.1     30.2  24.4   \n",
       "1  2018  29.3   32.0   29.7   28.2   25.2   30.2   32.5   25.6     30.0  25.2   \n",
       "2  2019  30.2   33.4   30.7   29.4   26.6   31.1   33.7   26.5     30.1  26.3   \n",
       "3  2020  31.7   34.9   32.4   30.9   28.3   32.4   36.3   27.7     31.3  27.6   \n",
       "4  2021  33.4   36.8   34.0   32.7   30.0   34.5   37.6   29.5     31.5  29.2   \n",
       "\n",
       "    강원도  충청북도  충청남도  전라북도  전라남도  경상북도  경상남도  제주특별자치도  \n",
       "0  32.2  31.0  31.1  31.2  31.6  31.9  28.6     28.6  \n",
       "1  32.8  31.8  31.8  31.7  31.9  32.3  29.1     29.4  \n",
       "2  32.9  32.9  32.5  32.3  32.1  32.7  29.6     29.7  \n",
       "3  35.0  34.8  34.2  33.8  33.7  34.4  30.9     31.1  \n",
       "4  36.3  36.3  35.8  35.7  35.3  36.0  32.7     32.7  "
      ]
     },
     "execution_count": 9,
     "metadata": {},
     "output_type": "execute_result"
    }
   ],
   "source": [
    "data_01"
   ]
  },
  {
   "cell_type": "code",
   "execution_count": 24,
   "id": "0040f0bd",
   "metadata": {},
   "outputs": [
    {
     "name": "stdout",
     "output_type": "stream",
     "text": [
      "<class 'pandas.core.frame.DataFrame'>\n",
      "RangeIndex: 5 entries, 0 to 4\n",
      "Data columns (total 19 columns):\n",
      " #   Column   Non-Null Count  Dtype         \n",
      "---  ------   --------------  -----         \n",
      " 0   년도       5 non-null      datetime64[ns]\n",
      " 1   전국       5 non-null      float64       \n",
      " 2   서울특별시    5 non-null      float64       \n",
      " 3   부산광역시    5 non-null      float64       \n",
      " 4   대구광역시    5 non-null      float64       \n",
      " 5   인천광역시    5 non-null      float64       \n",
      " 6   광주광역시    5 non-null      float64       \n",
      " 7   대전광역시    5 non-null      float64       \n",
      " 8   울산광역시    5 non-null      float64       \n",
      " 9   세종특별자치시  5 non-null      float64       \n",
      " 10  경기도      5 non-null      float64       \n",
      " 11  강원도      5 non-null      float64       \n",
      " 12  충청북도     5 non-null      float64       \n",
      " 13  충청남도     5 non-null      float64       \n",
      " 14  전라북도     5 non-null      float64       \n",
      " 15  전라남도     5 non-null      float64       \n",
      " 16  경상북도     5 non-null      float64       \n",
      " 17  경상남도     5 non-null      float64       \n",
      " 18  제주특별자치도  5 non-null      float64       \n",
      "dtypes: datetime64[ns](1), float64(18)\n",
      "memory usage: 888.0 bytes\n"
     ]
    }
   ],
   "source": [
    "data_01['년도'] = pd.to_datetime(data_01['년도'] , '%y')\n",
    "data_01.info()"
   ]
  },
  {
   "cell_type": "code",
   "execution_count": 27,
   "id": "f1ddda2b",
   "metadata": {},
   "outputs": [
    {
     "ename": "TypeError",
     "evalue": "plot got an unexpected keyword argument 'x'",
     "output_type": "error",
     "traceback": [
      "\u001b[1;31m---------------------------------------------------------------------------\u001b[0m",
      "\u001b[1;31mTypeError\u001b[0m                                 Traceback (most recent call last)",
      "Input \u001b[1;32mIn [27]\u001b[0m, in \u001b[0;36m<cell line: 3>\u001b[1;34m()\u001b[0m\n\u001b[0;32m      1\u001b[0m \u001b[38;5;28;01mimport\u001b[39;00m \u001b[38;5;21;01mmatplotlib\u001b[39;00m\u001b[38;5;21;01m.\u001b[39;00m\u001b[38;5;21;01mpyplot\u001b[39;00m \u001b[38;5;28;01mas\u001b[39;00m \u001b[38;5;21;01mplt\u001b[39;00m\n\u001b[1;32m----> 3\u001b[0m \u001b[43mplt\u001b[49m\u001b[38;5;241;43m.\u001b[39;49m\u001b[43mplot\u001b[49m\u001b[43m(\u001b[49m\u001b[43mx\u001b[49m\u001b[43m \u001b[49m\u001b[38;5;241;43m=\u001b[39;49m\u001b[43m \u001b[49m\u001b[43mdata_01\u001b[49m\u001b[38;5;241;43m.\u001b[39;49m\u001b[43mindex\u001b[49m\u001b[43m,\u001b[49m\u001b[43m \u001b[49m\u001b[43my\u001b[49m\u001b[43m \u001b[49m\u001b[38;5;241;43m=\u001b[39;49m\u001b[43m \u001b[49m\u001b[43mdata_01\u001b[49m\u001b[43m[\u001b[49m\u001b[38;5;124;43m'\u001b[39;49m\u001b[38;5;124;43m전국\u001b[39;49m\u001b[38;5;124;43m'\u001b[39;49m\u001b[43m]\u001b[49m\u001b[43m)\u001b[49m\n",
      "File \u001b[1;32mD:\\anaconda3\\lib\\site-packages\\matplotlib\\pyplot.py:2757\u001b[0m, in \u001b[0;36mplot\u001b[1;34m(scalex, scaley, data, *args, **kwargs)\u001b[0m\n\u001b[0;32m   2755\u001b[0m \u001b[38;5;129m@_copy_docstring_and_deprecators\u001b[39m(Axes\u001b[38;5;241m.\u001b[39mplot)\n\u001b[0;32m   2756\u001b[0m \u001b[38;5;28;01mdef\u001b[39;00m \u001b[38;5;21mplot\u001b[39m(\u001b[38;5;241m*\u001b[39margs, scalex\u001b[38;5;241m=\u001b[39m\u001b[38;5;28;01mTrue\u001b[39;00m, scaley\u001b[38;5;241m=\u001b[39m\u001b[38;5;28;01mTrue\u001b[39;00m, data\u001b[38;5;241m=\u001b[39m\u001b[38;5;28;01mNone\u001b[39;00m, \u001b[38;5;241m*\u001b[39m\u001b[38;5;241m*\u001b[39mkwargs):\n\u001b[1;32m-> 2757\u001b[0m     \u001b[38;5;28;01mreturn\u001b[39;00m gca()\u001b[38;5;241m.\u001b[39mplot(\n\u001b[0;32m   2758\u001b[0m         \u001b[38;5;241m*\u001b[39margs, scalex\u001b[38;5;241m=\u001b[39mscalex, scaley\u001b[38;5;241m=\u001b[39mscaley,\n\u001b[0;32m   2759\u001b[0m         \u001b[38;5;241m*\u001b[39m\u001b[38;5;241m*\u001b[39m({\u001b[38;5;124m\"\u001b[39m\u001b[38;5;124mdata\u001b[39m\u001b[38;5;124m\"\u001b[39m: data} \u001b[38;5;28;01mif\u001b[39;00m data \u001b[38;5;129;01mis\u001b[39;00m \u001b[38;5;129;01mnot\u001b[39;00m \u001b[38;5;28;01mNone\u001b[39;00m \u001b[38;5;28;01melse\u001b[39;00m {}), \u001b[38;5;241m*\u001b[39m\u001b[38;5;241m*\u001b[39mkwargs)\n",
      "File \u001b[1;32mD:\\anaconda3\\lib\\site-packages\\matplotlib\\axes\\_axes.py:1632\u001b[0m, in \u001b[0;36mAxes.plot\u001b[1;34m(self, scalex, scaley, data, *args, **kwargs)\u001b[0m\n\u001b[0;32m   1390\u001b[0m \u001b[38;5;124;03m\"\"\"\u001b[39;00m\n\u001b[0;32m   1391\u001b[0m \u001b[38;5;124;03mPlot y versus x as lines and/or markers.\u001b[39;00m\n\u001b[0;32m   1392\u001b[0m \n\u001b[1;32m   (...)\u001b[0m\n\u001b[0;32m   1629\u001b[0m \u001b[38;5;124;03m(``'green'``) or hex strings (``'#008000'``).\u001b[39;00m\n\u001b[0;32m   1630\u001b[0m \u001b[38;5;124;03m\"\"\"\u001b[39;00m\n\u001b[0;32m   1631\u001b[0m kwargs \u001b[38;5;241m=\u001b[39m cbook\u001b[38;5;241m.\u001b[39mnormalize_kwargs(kwargs, mlines\u001b[38;5;241m.\u001b[39mLine2D)\n\u001b[1;32m-> 1632\u001b[0m lines \u001b[38;5;241m=\u001b[39m [\u001b[38;5;241m*\u001b[39m\u001b[38;5;28mself\u001b[39m\u001b[38;5;241m.\u001b[39m_get_lines(\u001b[38;5;241m*\u001b[39margs, data\u001b[38;5;241m=\u001b[39mdata, \u001b[38;5;241m*\u001b[39m\u001b[38;5;241m*\u001b[39mkwargs)]\n\u001b[0;32m   1633\u001b[0m \u001b[38;5;28;01mfor\u001b[39;00m line \u001b[38;5;129;01min\u001b[39;00m lines:\n\u001b[0;32m   1634\u001b[0m     \u001b[38;5;28mself\u001b[39m\u001b[38;5;241m.\u001b[39madd_line(line)\n",
      "File \u001b[1;32mD:\\anaconda3\\lib\\site-packages\\matplotlib\\axes\\_base.py:247\u001b[0m, in \u001b[0;36m_process_plot_var_args.__call__\u001b[1;34m(self, data, *args, **kwargs)\u001b[0m\n\u001b[0;32m    245\u001b[0m \u001b[38;5;28;01mfor\u001b[39;00m pos_only \u001b[38;5;129;01min\u001b[39;00m \u001b[38;5;124m\"\u001b[39m\u001b[38;5;124mxy\u001b[39m\u001b[38;5;124m\"\u001b[39m:\n\u001b[0;32m    246\u001b[0m     \u001b[38;5;28;01mif\u001b[39;00m pos_only \u001b[38;5;129;01min\u001b[39;00m kwargs:\n\u001b[1;32m--> 247\u001b[0m         \u001b[38;5;28;01mraise\u001b[39;00m \u001b[38;5;167;01mTypeError\u001b[39;00m(\u001b[38;5;124m\"\u001b[39m\u001b[38;5;132;01m{}\u001b[39;00m\u001b[38;5;124m got an unexpected keyword argument \u001b[39m\u001b[38;5;132;01m{!r}\u001b[39;00m\u001b[38;5;124m\"\u001b[39m\n\u001b[0;32m    248\u001b[0m                         \u001b[38;5;241m.\u001b[39mformat(\u001b[38;5;28mself\u001b[39m\u001b[38;5;241m.\u001b[39mcommand, pos_only))\n\u001b[0;32m    250\u001b[0m \u001b[38;5;28;01mif\u001b[39;00m \u001b[38;5;129;01mnot\u001b[39;00m args:\n\u001b[0;32m    251\u001b[0m     \u001b[38;5;28;01mreturn\u001b[39;00m\n",
      "\u001b[1;31mTypeError\u001b[0m: plot got an unexpected keyword argument 'x'"
     ]
    },
    {
     "data": {
      "image/png": "[encoded data removed]",
      "text/plain": [
       "<Figure size 432x288 with 1 Axes>"
      ]
     },
     "metadata": {
      "needs_background": "light"
     },
     "output_type": "display_data"
    }
   ],
   "source": [
    "import matplotlib.pyplot as plt\n",
    "\n",
    "plt.plot(x = data_01.index, y = data_01['전국'])"
   ]
  },
  {
   "cell_type": "code",
   "execution_count": 26,
   "id": "7e1cc89a",
   "metadata": {},
   "outputs": [
    {
     "data": {
      "text/plain": [
       "RangeIndex(start=0, stop=5, step=1)"
      ]
     },
     "execution_count": 26,
     "metadata": {},
     "output_type": "execute_result"
    }
   ],
   "source": [
    "data_01.index"
   ]
  }
 ],
 "metadata": {
  "kernelspec": {
   "display_name": "Python 3 (ipykernel)",
   "language": "python",
   "name": "python3"
  },
  "language_info": {
   "codemirror_mode": {
    "name": "ipython",
    "version": 3
   },
   "file_extension": ".py",
   "mimetype": "text/x-python",
   "name": "python",
   "nbconvert_exporter": "python",
   "pygments_lexer": "ipython3",
   "version": "3.9.12"
  }
 },
 "nbformat": 4,
 "nbformat_minor": 5
}
