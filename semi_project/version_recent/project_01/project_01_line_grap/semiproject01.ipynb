{
 "cells": [
  {
   "cell_type": "markdown",
   "id": "31f891c1",
   "metadata": {},
   "source": [
    "#### 파이썬에서 엑셀 데이터 불러오기\n",
    "- nationalsinglehousehold.xlsx 파일 저장 후 저장위치 지정하여 불러오기\n",
    "- nationalsinglehousehold는 1. 1인가구 현황(2000~)에 관련 자료임\n",
    "- 컬럼 설명) year:년도, per_single_house:1인가구 비율, num_single_house: 1인가구 수\n",
    "- 시계열 그래프에 사용될 예정"
   ]
  },
  {
   "cell_type": "code",
   "execution_count": 1,
   "id": "75dea0bc",
   "metadata": {},
   "outputs": [
    {
     "data": {
      "text/html": [
       "<div>\n",
       "<style scoped>\n",
       "    .dataframe tbody tr th:only-of-type {\n",
       "        vertical-align: middle;\n",
       "    }\n",
       "\n",
       "    .dataframe tbody tr th {\n",
       "        vertical-align: top;\n",
       "    }\n",
       "\n",
       "    .dataframe thead th {\n",
       "        text-align: right;\n",
       "    }\n",
       "</style>\n",
       "<table border=\"1\" class=\"dataframe\">\n",
       "  <thead>\n",
       "    <tr style=\"text-align: right;\">\n",
       "      <th></th>\n",
       "      <th>year</th>\n",
       "      <th>per_single_house</th>\n",
       "      <th>num_single_house</th>\n",
       "    </tr>\n",
       "  </thead>\n",
       "  <tbody>\n",
       "    <tr>\n",
       "      <th>0</th>\n",
       "      <td>2000</td>\n",
       "      <td>15.5</td>\n",
       "      <td>2224433</td>\n",
       "    </tr>\n",
       "    <tr>\n",
       "      <th>1</th>\n",
       "      <td>2005</td>\n",
       "      <td>20.0</td>\n",
       "      <td>3170675</td>\n",
       "    </tr>\n",
       "    <tr>\n",
       "      <th>2</th>\n",
       "      <td>2010</td>\n",
       "      <td>23.9</td>\n",
       "      <td>4142165</td>\n",
       "    </tr>\n",
       "    <tr>\n",
       "      <th>3</th>\n",
       "      <td>2015</td>\n",
       "      <td>27.2</td>\n",
       "      <td>5203440</td>\n",
       "    </tr>\n",
       "    <tr>\n",
       "      <th>4</th>\n",
       "      <td>2016</td>\n",
       "      <td>27.9</td>\n",
       "      <td>5397615</td>\n",
       "    </tr>\n",
       "  </tbody>\n",
       "</table>\n",
       "</div>"
      ],
      "text/plain": [
       "   year  per_single_house  num_single_house\n",
       "0  2000              15.5           2224433\n",
       "1  2005              20.0           3170675\n",
       "2  2010              23.9           4142165\n",
       "3  2015              27.2           5203440\n",
       "4  2016              27.9           5397615"
      ]
     },
     "execution_count": 1,
     "metadata": {},
     "output_type": "execute_result"
    }
   ],
   "source": [
    "import pandas as pd \n",
    "df = pd.read_excel('nationalsinglehousehold.xlsx')\n",
    "\n",
    "df.head()"
   ]
  },
  {
   "cell_type": "markdown",
   "id": "efc43551",
   "metadata": {},
   "source": [
    "#### 시계열 그래프 그리기 "
   ]
  },
  {
   "cell_type": "code",
   "execution_count": 2,
   "id": "6d65b3d5",
   "metadata": {},
   "outputs": [],
   "source": [
    "# 혹시 모를 경우 대비\n",
    "# 그래프에서 한글 표기를 위한 글자체 변경(윈도우, 맥os 각각의 경우에 대해서 처리)\n",
    "\n",
    "from matplotlib import font_manager, rc\n",
    "import platform \n",
    "\n",
    "if platform.system() == 'Windows': \n",
    "    path = 'c:/Windows/Fonts/malgun.ttf'\n",
    "    font_name = font_manager.FontProperties(fname=path).get_name()\n",
    "    rc('font', family=font_name)\n",
    "elif platform.system() == 'Darwin':\n",
    "    rc('font', family='AppleGothic')\n",
    "else: \n",
    "    print('Check your OS system')\n"
   ]
  },
  {
   "cell_type": "code",
   "execution_count": 3,
   "id": "3bc854fc",
   "metadata": {},
   "outputs": [],
   "source": [
    "# 시각화를 위한 matplotlib 라이브러리 불러오기\n",
    "import matplotlib.pyplot as plt"
   ]
  },
  {
   "cell_type": "code",
   "execution_count": 4,
   "id": "3f2b1fad",
   "metadata": {},
   "outputs": [
    {
     "data": {
      "image/png": "[encoded data removed]",
      "text/plain": [
       "<Figure size 864x288 with 1 Axes>"
      ]
     },
     "metadata": {
      "needs_background": "light"
     },
     "output_type": "display_data"
    }
   ],
   "source": [
    "# 시계열 그래프 꾸미기\n",
    "\n",
    "## 그래프 크기 조절\n",
    "plt.figure(figsize = (12,4))\n",
    "\n",
    "## 그래프 내용 설정 , label이름 설정\n",
    "plt.plot(df['year'], df['num_single_house'], label = '1인 가구 수')\n",
    "plt.scatter(df['year'], df['num_single_house'], c='g', label = '1인 가구 비율')\n",
    "\n",
    "## 범례(legend) 설정 : '1인 가구 수'와 '1인 가구 비율' 오른쪽 아래 범례\n",
    "plt.legend(fontsize = 10, loc = 4)\n",
    "\n",
    "## 그래프 타이틀, x축, y축 이름 달기\n",
    "plt.title('연도별 1인 가구 증감률')\n",
    "plt.xlabel('기준년도')\n",
    "plt.ylabel('1인 가구 수')\n",
    "\n",
    "## 그래프 x축 값과 y축 값 설정 \n",
    "values = ['2000','2005','2010','2015','2016','2017','2018','2019','2020','2021']\n",
    "plt.xticks(df['year'].values)\n",
    "\n",
    "plt.ylim(0 , 10000000)\n",
    "plt.ticklabel_format(axis='y',useOffset=False, style='plain')\n",
    "\n",
    "## plt 선 그래프에 scatter 값 표시하기\n",
    "for i in range(len(df)):\n",
    "    row  = df.iloc[i]\n",
    "    name = str(row['per_single_house'])\n",
    "    x = row['year']\n",
    "    y = row['num_single_house']\n",
    "    \n",
    "    plt.text(x - 0.3, y + 500000, name+'%', fontsize = 10)\n",
    "\n",
    "\n",
    "# plt.show()\n",
    "plt.savefig('project_01_ppt_01.png', dpi = 100)"
   ]
  }
 ],
 "metadata": {
  "kernelspec": {
   "display_name": "Python 3 (ipykernel)",
   "language": "python",
   "name": "python3"
  },
  "language_info": {
   "codemirror_mode": {
    "name": "ipython",
    "version": 3
   },
   "file_extension": ".py",
   "mimetype": "text/x-python",
   "name": "python",
   "nbconvert_exporter": "python",
   "pygments_lexer": "ipython3",
   "version": "3.9.12"
  }
 },
 "nbformat": 4,
 "nbformat_minor": 5
}
