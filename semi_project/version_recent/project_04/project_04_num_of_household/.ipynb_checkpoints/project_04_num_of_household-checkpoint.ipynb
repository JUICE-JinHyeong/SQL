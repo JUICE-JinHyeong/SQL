{
 "cells": [
  {
   "cell_type": "code",
   "execution_count": 1,
   "id": "26773a6b",
   "metadata": {},
   "outputs": [],
   "source": [
    "import pandas as pd\n",
    "import matplotlib.pyplot as plt"
   ]
  },
  {
   "cell_type": "code",
   "execution_count": 2,
   "id": "c528f094",
   "metadata": {},
   "outputs": [],
   "source": [
    "# 한글 깨짐 방지\n",
    "# 원리는 색상 폰트들에서 한글을 인식하는 폰트로 바꾸어주는 구조\n",
    "def font_kor_fixed() :\n",
    "    from matplotlib import font_manager, rc\n",
    "    import platform \n",
    "\n",
    "    if platform.system() == 'Windows': \n",
    "        path = 'c:/Windows/Fonts/malgun.ttf'\n",
    "        font_name = font_manager.FontProperties(fname=path).get_name()\n",
    "        rc('font', family=font_name)\n",
    "    elif platform.system() == 'Darwin':\n",
    "        rc('font', family='AppleGothic')\n",
    "    else: \n",
    "        print('Check your OS system')\n",
    "\n",
    "font_kor_fixed()"
   ]
  },
  {
   "cell_type": "code",
   "execution_count": 3,
   "id": "21c42879",
   "metadata": {},
   "outputs": [
    {
     "name": "stderr",
     "output_type": "stream",
     "text": [
      "D:\\anaconda3\\lib\\site-packages\\openpyxl\\styles\\stylesheet.py:226: UserWarning: Workbook contains no default style, apply openpyxl's default\n",
      "  warn(\"Workbook contains no default style, apply openpyxl's default\")\n",
      "D:\\anaconda3\\lib\\site-packages\\openpyxl\\styles\\stylesheet.py:226: UserWarning: Workbook contains no default style, apply openpyxl's default\n",
      "  warn(\"Workbook contains no default style, apply openpyxl's default\")\n"
     ]
    }
   ],
   "source": [
    "data_1718 = pd.read_excel('project_04_num_of_household_1718.xlsx')\n",
    "data_1921 = pd.read_excel('project_04_num_of_household_1921.xlsx')"
   ]
  },
  {
   "cell_type": "code",
   "execution_count": 4,
   "id": "4758aad6",
   "metadata": {},
   "outputs": [
    {
     "data": {
      "text/html": [
       "<div>\n",
       "<style scoped>\n",
       "    .dataframe tbody tr th:only-of-type {\n",
       "        vertical-align: middle;\n",
       "    }\n",
       "\n",
       "    .dataframe tbody tr th {\n",
       "        vertical-align: top;\n",
       "    }\n",
       "\n",
       "    .dataframe thead th {\n",
       "        text-align: right;\n",
       "    }\n",
       "</style>\n",
       "<table border=\"1\" class=\"dataframe\">\n",
       "  <thead>\n",
       "    <tr style=\"text-align: right;\">\n",
       "      <th></th>\n",
       "      <th>가구원수별(1)</th>\n",
       "      <th>가계지출항목별(1)</th>\n",
       "      <th>2017</th>\n",
       "      <th>2018</th>\n",
       "    </tr>\n",
       "  </thead>\n",
       "  <tbody>\n",
       "    <tr>\n",
       "      <th>0</th>\n",
       "      <td>가구원수별(1)</td>\n",
       "      <td>가계지출항목별(1)</td>\n",
       "      <td>전체가구</td>\n",
       "      <td>전체가구</td>\n",
       "    </tr>\n",
       "    <tr>\n",
       "      <th>1</th>\n",
       "      <td>전체 평균</td>\n",
       "      <td>소비지출 (원)</td>\n",
       "      <td>2556823.0</td>\n",
       "      <td>2537641.0</td>\n",
       "    </tr>\n",
       "    <tr>\n",
       "      <th>2</th>\n",
       "      <td>1인</td>\n",
       "      <td>소비지출 (원)</td>\n",
       "      <td>1373130.0</td>\n",
       "      <td>1419873.0</td>\n",
       "    </tr>\n",
       "    <tr>\n",
       "      <th>3</th>\n",
       "      <td>2인</td>\n",
       "      <td>소비지출 (원)</td>\n",
       "      <td>2223153.0</td>\n",
       "      <td>2200230.0</td>\n",
       "    </tr>\n",
       "    <tr>\n",
       "      <th>4</th>\n",
       "      <td>3인</td>\n",
       "      <td>소비지출 (원)</td>\n",
       "      <td>3101323.0</td>\n",
       "      <td>3075259.0</td>\n",
       "    </tr>\n",
       "    <tr>\n",
       "      <th>5</th>\n",
       "      <td>4인</td>\n",
       "      <td>소비지출 (원)</td>\n",
       "      <td>3797885.0</td>\n",
       "      <td>3816755.0</td>\n",
       "    </tr>\n",
       "  </tbody>\n",
       "</table>\n",
       "</div>"
      ],
      "text/plain": [
       "   가구원수별(1)  가계지출항목별(1)       2017       2018\n",
       "0  가구원수별(1)  가계지출항목별(1)       전체가구       전체가구\n",
       "1     전체 평균    소비지출 (원)  2556823.0  2537641.0\n",
       "2        1인    소비지출 (원)  1373130.0  1419873.0\n",
       "3        2인    소비지출 (원)  2223153.0  2200230.0\n",
       "4        3인    소비지출 (원)  3101323.0  3075259.0\n",
       "5        4인    소비지출 (원)  3797885.0  3816755.0"
      ]
     },
     "execution_count": 4,
     "metadata": {},
     "output_type": "execute_result"
    }
   ],
   "source": [
    "data_1718"
   ]
  },
  {
   "cell_type": "code",
   "execution_count": 5,
   "id": "7fb97cc3",
   "metadata": {},
   "outputs": [
    {
     "data": {
      "text/html": [
       "<div>\n",
       "<style scoped>\n",
       "    .dataframe tbody tr th:only-of-type {\n",
       "        vertical-align: middle;\n",
       "    }\n",
       "\n",
       "    .dataframe tbody tr th {\n",
       "        vertical-align: top;\n",
       "    }\n",
       "\n",
       "    .dataframe thead th {\n",
       "        text-align: right;\n",
       "    }\n",
       "</style>\n",
       "<table border=\"1\" class=\"dataframe\">\n",
       "  <thead>\n",
       "    <tr style=\"text-align: right;\">\n",
       "      <th></th>\n",
       "      <th>가구원수별</th>\n",
       "      <th>가계수지항목별</th>\n",
       "      <th>2019</th>\n",
       "      <th>2020</th>\n",
       "      <th>2021</th>\n",
       "    </tr>\n",
       "  </thead>\n",
       "  <tbody>\n",
       "    <tr>\n",
       "      <th>0</th>\n",
       "      <td>가구원수별</td>\n",
       "      <td>가계수지항목별</td>\n",
       "      <td>전체가구</td>\n",
       "      <td>전체가구</td>\n",
       "      <td>전체가구</td>\n",
       "    </tr>\n",
       "    <tr>\n",
       "      <th>1</th>\n",
       "      <td>전체 평균</td>\n",
       "      <td>소비지출</td>\n",
       "      <td>2496091.0</td>\n",
       "      <td>2433420.0</td>\n",
       "      <td>2524746.0</td>\n",
       "    </tr>\n",
       "    <tr>\n",
       "      <th>2</th>\n",
       "      <td>1인</td>\n",
       "      <td>소비지출</td>\n",
       "      <td>1447933.0</td>\n",
       "      <td>1330632.0</td>\n",
       "      <td>1416062.0</td>\n",
       "    </tr>\n",
       "    <tr>\n",
       "      <th>3</th>\n",
       "      <td>2인</td>\n",
       "      <td>소비지출</td>\n",
       "      <td>2123485.0</td>\n",
       "      <td>2084472.0</td>\n",
       "      <td>2188171.0</td>\n",
       "    </tr>\n",
       "    <tr>\n",
       "      <th>4</th>\n",
       "      <td>3인</td>\n",
       "      <td>소비지출</td>\n",
       "      <td>3010084.0</td>\n",
       "      <td>3021955.0</td>\n",
       "      <td>3153814.0</td>\n",
       "    </tr>\n",
       "    <tr>\n",
       "      <th>5</th>\n",
       "      <td>4인</td>\n",
       "      <td>소비지출</td>\n",
       "      <td>3733576.0</td>\n",
       "      <td>3723659.0</td>\n",
       "      <td>3866518.0</td>\n",
       "    </tr>\n",
       "  </tbody>\n",
       "</table>\n",
       "</div>"
      ],
      "text/plain": [
       "   가구원수별  가계수지항목별       2019       2020       2021\n",
       "0  가구원수별  가계수지항목별       전체가구       전체가구       전체가구\n",
       "1  전체 평균     소비지출  2496091.0  2433420.0  2524746.0\n",
       "2     1인     소비지출  1447933.0  1330632.0  1416062.0\n",
       "3     2인     소비지출  2123485.0  2084472.0  2188171.0\n",
       "4     3인     소비지출  3010084.0  3021955.0  3153814.0\n",
       "5     4인     소비지출  3733576.0  3723659.0  3866518.0"
      ]
     },
     "execution_count": 5,
     "metadata": {},
     "output_type": "execute_result"
    }
   ],
   "source": [
    "data_1921"
   ]
  },
  {
   "cell_type": "code",
   "execution_count": 6,
   "id": "01e6b565",
   "metadata": {},
   "outputs": [],
   "source": [
    "# data 1718은 칼럼또한 변경해야하므로 1921 안에 insert하여 전처리를 해줍니다.\n",
    "# insert() 실행은 한 번만 할 것.\n",
    "\n",
    "data_1921.insert(loc = 2 , column = '2017' , value = data_1718['2017'])"
   ]
  },
  {
   "cell_type": "code",
   "execution_count": 7,
   "id": "935a42c0",
   "metadata": {},
   "outputs": [],
   "source": [
    "data_1921.insert(loc = 3 , column = '2018' , value = data_1718['2018'])"
   ]
  },
  {
   "cell_type": "code",
   "execution_count": 8,
   "id": "200a1544",
   "metadata": {},
   "outputs": [
    {
     "data": {
      "text/html": [
       "<div>\n",
       "<style scoped>\n",
       "    .dataframe tbody tr th:only-of-type {\n",
       "        vertical-align: middle;\n",
       "    }\n",
       "\n",
       "    .dataframe tbody tr th {\n",
       "        vertical-align: top;\n",
       "    }\n",
       "\n",
       "    .dataframe thead th {\n",
       "        text-align: right;\n",
       "    }\n",
       "</style>\n",
       "<table border=\"1\" class=\"dataframe\">\n",
       "  <thead>\n",
       "    <tr style=\"text-align: right;\">\n",
       "      <th></th>\n",
       "      <th>가구원수별</th>\n",
       "      <th>2017</th>\n",
       "      <th>2018</th>\n",
       "      <th>2019</th>\n",
       "      <th>2020</th>\n",
       "      <th>2021</th>\n",
       "    </tr>\n",
       "  </thead>\n",
       "  <tbody>\n",
       "    <tr>\n",
       "      <th>1</th>\n",
       "      <td>전체 평균</td>\n",
       "      <td>2556823.0</td>\n",
       "      <td>2537641.0</td>\n",
       "      <td>2496091.0</td>\n",
       "      <td>2433420.0</td>\n",
       "      <td>2524746.0</td>\n",
       "    </tr>\n",
       "    <tr>\n",
       "      <th>2</th>\n",
       "      <td>1인</td>\n",
       "      <td>1373130.0</td>\n",
       "      <td>1419873.0</td>\n",
       "      <td>1447933.0</td>\n",
       "      <td>1330632.0</td>\n",
       "      <td>1416062.0</td>\n",
       "    </tr>\n",
       "    <tr>\n",
       "      <th>3</th>\n",
       "      <td>2인</td>\n",
       "      <td>2223153.0</td>\n",
       "      <td>2200230.0</td>\n",
       "      <td>2123485.0</td>\n",
       "      <td>2084472.0</td>\n",
       "      <td>2188171.0</td>\n",
       "    </tr>\n",
       "    <tr>\n",
       "      <th>4</th>\n",
       "      <td>3인</td>\n",
       "      <td>3101323.0</td>\n",
       "      <td>3075259.0</td>\n",
       "      <td>3010084.0</td>\n",
       "      <td>3021955.0</td>\n",
       "      <td>3153814.0</td>\n",
       "    </tr>\n",
       "    <tr>\n",
       "      <th>5</th>\n",
       "      <td>4인</td>\n",
       "      <td>3797885.0</td>\n",
       "      <td>3816755.0</td>\n",
       "      <td>3733576.0</td>\n",
       "      <td>3723659.0</td>\n",
       "      <td>3866518.0</td>\n",
       "    </tr>\n",
       "  </tbody>\n",
       "</table>\n",
       "</div>"
      ],
      "text/plain": [
       "   가구원수별       2017       2018       2019       2020       2021\n",
       "1  전체 평균  2556823.0  2537641.0  2496091.0  2433420.0  2524746.0\n",
       "2     1인  1373130.0  1419873.0  1447933.0  1330632.0  1416062.0\n",
       "3     2인  2223153.0  2200230.0  2123485.0  2084472.0  2188171.0\n",
       "4     3인  3101323.0  3075259.0  3010084.0  3021955.0  3153814.0\n",
       "5     4인  3797885.0  3816755.0  3733576.0  3723659.0  3866518.0"
      ]
     },
     "execution_count": 8,
     "metadata": {},
     "output_type": "execute_result"
    }
   ],
   "source": [
    "# 필요없는 칼럼과 행을 지워줍시다.\n",
    "\n",
    "data_1721 = data_1921.drop([0] , axis = 0)\n",
    "data_1721 = data_1721.drop(['가계수지항목별'] , axis = 1)\n",
    "data_1721"
   ]
  },
  {
   "cell_type": "code",
   "execution_count": 18,
   "id": "0b545133",
   "metadata": {},
   "outputs": [],
   "source": [
    "# 년도별 그래프를 그려야하기 때문에, 년도가 행에 들어가야합니다.\n",
    "\n",
    "t_data_1721 = data_1721.transpose()\n",
    "t_data_1721 = t_data_1721.rename(columns = t_data_1721.loc['가구원수별'])\n",
    "t_data_1721 = t_data_1721.drop(['가구원수별'] , axis = 0)\n",
    "t_data_1721 = t_data_1721.drop(['전체 평균'] , axis = 1)\n",
    "t_data_1721 = t_data_1721 / 10000"
   ]
  },
  {
   "cell_type": "code",
   "execution_count": 19,
   "id": "fbad71fe",
   "metadata": {},
   "outputs": [
    {
     "data": {
      "text/html": [
       "<div>\n",
       "<style scoped>\n",
       "    .dataframe tbody tr th:only-of-type {\n",
       "        vertical-align: middle;\n",
       "    }\n",
       "\n",
       "    .dataframe tbody tr th {\n",
       "        vertical-align: top;\n",
       "    }\n",
       "\n",
       "    .dataframe thead th {\n",
       "        text-align: right;\n",
       "    }\n",
       "</style>\n",
       "<table border=\"1\" class=\"dataframe\">\n",
       "  <thead>\n",
       "    <tr style=\"text-align: right;\">\n",
       "      <th></th>\n",
       "      <th>1인</th>\n",
       "      <th>2인</th>\n",
       "      <th>3인</th>\n",
       "      <th>4인</th>\n",
       "    </tr>\n",
       "  </thead>\n",
       "  <tbody>\n",
       "    <tr>\n",
       "      <th>2017</th>\n",
       "      <td>137.313</td>\n",
       "      <td>222.3153</td>\n",
       "      <td>310.1323</td>\n",
       "      <td>379.7885</td>\n",
       "    </tr>\n",
       "    <tr>\n",
       "      <th>2018</th>\n",
       "      <td>141.9873</td>\n",
       "      <td>220.023</td>\n",
       "      <td>307.5259</td>\n",
       "      <td>381.6755</td>\n",
       "    </tr>\n",
       "    <tr>\n",
       "      <th>2019</th>\n",
       "      <td>144.7933</td>\n",
       "      <td>212.3485</td>\n",
       "      <td>301.0084</td>\n",
       "      <td>373.3576</td>\n",
       "    </tr>\n",
       "    <tr>\n",
       "      <th>2020</th>\n",
       "      <td>133.0632</td>\n",
       "      <td>208.4472</td>\n",
       "      <td>302.1955</td>\n",
       "      <td>372.3659</td>\n",
       "    </tr>\n",
       "    <tr>\n",
       "      <th>2021</th>\n",
       "      <td>141.6062</td>\n",
       "      <td>218.8171</td>\n",
       "      <td>315.3814</td>\n",
       "      <td>386.6518</td>\n",
       "    </tr>\n",
       "  </tbody>\n",
       "</table>\n",
       "</div>"
      ],
      "text/plain": [
       "            1인        2인        3인        4인\n",
       "2017   137.313  222.3153  310.1323  379.7885\n",
       "2018  141.9873   220.023  307.5259  381.6755\n",
       "2019  144.7933  212.3485  301.0084  373.3576\n",
       "2020  133.0632  208.4472  302.1955  372.3659\n",
       "2021  141.6062  218.8171  315.3814  386.6518"
      ]
     },
     "execution_count": 19,
     "metadata": {},
     "output_type": "execute_result"
    }
   ],
   "source": [
    "# 데이터 확인\n",
    "\n",
    "t_data_1721"
   ]
  },
  {
   "cell_type": "code",
   "execution_count": 11,
   "id": "b04329e7",
   "metadata": {},
   "outputs": [],
   "source": [
    "# 가구 원 수에 따라 지출 금액을 나누어 줍시다.\n",
    "# 값을 나누는 녀석이기 때문에 실행시마다 값이 바뀌므로, 함수로 만들어버립니다.\n",
    "# 잘못해서 한 번 더 나눌 일이 없도록 연별 월지출 평균이 120 초과일 때만 실행되게 만듭니다.\n",
    "\n",
    "def divide(df) :\n",
    "    dataframe = df\n",
    "    for col , num in zip(dataframe.columns , range(1,5)) :\n",
    "        if dataframe[col].mean(axis=0) > 120 :\n",
    "            dataframe[col] = dataframe[col] / num\n",
    "    return dataframe"
   ]
  },
  {
   "cell_type": "code",
   "execution_count": 12,
   "id": "e495377a",
   "metadata": {},
   "outputs": [
    {
     "data": {
      "text/plain": [
       "139.75259999999997"
      ]
     },
     "execution_count": 12,
     "metadata": {},
     "output_type": "execute_result"
    }
   ],
   "source": [
    "t_data_1721['1인'].mean(axis=0)"
   ]
  },
  {
   "cell_type": "code",
   "execution_count": 13,
   "id": "d7579533",
   "metadata": {},
   "outputs": [
    {
     "data": {
      "text/html": [
       "<div>\n",
       "<style scoped>\n",
       "    .dataframe tbody tr th:only-of-type {\n",
       "        vertical-align: middle;\n",
       "    }\n",
       "\n",
       "    .dataframe tbody tr th {\n",
       "        vertical-align: top;\n",
       "    }\n",
       "\n",
       "    .dataframe thead th {\n",
       "        text-align: right;\n",
       "    }\n",
       "</style>\n",
       "<table border=\"1\" class=\"dataframe\">\n",
       "  <thead>\n",
       "    <tr style=\"text-align: right;\">\n",
       "      <th></th>\n",
       "      <th>1인</th>\n",
       "      <th>2인</th>\n",
       "      <th>3인</th>\n",
       "      <th>4인</th>\n",
       "    </tr>\n",
       "  </thead>\n",
       "  <tbody>\n",
       "    <tr>\n",
       "      <th>2017</th>\n",
       "      <td>137.313</td>\n",
       "      <td>111.15765</td>\n",
       "      <td>103.377433</td>\n",
       "      <td>94.947125</td>\n",
       "    </tr>\n",
       "    <tr>\n",
       "      <th>2018</th>\n",
       "      <td>141.9873</td>\n",
       "      <td>110.0115</td>\n",
       "      <td>102.508633</td>\n",
       "      <td>95.418875</td>\n",
       "    </tr>\n",
       "    <tr>\n",
       "      <th>2019</th>\n",
       "      <td>144.7933</td>\n",
       "      <td>106.17425</td>\n",
       "      <td>100.336133</td>\n",
       "      <td>93.3394</td>\n",
       "    </tr>\n",
       "    <tr>\n",
       "      <th>2020</th>\n",
       "      <td>133.0632</td>\n",
       "      <td>104.2236</td>\n",
       "      <td>100.731833</td>\n",
       "      <td>93.091475</td>\n",
       "    </tr>\n",
       "    <tr>\n",
       "      <th>2021</th>\n",
       "      <td>141.6062</td>\n",
       "      <td>109.40855</td>\n",
       "      <td>105.127133</td>\n",
       "      <td>96.66295</td>\n",
       "    </tr>\n",
       "  </tbody>\n",
       "</table>\n",
       "</div>"
      ],
      "text/plain": [
       "            1인         2인          3인         4인\n",
       "2017   137.313  111.15765  103.377433  94.947125\n",
       "2018  141.9873   110.0115  102.508633  95.418875\n",
       "2019  144.7933  106.17425  100.336133    93.3394\n",
       "2020  133.0632   104.2236  100.731833  93.091475\n",
       "2021  141.6062  109.40855  105.127133   96.66295"
      ]
     },
     "execution_count": 13,
     "metadata": {},
     "output_type": "execute_result"
    }
   ],
   "source": [
    "# 드디어 가구당 1인 지출 비용 전처리가 끝이 났습니다.\n",
    "\n",
    "the_cost_of_spending_per_person = divide(t_data_1721)\n",
    "the_cost_of_spending_per_person"
   ]
  },
  {
   "cell_type": "code",
   "execution_count": 14,
   "id": "76a111b3",
   "metadata": {},
   "outputs": [
    {
     "data": {
      "image/png": "[encoded data removed]",
      "text/plain": [
       "<Figure size 720x504 with 1 Axes>"
      ]
     },
     "metadata": {
      "needs_background": "light"
     },
     "output_type": "display_data"
    }
   ],
   "source": [
    "# 그래프를 반복해서 그려줍니다.\n",
    "# 앞서만든 연도별 1인 가구 소득/지출 그래프가 plot 기반으로 만들어졌기 때문에 plot으로 제작합니다.\n",
    "\n",
    "font_kor_fixed()\n",
    "\n",
    "colors = ['red' , '#33B452' , '#FBCE09' , '#4066B2']\n",
    "for i , num in zip(the_cost_of_spending_per_person.columns , range(5)) :\n",
    "    the_cost_of_spending_per_person[i].plot(figsize = (10 , 7) , color = colors[num])\n",
    "\n",
    "plt.ylim([0, 200])\n",
    "plt.title('연도별 1인 가구 월평균 소득 및 지출', fontsize=20)\n",
    "plt.xlabel('년도',fontsize=15)\n",
    "plt.ylabel('단위 (만 원)',fontsize=15)\n",
    "plt.legend()\n",
    "\n",
    "plt.savefig('project_04_num_of_household_01.png')"
   ]
  },
  {
   "cell_type": "markdown",
   "id": "e93864a4",
   "metadata": {},
   "source": [
    "### version_2"
   ]
  },
  {
   "cell_type": "code",
   "execution_count": 16,
   "id": "8f297df3",
   "metadata": {},
   "outputs": [
    {
     "data": {
      "image/png": "[encoded data removed]",
      "text/plain": [
       "<Figure size 720x504 with 1 Axes>"
      ]
     },
     "metadata": {
      "needs_background": "light"
     },
     "output_type": "display_data"
    }
   ],
   "source": [
    "# plt.scatter()는 점을 그려줍니다. c = color \n",
    "# zorder = 숫자가 클수록 더 바깥쪽에 그림이 그려집니다.\n",
    "\n",
    "\n",
    "font_kor_fixed()\n",
    "\n",
    "colors = ['red' , '#33B452' , '#FBCE09' , '#4066B2']\n",
    "for i , num in zip(the_cost_of_spending_per_person.columns , range(5)) :\n",
    "    the_cost_of_spending_per_person[i].plot(figsize = (10 , 7) , color = colors[num] ,\n",
    "                                            linewidth = 4 , zorder = num)\n",
    "    plt.scatter(the_cost_of_spending_per_person.index , the_cost_of_spending_per_person[i] ,\n",
    "                c = colors[num] , zorder = num+1)\n",
    "\n",
    "plt.ylim([50, 175])\n",
    "plt.title('연도별 가구 수에 따른 월평균 소비 지출', fontsize=20)\n",
    "plt.xlabel('년도',fontsize=15)\n",
    "plt.ylabel('단위 (만 원)',fontsize=15)\n",
    "plt.legend()\n",
    "\n",
    "plt.savefig('project_04_num_of_household_02.png')"
   ]
  },
  {
   "cell_type": "code",
   "execution_count": 23,
   "id": "b415e511",
   "metadata": {},
   "outputs": [
    {
     "data": {
      "image/png": "[encoded data removed]",
      "text/plain": [
       "<Figure size 720x504 with 1 Axes>"
      ]
     },
     "metadata": {
      "needs_background": "light"
     },
     "output_type": "display_data"
    }
   ],
   "source": [
    "# plt.scatter()는 점을 그려줍니다. c = color \n",
    "# zorder = 숫자가 클수록 더 바깥쪽에 그림이 그려집니다.\n",
    "\n",
    "\n",
    "font_kor_fixed()\n",
    "\n",
    "colors = ['red' , '#33B452' , '#FBCE09' , '#4066B2']\n",
    "for i , num in zip(t_data_1721.columns , range(5)) :\n",
    "    t_data_1721[i].plot(figsize = (10 , 7) , color = colors[num] ,\n",
    "                                            linewidth = 4 , zorder = num)\n",
    "    plt.scatter(t_data_1721.index , t_data_1721[i] ,\n",
    "                c = colors[num] , zorder = num+1)\n",
    "\n",
    "plt.ylim([100, 500])\n",
    "plt.title('연도별 가구 수에 따른 월평균 소비 지출', fontsize=20)\n",
    "plt.xlabel('년도',fontsize=15)\n",
    "plt.ylabel('단위 (만 원)',fontsize=15)\n",
    "plt.legend()\n",
    "\n",
    "plt.savefig('project_04_num_of_household_03.png')"
   ]
  }
 ],
 "metadata": {
  "kernelspec": {
   "display_name": "Python 3 (ipykernel)",
   "language": "python",
   "name": "python3"
  },
  "language_info": {
   "codemirror_mode": {
    "name": "ipython",
    "version": 3
   },
   "file_extension": ".py",
   "mimetype": "text/x-python",
   "name": "python",
   "nbconvert_exporter": "python",
   "pygments_lexer": "ipython3",
   "version": "3.9.12"
  }
 },
 "nbformat": 4,
 "nbformat_minor": 5
}
