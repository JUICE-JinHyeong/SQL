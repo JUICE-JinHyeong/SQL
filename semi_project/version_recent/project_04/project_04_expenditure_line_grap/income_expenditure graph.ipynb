{
 "cells": [
  {
   "cell_type": "markdown",
   "id": "b2b61282",
   "metadata": {},
   "source": [
    "# 데이터 가져오기"
   ]
  },
  {
   "cell_type": "code",
   "execution_count": 1,
   "id": "ea0a976b",
   "metadata": {},
   "outputs": [],
   "source": [
    "# 한글 깨짐 방지\n",
    "# 원리는 색상 폰트들에서 한글을 인식하는 폰트로 바꾸어주는 구조\n",
    "def font_kor_fixed() :\n",
    "    from matplotlib import font_manager, rc\n",
    "    import platform \n",
    "\n",
    "    if platform.system() == 'Windows': \n",
    "        path = 'c:/Windows/Fonts/malgun.ttf'\n",
    "        font_name = font_manager.FontProperties(fname=path).get_name()\n",
    "        rc('font', family=font_name)\n",
    "    elif platform.system() == 'Darwin':\n",
    "        rc('font', family='AppleGothic')\n",
    "    else: \n",
    "        print('Check your OS system')\n",
    "\n",
    "font_kor_fixed()"
   ]
  },
  {
   "cell_type": "code",
   "execution_count": 2,
   "id": "6a8d56e5",
   "metadata": {},
   "outputs": [],
   "source": [
    "# %matplotlib inline 의 역할은 notebook을 실행한 브라우저에서 바로 그림을 볼 수 있게 해주는 것\n",
    "# 출처: https://korbillgates.tistory.com/85 [생물정보학자의 블로그:티스토리]\n",
    "\n",
    "import pandas as pd\n",
    "%matplotlib inline \n",
    "import matplotlib.pyplot as plt"
   ]
  },
  {
   "cell_type": "markdown",
   "id": "67375f68",
   "metadata": {},
   "source": [
    "### 소득, 소비 지출 그래프"
   ]
  },
  {
   "cell_type": "code",
   "execution_count": 3,
   "id": "8e5ac534",
   "metadata": {
    "scrolled": false
   },
   "outputs": [
    {
     "data": {
      "text/html": [
       "<div>\n",
       "<style scoped>\n",
       "    .dataframe tbody tr th:only-of-type {\n",
       "        vertical-align: middle;\n",
       "    }\n",
       "\n",
       "    .dataframe tbody tr th {\n",
       "        vertical-align: top;\n",
       "    }\n",
       "\n",
       "    .dataframe thead th {\n",
       "        text-align: right;\n",
       "    }\n",
       "</style>\n",
       "<table border=\"1\" class=\"dataframe\">\n",
       "  <thead>\n",
       "    <tr style=\"text-align: right;\">\n",
       "      <th></th>\n",
       "      <th>income</th>\n",
       "      <th>expenditure</th>\n",
       "    </tr>\n",
       "    <tr>\n",
       "      <th>year</th>\n",
       "      <th></th>\n",
       "      <th></th>\n",
       "    </tr>\n",
       "  </thead>\n",
       "  <tbody>\n",
       "    <tr>\n",
       "      <th>2017</th>\n",
       "      <td>167.206700</td>\n",
       "      <td>137.313000</td>\n",
       "    </tr>\n",
       "    <tr>\n",
       "      <th>2018</th>\n",
       "      <td>170.237400</td>\n",
       "      <td>141.987300</td>\n",
       "    </tr>\n",
       "    <tr>\n",
       "      <th>2019</th>\n",
       "      <td>235.203800</td>\n",
       "      <td>143.624625</td>\n",
       "    </tr>\n",
       "    <tr>\n",
       "      <th>2020</th>\n",
       "      <td>233.551025</td>\n",
       "      <td>133.123800</td>\n",
       "    </tr>\n",
       "    <tr>\n",
       "      <th>2021</th>\n",
       "      <td>253.596375</td>\n",
       "      <td>141.174900</td>\n",
       "    </tr>\n",
       "  </tbody>\n",
       "</table>\n",
       "</div>"
      ],
      "text/plain": [
       "          income  expenditure\n",
       "year                         \n",
       "2017  167.206700   137.313000\n",
       "2018  170.237400   141.987300\n",
       "2019  235.203800   143.624625\n",
       "2020  233.551025   133.123800\n",
       "2021  253.596375   141.174900"
      ]
     },
     "execution_count": 3,
     "metadata": {},
     "output_type": "execute_result"
    }
   ],
   "source": [
    "in_ex_01 = pd.read_excel('income_expenditure.xlsx', \n",
    "                         usecols = 'A:C', index_col = 'year')\n",
    "#엑셀에서 A부터 C열까지만, 인덱스를 year로 불러오기\n",
    "in_ex_01"
   ]
  },
  {
   "cell_type": "code",
   "execution_count": 5,
   "id": "b2bbf3bb",
   "metadata": {
    "scrolled": false
   },
   "outputs": [
    {
     "data": {
      "image/png": "[encoded data removed]",
      "text/plain": [
       "<Figure size 720x504 with 1 Axes>"
      ]
     },
     "metadata": {
      "needs_background": "light"
     },
     "output_type": "display_data"
    }
   ],
   "source": [
    "#년도에 따른 소득, 소비 변화 그래프\n",
    "#x축, y축, 제목, 폰트크기 조절\n",
    "\n",
    "\n",
    "ax1 = in_ex_01['income'].plot(figsize = (10 , 7) , color = 'blue' \n",
    "                              , legend = (1,1) , label = '소득')\n",
    "ax2 = in_ex_01['expenditure'].plot(figsize = (10 , 7) , color = 'red' \n",
    "                                   , legend = (1,1) , label = '지출')\n",
    "\n",
    "plt.title('연도별 1인 가구 월평균 소득 및 지출', fontsize=20)\n",
    "plt.xlabel('년도',fontsize=15)\n",
    "plt.ylabel('단위 (만 원)',fontsize=15)\n",
    "\n",
    "#x축 눈금 조절\n",
    "plt.xticks([2017,2018,2019,2020,2021])\n",
    "\n",
    "#y축 조절\n",
    "#plt.ylim([ymin,ymax])\n",
    "plt.ylim([100, 300])\n",
    "\n",
    "plt.savefig('project_04_ppt_07.png')"
   ]
  },
  {
   "cell_type": "code",
   "execution_count": null,
   "id": "1f7dd35e",
   "metadata": {},
   "outputs": [],
   "source": []
  }
 ],
 "metadata": {
  "kernelspec": {
   "display_name": "Python 3 (ipykernel)",
   "language": "python",
   "name": "python3"
  },
  "language_info": {
   "codemirror_mode": {
    "name": "ipython",
    "version": 3
   },
   "file_extension": ".py",
   "mimetype": "text/x-python",
   "name": "python",
   "nbconvert_exporter": "python",
   "pygments_lexer": "ipython3",
   "version": "3.9.12"
  }
 },
 "nbformat": 4,
 "nbformat_minor": 5
}
