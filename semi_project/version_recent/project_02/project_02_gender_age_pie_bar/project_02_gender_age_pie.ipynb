{
 "cells": [
  {
   "cell_type": "code",
   "execution_count": 1,
   "id": "9c2ecc67",
   "metadata": {},
   "outputs": [],
   "source": [
    "import pandas as pd\n",
    "\n",
    "df_gen_age = pd.read_excel('gender_age_combination.xlsx')"
   ]
  },
  {
   "cell_type": "code",
   "execution_count": 2,
   "id": "71c36e7b",
   "metadata": {},
   "outputs": [
    {
     "data": {
      "text/html": [
       "<div>\n",
       "<style scoped>\n",
       "    .dataframe tbody tr th:only-of-type {\n",
       "        vertical-align: middle;\n",
       "    }\n",
       "\n",
       "    .dataframe tbody tr th {\n",
       "        vertical-align: top;\n",
       "    }\n",
       "\n",
       "    .dataframe thead th {\n",
       "        text-align: right;\n",
       "    }\n",
       "</style>\n",
       "<table border=\"1\" class=\"dataframe\">\n",
       "  <thead>\n",
       "    <tr style=\"text-align: right;\">\n",
       "      <th></th>\n",
       "      <th>년도/성별</th>\n",
       "      <th>19세 이하</th>\n",
       "      <th>20 ~ 34세</th>\n",
       "      <th>35 ~ 49세</th>\n",
       "      <th>50 ~ 64세</th>\n",
       "      <th>65세 이상</th>\n",
       "    </tr>\n",
       "  </thead>\n",
       "  <tbody>\n",
       "    <tr>\n",
       "      <th>0</th>\n",
       "      <td>2017년 전체</td>\n",
       "      <td>61058</td>\n",
       "      <td>1478618</td>\n",
       "      <td>1314444</td>\n",
       "      <td>1393595</td>\n",
       "      <td>1816831</td>\n",
       "    </tr>\n",
       "    <tr>\n",
       "      <th>1</th>\n",
       "      <td>2021년 전체</td>\n",
       "      <td>54052</td>\n",
       "      <td>2068435</td>\n",
       "      <td>1471387</td>\n",
       "      <td>1747480</td>\n",
       "      <td>2471000</td>\n",
       "    </tr>\n",
       "    <tr>\n",
       "      <th>2</th>\n",
       "      <td>2017년 남자</td>\n",
       "      <td>29108</td>\n",
       "      <td>848163</td>\n",
       "      <td>835535</td>\n",
       "      <td>722169</td>\n",
       "      <td>555849</td>\n",
       "    </tr>\n",
       "    <tr>\n",
       "      <th>3</th>\n",
       "      <td>2021년 남자</td>\n",
       "      <td>25015</td>\n",
       "      <td>1145447</td>\n",
       "      <td>939487</td>\n",
       "      <td>943568</td>\n",
       "      <td>836831</td>\n",
       "    </tr>\n",
       "    <tr>\n",
       "      <th>4</th>\n",
       "      <td>2017년 여자</td>\n",
       "      <td>31950</td>\n",
       "      <td>630455</td>\n",
       "      <td>478909</td>\n",
       "      <td>671426</td>\n",
       "      <td>1260982</td>\n",
       "    </tr>\n",
       "    <tr>\n",
       "      <th>5</th>\n",
       "      <td>2021년 여자</td>\n",
       "      <td>29037</td>\n",
       "      <td>922988</td>\n",
       "      <td>531900</td>\n",
       "      <td>803912</td>\n",
       "      <td>1634169</td>\n",
       "    </tr>\n",
       "  </tbody>\n",
       "</table>\n",
       "</div>"
      ],
      "text/plain": [
       "      년도/성별  19세 이하  20 ~ 34세  35 ~ 49세  50 ~ 64세   65세 이상\n",
       "0  2017년 전체   61058   1478618   1314444   1393595  1816831\n",
       "1  2021년 전체   54052   2068435   1471387   1747480  2471000\n",
       "2  2017년 남자   29108    848163    835535    722169   555849\n",
       "3  2021년 남자   25015   1145447    939487    943568   836831\n",
       "4  2017년 여자   31950    630455    478909    671426  1260982\n",
       "5  2021년 여자   29037    922988    531900    803912  1634169"
      ]
     },
     "execution_count": 2,
     "metadata": {},
     "output_type": "execute_result"
    }
   ],
   "source": [
    "df_gen_age"
   ]
  },
  {
   "cell_type": "code",
   "execution_count": 3,
   "id": "827af614",
   "metadata": {},
   "outputs": [],
   "source": [
    "# 한글 깨짐 방지\n",
    "# 원리는 색상 폰트들에서 한글을 인식하는 폰트로 바꾸어주는 구조\n",
    "def font_kor_fixed() :\n",
    "    from matplotlib import font_manager, rc\n",
    "    import platform \n",
    "\n",
    "    if platform.system() == 'Windows': \n",
    "        path = 'c:/Windows/Fonts/malgun.ttf'\n",
    "        font_name = font_manager.FontProperties(fname=path).get_name()\n",
    "        rc('font', family=font_name)\n",
    "    elif platform.system() == 'Darwin':\n",
    "        rc('font', family='AppleGothic')\n",
    "    else: \n",
    "        print('Check your OS system')\n",
    "\n",
    "font_kor_fixed()"
   ]
  },
  {
   "cell_type": "markdown",
   "id": "d24ed1ea",
   "metadata": {},
   "source": [
    "### 전처리 과정"
   ]
  },
  {
   "cell_type": "code",
   "execution_count": 4,
   "id": "53ff1520",
   "metadata": {},
   "outputs": [
    {
     "data": {
      "text/plain": [
       "0    6064546\n",
       "1    7812354\n",
       "2    2990824\n",
       "3    3890348\n",
       "4    3073722\n",
       "5    3922006\n",
       "dtype: int64"
      ]
     },
     "execution_count": 4,
     "metadata": {},
     "output_type": "execute_result"
    }
   ],
   "source": [
    "# sum()으로 행 총합 구하기\n",
    "df_gen_age_02 = df_gen_age\n",
    "series_sum = df_gen_age_02.drop(['년도/성별'] , axis = 1).sum(axis=1)\n",
    "series_sum"
   ]
  },
  {
   "cell_type": "code",
   "execution_count": 5,
   "id": "8a0e8d32",
   "metadata": {},
   "outputs": [
    {
     "data": {
      "text/plain": [
       "[2990824, 3073722]"
      ]
     },
     "execution_count": 5,
     "metadata": {},
     "output_type": "execute_result"
    }
   ],
   "source": [
    "# 2017년도 남[2]녀[4] 1인 가구 수 합계\n",
    "y2017_sum_wm = series_sum[[2 , 4]]\n",
    "y2017_sum_wm = y2017_sum_wm.reset_index(drop=True)\n",
    "y2017_sum_wm = y2017_sum_wm.to_list()\n",
    "\n",
    "y2017_sum_wm"
   ]
  },
  {
   "cell_type": "code",
   "execution_count": 6,
   "id": "00d7c231",
   "metadata": {},
   "outputs": [
    {
     "data": {
      "text/plain": [
       "[3890348, 3922006]"
      ]
     },
     "execution_count": 6,
     "metadata": {},
     "output_type": "execute_result"
    }
   ],
   "source": [
    "# 2021년도 남[3]녀[5] 1인 가구 수 합계\n",
    "y2021_sum_wm = series_sum[[3 , 5]]\n",
    "y2021_sum_wm = y2021_sum_wm.reset_index(drop=True)\n",
    "y2021_sum_wm = y2021_sum_wm.to_list()\n",
    "\n",
    "y2021_sum_wm"
   ]
  },
  {
   "cell_type": "code",
   "execution_count": 7,
   "id": "21a5e135",
   "metadata": {},
   "outputs": [
    {
     "data": {
      "text/plain": [
       "['19세 이하', '20 ~ 34세', '35 ~ 49세', '50 ~ 64세', '65세 이상']"
      ]
     },
     "execution_count": 7,
     "metadata": {},
     "output_type": "execute_result"
    }
   ],
   "source": [
    "# 연령 데이터 리스트\n",
    "legend_age = df_gen_age.columns.to_list()[1:]\n",
    "legend_age"
   ]
  },
  {
   "cell_type": "code",
   "execution_count": 8,
   "id": "2a58bf1b",
   "metadata": {},
   "outputs": [],
   "source": [
    "# 년도 성별 1인 가구 수 데이터\n",
    "y2017_age_m = list(df_gen_age[df_gen_age.columns.to_list()[1:]].loc[2])\n",
    "y2021_age_m = list(df_gen_age[df_gen_age.columns.to_list()[1:]].loc[3])\n",
    "y2017_age_w = list(df_gen_age[df_gen_age.columns.to_list()[1:]].loc[4])\n",
    "y2021_age_w = list(df_gen_age[df_gen_age.columns.to_list()[1:]].loc[5])"
   ]
  },
  {
   "cell_type": "markdown",
   "id": "82ce3e1f",
   "metadata": {},
   "source": [
    "##### 년도. 성별 데이터를 모두 리스트로 저장하였습니다. \n",
    "##### 이제 해당 데이터에 각각의 총합을 나누어 비율을 구해야합니다."
   ]
  },
  {
   "cell_type": "code",
   "execution_count": 9,
   "id": "7fda9651",
   "metadata": {},
   "outputs": [],
   "source": [
    "# 년도 ㅡ 성별 퍼센테이지 구하기는 함수 생성\n",
    "# 해당 함수는 0.단위로 결과가 나옵니다.\n",
    "def To_age_percent (series , year , gen) :\n",
    "    lst_series = []\n",
    "    if year == 2017 :\n",
    "        for i in range(len(series)) :\n",
    "            if gen == 'm' :\n",
    "                lst_series.append(round(series[i] / y2017_sum_wm[0] , 2))\n",
    "            elif gen == 'w' :\n",
    "                lst_series.append(round(series[i] / y2017_sum_wm[1] , 2))\n",
    "    elif year == 2021 :\n",
    "        for i in range(len(series)) :\n",
    "            if gen == 'm' :\n",
    "                lst_series.append(round(series[i] / y2021_sum_wm[0] , 2))\n",
    "            elif gen == 'w' :\n",
    "                lst_series.append(round(series[i] / y2021_sum_wm[1] , 2))\n",
    "    return lst_series"
   ]
  },
  {
   "cell_type": "code",
   "execution_count": 10,
   "id": "da3d407c",
   "metadata": {},
   "outputs": [],
   "source": [
    "# 년도, 성별 퍼센테이지\n",
    "y2017_age_m_percent = To_age_percent(y2017_age_m , 2017 , 'm')\n",
    "y2021_age_m_percent = To_age_percent(y2021_age_m , 2021 , 'm')\n",
    "y2017_age_w_percent = To_age_percent(y2017_age_w , 2017 , 'w')\n",
    "y2021_age_w_percent = To_age_percent(y2021_age_w , 2021 , 'w')"
   ]
  },
  {
   "cell_type": "code",
   "execution_count": 11,
   "id": "e89854c8",
   "metadata": {
    "scrolled": false
   },
   "outputs": [
    {
     "data": {
      "text/plain": [
       "[0.01, 0.28, 0.28, 0.24, 0.19]"
      ]
     },
     "execution_count": 11,
     "metadata": {},
     "output_type": "execute_result"
    }
   ],
   "source": [
    "# 실행결과\n",
    "y2017_age_m_percent"
   ]
  },
  {
   "cell_type": "code",
   "execution_count": 12,
   "id": "15b2af71",
   "metadata": {},
   "outputs": [
    {
     "data": {
      "text/plain": [
       "[0.01, 0.21, 0.16, 0.22, 0.41]"
      ]
     },
     "execution_count": 12,
     "metadata": {},
     "output_type": "execute_result"
    }
   ],
   "source": [
    "y2017_age_w_percent"
   ]
  },
  {
   "cell_type": "code",
   "execution_count": 13,
   "id": "b94f965e",
   "metadata": {},
   "outputs": [
    {
     "data": {
      "text/plain": [
       "[0.01, 0.29, 0.24, 0.24, 0.22]"
      ]
     },
     "execution_count": 13,
     "metadata": {},
     "output_type": "execute_result"
    }
   ],
   "source": [
    "y2021_age_m_percent"
   ]
  },
  {
   "cell_type": "code",
   "execution_count": 14,
   "id": "fefdc9bb",
   "metadata": {},
   "outputs": [
    {
     "data": {
      "text/plain": [
       "[0.01, 0.24, 0.14, 0.2, 0.42]"
      ]
     },
     "execution_count": 14,
     "metadata": {},
     "output_type": "execute_result"
    }
   ],
   "source": [
    "y2021_age_w_percent"
   ]
  },
  {
   "cell_type": "markdown",
   "id": "ccad1aec",
   "metadata": {},
   "source": [
    "### 도표 만들기 시작"
   ]
  },
  {
   "cell_type": "markdown",
   "id": "cca67bfc",
   "metadata": {},
   "source": [
    "### 2017년 성별 및 남녀 연령별 가구 비율"
   ]
  },
  {
   "cell_type": "code",
   "execution_count": 15,
   "id": "fd65eed2",
   "metadata": {},
   "outputs": [
    {
     "data": {
      "image/png": "[encoded data removed]",
      "text/plain": [
       "<Figure size 1296x729 with 3 Axes>"
      ]
     },
     "metadata": {
      "needs_background": "light"
     },
     "output_type": "display_data"
    }
   ],
   "source": [
    "import matplotlib.pyplot as plt\n",
    "from matplotlib.patches import ConnectionPatch\n",
    "import numpy as np\n",
    "\n",
    "# make figure and assign axis objects\n",
    "fig = plt.figure(figsize=(9*2, 5.0625*2))    # 전체 그래프 사이즈 \n",
    "ax1 = fig.add_subplot(132)                   # 1행 3열의 2번째 그래프 라는 뜻\n",
    "ax2 = fig.add_subplot(133)\n",
    "ax3 = fig.add_subplot(131)\n",
    "\n",
    "fig.subplots_adjust(wspace=0)                # 서브플롯들 사이 간격\n",
    "\n",
    "# pie chart parameters\n",
    "ratios = y2017_sum_wm         # 2017년 남녀 1인 가구 수 데이터를 넣어줌. 이 때, pie 내부에서 알아서 % 변환\n",
    "labels = ['남', '여']\n",
    "#explode = [0.1, 0]\n",
    "# rotate so that first wedge is split by the x-axis\n",
    "angle = -90\n",
    "ax1.pie(ratios, autopct='%1.1f%%', startangle=angle,\n",
    "        labels=labels , colors = ['#2b81d0' , '#ff3706'] , textprops={'fontsize': 18})\n",
    "\n",
    "# subplot에서 title 사용하기위해서는 suptitle을 사용해야 하는 듯(추정)\n",
    "plt.suptitle(t = '2017년 성별, 연령별 1인 가구 비율' , fontsize = 25)\n",
    "\n",
    "# bar chart parameters\n",
    "# man\n",
    "# ratios : 2021년 남자 1인 가구 연령별 비율 데이터\n",
    "\n",
    "xpos = 0\n",
    "bottom = 0\n",
    "ratios = y2017_age_m_percent\n",
    "width = .2\n",
    "colors = ['#d2e4f5', '#b5d4f0', '#99c3ea' ,'#7db3e4', '#61a2de']\n",
    "\n",
    "# for 문으로 막대 그래프를 여러개 그려 중첩 시킵니다.\n",
    "# xpos는 for 문 내부에서 생성되는 막대 그래프 모두 같아야 합니다. - 중첩을 시키기 위해서입니다.\n",
    "# height는 막대 그래프의 길이 : 데이터 값 입니다.\n",
    "# width는 막대 그래프의 두께입니다.\n",
    "# bottom은 그래프를 중첩시켜줍니다. : y축을 어디서부터 그릴지 y축 값을 잡아준다고 생각하면 됩니다.\n",
    "# color 색상\n",
    "\n",
    "# ax2.text ax2 그래프에 text를 넣어줍니다. 비슷한 녀석으로 textbox()가 존재합니다.\n",
    "# ypos text(수치 표시)의 기입 위치를 알려줍니다.\n",
    "# ypos = bottom + ax2.patches[j].get_height() / 2 의 뜻은 \n",
    "# bottom : 막대그래프가 그려질 y 위치 + (ax2.patches[j] 'j'번째로 그려진 막대그래프의 .get_height() : 길이) / 2 입니다.\n",
    "# 즉 , 스택 형식으로  그려지는 각 막대그래프의 y축 중심 좌표를 구한 것입니다.\n",
    "\n",
    "\n",
    "for j in range(len(ratios)):\n",
    "    height = ratios[j]                                             # data 2021년 연령별 남자 1인 가구 비율 값\n",
    "    ax2.bar(xpos, height, width, bottom=bottom, color=colors[j])\n",
    "    ypos = bottom + ax2.patches[j].get_height() / 2\n",
    "    bottom += height\n",
    "    ax2.text(xpos, ypos, \"%d%%\" % (ax2.patches[j].get_height() * 100),\n",
    "             ha='center' , fontsize = 15)\n",
    "\n",
    "# set_title 해당 막대그래프에 기입할 타이틀입니다.\n",
    "# legend() - legend_age : 범례에 출력할 칼럼입니다. bbox_to_anchor : 세부적인 loc입니다. frameon = False : 배경 투명도입니다. T/F\n",
    "\n",
    "ax2.set_title('연령대별' , fontsize = 20)\n",
    "ax2.legend(list(reversed(legend_age)) , fontsize = 15 , loc = (0 , 0) , bbox_to_anchor=(0.7, 0.45, 0, 0) , frameon = False)\n",
    "\n",
    "# axis('off') : 그래프의 axis를 삭제합니다. axis란 그래프에 그려지는 눈금, x,y축 등을 말합니다.\n",
    "# 부분별로 삭제하고 싶을 경우 plt.gca().spines['left'].set_visible(False) 를 사용하면 되고\n",
    "# 'left' 'right' 'top' 'bottom' 등이 사용가능하다고 합니다.\n",
    "# https://frhyme.github.io/python-lib/plt_axis_off/\n",
    "\n",
    "# ax2.set_xlim x축의 범위를 설정합니다.(축 제한)\n",
    "# subplot에서는 xlim 사용시 오류가 납니다.(이유 : ?)\n",
    "\n",
    "ax2.axis('off')\n",
    "ax2.set_xlim(-2.5 * width, 2.5 * width)\n",
    "\n",
    "# woman\n",
    "\n",
    "xpos = 0\n",
    "bottom = 0\n",
    "ratios = y2017_age_w_percent\n",
    "width = .2\n",
    "colors = ['#ffdbd2', '#ffc0b0', '#ffa48e' ,'#ff896c', '#ff6e4a']\n",
    "\n",
    "for j in range(len(ratios)):\n",
    "    height = ratios[j]\n",
    "    ax3.bar(xpos, height, width, bottom=bottom, color=colors[j])\n",
    "    ypos = bottom + ax3.patches[j].get_height() / 2\n",
    "    bottom += height\n",
    "    ax3.text(xpos, ypos, \"%d%%\" % (ax3.patches[j].get_height() * 100),\n",
    "             ha='center' , fontsize = 15)\n",
    "\n",
    "ax3.set_title('연령대별' , fontsize = 20)\n",
    "# list(reversed(list))  list의 순서를 뒤집고 list에 값을 넣습니다.\n",
    "ax3.legend(legend_age , fontsize = 15 , loc = (0 , 0) , bbox_to_anchor=(-0.1, height, 0, 0) , frameon = False)\n",
    "ax3.axis('off')\n",
    "ax3.set_xlim(- 2.5 * width, 2.5 * width)\n",
    "\n",
    "#plt.savefig('gender_age_pie_bar_grap_2017.png')\n",
    "plt.show()"
   ]
  },
  {
   "cell_type": "markdown",
   "id": "4c3a0f9a",
   "metadata": {},
   "source": [
    "### 2021년 성별 및 남녀 연령별 가구 비율"
   ]
  },
  {
   "cell_type": "code",
   "execution_count": 16,
   "id": "78e58419",
   "metadata": {},
   "outputs": [
    {
     "data": {
      "image/png": "[encoded data removed]",
      "text/plain": [
       "<Figure size 1296x729 with 3 Axes>"
      ]
     },
     "metadata": {
      "needs_background": "light"
     },
     "output_type": "display_data"
    }
   ],
   "source": [
    "import matplotlib.pyplot as plt\n",
    "from matplotlib.patches import ConnectionPatch\n",
    "import numpy as np\n",
    "\n",
    "# make figure and assign axis objects\n",
    "fig = plt.figure(figsize=(9*2, 5.0625*2))\n",
    "ax1 = fig.add_subplot(132) # 1행 3열의 2번째 그래프 라는 뜻\n",
    "ax2 = fig.add_subplot(133)\n",
    "ax3 = fig.add_subplot(131)\n",
    "\n",
    "fig.subplots_adjust(wspace=0)\n",
    "\n",
    "# pie chart parameters\n",
    "ratios = y2021_sum_wm\n",
    "labels = ['남', '여']\n",
    "#explode = [0.1, 0]\n",
    "# rotate so that first wedge is split by the x-axis\n",
    "angle = -90\n",
    "ax1.pie(ratios, autopct='%1.1f%%', startangle=angle,\n",
    "        labels=labels , colors = ['#2b81d0' , '#ff3706'] , textprops={'fontsize': 18})\n",
    "\n",
    "plt.suptitle(t = '2021년 성별, 연령별 1인 가구 비율' , fontsize = 25)\n",
    "\n",
    "# bar chart parameters\n",
    "# man\n",
    "\n",
    "xpos = 0\n",
    "bottom = 0\n",
    "ratios = y2021_age_m_percent\n",
    "width = .2\n",
    "colors = ['#d2e4f5', '#b5d4f0', '#99c3ea' ,'#7db3e4', '#61a2de']\n",
    "\n",
    "for j in range(len(ratios)):\n",
    "    height = ratios[j]                                             # data 2021년 연령별 남자 1인 가구 비율 값\n",
    "    ax2.bar(xpos, height, width, bottom=bottom, color=colors[j])\n",
    "    ypos = bottom + ax2.patches[j].get_height() / 2\n",
    "    bottom += height\n",
    "    ax2.text(xpos, ypos, \"%d%%\" % (ax2.patches[j].get_height() * 100),\n",
    "             ha='center' , fontsize = 15)\n",
    "\n",
    "ax2.set_title('연령대별' , fontsize = 20)\n",
    "ax2.legend(legend_age , fontsize = 15 , loc = (0 , 0) , bbox_to_anchor=(0.7, 0.45, 0, 0) , frameon = False)\n",
    "ax2.axis('off')\n",
    "ax2.set_xlim(- 2.5 * width, 2.5 * width)\n",
    "\n",
    "# woman\n",
    "\n",
    "xpos = 0\n",
    "bottom = 0\n",
    "ratios = y2021_age_w_percent\n",
    "width = .2\n",
    "colors = ['#ffdbd2', '#ffc0b0', '#ffa48e' ,'#ff896c', '#ff6e4a']\n",
    "\n",
    "for j in range(len(ratios)):\n",
    "    height = ratios[j]\n",
    "    ax3.bar(xpos, height, width, bottom=bottom, color=colors[j])\n",
    "    ypos = bottom + ax3.patches[j].get_height() / 2\n",
    "    bottom += height\n",
    "    ax3.text(xpos, ypos, \"%d%%\" % (ax3.patches[j].get_height() * 100),\n",
    "             ha='center' , fontsize = 15)\n",
    "\n",
    "ax3.set_title('연령대별' , fontsize = 20)\n",
    "ax3.legend(legend_age , fontsize = 15 , loc = (0 , 0) , bbox_to_anchor=(-0.1, height, 0, 0) , frameon = False)\n",
    "ax3.axis('off')\n",
    "ax3.set_xlim(- 2.5 * width, 2.5 * width)\n",
    "\n",
    "plt.savefig('project_02_ppt_03.png')\n",
    "plt.show()"
   ]
  },
  {
   "cell_type": "code",
   "execution_count": null,
   "id": "035bda73",
   "metadata": {},
   "outputs": [],
   "source": []
  }
 ],
 "metadata": {
  "kernelspec": {
   "display_name": "Python 3 (ipykernel)",
   "language": "python",
   "name": "python3"
  },
  "language_info": {
   "codemirror_mode": {
    "name": "ipython",
    "version": 3
   },
   "file_extension": ".py",
   "mimetype": "text/x-python",
   "name": "python",
   "nbconvert_exporter": "python",
   "pygments_lexer": "ipython3",
   "version": "3.9.13"
  }
 },
 "nbformat": 4,
 "nbformat_minor": 5
}
