{
 "cells": [
  {
   "cell_type": "code",
   "execution_count": 1,
   "id": "f22b7e7d",
   "metadata": {},
   "outputs": [],
   "source": [
    "import pandas as pd\n",
    "import matplotlib.pyplot as plt\n",
    "import numpy as np"
   ]
  },
  {
   "cell_type": "code",
   "execution_count": 2,
   "id": "920482eb",
   "metadata": {},
   "outputs": [],
   "source": [
    "# 한글 깨짐 방지\n",
    "# 원리는 색상 폰트들에서 한글을 인식하는 폰트로 바꾸어주는 구조\n",
    "def font_kor_fixed() :\n",
    "    from matplotlib import font_manager, rc\n",
    "    import platform \n",
    "\n",
    "    if platform.system() == 'Windows': \n",
    "        path = 'c:/Windows/Fonts/malgun.ttf'\n",
    "        font_name = font_manager.FontProperties(fname=path).get_name()\n",
    "        rc('font', family=font_name)\n",
    "    elif platform.system() == 'Darwin':\n",
    "        rc('font', family='AppleGothic')\n",
    "    else: \n",
    "        print('Check your OS system')\n",
    "\n",
    "font_kor_fixed()"
   ]
  },
  {
   "cell_type": "code",
   "execution_count": 3,
   "id": "bc84fcaa",
   "metadata": {},
   "outputs": [
    {
     "name": "stdout",
     "output_type": "stream",
     "text": [
      "<class 'pandas.core.frame.DataFrame'>\n",
      "RangeIndex: 18 entries, 0 to 17\n",
      "Data columns (total 7 columns):\n",
      " #   Column      Non-Null Count  Dtype \n",
      "---  ------      --------------  ----- \n",
      " 0   Unnamed: 0  18 non-null     int64 \n",
      " 1   지역          18 non-null     object\n",
      " 2   2017        18 non-null     int64 \n",
      " 3   2018        18 non-null     int64 \n",
      " 4   2019        18 non-null     int64 \n",
      " 5   2020        18 non-null     int64 \n",
      " 6   2021        18 non-null     int64 \n",
      "dtypes: int64(6), object(1)\n",
      "memory usage: 1.1+ KB\n"
     ]
    },
    {
     "data": {
      "text/html": [
       "<div>\n",
       "<style scoped>\n",
       "    .dataframe tbody tr th:only-of-type {\n",
       "        vertical-align: middle;\n",
       "    }\n",
       "\n",
       "    .dataframe tbody tr th {\n",
       "        vertical-align: top;\n",
       "    }\n",
       "\n",
       "    .dataframe thead th {\n",
       "        text-align: right;\n",
       "    }\n",
       "</style>\n",
       "<table border=\"1\" class=\"dataframe\">\n",
       "  <thead>\n",
       "    <tr style=\"text-align: right;\">\n",
       "      <th></th>\n",
       "      <th>district</th>\n",
       "      <th>2017</th>\n",
       "      <th>2021</th>\n",
       "    </tr>\n",
       "  </thead>\n",
       "  <tbody>\n",
       "    <tr>\n",
       "      <th>1</th>\n",
       "      <td>서울특별시</td>\n",
       "      <td>1180540</td>\n",
       "      <td>1489893</td>\n",
       "    </tr>\n",
       "    <tr>\n",
       "      <th>2</th>\n",
       "      <td>부산광역시</td>\n",
       "      <td>388899</td>\n",
       "      <td>487362</td>\n",
       "    </tr>\n",
       "    <tr>\n",
       "      <th>3</th>\n",
       "      <td>대구광역시</td>\n",
       "      <td>259525</td>\n",
       "      <td>326866</td>\n",
       "    </tr>\n",
       "    <tr>\n",
       "      <th>4</th>\n",
       "      <td>인천광역시</td>\n",
       "      <td>266434</td>\n",
       "      <td>355657</td>\n",
       "    </tr>\n",
       "    <tr>\n",
       "      <th>5</th>\n",
       "      <td>광주광역시</td>\n",
       "      <td>171424</td>\n",
       "      <td>212385</td>\n",
       "    </tr>\n",
       "    <tr>\n",
       "      <th>6</th>\n",
       "      <td>대전광역시</td>\n",
       "      <td>188136</td>\n",
       "      <td>240932</td>\n",
       "    </tr>\n",
       "    <tr>\n",
       "      <th>7</th>\n",
       "      <td>울산광역시</td>\n",
       "      <td>107497</td>\n",
       "      <td>133061</td>\n",
       "    </tr>\n",
       "    <tr>\n",
       "      <th>8</th>\n",
       "      <td>세종특별자치시</td>\n",
       "      <td>31472</td>\n",
       "      <td>45706</td>\n",
       "    </tr>\n",
       "    <tr>\n",
       "      <th>9</th>\n",
       "      <td>경기도</td>\n",
       "      <td>1124541</td>\n",
       "      <td>1543100</td>\n",
       "    </tr>\n",
       "    <tr>\n",
       "      <th>10</th>\n",
       "      <td>강원도</td>\n",
       "      <td>199645</td>\n",
       "      <td>245012</td>\n",
       "    </tr>\n",
       "    <tr>\n",
       "      <th>11</th>\n",
       "      <td>충청북도</td>\n",
       "      <td>195186</td>\n",
       "      <td>252251</td>\n",
       "    </tr>\n",
       "    <tr>\n",
       "      <th>12</th>\n",
       "      <td>충청남도</td>\n",
       "      <td>259727</td>\n",
       "      <td>327432</td>\n",
       "    </tr>\n",
       "    <tr>\n",
       "      <th>13</th>\n",
       "      <td>전라북도</td>\n",
       "      <td>227600</td>\n",
       "      <td>276153</td>\n",
       "    </tr>\n",
       "    <tr>\n",
       "      <th>14</th>\n",
       "      <td>전라남도</td>\n",
       "      <td>232022</td>\n",
       "      <td>274108</td>\n",
       "    </tr>\n",
       "    <tr>\n",
       "      <th>15</th>\n",
       "      <td>경상북도</td>\n",
       "      <td>346998</td>\n",
       "      <td>416697</td>\n",
       "    </tr>\n",
       "    <tr>\n",
       "      <th>16</th>\n",
       "      <td>경상남도</td>\n",
       "      <td>370293</td>\n",
       "      <td>450490</td>\n",
       "    </tr>\n",
       "    <tr>\n",
       "      <th>17</th>\n",
       "      <td>제주특별자치도</td>\n",
       "      <td>68738</td>\n",
       "      <td>88683</td>\n",
       "    </tr>\n",
       "  </tbody>\n",
       "</table>\n",
       "</div>"
      ],
      "text/plain": [
       "   district     2017     2021\n",
       "1     서울특별시  1180540  1489893\n",
       "2     부산광역시   388899   487362\n",
       "3     대구광역시   259525   326866\n",
       "4     인천광역시   266434   355657\n",
       "5     광주광역시   171424   212385\n",
       "6     대전광역시   188136   240932\n",
       "7     울산광역시   107497   133061\n",
       "8   세종특별자치시    31472    45706\n",
       "9       경기도  1124541  1543100\n",
       "10      강원도   199645   245012\n",
       "11     충청북도   195186   252251\n",
       "12     충청남도   259727   327432\n",
       "13     전라북도   227600   276153\n",
       "14     전라남도   232022   274108\n",
       "15     경상북도   346998   416697\n",
       "16     경상남도   370293   450490\n",
       "17  제주특별자치도    68738    88683"
      ]
     },
     "execution_count": 3,
     "metadata": {},
     "output_type": "execute_result"
    }
   ],
   "source": [
    "# districtsinglehousehold excel파일 불러오기 (변수명 data_03)\n",
    "data_03 = pd.read_excel('districtsinglehousehold.xlsx')\n",
    "\n",
    "# data_03 info로 데이터 값 확인\n",
    "data_03.info()\n",
    "\n",
    "# data_03에서 지역, 2017, 2021 컬럼만 가져오고, 0번째 행(전국) 삭제\n",
    "data_03 = data_03[['지역' , 2017 ,2021]].drop([0])\n",
    "\n",
    "# data_03에서 '지역'컬럼 'district'로 컬럼명 변경\n",
    "data_03 = data_03.rename(columns = {'지역' : 'district'})\n",
    "\n",
    "# data_03 인덱스 초기화 후 정렬\n",
    "data_03.reset_index(drop=True)\n",
    "data_03"
   ]
  },
  {
   "cell_type": "code",
   "execution_count": 4,
   "id": "5085aa90",
   "metadata": {},
   "outputs": [
    {
     "data": {
      "text/plain": [
       "1     118\n",
       "2      38\n",
       "3      25\n",
       "4      26\n",
       "5      17\n",
       "6      18\n",
       "7      10\n",
       "8       3\n",
       "9     112\n",
       "10     19\n",
       "11     19\n",
       "12     25\n",
       "13     22\n",
       "14     23\n",
       "15     34\n",
       "16     37\n",
       "17      6\n",
       "Name: 2017, dtype: int32"
      ]
     },
     "execution_count": 4,
     "metadata": {},
     "output_type": "execute_result"
    }
   ],
   "source": [
    "# 2017년 1인 가구 수 (단위 : 만) 단위변환\n",
    "\n",
    "data_03_l2017 = data_03[2017]/10000\n",
    "data_03_l2017 = data_03_l2017.astype(int)\n",
    "data_03_l2017"
   ]
  },
  {
   "cell_type": "code",
   "execution_count": 5,
   "id": "ead712fb",
   "metadata": {},
   "outputs": [
    {
     "data": {
      "text/plain": [
       "1     148\n",
       "2      48\n",
       "3      32\n",
       "4      35\n",
       "5      21\n",
       "6      24\n",
       "7      13\n",
       "8       4\n",
       "9     154\n",
       "10     24\n",
       "11     25\n",
       "12     32\n",
       "13     27\n",
       "14     27\n",
       "15     41\n",
       "16     45\n",
       "17      8\n",
       "Name: 2021, dtype: int32"
      ]
     },
     "execution_count": 5,
     "metadata": {},
     "output_type": "execute_result"
    }
   ],
   "source": [
    "# 2021년 1인 가구 수 (단위 : 만) 단위변환\n",
    "\n",
    "data_03_l2021 = data_03[2021]/10000\n",
    "data_03_l2021 = data_03_l2021.astype(int)\n",
    "data_03_l2021"
   ]
  },
  {
   "cell_type": "code",
   "execution_count": 6,
   "id": "eadfe01f",
   "metadata": {},
   "outputs": [
    {
     "data": {
      "text/plain": [
       "0     5.8\n",
       "1     5.3\n",
       "2     5.3\n",
       "3     5.3\n",
       "4     4.7\n",
       "5     6.1\n",
       "6     4.4\n",
       "7     1.3\n",
       "8     4.8\n",
       "9     4.1\n",
       "10    5.3\n",
       "11    4.7\n",
       "12    4.5\n",
       "13    3.7\n",
       "14    4.1\n",
       "15    4.1\n",
       "16    4.1\n",
       "dtype: float64"
      ]
     },
     "execution_count": 6,
     "metadata": {},
     "output_type": "execute_result"
    }
   ],
   "source": [
    "# 1인 가구 비율 2021년 - 2017년 값 구하기\n",
    "single_01 = pd.read_excel('singlehousehold_district.xlsx' ,usecols = 'A:F')\n",
    "single_01\n",
    "single_01 = single_01.rename(columns = {'년도' : '지역' , 2017 : '2017' , 2018 : '2018' , 2019 : '2019' , 2020 : '2020' , 2021 : '2021'})\n",
    "\n",
    "pop_per_01 = single_01[['지역' , '2017' , '2021']].loc[1:]\n",
    "for i in range(1,18) :\n",
    "    pop_per_01 = pop_per_01.rename(index = { i : i-1})\n",
    "    \n",
    "percent_differ = pop_per_01['2021'] - pop_per_01['2017']\n",
    "percent_differ = round(percent_differ , 2)\n",
    "percent_differ"
   ]
  },
  {
   "cell_type": "code",
   "execution_count": 7,
   "id": "179877b9",
   "metadata": {},
   "outputs": [
    {
     "data": {
      "text/plain": [
       "1     20.3\n",
       "2     20.8\n",
       "3     21.9\n",
       "4     25.7\n",
       "5     19.0\n",
       "6     25.0\n",
       "7     23.1\n",
       "8     25.0\n",
       "9     27.3\n",
       "10    20.8\n",
       "11    24.0\n",
       "12    21.9\n",
       "13    18.5\n",
       "14    14.8\n",
       "15    17.1\n",
       "16    17.8\n",
       "17    25.0\n",
       "dtype: float64"
      ]
     },
     "execution_count": 7,
     "metadata": {},
     "output_type": "execute_result"
    }
   ],
   "source": [
    "# 1인 가구 수 증가 비율 2021년 - 2017년 값 구하기\n",
    "percent_differ = 100 - round(data_03_l2017 / data_03_l2021 * 100 , 1)\n",
    "percent_differ = round(percent_differ , 2)\n",
    "percent_differ"
   ]
  },
  {
   "cell_type": "code",
   "execution_count": 17,
   "id": "0a856244",
   "metadata": {},
   "outputs": [
    {
     "data": {
      "image/png": "[encoded data removed]",
      "text/plain": [
       "<Figure size 1440x720 with 1 Axes>"
      ]
     },
     "metadata": {},
     "output_type": "display_data"
    }
   ],
   "source": [
    "# 한글 깨짐 방지\n",
    "font_kor_fixed()\n",
    "\n",
    "# 바 그래프 꾸미기\n",
    "# seaborn 패키지 : 차트 꾸밈 패키지\n",
    "import seaborn as sns\n",
    "\n",
    "## 그래프 크기 조절\n",
    "plt.figure(figsize = (20, 10))\n",
    "\n",
    "## 그래프 내용 설정 및 색상 변경  \n",
    "x = np.arange(17)\n",
    "district = list(data_03['district'])\n",
    "values = list(data_03_l2017)\n",
    "values_02 = list(data_03_l2021)\n",
    "\n",
    "p1 = plt.bar(x, values_02 , color = '#FFA500')\n",
    "p2 = plt.bar(x, values, color = '#9ACD32')\n",
    "\n",
    "plt.xticks(x, district , size = 10)\n",
    "\n",
    "## 그래프 타이틀, x축, y축 이름 달기\n",
    "plt.title('행정구역별 1인 가구 수 증가율', fontsize=30 , pad = 20)\n",
    "plt.xlabel('행정구역', fontsize = 20)\n",
    "plt.ylabel('1인 가구 수(단위: 만)', fontsize = 20 , rotation = 90)\n",
    "\n",
    "## y축 값 설정\n",
    "plt.ylim(0 , 180)\n",
    "plt.ticklabel_format(axis='y',useOffset=False, style='plain')\n",
    "\n",
    "# 범례\n",
    "plt.legend(('2021년' , '2017년') , fontsize = 20)\n",
    "\n",
    "# background color\n",
    "# 아래는 내장된 색상 코드\n",
    "# 'tab:blue', 'tab:orange', 'tab:green', 'tab:red', 'tab:purple' \n",
    "# 'tab:brown', 'tab:pink', 'tab:gray', 'tab:olive', 'tab:cyan'\n",
    "# hex 색상 코드도 사용 가능\n",
    "sns.set(rc={'axes.facecolor':'white', 'figure.facecolor':'white'})\n",
    "x_01 = np.arange(17)\n",
    "\n",
    "# 증가률 표시하기\n",
    "for i in range(len(percent_differ)):\n",
    "    label  = str(percent_differ.iloc[i])\n",
    "    x      = x_01[i]\n",
    "    y      = list(data_03_l2021)[i]\n",
    "    plt.text(x - 0.4, y + 5, label+'%', fontsize = 20)\n",
    "## 그래프 저장\n",
    "# plt.show()\n",
    "plt.savefig('project_03_bar_grap_compare_2017_2021.png')\n",
    "\n"
   ]
  },
  {
   "cell_type": "code",
   "execution_count": 9,
   "id": "ad83812a",
   "metadata": {},
   "outputs": [],
   "source": [
    "# https://jimmy-ai.tistory.com/17 / 참고자료  -  plt.xticks "
   ]
  },
  {
   "cell_type": "code",
   "execution_count": 10,
   "id": "6c6ff48a",
   "metadata": {},
   "outputs": [],
   "source": [
    "# https://www.statology.org/seaborn-background-color/ 참고자료"
   ]
  },
  {
   "cell_type": "code",
   "execution_count": 11,
   "id": "c5cf54c6",
   "metadata": {},
   "outputs": [
    {
     "data": {
      "image/png": "[encoded data removed]",
      "text/plain": [
       "<Figure size 432x288 with 1 Axes>"
      ]
     },
     "metadata": {},
     "output_type": "display_data"
    }
   ],
   "source": [
    "import matplotlib.pyplot as plt\n",
    "\n",
    "x = [1, 2, 3, 4]\n",
    "y = [15, 14, 17, 19]\n",
    "plt.bar(x, y, color = 'yellow')\n",
    "plt.xlabel('xlabel', size = 15) # x축 제목 설정\n",
    "plt.ylabel('ylabel', size = 15, color = 'red') #y축 제목 설정, 빨간 글씨\n",
    "plt.title('title', size= 15, rotation = 45 , pad = 50 ) # 차트 제목 설정, 45도 회전 , title과 그래프 간격\n",
    "plt.show()"
   ]
  },
  {
   "cell_type": "code",
   "execution_count": null,
   "id": "777a2bce",
   "metadata": {},
   "outputs": [],
   "source": []
  }
 ],
 "metadata": {
  "kernelspec": {
   "display_name": "Python 3 (ipykernel)",
   "language": "python",
   "name": "python3"
  },
  "language_info": {
   "codemirror_mode": {
    "name": "ipython",
    "version": 3
   },
   "file_extension": ".py",
   "mimetype": "text/x-python",
   "name": "python",
   "nbconvert_exporter": "python",
   "pygments_lexer": "ipython3",
   "version": "3.9.12"
  }
 },
 "nbformat": 4,
 "nbformat_minor": 5
}
