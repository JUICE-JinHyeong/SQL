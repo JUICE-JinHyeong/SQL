{
 "cells": [
  {
   "cell_type": "code",
   "execution_count": 1,
   "id": "f126fb12",
   "metadata": {},
   "outputs": [],
   "source": [
    "import pandas as pd\n",
    "import matplotlib.pyplot as plt\n",
    "import numpy as np"
   ]
  },
  {
   "cell_type": "markdown",
   "id": "b5001567",
   "metadata": {},
   "source": [
    "### 2017 2021 년 지역별 1인가구 수"
   ]
  },
  {
   "cell_type": "code",
   "execution_count": 2,
   "id": "b4f0dbf2",
   "metadata": {
    "scrolled": false
   },
   "outputs": [
    {
     "name": "stdout",
     "output_type": "stream",
     "text": [
      "<class 'pandas.core.frame.DataFrame'>\n",
      "RangeIndex: 18 entries, 0 to 17\n",
      "Data columns (total 7 columns):\n",
      " #   Column      Non-Null Count  Dtype \n",
      "---  ------      --------------  ----- \n",
      " 0   Unnamed: 0  18 non-null     int64 \n",
      " 1   지역          18 non-null     object\n",
      " 2   2017        18 non-null     int64 \n",
      " 3   2018        18 non-null     int64 \n",
      " 4   2019        18 non-null     int64 \n",
      " 5   2020        18 non-null     int64 \n",
      " 6   2021        18 non-null     int64 \n",
      "dtypes: int64(6), object(1)\n",
      "memory usage: 1.1+ KB\n"
     ]
    },
    {
     "data": {
      "text/html": [
       "<div>\n",
       "<style scoped>\n",
       "    .dataframe tbody tr th:only-of-type {\n",
       "        vertical-align: middle;\n",
       "    }\n",
       "\n",
       "    .dataframe tbody tr th {\n",
       "        vertical-align: top;\n",
       "    }\n",
       "\n",
       "    .dataframe thead th {\n",
       "        text-align: right;\n",
       "    }\n",
       "</style>\n",
       "<table border=\"1\" class=\"dataframe\">\n",
       "  <thead>\n",
       "    <tr style=\"text-align: right;\">\n",
       "      <th></th>\n",
       "      <th>district</th>\n",
       "      <th>2017</th>\n",
       "      <th>2021</th>\n",
       "    </tr>\n",
       "  </thead>\n",
       "  <tbody>\n",
       "    <tr>\n",
       "      <th>1</th>\n",
       "      <td>서울특별시</td>\n",
       "      <td>1180540</td>\n",
       "      <td>1489893</td>\n",
       "    </tr>\n",
       "    <tr>\n",
       "      <th>2</th>\n",
       "      <td>부산광역시</td>\n",
       "      <td>388899</td>\n",
       "      <td>487362</td>\n",
       "    </tr>\n",
       "    <tr>\n",
       "      <th>3</th>\n",
       "      <td>대구광역시</td>\n",
       "      <td>259525</td>\n",
       "      <td>326866</td>\n",
       "    </tr>\n",
       "    <tr>\n",
       "      <th>4</th>\n",
       "      <td>인천광역시</td>\n",
       "      <td>266434</td>\n",
       "      <td>355657</td>\n",
       "    </tr>\n",
       "    <tr>\n",
       "      <th>5</th>\n",
       "      <td>광주광역시</td>\n",
       "      <td>171424</td>\n",
       "      <td>212385</td>\n",
       "    </tr>\n",
       "    <tr>\n",
       "      <th>6</th>\n",
       "      <td>대전광역시</td>\n",
       "      <td>188136</td>\n",
       "      <td>240932</td>\n",
       "    </tr>\n",
       "    <tr>\n",
       "      <th>7</th>\n",
       "      <td>울산광역시</td>\n",
       "      <td>107497</td>\n",
       "      <td>133061</td>\n",
       "    </tr>\n",
       "    <tr>\n",
       "      <th>8</th>\n",
       "      <td>세종특별자치시</td>\n",
       "      <td>31472</td>\n",
       "      <td>45706</td>\n",
       "    </tr>\n",
       "    <tr>\n",
       "      <th>9</th>\n",
       "      <td>경기도</td>\n",
       "      <td>1124541</td>\n",
       "      <td>1543100</td>\n",
       "    </tr>\n",
       "    <tr>\n",
       "      <th>10</th>\n",
       "      <td>강원도</td>\n",
       "      <td>199645</td>\n",
       "      <td>245012</td>\n",
       "    </tr>\n",
       "    <tr>\n",
       "      <th>11</th>\n",
       "      <td>충청북도</td>\n",
       "      <td>195186</td>\n",
       "      <td>252251</td>\n",
       "    </tr>\n",
       "    <tr>\n",
       "      <th>12</th>\n",
       "      <td>충청남도</td>\n",
       "      <td>259727</td>\n",
       "      <td>327432</td>\n",
       "    </tr>\n",
       "    <tr>\n",
       "      <th>13</th>\n",
       "      <td>전라북도</td>\n",
       "      <td>227600</td>\n",
       "      <td>276153</td>\n",
       "    </tr>\n",
       "    <tr>\n",
       "      <th>14</th>\n",
       "      <td>전라남도</td>\n",
       "      <td>232022</td>\n",
       "      <td>274108</td>\n",
       "    </tr>\n",
       "    <tr>\n",
       "      <th>15</th>\n",
       "      <td>경상북도</td>\n",
       "      <td>346998</td>\n",
       "      <td>416697</td>\n",
       "    </tr>\n",
       "    <tr>\n",
       "      <th>16</th>\n",
       "      <td>경상남도</td>\n",
       "      <td>370293</td>\n",
       "      <td>450490</td>\n",
       "    </tr>\n",
       "    <tr>\n",
       "      <th>17</th>\n",
       "      <td>제주특별자치도</td>\n",
       "      <td>68738</td>\n",
       "      <td>88683</td>\n",
       "    </tr>\n",
       "  </tbody>\n",
       "</table>\n",
       "</div>"
      ],
      "text/plain": [
       "   district     2017     2021\n",
       "1     서울특별시  1180540  1489893\n",
       "2     부산광역시   388899   487362\n",
       "3     대구광역시   259525   326866\n",
       "4     인천광역시   266434   355657\n",
       "5     광주광역시   171424   212385\n",
       "6     대전광역시   188136   240932\n",
       "7     울산광역시   107497   133061\n",
       "8   세종특별자치시    31472    45706\n",
       "9       경기도  1124541  1543100\n",
       "10      강원도   199645   245012\n",
       "11     충청북도   195186   252251\n",
       "12     충청남도   259727   327432\n",
       "13     전라북도   227600   276153\n",
       "14     전라남도   232022   274108\n",
       "15     경상북도   346998   416697\n",
       "16     경상남도   370293   450490\n",
       "17  제주특별자치도    68738    88683"
      ]
     },
     "execution_count": 2,
     "metadata": {},
     "output_type": "execute_result"
    }
   ],
   "source": [
    "# districtsinglehousehold excel파일 불러오기 (변수명 data_03)\n",
    "data_03 = pd.read_excel('districtsinglehousehold.xlsx')\n",
    "\n",
    "# data_03 info로 데이터 값 확인\n",
    "data_03.info()\n",
    "\n",
    "# data_03에서 지역, 2017, 2021 컬럼만 가져오고, 0번째 행(전국) 삭제\n",
    "data_03 = data_03[['지역' , 2017 ,2021]].drop([0])\n",
    "\n",
    "# data_03에서 '지역'컬럼 'district'로 컬럼명 변경\n",
    "data_03 = data_03.rename(columns = {'지역' : 'district'})\n",
    "\n",
    "# data_03 인덱스 초기화 후 정렬\n",
    "data_03.reset_index(drop=True)\n",
    "data_03"
   ]
  },
  {
   "cell_type": "markdown",
   "id": "7e8f4ec0",
   "metadata": {},
   "source": [
    "### matplotlib에서 한글깨짐 해결"
   ]
  },
  {
   "cell_type": "code",
   "execution_count": 3,
   "id": "ffa37506",
   "metadata": {},
   "outputs": [],
   "source": [
    "# 혹시 모를 경우 대비\n",
    "# 그래프에서 한글 표기를 위한 글자체 변경(윈도우, 맥os 각각의 경우에 대해서 처리)\n",
    "\n",
    "from matplotlib import font_manager, rc\n",
    "import platform \n",
    "\n",
    "if platform.system() == 'Windows': \n",
    "    path = 'c:/Windows/Fonts/malgun.ttf'\n",
    "    font_name = font_manager.FontProperties(fname=path).get_name()\n",
    "    rc('font', family=font_name)\n",
    "elif platform.system() == 'Darwin':\n",
    "    rc('font', family='AppleGothic')\n",
    "else: \n",
    "    print('Check your OS system')\n"
   ]
  },
  {
   "cell_type": "markdown",
   "id": "1bc7ab89",
   "metadata": {},
   "source": [
    "### 2017년 행정지역별 막대 그래프 그리기"
   ]
  },
  {
   "cell_type": "code",
   "execution_count": 4,
   "id": "e0915f84",
   "metadata": {},
   "outputs": [
    {
     "data": {
      "text/plain": [
       "1     118\n",
       "2      38\n",
       "3      25\n",
       "4      26\n",
       "5      17\n",
       "6      18\n",
       "7      10\n",
       "8       3\n",
       "9     112\n",
       "10     19\n",
       "11     19\n",
       "12     25\n",
       "13     22\n",
       "14     23\n",
       "15     34\n",
       "16     37\n",
       "17      6\n",
       "Name: 2017, dtype: int32"
      ]
     },
     "execution_count": 4,
     "metadata": {},
     "output_type": "execute_result"
    }
   ],
   "source": [
    "# 2017년 1인 가구 수 (단위 : 만) 단위변환\n",
    "\n",
    "data_03_l2017 = data_03[2017]/10000\n",
    "data_03_l2017 = data_03_l2017.astype(int)\n",
    "data_03_l2017"
   ]
  },
  {
   "cell_type": "code",
   "execution_count": 5,
   "id": "f87bf814",
   "metadata": {
    "scrolled": true
   },
   "outputs": [
    {
     "data": {
      "text/plain": [
       "<Figure size 1440x720 with 0 Axes>"
      ]
     },
     "metadata": {},
     "output_type": "display_data"
    },
    {
     "data": {
      "image/png": "[encoded data removed]",
      "text/plain": [
       "<Figure size 432x288 with 1 Axes>"
      ]
     },
     "metadata": {},
     "output_type": "display_data"
    }
   ],
   "source": [
    "# 컬러 불러오기 \n",
    "colors = pd.read_excel('color.xlsx')\n",
    "colors\n",
    "\n",
    "# 바 그래프 꾸미기\n",
    "\n",
    "## 그래프 크기 조절, 배경색 조절\n",
    "plt.figure(figsize = (20, 10))\n",
    "plt.figure(facecolor='white')\n",
    "\n",
    "## 그래프 내용 설정 및 색상 변경  \n",
    "x = np.arange(17)\n",
    "district = list(data_03['district'])\n",
    "values = list(data_03_l2017)\n",
    "colors = list(colors['color_code'])\n",
    "\n",
    "plt.bar(x, values, color = colors)\n",
    "plt.xticks(x, district)\n",
    "\n",
    "## 그래프 타이틀, x축, y축 이름 달기\n",
    "plt.title('행정지역별 1인 가구 수 증가율)', fontsize=20)\n",
    "plt.xlabel('행정지역', fontsize=15)\n",
    "plt.ylabel('1인 가구 수(단위: 만)', fontsize=15)\n",
    "\n",
    "## y축 값 설정\n",
    "plt.ylim(0 , 180)\n",
    "plt.ticklabel_format(axis='y',useOffset=False, style='plain')\n",
    "\n",
    "## 그래프 저장\n",
    "# plt.show()\n",
    "plt.savefig('figure2017.png')"
   ]
  },
  {
   "cell_type": "code",
   "execution_count": 6,
   "id": "6b463528",
   "metadata": {},
   "outputs": [
    {
     "ename": "NameError",
     "evalue": "name 'data_03_little' is not defined",
     "output_type": "error",
     "traceback": [
      "\u001b[1;31m---------------------------------------------------------------------------\u001b[0m",
      "\u001b[1;31mNameError\u001b[0m                                 Traceback (most recent call last)",
      "Input \u001b[1;32mIn [6]\u001b[0m, in \u001b[0;36m<cell line: 4>\u001b[1;34m()\u001b[0m\n\u001b[0;32m      1\u001b[0m \u001b[38;5;66;03m# 2021년 1인 가구 수 (단위 : 만) 단위변환\u001b[39;00m\n\u001b[0;32m      3\u001b[0m data_03_l2021 \u001b[38;5;241m=\u001b[39m data_03[\u001b[38;5;241m2021\u001b[39m]\u001b[38;5;241m/\u001b[39m\u001b[38;5;241m10000\u001b[39m\n\u001b[1;32m----> 4\u001b[0m data_03_l2021 \u001b[38;5;241m=\u001b[39m \u001b[43mdata_03_little\u001b[49m\u001b[38;5;241m.\u001b[39mastype(\u001b[38;5;28mint\u001b[39m)\n\u001b[0;32m      5\u001b[0m data_03_l2021\n",
      "\u001b[1;31mNameError\u001b[0m: name 'data_03_little' is not defined"
     ]
    }
   ],
   "source": [
    "# 2021년 1인 가구 수 (단위 : 만) 단위변환\n",
    "\n",
    "data_03_l2021 = data_03[2021]/10000\n",
    "data_03_l2021 = data_03_little.astype(int)\n",
    "data_03_l2021"
   ]
  },
  {
   "cell_type": "code",
   "execution_count": 7,
   "id": "89f46f18",
   "metadata": {},
   "outputs": [
    {
     "data": {
      "text/plain": [
       "<Figure size 1440x720 with 0 Axes>"
      ]
     },
     "metadata": {},
     "output_type": "display_data"
    },
    {
     "data": {
      "image/png": "[encoded data removed]",
      "text/plain": [
       "<Figure size 432x288 with 1 Axes>"
      ]
     },
     "metadata": {},
     "output_type": "display_data"
    }
   ],
   "source": [
    "# 컬러\n",
    "colors = pd.read_excel('color.xlsx')\n",
    "colors\n",
    "\n",
    "# 바 그래프 꾸미기\n",
    "\n",
    "## 그래프 크기 조절, 배경색 조절\n",
    "plt.figure(figsize = (20, 10))\n",
    "plt.figure(facecolor='white')\n",
    "\n",
    "## 그래프 내용 설정 및 색상 변경  \n",
    "x = np.arange(17)\n",
    "district = list(data_03['district'])\n",
    "values = list(data_03_l2021)\n",
    "colors = list(colors['color_code'])\n",
    "\n",
    "plt.bar(x, values, color = colors)\n",
    "plt.xticks(x, district)\n",
    "\n",
    "## 그래프 타이틀, x축, y축 이름 달기\n",
    "plt.title('행정지역별 1인 가구 수 증가율', fontsize=20)\n",
    "plt.xlabel('행정지역', fontsize=15)\n",
    "plt.ylabel('1인 가구 수(단위: 만)', fontsize=15)\n",
    "\n",
    "## y축 값 설정\n",
    "plt.ylim(0 , 180)\n",
    "plt.ticklabel_format(axis='y',useOffset=False, style='plain')\n",
    "\n",
    "## 그래프 저장\n",
    "# plt.show()\n",
    "plt.savefig('figure2021.png')"
   ]
  },
  {
   "cell_type": "code",
   "execution_count": null,
   "id": "9937086a",
   "metadata": {},
   "outputs": [],
   "source": []
  }
 ],
 "metadata": {
  "kernelspec": {
   "display_name": "Python 3 (ipykernel)",
   "language": "python",
   "name": "python3"
  },
  "language_info": {
   "codemirror_mode": {
    "name": "ipython",
    "version": 3
   },
   "file_extension": ".py",
   "mimetype": "text/x-python",
   "name": "python",
   "nbconvert_exporter": "python",
   "pygments_lexer": "ipython3",
   "version": "3.9.12"
  }
 },
 "nbformat": 4,
 "nbformat_minor": 5
}
