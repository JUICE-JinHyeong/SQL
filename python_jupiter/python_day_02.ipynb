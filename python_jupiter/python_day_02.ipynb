{
 "cells": [
  {
   "cell_type": "markdown",
   "id": "ad6c1689",
   "metadata": {},
   "source": [
    "list"
   ]
  },
  {
   "cell_type": "code",
   "execution_count": 11,
   "id": "690e765d",
   "metadata": {},
   "outputs": [
    {
     "name": "stdout",
     "output_type": "stream",
     "text": [
      "type -  <class 'list'> casting -  True\n",
      "max -  4\n",
      "min -  1\n",
      "sum -  10\n",
      "mean -  2.5\n"
     ]
    }
   ],
   "source": [
    "# 형변환 함수\n",
    "num_list = [1,2,3,4]\n",
    "print('type - ' , type(num_list) , 'casting - ' , bool(num_list))\n",
    "\n",
    "# if 조건 판단 == TRUE :\n",
    "\n",
    "print('max - ' , max(num_list))\n",
    "print('min - ' , min(num_list))\n",
    "print('sum - ' , sum(num_list))\n",
    "\n",
    "# mean() 은 numpy 제공 함수이다.\n",
    "\n",
    "print('mean - ' , sum(num_list) / len(num_list))\n",
    "\n"
   ]
  },
  {
   "cell_type": "code",
   "execution_count": 18,
   "id": "bee63026",
   "metadata": {},
   "outputs": [
    {
     "name": "stdout",
     "output_type": "stream",
     "text": [
      "instance address -  1725963143104 1725962935488 1725963144960\n",
      "\n",
      "is 연산자 - 주소값을 비교하는 -  False\n",
      "\n",
      "is 연산자 - 주소값을 비교하는 -  True\n"
     ]
    }
   ],
   "source": [
    "tmp_list01 = [1,2,3]\n",
    "tmp_list02 = [1,2,3]\n",
    "\n",
    "print('instance address - ' , id(tmp_list01) , id(tmp_list02) , id(tmp_list03))\n",
    "print()\n",
    "\n",
    "print('is 연산자 - 주소값을 비교하는 - ' , tmp_list01 is tmp_list02)\n",
    "print()\n",
    "\n",
    "tmp_list03 = tmp_list01\n",
    "print('is 연산자 - 주소값을 비교하는 - ' , tmp_list01 is tmp_list03)"
   ]
  },
  {
   "cell_type": "code",
   "execution_count": 30,
   "id": "89136d52",
   "metadata": {},
   "outputs": [
    {
     "name": "stdout",
     "output_type": "stream",
     "text": [
      "instance address -  1725962935488 1725963151808\n",
      "\n",
      "tmp_list04 append -  [1, 2, 3]\n",
      "tmp_list04 append -  [1, 2, 3, 'jslim']\n"
     ]
    },
    {
     "data": {
      "text/plain": [
       "False"
      ]
     },
     "execution_count": 30,
     "metadata": {},
     "output_type": "execute_result"
    }
   ],
   "source": [
    "from copy import copy\n",
    "tmp_list04 = copy(tmp_list02)\n",
    "\n",
    "print('instance address - ' , id(tmp_list02) , id(tmp_list04))\n",
    "print()\n",
    "\n",
    "tmp_list04.append('jslim')\n",
    "print('tmp_list04 append - ' , tmp_list02)\n",
    "print('tmp_list04 append - ' , tmp_list04)\n",
    "\n",
    "tmp_list02 is tmp_list04"
   ]
  },
  {
   "cell_type": "markdown",
   "id": "3d78ab66",
   "metadata": {},
   "source": [
    "### inner list : [ [ ] , [ ] ]\n",
    "파이썬의 list in list는 1차원이다.\n",
    "\n",
    "#### range() : 숫자를 sequence"
   ]
  },
  {
   "cell_type": "code",
   "execution_count": 51,
   "id": "5521ae1e",
   "metadata": {},
   "outputs": [
    {
     "name": "stdout",
     "output_type": "stream",
     "text": [
      "type  -  <class 'range'>\n",
      "data  -  range(0, 10)\n",
      "range -  False\n",
      "0\t1\t2\t3\t4\t5\t6\t7\t8\t9\t\n",
      "0\n",
      "indexing -  range(0, 5)\n"
     ]
    }
   ],
   "source": [
    "tmp_range = range(10)\n",
    "print('type  - ' , type(tmp_range))\n",
    "print('data  - ' , tmp_range)\n",
    "print('range - ' , 10 in tmp_range)\n",
    "\n",
    "for value in tmp_range : \n",
    "    print(value , end = '\\t')\n",
    "print()\n",
    "\n",
    "print(tmp_range[0])\n",
    "print('indexing - ' , tmp_range[0:5])"
   ]
  },
  {
   "cell_type": "code",
   "execution_count": 5,
   "id": "35ea3717",
   "metadata": {},
   "outputs": [
    {
     "name": "stdout",
     "output_type": "stream",
     "text": [
      "1\t2\t3\t4\t[2, 5, 4, 5]\tsort - \n",
      "[5, 5, 4, 2]\n"
     ]
    }
   ],
   "source": [
    "# range(start , end , step)\n",
    "# range(end)\n",
    "# range(start , end)\n",
    "import random\n",
    "\n",
    "tmp_list = []\n",
    "for idx in range(1,5) :\n",
    "    print(idx , end = '\\t')\n",
    "    tmp_list.append(random.randint(1,5))\n",
    "    \n",
    "print(tmp_list , end = '\\t')\n",
    "print('sort - ')\n",
    "tmp_list.sort(reverse = True)\n",
    "print(tmp_list)"
   ]
  },
  {
   "cell_type": "code",
   "execution_count": 7,
   "id": "2b4e73d9",
   "metadata": {},
   "outputs": [
    {
     "name": "stdout",
     "output_type": "stream",
     "text": [
      "list 요소를 찾고자 할 때 - in True\n",
      "find\n"
     ]
    }
   ],
   "source": [
    "print('list 요소를 찾고자 할 때 - in' , 5 in tmp_list)\n",
    "if 5 in tmp_list :\n",
    "    print('find')\n",
    "else :\n",
    "    print('cannot find')"
   ]
  },
  {
   "cell_type": "markdown",
   "id": "d186db66",
   "metadata": {},
   "source": [
    "list Comprehension"
   ]
  },
  {
   "cell_type": "code",
   "execution_count": 19,
   "id": "2f36fe6a",
   "metadata": {},
   "outputs": [
    {
     "name": "stdout",
     "output_type": "stream",
     "text": [
      "\n",
      "2\n",
      "4\n",
      "1\n",
      "5\n",
      "3\n",
      "\n",
      "[4, 16, 1, 25, 9]\t"
     ]
    }
   ],
   "source": [
    "tmp_list = [2,4,1,5,3]\n",
    "\n",
    "''' tmp_list ** 2 불가\n",
    "    array 가 아닌 vector 기 때문 '''\n",
    "\n",
    "print ()\n",
    "for idx in range(len(tmp_list)) :\n",
    "    print(tmp_list[idx])\n",
    "\n",
    "print()\n",
    "tmp_list_sq = []\n",
    "for idx in range(len(tmp_list)):\n",
    "    tmp_list_sq.append(tmp_list[idx] ** 2)\n",
    "print(tmp_list_sq , end ='\\t')"
   ]
  },
  {
   "cell_type": "code",
   "execution_count": 24,
   "id": "4f8aa8a0",
   "metadata": {},
   "outputs": [
    {
     "name": "stdout",
     "output_type": "stream",
     "text": [
      "[4, 16, 1, 25, 9]\n",
      "\n",
      "\n",
      "[9]\n",
      "for + if - result 9\n"
     ]
    }
   ],
   "source": [
    "'''\n",
    "변수 =  [실행문 for 변수 in 열거형 객체]\n",
    "변수 =  [실행문 for 변수 in 열거형 객체 if 조건식]\n",
    "'''\n",
    "\n",
    "tmp_list_square = [value ** 2 for value in tmp_list]\n",
    "print(tmp_list_square)\n",
    "print()\n",
    "print()\n",
    "tmp_list_square = [value ** 2 for value in tmp_list if value%3 == 0]\n",
    "print(tmp_list_square)\n",
    "\n",
    "\n",
    "result = []\n",
    "for value in tmp_list :\n",
    "    calc = value **2 \n",
    "    if calc%3 == 0 :\n",
    "        result.append(calc)\n",
    "print('for + if - result' , calc)"
   ]
  },
  {
   "cell_type": "raw",
   "id": "012dd22e",
   "metadata": {},
   "source": [
    "range() 함수를 이용 1~100 사이 3의 배수\n",
    "for list Comprehension"
   ]
  },
  {
   "cell_type": "code",
   "execution_count": 42,
   "id": "04197ce6",
   "metadata": {},
   "outputs": [
    {
     "name": "stdout",
     "output_type": "stream",
     "text": [
      "3 6 9 12 15 18 21 24 27 30 33 36 39 42 45 48 51 54 57 60 63 66 69 72 75 78 81 84 87 90 93 96 99 \n",
      "[3, 6, 9, 12, 15, 18, 21, 24, 27, 30, 33, 36, 39, 42, 45, 48, 51, 54, 57, 60, 63, 66, 69, 72, 75, 78, 81, 84, 87, 90, 93, 96, 99]\n"
     ]
    }
   ],
   "source": [
    "tmp_list = []\n",
    "tmp_list = range(1,101)\n",
    "for idx in tmp_list :\n",
    "    if idx % 3 == 0 :\n",
    "        print(idx , end = ' ')\n",
    "print()\n",
    "tmp_list_tr = [value for value in tmp_list if value%3 == 0]\n",
    "print(tmp_list_tr) "
   ]
  },
  {
   "cell_type": "markdown",
   "id": "98f40afb",
   "metadata": {},
   "source": [
    "### tuple type\n",
    "- 선언 : () , tuple()\n",
    "- 순서 0(indexing , slicing) , 중복 0 , (수정 , 삭제) % immutable\n",
    "- 읽기 전용"
   ]
  },
  {
   "cell_type": "code",
   "execution_count": 63,
   "id": "2be4f1a5",
   "metadata": {},
   "outputs": [
    {
     "name": "stdout",
     "output_type": "stream",
     "text": [
      "type     -  <class 'tuple'> True\n",
      "data     -  (1, 2, 3, 4, 5)\n",
      "indexing -  5\n",
      "slicing  -  (1, 2)\n",
      "type -  <class 'list'>\n",
      "data -  [1, 2, 3, 4, 5]\n",
      "append -  [1, 2, 3, 4, 5, 9]\n",
      "remove -  [1, 2, 4, 5, 9]\n",
      "\n",
      "(1, 2, 4, 5, 9)\n"
     ]
    }
   ],
   "source": [
    "tmp_tuple = (1,2,3,4,5)\n",
    "print('type     - ' , type(tmp_tuple) , bool(tmp_tuple))\n",
    "print('data     - ' , tmp_tuple)\n",
    "print('indexing - ' , tmp_tuple[4])\n",
    "print('slicing  - ' , tmp_tuple[0:2])\n",
    "\n",
    "\n",
    "# 수정 불가\n",
    "# tuple 삭제 및 변환 시 형변환을 할 것\n",
    "\n",
    "tmp_list = list(tmp_tuple)\n",
    "print('type - ' , type(tmp_list))\n",
    "print('data - ' , tmp_list)\n",
    "tmp_list.append(9)\n",
    "print('append - ' , tmp_list)\n",
    "tmp_list.remove(3)\n",
    "print('remove - ' , tmp_list)\n",
    "\n",
    "print()\n",
    "# list -> tuple\n",
    "\n",
    "tmp_tuple = tuple(tmp_list)\n",
    "print(tmp_tuple)"
   ]
  },
  {
   "cell_type": "markdown",
   "id": "40f24230",
   "metadata": {},
   "source": [
    "tuple packing & unpacking"
   ]
  },
  {
   "cell_type": "code",
   "execution_count": 67,
   "id": "83931b09",
   "metadata": {},
   "outputs": [
    {
     "data": {
      "text/plain": [
       "('하나', '두나', '세나', '네나', '다나')"
      ]
     },
     "execution_count": 67,
     "metadata": {},
     "output_type": "execute_result"
    }
   ],
   "source": [
    "packing = ('하나' , '두나' , '세나' , '네나' , '다나')\n",
    "packing"
   ]
  },
  {
   "cell_type": "code",
   "execution_count": 77,
   "id": "4ff34f2b",
   "metadata": {},
   "outputs": [
    {
     "name": "stdout",
     "output_type": "stream",
     "text": [
      "하나\n",
      "두나\n",
      "세나\n",
      "네나\n",
      "다나\n"
     ]
    }
   ],
   "source": [
    "a, b, c, d, e = packing\n",
    "\n",
    "print(a)\n",
    "print(b)\n",
    "print(c)\n",
    "print(d)\n",
    "print(e)\n"
   ]
  },
  {
   "cell_type": "code",
   "execution_count": 80,
   "id": "d205efad",
   "metadata": {},
   "outputs": [
    {
     "name": "stdout",
     "output_type": "stream",
     "text": [
      "하나 ['두나', '세나', '네나'] 다나\n"
     ]
    }
   ],
   "source": [
    "a, *b , c =packing\n",
    "print(a, b, c)\n",
    "# * 사용시 list로 해당 요소 부터 특정 범위까지 출력"
   ]
  },
  {
   "cell_type": "code",
   "execution_count": 82,
   "id": "575bd715",
   "metadata": {},
   "outputs": [],
   "source": [
    "def userFunction() :\n",
    "    num_list = [1,2,3,4,5,6,7]\n",
    "    \n",
    "    data_max = max(num_list)\n",
    "    data_min = min(num_list)\n",
    "    data_sum = sum(num_list)\n",
    "    data_avg = sum(num_list) / len(num_list)\n",
    "    \n",
    "    return (data_max , data_min , data_sum , data_avg)\n"
   ]
  },
  {
   "cell_type": "code",
   "execution_count": 86,
   "id": "507c515b",
   "metadata": {},
   "outputs": [
    {
     "name": "stdout",
     "output_type": "stream",
     "text": [
      "7 1 28 4.0\n"
     ]
    }
   ],
   "source": [
    "data_max , data_min , data_sum , data_avg = userFunction()\n",
    "print(data_max , data_min , data_sum , data_avg)"
   ]
  },
  {
   "cell_type": "markdown",
   "id": "0cd2bf8d",
   "metadata": {},
   "source": [
    "#### dict type\n",
    "- {} , dict()\n",
    "- 순서 x , 키 중복 x, 수정과 삭제 O\n",
    "- 주의사항: 키 값으로 list 혹은 set을 사용시 오류가 발생 -> 불변 타입으로 정의되어야 한다."
   ]
  },
  {
   "cell_type": "code",
   "execution_count": 100,
   "id": "e2a794ea",
   "metadata": {},
   "outputs": [
    {
     "name": "stdout",
     "output_type": "stream",
     "text": [
      "type -  <class 'dict'> True\n",
      "data -  {'name': 'jslim', 'address': 'seoul'}\n",
      "키 유무 확인 방법 True True\n",
      "키를 통한 데이터 접근 jslim\n",
      "키를 통한 데이터 변경 - \n",
      "\n",
      "data -  {'name': '하나', 'address': 'seoul'}\n",
      "\n",
      "data -  {'name': '하나', 'address': 'seoul', 'gender': 'M'}\n"
     ]
    }
   ],
   "source": [
    "# json\n",
    "tmp_dict = {\n",
    "    'name'    : 'jslim' ,\n",
    "    'address' : 'seoul'\n",
    "}\n",
    "print('type - ' , type(tmp_dict) , bool(tmp_dict))\n",
    "print('data - ' , tmp_dict)\n",
    "print('키 유무 확인 방법' , 'name' in tmp_dict , bool(tmp_dict))\n",
    "print('키를 통한 데이터 접근' , tmp_dict['name'])\n",
    "print('키를 통한 데이터 변경 - ')\n",
    "print()\n",
    "tmp_dict['name'] = '하나'\n",
    "print('data - ' , tmp_dict)\n",
    "print()\n",
    "tmp_dict['gender'] = 'M'\n",
    "print('data - ' , tmp_dict)"
   ]
  },
  {
   "cell_type": "code",
   "execution_count": 109,
   "id": "bea5d209",
   "metadata": {},
   "outputs": [
    {
     "name": "stdout",
     "output_type": "stream",
     "text": [
      "{'melon': [300, 20], 'bibibig': [400, 20], 'bravo': [150, 10]}\n",
      "키를 통한 데이터 추출 - \n",
      "type -  <class 'list'>\n",
      "메로나 가격을 10% 인상한다면? -  [330, 20] <class 'int'>\n"
     ]
    }
   ],
   "source": [
    "tmp_dict = {\n",
    "    'melon'   : [300 , 20] ,\n",
    "    'bibibig' : [400 , 20] ,\n",
    "    'bravo'   : [150 , 10]\n",
    "}\n",
    "print(tmp_dict)\n",
    "print('키를 통한 데이터 추출 - ')\n",
    "tmp_dict['melon']\n",
    "melon_list = tmp_dict['melon']\n",
    "print('type - ' , type(melon_list))\n",
    "melon_list[0] = int(melon_list[0]*1.1)\n",
    "print('메로나 가격을 10% 인상한다면? - ' , melon_list , type(melon_list[0]))\n"
   ]
  },
  {
   "cell_type": "code",
   "execution_count": 138,
   "id": "91a1f1aa",
   "metadata": {},
   "outputs": [
    {
     "name": "stdout",
     "output_type": "stream",
     "text": [
      "키를 통한 데이터 추출 - \n",
      "\n",
      "bravo 추출\n",
      "type -  <class 'list'> [('price', 150), ('qty', 10)] ('price', 150)\n",
      "('price', 150)\n",
      "type -  <class 'tuple'> price 1000\n"
     ]
    }
   ],
   "source": [
    "tmp_dict = {\n",
    "    'melon'   : {'price' : 300 , 'qty' : 20} ,\n",
    "    'bibibig' : {'price' : 500 , 'qty' : 30} ,\n",
    "    'bravo'   : [('price' , 150) , ('qty' , 10)]\n",
    "    \n",
    "}\n",
    "print('키를 통한 데이터 추출 - ')\n",
    "\n",
    "tmp_dict[1] = int(50)\n",
    "tmp_dict\n",
    "\n",
    "tmp_dict['melon']['qty'] = int(50)\n",
    "tmp_dict['melon']['qty']\n",
    "\n",
    "print()\n",
    "print('bravo 추출')\n",
    "bravo_list = tmp_dict['bravo']\n",
    "print('type - ' , type(bravo_list) , bravo_list , bravo_list[0])\n",
    "bravo_tuple = bravo_list[0]\n",
    "print(bravo_tuple)\n",
    "\n",
    "bravo_price_list = list(bravo_tuple)\n",
    "bravo_price_list[1] = 1000\n",
    "bravo_list = tuple(bravo_price_list)\n",
    "\n",
    "print('type - ' , type(bravo_list) , bravo_list[0] , bravo_list[1])"
   ]
  },
  {
   "cell_type": "code",
   "execution_count": 153,
   "id": "310f68b8",
   "metadata": {},
   "outputs": [
    {
     "name": "stdout",
     "output_type": "stream",
     "text": [
      "type -  <class 'str'> {'city': 'kwangju', 'age': 30}\n",
      "key 이용 데이터 추출 -  None\n",
      "key 이용 데이터 추출 -  kwangju\n",
      "key 이용 데이터 추가 -  None\n",
      "{'city': 'kwangju', 'age': 30, 'job': 'instructor'}\n"
     ]
    },
    {
     "data": {
      "text/plain": [
       "str"
      ]
     },
     "execution_count": 153,
     "metadata": {},
     "output_type": "execute_result"
    }
   ],
   "source": [
    "# dict()\n",
    "tmp_dict = dict(\n",
    "    city = 'kwangju' ,\n",
    "    age  = 30\n",
    ")\n",
    "print('type - ' , type(tmp_dict['city'][0]) , tmp_dict)\n",
    "print('key 이용 데이터 추출 - ' , tmp_dict.get(0))\n",
    "print('key 이용 데이터 추출 - ' , tmp_dict.get('city'))\n",
    "print('key 이용 데이터 추가 - ' , tmp_dict.update({'job' : 'instructor'}))\n",
    "print(tmp_dict)\n",
    "type(tmp_dict['city'])"
   ]
  },
  {
   "cell_type": "markdown",
   "id": "161e9b16",
   "metadata": {},
   "source": [
    "## ZIP\n",
    "중요"
   ]
  },
  {
   "cell_type": "code",
   "execution_count": 155,
   "id": "f62b18d6",
   "metadata": {},
   "outputs": [
    {
     "name": "stdout",
     "output_type": "stream",
     "text": [
      "type -  <class 'dict'> {'user01': '임정섭', 'user02': '섭섭해', 'user03': '임섭순', 'user04': '임재원', 'user05': '임재원'}\n"
     ]
    }
   ],
   "source": [
    "keys = ('user01' , 'user02' , 'user03' , 'user04' , 'user05')\n",
    "data = ('임정섭' , '섭섭해' , '임섭순' , '임재원' , '임재원')\n",
    "\n",
    "zip_dict = dict(zip(keys, data))\n",
    "print('type - ' , type(zip_dict) , zip_dict)"
   ]
  },
  {
   "cell_type": "code",
   "execution_count": 156,
   "id": "88d3e8b4",
   "metadata": {},
   "outputs": [
    {
     "name": "stdout",
     "output_type": "stream",
     "text": [
      "type -  <class 'dict'> {'user01': '임정섭', 'user02': '섭섭해', 'user03': '임섭순', 'user04': '임재원', 'user05': '임재원'}\n"
     ]
    }
   ],
   "source": [
    "zip_dict = {}\n",
    "for idx in range(len(keys)) :\n",
    "    zip_dict.update({keys[idx] : data[idx]})\n",
    "print('type - ' , type(zip_dict) , zip_dict)"
   ]
  },
  {
   "cell_type": "markdown",
   "id": "6b3b5ce4",
   "metadata": {},
   "source": [
    "keys() , values() , items()"
   ]
  },
  {
   "cell_type": "code",
   "execution_count": 173,
   "id": "4b68220b",
   "metadata": {},
   "outputs": [
    {
     "name": "stdout",
     "output_type": "stream",
     "text": [
      "user01\tuser02\tuser03\tuser04\tuser05\t\n",
      "임정섭\t섭섭해\t임섭순\t임재원\t임재원\t\n",
      "user01 임정섭\tuser02 섭섭해\tuser03 임섭순\tuser04 임재원\tuser05 임재원\t"
     ]
    },
    {
     "data": {
      "text/plain": [
       "dict_keys(['user01', 'user02', 'user03', 'user04', 'user05'])"
      ]
     },
     "execution_count": 173,
     "metadata": {},
     "output_type": "execute_result"
    }
   ],
   "source": [
    "for key in zip_dict.keys() :\n",
    "    print(key , end = '\\t')\n",
    "print()\n",
    "for value in zip_dict.values() :\n",
    "    print(value , end = '\\t')\n",
    "print()\n",
    "for key , value in zip_dict.items() :\n",
    "    print(key , value , end = '\\t')\n",
    "zip_dict.keys()\n"
   ]
  },
  {
   "cell_type": "code",
   "execution_count": 175,
   "id": "53e0bfd0",
   "metadata": {},
   "outputs": [
    {
     "data": {
      "text/plain": [
       "{}"
      ]
     },
     "execution_count": 175,
     "metadata": {},
     "output_type": "execute_result"
    }
   ],
   "source": [
    "zip_dict.clear()\n",
    "zip_dict"
   ]
  },
  {
   "cell_type": "markdown",
   "id": "06be4cbe",
   "metadata": {},
   "source": [
    "set type\n",
    "- 순서  x , 중복 x\n",
    "- 선언 : {} , set()\n",
    "- (indexing , slicing) X"
   ]
  },
  {
   "cell_type": "code",
   "execution_count": 177,
   "id": "9816913f",
   "metadata": {},
   "outputs": [
    {
     "name": "stdout",
     "output_type": "stream",
     "text": [
      "type -  <class 'set'> {1} True\n"
     ]
    }
   ],
   "source": [
    "tmp_set = {1}\n",
    "print('type - ' , type(tmp_set) , tmp_set , bool(tmp_set))"
   ]
  },
  {
   "cell_type": "code",
   "execution_count": 180,
   "id": "39020106",
   "metadata": {},
   "outputs": [
    {
     "name": "stdout",
     "output_type": "stream",
     "text": [
      "type -  <class 'set'> {1, 2, 3} True\n"
     ]
    }
   ],
   "source": [
    "'''\n",
    "    set에는 값이 한 개 만 존재하기 때문에 , indexing 불가\n",
    "    set에 데이터를 많이 넣으려면 list를 넣어줘야함\n",
    "'''\n",
    "tmp_set = set([1,2,3])\n",
    "print('type - ' , type(tmp_set) , tmp_set , bool(tmp_set))\n"
   ]
  },
  {
   "cell_type": "markdown",
   "id": "42ffcabc",
   "metadata": {},
   "source": [
    "집합 - set\n",
    "\n",
    "교집합\n",
    "- intersection\n",
    "\n",
    "합집합\n",
    "- union \n",
    "\n",
    "차집합\n",
    "- difference"
   ]
  },
  {
   "cell_type": "code",
   "execution_count": 184,
   "id": "53f9e128",
   "metadata": {},
   "outputs": [
    {
     "name": "stdout",
     "output_type": "stream",
     "text": [
      "교집합 -  {4, 5, 6}\n",
      "합집합 -  {1, 2, 3, 4, 5, 6, 7, 8, 9}\n",
      "차집합 -  {1, 2, 3}\n"
     ]
    }
   ],
   "source": [
    "\"\"\" \n",
    "교집합 &\n",
    "합집합 |\n",
    "차집합 -\n",
    "\"\"\"\n",
    "tmp_set01 = set([1,2,3,4,5,6])\n",
    "tmp_set02 = set([4,5,6,7,8,9])\n",
    "print('교집합 - ' , tmp_set01.intersection(tmp_set02))\n",
    "print('합집합 - ' , tmp_set01.union(tmp_set02))\n",
    "print('차집합 - ' , tmp_set01.difference(tmp_set02))"
   ]
  },
  {
   "cell_type": "code",
   "execution_count": 195,
   "id": "20df3942",
   "metadata": {},
   "outputs": [
    {
     "name": "stdout",
     "output_type": "stream",
     "text": [
      "{'남자', '여자'}\n"
     ]
    }
   ],
   "source": [
    "gender = ['남자' , '여자' , '여자' , '남자' , '남자']\n",
    "gender_01 = [gender[0] , gender[1]]\n",
    "\n",
    "gender_set = set(gender)\n",
    "print(gender_set)"
   ]
  },
  {
   "cell_type": "code",
   "execution_count": 237,
   "id": "0eedf0a1",
   "metadata": {},
   "outputs": [
    {
     "name": "stdout",
     "output_type": "stream",
     "text": [
      "단어 빈도 수 구하기\n"
     ]
    },
    {
     "ename": "AttributeError",
     "evalue": "'list' object has no attribute 'defference'",
     "output_type": "error",
     "traceback": [
      "\u001b[1;31m---------------------------------------------------------------------------\u001b[0m",
      "\u001b[1;31mAttributeError\u001b[0m                            Traceback (most recent call last)",
      "Input \u001b[1;32mIn [237]\u001b[0m, in \u001b[0;36m<cell line: 11>\u001b[1;34m()\u001b[0m\n\u001b[0;32m      7\u001b[0m keys \u001b[38;5;241m=\u001b[39m \u001b[38;5;28mset\u001b[39m(word_list)\n\u001b[0;32m      8\u001b[0m keys \u001b[38;5;241m=\u001b[39m \u001b[38;5;28mlist\u001b[39m(keys)\n\u001b[1;32m---> 11\u001b[0m \u001b[43mword_list\u001b[49m\u001b[38;5;241;43m.\u001b[39;49m\u001b[43mdefference\u001b[49m(keys)\n",
      "\u001b[1;31mAttributeError\u001b[0m: 'list' object has no attribute 'defference'"
     ]
    }
   ],
   "source": [
    "print('단어 빈도 수 구하기')\n",
    "word_list = ['love' , 'jslim' , 'dog' , 'cat' , 'cat' , 'cat' , 'jslim' , 'lucky' , 'lucky' , 'lucky']\n",
    "\n",
    "dict_word_list = {\n",
    " }\n",
    "\n",
    "keys = set(word_list)\n",
    "keys = list(keys)\n",
    "\n",
    "\n",
    "word_list.defference(keys)\n",
    "\n",
    "\n",
    "\n",
    "        \n",
    "        "
   ]
  },
  {
   "cell_type": "code",
   "execution_count": 241,
   "id": "e5a4cb62",
   "metadata": {},
   "outputs": [
    {
     "name": "stdout",
     "output_type": "stream",
     "text": [
      "{'love': 1, 'jslim': 2, 'dog': 1, 'cat': 3, 'lucky': 3}\n"
     ]
    }
   ],
   "source": [
    "word_list = ['love' , 'jslim' , 'dog' , 'cat' , 'cat' , 'cat' , 'jslim' , 'lucky' , 'lucky' , 'lucky']\n",
    "word_dict = {}\n",
    "for value in word_list :\n",
    "    if value in word_dict :\n",
    "        word_dict[value] = word_dict[value] +1\n",
    "    else :\n",
    "        word_dict[value] = 1\n",
    "print(word_dict)"
   ]
  },
  {
   "cell_type": "code",
   "execution_count": 242,
   "id": "4bca8476",
   "metadata": {},
   "outputs": [
    {
     "name": "stdout",
     "output_type": "stream",
     "text": [
      "\n",
      "case02 - \n",
      "\n",
      "{'dog': 1, 'love': 1, 'lucky': 3, 'jslim': 2, 'cat': 3}\n"
     ]
    }
   ],
   "source": [
    "print()\n",
    "print('case02 - ')\n",
    "print()\n",
    "word_dict = {}\n",
    "tmp_list = list(set(word_list))\n",
    "for data in tmp_list : \n",
    "    # print(data)\n",
    "    word_dict.update( {data : word_list.count(data)})\n",
    "print(word_dict)\n"
   ]
  },
  {
   "cell_type": "code",
   "execution_count": 247,
   "id": "92e29610",
   "metadata": {},
   "outputs": [
    {
     "name": "stdout",
     "output_type": "stream",
     "text": [
      "\n",
      "case03 - \n",
      "\n"
     ]
    },
    {
     "data": {
      "text/plain": [
       "{'dog': 1, 'love': 1, 'lucky': 3, 'jslim': 2, 'cat': 3}"
      ]
     },
     "execution_count": 247,
     "metadata": {},
     "output_type": "execute_result"
    }
   ],
   "source": [
    "print()\n",
    "print('case03 - ')\n",
    "print()\n",
    "dict(zip(set(word_list) , [word_list.count(i) for i in set(word_list)] ))\n"
   ]
  },
  {
   "cell_type": "code",
   "execution_count": 259,
   "id": "2e6236b7",
   "metadata": {},
   "outputs": [
    {
     "name": "stdout",
     "output_type": "stream",
     "text": [
      "3 <class 'str'>\n",
      "1 <class 'list'>\n",
      "1 <class 'set'>\n",
      "3 <class 'str'>\n"
     ]
    }
   ],
   "source": [
    "print(len('123') , type('123'))\n",
    "print(len([123]) , type([123]))\n",
    "print(len({123}) , type({123}))\n",
    "print(len(('123')) , type(('123')))"
   ]
  },
  {
   "cell_type": "code",
   "execution_count": 283,
   "id": "381b03b0",
   "metadata": {},
   "outputs": [
    {
     "name": "stdout",
     "output_type": "stream",
     "text": [
      "\n",
      "<if you want to stop chat 'end'>\n",
      "end\n",
      "2\n"
     ]
    }
   ],
   "source": [
    "index = 1\n",
    "while True :\n",
    "    song = input()\n",
    "    if song == 'end':\n",
    "        print(index)\n",
    "        break\n",
    "    else :\n",
    "        index = index +1\n",
    "        print(\"<if you want to stop chat 'end'>\")\n",
    "        "
   ]
  },
  {
   "cell_type": "code",
   "execution_count": 320,
   "id": "277cad5b",
   "metadata": {},
   "outputs": [
    {
     "name": "stdout",
     "output_type": "stream",
     "text": [
      "Remember when we all got drunk? 0\n",
      "I ended up with two broke thumbs 1\n",
      "Oh my God, I felt so dumb, lucky me 2\n",
      "I wrote a song that no one knows 3\n",
      "I played a show and no one showed 4\n",
      "Oh my God, I felt so alone, lucky me 5\n",
      "When all is going wrong and you're scared as hell 6\n",
      "What you gonna do? Who you gonna tell? 7\n",
      "Maybe a hundred bad days made a hundred good stories 8\n",
      "A hundred good stories make me interesting at parties 9\n",
      "A hundred bad days made a hundred good stories 10\n",
      "A hundred good stories make me interesting at parties 11\n",
      "Yeah, no, I ain't scared of you 12\n",
      "No, I ain't scared of you no more 13\n",
      "La-da-da-da-da-da-da-da-da-da-da, da, da 14\n",
      "La-da-da-da-da-da-da-da-da-da-da, da, da 15\n",
      "No, I ain't scared of you 16\n",
      "No, I ain't scared of you no more 17\n",
      "\n",
      "\n",
      "\n",
      "I ended up with two broke thumbs\n",
      "\n",
      "\n"
     ]
    },
    {
     "data": {
      "text/plain": [
       "{0: 'Remember when we all got drunk?',\n",
       " 1: 'I ended up with two broke thumbs',\n",
       " 2: 'Oh my God, I felt so dumb, lucky me',\n",
       " 3: 'I wrote a song that no one knows',\n",
       " 4: 'I played a show and no one showed',\n",
       " 5: 'Oh my God, I felt so alone, lucky me',\n",
       " 6: \"When all is going wrong and you're scared as hell\",\n",
       " 7: 'What you gonna do? Who you gonna tell?',\n",
       " 8: 'Maybe a hundred bad days made a hundred good stories',\n",
       " 9: 'A hundred good stories make me interesting at parties',\n",
       " 10: 'A hundred bad days made a hundred good stories',\n",
       " 11: 'A hundred good stories make me interesting at parties',\n",
       " 12: \"Yeah, no, I ain't scared of you\",\n",
       " 13: \"No, I ain't scared of you no more\",\n",
       " 14: 'La-da-da-da-da-da-da-da-da-da-da, da, da',\n",
       " 15: 'La-da-da-da-da-da-da-da-da-da-da, da, da',\n",
       " 16: \"No, I ain't scared of you\",\n",
       " 17: \"No, I ain't scared of you no more\"}"
      ]
     },
     "execution_count": 320,
     "metadata": {},
     "output_type": "execute_result"
    }
   ],
   "source": [
    "song = [\"Remember when we all got drunk?\",\n",
    "\"I ended up with two broke thumbs\",\n",
    "\"Oh my God, I felt so dumb, lucky me\",\n",
    "\"I wrote a song that no one knows\",\n",
    "\"I played a show and no one showed\",\n",
    "\"Oh my God, I felt so alone, lucky me\",\n",
    "\"When all is going wrong and you're scared as hell\",\n",
    "\"What you gonna do? Who you gonna tell?\",\n",
    "\"Maybe a hundred bad days made a hundred good stories\",\n",
    "\"A hundred good stories make me interesting at parties\",\n",
    "\"A hundred bad days made a hundred good stories\",\n",
    "\"A hundred good stories make me interesting at parties\",\n",
    "\"Yeah, no, I ain't scared of you\",\n",
    "\"No, I ain't scared of you no more\",\n",
    "\"La-da-da-da-da-da-da-da-da-da-da, da, da\",\n",
    "\"La-da-da-da-da-da-da-da-da-da-da, da, da\",\n",
    "\"No, I ain't scared of you\",\n",
    "\"No, I ain't scared of you no more\"]\n",
    "index = range(0 , len(song))\n",
    "\n",
    "for value in range(len(song)) :\n",
    "    print(song[value] , index[value] , end = \"\\n\")\n",
    "\n",
    "print()\n",
    "print()\n",
    "print()\n",
    "\n",
    "dict_song = dict(zip(set(index) , song))\n",
    "\n",
    "print(dict_song[1])\n",
    "\n",
    "\n",
    "print()\n",
    "print()\n",
    "\n",
    "dict(dict_song)"
   ]
  },
  {
   "cell_type": "code",
   "execution_count": null,
   "id": "057e0d73",
   "metadata": {},
   "outputs": [],
   "source": []
  },
  {
   "cell_type": "code",
   "execution_count": null,
   "id": "ea16148e",
   "metadata": {},
   "outputs": [],
   "source": []
  },
  {
   "cell_type": "code",
   "execution_count": null,
   "id": "f76db608",
   "metadata": {},
   "outputs": [],
   "source": []
  }
 ],
 "metadata": {
  "kernelspec": {
   "display_name": "Python 3 (ipykernel)",
   "language": "python",
   "name": "python3"
  },
  "language_info": {
   "codemirror_mode": {
    "name": "ipython",
    "version": 3
   },
   "file_extension": ".py",
   "mimetype": "text/x-python",
   "name": "python",
   "nbconvert_exporter": "python",
   "pygments_lexer": "ipython3",
   "version": "3.9.12"
  }
 },
 "nbformat": 4,
 "nbformat_minor": 5
}
