{
 "cells": [
  {
   "cell_type": "code",
   "execution_count": 22,
   "id": "d9e291ed",
   "metadata": {},
   "outputs": [],
   "source": [
    "class person_vo(object) :\n",
    "    def __init__(self, name , age , address) :\n",
    "        self.__name = name\n",
    "        self.__age  = age\n",
    "        self.__address = address \n",
    "    def person_info(self) :\n",
    "        return self.__name + '\\t' + str(self.__age) + '\\t' + self.__address\n",
    "    \n",
    "    def setName(self , name) :\n",
    "        self.__name = name\n",
    "    def getName(self) :\n",
    "        return self.__name\n",
    "    \n",
    "    def setName(self , age) :\n",
    "        self.__age = age\n",
    "    def getName(self) :\n",
    "        return self.__age\n",
    "    \n",
    "    def setName(self , address) :\n",
    "        self.__address = address\n",
    "    def getName(self) :\n",
    "        return self.__address\n",
    "    \n",
    "class student_vo(person_vo) :\n",
    "    def __init__(self , name , age , address , ssn) :\n",
    "        super().__init__(name , age , address)\n",
    "        self.ssn = ssn\n",
    "    def student_info(self) :\n",
    "        return super().person_info() + '\\t' + self.ssn\n",
    "    def person_info(self) :\n",
    "        return super().person_info() + '\\t' + self.ssn\n",
    "\n",
    "class teacher_vo(person_vo) :\n",
    "    def __init__(self , name , age , address , subject) :\n",
    "        super().__init__(name , age , address)\n",
    "        self.subject = subject\n",
    "    def teacher_info(self) :\n",
    "        return super().person_info() + '\\t' + self.subject\n",
    "    def person_info(self) :\n",
    "        return super().person_info() + '\\t' + self.subject"
   ]
  },
  {
   "cell_type": "markdown",
   "id": "af7383cc",
   "metadata": {},
   "source": [
    "- 상속 관계에서 부모의 객체 생성은 의미가 없다."
   ]
  },
  {
   "cell_type": "code",
   "execution_count": 13,
   "id": "7e6ffcb2",
   "metadata": {},
   "outputs": [
    {
     "name": "stdout",
     "output_type": "stream",
     "text": [
      "person_vo instance create - \n",
      "name\t24\taddress\n"
     ]
    }
   ],
   "source": [
    "print('person_vo instance create - ')\n",
    "per0bj = person_vo('name' , 24 , 'address')\n",
    "# print(per0bj.name)\n",
    "# private 인자 접근 불가\n",
    "print(per0bj.person_info())\n"
   ]
  },
  {
   "cell_type": "markdown",
   "id": "f5af8f2f",
   "metadata": {},
   "source": [
    "- 다형성(overriding)\n",
    "- 상속관계에서 부모에 정의된 함수를 자식에서 재정의하는 것으로 구현부가 달라야한다.\n",
    "\n",
    "- enumerate() 내부 데이터 분석\n",
    "- isinstance(entity.__class__.__data__ , find_data) "
   ]
  },
  {
   "cell_type": "code",
   "execution_count": 28,
   "id": "0c3ef1b6",
   "metadata": {},
   "outputs": [
    {
     "name": "stdout",
     "output_type": "stream",
     "text": [
      "데이터 출력 - \n",
      "idx -  0\n",
      "entity -  <__main__.student_vo object at 0x000001B030C5DE80>\n",
      "하나\t22\t부천\t2002\n",
      "\n",
      "idx -  1\n",
      "entity -  <__main__.teacher_vo object at 0x000001B030A9BD60>\n",
      "가나\t32\t서울\tpython\n",
      "\n",
      "idx -  2\n",
      "entity -  <__main__.student_vo object at 0x000001B030A088E0>\n",
      "두나\t21\t천안\t2003\n",
      "\n"
     ]
    }
   ],
   "source": [
    "person_list = []\n",
    "person_list.append(student_vo('하나' , 22 , '부천' , '2002'))\n",
    "person_list.append(teacher_vo('가나' , 32 , '서울' , 'python'))\n",
    "person_list.append(student_vo('두나' , 21 , '천안' , '2003'))\n",
    "\n",
    "print('데이터 출력 - ')\n",
    "for idx , entity in enumerate(person_list) :\n",
    "    print('idx - ' , idx)\n",
    "    print('entity - ' , entity)\n",
    "    if entity.__class__.__name__ == 'student_vo' :\n",
    "        #isinstance(entity , student_vo)\n",
    "        print(entity.student_info())\n",
    "        print()\n",
    "    else :\n",
    "        print(entity.teacher_info())\n",
    "        print()\n",
    "    "
   ]
  },
  {
   "cell_type": "code",
   "execution_count": 48,
   "id": "daf67a0d",
   "metadata": {},
   "outputs": [
    {
     "name": "stdout",
     "output_type": "stream",
     "text": [
      "overriding ~ \n",
      "데이터 출력 - \n",
      "idx -  0\n",
      "entity -  <__main__.student_vo object at 0x000001B030C5DE80>\n",
      "하나\t22\t부천\t2002\n",
      "\n",
      "idx -  1\n",
      "entity -  <__main__.teacher_vo object at 0x000001B030A9BD60>\n",
      "가나\t32\t서울\tpython\n",
      "\n",
      "idx -  2\n",
      "entity -  <__main__.student_vo object at 0x000001B030A088E0>\n",
      "두나\t21\t천안\t2003\n",
      "\n"
     ]
    }
   ],
   "source": [
    "print('overriding ~ ')\n",
    "print('데이터 출력 - ')\n",
    "for idx , entity in enumerate(person_list) :\n",
    "    print('idx - ' , idx)\n",
    "    print('entity - ' , entity)\n",
    "    print(entity.person_info())\n",
    "    # 오버라이딩\n",
    "    print()"
   ]
  },
  {
   "cell_type": "markdown",
   "id": "bbe533af",
   "metadata": {},
   "source": [
    "- 추상화(추상클래스, 추상함수)\n",
    "- 추상클래스 -> 인스턴스 생성이 불가\n",
    "- 클래스는 추상함수를 포함할 수 있다.\n",
    "- 추상함수는 인스턴스 생성이 불가하므로 추상 클래스는 인스턴스 생성이 불가하다.\n",
    "- 따라서 추상클래스는 보통 부모 클래스 역할을 하게된다.\n",
    "- 부모에 정의된 함수의 인자의 수가 같아야 한다."
   ]
  },
  {
   "cell_type": "code",
   "execution_count": 38,
   "id": "ed88dcd3",
   "metadata": {},
   "outputs": [],
   "source": [
    "from abc import *\n",
    "class animal(object, metaclass = ABCMeta) :\n",
    "    @abstractmethod\n",
    "    def fly(self) :\n",
    "        pass\n",
    "    \n",
    "    @abstractmethod\n",
    "    def take_off(self) :\n",
    "        pass\n",
    "        \n",
    "    @abstractmethod\n",
    "    def landing(self) :\n",
    "        pass\n",
    "    \n",
    "    def non_abstract_function(self) :\n",
    "        print('나는 추상클래스에 정의된 일반함수입니다.')"
   ]
  },
  {
   "cell_type": "code",
   "execution_count": 49,
   "id": "d91f8dc0",
   "metadata": {},
   "outputs": [
    {
     "name": "stdout",
     "output_type": "stream",
     "text": [
      "추상클래스는 객체생성이 불가 \n",
      "추상클래스는 함수 이름의 표준\n",
      "모든 추상클래스를 overidding 해주어야 오류가 나지않는다.\n"
     ]
    }
   ],
   "source": [
    "print('추상클래스는 객체생성이 불가 ')\n",
    "print('추상클래스는 함수 이름의 표준')\n",
    "print('모든 추상클래스를 overidding 해주어야 오류가 나지않는다.')"
   ]
  },
  {
   "cell_type": "code",
   "execution_count": 73,
   "id": "6e9f6cd9",
   "metadata": {},
   "outputs": [],
   "source": [
    "class super_man(animal) :\n",
    "    def fly(self) :\n",
    "        print('super man fly in to the sky')\n",
    "    def take_off(self) :\n",
    "        print('super man start to fly')\n",
    "    def landing(self) :\n",
    "        print('landing super man')\n",
    "class bird(animal) :\n",
    "    def fly(self) :\n",
    "        print('bird fly in to the sky')\n",
    "    def take_off(self) :\n",
    "        print('bird start to fly')\n",
    "    def landing(self) :\n",
    "        print('bird landing in the ground')"
   ]
  },
  {
   "cell_type": "code",
   "execution_count": 74,
   "id": "544a376a",
   "metadata": {},
   "outputs": [
    {
     "name": "stdout",
     "output_type": "stream",
     "text": [
      "super man fly in to the sky\n",
      "super man start to fly\n",
      "landing super man\n",
      "\n",
      "bird fly in to the sky\n",
      "bird start to fly\n",
      "bird landing in the ground\n",
      "\n",
      "super man fly in to the sky\n",
      "<class '__main__.super_man'>\n",
      "<class 'list'>\n",
      "bird fly in to the sky\n",
      "<class '__main__.bird'>\n",
      "<class 'list'>\n"
     ]
    }
   ],
   "source": [
    "man = super_man()\n",
    "man.fly()\n",
    "man.take_off()\n",
    "man.landing()\n",
    "print()\n",
    "bird = bird()\n",
    "bird.fly()\n",
    "bird.take_off()\n",
    "bird.landing()\n",
    "print()\n",
    "animals = []\n",
    "animals.append(man)\n",
    "animals.append(bird)\n",
    "\n",
    "for entity in animals :\n",
    "    entity.fly()\n",
    "    print(type(entity))\n",
    "    print(type(animals))"
   ]
  },
  {
   "cell_type": "markdown",
   "id": "5647f3eb",
   "metadata": {},
   "source": [
    "### 예외처리\n",
    "- XXXXeror\n",
    "- 발생되는 에러중 사소한 에러라면 실행을 종료하지말고 예외처리를 통해 실행을 계속 이어감\n"
   ]
  },
  {
   "cell_type": "code",
   "execution_count": 79,
   "id": "0638e59c",
   "metadata": {},
   "outputs": [
    {
     "data": {
      "text/plain": [
       "'\\n\\ntry : \\n    예외발생 코드를 정의\\nexcept :\\n    발생된 예외를 처리하는 곳\\nelse :\\n    예외가 발생하지 않았을 때 실행되는 블럭\\nfinally :\\n    예외발생 여부와 상관없이 실행되는 블럭\\n    \\n'"
      ]
     },
     "execution_count": 79,
     "metadata": {},
     "output_type": "execute_result"
    }
   ],
   "source": [
    "'''\n",
    "try 사용시 반드시 except를 사용해야한다.\n",
    "except는 한가지의 에러만을 판단하므로, try에서 여러 에러가 발생할 경우 여러개의 except가 필요하다.\n",
    "단 모든 에러를 잡을 경우 Exception as name 로 잡을 수 있다,\n",
    "\n",
    "try : \n",
    "    예외발생 코드를 정의\n",
    "except :\n",
    "    발생된 예외를 처리하는 곳\n",
    "except A Error as a :\n",
    "except B Error as a :\n",
    "except Exception as a :\n",
    "\n",
    "else :\n",
    "    예외가 발생하지 않았을 때 실행되는 블럭\n",
    "finally :\n",
    "    예외발생 여부와 상관없이 실행되는 블럭\n",
    "    \n",
    "'''"
   ]
  },
  {
   "cell_type": "code",
   "execution_count": 1,
   "id": "e3ab7f25",
   "metadata": {},
   "outputs": [],
   "source": [
    "def user_input() :\n",
    "    try :\n",
    "        age = int(input('나이를 숫자로 입력하세요 : '))\n",
    "    except ValueError as e :\n",
    "        print('\\n오류가 발생하였습니다.\\n')\n",
    "        print('오류내역\\n')\n",
    "        print(str(e))\n",
    "        print('문자를 넣지 말고 숫자만으로 구성하여 재입력 바랍니다.\\n')\n",
    "        user_input()\n",
    "    else :\n",
    "        print('your age is ' , age , 'years old\\n' )\n",
    "    finally :\n",
    "        print('예외발생 여부와 상관없이 수행하는 블럭입니다.')\n",
    "    "
   ]
  },
  {
   "cell_type": "code",
   "execution_count": 2,
   "id": "c3521584",
   "metadata": {},
   "outputs": [
    {
     "name": "stdout",
     "output_type": "stream",
     "text": [
      "나이를 숫자로 입력하세요 : asd\n",
      "\n",
      "오류가 발생하였습니다.\n",
      "\n",
      "오류내역\n",
      "\n",
      "invalid literal for int() with base 10: 'asd'\n",
      "문자를 넣지 말고 숫자만으로 구성하여 재입력 바랍니다.\n",
      "\n",
      "나이를 숫자로 입력하세요 : 12\n",
      "your age is  12 years old\n",
      "\n",
      "예외발생 여부와 상관없이 수행하는 블럭입니다.\n",
      "예외발생 여부와 상관없이 수행하는 블럭입니다.\n"
     ]
    }
   ],
   "source": [
    "user_input()"
   ]
  },
  {
   "cell_type": "code",
   "execution_count": 18,
   "id": "0aa161d8",
   "metadata": {},
   "outputs": [],
   "source": [
    "'''\n",
    "매개변수로 넘겨받은 각 첨자번지의 값에 제곱한 결과를 출력\n",
    "예외처리를 통한 마지막 print() 함수를 수행하게 하고 싶다면\n",
    "'''\n",
    "\n",
    "def list_print(lst : list) :\n",
    "    for element in lst :\n",
    "            print('raw     - ' , element)\n",
    "            try : \n",
    "                print('squared - ' , element ** 2)\n",
    "            except Exception as e :\n",
    "                print('데이터가 숫자가 아닙니다.')\n",
    "    print('*** function end ***')\n",
    "    \n",
    "    \n",
    "    \n",
    "def list_print2(lst : list) :\n",
    "    try : \n",
    "        for element in lst :\n",
    "            print('raw     - ' , element)\n",
    "            print('squared - ' , element ** 2)\n",
    "    except Exception as e :\n",
    "        print('데이터가 숫자가 아닙니다.')\n",
    "    finally : \n",
    "        print('*** function end ***')"
   ]
  },
  {
   "cell_type": "code",
   "execution_count": 19,
   "id": "fd69cbef",
   "metadata": {},
   "outputs": [],
   "source": [
    "tmp_lst = [10, 20, 30, 40, 'jslim' , 50 , 49]"
   ]
  },
  {
   "cell_type": "code",
   "execution_count": 21,
   "id": "6089cb00",
   "metadata": {},
   "outputs": [
    {
     "name": "stdout",
     "output_type": "stream",
     "text": [
      "raw     -  10\n",
      "squared -  100\n",
      "raw     -  20\n",
      "squared -  400\n",
      "raw     -  30\n",
      "squared -  900\n",
      "raw     -  40\n",
      "squared -  1600\n",
      "raw     -  jslim\n",
      "데이터가 숫자가 아닙니다.\n",
      "raw     -  50\n",
      "squared -  2500\n",
      "raw     -  49\n",
      "squared -  2401\n",
      "*** function end ***\n",
      "\n",
      "차이 확인\n",
      "\n",
      "raw     -  10\n",
      "squared -  100\n",
      "raw     -  20\n",
      "squared -  400\n",
      "raw     -  30\n",
      "squared -  900\n",
      "raw     -  40\n",
      "squared -  1600\n",
      "raw     -  jslim\n",
      "데이터가 숫자가 아닙니다.\n",
      "*** function end ***\n"
     ]
    }
   ],
   "source": [
    "list_print(tmp_lst)\n",
    "print()\n",
    "print('차이 확인')\n",
    "print()\n",
    "list_print2(tmp_lst)"
   ]
  },
  {
   "cell_type": "markdown",
   "id": "68356736",
   "metadata": {},
   "source": [
    "- 사용자 정의 예외 클래스 만들기"
   ]
  },
  {
   "cell_type": "code",
   "execution_count": 37,
   "id": "cc8c82ed",
   "metadata": {},
   "outputs": [],
   "source": [
    "class user_negetive_division_error(Exception) :\n",
    "    def __init__(self , msg) :\n",
    "        self.msg = msg"
   ]
  },
  {
   "cell_type": "code",
   "execution_count": 38,
   "id": "ee38e361",
   "metadata": {},
   "outputs": [],
   "source": [
    "def positive_divide(x,y) :\n",
    "    if( y <= 0 ) :\n",
    "        raise user_negetive_division_error('값을 음수 또는 0으로 나눌 수 없습니다.')\n",
    "    return x / y"
   ]
  },
  {
   "cell_type": "code",
   "execution_count": 40,
   "id": "798ab630",
   "metadata": {},
   "outputs": [
    {
     "name": "stdout",
     "output_type": "stream",
     "text": [
      "값을 음수 또는 0으로 나눌 수 없습니다.\n"
     ]
    }
   ],
   "source": [
    "try :\n",
    "    result = positive_divide(10 , 0)\n",
    "    print(result)\n",
    "except Exception  as  e :\n",
    "    print(str(e))\n",
    "    "
   ]
  },
  {
   "cell_type": "code",
   "execution_count": null,
   "id": "03cf421e",
   "metadata": {},
   "outputs": [],
   "source": []
  },
  {
   "cell_type": "code",
   "execution_count": null,
   "id": "35756ca4",
   "metadata": {},
   "outputs": [],
   "source": []
  }
 ],
 "metadata": {
  "kernelspec": {
   "display_name": "Python 3 (ipykernel)",
   "language": "python",
   "name": "python3"
  },
  "language_info": {
   "codemirror_mode": {
    "name": "ipython",
    "version": 3
   },
   "file_extension": ".py",
   "mimetype": "text/x-python",
   "name": "python",
   "nbconvert_exporter": "python",
   "pygments_lexer": "ipython3",
   "version": "3.9.12"
  }
 },
 "nbformat": 4,
 "nbformat_minor": 5
}
