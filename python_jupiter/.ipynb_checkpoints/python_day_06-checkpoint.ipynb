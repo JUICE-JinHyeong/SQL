{
 "cells": [
  {
   "cell_type": "markdown",
   "id": "5d05fe42",
   "metadata": {},
   "source": [
    "class(Object Oriented Programming)\n",
    "- 은닉화\n",
    "- 상속\n",
    "- 다형성\n",
    "- 추상화"
   ]
  },
  {
   "cell_type": "markdown",
   "id": "77a9d6cf",
   "metadata": {},
   "source": [
    "'''\n",
    "함수 > 클레스(변수 , 함수) < 모듈(xxxxx.py) < package\n",
    "\n",
    "클래스란? \n",
    "- 함수의 묶음\n",
    "- 여러개의 함수와 공유 데이터(변수)를 묶어서 관리하는 템플릿\n",
    "- 구성 : 함수 + 변수 + 초기화 함수(생성자)\n",
    "\n",
    "class vs instance\n",
    "\n",
    "변수 = xxxx() # 인스턴스 생성\n",
    "변수.함수() # call\n",
    "변수.속성() # call\n",
    "\n",
    "\n",
    "파이썬의 모든 함수는 객체로 취급.\n",
    "객체로 취급된다 = 클래스\n",
    "\n",
    "변수나 함수가 인스턴스의 소유가 아닌 클래스 소유인 경우도 있다.\n",
    "\n",
    "'''"
   ]
  },
  {
   "cell_type": "code",
   "execution_count": 124,
   "id": "be4b40de",
   "metadata": {},
   "outputs": [],
   "source": [
    "class person :\n",
    "    \n",
    "    cls_var = '클래스 소유의 변수'\n",
    "    # initializer\n",
    "    # _xxxx_ (magic function)\n",
    "    # 인스터스 소유의 변수란 초기화 함수 내에 선언한 변수를 의미\n",
    "    # 변수의 soope 은 클래스 전역에서 사용이 가능\n",
    "    # self 인스턴스 소유\n",
    "    # cls  class 소유\n",
    "    \n",
    "    def __init__(self , name , age , gender) :\n",
    "        print('초기화 함수로 instance 생성시 호출되는 함수')\n",
    "        self.name   = name\n",
    "        self.age    = age\n",
    "        self.gender = gender\n",
    "        \n",
    "    def doing(self) :\n",
    "        print('인스턴스 소유의 함수')\n",
    "        self.personlnfo()\n",
    "    \n",
    "    def personlnfo(self) :\n",
    "        return self.name +'\\t' + str(self.age) + '\\t' + self.gender\n",
    "    # 반환시 자료형은 통일할 것\n",
    "    def aa(self) :\n",
    "        return self.age\n",
    "    \n",
    "    @classmethod\n",
    "    def class_func(cls) :\n",
    "        print('해당 함수는 인스턴스 소유가 아닌 클래스 소유 - 인스턴스 소유의 함수 , 변수 사용 불가')"
   ]
  },
  {
   "cell_type": "code",
   "execution_count": 125,
   "id": "7e6d857a",
   "metadata": {},
   "outputs": [
    {
     "name": "stdout",
     "output_type": "stream",
     "text": [
      "초기화 함수로 instance 생성시 호출되는 함수\n",
      "type -  <class '__main__.person'>\n",
      "\n",
      "caller - function\n",
      "인스턴스 소유의 함수\n",
      "caller - variable\n",
      "jslim 24 m\n",
      "\n",
      "jslim\t24\tm\n",
      "24\n"
     ]
    }
   ],
   "source": [
    "obj = person('jslim' , 24 , 'm')\n",
    "# 변수에 선언 - 인스턴스 생성\n",
    "\n",
    "print('type - ' , type(obj))\n",
    "print()\n",
    "print('caller - function')\n",
    "obj.doing()\n",
    "obj.aa()\n",
    "print('caller - variable')\n",
    "print(obj.name , obj.age , obj.gender)\n",
    "print()\n",
    "print(obj.personlnfo())\n",
    "\n",
    "print(obj.aa())"
   ]
  },
  {
   "cell_type": "code",
   "execution_count": 126,
   "id": "701c01e3",
   "metadata": {},
   "outputs": [
    {
     "name": "stdout",
     "output_type": "stream",
     "text": [
      "클래스 템플릿으로부터 여러개의 인스턴스 생성이 가능하다. - \n",
      "초기화 함수로 instance 생성시 호출되는 함수\n",
      "초기화 함수로 instance 생성시 호출되는 함수\n",
      "초기화 함수로 instance 생성시 호출되는 함수\n"
     ]
    }
   ],
   "source": [
    "print('클래스 템플릿으로부터 여러개의 인스턴스 생성이 가능하다. - ')\n",
    "stu01 = person('하나' , 26 , 'w')\n",
    "stu02 = person('두나' , 27 , 'm')\n",
    "stu03 = person('세나' , 26 , 'm')\n",
    "\n",
    "person_list = []\n",
    "person_list.append(stu01)\n",
    "person_list.append(stu02)\n",
    "person_list.append(stu03)"
   ]
  },
  {
   "cell_type": "code",
   "execution_count": 127,
   "id": "23322267",
   "metadata": {},
   "outputs": [
    {
     "name": "stdout",
     "output_type": "stream",
     "text": [
      "하나\t26\tw\n",
      "두나\t27\tm\n",
      "세나\t26\tm\n"
     ]
    }
   ],
   "source": [
    "for instance in person_list :\n",
    "    print(instance.personlnfo())"
   ]
  },
  {
   "cell_type": "code",
   "execution_count": 128,
   "id": "49cd1ca6",
   "metadata": {},
   "outputs": [
    {
     "name": "stdout",
     "output_type": "stream",
     "text": [
      "클래스 소유 변수는 인스턴스 생성 없이 접근이 가능\n",
      "클래스 소유의 변수\n"
     ]
    },
    {
     "data": {
      "text/plain": [
       "'stu01이 값을 변경합니다.'"
      ]
     },
     "execution_count": 128,
     "metadata": {},
     "output_type": "execute_result"
    }
   ],
   "source": [
    "print('클래스 소유 변수는 인스턴스 생성 없이 접근이 가능')\n",
    "print(person.cls_var)\n",
    "person.cls_var = 'stu01이 값을 변경합니다.'\n",
    "stu01.cls_var\n",
    "stu02.cls_var\n",
    "\n"
   ]
  },
  {
   "cell_type": "code",
   "execution_count": 129,
   "id": "5f6f18dc",
   "metadata": {},
   "outputs": [
    {
     "name": "stdout",
     "output_type": "stream",
     "text": [
      "클래스 소유 함수 호출 - \n",
      "해당 함수는 인스턴스 소유가 아닌 클래스 소유 - 인스턴스 소유의 함수 , 변수 사용 불가\n"
     ]
    }
   ],
   "source": [
    "print('클래스 소유 함수 호출 - ')\n",
    "person.class_func()"
   ]
  },
  {
   "cell_type": "code",
   "execution_count": 131,
   "id": "4c0c79e9",
   "metadata": {},
   "outputs": [
    {
     "name": "stdout",
     "output_type": "stream",
     "text": [
      "인스턴스 소유의 함수\n"
     ]
    }
   ],
   "source": [
    "stu01.doing()"
   ]
  },
  {
   "cell_type": "code",
   "execution_count": 156,
   "id": "69533e8b",
   "metadata": {},
   "outputs": [],
   "source": [
    "'''\n",
    "인스턴스 변수  - account_number , balance(잔액) , interest_rate(이자비율)\n",
    "account_info() - 계좌정보를 출력 현재 잔액과 이자율 출력\n",
    "with_draw()    - 매개변수로 들어온 금액 만큼 출금하여 잔액을 변경한다. 단, 잔액 부족시 출금 불가\n",
    "deposit()      - 잔액에 누적\n",
    "acc.print_interest_rate() - 현재 잔액에 이자율을 계산하여 소수점 2자리까지 금액을 출력\n",
    "\n",
    "'''\n",
    "class account :\n",
    "    def __init__ (self , account_number , balance , interest_rate) :\n",
    "        print('계좌번호 , 금액 , 이자율이 입력되었습니다.')\n",
    "        self.account_number = account_number\n",
    "        self.balance        = balance\n",
    "        self.interest_rate  = interest_rate\n",
    "    def account_info(self) :\n",
    "        print('계좌번호는 {} 이고 , 잔액은 {}원 , 이자율은 {}% 입니다.'.format(self.account_number, self.balance , self.interest_rate))\n",
    "    def with_draw(self , amount : int) :\n",
    "        if self.balance > amount :\n",
    "            self.balance -= amount\n",
    "            print('출금하신 금액은 {}원 , 잔액은 {}원 입니다.'.format(amount , self.balance))\n",
    "    def deposit(self , accumulate : int) :\n",
    "        self.balance += accumulate\n",
    "        print('입금하신 금액은 {}원 , 잔액은 {}원 입니다.'.format(accumulate , self.balance))\n",
    "    def print_interest_rate(self) :\n",
    "        print('현재 잔액은 %.2f원 이고 이자 합산 잔액은 %.2f원입니다.'%(self.balance , round(self.balance * (1+self.interest_rate) , 2)))\n",
    "\n",
    "        "
   ]
  },
  {
   "cell_type": "code",
   "execution_count": 158,
   "id": "903ad959",
   "metadata": {},
   "outputs": [
    {
     "name": "stdout",
     "output_type": "stream",
     "text": [
      "caller - \n",
      "계좌번호 , 금액 , 이자율이 입력되었습니다.\n",
      "계좌번호는 123-1234-123456789 이고 , 잔액은 500000원 , 이자율은 0.02% 입니다.\n",
      "입금하신 금액은 200000원 , 잔액은 700000원 입니다.\n",
      "계좌번호는 123-1234-123456789 이고 , 잔액은 700000원 , 이자율은 0.02% 입니다.\n",
      "출금하신 금액은 600000원 , 잔액은 100000원 입니다.\n",
      "계좌번호는 123-1234-123456789 이고 , 잔액은 100000원 , 이자율은 0.02% 입니다.\n",
      "\n",
      "현재 잔액의 이자를 포함한 금액 확인 - \n",
      "현재 잔액은 100000.00 원 이고 이자 합산 잔액은 102000.00 원입니다.\n"
     ]
    }
   ],
   "source": [
    "print('caller - ' )\n",
    "acc = account('123-1234-123456789', 500000 , 0.02)\n",
    "acc.account_info()\n",
    "acc.with_draw(600000)\n",
    "acc.deposit(200000)\n",
    "acc.account_info()\n",
    "acc.with_draw(600000)\n",
    "acc.account_info()\n",
    "print()\n",
    "print('현재 잔액의 이자를 포함한 금액 확인 - ')\n",
    "acc.print_interest_rate()"
   ]
  },
  {
   "cell_type": "code",
   "execution_count": null,
   "id": "7a1ad14b",
   "metadata": {},
   "outputs": [],
   "source": [
    " def with_draw(self) :\n",
    "    def deposit(self) :\n",
    "    def print_interest_rate(self) :"
   ]
  },
  {
   "cell_type": "code",
   "execution_count": 157,
   "id": "13a911d7",
   "metadata": {},
   "outputs": [
    {
     "name": "stdout",
     "output_type": "stream",
     "text": [
      "계좌번호 , 금액 , 이자율이 입력되었습니다.\n",
      "계좌번호는 123-1234-123456789 이고 , 잔액은 500000원 , 이자율은 0.02% 입니다.\n",
      "출금하신 금액은 60000원 , 잔액은 440000원 입니다.\n",
      "입금하신 금액은 200000원 , 잔액은 640000원 입니다.\n",
      "출금하신 금액은 60000원 , 잔액은 580000원 입니다.\n",
      "현재 잔액은 580000.00 원 이고 이자 합산 잔액은 591600.00 원입니다.\n"
     ]
    }
   ],
   "source": [
    "acc = account('123-1234-123456789', 500000 , 0.02)\n",
    "acc.account_info()\n",
    "acc.with_draw(60000)\n",
    "acc.deposit(200000)\n",
    "acc.with_draw(60000)\n",
    "acc.print_interest_rate()"
   ]
  },
  {
   "cell_type": "markdown",
   "id": "400c1499",
   "metadata": {},
   "source": [
    "####  은닉화(encapsulation)\n",
    "- information hidding(정보은닉)\n",
    "- private , public"
   ]
  },
  {
   "cell_type": "code",
   "execution_count": 179,
   "id": "a5549ce7",
   "metadata": {},
   "outputs": [],
   "source": [
    "# 모든 clss는 최상위 class를 상속받게 되어있다.\n",
    "# 최상위 class = object\n",
    "class userDate(object) :\n",
    "    def __init__(self, year) :\n",
    "        self.year = year\n",
    "\n",
    "#     def setYear(self , year) :\n",
    "#         pass\n",
    "#     def getYear(self) :\n",
    "#         return self.year\n"
   ]
  },
  {
   "cell_type": "code",
   "execution_count": 180,
   "id": "84e05104",
   "metadata": {},
   "outputs": [
    {
     "name": "stdout",
     "output_type": "stream",
     "text": [
      "2022\n",
      "-2022\n"
     ]
    }
   ],
   "source": [
    "obj = userDate(2022)\n",
    "\n",
    "print(obj.year)\n",
    "obj.year = -2022\n",
    "print(obj.year)\n",
    "\n",
    "# 값이 변할 수 있으므로 정보은닉을 사용해야만 한다.\n"
   ]
  },
  {
   "cell_type": "code",
   "execution_count": 201,
   "id": "9c91a6b9",
   "metadata": {},
   "outputs": [],
   "source": [
    "# 모든 clss는 최상위 class를 상속받게 되어있다.\n",
    "# 최상위 class = object\n",
    "class userDate(object) :\n",
    "    def setYear(self , year) :\n",
    "        self.__year = year\n",
    "        if year < 0 :\n",
    "            self.__year = 2022\n",
    "        else :\n",
    "            self.__year = year\n",
    "        \n",
    "    def getYear(self) :\n",
    "         return self.year\n"
   ]
  },
  {
   "cell_type": "code",
   "execution_count": 202,
   "id": "ac3d7540",
   "metadata": {},
   "outputs": [
    {
     "name": "stdout",
     "output_type": "stream",
     "text": [
      "year -  -2022\n"
     ]
    }
   ],
   "source": [
    "obj = userDate()\n",
    "obj.year = -2022\n",
    "print('year - ' , obj.getYear())"
   ]
  },
  {
   "cell_type": "markdown",
   "id": "594792af",
   "metadata": {},
   "source": [
    "- 상속 (inheritance)\n",
    "- is a ~ 관계가 되어야함\n",
    "- 부모는 추상적으로 범위가 넓어져야한다.\n",
    "- 반대는 구체적으로 좁혀져야한다.\n"
   ]
  },
  {
   "cell_type": "code",
   "execution_count": 216,
   "id": "3128f293",
   "metadata": {},
   "outputs": [],
   "source": [
    "class user_super(object) :\n",
    "    def super_sayEcho(self , name) :\n",
    "        print('>>> super ' , name + '님 안녕하세요~~')\n",
    "class user_sub(user_super) :\n",
    "    pass\n",
    "    "
   ]
  },
  {
   "cell_type": "code",
   "execution_count": 217,
   "id": "05685490",
   "metadata": {},
   "outputs": [
    {
     "name": "stdout",
     "output_type": "stream",
     "text": [
      ">>> super  jslim님 안녕하세요~~\n"
     ]
    }
   ],
   "source": [
    "obj = user_sub()\n",
    "obj.super_sayEcho('jslim')"
   ]
  },
  {
   "cell_type": "code",
   "execution_count": 228,
   "id": "2fdfcbb1",
   "metadata": {},
   "outputs": [],
   "source": [
    "class person_vo(object) :\n",
    "    def __init__(self, name , age , address) :\n",
    "        self.name = name\n",
    "        self.age  = age\n",
    "        self.address = address \n",
    "    def person_info(self) :\n",
    "        return self.name + '\\t' + str(self.age) + '\\t' + self.address\n",
    "\n",
    "class student_vo(person_vo) :\n",
    "    def __init__(self , name , age , address , ssn) :\n",
    "        super().__init__(name , age , address)\n",
    "        self.ssn = ssn\n",
    "    def student_info(self) :\n",
    "        return super().person_info() + '\\t' + self.ssn\n",
    "\n",
    "class teacher_vo(person_vo) :\n",
    "    def __init__(self , name , age , address , subject) :\n",
    "        super().__init__(name , age , address)\n",
    "        self.subject = subject\n",
    "    def teacher_info(self) :\n",
    "        return super().person_info() + '\\t' + self.subject"
   ]
  },
  {
   "cell_type": "code",
   "execution_count": 231,
   "id": "a1f06a90",
   "metadata": {},
   "outputs": [
    {
     "name": "stdout",
     "output_type": "stream",
     "text": [
      "최진형\t24\t용인\t2016\n",
      "최진형\t24\t용인\t2016\n"
     ]
    }
   ],
   "source": [
    "\n",
    "stu01 = student_vo('최진형' , 24 , '용인' , '2016')\n",
    "print(stu01.student_info())\n",
    "\n",
    "tea01 = teacher_vo('최진형' , 24 , '용인' , '2016')\n",
    "print(tea01.teacher_info())"
   ]
  },
  {
   "cell_type": "code",
   "execution_count": null,
   "id": "f98fdbfe",
   "metadata": {},
   "outputs": [],
   "source": []
  },
  {
   "cell_type": "code",
   "execution_count": null,
   "id": "dc4efb99",
   "metadata": {},
   "outputs": [],
   "source": []
  },
  {
   "cell_type": "code",
   "execution_count": null,
   "id": "9cb9bf0e",
   "metadata": {},
   "outputs": [],
   "source": []
  },
  {
   "cell_type": "code",
   "execution_count": null,
   "id": "f5061970",
   "metadata": {},
   "outputs": [],
   "source": []
  },
  {
   "cell_type": "code",
   "execution_count": null,
   "id": "c940550b",
   "metadata": {},
   "outputs": [],
   "source": []
  },
  {
   "cell_type": "code",
   "execution_count": null,
   "id": "4c491d33",
   "metadata": {},
   "outputs": [],
   "source": []
  },
  {
   "cell_type": "code",
   "execution_count": null,
   "id": "25e22188",
   "metadata": {},
   "outputs": [],
   "source": []
  },
  {
   "cell_type": "code",
   "execution_count": null,
   "id": "8cfb8d44",
   "metadata": {},
   "outputs": [],
   "source": []
  },
  {
   "cell_type": "code",
   "execution_count": null,
   "id": "2e478eeb",
   "metadata": {},
   "outputs": [],
   "source": []
  }
 ],
 "metadata": {
  "kernelspec": {
   "display_name": "Python 3 (ipykernel)",
   "language": "python",
   "name": "python3"
  },
  "language_info": {
   "codemirror_mode": {
    "name": "ipython",
    "version": 3
   },
   "file_extension": ".py",
   "mimetype": "text/x-python",
   "name": "python",
   "nbconvert_exporter": "python",
   "pygments_lexer": "ipython3",
   "version": "3.9.12"
  }
 },
 "nbformat": 4,
 "nbformat_minor": 5
}
