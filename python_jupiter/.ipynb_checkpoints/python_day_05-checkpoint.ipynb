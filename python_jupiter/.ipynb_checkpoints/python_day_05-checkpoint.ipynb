{
 "cells": [
  {
   "cell_type": "markdown",
   "id": "a04a7703",
   "metadata": {},
   "source": [
    "#### 함수 function-method(oop)\n",
    "- 전처리를 위해"
   ]
  },
  {
   "cell_type": "code",
   "execution_count": 15,
   "id": "62740e22",
   "metadata": {},
   "outputs": [
    {
     "name": "stdout",
     "output_type": "stream",
     "text": [
      "누적 값 확인 -  25\n"
     ]
    }
   ],
   "source": [
    "data = [1,3,5,7,9]\n",
    "tot = 0\n",
    "for var in data:\n",
    "    tot += var\n",
    "print('누적 값 확인 - ' , tot)"
   ]
  },
  {
   "cell_type": "code",
   "execution_count": 26,
   "id": "792c84fa",
   "metadata": {},
   "outputs": [
    {
     "data": {
      "text/plain": [
       "25"
      ]
     },
     "execution_count": 26,
     "metadata": {},
     "output_type": "execute_result"
    }
   ],
   "source": [
    "def total_calc(lst) :\n",
    "    total = 0\n",
    "    for val in lst:\n",
    "        total += val\n",
    "    return total\n",
    "\n",
    "\n",
    "total_calc(data)"
   ]
  },
  {
   "cell_type": "code",
   "execution_count": 21,
   "id": "6e87e4a1",
   "metadata": {},
   "outputs": [
    {
     "name": "stdout",
     "output_type": "stream",
     "text": [
      "정의된 함수를 호출 -  25\n",
      "\n"
     ]
    }
   ],
   "source": [
    "print('정의된 함수를 호출 - ' , total_calc(data))\n",
    "print()"
   ]
  },
  {
   "cell_type": "code",
   "execution_count": 29,
   "id": "f41fbe81",
   "metadata": {},
   "outputs": [],
   "source": [
    "def user_sum(x,y) :\n",
    "    return x+y"
   ]
  },
  {
   "cell_type": "markdown",
   "id": "f48fd355",
   "metadata": {},
   "source": [
    "## .ipynb 파일을 읽어들이고 from 으로 해당 파일명 불러오기 import로 해당 파일의 함수를 불러올 수 있다."
   ]
  },
  {
   "cell_type": "code",
   "execution_count": 31,
   "id": "f0fee781",
   "metadata": {},
   "outputs": [],
   "source": [
    "# pip install import_ipynb \n",
    "\n",
    "# import import_ipynb\n",
    "# from python_note import user_module\n"
   ]
  },
  {
   "cell_type": "markdown",
   "id": "0554a2f7",
   "metadata": {},
   "source": [
    "## 함수는 보통 외부에서 파일을 불러온다."
   ]
  },
  {
   "cell_type": "markdown",
   "id": "8d3fa840",
   "metadata": {},
   "source": [
    "## - 함수의 유형"
   ]
  },
  {
   "cell_type": "code",
   "execution_count": 39,
   "id": "66d20993",
   "metadata": {},
   "outputs": [],
   "source": [
    "def printGreeting01() :\n",
    "    print('이제 함수를 살펴보겠습니다. 유형 1 - 인자 X , 리턴 X')"
   ]
  },
  {
   "cell_type": "code",
   "execution_count": 40,
   "id": "166d0f72",
   "metadata": {},
   "outputs": [
    {
     "name": "stdout",
     "output_type": "stream",
     "text": [
      "이제 함수를 살펴보겠습니다. 유형 1 - 인자 X , 리턴 X\n"
     ]
    }
   ],
   "source": [
    "printGreeting01()"
   ]
  },
  {
   "cell_type": "code",
   "execution_count": 41,
   "id": "ad46ad4e",
   "metadata": {},
   "outputs": [],
   "source": [
    "def printGreeting02(msg) :\n",
    "    print('유형 2 - 인자 O 리턴 X')"
   ]
  },
  {
   "cell_type": "code",
   "execution_count": 45,
   "id": "8a38bdde",
   "metadata": {},
   "outputs": [
    {
     "name": "stdout",
     "output_type": "stream",
     "text": [
      "유형 2 - 인자 O 리턴 X\n",
      "유형 2 - 인자 O 리턴 X\n"
     ]
    }
   ],
   "source": [
    "printGreeting02('asd')\n",
    "printGreeting02(1)"
   ]
  },
  {
   "cell_type": "code",
   "execution_count": 49,
   "id": "f2a4ad19",
   "metadata": {},
   "outputs": [],
   "source": [
    "def printGreeting03() :\n",
    "    print('유형 3 - 인자 X  , 리턴 O')\n",
    "    return (1,2)"
   ]
  },
  {
   "cell_type": "code",
   "execution_count": 51,
   "id": "205f97e8",
   "metadata": {},
   "outputs": [
    {
     "name": "stdout",
     "output_type": "stream",
     "text": [
      "유형 3 - 인자 X  , 리턴 O\n"
     ]
    },
    {
     "data": {
      "text/plain": [
       "(1, 2)"
      ]
     },
     "execution_count": 51,
     "metadata": {},
     "output_type": "execute_result"
    }
   ],
   "source": [
    "printGreeting03()"
   ]
  },
  {
   "cell_type": "code",
   "execution_count": 55,
   "id": "214f688a",
   "metadata": {},
   "outputs": [
    {
     "name": "stdout",
     "output_type": "stream",
     "text": [
      "유형 3 - 인자 X  , 리턴 O\n",
      "1 2\n"
     ]
    }
   ],
   "source": [
    "# unpacking\n",
    "\n",
    "x, y = printGreeting03()\n",
    "print(x,y)"
   ]
  },
  {
   "cell_type": "code",
   "execution_count": 67,
   "id": "22c87f59",
   "metadata": {},
   "outputs": [],
   "source": [
    "# 인자로 들어온 값의 범위에서 홀수의 합 , 짝수의 합을 리턴\n",
    "\n",
    "def printGreeting04(start : int , end : int):\n",
    "    print('유형 4 - 인자 O , 리턴 O')\n",
    "    odd_sum = even_sum = 0\n",
    "    for val in range(start , end+1) :\n",
    "        if val % 2 == 0 :\n",
    "            even_sum += val\n",
    "        else :\n",
    "            odd_sum += val\n",
    "    \n",
    "    return odd_sum , even_sum"
   ]
  },
  {
   "cell_type": "code",
   "execution_count": 73,
   "id": "ddd4e3bf",
   "metadata": {},
   "outputs": [
    {
     "name": "stdout",
     "output_type": "stream",
     "text": [
      "유형 4 - 인자 O , 리턴 O\n",
      "짝수의 합 :  25\n",
      "홀수의 합 :  30\n"
     ]
    }
   ],
   "source": [
    "even , odd = printGreeting04(1, 10)\n",
    "\n",
    "print(\"짝수의 합 : \" , even)\n",
    "print(\"홀수의 합 : \" , odd)\n",
    "\n"
   ]
  },
  {
   "cell_type": "code",
   "execution_count": 80,
   "id": "a4e26711",
   "metadata": {},
   "outputs": [],
   "source": [
    "def make_email(email : str) :\n",
    "    full_email = 'www.{}.com'.format(email)\n",
    "    return full_email\n",
    "\n",
    "def make_url(email : str) :\n",
    "    return 'www.' + email + '.com'"
   ]
  },
  {
   "cell_type": "code",
   "execution_count": 81,
   "id": "a65cc81a",
   "metadata": {},
   "outputs": [
    {
     "data": {
      "text/plain": [
       "'www.naver.com'"
      ]
     },
     "execution_count": 81,
     "metadata": {},
     "output_type": "execute_result"
    }
   ],
   "source": [
    "make_email('naver')\n",
    "make_url('naver')"
   ]
  },
  {
   "cell_type": "code",
   "execution_count": 95,
   "id": "2255cb18",
   "metadata": {},
   "outputs": [],
   "source": [
    "urls = ['naver' , 'google' , 'samsung' , 'lg' , 'sk' , 'multicampus' , 'abcdef']\n",
    "\n",
    "def makeUrl(email : list) :\n",
    "    for val in range(len(urls)) :\n",
    "        email[val] = 'www.{}.com'.format(email[val])\n",
    "    return email"
   ]
  },
  {
   "cell_type": "code",
   "execution_count": 96,
   "id": "9b60151a",
   "metadata": {},
   "outputs": [],
   "source": [
    "urls = ['naver' , 'google' , 'samsung' , 'lg' , 'sk' , 'multicampus' , 'abcdef']\n",
    "\n",
    "def makeUrl(email : list) :\n",
    "    result = ['www.' + url + '.com' for url in email]\n",
    "    return result"
   ]
  },
  {
   "cell_type": "code",
   "execution_count": 87,
   "id": "edb6da59",
   "metadata": {},
   "outputs": [
    {
     "data": {
      "text/plain": [
       "'google'"
      ]
     },
     "execution_count": 87,
     "metadata": {},
     "output_type": "execute_result"
    }
   ],
   "source": [
    "urls = ['naver' , 'google' , 'samsung' , 'lg' , 'sk' , 'multicampus']\n",
    "range(len(urls)-1)\n",
    "urls[1]\n"
   ]
  },
  {
   "cell_type": "code",
   "execution_count": 93,
   "id": "3648f697",
   "metadata": {},
   "outputs": [
    {
     "data": {
      "text/plain": [
       "['www.naver.com',\n",
       " 'www.google.com',\n",
       " 'www.samsung.com',\n",
       " 'www.lg.com',\n",
       " 'www.sk.com',\n",
       " 'www.multicampus.com',\n",
       " 'www.abcdef.com']"
      ]
     },
     "execution_count": 93,
     "metadata": {},
     "output_type": "execute_result"
    }
   ],
   "source": [
    "makeUrl(urls)"
   ]
  },
  {
   "cell_type": "code",
   "execution_count": 114,
   "id": "681a8e9b",
   "metadata": {},
   "outputs": [],
   "source": [
    "def return_even(lst : list) :\n",
    "    result = [num for num in lst if num % 2 == 0]\n",
    "    return result \n",
    "    "
   ]
  },
  {
   "cell_type": "code",
   "execution_count": 116,
   "id": "fbc04c69",
   "metadata": {},
   "outputs": [
    {
     "data": {
      "text/plain": [
       "[2, 4, 6]"
      ]
     },
     "execution_count": 116,
     "metadata": {},
     "output_type": "execute_result"
    }
   ],
   "source": [
    "abc = [1,2,3,4,5,6]\n",
    "return_even(abc)"
   ]
  },
  {
   "cell_type": "code",
   "execution_count": 133,
   "id": "afc80eb5",
   "metadata": {},
   "outputs": [
    {
     "name": "stdout",
     "output_type": "stream",
     "text": [
      "최진형님은 은색 색을 좋아합니다.\n"
     ]
    }
   ],
   "source": [
    "''' flag T = 선호 flag F =  비선호 flag는 보통 boolean 형 선언시 사용'''\n",
    "def favorate_color(name : str , color : str , flag : bool) :\n",
    "    if flag  :\n",
    "        print(\"{}님은 {} 색을 좋아합니다.\" .format(name, color))\n",
    "    else :\n",
    "        print(\"{}님은 {} 색을 싫어합니다.\" .format(name, color))\n",
    "\n",
    "favorate_color('최진형' , '은색' , True)"
   ]
  },
  {
   "cell_type": "code",
   "execution_count": null,
   "id": "911aecc9",
   "metadata": {},
   "outputs": [],
   "source": [
    "''' flag T = 선호 flag F =  비선호 flag는 보통 boolean 형 선언시 사용'''\n",
    "def favorate_color(name : str , color : str , flag : bool) :\n",
    "    if flag :\n",
    "        print( name + \" 님은 \" + color + \"을 좋아합니다.\" )\n",
    "    else :\n",
    "        print( name + \" 님은 \" + color + \"을 싫어합니다.\" )\n",
    "\n",
    "favorate_color('최진형' , '은색' , True)"
   ]
  },
  {
   "cell_type": "code",
   "execution_count": 155,
   "id": "7d60ad87",
   "metadata": {},
   "outputs": [],
   "source": [
    "user_info_dict = [{'name' : '섭섭해' , 'color' : '빨강' , 'flag' : False} ,\n",
    "                  {'name' : '두나' , 'color' : '주황' , 'flag' : True} ,\n",
    "                  {'name' : '세나' , 'color' : '노랑' , 'flag' : True} ]"
   ]
  },
  {
   "cell_type": "code",
   "execution_count": 171,
   "id": "2b7df6c1",
   "metadata": {},
   "outputs": [],
   "source": [
    "def favorate_color_list(lst : list) :\n",
    "    for val in range(len(lst)) :\n",
    "        if lst[val]['flag'] :\n",
    "            print(\"{}님은 {}색을 좋아합니다.\" .format(lst[val]['name'], lst[val]['color']))\n",
    "        else :\n",
    "            print(\"{}님은 {}색을 싫어합니다.\" .format(lst[val]['name'], lst[val]['color']))\n",
    "\n",
    "        \n",
    "    \n",
    "             \n",
    "                  "
   ]
  },
  {
   "cell_type": "code",
   "execution_count": 172,
   "id": "e41762a3",
   "metadata": {},
   "outputs": [
    {
     "name": "stdout",
     "output_type": "stream",
     "text": [
      "섭섭해님은 빨강색을 싫어합니다.\n",
      "두나님은 주황색을 좋아합니다.\n",
      "세나님은 노랑색을 좋아합니다.\n"
     ]
    }
   ],
   "source": [
    "favorate_color_list(user_info_dict)"
   ]
  },
  {
   "cell_type": "raw",
   "id": "0abd2e24",
   "metadata": {},
   "source": [
    "### * 인자를 튜플로 받을 때 사용 \n",
    "- 인자를 불특정 다수를 받아야할 때 유용|"
   ]
  },
  {
   "cell_type": "code",
   "execution_count": 2,
   "id": "ed56818f",
   "metadata": {},
   "outputs": [
    {
     "name": "stdout",
     "output_type": "stream",
     "text": [
      "* 튜플을 인자로 받는 것을 의미한다. - \n",
      "sum -  100\n",
      "1 과목의 평균은 : 100.000000\n",
      "sum -  254\n",
      "3 과목의 평균은 : 84.666667\n"
     ]
    }
   ],
   "source": [
    "print('* 튜플을 인자로 받는 것을 의미한다. - ')\n",
    "def average(*scores) :\n",
    "    sum = 0\n",
    "    for idx in range(len(scores)) :\n",
    "        sum += scores[idx]\n",
    "    print('sum - ' , sum)\n",
    "    avg = sum / len(scores)\n",
    "    print('%d 과목의 평균은 : %f' % (len(scores) , avg))\n",
    "average(100)\n",
    "average(100 , 80 , 74)"
   ]
  },
  {
   "cell_type": "code",
   "execution_count": null,
   "id": "ee61b13a",
   "metadata": {},
   "outputs": [],
   "source": []
  },
  {
   "cell_type": "code",
   "execution_count": null,
   "id": "7f89e7e4",
   "metadata": {},
   "outputs": [],
   "source": []
  },
  {
   "cell_type": "code",
   "execution_count": null,
   "id": "f3bf7f9e",
   "metadata": {},
   "outputs": [],
   "source": []
  },
  {
   "cell_type": "code",
   "execution_count": null,
   "id": "f7757e01",
   "metadata": {},
   "outputs": [],
   "source": []
  },
  {
   "cell_type": "code",
   "execution_count": null,
   "id": "562ba7f1",
   "metadata": {},
   "outputs": [],
   "source": []
  },
  {
   "cell_type": "code",
   "execution_count": null,
   "id": "0899fcea",
   "metadata": {},
   "outputs": [],
   "source": []
  }
 ],
 "metadata": {
  "kernelspec": {
   "display_name": "Python 3 (ipykernel)",
   "language": "python",
   "name": "python3"
  },
  "language_info": {
   "codemirror_mode": {
    "name": "ipython",
    "version": 3
   },
   "file_extension": ".py",
   "mimetype": "text/x-python",
   "name": "python",
   "nbconvert_exporter": "python",
   "pygments_lexer": "ipython3",
   "version": "3.9.12"
  }
 },
 "nbformat": 4,
 "nbformat_minor": 5
}
