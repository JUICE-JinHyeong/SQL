{
 "cells": [
  {
   "cell_type": "code",
   "execution_count": 1,
   "id": "0e8b23b1",
   "metadata": {},
   "outputs": [],
   "source": [
    "class person_vo(object) :\n",
    "    def __init__(self, name , age , address) :\n",
    "        self.name = name\n",
    "        self.age  = age\n",
    "        self.address = address \n",
    "    def person_info(self) :\n",
    "        return self.name + '\\t' + str(self.age) + '\\t' + self.address\n",
    "\n",
    "class student_vo(person_vo) :\n",
    "    def __init__(self , name , age , address , ssn) :\n",
    "        super().__init__(name , age , address)\n",
    "        self.ssn = ssn\n",
    "    def student_info(self) :\n",
    "        return super().person_info() + '\\t' + self.ssn\n",
    "\n",
    "class teacher_vo(person_vo) :\n",
    "    def __init__(self , name , age , address , subject) :\n",
    "        super().__init__(name , age , address)\n",
    "        self.subject = subject\n",
    "    def teacher_info(self) :\n",
    "        return super().person_info() + '\\t' + self.subject"
   ]
  },
  {
   "cell_type": "markdown",
   "id": "6adf3cf8",
   "metadata": {},
   "source": [
    "class character(object) :\n",
    "    name , level, job \n",
    "class status(character) :\n",
    "    hp , mp , sp , strs , ints , exp\n",
    "    매턴마다 name level hp mp sp 비율 표시\n",
    "    status_load 입력시 전체 스탯 창 표시\n",
    "    hp = 0 die\n",
    "class skill(status)  :\n",
    "    skill 목록 보기 \n",
    "    attack 명령시 기본 공격 use sp 5\n",
    "    strike level 5 upper , strs 10 upper use sp 10\n",
    "    fireball level 7 upper , ints 10 upper use mp 10\n",
    "class level_up(status) :\n",
    "    exp = 100 level up\n",
    "    status 분배 hp,mp,sp 10 up \n",
    "    skill point\n",
    "    point 2 give and choose strs, ints\n",
    "    스탯 보기(hp , mp , sp , strs , ints)"
   ]
  },
  {
   "cell_type": "code",
   "execution_count": 46,
   "id": "f8f5ee32",
   "metadata": {},
   "outputs": [],
   "source": [
    "class character(object) :\n",
    "    def __init__(self , name , level , job) :\n",
    "        self.name  = name\n",
    "        self.level = level\n",
    "        self.job   = job\n",
    "        self.hp   = 100\n",
    "        self.mp   = 50\n",
    "        self.sp   = 50\n",
    "    \n",
    "    def status(self) :\n",
    "        self.strs = 5\n",
    "        self.ints = 5\n",
    "        self.exp  = 0\n",
    "        print(' 이름 [{}] \\n 레벨 [{}] \\n 직업 [{}] \\n HP [{}] \\n MP [{}] \\n SP [{}] \\n'.format(self.name , self.level , self.job , self.hp , self.mp , self.sp))\n",
    "        return self.strs , self.ints , self.exp\n",
    "    \n",
    "    def skill(self , order : str) :\n",
    "        if order == 'attack' :\n",
    "            if self.sp >= 5 :\n",
    "                print('기본 공격! 데미지 5')\n",
    "                self.sp -= 5\n",
    "            else :\n",
    "                print('sp가 부족합니다.')\n",
    "        elif order == 'strike' :\n",
    "            if self.sp >= 10 :\n",
    "                print('휘두르기 공격! 데미지 10')\n",
    "                self.sp -= 10\n",
    "            else :\n",
    "                print('sp가 부족합니다.')\n",
    "        elif order == 'fireball' :\n",
    "            if self.mp >= 10 :\n",
    "                print('화염구 공격! 데미지 15' , self.mp)\n",
    "                self.mp -= 10\n",
    "                print(status())\n",
    "            else :\n",
    "                print('mp가 부족합니다.')          \n",
    "        else :\n",
    "            print('올바른 명령어를 입력하세요')\n",
    "    \n",
    "    \n",
    "    "
   ]
  },
  {
   "cell_type": "code",
   "execution_count": 47,
   "id": "e133f824",
   "metadata": {},
   "outputs": [
    {
     "name": "stdout",
     "output_type": "stream",
     "text": [
      "화염구 공격! 데미지 15 50\n"
     ]
    },
    {
     "ename": "TypeError",
     "evalue": "__init__() missing 5 required positional arguments: 'name', 'level', 'job', 'hp', and 'mp'",
     "output_type": "error",
     "traceback": [
      "\u001b[1;31m---------------------------------------------------------------------------\u001b[0m",
      "\u001b[1;31mTypeError\u001b[0m                                 Traceback (most recent call last)",
      "Input \u001b[1;32mIn [47]\u001b[0m, in \u001b[0;36m<cell line: 2>\u001b[1;34m()\u001b[0m\n\u001b[0;32m      1\u001b[0m kevin \u001b[38;5;241m=\u001b[39m character(\u001b[38;5;124m'\u001b[39m\u001b[38;5;124mname\u001b[39m\u001b[38;5;124m'\u001b[39m , \u001b[38;5;241m1\u001b[39m , \u001b[38;5;124m'\u001b[39m\u001b[38;5;124mjob\u001b[39m\u001b[38;5;124m'\u001b[39m)\n\u001b[1;32m----> 2\u001b[0m \u001b[43mkevin\u001b[49m\u001b[38;5;241;43m.\u001b[39;49m\u001b[43mskill\u001b[49m\u001b[43m(\u001b[49m\u001b[38;5;124;43m'\u001b[39;49m\u001b[38;5;124;43mfireball\u001b[39;49m\u001b[38;5;124;43m'\u001b[39;49m\u001b[43m)\u001b[49m\n\u001b[0;32m      3\u001b[0m kevin\u001b[38;5;241m.\u001b[39mskill(\u001b[38;5;124m'\u001b[39m\u001b[38;5;124mfireball\u001b[39m\u001b[38;5;124m'\u001b[39m)\n\u001b[0;32m      4\u001b[0m kevin\u001b[38;5;241m.\u001b[39mskill(\u001b[38;5;124m'\u001b[39m\u001b[38;5;124mfireball\u001b[39m\u001b[38;5;124m'\u001b[39m)\n",
      "Input \u001b[1;32mIn [46]\u001b[0m, in \u001b[0;36mcharacter.skill\u001b[1;34m(self, order)\u001b[0m\n\u001b[0;32m     32\u001b[0m     \u001b[38;5;28mprint\u001b[39m(\u001b[38;5;124m'\u001b[39m\u001b[38;5;124m화염구 공격! 데미지 15\u001b[39m\u001b[38;5;124m'\u001b[39m , \u001b[38;5;28mself\u001b[39m\u001b[38;5;241m.\u001b[39mmp)\n\u001b[0;32m     33\u001b[0m     \u001b[38;5;28mself\u001b[39m\u001b[38;5;241m.\u001b[39mmp \u001b[38;5;241m-\u001b[39m\u001b[38;5;241m=\u001b[39m \u001b[38;5;241m10\u001b[39m\n\u001b[1;32m---> 34\u001b[0m     \u001b[38;5;28mprint\u001b[39m(\u001b[43mstatus\u001b[49m\u001b[43m(\u001b[49m\u001b[43m)\u001b[49m)\n\u001b[0;32m     35\u001b[0m \u001b[38;5;28;01melse\u001b[39;00m :\n\u001b[0;32m     36\u001b[0m     \u001b[38;5;28mprint\u001b[39m(\u001b[38;5;124m'\u001b[39m\u001b[38;5;124mmp가 부족합니다.\u001b[39m\u001b[38;5;124m'\u001b[39m)          \n",
      "\u001b[1;31mTypeError\u001b[0m: __init__() missing 5 required positional arguments: 'name', 'level', 'job', 'hp', and 'mp'"
     ]
    }
   ],
   "source": [
    "kevin = character('name' , 1 , 'job')\n",
    "kevin.skill('fireball')\n",
    "kevin.skill('fireball')\n",
    "kevin.skill('fireball')\n",
    "kevin.skill('fireball')\n",
    "kevin.status()"
   ]
  },
  {
   "cell_type": "code",
   "execution_count": 44,
   "id": "ca984006",
   "metadata": {},
   "outputs": [
    {
     "data": {
      "text/plain": [
       "7"
      ]
     },
     "execution_count": 44,
     "metadata": {},
     "output_type": "execute_result"
    }
   ],
   "source": [
    "abc = 4\n",
    "abc += 3\n",
    "abc"
   ]
  },
  {
   "cell_type": "code",
   "execution_count": null,
   "id": "43f1f32f",
   "metadata": {},
   "outputs": [],
   "source": []
  },
  {
   "cell_type": "code",
   "execution_count": null,
   "id": "43489b9e",
   "metadata": {},
   "outputs": [],
   "source": []
  }
 ],
 "metadata": {
  "kernelspec": {
   "display_name": "Python 3 (ipykernel)",
   "language": "python",
   "name": "python3"
  },
  "language_info": {
   "codemirror_mode": {
    "name": "ipython",
    "version": 3
   },
   "file_extension": ".py",
   "mimetype": "text/x-python",
   "name": "python",
   "nbconvert_exporter": "python",
   "pygments_lexer": "ipython3",
   "version": "3.9.12"
  }
 },
 "nbformat": 4,
 "nbformat_minor": 5
}
