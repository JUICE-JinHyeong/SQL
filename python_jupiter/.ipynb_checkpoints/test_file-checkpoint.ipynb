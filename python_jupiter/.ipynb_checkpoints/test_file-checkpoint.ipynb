{
 "cells": [
  {
   "cell_type": "code",
   "execution_count": 1,
   "id": "0e8b23b1",
   "metadata": {},
   "outputs": [],
   "source": [
    "class person_vo(object) :\n",
    "    def __init__(self, name , age , address) :\n",
    "        self.name = name\n",
    "        self.age  = age\n",
    "        self.address = address \n",
    "    def person_info(self) :\n",
    "        return self.name + '\\t' + str(self.age) + '\\t' + self.address\n",
    "\n",
    "class student_vo(person_vo) :\n",
    "    def __init__(self , name , age , address , ssn) :\n",
    "        super().__init__(name , age , address)\n",
    "        self.ssn = ssn\n",
    "    def student_info(self) :\n",
    "        return super().person_info() + '\\t' + self.ssn\n",
    "\n",
    "class teacher_vo(person_vo) :\n",
    "    def __init__(self , name , age , address , subject) :\n",
    "        super().__init__(name , age , address)\n",
    "        self.subject = subject\n",
    "    def teacher_info(self) :\n",
    "        return super().person_info() + '\\t' + self.subject"
   ]
  },
  {
   "cell_type": "markdown",
   "id": "f255bb44",
   "metadata": {},
   "source": [
    "class character(object) :\n",
    "    name , level, job \n",
    "class status(character) :\n",
    "    hp , mp , sp , strs , ints , exp\n",
    "    매턴마다 name level hp mp sp 비율 표시\n",
    "    status_load 입력시 전체 스탯 창 표시\n",
    "    hp = 0 die\n",
    "class skill(status)  :\n",
    "    skill 목록 보기 \n",
    "    attack 명령시 기본 공격 use sp 5\n",
    "    strike level 5 upper , strs 10 upper use sp 10\n",
    "    fireball level 7 upper , ints 10 upper use mp 10\n",
    "class level_up(status) :\n",
    "    exp = 100 level up\n",
    "    status 분배 hp,mp,sp 10 up \n",
    "    skill point\n",
    "    point 2 give and choose strs, ints\n",
    "    스탯 보기(hp , mp , sp , strs , ints)"
   ]
  },
  {
   "cell_type": "code",
   "execution_count": 50,
   "id": "7af4aafd",
   "metadata": {},
   "outputs": [],
   "source": [
    "class character(object) :\n",
    "    def __init__(self , name , level , job) :\n",
    "        self.name  = name\n",
    "        self.level = level\n",
    "        self.job   = job\n",
    "        self.hp   = 100\n",
    "        self.mp   = 50\n",
    "        self.sp   = 50\n",
    "    \n",
    "    def status(self) :\n",
    "        self.strs = 5\n",
    "        self.ints = 5\n",
    "        self.exp  = 0\n",
    "        print(' 이름 [{}] \\n 레벨 [{}] \\n 직업 [{}] \\n HP [{}] \\n MP [{}] \\n SP [{}] \\n'.format(self.name , self.level , self.job , self.hp , self.mp , self.sp))\n",
    "        return self.strs , self.ints , self.exp\n",
    "    \n",
    "    def skill(self , order : str) :\n",
    "        if order == 'attack' :\n",
    "            if self.sp >= 5 :\n",
    "                print('기본 공격! 데미지 5')\n",
    "                self.sp -= 5\n",
    "            else :\n",
    "                print('sp가 부족합니다.')\n",
    "        elif order == 'strike' :\n",
    "            if self.sp >= 10 :\n",
    "                print('휘두르기 공격! 데미지 10')\n",
    "                self.sp -= 10\n",
    "            else :\n",
    "                print('sp가 부족합니다.')\n",
    "        elif order == 'fireball' :\n",
    "            if self.mp >= 10 :\n",
    "                print('화염구 공격! 데미지 15')\n",
    "                self.mp -= 10\n",
    "                print(self.status())\n",
    "            else :\n",
    "                print('mp가 부족합니다.')          \n",
    "        else :\n",
    "            print('올바른 명령어를 입력하세요')\n",
    "    \n",
    "    \n",
    "    "
   ]
  },
  {
   "cell_type": "code",
   "execution_count": 52,
   "id": "e133f824",
   "metadata": {},
   "outputs": [
    {
     "name": "stdout",
     "output_type": "stream",
     "text": [
      "화염구 공격! 데미지 15\n",
      " 이름 [name] \n",
      " 레벨 [1] \n",
      " 직업 [job] \n",
      " HP [100] \n",
      " MP [40] \n",
      " SP [50] \n",
      "\n",
      "(5, 5, 0)\n",
      "화염구 공격! 데미지 15\n",
      " 이름 [name] \n",
      " 레벨 [1] \n",
      " 직업 [job] \n",
      " HP [100] \n",
      " MP [30] \n",
      " SP [50] \n",
      "\n",
      "(5, 5, 0)\n",
      "화염구 공격! 데미지 15\n",
      " 이름 [name] \n",
      " 레벨 [1] \n",
      " 직업 [job] \n",
      " HP [100] \n",
      " MP [20] \n",
      " SP [50] \n",
      "\n",
      "(5, 5, 0)\n",
      "화염구 공격! 데미지 15\n",
      " 이름 [name] \n",
      " 레벨 [1] \n",
      " 직업 [job] \n",
      " HP [100] \n",
      " MP [10] \n",
      " SP [50] \n",
      "\n",
      "(5, 5, 0)\n",
      "화염구 공격! 데미지 15\n",
      " 이름 [name] \n",
      " 레벨 [1] \n",
      " 직업 [job] \n",
      " HP [100] \n",
      " MP [0] \n",
      " SP [50] \n",
      "\n",
      "(5, 5, 0)\n",
      "mp가 부족합니다.\n"
     ]
    }
   ],
   "source": [
    "kevin = character('name' , 1 , 'job')\n",
    "kevin.skill('fireball')\n",
    "kevin.skill('fireball')\n",
    "kevin.skill('fireball')\n",
    "kevin.skill('fireball')\n",
    "kevin.skill('fireball')\n",
    "kevin.skill('fireball')\n"
   ]
  },
  {
   "cell_type": "code",
   "execution_count": 44,
   "id": "ff071fbf",
   "metadata": {},
   "outputs": [
    {
     "data": {
      "text/plain": [
       "7"
      ]
     },
     "execution_count": 44,
     "metadata": {},
     "output_type": "execute_result"
    }
   ],
   "source": [
    "abc = 4\n",
    "abc += 3\n",
    "abc"
   ]
  },
  {
   "cell_type": "code",
   "execution_count": null,
   "id": "3dbbeb5f",
   "metadata": {},
   "outputs": [],
   "source": []
  },
  {
   "cell_type": "code",
   "execution_count": null,
   "id": "46e4aa6f",
   "metadata": {},
   "outputs": [],
   "source": []
  }
 ],
 "metadata": {
  "kernelspec": {
   "display_name": "Python 3 (ipykernel)",
   "language": "python",
   "name": "python3"
  },
  "language_info": {
   "codemirror_mode": {
    "name": "ipython",
    "version": 3
   },
   "file_extension": ".py",
   "mimetype": "text/x-python",
   "name": "python",
   "nbconvert_exporter": "python",
   "pygments_lexer": "ipython3",
   "version": "3.9.12"
  }
 },
 "nbformat": 4,
 "nbformat_minor": 5
}
