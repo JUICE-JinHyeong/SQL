{
 "cells": [
  {
   "cell_type": "markdown",
   "id": "70e84c24",
   "metadata": {},
   "source": [
    "csv, excel , pickle , (decorator , generator)"
   ]
  },
  {
   "cell_type": "code",
   "execution_count": 2,
   "id": "13370370",
   "metadata": {},
   "outputs": [
    {
     "data": {
      "text/plain": [
       "'1.4.2'"
      ]
     },
     "execution_count": 2,
     "metadata": {},
     "output_type": "execute_result"
    }
   ],
   "source": [
    "'''\n",
    "분석시 사용하는 파일은 정형화된 형식의 파일\n",
    "numpy  -> 통계관련 함수 및 배열을 제공하는 라이브러리(인공지능(machine learning , deep learning))\n",
    "pandas -> 데이터가공 \n",
    "conda install pandas\n",
    "'''\n",
    "\n",
    "import pandas as pd\n",
    "\n",
    "pd.__version__"
   ]
  },
  {
   "cell_type": "markdown",
   "id": "9f6804d7",
   "metadata": {},
   "source": [
    "- 시리즈 = 인덱스 + 데이터"
   ]
  },
  {
   "cell_type": "code",
   "execution_count": 6,
   "id": "71ea6fdc",
   "metadata": {},
   "outputs": [
    {
     "name": "stdout",
     "output_type": "stream",
     "text": [
      "series -  <class 'pandas.core.series.Series'>\n",
      "data - \n",
      "0     1\n",
      "1     2\n",
      "2     3\n",
      "3     4\n",
      "4     5\n",
      "5     6\n",
      "6     7\n",
      "7     8\n",
      "8     9\n",
      "9    10\n",
      "dtype: int64\n",
      "\n",
      "index -  RangeIndex(start=0, stop=10, step=1)\n",
      "value -  [ 1  2  3  4  5  6  7  8  9 10] <class 'numpy.ndarray'>\n"
     ]
    }
   ],
   "source": [
    "tmp_series = pd.Series(range(1,11))\n",
    "print('series - ' , type(tmp_series))\n",
    "print('data - ')\n",
    "print(tmp_series)\n",
    "print()\n",
    "print('index - ' , tmp_series.index)\n",
    "print('value - ' , tmp_series.values , type(tmp_series.values))"
   ]
  },
  {
   "cell_type": "markdown",
   "id": "f990e24e",
   "metadata": {},
   "source": [
    "#### 데이터 프레임\n",
    "- 열의 정의가 필요하다(Series)\n",
    "- 열의 이름을 정의할 수 있다.\n",
    "- 열 인덱스, 행 인덱스(R : data.frame 과 비슷하다.)"
   ]
  },
  {
   "cell_type": "code",
   "execution_count": 21,
   "id": "d6b18fbb",
   "metadata": {},
   "outputs": [
    {
     "name": "stdout",
     "output_type": "stream",
     "text": [
      "type -  <class 'pandas.core.frame.DataFrame'>\n",
      "\n",
      "   col01  col02  col03\n",
      "0      1      4      7\n",
      "1      2      5      8\n",
      "2      3      6      9\n",
      "\n",
      "row index -  RangeIndex(start=0, stop=3, step=1)\n",
      "col index -  Index(['col01', 'col02', 'col03'], dtype='object')\n",
      "value     -  [[1 4 7]\n",
      " [2 5 8]\n",
      " [3 6 9]]\n",
      "shape     -  (3, 3)\n",
      "space     -  2\n"
     ]
    }
   ],
   "source": [
    "tmp_data = { 'col01' : [1,2,3] ,\n",
    "             'col02' : [4,5,6] ,\n",
    "             'col03' : [7,8,9] }\n",
    "\n",
    "tmp_frm = pd.DataFrame(tmp_data)\n",
    "print('type - ' , type(tmp_frm))\n",
    "print()\n",
    "print(tmp_frm)\n",
    "# 행 인덱스가 생긴다.\n",
    "\n",
    "print()\n",
    "print('row index - ' , tmp_frm.index)\n",
    "print('col index - ' , tmp_frm.columns)\n",
    "print('value     - ' , tmp_frm.values)\n",
    "print('shape     - ' , tmp_frm.shape)\n",
    "print('space     - ' , tmp_frm.values.ndim)"
   ]
  },
  {
   "cell_type": "code",
   "execution_count": 22,
   "id": "12c4f78f",
   "metadata": {},
   "outputs": [
    {
     "name": "stdout",
     "output_type": "stream",
     "text": [
      "indexing - \n",
      "type -  <class 'pandas.core.series.Series'>\n",
      "data -  0    1\n",
      "1    2\n",
      "2    3\n",
      "Name: col01, dtype: int64\n"
     ]
    }
   ],
   "source": [
    "print('indexing - ')\n",
    "print('type - ' , type(tmp_frm['col01']))\n",
    "print('data - ' , tmp_frm['col01'])"
   ]
  },
  {
   "cell_type": "markdown",
   "id": "cbcd1b97",
   "metadata": {},
   "source": [
    "read_csv() , dtype()"
   ]
  },
  {
   "cell_type": "code",
   "execution_count": 66,
   "id": "0a232ae8",
   "metadata": {},
   "outputs": [],
   "source": [
    "def read_bmi_service(fileName) :\n",
    "    raw_data = None\n",
    "    if print(fileName.split('.')[-1]) == 'csv' :\n",
    "        raw_data = pd.read_csv(fileName , encoding = 'CP949' , header = None)\n",
    "    \n",
    "    return raw_data"
   ]
  },
  {
   "cell_type": "code",
   "execution_count": 67,
   "id": "bcefd44b",
   "metadata": {},
   "outputs": [
    {
     "name": "stdout",
     "output_type": "stream",
     "text": [
      "csv\n"
     ]
    }
   ],
   "source": [
    "bmi_frm = read_bmi_service('C:/Users/a/data/service_bmi.csv')"
   ]
  },
  {
   "cell_type": "code",
   "execution_count": 69,
   "id": "4bd734fd",
   "metadata": {},
   "outputs": [
    {
     "name": "stdout",
     "output_type": "stream",
     "text": [
      "None\n"
     ]
    }
   ],
   "source": [
    "print(bmi_frm)"
   ]
  },
  {
   "cell_type": "code",
   "execution_count": 70,
   "id": "f9ec7ce0",
   "metadata": {},
   "outputs": [
    {
     "name": "stdout",
     "output_type": "stream",
     "text": [
      "열 인덱스 접근\n"
     ]
    },
    {
     "ename": "AttributeError",
     "evalue": "'NoneType' object has no attribute 'height'",
     "output_type": "error",
     "traceback": [
      "\u001b[1;31m---------------------------------------------------------------------------\u001b[0m",
      "\u001b[1;31mAttributeError\u001b[0m                            Traceback (most recent call last)",
      "Input \u001b[1;32mIn [70]\u001b[0m, in \u001b[0;36m<cell line: 2>\u001b[1;34m()\u001b[0m\n\u001b[0;32m      1\u001b[0m \u001b[38;5;28mprint\u001b[39m(\u001b[38;5;124m'\u001b[39m\u001b[38;5;124m열 인덱스 접근\u001b[39m\u001b[38;5;124m'\u001b[39m)\n\u001b[1;32m----> 2\u001b[0m \u001b[43mbmi_frm\u001b[49m\u001b[38;5;241;43m.\u001b[39;49m\u001b[43mheight\u001b[49m\n",
      "\u001b[1;31mAttributeError\u001b[0m: 'NoneType' object has no attribute 'height'"
     ]
    }
   ],
   "source": [
    "print('열 인덱스 접근')\n",
    "bmi_frm.height"
   ]
  },
  {
   "cell_type": "code",
   "execution_count": null,
   "id": "da1036e0",
   "metadata": {},
   "outputs": [],
   "source": []
  },
  {
   "cell_type": "code",
   "execution_count": null,
   "id": "3564a060",
   "metadata": {},
   "outputs": [],
   "source": []
  },
  {
   "cell_type": "code",
   "execution_count": null,
   "id": "3b89fc34",
   "metadata": {},
   "outputs": [],
   "source": []
  },
  {
   "cell_type": "code",
   "execution_count": null,
   "id": "1420fd28",
   "metadata": {},
   "outputs": [],
   "source": []
  },
  {
   "cell_type": "code",
   "execution_count": null,
   "id": "9a0a2451",
   "metadata": {},
   "outputs": [],
   "source": []
  },
  {
   "cell_type": "code",
   "execution_count": null,
   "id": "9ce59618",
   "metadata": {},
   "outputs": [],
   "source": []
  }
 ],
 "metadata": {
  "kernelspec": {
   "display_name": "Python 3 (ipykernel)",
   "language": "python",
   "name": "python3"
  },
  "language_info": {
   "codemirror_mode": {
    "name": "ipython",
    "version": 3
   },
   "file_extension": ".py",
   "mimetype": "text/x-python",
   "name": "python",
   "nbconvert_exporter": "python",
   "pygments_lexer": "ipython3",
   "version": "3.9.12"
  }
 },
 "nbformat": 4,
 "nbformat_minor": 5
}
