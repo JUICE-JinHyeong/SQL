{
 "cells": [
  {
   "cell_type": "markdown",
   "id": "666e782f",
   "metadata": {},
   "source": [
    "#### 반복구문\n",
    "- for ~ in\n",
    "- for ~ else\n",
    "- while\n",
    "- break, continue : 반복으로 사용할 수 있는 키워드"
   ]
  },
  {
   "cell_type": "code",
   "execution_count": 2,
   "id": "ca185993",
   "metadata": {},
   "outputs": [
    {
     "name": "stdout",
     "output_type": "stream",
     "text": [
      "0\t1\t2\t3\t4\t5\t6\t7\t8\t9\t\n",
      "0\t1\t2\t3\t4\t5\t6\t7\t8\t9\t\n",
      "0\t2\t4\t6\t8\t\n"
     ]
    }
   ],
   "source": [
    "# for 변수 in seq collection :\n",
    "#     <loop body>\n",
    "\n",
    "for val in range(10) :\n",
    "    print(val, end = '\\t')\n",
    "\n",
    "print()\n",
    "\n",
    "for val in range(0, 10) :\n",
    "    print(val, end = '\\t')\n",
    "    \n",
    "print()\n",
    "\n",
    "for val in range(0, 10, 2) :\n",
    "    print(val, end = '\\t')\n",
    "    \n",
    "print()\n"
   ]
  },
  {
   "cell_type": "code",
   "execution_count": 3,
   "id": "12d4a5e3",
   "metadata": {},
   "outputs": [
    {
     "name": "stdout",
     "output_type": "stream",
     "text": [
      "성적을 입력하세요 : 100\n",
      "성적을 입력하세요 : 90\n",
      "성적을 입력하세요 : 80\n",
      "성적을 입력하세요 : 70\n",
      "성적을 입력하세요 : 60\n",
      "성적을 입력하세요 : 56\n",
      "성적을 입력하세요 : 57\n",
      "성적을 입력하세요 : 78\n",
      "성적을 입력하세요 : 45\n",
      "성적을 입력하세요 : 77\n"
     ]
    }
   ],
   "source": [
    "scores = []\n",
    "for idx in range(10) :\n",
    "    scores.append(int(input('성적을 입력하세요 : ')))"
   ]
  },
  {
   "cell_type": "code",
   "execution_count": 6,
   "id": "8bf7be31",
   "metadata": {},
   "outputs": [
    {
     "name": "stdout",
     "output_type": "stream",
     "text": [
      "성적을 입력하세요 : 100\n",
      "성적을 입력하세요 : 34\n",
      "성적을 입력하세요 : 45\n",
      "성적을 입력하세요 : 65\n",
      "성적을 입력하세요 : 67\n",
      "성적을 입력하세요 : 56\n",
      "성적을 입력하세요 : 67\n",
      "성적을 입력하세요 : 78\n",
      "성적을 입력하세요 : 67\n",
      "성적을 입력하세요 : 78\n"
     ]
    }
   ],
   "source": [
    "for idx in range(10) :\n",
    "    scores.append(int(input('성적을 입력하세요 : ')))"
   ]
  },
  {
   "cell_type": "code",
   "execution_count": 7,
   "id": "a59fcd24",
   "metadata": {},
   "outputs": [
    {
     "data": {
      "text/plain": [
       "[100,\n",
       " 90,\n",
       " 80,\n",
       " 70,\n",
       " 6,\n",
       " 56,\n",
       " 67,\n",
       " 100,\n",
       " 34,\n",
       " 45,\n",
       " 100,\n",
       " 34,\n",
       " 45,\n",
       " 65,\n",
       " 67,\n",
       " 56,\n",
       " 67,\n",
       " 78,\n",
       " 67,\n",
       " 78]"
      ]
     },
     "execution_count": 7,
     "metadata": {},
     "output_type": "execute_result"
    }
   ],
   "source": [
    "scores"
   ]
  },
  {
   "cell_type": "code",
   "execution_count": 11,
   "id": "8d0bd0fe",
   "metadata": {},
   "outputs": [
    {
     "name": "stdout",
     "output_type": "stream",
     "text": [
      "scores 총합을 구한다면 - 1305\n",
      "\n",
      "scores_sum -  1305\n",
      "scores_avg -  65.25\n"
     ]
    }
   ],
   "source": [
    "print('scores 총합을 구한다면 -', sum(scores))\n",
    "scores_sum = 0 \n",
    "for data in scores :\n",
    "    scores_sum += data\n",
    "#   scores_sum = scores_sum + data\n",
    "\n",
    "print()\n",
    "print('scores_sum - ', scores_sum)\n",
    "print('scores_avg - ', scores_sum / len(scores))"
   ]
  },
  {
   "cell_type": "code",
   "execution_count": 23,
   "id": "6c957464",
   "metadata": {},
   "outputs": [
    {
     "name": "stdout",
     "output_type": "stream",
     "text": [
      "type -  <class 'str'>\n",
      "['__add__', '__class__', '__contains__', '__delattr__', '__dir__', '__doc__', '__eq__', '__format__', '__ge__', '__getattribute__', '__getitem__', '__getnewargs__', '__gt__', '__hash__', '__init__', '__init_subclass__', '__iter__', '__le__', '__len__', '__lt__', '__mod__', '__mul__', '__ne__', '__new__', '__reduce__', '__reduce_ex__', '__repr__', '__rmod__', '__rmul__', '__setattr__', '__sizeof__', '__str__', '__subclasshook__', 'capitalize', 'casefold', 'center', 'count', 'encode', 'endswith', 'expandtabs', 'find', 'format', 'format_map', 'index', 'isalnum', 'isalpha', 'isascii', 'isdecimal', 'isdigit', 'isidentifier', 'islower', 'isnumeric', 'isprintable', 'isspace', 'istitle', 'isupper', 'join', 'ljust', 'lower', 'lstrip', 'maketrans', 'partition', 'removeprefix', 'removesuffix', 'replace', 'rfind', 'rindex', 'rjust', 'rpartition', 'rsplit', 'rstrip', 'split', 'splitlines', 'startswith', 'strip', 'swapcase', 'title', 'translate', 'upper', 'zfill']\n",
      "\n",
      "s e e   y o u   n e x t   t i m e "
     ]
    }
   ],
   "source": [
    "ending_msg = 'see you next time'\n",
    "print('type - ', type(ending_msg))\n",
    "print(dir(ending_msg))             # __iter__ 확인 가능\n",
    "print()\n",
    "\n",
    "for char in ending_msg :\n",
    "    print(char, end = ' ')"
   ]
  },
  {
   "cell_type": "code",
   "execution_count": 22,
   "id": "a6e349f5",
   "metadata": {},
   "outputs": [
    {
     "name": "stdout",
     "output_type": "stream",
     "text": [
      "['__add__', '__class__', '__class_getitem__', '__contains__', '__delattr__', '__dir__', '__doc__', '__eq__', '__format__', '__ge__', '__getattribute__', '__getitem__', '__getnewargs__', '__gt__', '__hash__', '__init__', '__init_subclass__', '__iter__', '__le__', '__len__', '__lt__', '__mul__', '__ne__', '__new__', '__reduce__', '__reduce_ex__', '__repr__', '__rmul__', '__setattr__', '__sizeof__', '__str__', '__subclasshook__', 'count', 'index']\n",
      "5 4 6 7 1 2 9 0 "
     ]
    }
   ],
   "source": [
    "tmp_tuple = (5,4,6,7,1,2,9,0)\n",
    "print(dir(tmp_tuple))           # 퍼스트 시티즌(일급객체) 중 __iter__ 가지고 있는 것만 반복문이 가능\n",
    "\n",
    "for tup in tmp_tuple :\n",
    "    print(tup, end = ' ')"
   ]
  },
  {
   "cell_type": "code",
   "execution_count": 25,
   "id": "504f36a8",
   "metadata": {},
   "outputs": [
    {
     "name": "stdout",
     "output_type": "stream",
     "text": [
      "리스트의 요소를 카운트 한다면? - \n",
      "\n",
      "{1: 2, 2: 7, 3: 8, 23: 3, 4: 6, 5: 6, 6: 3, 21: 1, 43: 1, 54: 1, 34: 1, 65: 2, 24: 1}\n"
     ]
    }
   ],
   "source": [
    "print('리스트의 요소를 카운트 한다면? - ')\n",
    "cnt_list  = [1,2,3,23,4,5,6,4,5,5,3,21,1,43,5,6,3,23,4,3,2,3,4,2,3,54,2,2,34,23,4,2,4,5,65,3,2,24,5,6,65,3]\n",
    "freq = {}\n",
    "\n",
    "for element in cnt_list :\n",
    "    if element in freq :\n",
    "        freq[element] += 1\n",
    "    else :\n",
    "        freq[element] =1\n",
    "        \n",
    "print()\n",
    "print(freq)"
   ]
  },
  {
   "cell_type": "code",
   "execution_count": 3,
   "id": "ed911187",
   "metadata": {},
   "outputs": [
    {
     "name": "stdout",
     "output_type": "stream",
     "text": [
      "importing Jupyter notebook from C:\\Users\\a\\python_note\\user_module.ipynb\n",
      "패키지.모듈 함수 호출 -  30\n"
     ]
    }
   ],
   "source": [
    "import import_ipynb                       # 경로가 다른 모듈을 import하기 위한 ..?\n",
    "from random import randint\n",
    "from python_note.user_module import user_sum  # python_note 파일 밑에 있는 모듈 불러오기\n",
    "\n",
    "print('패키지.모듈 함수 호출 - ', user_sum(10, 20))"
   ]
  },
  {
   "cell_type": "code",
   "execution_count": 6,
   "id": "b2566986",
   "metadata": {},
   "outputs": [
    {
     "name": "stdout",
     "output_type": "stream",
     "text": [
      "10고개 난수 맞추기 - \n",
      "answer -  29\n",
      "1 ~ 100 사이의 숫자를 입력하세요 :11\n",
      "업\n",
      "1 ~ 100 사이의 숫자를 입력하세요 :22\n",
      "업\n",
      "1 ~ 100 사이의 숫자를 입력하세요 :33\n",
      "다운\n",
      "1 ~ 100 사이의 숫자를 입력하세요 :32\n",
      "다운\n",
      "1 ~ 100 사이의 숫자를 입력하세요 :31\n",
      "다운\n",
      "1 ~ 100 사이의 숫자를 입력하세요 :30\n",
      "다운\n",
      "1 ~ 100 사이의 숫자를 입력하세요 :28\n",
      "업\n",
      "1 ~ 100 사이의 숫자를 입력하세요 :27\n",
      "업\n",
      "1 ~ 100 사이의 숫자를 입력하세요 :26\n",
      "업\n",
      "1 ~ 100 사이의 숫자를 입력하세요 :25\n",
      "업\n",
      "정답 29, 시도횟수 : 10\n"
     ]
    }
   ],
   "source": [
    "# randint(1,3)               # 1~3 중 random int를 리턴함\n",
    "\n",
    "print('10고개 난수 맞추기 - ')\n",
    "\n",
    "answer = randint(1,100)\n",
    "print('answer - ', answer)\n",
    "\n",
    "tries = 0\n",
    "\n",
    "# while True:\n",
    "\n",
    "for idx in range(10) :\n",
    "    guess = int(input('1 ~ 100 사이의 숫자를 입력하세요 :'))\n",
    "    tries += 1\n",
    "    \n",
    "    if guess == answer :\n",
    "        print('정답!!!')\n",
    "        break\n",
    "    \n",
    "    elif guess > answer :\n",
    "        print('다운')\n",
    "    \n",
    "    else :\n",
    "        print('업')\n",
    "        \n",
    "\n",
    "print('정답 {}, 시도횟수 : {}'.format(answer, tries))"
   ]
  },
  {
   "cell_type": "code",
   "execution_count": 15,
   "id": "e4e0d3de",
   "metadata": {},
   "outputs": [
    {
     "name": "stdout",
     "output_type": "stream",
     "text": [
      "2020\t2024\t2028\t2032\t2036\n",
      "2040\t2044\t2048\t\n",
      "\n",
      "1~30 숫자 중 3의 배수를 출력하라 - \n",
      "0\t3\t6\t9\t12\t15\t18\t21\t24\t27\t30\t"
     ]
    }
   ],
   "source": [
    "# 올림픽은 4년마다 개최\n",
    "# 2020 ~ 2050 년 사이의 올림픽이 개최되는 년도를 출력하라\n",
    "# 한 줄에 5개의 년도를 출력\n",
    "# end = \n",
    "\n",
    "cnt = 0 \n",
    "\n",
    "for olympics in range(2020, 2051, 4) :\n",
    "    cnt += 1\n",
    "    if cnt % 5 == 0 :\n",
    "        print (olympics, end = '\\n')\n",
    "    else :\n",
    "        print(olympics, end = '\\t')\n",
    "         \n",
    "print()\n",
    "print()\n",
    "print('1~30 숫자 중 3의 배수를 출력하라 - ')\n",
    "for val in range(0, 31, 3) :\n",
    "    print(val, end ='\\t')"
   ]
  },
  {
   "cell_type": "code",
   "execution_count": 18,
   "id": "3a670c9e",
   "metadata": {},
   "outputs": [
    {
     "name": "stdout",
     "output_type": "stream",
     "text": [
      "입력하신 단을 출력  - \n",
      "단 :3\n",
      "3 * 1 = 3\t3 * 2 = 6\t3 * 3 = 9\t3 * 4 = 12\t3 * 5 = 15\t3 * 6 = 18\t3 * 7 = 21\t3 * 8 = 24\t3 * 9 = 27\t"
     ]
    }
   ],
   "source": [
    "print('입력하신 단을 출력  - ')\n",
    "dan = int(input('단 :'))\n",
    "cnt = 0 \n",
    "\n",
    "for i in range(1, 10) :\n",
    "    print(dan, '*', i, '=', dan * i, end = '\\t')\n"
   ]
  },
  {
   "cell_type": "code",
   "execution_count": 31,
   "id": "a1659350",
   "metadata": {},
   "outputs": [
    {
     "name": "stdout",
     "output_type": "stream",
     "text": [
      "구구단을 만든다면? - \n",
      "2 단 -\n",
      "2 * 1 = 2\t2 * 2 = 4\t2 * 3 = 6\t2 * 4 = 8\t2 * 5 = 10\t2 * 6 = 12\t2 * 7 = 14\t2 * 8 = 16\t2 * 9 = 18\t\n",
      "\n",
      "3 단 -\n",
      "3 * 1 = 3\t3 * 2 = 6\t3 * 3 = 9\t3 * 4 = 12\t3 * 5 = 15\t3 * 6 = 18\t3 * 7 = 21\t3 * 8 = 24\t3 * 9 = 27\t"
     ]
    }
   ],
   "source": [
    "print('구구단을 만든다면? - ')\n",
    "print('3단까지만 출력 - ')\n",
    "for dan in range(2,10):\n",
    "    print(dan, '단 -')\n",
    "    for i in range(1,10):\n",
    "        print(dan, '*', i, '=', dan * i, end = '\\t')\n",
    "    if dan == 3 :\n",
    "        break\n",
    "        \n",
    "    print()\n",
    "    print()"
   ]
  },
  {
   "cell_type": "code",
   "execution_count": 32,
   "id": "4a6f23fa",
   "metadata": {},
   "outputs": [
    {
     "name": "stdout",
     "output_type": "stream",
     "text": [
      "구구단을 만든다면? - \n",
      "2 단 -\n",
      "2 * 1 = 2\t2 * 2 = 4\t2 * 3 = 6\t2 * 4 = 8\t2 * 5 = 10\t2 * 6 = 12\t2 * 7 = 14\t2 * 8 = 16\t2 * 9 = 18\t\n",
      "\n",
      "4 단 -\n",
      "4 * 1 = 4\t4 * 2 = 8\t4 * 3 = 12\t4 * 4 = 16\t4 * 5 = 20\t4 * 6 = 24\t4 * 7 = 28\t4 * 8 = 32\t4 * 9 = 36\t\n",
      "\n",
      "5 단 -\n",
      "5 * 1 = 5\t5 * 2 = 10\t5 * 3 = 15\t5 * 4 = 20\t5 * 5 = 25\t5 * 6 = 30\t5 * 7 = 35\t5 * 8 = 40\t5 * 9 = 45\t\n",
      "\n",
      "6 단 -\n",
      "6 * 1 = 6\t6 * 2 = 12\t6 * 3 = 18\t6 * 4 = 24\t6 * 5 = 30\t6 * 6 = 36\t6 * 7 = 42\t6 * 8 = 48\t6 * 9 = 54\t\n",
      "\n",
      "7 단 -\n",
      "7 * 1 = 7\t7 * 2 = 14\t7 * 3 = 21\t7 * 4 = 28\t7 * 5 = 35\t7 * 6 = 42\t7 * 7 = 49\t7 * 8 = 56\t7 * 9 = 63\t\n",
      "\n",
      "8 단 -\n",
      "8 * 1 = 8\t8 * 2 = 16\t8 * 3 = 24\t8 * 4 = 32\t8 * 5 = 40\t8 * 6 = 48\t8 * 7 = 56\t8 * 8 = 64\t8 * 9 = 72\t\n",
      "\n",
      "9 단 -\n",
      "9 * 1 = 9\t9 * 2 = 18\t9 * 3 = 27\t9 * 4 = 36\t9 * 5 = 45\t9 * 6 = 54\t9 * 7 = 63\t9 * 8 = 72\t9 * 9 = 81\t\n",
      "\n"
     ]
    }
   ],
   "source": [
    "print('구구단을 만든다면? - ')\n",
    "print('3단을 제외하고 출력 - ')\n",
    "for dan in range(2,10):\n",
    "    if dan == 3 :\n",
    "        continue                    # break와 상반되는 명령어로, 밑에 작업을 스킵하고 계속 이어감\n",
    "    \n",
    "    print(dan, '단 -')\n",
    "    for i in range(1,10):\n",
    "        print(dan, '*', i, '=', dan * i, end = '\\t')\n",
    "        \n",
    "    print()\n",
    "    print()"
   ]
  },
  {
   "cell_type": "code",
   "execution_count": 43,
   "id": "6edfbc68",
   "metadata": {},
   "outputs": [
    {
     "name": "stdout",
     "output_type": "stream",
     "text": [
      "\n",
      "study\n",
      "PYTHON\n",
      "language\n",
      "\n",
      "study\n",
      "PYTHON\n",
      "language\n"
     ]
    }
   ],
   "source": [
    "# 아래 리스트에서 세 글자 이상인 문자만 출력한다면?\n",
    "# len()\n",
    "print()\n",
    "tmpList = ['I' , 'AM' , 'study' , 'PYTHON' , 'language' , '!']\n",
    "\n",
    "# case 1\n",
    "for idx in range(len(tmpList)):\n",
    "    if len(tmpList[idx]) >= 3 :\n",
    "        print(tmpList[idx])\n",
    "print()\n",
    "\n",
    "# case 2\n",
    "for letter in tmpList :\n",
    "    if len(letter) >= 3 :\n",
    "        print(letter)\n",
    "    else :\n",
    "        pass"
   ]
  },
  {
   "cell_type": "code",
   "execution_count": 47,
   "id": "6be376e7",
   "metadata": {
    "scrolled": true
   },
   "outputs": [
    {
     "name": "stdout",
     "output_type": "stream",
     "text": [
      "greeting\n",
      "ex01\n",
      "intro\n",
      "bigdata\n",
      "\n",
      "greeting\n",
      "ex01\n",
      "intro\n",
      "bigdata\n"
     ]
    }
   ],
   "source": [
    "# 확장자를 제외하고 파일 이름만 출력한다면?\n",
    "# split()\n",
    "tmpList = ['greeting.py' , 'ex01.py' , 'intro.hwp' , 'bigdata.doc']\n",
    "\n",
    "# case 1\n",
    "for idx in range(len(tmpList)) :\n",
    "    print(tmpList[idx].split('.')[0])\n",
    "print()\n",
    "\n",
    "# case 2\n",
    "for filename in tmpList :\n",
    "    print(filename.split('.')[0])\n"
   ]
  },
  {
   "cell_type": "code",
   "execution_count": 48,
   "id": "9e3f0057",
   "metadata": {},
   "outputs": [
    {
     "name": "stdout",
     "output_type": "stream",
     "text": [
      "0 greeting.py\n",
      "1 ex01.py\n",
      "2 intro.hwp\n",
      "3 bigdata.doc\n",
      "\n",
      "(0, 'greeting.py')\n",
      "(1, 'ex01.py')\n",
      "(2, 'intro.hwp')\n",
      "(3, 'bigdata.doc')\n"
     ]
    }
   ],
   "source": [
    "# 인덱스 번호와 요소값을 확인 할 수 있는 enumerate()\n",
    "tmpList = ['greeting.py' , 'ex01.py' , 'intro.hwp' , 'bigdata.doc']\n",
    "\n",
    "# case 1\n",
    "for idx, value in enumerate(tmpList):\n",
    "    print(idx, value)\n",
    "print()\n",
    "\n",
    "# case 2\n",
    "for file in enumerate(tmpList) :\n",
    "    print(file)"
   ]
  },
  {
   "cell_type": "code",
   "execution_count": 54,
   "id": "b2ae2e61",
   "metadata": {},
   "outputs": [
    {
     "name": "stdout",
     "output_type": "stream",
     "text": [
      "type -  <class 'int'>\n",
      "type -  <class 'int'>\n",
      "type -  <class 'int'>\n",
      "type -  <class 'int'>\n",
      "type -  <class 'int'>\n",
      "80%\n"
     ]
    }
   ],
   "source": [
    "# 분류정확도\n",
    "# case 1\n",
    "\n",
    "answer = [1,0,2,1,0]\n",
    "predict = [1,0,2,0,0]\n",
    "accuracy = 0 \n",
    "\n",
    "for idx in range(len(answer)) :\n",
    "    fit = answer[idx] == predict[idx]      # boolean - True | False값을 리턴\n",
    "    print('type - ', type(int(fit)))\n",
    "    accuracy += int(fit) * 20 # 20은 100 / len(answer)의 값     # int(T|F)로 하면 True는 1로, False는 0으로 \n",
    "\n",
    "print(accuracy, '%', sep = '')\n"
   ]
  },
  {
   "cell_type": "markdown",
   "id": "bda73b15",
   "metadata": {},
   "source": [
    "- for ~ else"
   ]
  },
  {
   "cell_type": "code",
   "execution_count": 65,
   "id": "f14ee8e7",
   "metadata": {},
   "outputs": [
    {
     "name": "stdout",
     "output_type": "stream",
     "text": [
      "Not Found - \n"
     ]
    }
   ],
   "source": [
    "numbers = [14, 3, 4, 7, 45, 17, 8, 65, 43]\n",
    "\n",
    "for (idx, num) in enumerate (numbers) :           # 인덱스 번호와 요소값을 확인 할 수 있는 enumerate()\n",
    "    # print(numbers[idx], end = '\\t')     \n",
    "    if numbers[idx] == 90 :\n",
    "        print('Found - ', numbers[idx] )\n",
    "        break\n",
    "else :\n",
    "    print('Not Found - ')"
   ]
  },
  {
   "cell_type": "code",
   "execution_count": 73,
   "id": "85802329",
   "metadata": {},
   "outputs": [
    {
     "name": "stdout",
     "output_type": "stream",
     "text": [
      "\n",
      "i, j =  1 0\n",
      "\n",
      "\n"
     ]
    }
   ],
   "source": [
    "apts = [[1, 2], [3, 4], [5, 6]]\n",
    "for i, row in enumerate(apts):\n",
    "    for j, col in enumerate(row) :\n",
    "        if apts[i][j] == 3:\n",
    "            print('i, j = ', i, j)\n",
    "    print()"
   ]
  },
  {
   "cell_type": "markdown",
   "id": "231c2140",
   "metadata": {},
   "source": [
    "- for 문자열 처리"
   ]
  },
  {
   "cell_type": "code",
   "execution_count": 113,
   "id": "0e1bb0b0",
   "metadata": {},
   "outputs": [],
   "source": [
    "tmp_str = \\\n",
    "'''저는 파이썬을 강의중인 임정섭 입니다.\n",
    "주소는 서울시 입니다.\n",
    "나이는 숫자에 불과합니다.\n",
    "항상 긍정의 마인드로 화이팅!!!'''\n"
   ]
  },
  {
   "cell_type": "code",
   "execution_count": 114,
   "id": "52e4dc7d",
   "metadata": {},
   "outputs": [
    {
     "name": "stdout",
     "output_type": "stream",
     "text": [
      "몇 문장인지?\n",
      "단어들은 몇 단어인지를 확인하고 싶다면?\n",
      "\n",
      "문장의 갯수 -  4\n",
      "단어의 갯수 -  15\n"
     ]
    }
   ],
   "source": [
    "print('몇 문장인지?')                       # 개행: '\\n'\n",
    "print('단어들은 몇 단어인지를 확인하고 싶다면?')\n",
    "print()\n",
    "\n",
    "sentences = []\n",
    "words = []\n",
    "for s in tmp_str.split('\\n'):\n",
    "    sentences.append(s)\n",
    "    for w in s.split() :\n",
    "        words.append(w)\n",
    "        \n",
    "print('문장의 갯수 - ', len(sentences))\n",
    "print('단어의 갯수 - ', len(words))"
   ]
  },
  {
   "cell_type": "markdown",
   "id": "4578ba75",
   "metadata": {},
   "source": [
    "- while ~ else\n",
    "- 반복 횟수를 알 수 없고 특정 조건 만족 시 까지\n",
    "- 변수 생성 불가 : True | False 판단\n",
    "- 조건식 false가 될 때가지 무한반복"
   ]
  },
  {
   "cell_type": "code",
   "execution_count": null,
   "id": "42499281",
   "metadata": {},
   "outputs": [],
   "source": [
    "# for 변수 in [tuple, list, str...등 반복 가능한 객체] :\n",
    "#     수행구문\n",
    "\n",
    "# 초기식\n",
    "# while 조건식 :\n",
    "#     수행구문\n",
    "#     증감식: 값이 로직에 따라 증가하거나 감소하는\n",
    "\n",
    "n = 5\n",
    "while n > 0 :\n",
    "    print(n)\n",
    "    n = n - 1\n",
    "    \n",
    "print('조건식이 false일 때 루프를 빠져나온다')"
   ]
  },
  {
   "cell_type": "code",
   "execution_count": 120,
   "id": "19ed7494",
   "metadata": {},
   "outputs": [
    {
     "name": "stdout",
     "output_type": "stream",
     "text": [
      "baz\n",
      "bar\n",
      "foo\n"
     ]
    }
   ],
   "source": [
    "tmp_list = ['foo', 'bar', 'baz']\n",
    "while tmp_list :\n",
    "    print(tmp_list.pop())            # pop() 뒤에서부터 한 개씩 꺼내니까 데이터가 없으면 false로 루프를 빠져나옴\n",
    "    # print(tmp_list.pop(-1))                "
   ]
  },
  {
   "cell_type": "code",
   "execution_count": 132,
   "id": "4561234a",
   "metadata": {},
   "outputs": [
    {
     "name": "stdout",
     "output_type": "stream",
     "text": [
      "3의 배수이면서 5의 배수가 아닌 합 -  1368\n",
      "총합 -  5051\n"
     ]
    }
   ],
   "source": [
    "# 1 ~ 100 까지의 합, 3의 배수이면서 5의 배수가 아닌 합\n",
    "\n",
    "n=0\n",
    "result = 0 \n",
    "total = 0\n",
    "cnt = 1\n",
    "while n <= 100:\n",
    "    cnt += n\n",
    "    if n % 3 == 0 and n % 5 != 0 :\n",
    "        result += n\n",
    "    \n",
    "    n += 1\n",
    "print('3의 배수이면서 5의 배수가 아닌 합 - ', result)\n",
    "print('총합 - ', cnt)"
   ]
  },
  {
   "cell_type": "code",
   "execution_count": 126,
   "id": "d3582d9b",
   "metadata": {},
   "outputs": [
    {
     "name": "stdout",
     "output_type": "stream",
     "text": [
      "while ~ else\n"
     ]
    }
   ],
   "source": [
    "n = 10\n",
    "while n < 0:\n",
    "    n -= 1\n",
    "    if n ==5 :\n",
    "        break\n",
    "else: \n",
    "    print('while ~ else')"
   ]
  },
  {
   "cell_type": "code",
   "execution_count": null,
   "id": "354ed416",
   "metadata": {},
   "outputs": [],
   "source": [
    "# mission\n",
    "# 10고개, 구구단을 while 변경"
   ]
  },
  {
   "cell_type": "code",
   "execution_count": 144,
   "id": "02caacbf",
   "metadata": {},
   "outputs": [
    {
     "name": "stdout",
     "output_type": "stream",
     "text": [
      "10고개 난수 맞추기 - \n",
      "answer -  76\n",
      "1 ~ 100 사이의 숫자를 입력하세요 :10\n",
      "업\n",
      "1 ~ 100 사이의 숫자를 입력하세요 :12\n",
      "업\n",
      "1 ~ 100 사이의 숫자를 입력하세요 :15\n",
      "업\n",
      "1 ~ 100 사이의 숫자를 입력하세요 :18\n",
      "업\n",
      "1 ~ 100 사이의 숫자를 입력하세요 :20\n",
      "업\n",
      "1 ~ 100 사이의 숫자를 입력하세요 :25\n",
      "업\n",
      "1 ~ 100 사이의 숫자를 입력하세요 :30\n",
      "업\n",
      "1 ~ 100 사이의 숫자를 입력하세요 :34\n",
      "업\n",
      "1 ~ 100 사이의 숫자를 입력하세요 :39\n",
      "업\n",
      "1 ~ 100 사이의 숫자를 입력하세요 :45\n",
      "업\n",
      "정답 76, 시도횟수 : 10\n"
     ]
    }
   ],
   "source": [
    "# randint(1,3)               # 1~3 중 random int를 리턴함\n",
    "\n",
    "print('10고개 난수 맞추기 - ')\n",
    "\n",
    "answer = randint(1,100)\n",
    "print('answer - ', answer)\n",
    "\n",
    "tries = 0\n",
    "\n",
    "while tries < 10 :\n",
    "    guess = int(input('1 ~ 100 사이의 숫자를 입력하세요 :'))\n",
    "    tries += 1\n",
    "    \n",
    "    if guess == answer :\n",
    "        print('정답!!!')\n",
    "        break\n",
    "    \n",
    "    elif guess > answer :\n",
    "        print('다운')\n",
    "    \n",
    "    else :\n",
    "        print('업')\n",
    "\n",
    "print('정답 {}, 시도횟수 : {}'.format(answer, tries))"
   ]
  },
  {
   "cell_type": "code",
   "execution_count": 142,
   "id": "a177a835",
   "metadata": {},
   "outputs": [
    {
     "name": "stdout",
     "output_type": "stream",
     "text": [
      "구구단을 만든다면? - \n",
      "2 단\n",
      "2 * 1 = 2\t2 * 2 = 4\t2 * 3 = 6\t2 * 4 = 8\t2 * 5 = 10\t2 * 6 = 12\t2 * 7 = 14\t2 * 8 = 16\t2 * 9 = 18\t\n",
      "3 단\n",
      "3 * 1 = 3\t3 * 2 = 6\t3 * 3 = 9\t3 * 4 = 12\t3 * 5 = 15\t3 * 6 = 18\t3 * 7 = 21\t3 * 8 = 24\t3 * 9 = 27\t\n",
      "4 단\n",
      "4 * 1 = 4\t4 * 2 = 8\t4 * 3 = 12\t4 * 4 = 16\t4 * 5 = 20\t4 * 6 = 24\t4 * 7 = 28\t4 * 8 = 32\t4 * 9 = 36\t\n",
      "5 단\n",
      "5 * 1 = 5\t5 * 2 = 10\t5 * 3 = 15\t5 * 4 = 20\t5 * 5 = 25\t5 * 6 = 30\t5 * 7 = 35\t5 * 8 = 40\t5 * 9 = 45\t\n",
      "6 단\n",
      "6 * 1 = 6\t6 * 2 = 12\t6 * 3 = 18\t6 * 4 = 24\t6 * 5 = 30\t6 * 6 = 36\t6 * 7 = 42\t6 * 8 = 48\t6 * 9 = 54\t\n",
      "7 단\n",
      "7 * 1 = 7\t7 * 2 = 14\t7 * 3 = 21\t7 * 4 = 28\t7 * 5 = 35\t7 * 6 = 42\t7 * 7 = 49\t7 * 8 = 56\t7 * 9 = 63\t\n",
      "8 단\n",
      "8 * 1 = 8\t8 * 2 = 16\t8 * 3 = 24\t8 * 4 = 32\t8 * 5 = 40\t8 * 6 = 48\t8 * 7 = 56\t8 * 8 = 64\t8 * 9 = 72\t\n",
      "9 단\n",
      "9 * 1 = 9\t9 * 2 = 18\t9 * 3 = 27\t9 * 4 = 36\t9 * 5 = 45\t9 * 6 = 54\t9 * 7 = 63\t9 * 8 = 72\t9 * 9 = 81\t\n"
     ]
    }
   ],
   "source": [
    "print('구구단을 만든다면? - ')\n",
    "\n",
    "dan = 2\n",
    "\n",
    "while dan < 10 :\n",
    "    print(dan, '단')\n",
    "    \n",
    "    i = 1 \n",
    "    while i < 10 :\n",
    "        print(dan, '*', i, '=', dan * i, end = '\\t')\n",
    "        i += 1 \n",
    "    print()\n",
    "    dan += 1\n",
    "    "
   ]
  },
  {
   "cell_type": "markdown",
   "id": "e69ee67e",
   "metadata": {},
   "source": [
    "- while문으로 복습하기"
   ]
  },
  {
   "cell_type": "code",
   "execution_count": 145,
   "id": "cfdfb947",
   "metadata": {},
   "outputs": [
    {
     "name": "stdout",
     "output_type": "stream",
     "text": [
      "0\t1\t2\t3\t4\t5\t6\t7\t8\t9\t"
     ]
    }
   ],
   "source": [
    "val = 0 \n",
    "while val < 10 :\n",
    "    print(val, end = '\\t')\n",
    "    val += 1"
   ]
  },
  {
   "cell_type": "code",
   "execution_count": 146,
   "id": "00b22378",
   "metadata": {},
   "outputs": [
    {
     "name": "stdout",
     "output_type": "stream",
     "text": [
      "0\t2\t4\t6\t8\t"
     ]
    }
   ],
   "source": [
    "val = 0 \n",
    "while val < 10 :\n",
    "    print (val, end = '\\t')\n",
    "    val += 2"
   ]
  },
  {
   "cell_type": "code",
   "execution_count": 147,
   "id": "e8c4abf8",
   "metadata": {},
   "outputs": [
    {
     "name": "stdout",
     "output_type": "stream",
     "text": [
      "성적을 입력하세요 : 100\n",
      "성적을 입력하세요 : 95\n",
      "성적을 입력하세요 : 90\n",
      "성적을 입력하세요 : 85\n",
      "성적을 입력하세요 : 80\n",
      "성적을 입력하세요 : 75\n",
      "성적을 입력하세요 : 70\n",
      "성적을 입력하세요 : 65\n",
      "성적을 입력하세요 : 60\n",
      "성적을 입력하세요 : 55\n",
      "[100, 95, 90, 85, 80, 75, 70, 65, 60, 55]\n"
     ]
    }
   ],
   "source": [
    "scores = []\n",
    "idx = 0 \n",
    "while idx < 10 :\n",
    "    scores.append(int(input('성적을 입력하세요 : ')))\n",
    "    idx += 1\n",
    "print(scores)"
   ]
  },
  {
   "cell_type": "code",
   "execution_count": 149,
   "id": "3f8cc0c3",
   "metadata": {},
   "outputs": [
    {
     "name": "stdout",
     "output_type": "stream",
     "text": [
      "scores 총합을 구한다면 - 775\n"
     ]
    }
   ],
   "source": [
    "i = 0 \n",
    "scores_sum = 0 \n",
    "while i < 10 :\n",
    "    scores_sum += scores[i]\n",
    "    i += 1 \n",
    "print('scores 총합을 구한다면 -', scores_sum)"
   ]
  },
  {
   "cell_type": "code",
   "execution_count": 150,
   "id": "c4af0d9c",
   "metadata": {},
   "outputs": [
    {
     "name": "stdout",
     "output_type": "stream",
     "text": [
      "s e e   y o u   n e x t   t i m e "
     ]
    }
   ],
   "source": [
    "ending_msg = 'see you next time'\n",
    "i = 0 \n",
    "\n",
    "while i < len(ending_msg) :\n",
    "    print(ending_msg[i], end = ' ')\n",
    "    i += 1"
   ]
  },
  {
   "cell_type": "code",
   "execution_count": 151,
   "id": "726788b0",
   "metadata": {},
   "outputs": [
    {
     "name": "stdout",
     "output_type": "stream",
     "text": [
      "5 4 6 7 1 2 9 0 "
     ]
    }
   ],
   "source": [
    "tmp_tuple = (5,4,6,7,1,2,9,0)\n",
    "tmp_tuple[0]\n",
    "\n",
    "i = 0 \n",
    "while i < len(tmp_tuple) :\n",
    "    print(tmp_tuple[i], end = ' ')\n",
    "    i += 1"
   ]
  },
  {
   "cell_type": "code",
   "execution_count": 152,
   "id": "572ac7eb",
   "metadata": {},
   "outputs": [
    {
     "name": "stdout",
     "output_type": "stream",
     "text": [
      "2024\t2028\t2032\t2036\t2040\t\n",
      "2044\t2048\t2052\t"
     ]
    }
   ],
   "source": [
    "# 올림픽은 4년마다 개최\n",
    "# 2020 ~ 2050 년 사이의 올림픽이 개최되는 년도를 출력하라\n",
    "# 한 줄에 5개의 년도를 출력\n",
    "# end = \n",
    "\n",
    "cnt = 0 \n",
    "\n",
    "olympics = 2020\n",
    "\n",
    "while olympics < 2051 :\n",
    "    olympics += 4\n",
    "    print(olympics, end = '\\t')\n",
    "    cnt += 1\n",
    "    \n",
    "    if cnt % 5 == 0 :\n",
    "        print()\n",
    "    else :\n",
    "        pass"
   ]
  },
  {
   "cell_type": "code",
   "execution_count": 153,
   "id": "ff07f5d9",
   "metadata": {},
   "outputs": [
    {
     "name": "stdout",
     "output_type": "stream",
     "text": [
      "\n",
      "study\n",
      "PYTHON\n",
      "language\n"
     ]
    }
   ],
   "source": [
    "# 아래 리스트에서 세 글자 이상인 문자만 출력한다면?\n",
    "# len()\n",
    "print()\n",
    "\n",
    "tmpList = ['I' , 'AM' , 'study' , 'PYTHON' , 'language' , '!']\n",
    "\n",
    "\n",
    "i = 0 \n",
    "letter = []\n",
    "while i < len(tmpList) :\n",
    "    \n",
    "    if len(tmpList[i]) >= 3 :\n",
    "        print (tmpList[i])\n",
    "    else:\n",
    "        pass\n",
    "    i += 1\n"
   ]
  },
  {
   "cell_type": "code",
   "execution_count": 154,
   "id": "5e09e9d0",
   "metadata": {},
   "outputs": [
    {
     "name": "stdout",
     "output_type": "stream",
     "text": [
      "greeting\n",
      "ex01\n",
      "intro\n",
      "bigdata\n"
     ]
    }
   ],
   "source": [
    "# 확장자를 제외하고 파일 이름만 출력한다면?\n",
    "# split()\n",
    "tmpList = ['greeting.py' , 'ex01.py' , 'intro.hwp' , 'bigdata.doc']\n",
    "\n",
    "i = 0 \n",
    "while i < len(tmpList) :\n",
    "    print(tmpList[i].split('.')[0])\n",
    "    i += 1"
   ]
  },
  {
   "cell_type": "code",
   "execution_count": 156,
   "id": "b2969b3d",
   "metadata": {},
   "outputs": [
    {
     "name": "stdout",
     "output_type": "stream",
     "text": [
      "리스트의 요소를 카운트 한다면? - \n",
      "{1: 2, 2: 7, 3: 8, 23: 3, 4: 6, 5: 6, 6: 3, 21: 1, 43: 1, 54: 1, 34: 1, 65: 2, 24: 1}\n"
     ]
    }
   ],
   "source": [
    "print('리스트의 요소를 카운트 한다면? - ')\n",
    "cnt_list  = [1,2,3,23,4,5,6,4,5,5,3,21,1,43,5,6,3,23,4,3,2,3,4,2,3,54,2,2,34,23,4,2,4,5,65,3,2,24,5,6,65,3]\n",
    "\n",
    "freq = {}\n",
    "idx = 0 \n",
    "\n",
    "while idx < len(cnt_list):\n",
    "    for element in cnt_list :\n",
    "        if element in freq :\n",
    "            freq[element] += 1\n",
    "        else :\n",
    "            freq[element] =1\n",
    "        idx += 1\n",
    "\n",
    "print(freq) "
   ]
  },
  {
   "cell_type": "code",
   "execution_count": 157,
   "id": "b7a4f165",
   "metadata": {},
   "outputs": [
    {
     "ename": "SyntaxError",
     "evalue": "invalid syntax (3266359106.py, line 8)",
     "output_type": "error",
     "traceback": [
      "\u001b[1;36m  Input \u001b[1;32mIn [157]\u001b[1;36m\u001b[0m\n\u001b[1;33m    while oplympics < 2051\u001b[0m\n\u001b[1;37m                          ^\u001b[0m\n\u001b[1;31mSyntaxError\u001b[0m\u001b[1;31m:\u001b[0m invalid syntax\n"
     ]
    }
   ],
   "source": [
    "# 올림픽은 4년마다 개최\n",
    "# 2020 ~ 2050 년 사이의 올림픽이 개최되는 년도를 출력하라\n",
    "# 한 줄에 5개의 년도를 출력\n",
    "# end = \n",
    "\n",
    "cnt = 0 \n",
    "olympics = 2020 \n",
    "while oplympics < 2051\n",
    "    for olympics in range(2020, 2051, 4) :\n",
    "        cnt += 1\n",
    "        if cnt % 5 == 0 :\n",
    "            print (olympics, end = '\\n')\n",
    "        else :\n",
    "            print(olympics, end = '\\t')\n",
    "    olympics += 4 \n",
    "    \n",
    "print()\n",
    "print()\n",
    "print('1~30 숫자 중 3의 배수를 출력하라 - ')\n",
    "for val in range(0, 31, 3) :\n",
    "    print(val, end ='\\t')"
   ]
  },
  {
   "cell_type": "code",
   "execution_count": null,
   "id": "799605fa",
   "metadata": {},
   "outputs": [],
   "source": [
    "# 분류정확도\n",
    "# case 1\n",
    "\n",
    "answer = [1,0,2,1,0]\n",
    "predict = [1,0,2,0,0]\n",
    "accuracy = 0 \n",
    "\n",
    "for idx in range(len(answer)) :\n",
    "    fit = answer[idx] == predict[idx]      # boolean - True | False값을 리턴\n",
    "    print('type - ', type(int(fit)))\n",
    "    accuracy += int(fit) * 20 # 20은 100 / len(answer)의 값     # int(T|F)로 하면 True는 1로, False는 0으로 \n",
    "\n",
    "print(accuracy, '%', sep = '')\n"
   ]
  },
  {
   "cell_type": "code",
   "execution_count": 158,
   "id": "8de98912",
   "metadata": {},
   "outputs": [],
   "source": [
    "tmp_str = \\\n",
    "'''저는 파이썬을 강의중인 임정섭 입니다.\n",
    "주소는 서울시 입니다.\n",
    "나이는 숫자에 불과합니다.\n",
    "항상 긍정의 마인드로 화이팅!!!'''\n"
   ]
  },
  {
   "cell_type": "code",
   "execution_count": null,
   "id": "1c6d3784",
   "metadata": {},
   "outputs": [],
   "source": [
    "print('몇 문장인지?')                       # 개행: '\\n'\n",
    "print('단어들은 몇 단어인지를 확인하고 싶다면?')\n",
    "print()\n",
    "\n",
    "sentences = []\n",
    "words = []\n",
    "for s in tmp_str.split('\\n'):\n",
    "    sentences.append(s)\n",
    "    for w in s.split() :\n",
    "        words.append(w)\n",
    "        \n",
    "print('문장의 갯수 - ', len(sentences))\n",
    "print('단어의 갯수 - ', len(words))"
   ]
  }
 ],
 "metadata": {
  "kernelspec": {
   "display_name": "Python 3 (ipykernel)",
   "language": "python",
   "name": "python3"
  },
  "language_info": {
   "codemirror_mode": {
    "name": "ipython",
    "version": 3
   },
   "file_extension": ".py",
   "mimetype": "text/x-python",
   "name": "python",
   "nbconvert_exporter": "python",
   "pygments_lexer": "ipython3",
   "version": "3.9.12"
  }
 },
 "nbformat": 4,
 "nbformat_minor": 5
}
