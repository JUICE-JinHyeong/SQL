{
 "cells": [
  {
   "cell_type": "markdown",
   "id": "17a08efe",
   "metadata": {},
   "source": [
    "csv, excel , pickle , (decorator , generator)"
   ]
  },
  {
   "cell_type": "code",
   "execution_count": 1,
   "id": "8fd0f4c9",
   "metadata": {},
   "outputs": [
    {
     "data": {
      "text/plain": [
       "'1.4.2'"
      ]
     },
     "execution_count": 1,
     "metadata": {},
     "output_type": "execute_result"
    }
   ],
   "source": [
    "'''\n",
    "분석시 사용하는 파일은 정형화된 형식의 파일\n",
    "numpy  -> 통계관련 함수 및 배열을 제공하는 라이브러리(인공지능(machine learning , deep learning))\n",
    "pandas -> 데이터가공 \n",
    "conda install pandas\n",
    "'''\n",
    "\n",
    "import pandas as pd\n",
    "\n",
    "pd.__version__"
   ]
  },
  {
   "cell_type": "markdown",
   "id": "fe55c71b",
   "metadata": {},
   "source": [
    "- 시리즈 = 인덱스 + 데이터"
   ]
  },
  {
   "cell_type": "code",
   "execution_count": 6,
   "id": "3cec517d",
   "metadata": {},
   "outputs": [
    {
     "name": "stdout",
     "output_type": "stream",
     "text": [
      "series -  <class 'pandas.core.series.Series'>\n",
      "data - \n",
      "0     1\n",
      "1     2\n",
      "2     3\n",
      "3     4\n",
      "4     5\n",
      "5     6\n",
      "6     7\n",
      "7     8\n",
      "8     9\n",
      "9    10\n",
      "dtype: int64\n",
      "\n",
      "index -  RangeIndex(start=0, stop=10, step=1)\n",
      "value -  [ 1  2  3  4  5  6  7  8  9 10] <class 'numpy.ndarray'>\n"
     ]
    }
   ],
   "source": [
    "tmp_series = pd.Series(range(1,11))\n",
    "print('series - ' , type(tmp_series))\n",
    "print('data - ')\n",
    "print(tmp_series)\n",
    "print()\n",
    "print('index - ' , tmp_series.index)\n",
    "print('value - ' , tmp_series.values , type(tmp_series.values))"
   ]
  },
  {
   "cell_type": "markdown",
   "id": "6e81633b",
   "metadata": {},
   "source": [
    "#### 데이터 프레임\n",
    "- 열의 정의가 필요하다(Series)\n",
    "- 열의 이름을 정의할 수 있다.\n",
    "- 열 인덱스, 행 인덱스(R : data.frame 과 비슷하다.)"
   ]
  },
  {
   "cell_type": "code",
   "execution_count": 21,
   "id": "3d168866",
   "metadata": {},
   "outputs": [
    {
     "name": "stdout",
     "output_type": "stream",
     "text": [
      "type -  <class 'pandas.core.frame.DataFrame'>\n",
      "\n",
      "   col01  col02  col03\n",
      "0      1      4      7\n",
      "1      2      5      8\n",
      "2      3      6      9\n",
      "\n",
      "row index -  RangeIndex(start=0, stop=3, step=1)\n",
      "col index -  Index(['col01', 'col02', 'col03'], dtype='object')\n",
      "value     -  [[1 4 7]\n",
      " [2 5 8]\n",
      " [3 6 9]]\n",
      "shape     -  (3, 3)\n",
      "space     -  2\n"
     ]
    }
   ],
   "source": [
    "tmp_data = { 'col01' : [1,2,3] ,\n",
    "             'col02' : [4,5,6] ,\n",
    "             'col03' : [7,8,9] }\n",
    "\n",
    "tmp_frm = pd.DataFrame(tmp_data)\n",
    "print('type - ' , type(tmp_frm))\n",
    "print()\n",
    "print(tmp_frm)\n",
    "# 행 인덱스가 생긴다.\n",
    "\n",
    "print()\n",
    "print('row index - ' , tmp_frm.index)\n",
    "print('col index - ' , tmp_frm.columns)\n",
    "print('value     - ' , tmp_frm.values)\n",
    "print('shape     - ' , tmp_frm.shape)\n",
    "print('space     - ' , tmp_frm.values.ndim)"
   ]
  },
  {
   "cell_type": "code",
   "execution_count": 22,
   "id": "3422b0eb",
   "metadata": {},
   "outputs": [
    {
     "name": "stdout",
     "output_type": "stream",
     "text": [
      "indexing - \n",
      "type -  <class 'pandas.core.series.Series'>\n",
      "data -  0    1\n",
      "1    2\n",
      "2    3\n",
      "Name: col01, dtype: int64\n"
     ]
    }
   ],
   "source": [
    "print('indexing - ')\n",
    "print('type - ' , type(tmp_frm['col01']))\n",
    "print('data - ' , tmp_frm['col01'])"
   ]
  },
  {
   "cell_type": "markdown",
   "id": "50c3d836",
   "metadata": {},
   "source": [
    "read_csv() , dtype()"
   ]
  },
  {
   "cell_type": "code",
   "execution_count": 13,
   "id": "10444897",
   "metadata": {},
   "outputs": [],
   "source": [
    "def read_bmi_service(fileName) :\n",
    "    raw_data = None\n",
    "    if fileName.split('.')[-1] == 'csv' :\n",
    "        raw_data = pd.read_csv(fileName , encoding = 'CP949')\n",
    "    \n",
    "    return raw_data"
   ]
  },
  {
   "cell_type": "code",
   "execution_count": 14,
   "id": "fb809250",
   "metadata": {},
   "outputs": [],
   "source": [
    "bmi_frm = read_bmi_service('C:/Users/a/data/service_bmi.csv')"
   ]
  },
  {
   "cell_type": "code",
   "execution_count": 15,
   "id": "6dbe8fc0",
   "metadata": {},
   "outputs": [
    {
     "name": "stdout",
     "output_type": "stream",
     "text": [
      "       height  weight   label\n",
      "0         184      61    thin\n",
      "1         189      56    thin\n",
      "2         183      79  normal\n",
      "3         143      40  normal\n",
      "4         187      66  normal\n",
      "...       ...     ...     ...\n",
      "19995     168      74     fat\n",
      "19996     190      62    thin\n",
      "19997     179      77  normal\n",
      "19998     148      57     fat\n",
      "19999     167      71     fat\n",
      "\n",
      "[20000 rows x 3 columns]\n"
     ]
    }
   ],
   "source": [
    "print(bmi_frm)"
   ]
  },
  {
   "cell_type": "code",
   "execution_count": 16,
   "id": "4065e80e",
   "metadata": {},
   "outputs": [
    {
     "name": "stdout",
     "output_type": "stream",
     "text": [
      "열 인덱스 접근\n"
     ]
    },
    {
     "data": {
      "text/plain": [
       "0        184\n",
       "1        189\n",
       "2        183\n",
       "3        143\n",
       "4        187\n",
       "        ... \n",
       "19995    168\n",
       "19996    190\n",
       "19997    179\n",
       "19998    148\n",
       "19999    167\n",
       "Name: height, Length: 20000, dtype: int64"
      ]
     },
     "execution_count": 16,
     "metadata": {},
     "output_type": "execute_result"
    }
   ],
   "source": [
    "print('열 인덱스 접근')\n",
    "bmi_frm.height"
   ]
  },
  {
   "cell_type": "code",
   "execution_count": 26,
   "id": "5bbb8edf",
   "metadata": {},
   "outputs": [],
   "source": [
    "def read_spam_service(fileName) :\n",
    "    raw_data = None\n",
    "    if fileName.split('.')[-1] == 'csv' :\n",
    "        raw_data = pd.read_csv(fileName , encoding = 'CP949' , header = None)\n",
    "    \n",
    "    return raw_data"
   ]
  },
  {
   "cell_type": "code",
   "execution_count": 33,
   "id": "9b1d1941",
   "metadata": {},
   "outputs": [],
   "source": [
    "spam_frm = read_spam_service('C:/Users/a/data/spam_data.csv')"
   ]
  },
  {
   "cell_type": "code",
   "execution_count": 34,
   "id": "a3461283",
   "metadata": {},
   "outputs": [
    {
     "name": "stdout",
     "output_type": "stream",
     "text": [
      "      0                        1\n",
      "0   ham    우리나라    대한민국, 우리나라 만세\n",
      "1  spam      비아그라 500GRAM 정력 최고!\n",
      "2   ham               나는 대한민국 사람\n",
      "3  spam  보험료 15000원에 평생 보장 마감 임박\n",
      "4   ham                   나는 홍길동\n"
     ]
    }
   ],
   "source": [
    "print(bmi_frm)"
   ]
  },
  {
   "cell_type": "code",
   "execution_count": 42,
   "id": "be9e6bae",
   "metadata": {},
   "outputs": [
    {
     "data": {
      "text/plain": [
       "0     ham\n",
       "1    spam\n",
       "2     ham\n",
       "3    spam\n",
       "4     ham\n",
       "Name: 0, dtype: object"
      ]
     },
     "execution_count": 42,
     "metadata": {},
     "output_type": "execute_result"
    }
   ],
   "source": [
    "target  = spam_frm[0] # ham 0 / spam 1\n",
    "feature = spam_frm[1] # feature\n",
    "\n",
    "target"
   ]
  },
  {
   "cell_type": "code",
   "execution_count": 43,
   "id": "3f12a7a1",
   "metadata": {},
   "outputs": [
    {
     "name": "stdout",
     "output_type": "stream",
     "text": [
      "traget encoding - \n",
      "0     ham\n",
      "1    spam\n",
      "2     ham\n",
      "3    spam\n",
      "4     ham\n",
      "Name: 0, dtype: object\n",
      "[1, 0, 1, 0, 1]\n"
     ]
    }
   ],
   "source": [
    "print('traget encoding - ')\n",
    "print(target)\n",
    "target = [ 1 if value == 'ham' else 0 for value in target ]\n",
    "print(target)"
   ]
  },
  {
   "cell_type": "code",
   "execution_count": 70,
   "id": "5d76ffa2",
   "metadata": {},
   "outputs": [
    {
     "name": "stdout",
     "output_type": "stream",
     "text": [
      "텍스트 전처리 - 한글 단어만 추출\n"
     ]
    }
   ],
   "source": [
    "print('텍스트 전처리 - 한글 단어만 추출')\n",
    "\n",
    "import re\n",
    "\n",
    "def clean_text(str) :\n",
    "    str = re.sub('[a-zA-z!]' , ' ' , str)    \n",
    "    return str"
   ]
  },
  {
   "cell_type": "code",
   "execution_count": 71,
   "id": "ccbd2815",
   "metadata": {},
   "outputs": [
    {
     "name": "stdout",
     "output_type": "stream",
     "text": [
      "['우리나라    대한민국, 우리나라 만세', '비아그라 500     정력 최고 ', '나는 대한민국 사람', '보험료 15000원에 평생 보장 마감 임박', '나는 홍길동']\n"
     ]
    }
   ],
   "source": [
    "re_feature = [clean_text(f) for f in feature ]\n",
    "print(re_feature)"
   ]
  },
  {
   "cell_type": "code",
   "execution_count": 73,
   "id": "6993c8d6",
   "metadata": {},
   "outputs": [
    {
     "data": {
      "text/plain": [
       "<pandas.io.excel._base.ExcelFile at 0x1f87dafd580>"
      ]
     },
     "execution_count": 73,
     "metadata": {},
     "output_type": "execute_result"
    }
   ],
   "source": [
    "# error 발생시 xlrd 라이브러리 설치\n",
    "# pd.ExcelFile()\n",
    "\n",
    "kospi_frm = pd.ExcelFile('C:/Users/a/data/sam_kospi.xlsx')\n",
    "kospi_frm"
   ]
  },
  {
   "cell_type": "code",
   "execution_count": 76,
   "id": "b367ee39",
   "metadata": {},
   "outputs": [],
   "source": [
    "def read_kospi_service(fileName) :\n",
    "    raw_data = None\n",
    "    if fileName.split('.')[-1] == 'csv' :\n",
    "        raw_data = pd.read_csv(fileName , encoding = 'CP949' , header = None)\n",
    "    if fileName.split('.')[-1] == 'xlsx' :\n",
    "        raw_data = pd.ExcelFile(fileName)\n",
    "    return raw_data"
   ]
  },
  {
   "cell_type": "code",
   "execution_count": 84,
   "id": "ab31c9fb",
   "metadata": {},
   "outputs": [
    {
     "name": "stdout",
     "output_type": "stream",
     "text": [
      "type -  <class 'pandas.io.excel._base.ExcelFile'>\n",
      "\n",
      "<pandas.io.excel._base.ExcelFile object at 0x000001F8041F4820>\n",
      "excel 파일은 데이터 프레임으로 보지 않는다.\n",
      "          Date     Open     High      Low    Close  Volume\n",
      "0   2015-10-30  1345000  1390000  1341000  1372000  498776\n",
      "1   2015-10-29  1330000  1392000  1324000  1325000  622336\n",
      "2   2015-10-28  1294000  1308000  1291000  1308000  257374\n",
      "3   2015-10-27  1282000  1299000  1281000  1298000  131144\n",
      "4   2015-10-26  1298000  1298000  1272000  1292000  151996\n",
      "..         ...      ...      ...      ...      ...     ...\n",
      "242 2014-11-07  1218000  1218000  1195000  1206000  107688\n",
      "243 2014-11-06  1198000  1210000  1193000  1204000  168497\n",
      "244 2014-11-05  1215000  1225000  1194000  1202000  187182\n",
      "245 2014-11-04  1219000  1242000  1205000  1217000  237045\n",
      "246 2014-11-03  1250000  1252000  1216000  1235000  263940\n",
      "\n",
      "[247 rows x 6 columns]\n",
      "\n",
      "<class 'pandas.core.frame.DataFrame'>\n",
      "RangeIndex: 247 entries, 0 to 246\n",
      "Data columns (total 6 columns):\n",
      " #   Column  Non-Null Count  Dtype         \n",
      "---  ------  --------------  -----         \n",
      " 0   Date    247 non-null    datetime64[ns]\n",
      " 1   Open    247 non-null    int64         \n",
      " 2   High    247 non-null    int64         \n",
      " 3   Low     247 non-null    int64         \n",
      " 4   Close   247 non-null    int64         \n",
      " 5   Volume  247 non-null    int64         \n",
      "dtypes: datetime64[ns](1), int64(5)\n",
      "memory usage: 11.7 KB\n"
     ]
    },
    {
     "data": {
      "text/html": [
       "<div>\n",
       "<style scoped>\n",
       "    .dataframe tbody tr th:only-of-type {\n",
       "        vertical-align: middle;\n",
       "    }\n",
       "\n",
       "    .dataframe tbody tr th {\n",
       "        vertical-align: top;\n",
       "    }\n",
       "\n",
       "    .dataframe thead th {\n",
       "        text-align: right;\n",
       "    }\n",
       "</style>\n",
       "<table border=\"1\" class=\"dataframe\">\n",
       "  <thead>\n",
       "    <tr style=\"text-align: right;\">\n",
       "      <th></th>\n",
       "      <th>Date</th>\n",
       "      <th>Open</th>\n",
       "      <th>High</th>\n",
       "      <th>Low</th>\n",
       "      <th>Close</th>\n",
       "      <th>Volume</th>\n",
       "    </tr>\n",
       "  </thead>\n",
       "  <tbody>\n",
       "    <tr>\n",
       "      <th>0</th>\n",
       "      <td>2015-10-30</td>\n",
       "      <td>1345000</td>\n",
       "      <td>1390000</td>\n",
       "      <td>1341000</td>\n",
       "      <td>1372000</td>\n",
       "      <td>498776</td>\n",
       "    </tr>\n",
       "    <tr>\n",
       "      <th>1</th>\n",
       "      <td>2015-10-29</td>\n",
       "      <td>1330000</td>\n",
       "      <td>1392000</td>\n",
       "      <td>1324000</td>\n",
       "      <td>1325000</td>\n",
       "      <td>622336</td>\n",
       "    </tr>\n",
       "    <tr>\n",
       "      <th>2</th>\n",
       "      <td>2015-10-28</td>\n",
       "      <td>1294000</td>\n",
       "      <td>1308000</td>\n",
       "      <td>1291000</td>\n",
       "      <td>1308000</td>\n",
       "      <td>257374</td>\n",
       "    </tr>\n",
       "    <tr>\n",
       "      <th>3</th>\n",
       "      <td>2015-10-27</td>\n",
       "      <td>1282000</td>\n",
       "      <td>1299000</td>\n",
       "      <td>1281000</td>\n",
       "      <td>1298000</td>\n",
       "      <td>131144</td>\n",
       "    </tr>\n",
       "    <tr>\n",
       "      <th>4</th>\n",
       "      <td>2015-10-26</td>\n",
       "      <td>1298000</td>\n",
       "      <td>1298000</td>\n",
       "      <td>1272000</td>\n",
       "      <td>1292000</td>\n",
       "      <td>151996</td>\n",
       "    </tr>\n",
       "  </tbody>\n",
       "</table>\n",
       "</div>"
      ],
      "text/plain": [
       "        Date     Open     High      Low    Close  Volume\n",
       "0 2015-10-30  1345000  1390000  1341000  1372000  498776\n",
       "1 2015-10-29  1330000  1392000  1324000  1325000  622336\n",
       "2 2015-10-28  1294000  1308000  1291000  1308000  257374\n",
       "3 2015-10-27  1282000  1299000  1281000  1298000  131144\n",
       "4 2015-10-26  1298000  1298000  1272000  1292000  151996"
      ]
     },
     "execution_count": 84,
     "metadata": {},
     "output_type": "execute_result"
    }
   ],
   "source": [
    "kospi_frm = read_kospi_service('C:/Users/a/data/sam_kospi.xlsx')\n",
    "print('type - ' , type(kospi_frm))\n",
    "print()\n",
    "print(kospi_frm)\n",
    "print('excel 파일은 데이터 프레임으로 보지 않는다.')\n",
    "\n",
    "kospi_frm = kospi_frm.parse('sam_kospi')\n",
    "print(kospi_frm)\n",
    "print()\n",
    "kospi_frm.info()\n",
    "kospi_frm.head()"
   ]
  },
  {
   "cell_type": "markdown",
   "id": "ebcc2655",
   "metadata": {},
   "source": [
    "- decorator (디자인 패턴) : 사용자가 구조를 수정하지 않고 기존 객체의 새로운 기능을 추가할 수 있도록 하는 것"
   ]
  },
  {
   "cell_type": "code",
   "execution_count": 86,
   "id": "e9ae359e",
   "metadata": {},
   "outputs": [],
   "source": [
    "def add_function(x, y) :\n",
    "    print('worker add_function call - ')\n",
    "    return x + y"
   ]
  },
  {
   "cell_type": "code",
   "execution_count": 87,
   "id": "4dc38292",
   "metadata": {},
   "outputs": [],
   "source": [
    "def divide_function(x, y) :\n",
    "    print('worker divde_function call - ')\n",
    "    return x % y"
   ]
  },
  {
   "cell_type": "code",
   "execution_count": 90,
   "id": "94306c91",
   "metadata": {},
   "outputs": [
    {
     "name": "stdout",
     "output_type": "stream",
     "text": [
      "함수의 문제점은 로깅 작업이 각 함수마다 반복되고 있다는 것 - \n",
      "해결책 - 함수의 내부를 수정하지 않고 기능에 변화를 주고 싶다면 \n",
      "반복을 줄이고 함수의 확장이 가능해집니다.\n"
     ]
    }
   ],
   "source": [
    "print('함수의 문제점은 로깅 작업이 각 함수마다 반복되고 있다는 것 - ')\n",
    "print('해결책 - 함수의 내부를 수정하지 않고 기능에 변화를 주고 싶다면 ')\n",
    "print('반복을 줄이고 함수의 확장이 가능해집니다.')"
   ]
  },
  {
   "cell_type": "code",
   "execution_count": 92,
   "id": "e24a2cc8",
   "metadata": {},
   "outputs": [],
   "source": [
    "# 함수를 받는 함수\n",
    "# 1급 함수\n",
    "\n",
    "def logging_function(func) : \n",
    "    def wrapper(*args , **kwargs) : \n",
    "        print('worker - function' , func.__name__)\n",
    "        return func(*args , **kwargs)\n",
    "    return wrapper \n",
    "def add_function(x, y) :\n",
    "    return x + y\n",
    "def divide_function(x, y) :\n",
    "    return x / y"
   ]
  },
  {
   "cell_type": "code",
   "execution_count": 93,
   "id": "4ea3246d",
   "metadata": {},
   "outputs": [
    {
     "name": "stdout",
     "output_type": "stream",
     "text": [
      "worker - function add_function\n",
      "7\n",
      "worker - function divide_function\n",
      "2.0\n"
     ]
    }
   ],
   "source": [
    "logging_add = logging_function(add_function)\n",
    "logging_div = logging_function(divide_function)\n",
    "\n",
    "print(logging_add(3,4))\n",
    "print(logging_div(8,4))"
   ]
  },
  {
   "cell_type": "code",
   "execution_count": 95,
   "id": "7e7b52b9",
   "metadata": {},
   "outputs": [
    {
     "name": "stdout",
     "output_type": "stream",
     "text": [
      "worker - function substract_function\n",
      "8\n"
     ]
    }
   ],
   "source": [
    "# @_func  @의 의미는 해당 함수의 인자를 사용하겠다는 의미이다.\n",
    "@logging_function\n",
    "def substract_function(x,y) :\n",
    "    return x - y\n",
    "\n",
    "print(substract_function(10 , 2))"
   ]
  },
  {
   "cell_type": "code",
   "execution_count": null,
   "id": "245f2bb6",
   "metadata": {},
   "outputs": [],
   "source": [
    "'''\n",
    "\n",
    "전처리 작업 및 후처리 작업\n",
    "def insertMember(arg) :\n",
    "    권한처리\n",
    "    working...\n",
    "    로그작업\n",
    "def deleteMember(args) :\n",
    "    권한처리\n",
    "    working...\n",
    "    로그작업\n",
    "\n",
    "반복 작업 필요시\n",
    "wrapper()\n",
    "def decorator(funx) :\n",
    "    def wrapper(*args , **kwargs) :\n",
    "        권한처리\n",
    "        로그작업\n",
    "    return wrapper\n",
    "@decorator(특정 함수 인자를 사용)\n",
    "insertMember(args)\n",
    "\n",
    "@decorator\n",
    "\n",
    "'''"
   ]
  },
  {
   "cell_type": "code",
   "execution_count": 96,
   "id": "b32fdad1",
   "metadata": {},
   "outputs": [
    {
     "data": {
      "text/plain": [
       "'aa'"
      ]
     },
     "execution_count": 96,
     "metadata": {},
     "output_type": "execute_result"
    }
   ],
   "source": [
    "'a' + 'a'"
   ]
  },
  {
   "cell_type": "code",
   "execution_count": 99,
   "id": "6b686cac",
   "metadata": {},
   "outputs": [
    {
     "data": {
      "text/plain": [
       "False"
      ]
     },
     "execution_count": 99,
     "metadata": {},
     "output_type": "execute_result"
    }
   ],
   "source": [
    "bool('')"
   ]
  },
  {
   "cell_type": "code",
   "execution_count": 101,
   "id": "8a5928b3",
   "metadata": {},
   "outputs": [
    {
     "data": {
      "text/plain": [
       "['b', 'c', 'e', 'h']"
      ]
     },
     "execution_count": 101,
     "metadata": {},
     "output_type": "execute_result"
    }
   ],
   "source": [
    "listv=[\"A\", \"b\", \"c\", \"D\", \"e\", \"F\", \"G\", \"h\"]\n",
    "result=[x for x in listv if x.islower() ]\n",
    "result"
   ]
  },
  {
   "cell_type": "code",
   "execution_count": null,
   "id": "fb451cbc",
   "metadata": {},
   "outputs": [],
   "source": []
  },
  {
   "cell_type": "code",
   "execution_count": null,
   "id": "054ee978",
   "metadata": {},
   "outputs": [],
   "source": []
  },
  {
   "cell_type": "code",
   "execution_count": null,
   "id": "593b2dc4",
   "metadata": {},
   "outputs": [],
   "source": []
  },
  {
   "cell_type": "code",
   "execution_count": null,
   "id": "743bced8",
   "metadata": {},
   "outputs": [],
   "source": []
  },
  {
   "cell_type": "code",
   "execution_count": null,
   "id": "2b40f05f",
   "metadata": {},
   "outputs": [],
   "source": []
  }
 ],
 "metadata": {
  "kernelspec": {
   "display_name": "Python 3 (ipykernel)",
   "language": "python",
   "name": "python3"
  },
  "language_info": {
   "codemirror_mode": {
    "name": "ipython",
    "version": 3
   },
   "file_extension": ".py",
   "mimetype": "text/x-python",
   "name": "python",
   "nbconvert_exporter": "python",
   "pygments_lexer": "ipython3",
   "version": "3.9.12"
  }
 },
 "nbformat": 4,
 "nbformat_minor": 5
}
