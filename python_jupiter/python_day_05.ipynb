{
 "cells": [
  {
   "cell_type": "markdown",
   "id": "a04a7703",
   "metadata": {},
   "source": [
    "#### 함수 function-method(oop)\n",
    "- 전처리를 위해"
   ]
  },
  {
   "cell_type": "code",
   "execution_count": 2,
   "id": "62740e22",
   "metadata": {},
   "outputs": [
    {
     "name": "stdout",
     "output_type": "stream",
     "text": [
      "누적 값 확인 -  25\n"
     ]
    }
   ],
   "source": [
    "data = [1,3,5,7,9]\n",
    "tot = 0\n",
    "for var in data:\n",
    "    tot += var\n",
    "print('누적 값 확인 - ' , tot)"
   ]
  },
  {
   "cell_type": "code",
   "execution_count": 1,
   "id": "792c84fa",
   "metadata": {},
   "outputs": [
    {
     "ename": "NameError",
     "evalue": "name 'data' is not defined",
     "output_type": "error",
     "traceback": [
      "\u001b[1;31m---------------------------------------------------------------------------\u001b[0m",
      "\u001b[1;31mNameError\u001b[0m                                 Traceback (most recent call last)",
      "Input \u001b[1;32mIn [1]\u001b[0m, in \u001b[0;36m<cell line: 8>\u001b[1;34m()\u001b[0m\n\u001b[0;32m      4\u001b[0m         total \u001b[38;5;241m+\u001b[39m\u001b[38;5;241m=\u001b[39m val\n\u001b[0;32m      5\u001b[0m     \u001b[38;5;28;01mreturn\u001b[39;00m total\n\u001b[1;32m----> 8\u001b[0m total_calc(\u001b[43mdata\u001b[49m)\n",
      "\u001b[1;31mNameError\u001b[0m: name 'data' is not defined"
     ]
    }
   ],
   "source": [
    "def total_calc(lst) :\n",
    "    total = 0\n",
    "    for val in lst:\n",
    "        total += val\n",
    "    return total\n",
    "\n",
    "\n",
    "total_calc(data)"
   ]
  },
  {
   "cell_type": "code",
   "execution_count": 21,
   "id": "6e87e4a1",
   "metadata": {},
   "outputs": [
    {
     "name": "stdout",
     "output_type": "stream",
     "text": [
      "정의된 함수를 호출 -  25\n",
      "\n"
     ]
    }
   ],
   "source": [
    "print('정의된 함수를 호출 - ' , total_calc(data))\n",
    "print()"
   ]
  },
  {
   "cell_type": "code",
   "execution_count": 29,
   "id": "f41fbe81",
   "metadata": {},
   "outputs": [],
   "source": [
    "def user_sum(x,y) :\n",
    "    return x+y"
   ]
  },
  {
   "cell_type": "markdown",
   "id": "f48fd355",
   "metadata": {},
   "source": [
    "## .ipynb 파일을 읽어들이고 from 으로 해당 파일명 불러오기 import로 해당 파일의 함수를 불러올 수 있다."
   ]
  },
  {
   "cell_type": "markdown",
   "id": "0092cf2c",
   "metadata": {},
   "source": [
    "# pip install import_ipynb \n",
    "\n",
    "# import import_ipynb\n",
    "# from python_note import user_module\n"
   ]
  },
  {
   "cell_type": "markdown",
   "id": "0554a2f7",
   "metadata": {},
   "source": [
    "## 함수는 보통 외부에서 파일을 불러온다."
   ]
  },
  {
   "cell_type": "markdown",
   "id": "8d3fa840",
   "metadata": {},
   "source": [
    "## - 함수의 유형"
   ]
  },
  {
   "cell_type": "code",
   "execution_count": 39,
   "id": "66d20993",
   "metadata": {},
   "outputs": [],
   "source": [
    "def printGreeting01() :\n",
    "    print('이제 함수를 살펴보겠습니다. 유형 1 - 인자 X , 리턴 X')"
   ]
  },
  {
   "cell_type": "code",
   "execution_count": 40,
   "id": "166d0f72",
   "metadata": {},
   "outputs": [
    {
     "name": "stdout",
     "output_type": "stream",
     "text": [
      "이제 함수를 살펴보겠습니다. 유형 1 - 인자 X , 리턴 X\n"
     ]
    }
   ],
   "source": [
    "printGreeting01()"
   ]
  },
  {
   "cell_type": "code",
   "execution_count": 41,
   "id": "ad46ad4e",
   "metadata": {},
   "outputs": [],
   "source": [
    "def printGreeting02(msg) :\n",
    "    print('유형 2 - 인자 O 리턴 X')"
   ]
  },
  {
   "cell_type": "code",
   "execution_count": 45,
   "id": "8a38bdde",
   "metadata": {},
   "outputs": [
    {
     "name": "stdout",
     "output_type": "stream",
     "text": [
      "유형 2 - 인자 O 리턴 X\n",
      "유형 2 - 인자 O 리턴 X\n"
     ]
    }
   ],
   "source": [
    "printGreeting02('asd')\n",
    "printGreeting02(1)"
   ]
  },
  {
   "cell_type": "code",
   "execution_count": 49,
   "id": "f2a4ad19",
   "metadata": {},
   "outputs": [],
   "source": [
    "def printGreeting03() :\n",
    "    print('유형 3 - 인자 X  , 리턴 O')\n",
    "    return (1,2)"
   ]
  },
  {
   "cell_type": "code",
   "execution_count": 51,
   "id": "205f97e8",
   "metadata": {},
   "outputs": [
    {
     "name": "stdout",
     "output_type": "stream",
     "text": [
      "유형 3 - 인자 X  , 리턴 O\n"
     ]
    },
    {
     "data": {
      "text/plain": [
       "(1, 2)"
      ]
     },
     "execution_count": 51,
     "metadata": {},
     "output_type": "execute_result"
    }
   ],
   "source": [
    "printGreeting03()"
   ]
  },
  {
   "cell_type": "code",
   "execution_count": 55,
   "id": "214f688a",
   "metadata": {},
   "outputs": [
    {
     "name": "stdout",
     "output_type": "stream",
     "text": [
      "유형 3 - 인자 X  , 리턴 O\n",
      "1 2\n"
     ]
    }
   ],
   "source": [
    "# unpacking\n",
    "\n",
    "x, y = printGreeting03()\n",
    "print(x,y)"
   ]
  },
  {
   "cell_type": "code",
   "execution_count": 67,
   "id": "22c87f59",
   "metadata": {},
   "outputs": [],
   "source": [
    "# 인자로 들어온 값의 범위에서 홀수의 합 , 짝수의 합을 리턴\n",
    "\n",
    "def printGreeting04(start : int , end : int):\n",
    "    print('유형 4 - 인자 O , 리턴 O')\n",
    "    odd_sum = even_sum = 0\n",
    "    for val in range(start , end+1) :\n",
    "        if val % 2 == 0 :\n",
    "            even_sum += val\n",
    "        else :\n",
    "            odd_sum += val\n",
    "    \n",
    "    return odd_sum , even_sum"
   ]
  },
  {
   "cell_type": "code",
   "execution_count": 73,
   "id": "ddd4e3bf",
   "metadata": {},
   "outputs": [
    {
     "name": "stdout",
     "output_type": "stream",
     "text": [
      "유형 4 - 인자 O , 리턴 O\n",
      "짝수의 합 :  25\n",
      "홀수의 합 :  30\n"
     ]
    }
   ],
   "source": [
    "even , odd = printGreeting04(1, 10)\n",
    "\n",
    "print(\"짝수의 합 : \" , even)\n",
    "print(\"홀수의 합 : \" , odd)\n",
    "\n"
   ]
  },
  {
   "cell_type": "code",
   "execution_count": 80,
   "id": "a4e26711",
   "metadata": {},
   "outputs": [],
   "source": [
    "def make_email(email : str) :\n",
    "    full_email = 'www.{}.com'.format(email)\n",
    "    return full_email\n",
    "\n",
    "def make_url(email : str) :\n",
    "    return 'www.' + email + '.com'"
   ]
  },
  {
   "cell_type": "code",
   "execution_count": 81,
   "id": "a65cc81a",
   "metadata": {},
   "outputs": [
    {
     "data": {
      "text/plain": [
       "'www.naver.com'"
      ]
     },
     "execution_count": 81,
     "metadata": {},
     "output_type": "execute_result"
    }
   ],
   "source": [
    "make_email('naver')\n",
    "make_url('naver')"
   ]
  },
  {
   "cell_type": "code",
   "execution_count": 95,
   "id": "2255cb18",
   "metadata": {},
   "outputs": [],
   "source": [
    "urls = ['naver' , 'google' , 'samsung' , 'lg' , 'sk' , 'multicampus' , 'abcdef']\n",
    "\n",
    "def makeUrl(email : list) :\n",
    "    for val in range(len(urls)) :\n",
    "        email[val] = 'www.{}.com'.format(email[val])\n",
    "    return email"
   ]
  },
  {
   "cell_type": "code",
   "execution_count": 96,
   "id": "9b60151a",
   "metadata": {},
   "outputs": [],
   "source": [
    "urls = ['naver' , 'google' , 'samsung' , 'lg' , 'sk' , 'multicampus' , 'abcdef']\n",
    "\n",
    "def makeUrl(email : list) :\n",
    "    result = ['www.' + url + '.com' for url in email]\n",
    "    return result"
   ]
  },
  {
   "cell_type": "code",
   "execution_count": 87,
   "id": "edb6da59",
   "metadata": {},
   "outputs": [
    {
     "data": {
      "text/plain": [
       "'google'"
      ]
     },
     "execution_count": 87,
     "metadata": {},
     "output_type": "execute_result"
    }
   ],
   "source": [
    "urls = ['naver' , 'google' , 'samsung' , 'lg' , 'sk' , 'multicampus']\n",
    "range(len(urls)-1)\n",
    "urls[1]\n"
   ]
  },
  {
   "cell_type": "code",
   "execution_count": 93,
   "id": "3648f697",
   "metadata": {},
   "outputs": [
    {
     "data": {
      "text/plain": [
       "['www.naver.com',\n",
       " 'www.google.com',\n",
       " 'www.samsung.com',\n",
       " 'www.lg.com',\n",
       " 'www.sk.com',\n",
       " 'www.multicampus.com',\n",
       " 'www.abcdef.com']"
      ]
     },
     "execution_count": 93,
     "metadata": {},
     "output_type": "execute_result"
    }
   ],
   "source": [
    "makeUrl(urls)"
   ]
  },
  {
   "cell_type": "code",
   "execution_count": 114,
   "id": "681a8e9b",
   "metadata": {},
   "outputs": [],
   "source": [
    "def return_even(lst : list) :\n",
    "    result = [num for num in lst if num % 2 == 0]\n",
    "    return result \n",
    "    "
   ]
  },
  {
   "cell_type": "code",
   "execution_count": 116,
   "id": "fbc04c69",
   "metadata": {},
   "outputs": [
    {
     "data": {
      "text/plain": [
       "[2, 4, 6]"
      ]
     },
     "execution_count": 116,
     "metadata": {},
     "output_type": "execute_result"
    }
   ],
   "source": [
    "abc = [1,2,3,4,5,6]\n",
    "return_even(abc)"
   ]
  },
  {
   "cell_type": "code",
   "execution_count": 133,
   "id": "afc80eb5",
   "metadata": {},
   "outputs": [
    {
     "name": "stdout",
     "output_type": "stream",
     "text": [
      "최진형님은 은색 색을 좋아합니다.\n"
     ]
    }
   ],
   "source": [
    "''' flag T = 선호 flag F =  비선호 flag는 보통 boolean 형 선언시 사용'''\n",
    "def favorate_color(name : str , color : str , flag : bool) :\n",
    "    if flag  :\n",
    "        print(\"{}님은 {} 색을 좋아합니다.\" .format(name, color))\n",
    "    else :\n",
    "        print(\"{}님은 {} 색을 싫어합니다.\" .format(name, color))\n",
    "\n",
    "favorate_color('최진형' , '은색' , True)"
   ]
  },
  {
   "cell_type": "code",
   "execution_count": null,
   "id": "911aecc9",
   "metadata": {},
   "outputs": [],
   "source": [
    "''' flag T = 선호 flag F =  비선호 flag는 보통 boolean 형 선언시 사용'''\n",
    "def favorate_color(name : str , color : str , flag : bool) :\n",
    "    if flag :\n",
    "        print( name + \" 님은 \" + color + \"을 좋아합니다.\" )\n",
    "    else :\n",
    "        print( name + \" 님은 \" + color + \"을 싫어합니다.\" )\n",
    "\n",
    "favorate_color('최진형' , '은색' , True)"
   ]
  },
  {
   "cell_type": "code",
   "execution_count": 155,
   "id": "7d60ad87",
   "metadata": {},
   "outputs": [],
   "source": [
    "user_info_dict = [{'name' : '섭섭해' , 'color' : '빨강' , 'flag' : False} ,\n",
    "                  {'name' : '두나' , 'color' : '주황' , 'flag' : True} ,\n",
    "                  {'name' : '세나' , 'color' : '노랑' , 'flag' : True} ]"
   ]
  },
  {
   "cell_type": "code",
   "execution_count": 171,
   "id": "2b7df6c1",
   "metadata": {},
   "outputs": [],
   "source": [
    "def favorate_color_list(lst : list) :\n",
    "    for val in range(len(lst)) :\n",
    "        if lst[val]['flag'] :\n",
    "            print(\"{}님은 {}색을 좋아합니다.\" .format(lst[val]['name'], lst[val]['color']))\n",
    "        else :\n",
    "            print(\"{}님은 {}색을 싫어합니다.\" .format(lst[val]['name'], lst[val]['color']))\n",
    "\n",
    "        \n",
    "    \n",
    "             \n",
    "                  "
   ]
  },
  {
   "cell_type": "code",
   "execution_count": 172,
   "id": "e41762a3",
   "metadata": {},
   "outputs": [
    {
     "name": "stdout",
     "output_type": "stream",
     "text": [
      "섭섭해님은 빨강색을 싫어합니다.\n",
      "두나님은 주황색을 좋아합니다.\n",
      "세나님은 노랑색을 좋아합니다.\n"
     ]
    }
   ],
   "source": [
    "favorate_color_list(user_info_dict)"
   ]
  },
  {
   "cell_type": "markdown",
   "id": "3c908975",
   "metadata": {},
   "source": [
    "### 인자를 튜플로 받을 때 사용  *\n",
    "- 인자를 가변인자를 받아야할 때 유용"
   ]
  },
  {
   "cell_type": "code",
   "execution_count": 3,
   "id": "ed56818f",
   "metadata": {},
   "outputs": [
    {
     "name": "stdout",
     "output_type": "stream",
     "text": [
      "* 튜플을 인자로 받는 것을 의미한다. - \n",
      "sum -  100\n",
      "1 과목의 평균은 : 100.000000\n",
      "sum -  254\n",
      "3 과목의 평균은 : 84.666667\n"
     ]
    }
   ],
   "source": [
    "print('* 튜플을 인자로 받는 것을 의미한다. - ')\n",
    "def average(*scores) :\n",
    "    sum = 0\n",
    "    for idx in range(len(scores)) :\n",
    "        sum += scores[idx]\n",
    "    print('sum - ' , sum)\n",
    "    avg = sum / len(scores)\n",
    "    print('%d 과목의 평균은 : %f' % (len(scores) , avg))\n",
    "average(100)\n",
    "average(100 , 80 , 74)"
   ]
  },
  {
   "cell_type": "markdown",
   "id": "e79de014",
   "metadata": {},
   "source": [
    "### 인자를 딕셔너리로 받을 때 사용 **\n",
    "- 인자를 가변인자로 받아야할 때 유용"
   ]
  },
  {
   "cell_type": "code",
   "execution_count": 10,
   "id": "7f89e7e4",
   "metadata": {},
   "outputs": [
    {
     "name": "stdout",
     "output_type": "stream",
     "text": [
      "** dict를 인자로 받는 것을 의미한다. - \n",
      "key = name , value = jslim\n",
      "key = age , value = 123\n"
     ]
    }
   ],
   "source": [
    "print('** dict를 인자로 받는 것을 의미한다. - ')\n",
    "def kwargs_dict(** kwargs) :\n",
    "    for key , value in kwargs.items() :\n",
    "        print('key = {} , value = {}'.format(key , value))\n",
    "kwargs_dict(name = 'jslim' , age = 123)"
   ]
  },
  {
   "cell_type": "code",
   "execution_count": 12,
   "id": "14317c8a",
   "metadata": {},
   "outputs": [],
   "source": [
    "def print_coin() :\n",
    "    print('coin')"
   ]
  },
  {
   "cell_type": "code",
   "execution_count": 14,
   "id": "f3bf7f9e",
   "metadata": {},
   "outputs": [
    {
     "name": "stdout",
     "output_type": "stream",
     "text": [
      "파이썬에서는 함수도 변수 타입으로 간주한다.\n",
      "coin\n"
     ]
    }
   ],
   "source": [
    "print('파이썬에서는 함수도 변수 타입으로 간주한다.')\n",
    "coin = print_coin\n",
    "coin()"
   ]
  },
  {
   "cell_type": "code",
   "execution_count": 23,
   "id": "f7757e01",
   "metadata": {},
   "outputs": [
    {
     "name": "stdout",
     "output_type": "stream",
     "text": [
      "만약 가변인수와 일반 데이터가 혼용되어 있다면\n",
      "함수 호출 caller - \n",
      "args01 -  10 type -  <class 'int'>\n",
      "args02 -  20 type -  <class 'int'>\n",
      "args03 -  (['asd'], 'lim', 'kim', 'park', 'moon', 'cho') type -  <class 'tuple'>\n",
      "args04 -  {'age': 24, 'gender': 'f', 'address': 'seoul'} type -  <class 'dict'>\n"
     ]
    }
   ],
   "source": [
    "print('만약 가변인수와 일반 데이터가 혼용되어 있다면')\n",
    "\n",
    "def mix_type(args01 , args02 , *args03 , **args04) :\n",
    "    print('args01 - ' , args01 , 'type - ' , type(args01))\n",
    "    print('args02 - ' , args02 , 'type - ' , type(args02))\n",
    "    print('args03 - ' , args03 , 'type - ' , type(args03))\n",
    "    print('args04 - ' , args04 , 'type - ' , type(args04))\n",
    "print('함수 호출 caller - ')\n",
    "mix_type(10 , 20 , ['asd'] , 'lim' , 'kim' , 'park' , 'moon' , 'cho' , age = 24 , gender = 'f' , address = 'seoul')"
   ]
  },
  {
   "cell_type": "markdown",
   "id": "1c6bff02",
   "metadata": {},
   "source": [
    "- 함수의 인자로 함수 전달이 가능하다. ( 즉 , 함수를 인자로 넘겨줄 수 있다.)"
   ]
  },
  {
   "cell_type": "code",
   "execution_count": 39,
   "id": "0899fcea",
   "metadata": {},
   "outputs": [
    {
     "name": "stdout",
     "output_type": "stream",
     "text": [
      "함수 호출 caller - \n",
      "28\n",
      "4\n",
      "2.160246899469287\n"
     ]
    }
   ],
   "source": [
    "from statistics import *\n",
    "\n",
    "\n",
    "def user_statistics(func , *data) :\n",
    "    print(func(data))\n",
    "print('함수 호출 caller - ')\n",
    "user_statistics(sum , 1,2,3,4,5,6,7)\n",
    "user_statistics(mean , 1,2,3,4,5,6,7)\n",
    "user_statistics(stdev , 1,2,3,4,5,6,7)"
   ]
  },
  {
   "cell_type": "markdown",
   "id": "d047b3b7",
   "metadata": {},
   "source": [
    "- 지역 변수(Local Variable) : 블럭 내에서만 유효\n",
    "- 전역 변수(Global Variable) : 하위의 모든 함수에서 사용 가능한 유효 범위"
   ]
  },
  {
   "cell_type": "code",
   "execution_count": 44,
   "id": "36ede326",
   "metadata": {},
   "outputs": [
    {
     "name": "stdout",
     "output_type": "stream",
     "text": [
      "10\n",
      "\n",
      "\n",
      "100\n"
     ]
    }
   ],
   "source": [
    "def local_func() :\n",
    "    xx = 10\n",
    "    print(xx)\n",
    "\n",
    "func()\n",
    "print()\n",
    "print()\n",
    "yy = 100\n",
    "\n",
    "def global_func() :\n",
    "    print(yy)\n",
    "global_func()"
   ]
  },
  {
   "cell_type": "code",
   "execution_count": 57,
   "id": "d689fda6",
   "metadata": {},
   "outputs": [
    {
     "name": "stdout",
     "output_type": "stream",
     "text": [
      "inner fun print -  100\n",
      "address -  1232209008080\n",
      "out fun print -  10 1232208816720\n",
      "inner fun print -  100\n",
      "address -  1232209008080\n",
      "out fun print -  100 1232209008080\n"
     ]
    }
   ],
   "source": [
    "def func() :\n",
    "    global xxx\n",
    "    xxx = 100\n",
    "    print('inner fun print - ' , xxx)\n",
    "    print('address - ' , id(xxx))\n",
    "\n",
    "func()\n",
    "xxx = 10\n",
    "print(\"out fun print - \" , xxx , id(xxx))\n",
    "func()\n",
    "print(\"out fun print - \" , xxx , id(xxx))\n"
   ]
  },
  {
   "cell_type": "markdown",
   "id": "0a3d66cf",
   "metadata": {},
   "source": [
    "### global로 변수 선언시 지역 변수를 전역 변수로 사용한다"
   ]
  },
  {
   "cell_type": "markdown",
   "id": "f451dfea",
   "metadata": {},
   "source": [
    " - lambda\n",
    " - 형식 ) lambda 매개변수 : 표현식"
   ]
  },
  {
   "cell_type": "code",
   "execution_count": 76,
   "id": "7fce35e4",
   "metadata": {},
   "outputs": [
    {
     "name": "stdout",
     "output_type": "stream",
     "text": [
      "3\n",
      "\n",
      "\n",
      "30 <class 'int'>\n",
      "\n",
      "\n",
      "caller - \n",
      ">>>>  30\n"
     ]
    }
   ],
   "source": [
    "def hap (x , y) :\n",
    "    return x + y\n",
    "\n",
    "result = hap(1,2)\n",
    "print(result)\n",
    "\n",
    "print()\n",
    "print()\n",
    "\n",
    "result_2 = (lambda x , y : x + y )(10 , 20) \n",
    "# 괄호는 람다식을 수행하라는 의미 즉 출력은 변수형\n",
    "# 괄호가 없을 경우 람다식을 갖게 됨 \n",
    "print(result_2 , type(result_2))\n",
    "\n",
    "print()\n",
    "print()\n",
    "\n",
    "def func_final(x,y,func) :\n",
    "    print('>>>> ' , func(x,y))\n",
    "print('caller - ')\n",
    "func_final(10, 20 , lambda x,y : x + y)"
   ]
  },
  {
   "cell_type": "markdown",
   "id": "0ddfe3cb",
   "metadata": {},
   "source": [
    "- util 함수 (zip , map , reduce)\n",
    "- util.func(func , list)\n",
    "- map : 리스트로부터 요소를 하나씩 꺼내서 함수를 적용시킨 다음 , 그 결과를 리스트에 담아서 리턴\n",
    "- reduce : 누적값을 리턴하는 함수\n",
    "- filter : 특정 값만을 리턴하는 함수"
   ]
  },
  {
   "cell_type": "code",
   "execution_count": 91,
   "id": "410cd53f",
   "metadata": {},
   "outputs": [
    {
     "data": {
      "text/plain": [
       "[0, 1, 4, 9, 16]"
      ]
     },
     "execution_count": 91,
     "metadata": {},
     "output_type": "execute_result"
    }
   ],
   "source": [
    "list(map(lambda x : x ** 2 , range(5)))"
   ]
  },
  {
   "cell_type": "code",
   "execution_count": 92,
   "id": "aec223dc",
   "metadata": {},
   "outputs": [
    {
     "name": "stdout",
     "output_type": "stream",
     "text": [
      "10\n",
      "10\n",
      "fedcba\n"
     ]
    }
   ],
   "source": [
    "from functools import reduce\n",
    "print(reduce(lambda x, y : x + y , range(5)))\n",
    "print(reduce(lambda x, y : y + x , range(5)))\n",
    "print(reduce(lambda x, y : y + x , 'abcdef'))"
   ]
  },
  {
   "cell_type": "code",
   "execution_count": 95,
   "id": "3ae568ad",
   "metadata": {},
   "outputs": [
    {
     "data": {
      "text/plain": [
       "[0, 2, 4, 6, 8, 10, 12, 14, 16, 18, 20]"
      ]
     },
     "execution_count": 95,
     "metadata": {},
     "output_type": "execute_result"
    }
   ],
   "source": [
    "# 짝수 찾기\n",
    "filter(lambda x : x % 2 == 0 , range(21))\n",
    "list(filter(lambda x : x % 2 == 0 , range(21)))\n"
   ]
  },
  {
   "cell_type": "code",
   "execution_count": 100,
   "id": "20b185f1",
   "metadata": {},
   "outputs": [
    {
     "name": "stdout",
     "output_type": "stream",
     "text": [
      "hint -  6\n"
     ]
    }
   ],
   "source": [
    "def user_length(word : str , num : int) -> None :\n",
    "    print('hint - ' , len(word) * num)\n",
    "    \n",
    "user_length('abcdef' , 1)"
   ]
  },
  {
   "cell_type": "code",
   "execution_count": null,
   "id": "c21e970b",
   "metadata": {},
   "outputs": [],
   "source": []
  },
  {
   "cell_type": "code",
   "execution_count": null,
   "id": "7db4898a",
   "metadata": {},
   "outputs": [],
   "source": []
  },
  {
   "cell_type": "code",
   "execution_count": null,
   "id": "358f3b9d",
   "metadata": {},
   "outputs": [],
   "source": []
  },
  {
   "cell_type": "code",
   "execution_count": null,
   "id": "ed989d2f",
   "metadata": {},
   "outputs": [],
   "source": []
  },
  {
   "cell_type": "code",
   "execution_count": null,
   "id": "c858f8ca",
   "metadata": {},
   "outputs": [],
   "source": []
  }
 ],
 "metadata": {
  "kernelspec": {
   "display_name": "Python 3 (ipykernel)",
   "language": "python",
   "name": "python3"
  },
  "language_info": {
   "codemirror_mode": {
    "name": "ipython",
    "version": 3
   },
   "file_extension": ".py",
   "mimetype": "text/x-python",
   "name": "python",
   "nbconvert_exporter": "python",
   "pygments_lexer": "ipython3",
   "version": "3.9.12"
  }
 },
 "nbformat": 4,
 "nbformat_minor": 5
}
