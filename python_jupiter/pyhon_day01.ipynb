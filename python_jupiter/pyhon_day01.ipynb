{
 "cells": [
  {
   "cell_type": "code",
   "execution_count": 3,
   "id": "5e724eb2",
   "metadata": {},
   "outputs": [
    {
     "name": "stdout",
     "output_type": "stream",
     "text": [
      "Hellow world!\n"
     ]
    }
   ],
   "source": [
    "print('Hellow world!')"
   ]
  },
  {
   "cell_type": "markdown",
   "id": "a1a3e33e",
   "metadata": {},
   "source": [
    "##### 파이썬 변수 및 주의사항\n",
    "대소문자 구별\n",
    "허용되는 특수문자_.$\n",
    "예약어는 변수 또는 함수명으로 불가\n"
   ]
  },
  {
   "cell_type": "code",
   "execution_count": 7,
   "id": "3a369f65",
   "metadata": {},
   "outputs": [
    {
     "data": {
      "text/plain": [
       "'\\n변수\\nBuilt - in Type\\n- Numeric \\n- Sequence\\n- Text Sequence\\n- Met\\n- Mapping(dict , tupel)\\n- Booean\\n- Class(Object Oriented Programming)\\n\\n식별자 지정방법\\n- Camel Case  -> numberOfCollege 처음 소문자 연결되는 문자 대문자 (변수 , 함수)\\n- Pascal Case -> NumberOfCollege 처음 대문자 연결되는 문자 대문자 (클래스(필수))\\n- Snake Case  -> number_of_college 문자 연결시 언더바             (변수 , 함수)\\n'"
      ]
     },
     "execution_count": 7,
     "metadata": {},
     "output_type": "execute_result"
    }
   ],
   "source": [
    "'''\n",
    "변수\n",
    "Built - in Type\n",
    "- Numeric \n",
    "- Sequence\n",
    "- Text Sequence\n",
    "- Met\n",
    "- Mapping(dict , tupel)\n",
    "- Booean\n",
    "- Class(Object Oriented Programming)\n",
    "\n",
    "식별자 지정방법\n",
    "- Camel Case  -> numberOfCollege 처음 소문자 연결되는 문자 대문자 (변수 , 함수)\n",
    "- Pascal Case -> NumberOfCollege 처음 대문자 연결되는 문자 대문자 (클래스(필수))\n",
    "- Snake Case  -> number_of_college 문자 연결시 언더바             (변수 , 함수)\n",
    "'''"
   ]
  },
  {
   "cell_type": "code",
   "execution_count": 9,
   "id": "54cf193e",
   "metadata": {},
   "outputs": [
    {
     "name": "stdout",
     "output_type": "stream",
     "text": [
      "['False', 'None', 'True', '__peg_parser__', 'and', 'as', 'assert', 'async', 'await', 'break', 'class', 'continue', 'def', 'del', 'elif', 'else', 'except', 'finally', 'for', 'from', 'global', 'if', 'import', 'in', 'is', 'lambda', 'nonlocal', 'not', 'or', 'pass', 'raise', 'return', 'try', 'while', 'with', 'yield']\n"
     ]
    }
   ],
   "source": [
    "import keyword\n",
    "print(keyword.kwlist)\n",
    "# 사용불가 식별자"
   ]
  },
  {
   "cell_type": "code",
   "execution_count": 84,
   "id": "d55ddfc9",
   "metadata": {},
   "outputs": [
    {
     "name": "stdout",
     "output_type": "stream",
     "text": [
      "Numeric Type - type()\n",
      "<class 'int'>\n",
      "year type  -  <class 'int'>\n",
      "year type  -  <class 'int'>\n",
      "year type  -  <class 'int'>\n",
      "float type    -  <class 'float'>\n",
      "booleanValue  -  <class 'bool'>\n",
      "stringValue   -  <class 'str'>\n"
     ]
    }
   ],
   "source": [
    "print('Numeric Type - type()')\n",
    "year  = 2022\n",
    "month = 9\n",
    "day   = 22\n",
    "\n",
    "print(type(year))\n",
    "print('year type  - ' , type(year))\n",
    "print('year type  - ' , type(month))\n",
    "print('year type  - ' , type(day))\n",
    "\n",
    "floatValue = 3.14\n",
    "print('float type    - ' , type(floatValue))\n",
    "\n",
    "booleanValue = True\n",
    "print('booleanValue  - ' , type(booleanValue))\n",
    "\n",
    "strValue = 'jslim'\n",
    "print('stringValue   - ' , type(strValue))\n"
   ]
  },
  {
   "cell_type": "markdown",
   "id": "ea7bd6fe",
   "metadata": {},
   "source": [
    "## 중요"
   ]
  },
  {
   "cell_type": "code",
   "execution_count": 86,
   "id": "572c7851",
   "metadata": {},
   "outputs": [
    {
     "name": "stdout",
     "output_type": "stream",
     "text": [
      "문자 순차형 - list \n",
      "인덱스로 관리되는 데티어(인덱싱 , 슬라이싱)\n",
      "['jslim', 'python', 'django', 'numpy', 'pandas']\n",
      "data -  ['jslim', 'python', 'django', 'numpy', 'pandas']\n",
      "type -  <class 'list'>\n",
      "인덱스는 0부터 시작한다\n",
      "indexing\n",
      "idexing - \n",
      "jslim\n",
      "\n",
      "slicing -\n",
      "django\n",
      "Talk is cheap. Show me the code <class 'str'> 31\n",
      "['__add__', '__class__', '__contains__', '__delattr__', '__dir__', '__doc__', '__eq__', '__format__', '__ge__', '__getattribute__', '__getitem__', '__getnewargs__', '__gt__', '__hash__', '__init__', '__init_subclass__', '__iter__', '__le__', '__len__', '__lt__', '__mod__', '__mul__', '__ne__', '__new__', '__reduce__', '__reduce_ex__', '__repr__', '__rmod__', '__rmul__', '__setattr__', '__sizeof__', '__str__', '__subclasshook__', 'capitalize', 'casefold', 'center', 'count', 'encode', 'endswith', 'expandtabs', 'find', 'format', 'format_map', 'index', 'isalnum', 'isalpha', 'isascii', 'isdecimal', 'isdigit', 'isidentifier', 'islower', 'isnumeric', 'isprintable', 'isspace', 'istitle', 'isupper', 'join', 'ljust', 'lower', 'lstrip', 'maketrans', 'partition', 'removeprefix', 'removesuffix', 'replace', 'rfind', 'rindex', 'rjust', 'rpartition', 'rsplit', 'rstrip', 'split', 'splitlines', 'startswith', 'strip', 'swapcase', 'title', 'translate', 'upper', 'zfill']\n",
      "talk slicing =  Talk\n",
      "T\n",
      "a\n",
      "l\n",
      "k\n",
      " \n",
      "i\n",
      "s\n",
      " \n",
      "c\n",
      "h\n",
      "e\n",
      "a\n",
      "p\n",
      ".\n",
      " \n",
      "S\n",
      "h\n",
      "o\n",
      "w\n",
      " \n",
      "m\n",
      "e\n",
      " \n",
      "t\n",
      "h\n",
      "e\n",
      " \n",
      "c\n",
      "o\n",
      "d\n",
      "e\n",
      "블럭을 빠져나왔다.\n"
     ]
    }
   ],
   "source": [
    "print('문자 순차형 - list ')\n",
    "print('인덱스로 관리되는 데티어(인덱싱 , 슬라이싱)')\n",
    "tmp_list = ['jslim' , 'python' , 'django' , 'numpy' , 'pandas']\n",
    "print(list)\n",
    "\n",
    "print('data - ' , tmp_list)\n",
    "print('type - ' , type(tmp_list))\n",
    "print('인덱스는 0부터 시작한다')\n",
    "print('indexing')\n",
    "\n",
    "print('idexing - ')\n",
    "print(tmp_list[0])\n",
    "print()\n",
    "\n",
    "print('slicing -')\n",
    "print(tmp_list[2])\n",
    "\n",
    "txt_seq = 'Talk is cheap. Show me the code'\n",
    "print(txt_seq , type(txt_seq) , len(txt_seq))\n",
    "print(dir(txt_seq))\n",
    "\n",
    "print('talk slicing = ' , txt_seq[0:4])\n",
    "\n",
    "for char in txt_seq : \n",
    "    print(char)\n",
    "    \n",
    "print(\"블럭을 빠져나왔다.\")"
   ]
  },
  {
   "cell_type": "code",
   "execution_count": 90,
   "id": "c06a0375",
   "metadata": {},
   "outputs": [
    {
     "name": "stdout",
     "output_type": "stream",
     "text": [
      "문자 순차형 - \n"
     ]
    }
   ],
   "source": [
    "print('문자 순차형 - ')\n",
    "txt_seq = 'Talk is cheap. Show me the code'"
   ]
  },
  {
   "cell_type": "raw",
   "id": "fc1790fe",
   "metadata": {},
   "source": []
  },
  {
   "cell_type": "code",
   "execution_count": null,
   "id": "0ef492b2",
   "metadata": {},
   "outputs": [],
   "source": []
  },
  {
   "cell_type": "code",
   "execution_count": null,
   "id": "cd6c7a21",
   "metadata": {},
   "outputs": [],
   "source": []
  },
  {
   "cell_type": "code",
   "execution_count": 88,
   "id": "1c779407",
   "metadata": {},
   "outputs": [
    {
     "name": "stdout",
     "output_type": "stream",
     "text": [
      "출력의 형식을 다르게 포멧팅할 수 있는 방법 - \n",
      "print() sep ,end\n",
      "\n",
      "\n",
      "Speak Out. 'student'\n",
      "우리는 분석을 위한 파이썬을 학습하니다. \n",
      "그래서 , 파이썬이 좋아요.\n",
      "섭섭이도 좋아요\n",
      "오늘은 목요일 입니다.\n",
      "\n",
      "option - sep\n",
      "\n",
      "P\tY\tT\tH\tO\tN\n",
      "PYTHON\n",
      "P-Y-T-H-O-N\n",
      "python.org\n",
      "crayole7895@naver.com\n",
      "\n",
      "option - end \n",
      "\n",
      "Welcome To Website\n"
     ]
    }
   ],
   "source": [
    "print('출력의 형식을 다르게 포멧팅할 수 있는 방법 - ')\n",
    "print('print() sep ,end' )\n",
    "print()\n",
    "print()\n",
    "\n",
    "print(\"Speak Out. 'student'\")\n",
    "print(\"\"\"우리는 분석을 위한 파이썬을 학습하니다. \n",
    "그래서 , 파이썬이 좋아요.\n",
    "섭섭이도 좋아요\"\"\")\n",
    "print('오늘은' , '목요일' , '입니다.')\n",
    "print()\n",
    "print('option - sep')\n",
    "print()\n",
    "print('P' , 'Y' , 'T' , 'H' , 'O' , 'N' , sep = '\\t')\n",
    "print('P' , 'Y' , 'T' , 'H' , 'O' , 'N' , sep = '')\n",
    "print('P' , 'Y' , 'T' , 'H' , 'O' , 'N' , sep = '-')\n",
    "print('python' , 'org' , sep = '.')\n",
    "print('crayole7895' , 'naver.com' , sep = '@')\n",
    "\n",
    "print()\n",
    "print('option - end ')\n",
    "print()\n",
    "print('Welcome To' , end = ' ')\n",
    "print('Website')"
   ]
  },
  {
   "cell_type": "code",
   "execution_count": 89,
   "id": "144c6a18",
   "metadata": {},
   "outputs": [
    {
     "name": "stdout",
     "output_type": "stream",
     "text": [
      "format (%d, %s , %f)\n",
      "당신의 이름은는 최진형 이고 나이는 24 살 입니다.\n",
      "당신의 이름은는 최진형 이고 나이는 24 살 입니다.\n",
      "당신의 이름은는 최진형 이고 나이는 24 살 입니다.\n",
      "\n",
      "3.14\n"
     ]
    }
   ],
   "source": [
    "print('format (%d, %s , %f)')\n",
    "print('당신의 %s는 %s 이고 나이는 %d 살 입니다.' %('이름은' ,'최진형' , 24))\n",
    "print('당신의 {}는 {} 이고 나이는 {} 살 입니다.' .format('이름은' ,'최진형' , 24))\n",
    "print('당신의 {1}는 {2} 이고 나이는 {0} 살 입니다.' .format(24 ,'이름은' ,'최진형' ))\n",
    "print()\n",
    "print('%.2f' % (3.141592))"
   ]
  },
  {
   "cell_type": "code",
   "execution_count": 101,
   "id": "d3d97df9",
   "metadata": {},
   "outputs": [
    {
     "name": "stdout",
     "output_type": "stream",
     "text": [
      "-index 를 제공합니다.\n",
      "indexinf -  e\n",
      "slicnig  -  code\n",
      "step     -  Tl scep hwm h oe\n",
      "step     -  eo h mwh pecs lT\n"
     ]
    }
   ],
   "source": [
    "txt_seq = 'Talk is cheap. Show me the code'\n",
    "print('-index 를 제공합니다.')\n",
    "print('indexinf - ' , txt_seq[-1])\n",
    "print('slicnig  - ' , txt_seq[-4:])\n",
    "print('step     - ' , txt_seq[0 : len(txt_seq) : 2])\n",
    "print('step     - ' , txt_seq[ :  : -2])\n",
    "\n"
   ]
  },
  {
   "cell_type": "code",
   "execution_count": 110,
   "id": "fcc4513c",
   "metadata": {},
   "outputs": [
    {
     "name": "stdout",
     "output_type": "stream",
     "text": [
      "type -  <class 'str'>\n",
      "\n",
      "짝만 출력\n",
      "step     -  짝짝짝짝짝짝짝짝짝짝짝짝\n",
      "홀만 출력\n",
      "step     -  홀홀홀홀홀홀홀홀홀홀홀홀\n"
     ]
    }
   ],
   "source": [
    "tmp_str = '홀짝홀짝홀짝홀짝홀짝홀짝홀짝홀짝홀짝홀짝홀짝홀짝'\n",
    "print('type - ' , type(tmp_str))\n",
    "print()\n",
    "print('짝만 출력')\n",
    "print('step     - ' , tmp_str[1:  :  2])\n",
    "print('홀만 출력')\n",
    "print('step     - ' , tmp_str[ :  :  2])"
   ]
  },
  {
   "cell_type": "code",
   "execution_count": null,
   "id": "d247d47d",
   "metadata": {},
   "outputs": [],
   "source": [
    "print('문자열 함수 - upper() , startwith() , count() , endwith() ...')\n",
    "print('사용법 - 문자열 변수.함수()')"
   ]
  },
  {
   "cell_type": "code",
   "execution_count": 121,
   "id": "ebadf4ba",
   "metadata": {},
   "outputs": [
    {
     "name": "stdout",
     "output_type": "stream",
     "text": [
      "capitalize -  Python\n",
      "upper      -  PYTHON\n",
      "replace -  010 4603 2283\n",
      "도매인만 추출 -  com\n",
      "도매인만 추출 -  com\n"
     ]
    }
   ],
   "source": [
    "tmp_str = 'python'\n",
    "print('capitalize - ' , tmp_str.capitalize())\n",
    "print('upper      - ' , tmp_str.upper())\n",
    "\n",
    "tmp_str = '010-4603-2283'\n",
    "print('replace - ' , tmp_str.replace('-' ,' '))\n",
    "\n",
    "tmp_str = 'http://www.naver.com'\n",
    "print('도매인만 추출 - ' , tmp_str[-3 : ])\n",
    "print('도매인만 추출 - ' , tmp_str[tmp_str.find('com') : ])"
   ]
  },
  {
   "cell_type": "code",
   "execution_count": 124,
   "id": "9dfca840",
   "metadata": {},
   "outputs": [
    {
     "name": "stdout",
     "output_type": "stream",
     "text": [
      "주소와 도메인을 분리 -  ['http://www', 'naver', 'com']\n",
      "주소와 도메인을 분리 -  <class 'list'>\n"
     ]
    }
   ],
   "source": [
    "tmp_str = 'http://www.naver.com'\n",
    "print('주소와 도메인을 분리 - ' , tmp_str.split('.'))\n",
    "print('주소와 도메인을 분리 - ' , type(tmp_str.split('.')))"
   ]
  },
  {
   "cell_type": "code",
   "execution_count": 134,
   "id": "e66aebd0",
   "metadata": {},
   "outputs": [
    {
     "name": "stdout",
     "output_type": "stream",
     "text": [
      "공백 제거 후 데이터 추출 -  multicampus     15\n",
      "공백 제거 후 데이터 추출 -      multicampus 15\n",
      "공백 제거 후 데이터 추출 -  multicampus 11\n"
     ]
    }
   ],
   "source": [
    "tmp_str = '    multicampus    '\n",
    "print('공백 제거 후 데이터 추출 - ' , tmp_str.lstrip() , len(tmp_str.lstrip()))\n",
    "print('공백 제거 후 데이터 추출 - ' , tmp_str.rstrip() , len(tmp_str.rstrip()))\n",
    "print('공백 제거 후 데이터 추출 - ' , tmp_str.strip() , len(tmp_str.strip()))"
   ]
  },
  {
   "cell_type": "code",
   "execution_count": 140,
   "id": "655c7c12",
   "metadata": {},
   "outputs": [
    {
     "name": "stdout",
     "output_type": "stream",
     "text": [
      "확장자가 xls로 끝나는지 확인 -  True\n",
      "확장자가 보고서로 끝나는지 확인 -  True\n"
     ]
    }
   ],
   "source": [
    "tmp_str = '보고서.xls'\n",
    "print('확장자가 xls로 끝나는지 확인 - ' , tmp_str.endswith('xls'))\n",
    "print('확장자가 보고서로 끝나는지 확인 - ' , tmp_str.startswith('보고서'))"
   ]
  },
  {
   "cell_type": "code",
   "execution_count": 146,
   "id": "00545a3f",
   "metadata": {},
   "outputs": [
    {
     "name": "stdout",
     "output_type": "stream",
     "text": [
      "set - type\n",
      "data - type :  {3, 5, 7} <class 'set'>\n"
     ]
    }
   ],
   "source": [
    "print('set - type')\n",
    "tmp_set = {3 , 5 , 7 , 3}\n",
    "print('data - type : ' , tmp_set , type(tmp_set))"
   ]
  },
  {
   "cell_type": "code",
   "execution_count": 147,
   "id": "257f2924",
   "metadata": {},
   "outputs": [
    {
     "name": "stdout",
     "output_type": "stream",
     "text": [
      "Mapping - dict , tuple\n",
      "\n",
      "data - type :  {} <class 'dict'>\n"
     ]
    }
   ],
   "source": [
    "print('Mapping - dict , tuple')\n",
    "print()\n",
    "tmp_dict = {}\n",
    "print('data - type : ' , tmp_dict , type(tmp_dict))"
   ]
  },
  {
   "cell_type": "code",
   "execution_count": 149,
   "id": "85216db5",
   "metadata": {},
   "outputs": [
    {
     "name": "stdout",
     "output_type": "stream",
     "text": [
      "Mapping - dict , tuple\n",
      "\n",
      "data - type :  {'name': 'machine learning', 'version': 2.0} <class 'dict'>\n"
     ]
    }
   ],
   "source": [
    "print('Mapping - dict , tuple')\n",
    "print()\n",
    "tmp_dict = {\n",
    "    'name'    : 'machine learning' ,\n",
    "    'version' : 2.0\n",
    "}\n",
    "print('data - type : ' , tmp_dict , type(tmp_dict))"
   ]
  },
  {
   "cell_type": "code",
   "execution_count": 155,
   "id": "0d6728d8",
   "metadata": {},
   "outputs": [
    {
     "name": "stdout",
     "output_type": "stream",
     "text": [
      "data - type :  (1, 2, 3, 4) <class 'tuple'>\n",
      "data - type :  1 <class 'int'>\n",
      "data - type :  (1,) <class 'tuple'>\n",
      "data - type :  (('name', 'python'), ('version', 2.0)) <class 'tuple'>\n"
     ]
    }
   ],
   "source": [
    "tmp_tuple = 1,2,3,4\n",
    "print('data - type : ' , tmp_tuple , type(tmp_tuple))\n",
    "\n",
    "tmp_tuple_miss = (1)\n",
    "print('data - type : ' , tmp_tuple_miss , type(tmp_tuple_miss))\n",
    "\n",
    "tmp_tuple_answer = (1 , )\n",
    "print('data - type : ' , tmp_tuple_answer , type(tmp_tuple_answer))\n",
    "\n",
    "tmp_tuple = ('name' , 'python') , ('version' , 2.0)\n",
    "print('data - type : ' , tmp_tuple , type(tmp_tuple))"
   ]
  },
  {
   "cell_type": "code",
   "execution_count": 168,
   "id": "ace00e3c",
   "metadata": {},
   "outputs": [
    {
     "name": "stdout",
     "output_type": "stream",
     "text": [
      "조건 판단 boolean - True , False\n",
      "in 연산자 - \n",
      "data -  apple banana fineapple mango grape melon\n",
      "\n",
      "True\n",
      "True\n",
      "True\n",
      "True True\n"
     ]
    }
   ],
   "source": [
    "print('조건 판단 boolean - True , False')\n",
    "print('in 연산자 - ')\n",
    "tmp_str = 'apple banana fineapple mango grape melon'\n",
    "print('data - ' , tmp_str)\n",
    "print()\n",
    "print('apple' in tmp_str)\n",
    "print('APPLE'.lower() in tmp_str)\n",
    "print('APPLE' in tmp_str.upper())\n",
    "\n",
    "print('apple' in tmp_str , 'mango' in tmp_str)\n",
    "\n"
   ]
  },
  {
   "cell_type": "code",
   "execution_count": 170,
   "id": "52866958",
   "metadata": {},
   "outputs": [],
   "source": [
    "def userFunction() : \n",
    "    print('함수도 변수의 타입이다.')"
   ]
  },
  {
   "cell_type": "code",
   "execution_count": 174,
   "id": "4c3e4df2",
   "metadata": {},
   "outputs": [
    {
     "name": "stdout",
     "output_type": "stream",
     "text": [
      "type -  <function userFunction at 0x000001C0E34DE820>\n",
      "함수도 변수의 타입이다.\n",
      "caller -  None\n",
      "함수도 변수의 타입이다.\n"
     ]
    }
   ],
   "source": [
    "tmp_func = userFunction\n",
    "print('type - ' , tmp_func)\n",
    "print('caller - ' , tmp_func())\n",
    "tmp_func()"
   ]
  },
  {
   "cell_type": "markdown",
   "id": "9fa7d733",
   "metadata": {},
   "source": [
    "#### list 중요\n",
    "\n",
    "- array X , R - Vector\n",
    "- 순서 0 , 중복 0 , 수정 , 삭제 가능\n",
    "- 선언 : [] , list()\n",
    "- 순서가 존재하므로 indexing , slicing (index [0] 부터 시작 ~ )"
   ]
  },
  {
   "cell_type": "code",
   "execution_count": 183,
   "id": "bc658b2b",
   "metadata": {},
   "outputs": [
    {
     "name": "stdout",
     "output_type": "stream",
     "text": [
      "type -  <class 'list'>\n",
      "data -  [1, 2, 3, 4, 5, 'jslim', ['show', 'me', 'the', 'money']]\n",
      "\n",
      "type -  <class 'list'>\n",
      "data -  ['show', 'me', 'the', 'money']\n",
      "\n",
      "type -  <class 'str'>\n",
      "data -  show\n",
      "\n"
     ]
    }
   ],
   "source": [
    "tmp_list = [1, 2, 3, 4, 5, 'jslim' , ['show' , 'me' , 'the' , 'money']]\n",
    "print('type - ' , type(tmp_list))\n",
    "print('data - ' , tmp_list)\n",
    "print()\n",
    "extract = tmp_list[-1]\n",
    "print('type - ' , type(extract))\n",
    "print('data - ' , extract)\n",
    "print()\n",
    "extract = tmp_list[-1][0]\n",
    "print('type - ' , type(extract))\n",
    "print('data - ' , extract)\n",
    "print()"
   ]
  },
  {
   "cell_type": "code",
   "execution_count": 201,
   "id": "1de8d4d2",
   "metadata": {},
   "outputs": [
    {
     "name": "stdout",
     "output_type": "stream",
     "text": [
      "list 연산 - \n",
      "+  [1, 2, 3, 4, 5]\n",
      "list 연산 - \n",
      "+  [1, 2, 3, 4, 5]\n",
      "새로운 데이터 추가 -  None\n",
      "[1, 2, 3, 4, 5, 1]\n",
      "새로운 데이터 원하는 위치에 추가 -  None\n",
      "[1, 6, 2, 3, 4, 5, 1]\n",
      "정렬 - sort\n",
      "[1, 1, 2, 3, 4, 5, 6]\n",
      "역정렬 - sort 후 .reverse()\n",
      "[6, 5, 4, 3, 2, 1, 1]\n",
      "추출 - \n",
      "indexing -  6 [6, 5, 4, 3, 2, 1, 1]\n",
      "pop         6 [5, 4, 3, 2, 1, 1]\n",
      "인덱스 번지를 원할 때 -  0 5\n",
      "삭제 - del() , remove(data)  None [5, 4, 3, 2, 1]\n",
      "중복 개수를 확인하고자 할 때 -  1\n",
      "[5, 4, 3, 2, 1]\n",
      "extend - \n",
      "[5, 4, 3, 2, 1, 8, 9, 10]\n"
     ]
    },
    {
     "data": {
      "text/plain": [
       "[5, 4, 3, 2, 1, 8, 9, 10]"
      ]
     },
     "execution_count": 201,
     "metadata": {},
     "output_type": "execute_result"
    }
   ],
   "source": [
    "x_list = [1,2,3]\n",
    "y_list = [4,5]\n",
    "\n",
    "print('list 연산 - ')\n",
    "print('+ ' , x_list + y_list)\n",
    "\n",
    "z_list = x_list + y_list\n",
    "\n",
    "print('list 연산 - ')\n",
    "print('+ ' , z_list)\n",
    "\n",
    "print('새로운 데이터 추가 - ' , z_list.append(1))\n",
    "print(z_list)\n",
    "\n",
    "print('새로운 데이터 원하는 위치에 추가 - ' , z_list.insert(1 , 6))\n",
    "print(z_list)\n",
    "\n",
    "print('정렬 - sort')\n",
    "z_list.sort()\n",
    "print(z_list)\n",
    "print('역정렬 - sort 후 .reverse()')\n",
    "z_list.reverse()\n",
    "print(z_list)\n",
    "\n",
    "print('추출 - ')\n",
    "print('indexing - ' , z_list[0] , z_list) \n",
    "print('pop        ' , z_list.pop(0) , z_list)\n",
    "\n",
    "\n",
    "print('인덱스 번지를 원할 때 - ' , z_list.index(5) , z_list[z_list.index(5)])\n",
    "print('삭제 - del() , remove(data) ' , z_list.remove(1) , z_list)\n",
    "print('중복 개수를 확인하고자 할 때 - ' , z_list.count(5))\n",
    "\n",
    "print(z_list)\n",
    "tmp_list = [8,9,10]\n",
    "print('extend - ')\n",
    "# z_list.append(tmp_list) 데이터 추가\n",
    "# z_list.extend(tmp_list) 데이터 결합\n",
    "print(z_list + tmp_list)\n",
    "# + 사용시 데이터를 다시 담을 것\n",
    "z_list.extend(tmp_list)\n",
    "z_list"
   ]
  },
  {
   "cell_type": "markdown",
   "id": "9d0f78d5",
   "metadata": {},
   "source": [
    "## 파이썬 내장 함수 목록\n",
    "https://docs.python.org/ko/3/library/functions.html\n"
   ]
  },
  {
   "cell_type": "markdown",
   "id": "26e834bd",
   "metadata": {},
   "source": [
    "# ---- 실습\n",
    "movie_rank = ['그루엘라' , '랑종' , '모가디슈' , '블랙위도우' , '강철비2' , '반도' , '킹덤']\n",
    "\n",
    "'''\n",
    "1. 배드맨을 마지막에 추가\n",
    "2. 랑종과 모가디슈 사이에 임정섭을 추가\n",
    "3. 블랙위도우 삭제\n",
    "4. 모가디슈와 강철비2 삭제\n",
    "5. 그루엘라의 인덱스를 구해서 pop()함수를 이용한 삭제\n",
    "6. 최종 리스트 출력 \n",
    "'''\n"
   ]
  },
  {
   "cell_type": "code",
   "execution_count": 219,
   "id": "c107e80f",
   "metadata": {},
   "outputs": [
    {
     "name": "stdout",
     "output_type": "stream",
     "text": [
      "['그루엘라', '랑종', '모가디슈', '블랙위도우', '강철비2', '반도', '킹덤', '배드맨']\n",
      "['그루엘라', '랑종', '임정섭', '모가디슈', '블랙위도우', '강철비2', '반도', '킹덤', '배드맨']\n",
      "['그루엘라', '랑종', '임정섭', '모가디슈', '강철비2', '반도', '킹덤', '배드맨']\n",
      "['그루엘라', '랑종', '임정섭', '반도', '킹덤', '배드맨']\n",
      "0\n",
      "그루엘라\n",
      "\n",
      "['랑종', '임정섭', '반도', '킹덤', '배드맨']\n"
     ]
    }
   ],
   "source": [
    "movie_rank = ['그루엘라' , '랑종' , '모가디슈' , '블랙위도우' , '강철비2' , '반도' , '킹덤']\n",
    "# 1\n",
    "movie_rank.append('배드맨')\n",
    "print(movie_rank)\n",
    "\n",
    "# 2\n",
    "movie_rank.insert(2 , '임정섭')\n",
    "print(movie_rank)\n",
    "\n",
    "# 3\n",
    "movie_rank.remove('블랙위도우')\n",
    "print(movie_rank)\n",
    "\n",
    "# 4\n",
    "movie_rank.remove('모가디슈')\n",
    "movie_rank.remove('강철비2')\n",
    "print(movie_rank)\n",
    "\n",
    "# 5\n",
    "\n",
    "print(movie_rank.index('그루엘라'))\n",
    "print(movie_rank.pop(movie_rank.index('그루엘라')))\n",
    "print()\n",
    "\n",
    "# 6\n",
    "\n",
    "print(movie_rank)"
   ]
  },
  {
   "cell_type": "code",
   "execution_count": 1,
   "id": "e665b9e6",
   "metadata": {},
   "outputs": [
    {
     "data": {
      "text/plain": [
       "5"
      ]
     },
     "execution_count": 1,
     "metadata": {},
     "output_type": "execute_result"
    }
   ],
   "source": [
    "a = [1,2,3,4,5]\n",
    "len(a)"
   ]
  },
  {
   "cell_type": "code",
   "execution_count": null,
   "id": "737d7220",
   "metadata": {},
   "outputs": [],
   "source": []
  },
  {
   "cell_type": "code",
   "execution_count": null,
   "id": "edf4edb2",
   "metadata": {},
   "outputs": [],
   "source": []
  },
  {
   "cell_type": "code",
   "execution_count": null,
   "id": "cd76b717",
   "metadata": {},
   "outputs": [],
   "source": []
  },
  {
   "cell_type": "code",
   "execution_count": null,
   "id": "13daf7fa",
   "metadata": {},
   "outputs": [],
   "source": []
  },
  {
   "cell_type": "code",
   "execution_count": null,
   "id": "e4cf2cc8",
   "metadata": {},
   "outputs": [],
   "source": []
  },
  {
   "cell_type": "code",
   "execution_count": null,
   "id": "efbbed8b",
   "metadata": {},
   "outputs": [],
   "source": []
  },
  {
   "cell_type": "code",
   "execution_count": null,
   "id": "5fa63bab",
   "metadata": {},
   "outputs": [],
   "source": []
  },
  {
   "cell_type": "code",
   "execution_count": null,
   "id": "8267d92c",
   "metadata": {},
   "outputs": [],
   "source": []
  },
  {
   "cell_type": "code",
   "execution_count": null,
   "id": "b0859b91",
   "metadata": {},
   "outputs": [],
   "source": []
  },
  {
   "cell_type": "code",
   "execution_count": null,
   "id": "a443d85d",
   "metadata": {},
   "outputs": [],
   "source": []
  },
  {
   "cell_type": "code",
   "execution_count": null,
   "id": "c4012922",
   "metadata": {},
   "outputs": [],
   "source": []
  },
  {
   "cell_type": "code",
   "execution_count": null,
   "id": "9b68127e",
   "metadata": {},
   "outputs": [],
   "source": []
  },
  {
   "cell_type": "code",
   "execution_count": null,
   "id": "78da4be9",
   "metadata": {},
   "outputs": [],
   "source": []
  },
  {
   "cell_type": "code",
   "execution_count": null,
   "id": "dfd8565c",
   "metadata": {},
   "outputs": [],
   "source": []
  },
  {
   "cell_type": "code",
   "execution_count": null,
   "id": "62d82299",
   "metadata": {},
   "outputs": [],
   "source": []
  },
  {
   "cell_type": "code",
   "execution_count": null,
   "id": "777d2879",
   "metadata": {},
   "outputs": [],
   "source": []
  },
  {
   "cell_type": "code",
   "execution_count": null,
   "id": "f53162fd",
   "metadata": {},
   "outputs": [],
   "source": []
  },
  {
   "cell_type": "code",
   "execution_count": null,
   "id": "571700bc",
   "metadata": {},
   "outputs": [],
   "source": []
  },
  {
   "cell_type": "code",
   "execution_count": null,
   "id": "858f16c7",
   "metadata": {},
   "outputs": [],
   "source": []
  },
  {
   "cell_type": "code",
   "execution_count": null,
   "id": "a55a7e15",
   "metadata": {},
   "outputs": [],
   "source": []
  },
  {
   "cell_type": "code",
   "execution_count": null,
   "id": "28445c2d",
   "metadata": {},
   "outputs": [],
   "source": []
  },
  {
   "cell_type": "code",
   "execution_count": null,
   "id": "04a6df10",
   "metadata": {},
   "outputs": [],
   "source": []
  },
  {
   "cell_type": "code",
   "execution_count": null,
   "id": "13083721",
   "metadata": {},
   "outputs": [],
   "source": []
  }
 ],
 "metadata": {
  "kernelspec": {
   "display_name": "Python 3 (ipykernel)",
   "language": "python",
   "name": "python3"
  },
  "language_info": {
   "codemirror_mode": {
    "name": "ipython",
    "version": 3
   },
   "file_extension": ".py",
   "mimetype": "text/x-python",
   "name": "python",
   "nbconvert_exporter": "python",
   "pygments_lexer": "ipython3",
   "version": "3.9.12"
  }
 },
 "nbformat": 4,
 "nbformat_minor": 5
}
