{
 "cells": [
  {
   "cell_type": "markdown",
   "id": "59a681b7",
   "metadata": {},
   "source": [
    "### boolean type\n",
    "\n",
    "- True | Fasle\n",
    "- 논리연산자 (not , and , or)\n",
    "- 비교연산자 (~ , & , |)\n",
    "- '' , [] , () , {} . 0 , None -> False"
   ]
  },
  {
   "cell_type": "code",
   "execution_count": 13,
   "id": "9f7ac7f2",
   "metadata": {},
   "outputs": [
    {
     "name": "stdout",
     "output_type": "stream",
     "text": [
      "bitwise -  0\n",
      "bitwise -  5\n",
      "bitwise -  False\n",
      "bitwise -  True\n",
      "boolean -  True\n",
      "\n",
      "bool type -  False False False\n",
      "\n",
      "bool type -  1 True\n"
     ]
    }
   ],
   "source": [
    "a = 5 # 0101\n",
    "b = 0 # 0000\n",
    "print('bitwise - ' , a & b)\n",
    "print('bitwise - ' , a | b)\n",
    "\n",
    "print('bitwise - ' , bool(a & b))\n",
    "print('bitwise - ' , bool(a | b))\n",
    "print('boolean - ' , bool(-1))\n",
    "\n",
    "print()\n",
    "tmp_list = []\n",
    "tmp_str = ''\n",
    "tmp_dict = {}\n",
    "print('bool type - ' , bool(tmp_list) , bool(tmp_str) , bool(tmp_dict))\n",
    "\n",
    "print()\n",
    "flag = True\n",
    "tmp_list = [1,2,3]\n",
    "print('bool type - ' , int(flag) , bool(tmp_list))\n"
   ]
  },
  {
   "cell_type": "code",
   "execution_count": 22,
   "id": "88133c60",
   "metadata": {},
   "outputs": [
    {
     "name": "stdout",
     "output_type": "stream",
     "text": [
      "논리연산자 - and , or , not\n",
      "and -  False False\n",
      "or  -  True True\n",
      "not -  False\n"
     ]
    }
   ],
   "source": [
    "print('논리연산자 - and , or , not')\n",
    "true_flag = True\n",
    "false_flag = False\n",
    "\n",
    "print('and - ' , true_flag and false_flag , true_flag & false_flag)\n",
    "print('or  - '  , true_flag or false_flag , true_flag | false_flag)\n",
    "print('not - ' , not true_flag )"
   ]
  },
  {
   "cell_type": "markdown",
   "id": "b7e7f465",
   "metadata": {},
   "source": [
    "### date , datetime type\n",
    " - 패키지 설치\n",
    " - conda install or pip install\n",
    " - import , from ~ import ~ (용어에 대한 이해가 필요)\n",
    " - xxxxx.py(module) - 변수 , 함수\n",
    " - 여러개의 모듈을 같은 네임스페이스로 관리 - 패키지\n",
    " - 함수 < 모듈 < 패키지\n",
    " - 형식) import 모듈 이름\n",
    " - 형식) from (패키지명, 클래스명)\n",
    " - 형식) from 패키지명 import 모듈\n",
    " - 형식) from 모듈 import 함수, 클래스"
   ]
  },
  {
   "cell_type": "code",
   "execution_count": 31,
   "id": "6534f5c0",
   "metadata": {},
   "outputs": [],
   "source": [
    "from datetime import date , datetime\n",
    "# from 패키지 import 모듈"
   ]
  },
  {
   "cell_type": "code",
   "execution_count": 45,
   "id": "dbb356bc",
   "metadata": {},
   "outputs": [
    {
     "name": "stdout",
     "output_type": "stream",
     "text": [
      "type -  <class 'datetime.date'> 2022-09-26\n",
      "year -  2022 9 26\n",
      "\n",
      "type -  <class 'datetime.datetime'> 2022-09-26 10:13:02.613870\n",
      "year month day -  2022 9 26\n",
      "hour minute second -  10 13 2\n"
     ]
    }
   ],
   "source": [
    "today = date.today()\n",
    "print('type - ' , type(today) , today)\n",
    "print('year - ' , today.year , today.month , today.day)\n",
    "\n",
    "print()\n",
    "today_time = datetime.today()\n",
    "print('type - ' , type(today_time) , today_time)\n",
    "print('year month day - ' , today_time.year , today_time.month , today_time.day)\n",
    "print('hour minute second - ' , today_time.hour , today_time.minute , today_time.second)"
   ]
  },
  {
   "cell_type": "code",
   "execution_count": 53,
   "id": "e8ebab2f",
   "metadata": {},
   "outputs": [],
   "source": [
    "# 날짜에 대한 연산을 도와주는 함수\n",
    "from datetime import timedelta\n",
    "from dateutil.relativedelta import relativedelta"
   ]
  },
  {
   "cell_type": "code",
   "execution_count": 58,
   "id": "612dadee",
   "metadata": {},
   "outputs": [
    {
     "name": "stdout",
     "output_type": "stream",
     "text": [
      "type -  <class 'datetime.timedelta'>\n",
      "2022-09-28\n",
      "\n",
      "\n",
      "2022-09-28 2022-11-26 2024-09-26\n"
     ]
    }
   ],
   "source": [
    "days = timedelta(days = 2)\n",
    "\n",
    "# timedelta 는 day에 대한 연산 작업만 제공\n",
    "\n",
    "print('type - ' , type(days))\n",
    "print(today + days)\n",
    "\n",
    "\n",
    "print()\n",
    "print()\n",
    "\n",
    "days   = relativedelta(days     =  2)\n",
    "months = relativedelta(months   =  2)\n",
    "years  = relativedelta(years    =  2)\n",
    "\n",
    "print(today + days , today + months , today + years)"
   ]
  },
  {
   "cell_type": "code",
   "execution_count": 65,
   "id": "c6640fbd",
   "metadata": {},
   "outputs": [
    {
     "name": "stdout",
     "output_type": "stream",
     "text": [
      "type -  <class 'datetime.datetime'>\n",
      "type -  <class 'datetime.datetime'>\n"
     ]
    }
   ],
   "source": [
    "# 특정 날짜 생성시 문자열 -> 날짜\n",
    "from dateutil.parser import parse\n",
    "user_date = parse('2022-09-26')\n",
    "print('type - ' , type(user_date))\n",
    "\n",
    "today = datetime.today()\n",
    "print('type - ' , type(today))"
   ]
  },
  {
   "cell_type": "code",
   "execution_count": 75,
   "id": "411810bc",
   "metadata": {},
   "outputs": [
    {
     "name": "stdout",
     "output_type": "stream",
     "text": [
      "문자 -> 날짜 2022-09-28 00:00:00\n",
      "\n",
      "날짜 -> 문자 09-28-2022 <class 'str'>\n"
     ]
    }
   ],
   "source": [
    "# 타입 변환을 위한 함수 strftime() , strptime()\n",
    "str_date  = '2022-09-28'\n",
    "user_date = datetime.strptime(str_date, '%Y-%m-%d')\n",
    "print('문자 -> 날짜' , user_date)\n",
    "\n",
    "print()\n",
    "print('날짜 -> 문자' , user_date.strftime('%m-%d-%Y') , type(user_date.strftime('%m-%d-%Y')))\n"
   ]
  },
  {
   "cell_type": "markdown",
   "id": "bfa8b855",
   "metadata": {},
   "source": [
    "#### input 함수\n"
   ]
  },
  {
   "cell_type": "code",
   "execution_count": 78,
   "id": "57ecdf26",
   "metadata": {},
   "outputs": [
    {
     "name": "stdout",
     "output_type": "stream",
     "text": [
      "entrt your name : \n",
      "type -   <class 'str'>\n"
     ]
    }
   ],
   "source": [
    "name = input('entrt your name : ')\n",
    "name\n",
    "print('type - ' , name , type(name))\n"
   ]
  },
  {
   "cell_type": "code",
   "execution_count": 84,
   "id": "f8c525cf",
   "metadata": {},
   "outputs": [
    {
     "name": "stdout",
     "output_type": "stream",
     "text": [
      "enter your score : 100\n",
      "type -  300 <class 'int'>\n"
     ]
    }
   ],
   "source": [
    "score = int(input('enter your score : '))\n",
    "print('type - ' , score*3 , type(score))"
   ]
  },
  {
   "cell_type": "markdown",
   "id": "8e703fcd",
   "metadata": {},
   "source": [
    "### 제어구문\n",
    "- if ~\n",
    "- 중첩 가능\n",
    "- 블럭 :\n",
    "- 들여쓰기(indent)\n",
    "- elif ~ (else if)"
   ]
  },
  {
   "cell_type": "code",
   "execution_count": 85,
   "id": "920cc216",
   "metadata": {},
   "outputs": [
    {
     "name": "stdout",
     "output_type": "stream",
     "text": [
      "점수를 입력하세요 : 40\n",
      "과락\n"
     ]
    }
   ],
   "source": [
    "score = int(input('점수를 입력하세요 : '))\n",
    "if score >= 60 :\n",
    "    print('통과')\n",
    "else :\n",
    "    print('과락')"
   ]
  },
  {
   "cell_type": "code",
   "execution_count": 88,
   "id": "b7f5e719",
   "metadata": {},
   "outputs": [
    {
     "name": "stdout",
     "output_type": "stream",
     "text": [
      "점수를 입력하세요 : 80\n",
      "B\n"
     ]
    }
   ],
   "source": [
    "score = int(input('점수를 입력하세요 : '))\n",
    "if   score >= 90 :\n",
    "    print('A')\n",
    "elif score >= 80 :\n",
    "    print('B')\n",
    "elif score >= 70 :\n",
    "    print('C')\n",
    "elif score >= 60 :\n",
    "    print('D')\n",
    "else :\n",
    "    print('F')"
   ]
  },
  {
   "cell_type": "markdown",
   "id": "9993a729",
   "metadata": {},
   "source": [
    "- input 함수를 이용해서 년도를 입력받고 해당 년도가 윤년인지 아닌지를 판단하고 싶다면?"
   ]
  },
  {
   "cell_type": "markdown",
   "id": "850e8a0e",
   "metadata": {},
   "source": [
    "question_day = datetime.strptime(input('년도를 입력하시오 : ' ), '%Y-%m-%d')\n",
    "days     = realativedelta(years   = 4)\n",
    "days_100 = realativedelta(days   = 100)\n",
    "years    = realativedelta(years  = 400)\n",
    "\n",
    "if ((qusetion_day % days ) == 0) | ((qusetion_day % days_100 ) != 0) | ((qusetion_day % year ) == 0) :\n",
    "    print('윤년')\n",
    "else :\n",
    "    print('윤년 아님')"
   ]
  },
  {
   "cell_type": "code",
   "execution_count": 92,
   "id": "29d41c03",
   "metadata": {},
   "outputs": [
    {
     "data": {
      "text/plain": [
       "0"
      ]
     },
     "execution_count": 92,
     "metadata": {},
     "output_type": "execute_result"
    }
   ],
   "source": [
    "question_day = int(input('년도를 입력하시오 : ' ))\n",
    "if ((question_day % 4 ) == 0) & ((question_day % 100 ) != 0) | ((question_day % 400 ) == 0) :\n",
    "    print('윤년')\n",
    "else :\n",
    "    print('윤년 아님')"
   ]
  },
  {
   "cell_type": "code",
   "execution_count": 103,
   "id": "d22fa29f",
   "metadata": {},
   "outputs": [
    {
     "name": "stdout",
     "output_type": "stream",
     "text": [
      "지역 입력 : 서울\n",
      "서울 지역은 포함되지 않습니다.\n"
     ]
    }
   ],
   "source": [
    "area = ['천안' , '세종' , '대구']\n",
    "region = str(input('지역 입력 : '))\n",
    "if region in area :\n",
    "    print('exist')\n",
    "else :\n",
    "    print('{} 지역은 포함되지 않습니다.' .format(region))"
   ]
  },
  {
   "cell_type": "code",
   "execution_count": 108,
   "id": "6c176677",
   "metadata": {},
   "outputs": [
    {
     "name": "stdout",
     "output_type": "stream",
     "text": [
      "지역 입력 : ㅇㅁㄴㅇ\n"
     ]
    }
   ],
   "source": [
    "area = {'천안' , '세종' , '대구'}\n",
    "region = str(input('지역 입력 : '))\n",
    "if region in area :\n",
    "    print('exist')\n",
    "else :\n",
    "    print('{} 지역은 포함되지 않습니다.' .format(region))"
   ]
  },
  {
   "cell_type": "markdown",
   "id": "ddc35edc",
   "metadata": {},
   "source": [
    "- 중첩 구문 사용\n",
    "\n",
    "### A학점이면서 90 이상의 점수이면 장학금 100%\n",
    "### A학점이면서 80 이상의 점수이면 장학금 80%\n",
    "### A학점이면서 80 미만의 점수이면 장학금 70%\n",
    "### A학점이 아니면 장학금 50%\n"
   ]
  },
  {
   "cell_type": "code",
   "execution_count": 123,
   "id": "189429e5",
   "metadata": {},
   "outputs": [
    {
     "name": "stdout",
     "output_type": "stream",
     "text": [
      "학점을 입력 하시오 : B\n",
      "점수를 입력 하시오 : 46\n",
      "장학금 50%\n"
     ]
    }
   ],
   "source": [
    "grade = str(input('학점을 입력 하시오 : '))\n",
    "score = int(input('점수를 입력 하시오 : '))\n",
    "\n",
    "if grade == 'A' :\n",
    "    if   score >= 90 :\n",
    "        print(\"장학금 100%\")\n",
    "    elif score >= 80 :\n",
    "        print(\"장학금 80%\")\n",
    "    elif score <  80 :\n",
    "        print(\"장학금 70%\")\n",
    "else :\n",
    "    print(\"장학금 50%\")"
   ]
  },
  {
   "cell_type": "markdown",
   "id": "0ed84569",
   "metadata": {},
   "source": [
    "- 3항 연산자 : if~else 한 줄로 표현 : 변수 = 참 , 조건식 , 거짓"
   ]
  },
  {
   "cell_type": "code",
   "execution_count": 131,
   "id": "590df447",
   "metadata": {},
   "outputs": [
    {
     "name": "stdout",
     "output_type": "stream",
     "text": [
      "18\n",
      "\n",
      "18\n"
     ]
    }
   ],
   "source": [
    "num = 9\n",
    "result = 0\n",
    "if num >= 5:\n",
    "    result = num * 2\n",
    "else :\n",
    "    result = num +2\n",
    "\n",
    "print(result)\n",
    "\n",
    "print()\n",
    "\n",
    "result = num * 2 if(num >= 5 ) else num +2\n",
    "\n",
    "print(result)"
   ]
  },
  {
   "cell_type": "markdown",
   "id": "2dbd711b",
   "metadata": {},
   "source": [
    "- in , not in"
   ]
  },
  {
   "cell_type": "code",
   "execution_count": 155,
   "id": "1ac761fe",
   "metadata": {},
   "outputs": [
    {
     "name": "stdout",
     "output_type": "stream",
     "text": [
      "False\n",
      "True\n",
      "False\n",
      "\n",
      "True\n",
      "False\n",
      "False\n",
      "\n",
      "False\n",
      "True\n",
      "False\n",
      "\n",
      "True\n",
      "False\n",
      "\n",
      "True\n",
      "False\n",
      "[10, 20, 30]\n"
     ]
    }
   ],
   "source": [
    "tmp_list  = [10 , 20, 30]\n",
    "tmp_set   = {40 , 50 , 60 , 70}\n",
    "tmp_tuple = (10, 12 ,24)\n",
    "tmp_dict  = {'name' : 'jslim' , 'city' : 'seoul' , 'grade' : 'A'}\n",
    "\n",
    "print( 40 in tmp_list)\n",
    "print( 40 not in tmp_list)\n",
    "print( tmp_list in tmp_list)\n",
    "print()\n",
    "\n",
    "print( 40 in tmp_set)\n",
    "print( 40 not in tmp_set)\n",
    "print( tmp_set in tmp_set)\n",
    "print()\n",
    "\n",
    "print( 40 in tmp_tuple)\n",
    "print( 40 not in tmp_tuple)\n",
    "print( tmp_tuple in tmp_tuple)\n",
    "print()\n",
    "\n",
    "\n",
    "# dict은 keys와 values를 나누어서 생각해야 한다.\n",
    "print( 'name' in tmp_dict.keys())\n",
    "print( 'name' not in tmp_dict.keys())\n",
    "\n",
    "print()\n",
    "\n",
    "tmp_dict.values()\n",
    "\n",
    "print( 'jslim' in tmp_dict.values())\n",
    "print( 'jslim' not in tmp_dict.values())\n",
    "\n",
    "\n",
    "# T/F 리턴\n",
    "# if 조건 사용 가능\n",
    "\n"
   ]
  },
  {
   "cell_type": "markdown",
   "id": "bbc6d4cb",
   "metadata": {},
   "source": [
    "# 사용자로부터 하나의 값을 입력받은 후 \n",
    "# 해당 값에 20을 뺀 값을 출력하라. \n",
    "# 단 출력 값의 범위는 0~255이다. \n",
    "# 예를 들어 결괏값이 0보다 작은 값이되는 경우 0을 출력하고 \n",
    "# 255보다 큰 값이 되는 경우 255를 출력해야 한다.\n"
   ]
  },
  {
   "cell_type": "code",
   "execution_count": 154,
   "id": "dc272a41",
   "metadata": {},
   "outputs": [
    {
     "name": "stdout",
     "output_type": "stream",
     "text": [
      "값을 입력하시오 : 5\n",
      "0\n"
     ]
    }
   ],
   "source": [
    "num_01 = int(input(\"값을 입력하시오 : \"))\n",
    "num_01 = num_01 - 20\n",
    "if num_01 <= 255 and num_01 >=0 :\n",
    "    print(num_01)\n",
    "elif num_01 > 255 :\n",
    "    print(\"255\")\n",
    "elif num_01 < 0 :\n",
    "    print(\"0\")"
   ]
  },
  {
   "cell_type": "code",
   "execution_count": 165,
   "id": "dcf9e58e",
   "metadata": {},
   "outputs": [
    {
     "name": "stdout",
     "output_type": "stream",
     "text": [
      "시간을 입력하세요 : 12:00\n",
      "정각입니다.\n"
     ]
    }
   ],
   "source": [
    "time_now = str(input(\"시간을 입력하세요 : \"))\n",
    "if time_now[-2:] == \"00\" :\n",
    "    print(\"정각입니다.\")\n",
    "else :\n",
    "    print(\"정각이 아닙니다.\")\n",
    "    "
   ]
  },
  {
   "cell_type": "markdown",
   "id": "768c8abe",
   "metadata": {},
   "source": [
    "### 사용자로 입력받은 단어가 아래 fruit 리스트에 포함되어\n",
    "### 있는지를 확인하라. \n",
    "### 포함되었다면 \"정답입니다\"를 아닐 경우 \"오답입니다\" 출력하라.\n",
    "fruit = [\"사과\", \"포도\", \"홍시\"]\n"
   ]
  },
  {
   "cell_type": "code",
   "execution_count": 170,
   "id": "f1a6d14f",
   "metadata": {},
   "outputs": [
    {
     "name": "stdout",
     "output_type": "stream",
     "text": [
      "과일을 입력하세요 : 안녕\n",
      "오답입니다.\n"
     ]
    }
   ],
   "source": [
    "fruit = [\"사과\", \"포도\", \"홍시\"]\n",
    "word = str(input(\"과일을 입력하세요 : \"))\n",
    "\n",
    "if word in fruit :\n",
    "    print(\"정답입니다.\")\n",
    "else :\n",
    "    print(\"오답입니다.\")\n",
    "\n"
   ]
  },
  {
   "cell_type": "code",
   "execution_count": 175,
   "id": "dc0c4658",
   "metadata": {},
   "outputs": [
    {
     "name": "stdout",
     "output_type": "stream",
     "text": [
      "과일을 입력하세요 : \n",
      "오답입니다.\n"
     ]
    }
   ],
   "source": [
    "word = str(input(\"과일을 입력하세요 : \"))\n",
    "input_fruit = '정답입니다.' if (word in fruit) else '오답입니다.'\n",
    "print(input_fruit)"
   ]
  },
  {
   "cell_type": "code",
   "execution_count": 182,
   "id": "4fda3c7a",
   "metadata": {},
   "outputs": [
    {
     "name": "stdout",
     "output_type": "stream",
     "text": [
      "전화번호를 입력해주세요 : 011-125-5555\n",
      "안녕하세요 SK 텔레콤입니다.\n"
     ]
    }
   ],
   "source": [
    "# 011 SK , 016 KTF, 019 LGU\n",
    "# 011-1234-1234\n",
    "# input 함수를 사용하여 통신사를 판단하는 구문\n",
    "# 011 sk 016 kt 019 lg u+\n",
    "phoneNumber = str(input(\"전화번호를 입력해주세요 : \"))\n",
    "if phoneNumber[:3] == '011':\n",
    "    print(\"안녕하세요 SK 텔레콤입니다.\")\n",
    "elif phoneNumber[:3] == '016' :\n",
    "    print(\"안녕하세요 kt 입니다.\")\n",
    "elif phoneNumber[:3] == '019' :\n",
    "    print(\"안녕하세요 LG U+ 입니다.\")\n",
    "else :\n",
    "    print(\"통신사가 존재하지 않습니다\")\n",
    "\n"
   ]
  },
  {
   "cell_type": "code",
   "execution_count": 199,
   "id": "326d749b",
   "metadata": {},
   "outputs": [
    {
     "name": "stdout",
     "output_type": "stream",
     "text": [
      "전화번호 : 014-4444-4444\n",
      "014\n",
      "존재하지 않는 통신사입니다.\n"
     ]
    }
   ],
   "source": [
    "input_phone = input('전화번호 : ')\n",
    "print(input_phone.split('-')[0])\n",
    "\n",
    "brand = input_phone.split('-')[0]\n",
    "result = \"안녕하세요 SK 텔레콤입니다.\" if(brand == '011') else \"안녕하세요 KT 입니다.\" if(brand == '016') else \"안녕하세요 LG U+ 입니다.\" if(brand == '019') else \"존재하지 않는 통신사입니다.\"\n",
    "print(result)"
   ]
  },
  {
   "cell_type": "markdown",
   "id": "3c8f8990",
   "metadata": {},
   "source": [
    "- 우편번호는 6자리이고 구성되는데는 \n",
    "- 예를 들어 서울의 경우 01 로 시작, 구별로 인덱스가 부여된다고 가정하자\n",
    "- 0 강북구 1 강북구 2 강북구 3 도봉구 4 도봉구 5 도봉구 6 노원구 7 노원구 8 노원구 9 노원구\n",
    "- 사용자로부터 6자리 우편번호를 입력받고 구를 판별하라.\n",
    "- 예시 ) 014000이면 도봉구"
   ]
  },
  {
   "cell_type": "code",
   "execution_count": 209,
   "id": "67893a22",
   "metadata": {},
   "outputs": [
    {
     "name": "stdout",
     "output_type": "stream",
     "text": [
      "우편번호를 입력하세요 : 01312312\n",
      "강북구\n"
     ]
    }
   ],
   "source": [
    "post_number = int(input(\"우편번호를 입력하세요 : \"))\n",
    "post_number = str(post_number)\n",
    "\n",
    "if post_number[2] in ['0' , '1' , '2'] :\n",
    "    print('강북구')\n",
    "elif post_number[2] in ['3' , '4' , '5'] :\n",
    "    print('도봉구')\n",
    "elif post_number[2] in ['6' , '7' , '8' ,'9'] :\n",
    "    print('노원구')\n"
   ]
  },
  {
   "cell_type": "markdown",
   "id": "a41e4b45",
   "metadata": {},
   "source": [
    "##### 주민등록번호 뒷 자리 7자리 중 첫째 자리는 성별을 나타내는데\n",
    "##### 1, 3은 남자 2, 4는 여자를 의미한다. \n",
    "##### 사용자로부터 13자리의 주민등록번호를 입력 받은 후 성별 (남자, 여자)를 출력하는 프로그램을 작성하라.\n",
    "##### >> 주민등록번호: 821010-1635210\n",
    "##### 09 ~ 12\t부산\n"
   ]
  },
  {
   "cell_type": "code",
   "execution_count": 219,
   "id": "01f87952",
   "metadata": {},
   "outputs": [
    {
     "name": "stdout",
     "output_type": "stream",
     "text": [
      "주민번호 13자리를 입력하세요 : 821010-1635210\n",
      "남자 , 기타 지역 거주\n"
     ]
    }
   ],
   "source": [
    "input_sign_num = input(\"주민번호 13자리를 입력하세요 : \")\n",
    "sign_num_sex = input_sign_num.split('-')[1][0]\n",
    "sign_num_area = input_sign_num.split('-')[1][1:3]\n",
    "sign_num_area = int(sign_num_area)\n",
    "\n",
    "if   sign_num_sex in ['1' , '3'] :\n",
    "    if sign_num_area <= 8  :\n",
    "        print(\"남자 , 서울 거주\")\n",
    "    elif sign_num_area <= 8 :\n",
    "        print(\"남자 , 부산 거주\")\n",
    "    else :\n",
    "        print(\"남자 , 기타 지역 거주\")\n",
    "elif sign_num_sex in ['2' , '4'] :\n",
    "    if sign_num_area <= 8  :\n",
    "        print(\"여자 , 서울 거주\")\n",
    "    elif sign_num_area <= 8 :\n",
    "        print(\"여자 , 부산 거주\")\n",
    "    else :\n",
    "        print(\"여자 , 기타 지역 거주\")\n",
    "else :\n",
    "    print(\"잘못 입력하셨습니다.\")\n"
   ]
  },
  {
   "cell_type": "markdown",
   "id": "c2305120",
   "metadata": {},
   "source": [
    "#### input()함수를 이용해서 연도와 월을 입력받아\n",
    "#### 해당년도가 윤년일 경우 2월달의 마지막일은 29 , 평년일경우 2월달의 마지막일은 28\n",
    "#### 출력의 형식은 : xxxx년 x월 마지막일은 xx일 입니다\n",
    "#### if 구문으로 작성 또는 if ~ elif\n"
   ]
  },
  {
   "cell_type": "code",
   "execution_count": 235,
   "id": "61e5b909",
   "metadata": {},
   "outputs": [
    {
     "name": "stdout",
     "output_type": "stream",
     "text": [
      "연도 입력 : 2022\n",
      "월 입력 : 8\n",
      "올해는 평년이며 , 2022년 8월 마지막일은 31일 입니다.\n"
     ]
    }
   ],
   "source": [
    "year       = int(input(\"연도 입력 : \"))\n",
    "month      = int(input(\"월 입력 : \"))\n",
    "last_day   = None\n",
    "\n",
    "if int(month) >= 1 and int(month) <= 12 :\n",
    "    if ((year % 4 ) == 0) and ((year % 100 ) != 0) or ((year % 400 ) == 0) :\n",
    "        for count in [1,2,3,4,5,6,7,8,9,10,11,12] :\n",
    "            if  month == count and count in [1,3,5,7,8,10,12] :\n",
    "                last_day = 31\n",
    "                break\n",
    "            elif month == count and count in [4,6,9,11] :\n",
    "                last_day = 30\n",
    "                break\n",
    "            elif month == count and count == 2 :\n",
    "                last_day = 29\n",
    "                break\n",
    "        print(\"올해는 윤년이며 , {}년 {}월 마지막일은 {}일 입니다.\".format(year , month , last_day))\n",
    "    \n",
    "    else :\n",
    "        for count in [1,2,3,4,5,6,7,8,9,10,11,12] :\n",
    "            if  month == count and count in [1,3,5,7,8,10,12] :\n",
    "                last_day = 31\n",
    "                break\n",
    "            elif month == count and count in [4,6,9,11] :\n",
    "                last_day = 30\n",
    "                break\n",
    "            elif month == count and count == 2 :\n",
    "                last_day = 28\n",
    "                break\n",
    "        print(\"올해는 평년이며 , {}년 {}월 마지막일은 {}일 입니다.\".format(year , month , last_day))\n",
    "    \n",
    "else :\n",
    "    print(\"월을 잘못 입력하셨습니다.\")\n",
    "    "
   ]
  },
  {
   "cell_type": "code",
   "execution_count": 234,
   "id": "74abb182",
   "metadata": {},
   "outputs": [
    {
     "name": "stdout",
     "output_type": "stream",
     "text": [
      "년도를 입력하시오 : 2022\n",
      "윤년\n"
     ]
    }
   ],
   "source": [
    "question_day = int(input('년도를 입력하시오 : ' ))\n",
    "if ((year % 4 ) == 0) and ((year % 100 ) != 0) or ((year % 400 ) == 0) :\n",
    "    print('윤년')\n",
    "else :\n",
    "    print('윤년 아님')"
   ]
  },
  {
   "cell_type": "code",
   "execution_count": 241,
   "id": "12438373",
   "metadata": {},
   "outputs": [
    {
     "name": "stdout",
     "output_type": "stream",
     "text": [
      "연도 입력 : 2000\n",
      "월 입력 : 02\n",
      "올해는 윤년이며 , 2000년 2월 마지막일은 29일 입니다.\n"
     ]
    }
   ],
   "source": [
    "year       = int(input(\"연도 입력 : \"))\n",
    "month      = int(input(\"월 입력 : \"))\n",
    "last_day   = None\n",
    "\n",
    "if int(month) >= 1 and int(month) <= 12 :\n",
    "    if ((year % 4 ) == 0) and ((year % 100 ) != 0) or ((year % 400 ) == 0) :\n",
    "        if  month in [1,3,5,7,8,10,12] :\n",
    "                last_day = 31\n",
    "        elif month in [4,6,9,11] :\n",
    "                last_day = 30\n",
    "        elif month   == 2 :\n",
    "                last_day = 29\n",
    "        print(\"올해는 윤년이며 , {}년 {}월 마지막일은 {}일 입니다.\".format(year , month , last_day))\n",
    "    \n",
    "    else :\n",
    "        if  month  in [1,3,5,7,8,10,12] :\n",
    "                last_day = 31\n",
    "        elif month in [4,6,9,11] :\n",
    "                last_day = 30\n",
    "        elif month   == 2 :\n",
    "                last_day = 28\n",
    "        print(\"올해는 평년이며 , {}년 {}월 마지막일은 {}일 입니다.\".format(year , month , last_day))\n",
    "    \n",
    "else :\n",
    "    print(\"월을 잘못 입력하셨습니다.\")\n",
    "    "
   ]
  },
  {
   "cell_type": "code",
   "execution_count": 260,
   "id": "d7edfe1d",
   "metadata": {},
   "outputs": [
    {
     "data": {
      "text/plain": [
       "1"
      ]
     },
     "execution_count": 260,
     "metadata": {},
     "output_type": "execute_result"
    }
   ],
   "source": [
    "tmp_dict = {'31' : '1'}\n",
    "tmp_dict['31']\n",
    "int(tmp_dict['31'])"
   ]
  },
  {
   "cell_type": "code",
   "execution_count": 261,
   "id": "160b6949",
   "metadata": {},
   "outputs": [
    {
     "data": {
      "text/plain": [
       "'jslim'"
      ]
     },
     "execution_count": 261,
     "metadata": {},
     "output_type": "execute_result"
    }
   ],
   "source": [
    "tmp_dict  = {'name' : 'jslim' , 'city' : 'seoul' , 'grade' : 'A'}\n",
    "tmp_dict['name']"
   ]
  },
  {
   "cell_type": "code",
   "execution_count": 274,
   "id": "7130c90a",
   "metadata": {},
   "outputs": [
    {
     "name": "stdout",
     "output_type": "stream",
     "text": [
      "연도 입력 : 2022\n",
      "월 입력 : 4\n",
      "오류\n"
     ]
    }
   ],
   "source": [
    "last_day_dict = {'31' : [1,3,5,7,8,10,12] ,\n",
    "            '30' : [4,6,9,11] ,\n",
    "            '29' : [2] ,\n",
    "            '28' : [2]\n",
    "           }\n"
   ]
  },
  {
   "cell_type": "code",
   "execution_count": null,
   "id": "117540c5",
   "metadata": {},
   "outputs": [],
   "source": [
    "year       = int(input(\"연도 입력 : \"))\n",
    "month      = int(input(\"월 입력 : \"))\n",
    "last_day   = None\n",
    "\n",
    "if int(month) >= 1 and int(month) <= 12 :\n",
    "    if ((year % 4 ) == 0) and ((year % 100 ) != 0) or ((year % 400 ) == 0) :\n",
    "        if  month in [1,3,5,7,8,10,12] :\n",
    "                last_day = 31\n",
    "        elif month in [4,6,9,11] :\n",
    "                last_day = 30\n",
    "        elif month   == 2 :\n",
    "                last_day = 29\n",
    "        print(\"올해는 윤년이며 , {}년 {}월 마지막일은 {}일 입니다.\".format(year , month , last_day))\n",
    "    \n",
    "    else :\n",
    "        if  month  in [1,3,5,7,8,10,12] :\n",
    "                last_day = 31\n",
    "        elif month in [4,6,9,11] :\n",
    "                last_day = 30\n",
    "        elif month   == 2 :\n",
    "                last_day = 28\n",
    "        print(\"올해는 평년이며 , {}년 {}월 마지막일은 {}일 입니다.\".format(year , month , last_day))\n",
    "    \n",
    "else :\n",
    "    print(\"월을 잘못 입력하셨습니다.\")\n",
    "    "
   ]
  },
  {
   "cell_type": "code",
   "execution_count": 275,
   "id": "0ee50451",
   "metadata": {},
   "outputs": [
    {
     "name": "stdout",
     "output_type": "stream",
     "text": [
      "년도 입력 : 2022\n",
      "달 입력 : 4\n",
      "2022 년 4월 마지막일은 30일 입니다\n"
     ]
    }
   ],
   "source": [
    "year  = int(input('년도 입력 : ')) \n",
    "month = int(input('달 입력 : ')) \n",
    "\n",
    "year_months      = [31, 28, 31, 30, 31, 30, 31, 31, 30, 31, 30, 31] \n",
    "leap_year_months = [31, 29, 31, 30, 31, 30, 31, 31, 30, 31, 30, 31] \n",
    "\n",
    "if (year%4 == 0) and (year%100 != 0) : \n",
    "    print('{} 년 {}월 마지막일은 {}일 입니다'.format(year, month, leap_year_months[month - 1]))\n",
    "elif (year %400 == 0) : \n",
    "    print('{} 년 {}월 마지막일은 {}일 입니다'.format(year, month, leap_year_months[month - 1]))\n",
    "else : \n",
    "    print('{} 년 {}월 마지막일은 {}일 입니다'.format(year, month, year_months[month - 1])  )\n"
   ]
  },
  {
   "cell_type": "code",
   "execution_count": 304,
   "id": "64cae492",
   "metadata": {},
   "outputs": [
    {
     "name": "stdout",
     "output_type": "stream",
     "text": [
      "년도 입력 : 2022\n",
      "달 입력 : 4\n",
      "2022년은 평년이며, 4월 마지막일은 30일 입니다\n"
     ]
    }
   ],
   "source": [
    "from datetime import datetime\n",
    "year  = int(input('년도 입력 : ')) \n",
    "month = int(input('달 입력 : ')) \n",
    "date = '{}-{}'.format(year, month+1)\n",
    "date_ym = datetime.strptime(date , '%Y-%m')\n",
    "days = relativedelta(days = 1)\n",
    "\n",
    "last_day = date_ym - days\n",
    "# 다음 달에서 하루 빼면 마지막 일자가 나온다.\n",
    "last_day = last_day.day\n",
    "\n",
    "if (year%4 == 0) and (year%100 != 0) : \n",
    "    print('{}년은 윤년이며, {}월 마지막일은 {}일 입니다'.format(year, month, last_day))\n",
    "elif (year %400 == 0) : \n",
    "    print('{}년은 윤년이며, {}월 마지막일은 {}일 입니다'.format(year, month, last_day))\n",
    "else : \n",
    "    print('{}년은 평년이며, {}월 마지막일은 {}일 입니다'.format(year, month, last_day))\n",
    "\n"
   ]
  },
  {
   "cell_type": "code",
   "execution_count": 301,
   "id": "baf6263e",
   "metadata": {},
   "outputs": [
    {
     "name": "stdout",
     "output_type": "stream",
     "text": [
      "년도 입력 : 2022\n",
      "달 입력 : 4\n",
      "2022년은 윤년이며, 4월 마지막일은 30일 입니다\n"
     ]
    }
   ],
   "source": [
    "from datetime import datetime\n",
    "year  = int(input('년도 입력 : ')) \n",
    "month = int(input('달 입력 : ')) \n",
    "date_ym = datetime.strptime('{}-{}'.format(year, month+1) , '%Y-%m')\n",
    "last_day = date_ym - relativedelta(days = 1)\n",
    "last_day = last_day.day\n",
    "\n",
    "if (year%4 == 0) and (year%100 != 0) : \n",
    "    print('{}년은 윤년이며, {}월 마지막일은 {}일 입니다'.format(year, month, last_day))\n",
    "elif (year %400 == 0) : \n",
    "    print('{}년은 평년이며, {}월 마지막일은 {}일 입니다'.format(year, month, last_day))\n"
   ]
  },
  {
   "cell_type": "code",
   "execution_count": 302,
   "id": "66b3431f",
   "metadata": {},
   "outputs": [
    {
     "name": "stdout",
     "output_type": "stream",
     "text": [
      "년도 입력 : 2022\n",
      "달 입력 : 4\n"
     ]
    }
   ],
   "source": []
  },
  {
   "cell_type": "code",
   "execution_count": null,
   "id": "5442962f",
   "metadata": {},
   "outputs": [],
   "source": []
  },
  {
   "cell_type": "code",
   "execution_count": null,
   "id": "d8eb770c",
   "metadata": {},
   "outputs": [],
   "source": []
  },
  {
   "cell_type": "code",
   "execution_count": null,
   "id": "dfdd7f4c",
   "metadata": {},
   "outputs": [],
   "source": []
  },
  {
   "cell_type": "code",
   "execution_count": null,
   "id": "8443dadd",
   "metadata": {},
   "outputs": [],
   "source": []
  },
  {
   "cell_type": "code",
   "execution_count": null,
   "id": "8d8f682d",
   "metadata": {},
   "outputs": [],
   "source": []
  }
 ],
 "metadata": {
  "kernelspec": {
   "display_name": "Python 3 (ipykernel)",
   "language": "python",
   "name": "python3"
  },
  "language_info": {
   "codemirror_mode": {
    "name": "ipython",
    "version": 3
   },
   "file_extension": ".py",
   "mimetype": "text/x-python",
   "name": "python",
   "nbconvert_exporter": "python",
   "pygments_lexer": "ipython3",
   "version": "3.9.12"
  }
 },
 "nbformat": 4,
 "nbformat_minor": 5
}
