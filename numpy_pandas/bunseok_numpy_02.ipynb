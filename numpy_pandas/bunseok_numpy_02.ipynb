{
 "cells": [
  {
   "cell_type": "code",
   "execution_count": 4,
   "id": "691fb6ce",
   "metadata": {},
   "outputs": [],
   "source": [
    "import numpy as np\n",
    "import pandas as pd\n",
    "\n",
    "# 배열의 정보를 확인하기 위한 함수 정의\n",
    "\n",
    "def aryinfo(ary) :\n",
    "    print('type      - ' , type(ary))\n",
    "    print('shape     - ' , ary.shape)\n",
    "    print('dimension - ' , ary.ndim)\n",
    "    print('dtype     - ' , ary.dtype)\n",
    "    print()\n",
    "    print('data - ')\n",
    "    print(ary)"
   ]
  },
  {
   "cell_type": "markdown",
   "id": "dc027051",
   "metadata": {},
   "source": [
    "- 배열 연결(concatenate)\n",
    "- hstack(), vstack(), dstack(), r_, c_, tile"
   ]
  },
  {
   "cell_type": "code",
   "execution_count": 16,
   "id": "9ffb9cdf",
   "metadata": {},
   "outputs": [
    {
     "name": "stdout",
     "output_type": "stream",
     "text": [
      "hstack - 행의 수가 같은 두 개 이상의 배열을 연결\n",
      "\n",
      "[[1. 1. 1. 1.]\n",
      " [1. 1. 1. 1.]\n",
      " [1. 1. 1. 1.]]\n",
      "\n",
      "[[0. 0. 0. 0. 0.]\n",
      " [0. 0. 0. 0. 0.]\n",
      " [0. 0. 0. 0. 0.]]\n",
      "\n",
      "[[1. 1. 1. 1. 0. 0. 0. 0. 0.]\n",
      " [1. 1. 1. 1. 0. 0. 0. 0. 0.]\n",
      " [1. 1. 1. 1. 0. 0. 0. 0. 0.]]\n"
     ]
    }
   ],
   "source": [
    "print('hstack - 행의 수가 같은 두 개 이상의 배열을 연결')\n",
    "print()\n",
    "\n",
    "ary01 = np.ones((3,4))\n",
    "print(ary01)\n",
    "\n",
    "print()\n",
    "\n",
    "ary02 = np.zeros((3,5))\n",
    "print(ary02)\n",
    "\n",
    "print()\n",
    "\n",
    "# 행의 수가 같을 경우 결합 가능\n",
    "print(np.hstack([ary01, ary02]))\n"
   ]
  },
  {
   "cell_type": "code",
   "execution_count": 20,
   "id": "b9427969",
   "metadata": {},
   "outputs": [
    {
     "name": "stdout",
     "output_type": "stream",
     "text": [
      "vstack - 열의 수가 같은 두 개 이상의 배열을 연결\n",
      "\n",
      "[[1. 1. 1. 1.]\n",
      " [1. 1. 1. 1.]\n",
      " [1. 1. 1. 1.]]\n",
      "\n",
      "[[0. 0. 0. 0.]\n",
      " [0. 0. 0. 0.]\n",
      " [0. 0. 0. 0.]]\n",
      "\n",
      "[[1. 1. 1. 1.]\n",
      " [1. 1. 1. 1.]\n",
      " [1. 1. 1. 1.]\n",
      " [0. 0. 0. 0.]\n",
      " [0. 0. 0. 0.]\n",
      " [0. 0. 0. 0.]]\n"
     ]
    }
   ],
   "source": [
    "print('vstack - 열의 수가 같은 두 개 이상의 배열을 연결')\n",
    "print()\n",
    "\n",
    "ary01 = np.ones((3,4))\n",
    "print(ary01)\n",
    "\n",
    "print()\n",
    "\n",
    "ary02 = np.zeros((3,4))\n",
    "print(ary02)\n",
    "\n",
    "print()\n",
    "\n",
    "print(np.vstack([ary01, ary02]))"
   ]
  },
  {
   "cell_type": "code",
   "execution_count": 23,
   "id": "e433613e",
   "metadata": {},
   "outputs": [
    {
     "name": "stdout",
     "output_type": "stream",
     "text": [
      "dstack - 행과 열이 아닌 깊이 방향으로 배열을 배열을 연결\n",
      "\n",
      "[[1. 1. 1. 1.]\n",
      " [1. 1. 1. 1.]\n",
      " [1. 1. 1. 1.]]\n",
      "\n",
      "[[0. 0. 0. 0.]\n",
      " [0. 0. 0. 0.]\n",
      " [0. 0. 0. 0.]]\n",
      "\n",
      "[[[1. 0.]\n",
      "  [1. 0.]\n",
      "  [1. 0.]\n",
      "  [1. 0.]]\n",
      "\n",
      " [[1. 0.]\n",
      "  [1. 0.]\n",
      "  [1. 0.]\n",
      "  [1. 0.]]\n",
      "\n",
      " [[1. 0.]\n",
      "  [1. 0.]\n",
      "  [1. 0.]\n",
      "  [1. 0.]]]\n",
      "type      -  <class 'numpy.ndarray'>\n",
      "shape     -  (3, 4, 2)\n",
      "dimension -  3\n",
      "dtype     -  float64\n",
      "\n",
      "data - \n",
      "[[[1. 0.]\n",
      "  [1. 0.]\n",
      "  [1. 0.]\n",
      "  [1. 0.]]\n",
      "\n",
      " [[1. 0.]\n",
      "  [1. 0.]\n",
      "  [1. 0.]\n",
      "  [1. 0.]]\n",
      "\n",
      " [[1. 0.]\n",
      "  [1. 0.]\n",
      "  [1. 0.]\n",
      "  [1. 0.]]]\n"
     ]
    }
   ],
   "source": [
    "print('dstack - 행과 열이 아닌 깊이 방향으로 배열을 배열을 연결')\n",
    "print('차원이 추가되는 것이기 때문에 행과 열이 같아야한다.')\n",
    "print('행 개수 : 차원 수, 열 마다 짝지음')\n",
    "print()\n",
    "\n",
    "ary01 = np.ones((3,4))\n",
    "print(ary01)\n",
    "\n",
    "print()\n",
    "\n",
    "ary02 = np.zeros((3,4))\n",
    "print(ary02)\n",
    "\n",
    "print()\n",
    "\n",
    "print(np.dstack([ary01, ary02]))\n",
    "aryinfo(np.dstack([ary01, ary02]))"
   ]
  },
  {
   "cell_type": "code",
   "execution_count": 28,
   "id": "86b41806",
   "metadata": {},
   "outputs": [
    {
     "name": "stdout",
     "output_type": "stream",
     "text": [
      "stack - 사용자가 지정한 차원(축 : x, y) 배열을 연결\n",
      "축 방향 : axis = 0 default\n",
      "\n",
      "[[1. 1. 1. 1.]\n",
      " [1. 1. 1. 1.]\n",
      " [1. 1. 1. 1.]]\n",
      "\n",
      "[[0. 0. 0. 0.]\n",
      " [0. 0. 0. 0.]\n",
      " [0. 0. 0. 0.]]\n",
      "--------------------\n",
      "type      -  <class 'numpy.ndarray'>\n",
      "shape     -  (2, 3, 4)\n",
      "dimension -  3\n",
      "dtype     -  float64\n",
      "\n",
      "data - \n",
      "[[[1. 1. 1. 1.]\n",
      "  [1. 1. 1. 1.]\n",
      "  [1. 1. 1. 1.]]\n",
      "\n",
      " [[0. 0. 0. 0.]\n",
      "  [0. 0. 0. 0.]\n",
      "  [0. 0. 0. 0.]]]\n",
      "\n",
      "type      -  <class 'numpy.ndarray'>\n",
      "shape     -  (3, 2, 4)\n",
      "dimension -  3\n",
      "dtype     -  float64\n",
      "\n",
      "data - \n",
      "[[[1. 1. 1. 1.]\n",
      "  [0. 0. 0. 0.]]\n",
      "\n",
      " [[1. 1. 1. 1.]\n",
      "  [0. 0. 0. 0.]]\n",
      "\n",
      " [[1. 1. 1. 1.]\n",
      "  [0. 0. 0. 0.]]]\n"
     ]
    }
   ],
   "source": [
    "print('stack - 사용자가 지정한 차원(축 : x, y) 배열을 연결')\n",
    "print('축 방향 : axis = 0 default')\n",
    "print()\n",
    "\n",
    "ary01 = np.ones((3,4))\n",
    "print(ary01)\n",
    "\n",
    "print()\n",
    "\n",
    "ary02 = np.zeros((3,4))\n",
    "print(ary02)\n",
    "\n",
    "print('--------------------')\n",
    "\n",
    "aryinfo(np.stack([ary01, ary02] , axis = 0))\n",
    "print()\n",
    "aryinfo(np.stack([ary01, ary02] , axis = 1))"
   ]
  },
  {
   "cell_type": "code",
   "execution_count": 30,
   "id": "f3a6b3d0",
   "metadata": {},
   "outputs": [
    {
     "name": "stdout",
     "output_type": "stream",
     "text": [
      "r_[] - 인덱서 == hstack 열이 증가하는 배열 연결\n",
      "[1 2 3 4 5 6]\n",
      "\n",
      "[[1 4]\n",
      " [2 5]\n",
      " [3 6]]\n"
     ]
    }
   ],
   "source": [
    "print('r_[] - 인덱서 == hstack 열이 증가하는 배열 연결')\n",
    "print('c_[] - 인덱서 == 배열의 차원 증가 후 배열 연결')\n",
    "\n",
    "print(np.r_[np.array([1,2,3]) , np.array([4,5,6])])\n",
    "print()\n",
    "print(np.c_[np.array([1,2,3]) , np.array([4,5,6])])"
   ]
  },
  {
   "cell_type": "code",
   "execution_count": 34,
   "id": "341dff89",
   "metadata": {},
   "outputs": [
    {
     "name": "stdout",
     "output_type": "stream",
     "text": [
      "tile - 동일한 배열을 반복하여 연결\n",
      "type      -  <class 'numpy.ndarray'>\n",
      "shape     -  (2, 3)\n",
      "dimension -  2\n",
      "dtype     -  int32\n",
      "\n",
      "data - \n",
      "[[1 2 3]\n",
      " [4 5 6]]\n",
      "\n",
      "[[1 2 3 1 2 3 1 2 3]\n",
      " [4 5 6 4 5 6 4 5 6]\n",
      " [1 2 3 1 2 3 1 2 3]\n",
      " [4 5 6 4 5 6 4 5 6]\n",
      " [1 2 3 1 2 3 1 2 3]\n",
      " [4 5 6 4 5 6 4 5 6]]\n"
     ]
    }
   ],
   "source": [
    "print('tile - 동일한 배열을 반복하여 연결')\n",
    "ary = np.array([[1,2,3] , [4,5,6]])\n",
    "aryinfo(ary)\n",
    "print()\n",
    "\n",
    "# ary 배열을 타일형식으로 3행3열로 반복\n",
    "print( np.tile(ary , (3,3)))"
   ]
  },
  {
   "cell_type": "code",
   "execution_count": null,
   "id": "b2165263",
   "metadata": {},
   "outputs": [],
   "source": [
    "# 위 결과가 나올 수 있도록 함수를 이용하여 작성해 보세요~~~\n",
    "# array([[   0.,    0.,    0.,    1.,    1.],\n",
    "#        [   0.,    0.,    0.,    1.,    1.],\n",
    "#        [   0.,    0.,    0.,    1.,    1.],\n",
    "#        [  10.,   20.,   30.,   40.,   50.],\n",
    "#        [  60.,   70.,   80.,   90.,  100.],\n",
    "#        [ 110.,  120.,  130.,  140.,  150.],\n",
    "#        [   0.,    0.,    0.,    1.,    1.],\n",
    "#        [   0.,    0.,    0.,    1.,    1.],\n",
    "#        [   0.,    0.,    0.,    1.,    1.],\n",
    "#        [  10.,   20.,   30.,   40.,   50.],\n",
    "#        [  60.,   70.,   80.,   90.,  100.],\n",
    "#        [ 110.,  120.,  130.,  140.,  150.]])\n"
   ]
  },
  {
   "cell_type": "code",
   "execution_count": 91,
   "id": "f5a5d8d3",
   "metadata": {},
   "outputs": [
    {
     "name": "stdout",
     "output_type": "stream",
     "text": [
      "[[0. 0. 0.]\n",
      " [0. 0. 0.]\n",
      " [0. 0. 0.]]\n",
      "\n",
      "[[1. 1.]\n",
      " [1. 1.]\n",
      " [1. 1.]]\n",
      "\n",
      "[[ 10  20  30  40  50]\n",
      " [ 60  70  80  90 100]\n",
      " [110 120 130 140 150]]\n",
      "\n",
      "[[0. 0. 0. 1. 1.]\n",
      " [0. 0. 0. 1. 1.]\n",
      " [0. 0. 0. 1. 1.]]\n",
      "type      -  <class 'numpy.ndarray'>\n",
      "shape     -  (3, 5)\n",
      "dimension -  2\n",
      "dtype     -  float64\n",
      "\n",
      "data - \n",
      "[[0. 0. 0. 1. 1.]\n",
      " [0. 0. 0. 1. 1.]\n",
      " [0. 0. 0. 1. 1.]]\n",
      "\n",
      "\n",
      "\n",
      "[[  0.   0.   0.   1.   1.]\n",
      " [  0.   0.   0.   1.   1.]\n",
      " [  0.   0.   0.   1.   1.]\n",
      " [ 10.  20.  30.  40.  50.]\n",
      " [ 60.  70.  80.  90. 100.]\n",
      " [110. 120. 130. 140. 150.]]\n",
      "\n",
      "\n",
      "\n",
      "[[  0.   0.   0.   1.   1.]\n",
      " [  0.   0.   0.   1.   1.]\n",
      " [  0.   0.   0.   1.   1.]\n",
      " [ 10.  20.  30.  40.  50.]\n",
      " [ 60.  70.  80.  90. 100.]\n",
      " [110. 120. 130. 140. 150.]\n",
      " [  0.   0.   0.   1.   1.]\n",
      " [  0.   0.   0.   1.   1.]\n",
      " [  0.   0.   0.   1.   1.]\n",
      " [ 10.  20.  30.  40.  50.]\n",
      " [ 60.  70.  80.  90. 100.]\n",
      " [110. 120. 130. 140. 150.]]\n",
      "\n"
     ]
    }
   ],
   "source": [
    "ary_01 = np.zeros((3,3))\n",
    "print(ary_01)\n",
    "print()\n",
    "\n",
    "ary_02 = np.ones((3,2))\n",
    "print(ary_02)\n",
    "print()\n",
    "\n",
    "ary_03 = np.arange(10,160,10).reshape(3,5)\n",
    "print(ary_03)\n",
    "print()\n",
    "\n",
    "\n",
    "\n",
    "# 1\n",
    "step_01 = np.hstack([ary_01 , ary_02])\n",
    "print(step_01)\n",
    "aryinfo(step_01)\n",
    "\n",
    "print()\n",
    "print()\n",
    "print()\n",
    "\n",
    "# 2 \n",
    "step_02 = np.vstack([step_01 , ary_03 ])\n",
    "print(step_02)\n",
    "print()\n",
    "print()\n",
    "print()\n",
    "\n",
    "# 3\n",
    "step_03 = np.tile(step_02 , (2,1))\n",
    "print(step_03)\n",
    "print()"
   ]
  },
  {
   "cell_type": "code",
   "execution_count": 54,
   "id": "dab21729",
   "metadata": {},
   "outputs": [
    {
     "data": {
      "text/plain": [
       "array([10, 20, 30, 40, 50])"
      ]
     },
     "execution_count": 54,
     "metadata": {},
     "output_type": "execute_result"
    }
   ],
   "source": [
    "np.arange(10,51,10)"
   ]
  },
  {
   "cell_type": "markdown",
   "id": "16945991",
   "metadata": {},
   "source": [
    "#### delete()\n",
    "- axis 기준행과 열을 삭제 할 수 있다. : axis = 0(행) , 1(열)\n",
    "- axis 지정하지 않으면 1차원 변환 후 삭제\n",
    "- 원본 배열을 변경하지 않고 새로운 배열 return"
   ]
  },
  {
   "cell_type": "code",
   "execution_count": 95,
   "id": "98e4449d",
   "metadata": {},
   "outputs": [
    {
     "name": "stdout",
     "output_type": "stream",
     "text": [
      "type      -  <class 'numpy.ndarray'>\n",
      "shape     -  (3, 4)\n",
      "dimension -  2\n",
      "dtype     -  int32\n",
      "\n",
      "data - \n",
      "[[5 6 6 5]\n",
      " [8 5 6 8]\n",
      " [3 1 3 7]]\n"
     ]
    }
   ],
   "source": [
    "ary = np.random.randint(0 , 10 , (3,4))\n",
    "aryinfo(ary)"
   ]
  },
  {
   "cell_type": "code",
   "execution_count": 106,
   "id": "6619ea6a",
   "metadata": {},
   "outputs": [
    {
     "name": "stdout",
     "output_type": "stream",
     "text": [
      "type      -  <class 'numpy.ndarray'>\n",
      "shape     -  (3, 3)\n",
      "dimension -  2\n",
      "dtype     -  int32\n",
      "\n",
      "data - \n",
      "[[5 6 5]\n",
      " [8 6 8]\n",
      " [3 3 7]]\n"
     ]
    }
   ],
   "source": [
    "ary_new = np.delete(ary , 1 , axis = 1)\n",
    "aryinfo(ary_new)"
   ]
  },
  {
   "cell_type": "markdown",
   "id": "b56b5d04",
   "metadata": {},
   "source": [
    "- loadtxt() : 파일 입출력 가능"
   ]
  },
  {
   "cell_type": "code",
   "execution_count": 119,
   "id": "1a7698d6",
   "metadata": {},
   "outputs": [
    {
     "name": "stdout",
     "output_type": "stream",
     "text": [
      "type      -  <class 'numpy.ndarray'>\n",
      "shape     -  (31,)\n",
      "dimension -  1\n",
      "dtype     -  object\n",
      "\n",
      "data - \n",
      "['중부서,2,2,3,2,105,65,\"1,395\",477,\"1,355\",\"1,170\"'\n",
      " '종로서,3,3,6,5,115,98,\"1,070\",413,\"1,278\",\"1,070\"'\n",
      " '남대문서,1,0,6,4,65,46,\"1,153\",382,869,794'\n",
      " '서대문서,2,2,5,4,154,124,\"1,812\",738,\"2,056\",\"1,711\"'\n",
      " '혜화서,3,2,5,4,96,63,\"1,114\",424,\"1,015\",861'\n",
      " '용산서,5,5,14,14,194,173,\"1,557\",587,\"2,050\",\"1,704\"'\n",
      " '성북서,2,2,2,1,86,71,953,409,\"1,194\",\"1,015\"'\n",
      " '동대문서,5,5,13,13,173,146,\"1,981\",814,\"2,548\",\"2,227\"'\n",
      " '마포서,8,8,14,10,294,247,\"2,555\",813,\"2,983\",\"2,519\"'\n",
      " '영등포서,14,12,22,20,295,183,\"2,964\",978,\"3,572\",\"2,961\"'\n",
      " '성동서,4,4,9,8,126,119,\"1,607\",597,\"1,612\",\"1,395\"'\n",
      " '동작서,5,5,9,5,285,139,\"1,865\",661,\"1,910\",\"1,587\"'\n",
      " '광진서,4,4,14,26,240,220,\"3,026\",\"1,277\",\"2,625\",\"2,180\"'\n",
      " '서부서,2,2,2,1,70,59,819,293,\"1,192\",\"1,038\"'\n",
      " '강북서,7,8,14,13,153,126,\"1,434\",618,\"2,649\",\"2,348\"'\n",
      " '금천서,3,4,6,6,151,122,\"1,567\",888,\"2,054\",\"1,776\"'\n",
      " '중랑서,13,12,11,9,187,148,\"2,135\",829,\"2,847\",\"2,407\"'\n",
      " '강남서,3,3,15,12,300,225,\"2,411\",984,\"2,465\",\"2,146\"'\n",
      " '관악서,9,8,12,14,320,221,\"2,706\",827,\"3,298\",\"2,642\"'\n",
      " '강서서,7,8,13,13,262,191,\"2,096\",\"1,260\",\"3,207\",\"2,718\"'\n",
      " '강동서,4,3,6,8,156,123,\"2,366\",789,\"2,712\",\"2,248\"'\n",
      " '종암서,3,3,3,3,64,53,832,332,\"1,015\",840'\n",
      " '구로서,8,6,15,11,281,164,\"2,335\",889,\"3,007\",\"2,432\"'\n",
      " '서초서,7,4,8,5,334,193,\"1,982\",905,\"1,852\",\"1,607\"'\n",
      " '양천서,3,5,6,3,120,105,\"1,890\",672,\"2,509\",\"2,030\"'\n",
      " '송파서,11,10,13,10,220,178,\"3,239\",\"1,129\",\"3,295\",\"2,786\"'\n",
      " '노원서,10,10,7,7,197,121,\"2,193\",801,\"2,723\",\"2,329\"'\n",
      " '방배서,1,2,1,1,59,56,653,186,547,491'\n",
      " '은평서,1,1,7,5,96,82,\"1,095\",418,\"1,461\",\"1,268\"'\n",
      " '도봉서,3,3,9,10,102,106,\"1,063\",478,\"1,487\",\"1,303\"'\n",
      " '수서서,10,7,6,6,149,124,\"1,439\",666,\"1,819\",\"1,559\"']\n",
      "\n",
      "\n",
      "중부서,2,2,3,2,105,65,\"1,395\",477,\"1,355\",\"1,170\"\n",
      "\n",
      "--------------------------------------------------\n",
      "type      -  <class 'numpy.ndarray'>\n",
      "shape     -  (31, 1)\n",
      "dimension -  2\n",
      "dtype     -  object\n",
      "\n",
      "data - \n",
      "[['중부서,2,2,3,2,105,65,\"1,395\",477,\"1,355\",\"1,170\"']\n",
      " ['종로서,3,3,6,5,115,98,\"1,070\",413,\"1,278\",\"1,070\"']\n",
      " ['남대문서,1,0,6,4,65,46,\"1,153\",382,869,794']\n",
      " ['서대문서,2,2,5,4,154,124,\"1,812\",738,\"2,056\",\"1,711\"']\n",
      " ['혜화서,3,2,5,4,96,63,\"1,114\",424,\"1,015\",861']\n",
      " ['용산서,5,5,14,14,194,173,\"1,557\",587,\"2,050\",\"1,704\"']\n",
      " ['성북서,2,2,2,1,86,71,953,409,\"1,194\",\"1,015\"']\n",
      " ['동대문서,5,5,13,13,173,146,\"1,981\",814,\"2,548\",\"2,227\"']\n",
      " ['마포서,8,8,14,10,294,247,\"2,555\",813,\"2,983\",\"2,519\"']\n",
      " ['영등포서,14,12,22,20,295,183,\"2,964\",978,\"3,572\",\"2,961\"']\n",
      " ['성동서,4,4,9,8,126,119,\"1,607\",597,\"1,612\",\"1,395\"']\n",
      " ['동작서,5,5,9,5,285,139,\"1,865\",661,\"1,910\",\"1,587\"']\n",
      " ['광진서,4,4,14,26,240,220,\"3,026\",\"1,277\",\"2,625\",\"2,180\"']\n",
      " ['서부서,2,2,2,1,70,59,819,293,\"1,192\",\"1,038\"']\n",
      " ['강북서,7,8,14,13,153,126,\"1,434\",618,\"2,649\",\"2,348\"']\n",
      " ['금천서,3,4,6,6,151,122,\"1,567\",888,\"2,054\",\"1,776\"']\n",
      " ['중랑서,13,12,11,9,187,148,\"2,135\",829,\"2,847\",\"2,407\"']\n",
      " ['강남서,3,3,15,12,300,225,\"2,411\",984,\"2,465\",\"2,146\"']\n",
      " ['관악서,9,8,12,14,320,221,\"2,706\",827,\"3,298\",\"2,642\"']\n",
      " ['강서서,7,8,13,13,262,191,\"2,096\",\"1,260\",\"3,207\",\"2,718\"']\n",
      " ['강동서,4,3,6,8,156,123,\"2,366\",789,\"2,712\",\"2,248\"']\n",
      " ['종암서,3,3,3,3,64,53,832,332,\"1,015\",840']\n",
      " ['구로서,8,6,15,11,281,164,\"2,335\",889,\"3,007\",\"2,432\"']\n",
      " ['서초서,7,4,8,5,334,193,\"1,982\",905,\"1,852\",\"1,607\"']\n",
      " ['양천서,3,5,6,3,120,105,\"1,890\",672,\"2,509\",\"2,030\"']\n",
      " ['송파서,11,10,13,10,220,178,\"3,239\",\"1,129\",\"3,295\",\"2,786\"']\n",
      " ['노원서,10,10,7,7,197,121,\"2,193\",801,\"2,723\",\"2,329\"']\n",
      " ['방배서,1,2,1,1,59,56,653,186,547,491']\n",
      " ['은평서,1,1,7,5,96,82,\"1,095\",418,\"1,461\",\"1,268\"']\n",
      " ['도봉서,3,3,9,10,102,106,\"1,063\",478,\"1,487\",\"1,303\"']\n",
      " ['수서서,10,7,6,6,149,124,\"1,439\",666,\"1,819\",\"1,559\"']]\n",
      "this -  ['중부서,2,2,3,2,105,65,\"1,395\",477,\"1,355\",\"1,170\"']\n"
     ]
    },
    {
     "name": "stderr",
     "output_type": "stream",
     "text": [
      "C:\\Users\\a\\AppData\\Local\\Temp\\ipykernel_9052\\3603863930.py:1: DeprecationWarning: `np.object` is a deprecated alias for the builtin `object`. To silence this warning, use `object` by itself. Doing this will not modify any behavior and is safe. \n",
      "Deprecated in NumPy 1.20; for more details and guidance: https://numpy.org/devdocs/release/1.20.0-notes.html#deprecations\n",
      "  raw_data = np.loadtxt('C:/Users/a/data/02. crime_in_Seoul.csv' , dtype=np.object , skiprows=1)\n"
     ]
    }
   ],
   "source": [
    "raw_data = np.loadtxt('C:/Users/a/data/02. crime_in_Seoul.csv' , dtype=np.object , skiprows=1)\n",
    "aryinfo(raw_data)\n",
    "print()\n",
    "print()\n",
    "print(raw_data[0])\n",
    "print()\n",
    "print('-'*50)\n",
    "ary = raw_data[ : , np.newaxis]\n",
    "aryinfo(ary)\n",
    "print('this - ' , ary[0])"
   ]
  },
  {
   "cell_type": "markdown",
   "id": "74614bd1",
   "metadata": {},
   "source": [
    "#### 배열의 연산\n",
    "- vectorized operator(벡터화 연산)\n",
    "- borad casting : 벡터와 행렬의 연사을 위해서는 크기가 같아야한다.\n",
    "- 그렇다면 서로다른 크기를 가진 두 배열의 연산은 가능할까?"
   ]
  },
  {
   "cell_type": "code",
   "execution_count": 129,
   "id": "488d21ff",
   "metadata": {},
   "outputs": [
    {
     "data": {
      "text/plain": [
       "array([10002, 10004, 10006, ..., 29996, 29998, 30000])"
      ]
     },
     "execution_count": 129,
     "metadata": {},
     "output_type": "execute_result"
    }
   ],
   "source": [
    "ary01 = np.arange(1 , 10001)\n",
    "ary02 = np.arange(10001 , 20001)\n",
    "\n",
    "ary01 + ary02"
   ]
  },
  {
   "cell_type": "code",
   "execution_count": 132,
   "id": "90b9230d",
   "metadata": {},
   "outputs": [
    {
     "name": "stdout",
     "output_type": "stream",
     "text": [
      "answer\n",
      "[10002 10004 10006 ... 29996 29998 30000]\n"
     ]
    }
   ],
   "source": [
    "# 비어있는 배열 생성\n",
    "\n",
    "\n",
    "result = np.zeros_like(ary01)\n",
    "for idx in range(len(ary01)) :\n",
    "    result[idx] = ary01[idx] + ary02[idx]\n",
    "\n",
    "print('answer')\n",
    "print(result)\n",
    "\n",
    "\n"
   ]
  },
  {
   "cell_type": "code",
   "execution_count": 136,
   "id": "bd653a8e",
   "metadata": {},
   "outputs": [
    {
     "name": "stdout",
     "output_type": "stream",
     "text": [
      "answer\n",
      "[10002 10004 10006 ... 29996 29998 30000]\n",
      "CPU times: total: 0 ns\n",
      "Wall time: 1 ms\n"
     ]
    }
   ],
   "source": [
    "%%time\n",
    "result = np.zeros_like(ary01)\n",
    "result = ary01 + ary02\n",
    "print('answer')\n",
    "print(result)"
   ]
  },
  {
   "cell_type": "code",
   "execution_count": 142,
   "id": "884d9c0c",
   "metadata": {},
   "outputs": [
    {
     "name": "stdout",
     "output_type": "stream",
     "text": [
      "\n",
      "배열의 모든 원소가 같은지를 비교하고 싶다면 ? - all()\n",
      "False\n",
      "True\n",
      "False\n",
      "True\n"
     ]
    }
   ],
   "source": [
    "ary01 = np.array([1,2,3,4])\n",
    "ary02 = np.array([4,3,2,4])\n",
    "ary03 = np.array([11,12,13,4])\n",
    "print()\n",
    "print('배열의 모든 원소가 같은지를 비교하고 싶다면 ? - all()')\n",
    "\n",
    "print(np.all(ary01 == ary02))\n",
    "print(ary01 in ary02)\n",
    "\n",
    "print(np.all(ary01 == ary03))\n",
    "print(ary01 in ary03)\n",
    "\n",
    "\n",
    "\n",
    "\n"
   ]
  },
  {
   "cell_type": "raw",
   "id": "fdf032ee",
   "metadata": {},
   "source": [
    "ary = np.arange(5)\n",
    "ary * 1 "
   ]
  },
  {
   "cell_type": "code",
   "execution_count": 144,
   "id": "5d89d8c6",
   "metadata": {},
   "outputs": [
    {
     "data": {
      "text/plain": [
       "array([[ 0,  1,  2,  3],\n",
       "       [ 4,  5,  6,  7],\n",
       "       [ 8,  9, 10, 11]])"
      ]
     },
     "execution_count": 144,
     "metadata": {},
     "output_type": "execute_result"
    }
   ],
   "source": [
    "ary01 = np.arange(12).reshape(-1,4)\n",
    "ary01"
   ]
  },
  {
   "cell_type": "code",
   "execution_count": 146,
   "id": "d7a8dbe2",
   "metadata": {},
   "outputs": [
    {
     "data": {
      "text/plain": [
       "array([0, 1, 2])"
      ]
     },
     "execution_count": 146,
     "metadata": {},
     "output_type": "execute_result"
    }
   ],
   "source": [
    "ary02 = np.arange(3)\n",
    "ary02"
   ]
  },
  {
   "cell_type": "code",
   "execution_count": 149,
   "id": "669ab4d9",
   "metadata": {},
   "outputs": [
    {
     "data": {
      "text/plain": [
       "array([[ 0,  1,  2,  3],\n",
       "       [ 5,  6,  7,  8],\n",
       "       [10, 11, 12, 13]])"
      ]
     },
     "execution_count": 149,
     "metadata": {},
     "output_type": "execute_result"
    }
   ],
   "source": [
    "ary01 + ary02[ : , np.newaxis]"
   ]
  },
  {
   "cell_type": "markdown",
   "id": "1c7cb602",
   "metadata": {},
   "source": [
    "#### 차원축소 (dimension reduction)\n",
    "- 기술적 통계함수(min, max, sum, mean, median, std, var etx...)\n",
    "- all , any\n",
    "- 인덱스를 리턴하는 차원축소 함수 : argmin, argmx\n",
    "\n"
   ]
  },
  {
   "cell_type": "code",
   "execution_count": 157,
   "id": "aea1d43a",
   "metadata": {},
   "outputs": [
    {
     "name": "stdout",
     "output_type": "stream",
     "text": [
      "data -  [1 2 3 4 5] (5,) 1\n",
      "sum -  15 <class 'numpy.int32'>\n",
      "sum -  15 <class 'numpy.int32'>\n",
      "\n",
      "sum -  1 <class 'numpy.int32'>\n",
      "min -  1 <class 'numpy.int32'>\n",
      "\n",
      "max -  5 <class 'numpy.int32'>\n",
      "max -  5 <class 'numpy.int32'>\n",
      "\n",
      "mean -  3.0 <class 'numpy.float64'>\n",
      "mean -  3.0 <class 'numpy.float64'>\n",
      "\n",
      "median -  3.0 <class 'numpy.float64'>\n"
     ]
    }
   ],
   "source": [
    "ary = np.array([1,2,3,4,5])\n",
    "print('data - ' , ary , ary.shape , ary.ndim)\n",
    "print('sum - '  , np.sum(ary) , type(np.sum(ary)))\n",
    "print('sum - '  , ary.sum() , type(ary.sum()))\n",
    "print()\n",
    "print('sum - '  , np.min(ary) , type(np.min(ary)))\n",
    "print('min - '  , ary.min()   , type(ary.min()))\n",
    "print()\n",
    "print('max - '  , np.max(ary)   , type(np.max(ary)))\n",
    "print('max - '  , ary.max()     , type(ary.max()))\n",
    "print()\n",
    "print('mean - '  , np.mean(ary)   , type(np.mean(ary)))\n",
    "print('mean - '  , ary.mean()     , type(ary.mean()))\n",
    "print()\n",
    "print('median - '  , np.median(ary)   , type(np.median(ary)))\n",
    "# print('median - '  , ary.median()     , type(ary.median())) -- error!\n",
    "\n",
    "\n"
   ]
  },
  {
   "cell_type": "code",
   "execution_count": 164,
   "id": "3a31bb80",
   "metadata": {},
   "outputs": [
    {
     "name": "stdout",
     "output_type": "stream",
     "text": [
      "index -  0\n",
      "min_idx 0 1\n",
      "max index -  4 5\n",
      "\n",
      "all - \n",
      "False\n",
      "any - \n",
      "True\n"
     ]
    }
   ],
   "source": [
    "# 중요 함수\n",
    "# 최소 인덱싱 번호\n",
    "# 최대 인덱싱 번호\n",
    "\n",
    "ary = np.array([1,2,3,4,5])\n",
    "ary\n",
    "\n",
    "print('index - ' , np.argmin(ary))\n",
    "min_idx = np.argmin(ary)\n",
    "print('min_idx' , min_idx , ary[min_idx])\n",
    "# min_idx = 0 , ary[0]\n",
    "\n",
    "print('max index - ' , np.argmax(ary) , ary[np.argmax(ary)])\n",
    "\n",
    "print()\n",
    "print('all - ')\n",
    "print( np.all([True, False, True]))\n",
    "print('any - ')\n",
    "print( np.any([True, False, True]))"
   ]
  },
  {
   "cell_type": "markdown",
   "id": "d3dc3195",
   "metadata": {},
   "source": [
    "- 연산의 대상이 2차원 행렬(matrix) 이라면?\n",
    "- axis 방향 설정이 중요"
   ]
  },
  {
   "cell_type": "code",
   "execution_count": 167,
   "id": "a1f0de66",
   "metadata": {},
   "outputs": [
    {
     "name": "stdout",
     "output_type": "stream",
     "text": [
      "type      -  <class 'numpy.ndarray'>\n",
      "shape     -  (4, 5)\n",
      "dimension -  2\n",
      "dtype     -  int32\n",
      "\n",
      "data - \n",
      "[[ 1  2  3  4  5]\n",
      " [ 6  7  8  9 10]\n",
      " [11 12 13 14 15]\n",
      " [16 17 18 19 20]]\n"
     ]
    }
   ],
   "source": [
    "ary = np.arange(1, 21, 1).reshape(4, -1)\n",
    "aryinfo(ary)"
   ]
  },
  {
   "cell_type": "code",
   "execution_count": 176,
   "id": "ff9b2382",
   "metadata": {},
   "outputs": [
    {
     "name": "stdout",
     "output_type": "stream",
     "text": [
      "sum - \n",
      "sum -  210 <class 'numpy.int32'>\n",
      "row sum -  [15 40 65 90]\n",
      "col sum -  [34 38 42 46 50]\n"
     ]
    }
   ],
   "source": [
    "print('sum - ')\n",
    "print('sum - ' , np.sum(ary) , type(np.sum(ary)))\n",
    "print('row sum - ' , np.sum(ary , axis = 1))\n",
    "print('col sum - ' , np.sum(ary , axis = 0))"
   ]
  },
  {
   "cell_type": "markdown",
   "id": "0d9892f9",
   "metadata": {},
   "source": [
    "### print('min , argmin - index , max , argmax - index ,mean , median')"
   ]
  },
  {
   "cell_type": "code",
   "execution_count": 184,
   "id": "ff21b182",
   "metadata": {},
   "outputs": [
    {
     "name": "stdout",
     "output_type": "stream",
     "text": [
      "min - \n",
      "min -  1 <class 'numpy.int32'>\n",
      "argmin - \n",
      "argmin -  0 <class 'numpy.int64'>\n",
      "max - \n",
      "max -  20 <class 'numpy.int32'>\n"
     ]
    }
   ],
   "source": [
    "print('min - ')\n",
    "print('min - ' , np.min(ary) , type(np.min(ary)) )\n",
    "print('argmin - ')\n",
    "print('argmin - ' , np.argmin(ary) , type(np.argmin(ary)))\n",
    "print('max - ')\n",
    "print('max - ' ,     np.max(ary) , type(np.max(ary)))"
   ]
  },
  {
   "cell_type": "code",
   "execution_count": 187,
   "id": "164473a7",
   "metadata": {},
   "outputs": [
    {
     "data": {
      "text/plain": [
       "array([[98270958, 89813175, 63024948, 73182408, 25951688, 89481980],\n",
       "       [69533106, 31948545, 19492427, 43864457, 68222885, 38423008],\n",
       "       [34879294, 78921569, 82170318, 81542826, 16637202, 57385805],\n",
       "       [52310016, 17647809, 24703802, 59306735, 68454418, 58795850],\n",
       "       [43985298, 97125328, 74848714, 51924568, 92777255, 25838324]])"
      ]
     },
     "execution_count": 187,
     "metadata": {},
     "output_type": "execute_result"
    }
   ],
   "source": [
    "ary = np.random.randint(0,10000000 , (5,6))\n",
    "ary"
   ]
  },
  {
   "cell_type": "code",
   "execution_count": 212,
   "id": "7e410ab4",
   "metadata": {},
   "outputs": [
    {
     "name": "stdout",
     "output_type": "stream",
     "text": [
      "전체의 최댓값 -  98270958\n",
      "98270958\n",
      "행의 합       [439725157 271484428 351537014 281218630 386499487]\n",
      "행의 합 for -hstack-\n",
      "hstack [439725157 271484428 351537014 281218630 386499487]\n"
     ]
    }
   ],
   "source": [
    "print('전체의 최댓값 - ', ary.max())\n",
    "print(np.max(ary))\n",
    "\n",
    "print('행의 합      '   , np.sum(ary , axis =1))\n",
    "print('행의 합 for -hstack-')\n",
    "print('hstack' , np.hstack([ary[idx].sum() for idx in range(ary.shape[0])]))"
   ]
  },
  {
   "cell_type": "code",
   "execution_count": 192,
   "id": "53bab1b9",
   "metadata": {},
   "outputs": [
    {
     "data": {
      "text/plain": [
       "439725157"
      ]
     },
     "execution_count": 192,
     "metadata": {},
     "output_type": "execute_result"
    }
   ],
   "source": [
    "len(ary)\n",
    "ary[0].sum()"
   ]
  },
  {
   "cell_type": "code",
   "execution_count": 230,
   "id": "0cd63d20",
   "metadata": {},
   "outputs": [
    {
     "name": "stdout",
     "output_type": "stream",
     "text": [
      "각 행의 최댓값 [439725157 271484428 351537014 281218630 386499487]\n",
      "\n",
      "98270958\n",
      "69533106\n",
      "82170318\n",
      "68454418\n",
      "97125328\n",
      "\n",
      "각 열의 평균 [59795734.4 63091285.2 52848041.8 61964198.8 54408689.6 53984993.4]\n",
      "\n",
      "59795734.4\n",
      "63091285.2\n",
      "52848041.8\n",
      "61964198.8\n",
      "54408689.6\n",
      "\n",
      "각 열의 최솟값 [34879294 17647809 19492427 43864457 16637202 25838324]\n",
      "\n",
      "34879294\n",
      "17647809\n",
      "19492427\n",
      "43864457\n",
      "16637202\n"
     ]
    }
   ],
   "source": [
    "print('각 행의 최댓값' , np.hstack([ary[idx].sum() for idx in range(ary.shape[0])]))\n",
    "print()\n",
    "for i in range(len(ary)) :\n",
    "    print(np.max(ary[i , :]))\n",
    "    \n",
    "print()\n",
    "print('각 열의 평균' , np.hstack([ary[: , idx].mean() for idx in range(ary.shape[1])]))\n",
    "print()\n",
    "for i in range(len(ary)) :\n",
    "    print(np.mean(ary[: , i]))\n",
    "    \n",
    "print()\n",
    "print('각 열의 최솟값' , np.hstack([ary[: , idx].min() for idx in range(ary.shape[1])]))\n",
    "print()\n",
    "for i in range(len(ary)) :\n",
    "    print(np.min(ary[: , i]))\n"
   ]
  },
  {
   "cell_type": "markdown",
   "id": "0a2f4f1e",
   "metadata": {},
   "source": [
    "- 정렬 : sort\n",
    "- ary.sort() : 원본에 대한 변경(inplace = True)\n",
    "- np.sort(ary) : 원본에 대한 변경 X(inplace = False)\n",
    "- inplace - 실제로는 사용 거의 불가\n"
   ]
  },
  {
   "cell_type": "code",
   "execution_count": 248,
   "id": "65ff4735",
   "metadata": {},
   "outputs": [
    {
     "data": {
      "text/plain": [
       "array([0, 1, 2, 3, 4, 5, 6, 7, 8, 9])"
      ]
     },
     "execution_count": 248,
     "metadata": {},
     "output_type": "execute_result"
    }
   ],
   "source": [
    "ary = np.arange(10)\n",
    "ary"
   ]
  },
  {
   "cell_type": "code",
   "execution_count": 261,
   "id": "c8a88ff8",
   "metadata": {},
   "outputs": [
    {
     "data": {
      "text/plain": [
       "array([1, 4, 5, 9, 6, 3, 0, 8, 2, 7])"
      ]
     },
     "execution_count": 261,
     "metadata": {},
     "output_type": "execute_result"
    }
   ],
   "source": [
    "# 배열 순서 섞기\n",
    "np.random.shuffle(ary)\n",
    "ary"
   ]
  },
  {
   "cell_type": "code",
   "execution_count": 244,
   "id": "28fd48d8",
   "metadata": {},
   "outputs": [
    {
     "data": {
      "text/plain": [
       "array([0, 1, 2, 3, 4, 5, 6, 7, 8, 9])"
      ]
     },
     "execution_count": 244,
     "metadata": {},
     "output_type": "execute_result"
    }
   ],
   "source": [
    "np.sort(ary)"
   ]
  },
  {
   "cell_type": "code",
   "execution_count": 245,
   "id": "f7172319",
   "metadata": {},
   "outputs": [
    {
     "data": {
      "text/plain": [
       "array([6, 7, 0, 4, 9, 3, 5, 1, 8, 2])"
      ]
     },
     "execution_count": 245,
     "metadata": {},
     "output_type": "execute_result"
    }
   ],
   "source": [
    "ary"
   ]
  },
  {
   "cell_type": "code",
   "execution_count": 260,
   "id": "dc0bf847",
   "metadata": {},
   "outputs": [
    {
     "data": {
      "text/plain": [
       "array([0, 1, 2, 3, 4, 5, 6, 7, 8, 9])"
      ]
     },
     "execution_count": 260,
     "metadata": {},
     "output_type": "execute_result"
    }
   ],
   "source": [
    "ary.sort()\n",
    "ary"
   ]
  },
  {
   "cell_type": "code",
   "execution_count": 262,
   "id": "d2278de9",
   "metadata": {},
   "outputs": [
    {
     "data": {
      "text/plain": [
       "array([9, 8, 7, 6, 5, 4, 3, 2, 1, 0])"
      ]
     },
     "execution_count": 262,
     "metadata": {},
     "output_type": "execute_result"
    }
   ],
   "source": [
    "np.sort(ary)[::-1]"
   ]
  },
  {
   "cell_type": "code",
   "execution_count": 264,
   "id": "b1d248e0",
   "metadata": {},
   "outputs": [
    {
     "name": "stdout",
     "output_type": "stream",
     "text": [
      "행렬에 대한 정렬 - \n"
     ]
    },
    {
     "data": {
      "text/plain": [
       "array([[ 7, 13,  6,  1],\n",
       "       [ 5, 14,  2,  2],\n",
       "       [ 3,  2,  5, 15],\n",
       "       [ 8, 10,  4, 12]])"
      ]
     },
     "execution_count": 264,
     "metadata": {},
     "output_type": "execute_result"
    }
   ],
   "source": [
    "print('행렬에 대한 정렬 - ')\n",
    "ary = np.random.randint(0 , 17 , (4,4))\n",
    "ary"
   ]
  },
  {
   "cell_type": "code",
   "execution_count": 265,
   "id": "9d9f44de",
   "metadata": {},
   "outputs": [
    {
     "data": {
      "text/plain": [
       "array([[ 1,  6,  7, 13],\n",
       "       [ 2,  2,  5, 14],\n",
       "       [ 2,  3,  5, 15],\n",
       "       [ 4,  8, 10, 12]])"
      ]
     },
     "execution_count": 265,
     "metadata": {},
     "output_type": "execute_result"
    }
   ],
   "source": [
    "print('행 정렬')\n",
    "np.sort(ary , axis = 1)"
   ]
  },
  {
   "cell_type": "code",
   "execution_count": 267,
   "id": "48a523a2",
   "metadata": {},
   "outputs": [
    {
     "name": "stdout",
     "output_type": "stream",
     "text": [
      "열 정렬\n"
     ]
    },
    {
     "data": {
      "text/plain": [
       "array([[ 3,  2,  2,  1],\n",
       "       [ 5, 10,  4,  2],\n",
       "       [ 7, 13,  5, 12],\n",
       "       [ 8, 14,  6, 15]])"
      ]
     },
     "execution_count": 267,
     "metadata": {},
     "output_type": "execute_result"
    }
   ],
   "source": [
    "print('열 정렬')\n",
    "np.sort(ary , axis = 0)"
   ]
  },
  {
   "cell_type": "markdown",
   "id": "98623cd7",
   "metadata": {},
   "source": [
    "- 만약, 정렬된 인덱스를 필요로 한다면?\n",
    "- np.argsort()"
   ]
  },
  {
   "cell_type": "code",
   "execution_count": 273,
   "id": "ab924ef2",
   "metadata": {},
   "outputs": [
    {
     "data": {
      "text/plain": [
       "array([4, 3, 5, 7])"
      ]
     },
     "execution_count": 273,
     "metadata": {},
     "output_type": "execute_result"
    }
   ],
   "source": [
    "ary = np.array([4,3,5,7])\n",
    "ary"
   ]
  },
  {
   "cell_type": "code",
   "execution_count": 279,
   "id": "4a610361",
   "metadata": {},
   "outputs": [
    {
     "data": {
      "text/plain": [
       "array([1, 0, 2, 3], dtype=int64)"
      ]
     },
     "execution_count": 279,
     "metadata": {},
     "output_type": "execute_result"
    }
   ],
   "source": [
    "# sort 된 순으로 인덱싱이 되어있다.\n",
    "\n",
    "ary_idx = np.argsort(ary)\n",
    "ary_idx"
   ]
  },
  {
   "cell_type": "code",
   "execution_count": 280,
   "id": "38985f8b",
   "metadata": {},
   "outputs": [
    {
     "data": {
      "text/plain": [
       "array([3, 4, 5, 7])"
      ]
     },
     "execution_count": 280,
     "metadata": {},
     "output_type": "execute_result"
    }
   ],
   "source": [
    "ary[ary_idx]"
   ]
  },
  {
   "cell_type": "code",
   "execution_count": 282,
   "id": "93a0bd3a",
   "metadata": {},
   "outputs": [
    {
     "data": {
      "text/plain": [
       "array([7, 5, 4, 3])"
      ]
     },
     "execution_count": 282,
     "metadata": {},
     "output_type": "execute_result"
    }
   ],
   "source": [
    "ary[ary_idx][::-1]"
   ]
  },
  {
   "cell_type": "code",
   "execution_count": 285,
   "id": "2ddff570",
   "metadata": {},
   "outputs": [
    {
     "data": {
      "text/plain": [
       "array([[ 3,  4, 15,  6],\n",
       "       [ 2,  6,  8,  1],\n",
       "       [ 7,  1, 15, 14],\n",
       "       [ 3, 14, 16,  3]])"
      ]
     },
     "execution_count": 285,
     "metadata": {},
     "output_type": "execute_result"
    }
   ],
   "source": [
    "ary = np.random.randint(1, 17, (4,4))\n",
    "ary"
   ]
  },
  {
   "cell_type": "code",
   "execution_count": 290,
   "id": "22986821",
   "metadata": {},
   "outputs": [
    {
     "data": {
      "text/plain": [
       "array([[0, 1, 3, 2],\n",
       "       [3, 0, 1, 2],\n",
       "       [1, 0, 3, 2],\n",
       "       [0, 3, 1, 2]], dtype=int64)"
      ]
     },
     "execution_count": 290,
     "metadata": {},
     "output_type": "execute_result"
    }
   ],
   "source": [
    "ary.argsort(axis = -1)"
   ]
  },
  {
   "cell_type": "code",
   "execution_count": 295,
   "id": "d704d5c8",
   "metadata": {},
   "outputs": [
    {
     "data": {
      "text/plain": [
       "array([[1, 2, 1, 1],\n",
       "       [0, 0, 0, 3],\n",
       "       [3, 1, 2, 0],\n",
       "       [2, 3, 3, 2]], dtype=int64)"
      ]
     },
     "execution_count": 295,
     "metadata": {},
     "output_type": "execute_result"
    }
   ],
   "source": [
    "np.argsort(ary , axis = 0)"
   ]
  },
  {
   "cell_type": "markdown",
   "id": "9e13abc2",
   "metadata": {},
   "source": [
    "### 2차원 이상에서의 index 정렬은 특정 행/열을 추출해야만 가능하다"
   ]
  },
  {
   "cell_type": "markdown",
   "id": "80b01e74",
   "metadata": {},
   "source": [
    "- 연결 보다는 행 추가 , 컬럼 추가 하는 방법\n",
    "- np.concatenate()"
   ]
  },
  {
   "cell_type": "code",
   "execution_count": 297,
   "id": "2b7d4f8a",
   "metadata": {},
   "outputs": [
    {
     "data": {
      "text/plain": [
       "array([[1, 2, 3],\n",
       "       [4, 5, 6]])"
      ]
     },
     "execution_count": 297,
     "metadata": {},
     "output_type": "execute_result"
    }
   ],
   "source": [
    "ary = np.array([[1,2,3],[4,5,6]])\n",
    "ary"
   ]
  },
  {
   "cell_type": "code",
   "execution_count": 301,
   "id": "08be5080",
   "metadata": {},
   "outputs": [
    {
     "name": "stdout",
     "output_type": "stream",
     "text": [
      "행 추가 - \n",
      "[[1 2 3]\n",
      " [4 5 6]\n",
      " [7 8 9]]\n",
      "[[1 2 3]\n",
      " [4 5 6]\n",
      " [7 8 9]]\n"
     ]
    }
   ],
   "source": [
    "print('행 추가 - ')\n",
    "new_row = np.array([7,8,9])\n",
    "print(np.concatenate((ary , new_row[np.newaxis , :]) , axis = 0))\n",
    "print(np.concatenate((ary , new_row.reshape(1,3)) , axis = 0) )\n"
   ]
  },
  {
   "cell_type": "code",
   "execution_count": 303,
   "id": "5f6088d0",
   "metadata": {},
   "outputs": [
    {
     "name": "stdout",
     "output_type": "stream",
     "text": [
      "type      -  <class 'numpy.ndarray'>\n",
      "shape     -  (1, 3)\n",
      "dimension -  2\n",
      "dtype     -  int32\n",
      "\n",
      "data - \n",
      "[[7 8 9]]\n"
     ]
    }
   ],
   "source": [
    "new_row.reshape(1,3)\n",
    "aryinfo(new_row.reshape(1,3))"
   ]
  },
  {
   "cell_type": "code",
   "execution_count": 313,
   "id": "597db3ad",
   "metadata": {},
   "outputs": [
    {
     "name": "stdout",
     "output_type": "stream",
     "text": [
      "열 추가 - \n",
      "[[ 1  2  3  7  8]\n",
      " [ 4  5  6  9 10]]\n",
      "[[ 1  2  3  7  8]\n",
      " [ 4  5  6  9 10]]\n"
     ]
    }
   ],
   "source": [
    "print('열 추가 - ')\n",
    "new_col = np.array([7,8,9,10])\n",
    "print(np.concatenate((ary , new_col[: , np.newaxis].reshape(2,2)) , axis = 1))\n",
    "print(np.concatenate((ary , new_col.reshape(2,2)) , axis = 1) )\n"
   ]
  },
  {
   "cell_type": "code",
   "execution_count": 314,
   "id": "dc469ac0",
   "metadata": {},
   "outputs": [
    {
     "name": "stdout",
     "output_type": "stream",
     "text": [
      "문제 - 200개의 표준정규분표 샘플을 만들어서 내림차순으로 상위 5%까지의 결과를 출력한다.\n"
     ]
    }
   ],
   "source": [
    "print('문제 - 200개의 표준정규분표 샘플을 만들어서 내림차순으로 상위 5%까지의 결과를 출력한다.')\n"
   ]
  },
  {
   "cell_type": "code",
   "execution_count": 322,
   "id": "b499f590",
   "metadata": {},
   "outputs": [
    {
     "data": {
      "text/plain": [
       "array([592, 348, 175,  77, 447, 904,  16, 363, 860, 721, 651, 167, 740,\n",
       "       241, 992, 857, 303, 410,  26, 998, 157,  63, 309, 343,   5, 137,\n",
       "       790, 439, 641, 597,  92, 309, 741, 198, 893, 608, 671, 487, 687,\n",
       "       859,  34, 597,   6, 296, 283, 103,  86, 737, 259, 488, 769, 931,\n",
       "       127, 970, 198, 361, 575, 270, 143, 916, 584, 693, 506, 599, 492,\n",
       "       779, 652, 679, 745,  76, 264, 782,  48, 760, 436, 627, 171, 301,\n",
       "       344, 611, 739, 821, 574,  99, 983, 387, 260, 574, 857, 666,  61,\n",
       "       228, 347, 207, 493, 424, 529, 965,  20, 380, 439, 195, 635, 205,\n",
       "       875, 409, 311, 668, 924, 473, 403, 214, 868, 718, 169, 475, 160,\n",
       "       474, 777, 483, 210, 686, 300, 970, 100,  80,  27, 166, 836, 166,\n",
       "       199, 495, 395,  79, 924, 490, 802, 323, 876, 543, 372, 470, 354,\n",
       "       491, 986,  65, 211,  89, 557, 979, 113, 192, 941, 510, 397, 543,\n",
       "       163,  43, 239, 794, 726, 974, 659, 828, 293, 610, 439, 489, 915,\n",
       "       784, 651, 660, 618, 943, 442, 272, 629, 616, 639, 917, 142, 999,\n",
       "       762, 453, 801, 863, 394, 868, 244, 271, 151, 415, 446, 818, 683,\n",
       "       855, 219, 312, 367, 148])"
      ]
     },
     "execution_count": 322,
     "metadata": {},
     "output_type": "execute_result"
    }
   ],
   "source": [
    "pb = np.random.randint(1,1000 , 200)\n",
    "pb"
   ]
  },
  {
   "cell_type": "code",
   "execution_count": 323,
   "id": "98e8763b",
   "metadata": {},
   "outputs": [
    {
     "data": {
      "text/plain": [
       "array([999, 998, 992, 986, 983, 979, 974, 970, 970, 965, 943, 941, 931,\n",
       "       924, 924, 917, 916, 915, 904, 893, 876, 875, 868, 868, 863, 860,\n",
       "       859, 857, 857, 855, 836, 828, 821, 818, 802, 801, 794, 790, 784,\n",
       "       782, 779, 777, 769, 762, 760, 745, 741, 740, 739, 737, 726, 721,\n",
       "       718, 693, 687, 686, 683, 679, 671, 668, 666, 660, 659, 652, 651,\n",
       "       651, 641, 639, 635, 629, 627, 618, 616, 611, 610, 608, 599, 597,\n",
       "       597, 592, 584, 575, 574, 574, 557, 543, 543, 529, 510, 506, 495,\n",
       "       493, 492, 491, 490, 489, 488, 487, 483, 475, 474, 473, 470, 453,\n",
       "       447, 446, 442, 439, 439, 439, 436, 424, 415, 410, 409, 403, 397,\n",
       "       395, 394, 387, 380, 372, 367, 363, 361, 354, 348, 347, 344, 343,\n",
       "       323, 312, 311, 309, 309, 303, 301, 300, 296, 293, 283, 272, 271,\n",
       "       270, 264, 260, 259, 244, 241, 239, 228, 219, 214, 211, 210, 207,\n",
       "       205, 199, 198, 198, 195, 192, 175, 171, 169, 167, 166, 166, 163,\n",
       "       160, 157, 151, 148, 143, 142, 137, 127, 113, 103, 100,  99,  92,\n",
       "        89,  86,  80,  79,  77,  76,  65,  63,  61,  48,  43,  34,  27,\n",
       "        26,  20,  16,   6,   5])"
      ]
     },
     "execution_count": 323,
     "metadata": {},
     "output_type": "execute_result"
    }
   ],
   "source": [
    "pb_resort = np.sort(pb)[::-1]\n",
    "pb_resort"
   ]
  },
  {
   "cell_type": "code",
   "execution_count": 326,
   "id": "ed29b3a5",
   "metadata": {},
   "outputs": [
    {
     "data": {
      "text/plain": [
       "array([999, 998, 992, 986, 983, 979, 974, 970, 970, 965])"
      ]
     },
     "execution_count": 326,
     "metadata": {},
     "output_type": "execute_result"
    }
   ],
   "source": [
    "pb_resort[ : int(0.05*len(pb_resort))]"
   ]
  },
  {
   "cell_type": "code",
   "execution_count": 328,
   "id": "0eba2dda",
   "metadata": {},
   "outputs": [
    {
     "data": {
      "text/plain": [
       "array([ 8.18735612e-01, -8.77696328e-02, -5.79561324e-01,  5.96693404e-01,\n",
       "        5.97892804e-01,  3.95487918e-01, -9.55863268e-01,  8.65715648e-01,\n",
       "       -5.10493388e-01, -7.94135754e-01, -3.91041584e-01,  7.87837951e-01,\n",
       "       -5.88402268e-01, -2.85681124e-01, -8.64101168e-01, -1.08235825e+00,\n",
       "        1.10889274e+00, -1.18634836e-01, -9.04810512e-01, -1.10344946e-02,\n",
       "        9.39942862e-01,  9.09366653e-01,  7.59476060e-01,  2.33801804e-01,\n",
       "        2.78774627e-01,  3.31881071e-01,  5.29161990e-01,  4.62696984e-01,\n",
       "       -1.28936833e+00,  1.76908054e-01,  4.43053705e-01, -1.86094753e+00,\n",
       "        4.76887558e-01, -8.59530451e-01,  6.38707036e-02,  2.72206804e-01,\n",
       "       -7.32771834e-01,  9.80617634e-01, -1.93070783e+00,  4.25886948e-01,\n",
       "       -1.51645901e+00,  4.78905450e-01,  1.49854028e+00,  5.67511587e-01,\n",
       "        1.22899448e+00, -6.92436716e-01, -3.19171566e-01, -1.26242419e+00,\n",
       "        1.45822559e+00,  4.15905340e-01,  3.22133314e-01,  1.46773173e-01,\n",
       "       -2.71434180e-01, -1.86807389e-01, -1.18378083e-01, -5.39150937e-01,\n",
       "       -7.12019724e-01,  1.13749099e+00,  5.41833790e-02,  5.11281132e-01,\n",
       "        3.90253465e-01, -2.12540258e+00,  4.54331631e-01,  3.72212981e-01,\n",
       "        1.14020717e+00,  9.80797571e-02, -2.44574385e-01,  3.72608867e-01,\n",
       "        8.91761774e-01, -7.11803106e-01,  1.96586350e-03, -1.00746239e+00,\n",
       "       -1.50405447e+00, -6.58256423e-01,  3.24703396e+00,  1.74570379e+00,\n",
       "        2.66441585e+00, -6.43816884e-01, -3.72262944e-01,  1.04293808e+00,\n",
       "       -3.84951492e-01, -9.92130052e-01, -5.55801240e-02, -6.85727313e-01,\n",
       "       -1.79779832e+00, -6.70353703e-01, -1.38586185e+00,  1.34845527e+00,\n",
       "       -1.11827109e+00, -1.38511223e+00,  3.98500860e-01,  1.14321821e+00,\n",
       "        1.15667484e+00,  6.21841920e-01, -1.57712935e+00,  1.72994158e+00,\n",
       "       -2.35958143e+00,  3.77884413e-01, -2.29958455e-01, -2.29633723e+00,\n",
       "        6.62037690e-01, -5.06794858e-01, -3.11660485e-01, -1.50217209e+00,\n",
       "       -3.01030246e-01, -3.48911372e-01, -1.36205017e-01,  7.67095462e-02,\n",
       "        3.47779840e-01,  4.68007492e-01,  7.41067983e-01, -2.41140095e-02,\n",
       "        4.07700077e-01,  1.72439789e-01,  5.55015113e-02,  3.64106229e-01,\n",
       "        1.92955513e-02,  3.30516179e-01, -1.96377945e-01,  1.79851478e+00,\n",
       "       -9.18769137e-01,  4.69299451e-01,  2.76616088e-01, -5.46202171e-01,\n",
       "        6.38129161e-01, -7.53643634e-01, -7.89707785e-01,  5.92806971e-01,\n",
       "       -5.65310761e-01, -5.11822060e-01,  2.97608560e-01, -1.12181442e+00,\n",
       "        1.45327641e+00, -6.26525425e-01,  2.37100064e+00,  3.53860707e-01,\n",
       "        7.10412677e-01,  2.67768684e+00,  2.69933120e+00, -3.15725978e+00,\n",
       "        1.47079378e+00,  1.34419392e+00, -6.43837407e-01,  1.53990536e+00,\n",
       "        8.96143664e-01, -3.43383085e-01,  5.44094497e-01, -3.30452295e-01,\n",
       "        1.20872449e+00,  5.75791641e-01,  9.91217869e-01,  1.64706115e+00,\n",
       "       -6.00546028e-01,  5.80243309e-01,  6.56876284e-02, -5.17241749e-01,\n",
       "        1.51822058e+00,  1.97744349e-02, -1.54337617e+00, -1.57187696e-01,\n",
       "       -7.52267931e-01, -9.14578002e-01, -2.00016633e-01,  1.18524969e-01,\n",
       "       -4.57361377e-01,  1.39431556e-01, -9.30474693e-01,  4.29421770e-01,\n",
       "        7.91818975e-01,  1.86967940e+00,  1.11396984e+00,  8.70603072e-01,\n",
       "       -1.52863832e+00, -1.08991030e+00,  1.26528869e+00, -1.14796714e+00,\n",
       "        3.14082356e-01, -1.10967198e+00, -3.83236176e-01,  9.08169527e-02,\n",
       "        1.42634540e-01, -5.96534673e-01, -1.75705912e-01, -2.01956227e+00,\n",
       "       -1.35264138e-02, -2.58498728e-02,  1.13975894e-01, -9.99346275e-01,\n",
       "        3.04211236e-01,  7.46675787e-01, -1.78720485e-01,  2.89735625e-02,\n",
       "        6.79454146e-01,  8.10950644e-01,  3.23305618e-01,  5.85745062e-01,\n",
       "       -1.49105828e+00, -1.22214190e+00, -2.32882285e+00,  1.34246693e+00])"
      ]
     },
     "execution_count": 328,
     "metadata": {},
     "output_type": "execute_result"
    }
   ],
   "source": [
    "ary = np.random.randn(200)\n",
    "ary"
   ]
  },
  {
   "cell_type": "markdown",
   "id": "cc34d8f7",
   "metadata": {},
   "source": [
    "- space"
   ]
  },
  {
   "cell_type": "code",
   "execution_count": 331,
   "id": "d074d972",
   "metadata": {},
   "outputs": [
    {
     "name": "stdout",
     "output_type": "stream",
     "text": [
      "type      -  <class 'numpy.ndarray'>\n",
      "shape     -  (3, 4)\n",
      "dimension -  2\n",
      "dtype     -  int32\n",
      "\n",
      "data - \n",
      "[[  1   2   3   4]\n",
      " [100  89  90  79]\n",
      " [ 60  70  80  99]]\n",
      "\n",
      "\n"
     ]
    }
   ],
   "source": [
    "ary = np.array([[1,2,3,4],[100,89,90,79],[60,70,80,99]])\n",
    "aryinfo(ary)\n",
    "print()\n",
    "print()\n",
    "print('두번째 행을 국어점수로 가정할 때, 국어 점수를 기준으로 열을 정렬한다면?')"
   ]
  },
  {
   "cell_type": "code",
   "execution_count": 339,
   "id": "61fecfbd",
   "metadata": {},
   "outputs": [
    {
     "data": {
      "text/plain": [
       "array([[  4,   2,   3,   1],\n",
       "       [ 79,  89,  90, 100],\n",
       "       [ 99,  70,  80,  60]])"
      ]
     },
     "execution_count": 339,
     "metadata": {},
     "output_type": "execute_result"
    }
   ],
   "source": [
    "ary[: , ary[1 , :].argsort()]"
   ]
  },
  {
   "cell_type": "code",
   "execution_count": 341,
   "id": "14493ae1",
   "metadata": {},
   "outputs": [
    {
     "name": "stdout",
     "output_type": "stream",
     "text": [
      "case02\n",
      "[0 2 1 3]\n"
     ]
    }
   ],
   "source": [
    "print('case02')\n",
    "answer = np.argsort(ary)[1][::-1]\n",
    "print(answer)"
   ]
  },
  {
   "cell_type": "code",
   "execution_count": null,
   "id": "69a2bd67",
   "metadata": {},
   "outputs": [],
   "source": []
  },
  {
   "cell_type": "code",
   "execution_count": null,
   "id": "e3ee4e97",
   "metadata": {},
   "outputs": [],
   "source": []
  },
  {
   "cell_type": "code",
   "execution_count": null,
   "id": "7ce3ac4d",
   "metadata": {},
   "outputs": [],
   "source": []
  }
 ],
 "metadata": {
  "kernelspec": {
   "display_name": "Python 3 (ipykernel)",
   "language": "python",
   "name": "python3"
  },
  "language_info": {
   "codemirror_mode": {
    "name": "ipython",
    "version": 3
   },
   "file_extension": ".py",
   "mimetype": "text/x-python",
   "name": "python",
   "nbconvert_exporter": "python",
   "pygments_lexer": "ipython3",
   "version": "3.9.12"
  }
 },
 "nbformat": 4,
 "nbformat_minor": 5
}
