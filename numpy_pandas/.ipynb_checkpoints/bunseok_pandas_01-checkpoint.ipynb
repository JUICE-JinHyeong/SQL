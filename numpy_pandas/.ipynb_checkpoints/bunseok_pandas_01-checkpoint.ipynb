{
 "cells": [
  {
   "cell_type": "markdown",
   "id": "2988eabc",
   "metadata": {},
   "source": [
    "#### 학습목표\n",
    "- 분석하려는 데이터는 대부분 .csv 파일을 테이블 형식으로 처리할 수 있는 타입\n",
    "- 제공되는 2 type : Series , DataFrame\n",
    "- Series : index + value\n"
   ]
  },
  {
   "cell_type": "code",
   "execution_count": 4,
   "id": "d19b8061",
   "metadata": {},
   "outputs": [
    {
     "name": "stdout",
     "output_type": "stream",
     "text": [
      "numpy version -  1.21.5\n",
      "pandas version -  1.4.4\n"
     ]
    }
   ],
   "source": [
    "import numpy as np\n",
    "import pandas as pd\n",
    "import matplotlib.pyplot as plt\n",
    "import json\n",
    "\n",
    "print('numpy version - ' , np.__version__)\n",
    "print('pandas version - ' , pd.__version__)"
   ]
  },
  {
   "cell_type": "code",
   "execution_count": 6,
   "id": "4169d2eb",
   "metadata": {},
   "outputs": [],
   "source": [
    "def seriesinfo(s) :\n",
    "    print('index - ' , s.index , type(s.index))\n",
    "    print('value - ' , s.values , type(s.values))\n",
    "    print()\n",
    "    print('data - ')\n",
    "    print(s)\n",
    "    "
   ]
  },
  {
   "cell_type": "code",
   "execution_count": 10,
   "id": "dd751bfe",
   "metadata": {},
   "outputs": [
    {
     "name": "stdout",
     "output_type": "stream",
     "text": [
      "index -  RangeIndex(start=0, stop=5, step=1) <class 'pandas.core.indexes.range.RangeIndex'>\n",
      "value -  [1. 2. 3. 4. 5.] <class 'numpy.ndarray'>\n",
      "\n",
      "data - \n",
      "0    1.0\n",
      "1    2.0\n",
      "2    3.0\n",
      "3    4.0\n",
      "4    5.0\n",
      "dtype: float64\n"
     ]
    }
   ],
   "source": [
    "s = pd.Series([1,2,3,4,5] , dtype = float)\n",
    "seriesinfo(s)"
   ]
  },
  {
   "cell_type": "code",
   "execution_count": 11,
   "id": "ba833b8b",
   "metadata": {},
   "outputs": [
    {
     "name": "stdout",
     "output_type": "stream",
     "text": [
      "index -  Index(['a', 'b', 'c', 'd', 'e'], dtype='object') <class 'pandas.core.indexes.base.Index'>\n",
      "value -  [1. 2. 3. 4. 5.] <class 'numpy.ndarray'>\n",
      "\n",
      "data - \n",
      "a    1.0\n",
      "b    2.0\n",
      "c    3.0\n",
      "d    4.0\n",
      "e    5.0\n",
      "dtype: float64\n"
     ]
    }
   ],
   "source": [
    "s = pd.Series({'a' : 1,'b' : 2, 'c' : 3, 'd' : 4, 'e' : 5} , dtype = float)\n",
    "seriesinfo(s)"
   ]
  },
  {
   "cell_type": "markdown",
   "id": "d3fa426d",
   "metadata": {},
   "source": [
    "- 인덱스의 라벨은 정수 , 문자 , 날짜 , 시간"
   ]
  },
  {
   "cell_type": "code",
   "execution_count": 15,
   "id": "7b1517ab",
   "metadata": {},
   "outputs": [
    {
     "name": "stdout",
     "output_type": "stream",
     "text": [
      "index -  Index(['강남', '서초', '방배', '동작', '신도림'], dtype='object') <class 'pandas.core.indexes.base.Index'>\n",
      "value -  [1 2 3 4 5] <class 'numpy.ndarray'>\n",
      "\n",
      "data - \n",
      "강남     1\n",
      "서초     2\n",
      "방배     3\n",
      "동작     4\n",
      "신도림    5\n",
      "dtype: int64\n"
     ]
    }
   ],
   "source": [
    "s = pd.Series([1,2,3,4,5] , index = ['강남' , '서초' , '방배' , '동작' , '신도림']) \n",
    "seriesinfo(s)"
   ]
  },
  {
   "cell_type": "markdown",
   "id": "5563e30e",
   "metadata": {},
   "source": [
    "- name :시리즈 데이터에 이름을 부여해주는 역할\n",
    "- index.name : 시리즈 인덱스에 이름을 부여해주는 역할\n"
   ]
  },
  {
   "cell_type": "code",
   "execution_count": 19,
   "id": "a8871e38",
   "metadata": {},
   "outputs": [
    {
     "name": "stdout",
     "output_type": "stream",
     "text": [
      "index -  Index(['강남', '서초', '방배', '동작', '신도림'], dtype='object', name='구 구별') <class 'pandas.core.indexes.base.Index'>\n",
      "value -  [1 2 3 4 5] <class 'numpy.ndarray'>\n",
      "\n",
      "data - \n",
      "구 구별\n",
      "강남     1\n",
      "서초     2\n",
      "방배     3\n",
      "동작     4\n",
      "신도림    5\n",
      "Name: 데이터의 이름 부여, dtype: int64\n"
     ]
    }
   ],
   "source": [
    "s.name = '데이터의 이름 부여'\n",
    "s.index.name = '구 구별'\n",
    "seriesinfo(s)"
   ]
  },
  {
   "cell_type": "code",
   "execution_count": 22,
   "id": "17b2d734",
   "metadata": {},
   "outputs": [
    {
     "name": "stdout",
     "output_type": "stream",
     "text": [
      "index -  Index(['이름', '날짜', '성별', '결혼'], dtype='object') <class 'pandas.core.indexes.base.Index'>\n",
      "value -  ['섭섭해' '2022-11-10' '남자' True] <class 'numpy.ndarray'>\n",
      "\n",
      "data - \n",
      "이름           섭섭해\n",
      "날짜    2022-11-10\n",
      "성별            남자\n",
      "결혼          True\n",
      "dtype: object\n"
     ]
    }
   ],
   "source": [
    "tmp_data = ('섭섭해' , '2022-11-10' , '남자' , True)\n",
    "s = pd.Series(tmp_data , dtype = object , index = ['이름' , '날짜' , '성별' , '결혼'])\n",
    "\n",
    "seriesinfo(s)"
   ]
  },
  {
   "cell_type": "markdown",
   "id": "01e1dd3d",
   "metadata": {},
   "source": [
    "- series 에서 원소를 선택하기 위해선?\n",
    "- 정수형 위치 인덱스 또는 인덱스 이름을 활용해야 한다\n",
    "- 여러 원소를 선택하려면 리스트를 활용하면 된다.\n"
   ]
  },
  {
   "cell_type": "code",
   "execution_count": 32,
   "id": "4e4095e0",
   "metadata": {},
   "outputs": [
    {
     "name": "stdout",
     "output_type": "stream",
     "text": [
      "정수 인덱싱 -  섭섭해 <class 'str'>\n",
      "인덱스 이름 -  섭섭해 <class 'str'>\n",
      "\n",
      "이름           섭섭해\n",
      "날짜    2022-11-10\n",
      "dtype: object\n",
      "이름           섭섭해\n",
      "날짜    2022-11-10\n",
      "dtype: object\n",
      "\n",
      "범위지정 - slicing\n",
      "이름           섭섭해\n",
      "날짜    2022-11-10\n",
      "성별            남자\n",
      "dtype: object\n",
      "이름           섭섭해\n",
      "날짜    2022-11-10\n",
      "성별            남자\n",
      "dtype: object\n"
     ]
    }
   ],
   "source": [
    "print('정수 인덱싱 - ' , s[0] , type(s[0]))\n",
    "print('인덱스 이름 - ' , s['이름'] , type(s['이름']))\n",
    "print()\n",
    "print(s[[0,1]])\n",
    "print(s[['이름' , '날짜']])\n",
    "print()\n",
    "print('범위지정 - slicing')\n",
    "print(s['이름' : '성별'])\n",
    "print(s[0:3])"
   ]
  },
  {
   "cell_type": "code",
   "execution_count": 37,
   "id": "21828353",
   "metadata": {},
   "outputs": [
    {
     "name": "stdout",
     "output_type": "stream",
     "text": [
      "idx : 이름 , value : 섭섭해\n",
      "idx : 날짜 , value : 2022-11-10\n",
      "idx : 성별 , value : 남자\n",
      "idx : 결혼 , value : True\n",
      "\n",
      "idx : 이름\n",
      "idx : 날짜\n",
      "idx : 성별\n",
      "idx : 결혼\n",
      "\n",
      "value : 섭섭해\n",
      "value : 2022-11-10\n",
      "value : 남자\n",
      "value : True\n"
     ]
    }
   ],
   "source": [
    "for idx , value in s.items() :\n",
    "    print('idx : {} , value : {}'.format(idx,value))\n",
    "print()\n",
    "for idx in s.keys() :\n",
    "    print('idx : {}'.format(idx))\n",
    "print()\n",
    "for value in s.values :\n",
    "    print('value : {}'.format(value))"
   ]
  },
  {
   "cell_type": "code",
   "execution_count": 39,
   "id": "7ab7ae0d",
   "metadata": {},
   "outputs": [
    {
     "data": {
      "text/plain": [
       "Index(['이름', '날짜', '성별', '결혼'], dtype='object')"
      ]
     },
     "execution_count": 39,
     "metadata": {},
     "output_type": "execute_result"
    }
   ],
   "source": [
    "s.index"
   ]
  },
  {
   "cell_type": "code",
   "execution_count": 41,
   "id": "7edbeebf",
   "metadata": {},
   "outputs": [
    {
     "data": {
      "text/plain": [
       "array(['섭섭해', '2022-11-10', '남자', True], dtype=object)"
      ]
     },
     "execution_count": 41,
     "metadata": {},
     "output_type": "execute_result"
    }
   ],
   "source": [
    "s.values"
   ]
  },
  {
   "cell_type": "code",
   "execution_count": 42,
   "id": "806f8b22",
   "metadata": {},
   "outputs": [
    {
     "name": "stdout",
     "output_type": "stream",
     "text": [
      "index -  RangeIndex(start=0, stop=11, step=1) <class 'pandas.core.indexes.range.RangeIndex'>\n",
      "value -  [10 11 12 13 14 15 16 17 18 19 20] <class 'numpy.ndarray'>\n",
      "\n",
      "data - \n",
      "0     10\n",
      "1     11\n",
      "2     12\n",
      "3     13\n",
      "4     14\n",
      "5     15\n",
      "6     16\n",
      "7     17\n",
      "8     18\n",
      "9     19\n",
      "10    20\n",
      "dtype: int64\n"
     ]
    }
   ],
   "source": [
    "s = pd.Series(range(10,21))\n",
    "seriesinfo(s)"
   ]
  },
  {
   "cell_type": "code",
   "execution_count": 46,
   "id": "aaaff6af",
   "metadata": {},
   "outputs": [
    {
     "name": "stdout",
     "output_type": "stream",
     "text": [
      "시리즈의 데이터는 배열이므로 벡터화 연산이 가능하다 - \n"
     ]
    },
    {
     "data": {
      "text/plain": [
       "0     200\n",
       "1     220\n",
       "2     240\n",
       "3     260\n",
       "4     280\n",
       "5     300\n",
       "6     320\n",
       "7     340\n",
       "8     360\n",
       "9     380\n",
       "10    400\n",
       "dtype: int64"
      ]
     },
     "execution_count": 46,
     "metadata": {},
     "output_type": "execute_result"
    }
   ],
   "source": [
    "print('시리즈의 데이터는 배열이므로 벡터화 연산이 가능하다 - ')\n",
    "s * 20"
   ]
  },
  {
   "cell_type": "code",
   "execution_count": 50,
   "id": "65d9e29e",
   "metadata": {},
   "outputs": [
    {
     "name": "stdout",
     "output_type": "stream",
     "text": [
      "2의 배수인 것만 추출\n",
      "boolean indexing : s%2 == 0\n"
     ]
    },
    {
     "data": {
      "text/plain": [
       "0     10\n",
       "2     12\n",
       "4     14\n",
       "6     16\n",
       "8     18\n",
       "10    20\n",
       "dtype: int64"
      ]
     },
     "execution_count": 50,
     "metadata": {},
     "output_type": "execute_result"
    }
   ],
   "source": [
    "print('2의 배수인 것만 추출')\n",
    "print('boolean indexing : s%2 == 0')\n",
    "s[s%2 == 0]"
   ]
  },
  {
   "cell_type": "code",
   "execution_count": 52,
   "id": "ebc83fcb",
   "metadata": {},
   "outputs": [],
   "source": [
    "from datetime import date, datetime , timedelta\n",
    "from dateutil.parser import parse"
   ]
  },
  {
   "cell_type": "code",
   "execution_count": 82,
   "id": "1b7ff515",
   "metadata": {},
   "outputs": [
    {
     "name": "stdout",
     "output_type": "stream",
     "text": [
      "2022-11-11 00:00:00\n"
     ]
    }
   ],
   "source": [
    "day = datetime(2022 , 11 , 10)\n",
    "print(day + timedelta(days=1))"
   ]
  },
  {
   "cell_type": "markdown",
   "id": "cb079370",
   "metadata": {},
   "source": [
    "- 평균이 50이고 편차 5 정규분포 데이터를 10일간 만들고 싶다면 ?\n",
    "- 중요"
   ]
  },
  {
   "cell_type": "code",
   "execution_count": 76,
   "id": "598cb488",
   "metadata": {},
   "outputs": [
    {
     "data": {
      "text/plain": [
       "array([46.57477405, 59.4368751 , 47.67698661, 47.91236568, 41.50774408,\n",
       "       50.08764566, 50.71283465, 48.78815311, 48.79192872, 49.81481273])"
      ]
     },
     "execution_count": 76,
     "metadata": {},
     "output_type": "execute_result"
    }
   ],
   "source": [
    "np.random.normal(50 , 5 , (10 ,))"
   ]
  },
  {
   "cell_type": "code",
   "execution_count": 77,
   "id": "195335ce",
   "metadata": {},
   "outputs": [
    {
     "data": {
      "text/plain": [
       "array([[46.34495879],\n",
       "       [47.03932974],\n",
       "       [53.35922493],\n",
       "       [50.08834691],\n",
       "       [47.84602155],\n",
       "       [50.4639965 ],\n",
       "       [49.49136102],\n",
       "       [51.53274354],\n",
       "       [52.85910903],\n",
       "       [45.29457627]])"
      ]
     },
     "execution_count": 77,
     "metadata": {},
     "output_type": "execute_result"
    }
   ],
   "source": [
    "np.random.normal(50 , 5 , (10 , 1))"
   ]
  },
  {
   "cell_type": "markdown",
   "id": "7b80fd2e",
   "metadata": {},
   "source": [
    "- 날짜 순으로 위의 값이 들어간 series 만들기"
   ]
  },
  {
   "cell_type": "markdown",
   "id": "a53ff2cb",
   "metadata": {},
   "source": [
    "- 평균이 50이고 편차가 5인 정규분포 데이터를 10일간 만들고 싶다면?\n",
    "- 평균이 70이고 편차가 8인 정규분포 데이터를 10일간 만들고 싶다면?"
   ]
  },
  {
   "cell_type": "code",
   "execution_count": 86,
   "id": "ea427fdc",
   "metadata": {},
   "outputs": [
    {
     "data": {
      "text/plain": [
       "2022-11-10    41.528639\n",
       "2022-11-11    45.842026\n",
       "2022-11-12    53.039328\n",
       "2022-11-13    48.809060\n",
       "2022-11-14    45.521821\n",
       "2022-11-15    50.313178\n",
       "2022-11-16    51.982133\n",
       "2022-11-17    56.601471\n",
       "2022-11-18    56.801893\n",
       "2022-11-19    51.684858\n",
       "dtype: float64"
      ]
     },
     "execution_count": 86,
     "metadata": {},
     "output_type": "execute_result"
    }
   ],
   "source": [
    "pd.Series(np.random.normal(50 , 5 , (10 ,)) , index = [day+timedelta(days=i) for i in range(10)])"
   ]
  },
  {
   "cell_type": "code",
   "execution_count": 87,
   "id": "ed226307",
   "metadata": {},
   "outputs": [
    {
     "data": {
      "text/plain": [
       "2022-11-10    61.467209\n",
       "2022-11-11    77.991140\n",
       "2022-11-12    63.904730\n",
       "2022-11-13    77.644890\n",
       "2022-11-14    58.695180\n",
       "2022-11-15    61.116349\n",
       "2022-11-16    73.955033\n",
       "2022-11-17    71.009513\n",
       "2022-11-18    64.891277\n",
       "2022-11-19    73.778578\n",
       "dtype: float64"
      ]
     },
     "execution_count": 87,
     "metadata": {},
     "output_type": "execute_result"
    }
   ],
   "source": [
    "pd.Series(np.random.normal(70 , 8 , (10 ,)) , index = [day+timedelta(days=i) for i in range(10)])"
   ]
  },
  {
   "cell_type": "markdown",
   "id": "141c5ab5",
   "metadata": {},
   "source": [
    "- 데이터 갱신"
   ]
  },
  {
   "cell_type": "code",
   "execution_count": 93,
   "id": "16e96818",
   "metadata": {},
   "outputs": [
    {
     "name": "stdout",
     "output_type": "stream",
     "text": [
      "index -  Index(['a', 'b', 'c', 'd'], dtype='object') <class 'pandas.core.indexes.base.Index'>\n",
      "value -  [4000 3000 3500 2000] <class 'numpy.ndarray'>\n",
      "\n",
      "data - \n",
      "a    4000\n",
      "b    3000\n",
      "c    3500\n",
      "d    2000\n",
      "dtype: int64\n"
     ]
    }
   ],
   "source": [
    "price_series = pd.Series([4000 , 3000 , 3500 , 2000] ,\n",
    "                        index = ['a' , 'b' , 'c' , 'd'])\n",
    "seriesinfo(price_series)"
   ]
  },
  {
   "cell_type": "code",
   "execution_count": 97,
   "id": "306a5033",
   "metadata": {},
   "outputs": [
    {
     "name": "stdout",
     "output_type": "stream",
     "text": [
      "\n"
     ]
    },
    {
     "data": {
      "text/plain": [
       "a    6000\n",
       "b    3000\n",
       "c    3500\n",
       "d    2000\n",
       "dtype: int64"
      ]
     },
     "execution_count": 97,
     "metadata": {},
     "output_type": "execute_result"
    }
   ],
   "source": [
    "# 데이터 변경\n",
    "price_series[0] = 5000\n",
    "price_series\n",
    "print()\n",
    "price_series['a'] = 6000\n",
    "price_series"
   ]
  },
  {
   "cell_type": "markdown",
   "id": "4654f02c",
   "metadata": {},
   "source": [
    "- 데이터 삭제\n",
    "- del"
   ]
  },
  {
   "cell_type": "code",
   "execution_count": 104,
   "id": "d232b2a7",
   "metadata": {},
   "outputs": [
    {
     "data": {
      "text/plain": [
       "a    6000\n",
       "b    3000\n",
       "c    3500\n",
       "d    2000\n",
       "dtype: int64"
      ]
     },
     "execution_count": 104,
     "metadata": {},
     "output_type": "execute_result"
    }
   ],
   "source": [
    "# 데이터 추가\n",
    "price_series['e'] = 9000\n",
    "price_series\n",
    "\n",
    "# 데이터 삭제\n",
    "del price_series['e']\n",
    "price_series"
   ]
  },
  {
   "cell_type": "code",
   "execution_count": 107,
   "id": "dd44cab2",
   "metadata": {},
   "outputs": [
    {
     "name": "stdout",
     "output_type": "stream",
     "text": [
      "index -  Index(['a', 'b', 'c', 'd', 'e'], dtype='object') <class 'pandas.core.indexes.base.Index'>\n",
      "value -  [6000. 3000. 3500. 2000.   nan] <class 'numpy.ndarray'>\n",
      "\n",
      "data - \n",
      "a    6000.0\n",
      "b    3000.0\n",
      "c    3500.0\n",
      "d    2000.0\n",
      "e       NaN\n",
      "dtype: float64\n"
     ]
    }
   ],
   "source": [
    "# 결측값\n",
    "price_series['e'] = np.NaN\n",
    "seriesinfo(price_series)"
   ]
  },
  {
   "cell_type": "code",
   "execution_count": 110,
   "id": "254f2681",
   "metadata": {},
   "outputs": [
    {
     "name": "stdout",
     "output_type": "stream",
     "text": [
      "isnull - \n",
      "\n",
      "a    False\n",
      "b    False\n",
      "c    False\n",
      "d    False\n",
      "e     True\n",
      "dtype: bool\n",
      "\n",
      "e   NaN\n",
      "dtype: float64\n",
      "\n",
      "e   NaN\n",
      "dtype: float64\n",
      "\n",
      "notnull - \n",
      "a    6000.0\n",
      "b    3000.0\n",
      "c    3500.0\n",
      "d    2000.0\n",
      "dtype: float64\n"
     ]
    }
   ],
   "source": [
    "# 결측값 여부 확인\n",
    "print('isnull - ')\n",
    "print()\n",
    "print(pd.isnull(price_series))\n",
    "print()\n",
    "print(price_series[pd.isnull(price_series)]) \n",
    "print()\n",
    "print(price_series[ price_series.isnull()])\n",
    "print()\n",
    "\n",
    "# 결측값이 아닌 것 찾기\n",
    "print('notnull - ')\n",
    "print(price_series[price_series.notnull()])"
   ]
  },
  {
   "cell_type": "code",
   "execution_count": 111,
   "id": "35c42d0b",
   "metadata": {},
   "outputs": [
    {
     "data": {
      "text/plain": [
       "a    400\n",
       "o    250\n",
       "k    350\n",
       "m    500\n",
       "dtype: int64"
      ]
     },
     "execution_count": 111,
     "metadata": {},
     "output_type": "execute_result"
    }
   ],
   "source": [
    "series01 = pd.Series([400, 250 , 350, 500] , index = ['a' , 'o' , 'k' , 'm'])\n",
    "series01"
   ]
  },
  {
   "cell_type": "code",
   "execution_count": 112,
   "id": "c49731a4",
   "metadata": {},
   "outputs": [
    {
     "data": {
      "text/plain": [
       "o    401\n",
       "a    251\n",
       "h    351\n",
       "m    501\n",
       "dtype: int64"
      ]
     },
     "execution_count": 112,
     "metadata": {},
     "output_type": "execute_result"
    }
   ],
   "source": [
    "series02 = pd.Series([401, 251 , 351, 501] , index = ['o' , 'a' , 'h' , 'm'])\n",
    "series02"
   ]
  },
  {
   "cell_type": "code",
   "execution_count": 124,
   "id": "db6cfbca",
   "metadata": {},
   "outputs": [
    {
     "name": "stdout",
     "output_type": "stream",
     "text": [
      "a     651.0\n",
      "h       NaN\n",
      "k       NaN\n",
      "m    1001.0\n",
      "o     651.0\n",
      "dtype: float64\n",
      "\n",
      "a     651.0\n",
      "h       NaN\n",
      "k       NaN\n",
      "m    1001.0\n",
      "o     651.0\n",
      "dtype: float64\n",
      "\n",
      "len() -  5\n"
     ]
    }
   ],
   "source": [
    "# series 합치기\n",
    "\n",
    "series03 = series01 + series02\n",
    "print(series03)\n",
    "print()\n",
    "\n",
    "series03 = series01.add(series02)\n",
    "print(series03)\n",
    "print()\n",
    "\n",
    "# NaN 값 채우기\n",
    "\n",
    "series03 = series01.add(series02 , fill_value = 0)\n",
    "print(series03)\n",
    "print()\n",
    "\n",
    "# 요소의 개수 세기\n",
    "print('len() - ' , len(series03))"
   ]
  },
  {
   "cell_type": "code",
   "execution_count": 141,
   "id": "7444cf50",
   "metadata": {},
   "outputs": [
    {
     "name": "stdout",
     "output_type": "stream",
     "text": [
      "a     651.0\n",
      "h       NaN\n",
      "k       NaN\n",
      "m    1001.0\n",
      "o     651.0\n",
      "dtype: float64\n",
      "\n",
      "mean -  767.6666666666666\n",
      "mean -  767.6666666666666\n",
      "\n",
      "mean -  460.6\n",
      "filna() -  a     651.0\n",
      "h       0.0\n",
      "k       0.0\n",
      "m    1001.0\n",
      "o     651.0\n",
      "dtype: float64\n",
      "\n",
      "series05\n",
      "mean -  460.6\n",
      "mean -  460.6\n"
     ]
    }
   ],
   "source": [
    "series04 = series01.add(series02)\n",
    "print(series04)\n",
    "print()\n",
    "\n",
    "# 평균 구하기\n",
    "# 결측값을 제외한 3개 값의 평균\n",
    "print('mean - ' , np.mean(series03))\n",
    "print('mean - ' , series03.mean())\n",
    "print()\n",
    "\n",
    "# 전체 평균\n",
    "# 결측값 개수 포함 \n",
    "print('mean - ' , series04.sum() / len(series04))\n",
    "\n",
    "# fillna(data)  결측값을 'data'로 대체합니다.\n",
    "# 값을 다시 담아야지만 저장이 된다.\n",
    "print('filna() - ' , series04.fillna(0))\n",
    "series05 = series04.fillna(0)\n",
    "series05\n",
    "print()\n",
    "\n",
    "# series05(결측값에 0을 집어넣은 상태)\n",
    "# 평균 구하기\n",
    "print('series05')\n",
    "print('mean - ' , series05.mean())\n",
    "print('mean - ' , np.mean(series05))"
   ]
  },
  {
   "cell_type": "code",
   "execution_count": 160,
   "id": "d2feccd0",
   "metadata": {},
   "outputs": [
    {
     "name": "stdout",
     "output_type": "stream",
     "text": [
      "a     651.0\n",
      "h       NaN\n",
      "k       NaN\n",
      "m    1001.0\n",
      "o     651.0\n",
      "dtype: float64\n",
      "\n",
      "결측값을 제외한 subset( 추출한 데이터 )\n",
      "\n",
      "a     651.0\n",
      "m    1001.0\n",
      "o     651.0\n",
      "dtype: float64\n"
     ]
    }
   ],
   "source": [
    "# 결측값 제외하고 출력하기\n",
    "\n",
    "print(series03)\n",
    "print()\n",
    "print('결측값을 제외한 subset( 추출한 데이터 )')\n",
    "\n",
    "series05 = series03[pd.notnull(series03)]\n",
    "\n",
    "print()\n",
    "print(series05)"
   ]
  },
  {
   "cell_type": "code",
   "execution_count": null,
   "id": "61c23c2d",
   "metadata": {},
   "outputs": [],
   "source": []
  },
  {
   "cell_type": "code",
   "execution_count": null,
   "id": "c5a83427",
   "metadata": {},
   "outputs": [],
   "source": []
  },
  {
   "cell_type": "code",
   "execution_count": null,
   "id": "068a3032",
   "metadata": {},
   "outputs": [],
   "source": []
  },
  {
   "cell_type": "code",
   "execution_count": null,
   "id": "35aec91e",
   "metadata": {},
   "outputs": [],
   "source": []
  },
  {
   "cell_type": "code",
   "execution_count": null,
   "id": "9239ac5d",
   "metadata": {},
   "outputs": [],
   "source": []
  },
  {
   "cell_type": "code",
   "execution_count": null,
   "id": "9063cf41",
   "metadata": {},
   "outputs": [],
   "source": []
  },
  {
   "cell_type": "code",
   "execution_count": null,
   "id": "e568d894",
   "metadata": {},
   "outputs": [],
   "source": []
  }
 ],
 "metadata": {
  "kernelspec": {
   "display_name": "Python 3 (ipykernel)",
   "language": "python",
   "name": "python3"
  },
  "language_info": {
   "codemirror_mode": {
    "name": "ipython",
    "version": 3
   },
   "file_extension": ".py",
   "mimetype": "text/x-python",
   "name": "python",
   "nbconvert_exporter": "python",
   "pygments_lexer": "ipython3",
   "version": "3.9.13"
  }
 },
 "nbformat": 4,
 "nbformat_minor": 5
}
