{
 "cells": [
  {
   "cell_type": "code",
   "execution_count": 4,
   "id": "af90a2a7",
   "metadata": {},
   "outputs": [],
   "source": [
    "import numpy as np\n",
    "import pandas as pd\n",
    "\n",
    "# 배열의 정보를 확인하기 위한 함수 정의\n",
    "\n",
    "def aryinfo(ary) :\n",
    "    print('type      - ' , type(ary))\n",
    "    print('shape     - ' , ary.shape)\n",
    "    print('dimension - ' , ary.ndim)\n",
    "    print('dtype     - ' , ary.dtype)\n",
    "    print()\n",
    "    print('data - ')\n",
    "    print(ary)"
   ]
  },
  {
   "cell_type": "markdown",
   "id": "abca3966",
   "metadata": {},
   "source": [
    "- 배열 연결(concatenate)\n",
    "- hstack(), vstack(), dstack(), r_, c_, tile"
   ]
  },
  {
   "cell_type": "code",
   "execution_count": 16,
   "id": "9b6c512b",
   "metadata": {},
   "outputs": [
    {
     "name": "stdout",
     "output_type": "stream",
     "text": [
      "hstack - 행의 수가 같은 두 개 이상의 배열을 연결\n",
      "\n",
      "[[1. 1. 1. 1.]\n",
      " [1. 1. 1. 1.]\n",
      " [1. 1. 1. 1.]]\n",
      "\n",
      "[[0. 0. 0. 0. 0.]\n",
      " [0. 0. 0. 0. 0.]\n",
      " [0. 0. 0. 0. 0.]]\n",
      "\n",
      "[[1. 1. 1. 1. 0. 0. 0. 0. 0.]\n",
      " [1. 1. 1. 1. 0. 0. 0. 0. 0.]\n",
      " [1. 1. 1. 1. 0. 0. 0. 0. 0.]]\n"
     ]
    }
   ],
   "source": [
    "print('hstack - 행의 수가 같은 두 개 이상의 배열을 연결')\n",
    "print()\n",
    "\n",
    "ary01 = np.ones((3,4))\n",
    "print(ary01)\n",
    "\n",
    "print()\n",
    "\n",
    "ary02 = np.zeros((3,5))\n",
    "print(ary02)\n",
    "\n",
    "print()\n",
    "\n",
    "# 행의 수가 같을 경우 결합 가능\n",
    "print(np.hstack([ary01, ary02]))\n"
   ]
  },
  {
   "cell_type": "code",
   "execution_count": 20,
   "id": "fdafa322",
   "metadata": {},
   "outputs": [
    {
     "name": "stdout",
     "output_type": "stream",
     "text": [
      "vstack - 열의 수가 같은 두 개 이상의 배열을 연결\n",
      "\n",
      "[[1. 1. 1. 1.]\n",
      " [1. 1. 1. 1.]\n",
      " [1. 1. 1. 1.]]\n",
      "\n",
      "[[0. 0. 0. 0.]\n",
      " [0. 0. 0. 0.]\n",
      " [0. 0. 0. 0.]]\n",
      "\n",
      "[[1. 1. 1. 1.]\n",
      " [1. 1. 1. 1.]\n",
      " [1. 1. 1. 1.]\n",
      " [0. 0. 0. 0.]\n",
      " [0. 0. 0. 0.]\n",
      " [0. 0. 0. 0.]]\n"
     ]
    }
   ],
   "source": [
    "print('vstack - 열의 수가 같은 두 개 이상의 배열을 연결')\n",
    "print()\n",
    "\n",
    "ary01 = np.ones((3,4))\n",
    "print(ary01)\n",
    "\n",
    "print()\n",
    "\n",
    "ary02 = np.zeros((3,4))\n",
    "print(ary02)\n",
    "\n",
    "print()\n",
    "\n",
    "print(np.vstack([ary01, ary02]))"
   ]
  },
  {
   "cell_type": "code",
   "execution_count": 23,
   "id": "398f3258",
   "metadata": {},
   "outputs": [
    {
     "name": "stdout",
     "output_type": "stream",
     "text": [
      "dstack - 행과 열이 아닌 깊이 방향으로 배열을 배열을 연결\n",
      "\n",
      "[[1. 1. 1. 1.]\n",
      " [1. 1. 1. 1.]\n",
      " [1. 1. 1. 1.]]\n",
      "\n",
      "[[0. 0. 0. 0.]\n",
      " [0. 0. 0. 0.]\n",
      " [0. 0. 0. 0.]]\n",
      "\n",
      "[[[1. 0.]\n",
      "  [1. 0.]\n",
      "  [1. 0.]\n",
      "  [1. 0.]]\n",
      "\n",
      " [[1. 0.]\n",
      "  [1. 0.]\n",
      "  [1. 0.]\n",
      "  [1. 0.]]\n",
      "\n",
      " [[1. 0.]\n",
      "  [1. 0.]\n",
      "  [1. 0.]\n",
      "  [1. 0.]]]\n",
      "type      -  <class 'numpy.ndarray'>\n",
      "shape     -  (3, 4, 2)\n",
      "dimension -  3\n",
      "dtype     -  float64\n",
      "\n",
      "data - \n",
      "[[[1. 0.]\n",
      "  [1. 0.]\n",
      "  [1. 0.]\n",
      "  [1. 0.]]\n",
      "\n",
      " [[1. 0.]\n",
      "  [1. 0.]\n",
      "  [1. 0.]\n",
      "  [1. 0.]]\n",
      "\n",
      " [[1. 0.]\n",
      "  [1. 0.]\n",
      "  [1. 0.]\n",
      "  [1. 0.]]]\n"
     ]
    }
   ],
   "source": [
    "print('dstack - 행과 열이 아닌 깊이 방향으로 배열을 배열을 연결')\n",
    "print('차원이 추가되는 것이기 때문에 행과 열이 같아야한다.')\n",
    "print('행 개수 : 차원 수, 열 마다 짝지음')\n",
    "print()\n",
    "\n",
    "ary01 = np.ones((3,4))\n",
    "print(ary01)\n",
    "\n",
    "print()\n",
    "\n",
    "ary02 = np.zeros((3,4))\n",
    "print(ary02)\n",
    "\n",
    "print()\n",
    "\n",
    "print(np.dstack([ary01, ary02]))\n",
    "aryinfo(np.dstack([ary01, ary02]))"
   ]
  },
  {
   "cell_type": "code",
   "execution_count": 28,
   "id": "47f4bd03",
   "metadata": {},
   "outputs": [
    {
     "name": "stdout",
     "output_type": "stream",
     "text": [
      "stack - 사용자가 지정한 차원(축 : x, y) 배열을 연결\n",
      "축 방향 : axis = 0 default\n",
      "\n",
      "[[1. 1. 1. 1.]\n",
      " [1. 1. 1. 1.]\n",
      " [1. 1. 1. 1.]]\n",
      "\n",
      "[[0. 0. 0. 0.]\n",
      " [0. 0. 0. 0.]\n",
      " [0. 0. 0. 0.]]\n",
      "--------------------\n",
      "type      -  <class 'numpy.ndarray'>\n",
      "shape     -  (2, 3, 4)\n",
      "dimension -  3\n",
      "dtype     -  float64\n",
      "\n",
      "data - \n",
      "[[[1. 1. 1. 1.]\n",
      "  [1. 1. 1. 1.]\n",
      "  [1. 1. 1. 1.]]\n",
      "\n",
      " [[0. 0. 0. 0.]\n",
      "  [0. 0. 0. 0.]\n",
      "  [0. 0. 0. 0.]]]\n",
      "\n",
      "type      -  <class 'numpy.ndarray'>\n",
      "shape     -  (3, 2, 4)\n",
      "dimension -  3\n",
      "dtype     -  float64\n",
      "\n",
      "data - \n",
      "[[[1. 1. 1. 1.]\n",
      "  [0. 0. 0. 0.]]\n",
      "\n",
      " [[1. 1. 1. 1.]\n",
      "  [0. 0. 0. 0.]]\n",
      "\n",
      " [[1. 1. 1. 1.]\n",
      "  [0. 0. 0. 0.]]]\n"
     ]
    }
   ],
   "source": [
    "print('stack - 사용자가 지정한 차원(축 : x, y) 배열을 연결')\n",
    "print('축 방향 : axis = 0 default')\n",
    "print()\n",
    "\n",
    "ary01 = np.ones((3,4))\n",
    "print(ary01)\n",
    "\n",
    "print()\n",
    "\n",
    "ary02 = np.zeros((3,4))\n",
    "print(ary02)\n",
    "\n",
    "print('--------------------')\n",
    "\n",
    "aryinfo(np.stack([ary01, ary02] , axis = 0))\n",
    "print()\n",
    "aryinfo(np.stack([ary01, ary02] , axis = 1))"
   ]
  },
  {
   "cell_type": "code",
   "execution_count": 30,
   "id": "f1b5ac21",
   "metadata": {},
   "outputs": [
    {
     "name": "stdout",
     "output_type": "stream",
     "text": [
      "r_[] - 인덱서 == hstack 열이 증가하는 배열 연결\n",
      "[1 2 3 4 5 6]\n",
      "\n",
      "[[1 4]\n",
      " [2 5]\n",
      " [3 6]]\n"
     ]
    }
   ],
   "source": [
    "print('r_[] - 인덱서 == hstack 열이 증가하는 배열 연결')\n",
    "print('c_[] - 인덱서 == 배열의 차원 증가 후 배열 연결')\n",
    "\n",
    "print(np.r_[np.array([1,2,3]) , np.array([4,5,6])])\n",
    "print()\n",
    "print(np.c_[np.array([1,2,3]) , np.array([4,5,6])])"
   ]
  },
  {
   "cell_type": "code",
   "execution_count": 34,
   "id": "a93f2464",
   "metadata": {},
   "outputs": [
    {
     "name": "stdout",
     "output_type": "stream",
     "text": [
      "tile - 동일한 배열을 반복하여 연결\n",
      "type      -  <class 'numpy.ndarray'>\n",
      "shape     -  (2, 3)\n",
      "dimension -  2\n",
      "dtype     -  int32\n",
      "\n",
      "data - \n",
      "[[1 2 3]\n",
      " [4 5 6]]\n",
      "\n",
      "[[1 2 3 1 2 3 1 2 3]\n",
      " [4 5 6 4 5 6 4 5 6]\n",
      " [1 2 3 1 2 3 1 2 3]\n",
      " [4 5 6 4 5 6 4 5 6]\n",
      " [1 2 3 1 2 3 1 2 3]\n",
      " [4 5 6 4 5 6 4 5 6]]\n"
     ]
    }
   ],
   "source": [
    "print('tile - 동일한 배열을 반복하여 연결')\n",
    "ary = np.array([[1,2,3] , [4,5,6]])\n",
    "aryinfo(ary)\n",
    "print()\n",
    "\n",
    "# ary 배열을 타일형식으로 3행3열로 반복\n",
    "print( np.tile(ary , (3,3)))"
   ]
  },
  {
   "cell_type": "code",
   "execution_count": null,
   "id": "12670da6",
   "metadata": {},
   "outputs": [],
   "source": [
    "# 위 결과가 나올 수 있도록 함수를 이용하여 작성해 보세요~~~\n",
    "# array([[   0.,    0.,    0.,    1.,    1.],\n",
    "#        [   0.,    0.,    0.,    1.,    1.],\n",
    "#        [   0.,    0.,    0.,    1.,    1.],\n",
    "#        [  10.,   20.,   30.,   40.,   50.],\n",
    "#        [  60.,   70.,   80.,   90.,  100.],\n",
    "#        [ 110.,  120.,  130.,  140.,  150.],\n",
    "#        [   0.,    0.,    0.,    1.,    1.],\n",
    "#        [   0.,    0.,    0.,    1.,    1.],\n",
    "#        [   0.,    0.,    0.,    1.,    1.],\n",
    "#        [  10.,   20.,   30.,   40.,   50.],\n",
    "#        [  60.,   70.,   80.,   90.,  100.],\n",
    "#        [ 110.,  120.,  130.,  140.,  150.]])\n"
   ]
  },
  {
   "cell_type": "code",
   "execution_count": 91,
   "id": "b682151f",
   "metadata": {},
   "outputs": [
    {
     "name": "stdout",
     "output_type": "stream",
     "text": [
      "[[0. 0. 0.]\n",
      " [0. 0. 0.]\n",
      " [0. 0. 0.]]\n",
      "\n",
      "[[1. 1.]\n",
      " [1. 1.]\n",
      " [1. 1.]]\n",
      "\n",
      "[[ 10  20  30  40  50]\n",
      " [ 60  70  80  90 100]\n",
      " [110 120 130 140 150]]\n",
      "\n",
      "[[0. 0. 0. 1. 1.]\n",
      " [0. 0. 0. 1. 1.]\n",
      " [0. 0. 0. 1. 1.]]\n",
      "type      -  <class 'numpy.ndarray'>\n",
      "shape     -  (3, 5)\n",
      "dimension -  2\n",
      "dtype     -  float64\n",
      "\n",
      "data - \n",
      "[[0. 0. 0. 1. 1.]\n",
      " [0. 0. 0. 1. 1.]\n",
      " [0. 0. 0. 1. 1.]]\n",
      "\n",
      "\n",
      "\n",
      "[[  0.   0.   0.   1.   1.]\n",
      " [  0.   0.   0.   1.   1.]\n",
      " [  0.   0.   0.   1.   1.]\n",
      " [ 10.  20.  30.  40.  50.]\n",
      " [ 60.  70.  80.  90. 100.]\n",
      " [110. 120. 130. 140. 150.]]\n",
      "\n",
      "\n",
      "\n",
      "[[  0.   0.   0.   1.   1.]\n",
      " [  0.   0.   0.   1.   1.]\n",
      " [  0.   0.   0.   1.   1.]\n",
      " [ 10.  20.  30.  40.  50.]\n",
      " [ 60.  70.  80.  90. 100.]\n",
      " [110. 120. 130. 140. 150.]\n",
      " [  0.   0.   0.   1.   1.]\n",
      " [  0.   0.   0.   1.   1.]\n",
      " [  0.   0.   0.   1.   1.]\n",
      " [ 10.  20.  30.  40.  50.]\n",
      " [ 60.  70.  80.  90. 100.]\n",
      " [110. 120. 130. 140. 150.]]\n",
      "\n"
     ]
    }
   ],
   "source": [
    "ary_01 = np.zeros((3,3))\n",
    "print(ary_01)\n",
    "print()\n",
    "\n",
    "ary_02 = np.ones((3,2))\n",
    "print(ary_02)\n",
    "print()\n",
    "\n",
    "ary_03 = np.arange(10,160,10).reshape(3,5)\n",
    "print(ary_03)\n",
    "print()\n",
    "\n",
    "\n",
    "\n",
    "# 1\n",
    "step_01 = np.hstack([ary_01 , ary_02])\n",
    "print(step_01)\n",
    "aryinfo(step_01)\n",
    "\n",
    "print()\n",
    "print()\n",
    "print()\n",
    "\n",
    "# 2 \n",
    "step_02 = np.vstack([step_01 , ary_03 ])\n",
    "print(step_02)\n",
    "print()\n",
    "print()\n",
    "print()\n",
    "\n",
    "# 3\n",
    "step_03 = np.tile(step_02 , (2,1))\n",
    "print(step_03)\n",
    "print()"
   ]
  },
  {
   "cell_type": "code",
   "execution_count": 54,
   "id": "cad0d8ee",
   "metadata": {},
   "outputs": [
    {
     "data": {
      "text/plain": [
       "array([10, 20, 30, 40, 50])"
      ]
     },
     "execution_count": 54,
     "metadata": {},
     "output_type": "execute_result"
    }
   ],
   "source": [
    "np.arange(10,51,10)"
   ]
  },
  {
   "cell_type": "markdown",
   "id": "bb77a4d6",
   "metadata": {},
   "source": [
    "#### delete()\n",
    "- axis 기준행과 열을 삭제 할 수 있다. : axis = 0(행) , 1(열)\n",
    "- axis 지정하지 않으면 1차원 변환 후 삭제\n",
    "- 원본 배열을 변경하지 않고 새로운 배열 return"
   ]
  },
  {
   "cell_type": "code",
   "execution_count": 95,
   "id": "c4b9e62a",
   "metadata": {},
   "outputs": [
    {
     "name": "stdout",
     "output_type": "stream",
     "text": [
      "type      -  <class 'numpy.ndarray'>\n",
      "shape     -  (3, 4)\n",
      "dimension -  2\n",
      "dtype     -  int32\n",
      "\n",
      "data - \n",
      "[[5 6 6 5]\n",
      " [8 5 6 8]\n",
      " [3 1 3 7]]\n"
     ]
    }
   ],
   "source": [
    "ary = np.random.randint(0 , 10 , (3,4))\n",
    "aryinfo(ary)"
   ]
  },
  {
   "cell_type": "code",
   "execution_count": 106,
   "id": "44825d77",
   "metadata": {},
   "outputs": [
    {
     "name": "stdout",
     "output_type": "stream",
     "text": [
      "type      -  <class 'numpy.ndarray'>\n",
      "shape     -  (3, 3)\n",
      "dimension -  2\n",
      "dtype     -  int32\n",
      "\n",
      "data - \n",
      "[[5 6 5]\n",
      " [8 6 8]\n",
      " [3 3 7]]\n"
     ]
    }
   ],
   "source": [
    "ary_new = np.delete(ary , 1 , axis = 1)\n",
    "aryinfo(ary_new)"
   ]
  },
  {
   "cell_type": "markdown",
   "id": "adc502ff",
   "metadata": {},
   "source": [
    "- loadtxt() : 파일 입출력 가능"
   ]
  },
  {
   "cell_type": "code",
   "execution_count": 119,
   "id": "d189dd1b",
   "metadata": {},
   "outputs": [
    {
     "name": "stdout",
     "output_type": "stream",
     "text": [
      "type      -  <class 'numpy.ndarray'>\n",
      "shape     -  (31,)\n",
      "dimension -  1\n",
      "dtype     -  object\n",
      "\n",
      "data - \n",
      "['중부서,2,2,3,2,105,65,\"1,395\",477,\"1,355\",\"1,170\"'\n",
      " '종로서,3,3,6,5,115,98,\"1,070\",413,\"1,278\",\"1,070\"'\n",
      " '남대문서,1,0,6,4,65,46,\"1,153\",382,869,794'\n",
      " '서대문서,2,2,5,4,154,124,\"1,812\",738,\"2,056\",\"1,711\"'\n",
      " '혜화서,3,2,5,4,96,63,\"1,114\",424,\"1,015\",861'\n",
      " '용산서,5,5,14,14,194,173,\"1,557\",587,\"2,050\",\"1,704\"'\n",
      " '성북서,2,2,2,1,86,71,953,409,\"1,194\",\"1,015\"'\n",
      " '동대문서,5,5,13,13,173,146,\"1,981\",814,\"2,548\",\"2,227\"'\n",
      " '마포서,8,8,14,10,294,247,\"2,555\",813,\"2,983\",\"2,519\"'\n",
      " '영등포서,14,12,22,20,295,183,\"2,964\",978,\"3,572\",\"2,961\"'\n",
      " '성동서,4,4,9,8,126,119,\"1,607\",597,\"1,612\",\"1,395\"'\n",
      " '동작서,5,5,9,5,285,139,\"1,865\",661,\"1,910\",\"1,587\"'\n",
      " '광진서,4,4,14,26,240,220,\"3,026\",\"1,277\",\"2,625\",\"2,180\"'\n",
      " '서부서,2,2,2,1,70,59,819,293,\"1,192\",\"1,038\"'\n",
      " '강북서,7,8,14,13,153,126,\"1,434\",618,\"2,649\",\"2,348\"'\n",
      " '금천서,3,4,6,6,151,122,\"1,567\",888,\"2,054\",\"1,776\"'\n",
      " '중랑서,13,12,11,9,187,148,\"2,135\",829,\"2,847\",\"2,407\"'\n",
      " '강남서,3,3,15,12,300,225,\"2,411\",984,\"2,465\",\"2,146\"'\n",
      " '관악서,9,8,12,14,320,221,\"2,706\",827,\"3,298\",\"2,642\"'\n",
      " '강서서,7,8,13,13,262,191,\"2,096\",\"1,260\",\"3,207\",\"2,718\"'\n",
      " '강동서,4,3,6,8,156,123,\"2,366\",789,\"2,712\",\"2,248\"'\n",
      " '종암서,3,3,3,3,64,53,832,332,\"1,015\",840'\n",
      " '구로서,8,6,15,11,281,164,\"2,335\",889,\"3,007\",\"2,432\"'\n",
      " '서초서,7,4,8,5,334,193,\"1,982\",905,\"1,852\",\"1,607\"'\n",
      " '양천서,3,5,6,3,120,105,\"1,890\",672,\"2,509\",\"2,030\"'\n",
      " '송파서,11,10,13,10,220,178,\"3,239\",\"1,129\",\"3,295\",\"2,786\"'\n",
      " '노원서,10,10,7,7,197,121,\"2,193\",801,\"2,723\",\"2,329\"'\n",
      " '방배서,1,2,1,1,59,56,653,186,547,491'\n",
      " '은평서,1,1,7,5,96,82,\"1,095\",418,\"1,461\",\"1,268\"'\n",
      " '도봉서,3,3,9,10,102,106,\"1,063\",478,\"1,487\",\"1,303\"'\n",
      " '수서서,10,7,6,6,149,124,\"1,439\",666,\"1,819\",\"1,559\"']\n",
      "\n",
      "\n",
      "중부서,2,2,3,2,105,65,\"1,395\",477,\"1,355\",\"1,170\"\n",
      "\n",
      "--------------------------------------------------\n",
      "type      -  <class 'numpy.ndarray'>\n",
      "shape     -  (31, 1)\n",
      "dimension -  2\n",
      "dtype     -  object\n",
      "\n",
      "data - \n",
      "[['중부서,2,2,3,2,105,65,\"1,395\",477,\"1,355\",\"1,170\"']\n",
      " ['종로서,3,3,6,5,115,98,\"1,070\",413,\"1,278\",\"1,070\"']\n",
      " ['남대문서,1,0,6,4,65,46,\"1,153\",382,869,794']\n",
      " ['서대문서,2,2,5,4,154,124,\"1,812\",738,\"2,056\",\"1,711\"']\n",
      " ['혜화서,3,2,5,4,96,63,\"1,114\",424,\"1,015\",861']\n",
      " ['용산서,5,5,14,14,194,173,\"1,557\",587,\"2,050\",\"1,704\"']\n",
      " ['성북서,2,2,2,1,86,71,953,409,\"1,194\",\"1,015\"']\n",
      " ['동대문서,5,5,13,13,173,146,\"1,981\",814,\"2,548\",\"2,227\"']\n",
      " ['마포서,8,8,14,10,294,247,\"2,555\",813,\"2,983\",\"2,519\"']\n",
      " ['영등포서,14,12,22,20,295,183,\"2,964\",978,\"3,572\",\"2,961\"']\n",
      " ['성동서,4,4,9,8,126,119,\"1,607\",597,\"1,612\",\"1,395\"']\n",
      " ['동작서,5,5,9,5,285,139,\"1,865\",661,\"1,910\",\"1,587\"']\n",
      " ['광진서,4,4,14,26,240,220,\"3,026\",\"1,277\",\"2,625\",\"2,180\"']\n",
      " ['서부서,2,2,2,1,70,59,819,293,\"1,192\",\"1,038\"']\n",
      " ['강북서,7,8,14,13,153,126,\"1,434\",618,\"2,649\",\"2,348\"']\n",
      " ['금천서,3,4,6,6,151,122,\"1,567\",888,\"2,054\",\"1,776\"']\n",
      " ['중랑서,13,12,11,9,187,148,\"2,135\",829,\"2,847\",\"2,407\"']\n",
      " ['강남서,3,3,15,12,300,225,\"2,411\",984,\"2,465\",\"2,146\"']\n",
      " ['관악서,9,8,12,14,320,221,\"2,706\",827,\"3,298\",\"2,642\"']\n",
      " ['강서서,7,8,13,13,262,191,\"2,096\",\"1,260\",\"3,207\",\"2,718\"']\n",
      " ['강동서,4,3,6,8,156,123,\"2,366\",789,\"2,712\",\"2,248\"']\n",
      " ['종암서,3,3,3,3,64,53,832,332,\"1,015\",840']\n",
      " ['구로서,8,6,15,11,281,164,\"2,335\",889,\"3,007\",\"2,432\"']\n",
      " ['서초서,7,4,8,5,334,193,\"1,982\",905,\"1,852\",\"1,607\"']\n",
      " ['양천서,3,5,6,3,120,105,\"1,890\",672,\"2,509\",\"2,030\"']\n",
      " ['송파서,11,10,13,10,220,178,\"3,239\",\"1,129\",\"3,295\",\"2,786\"']\n",
      " ['노원서,10,10,7,7,197,121,\"2,193\",801,\"2,723\",\"2,329\"']\n",
      " ['방배서,1,2,1,1,59,56,653,186,547,491']\n",
      " ['은평서,1,1,7,5,96,82,\"1,095\",418,\"1,461\",\"1,268\"']\n",
      " ['도봉서,3,3,9,10,102,106,\"1,063\",478,\"1,487\",\"1,303\"']\n",
      " ['수서서,10,7,6,6,149,124,\"1,439\",666,\"1,819\",\"1,559\"']]\n",
      "this -  ['중부서,2,2,3,2,105,65,\"1,395\",477,\"1,355\",\"1,170\"']\n"
     ]
    },
    {
     "name": "stderr",
     "output_type": "stream",
     "text": [
      "C:\\Users\\a\\AppData\\Local\\Temp\\ipykernel_9052\\3603863930.py:1: DeprecationWarning: `np.object` is a deprecated alias for the builtin `object`. To silence this warning, use `object` by itself. Doing this will not modify any behavior and is safe. \n",
      "Deprecated in NumPy 1.20; for more details and guidance: https://numpy.org/devdocs/release/1.20.0-notes.html#deprecations\n",
      "  raw_data = np.loadtxt('C:/Users/a/data/02. crime_in_Seoul.csv' , dtype=np.object , skiprows=1)\n"
     ]
    }
   ],
   "source": [
    "raw_data = np.loadtxt('C:/Users/a/data/02. crime_in_Seoul.csv' , dtype=np.object , skiprows=1)\n",
    "aryinfo(raw_data)\n",
    "print()\n",
    "print()\n",
    "print(raw_data[0])\n",
    "print()\n",
    "print('-'*50)\n",
    "ary = raw_data[ : , np.newaxis]\n",
    "aryinfo(ary)\n",
    "print('this - ' , ary[0])"
   ]
  },
  {
   "cell_type": "markdown",
   "id": "17de7044",
   "metadata": {},
   "source": [
    "#### 배열의 연산\n",
    "- vectorized operator(벡터화 연산)\n",
    "- borad casting : 벡터와 행렬의 연사을 위해서는 크기가 같아야한다.\n",
    "- 그렇다면 서로다른 크기를 가진 두 배열의 연산은 가능할까?"
   ]
  },
  {
   "cell_type": "code",
   "execution_count": 129,
   "id": "e410985e",
   "metadata": {},
   "outputs": [
    {
     "data": {
      "text/plain": [
       "array([10002, 10004, 10006, ..., 29996, 29998, 30000])"
      ]
     },
     "execution_count": 129,
     "metadata": {},
     "output_type": "execute_result"
    }
   ],
   "source": [
    "ary01 = np.arange(1 , 10001)\n",
    "ary02 = np.arange(10001 , 20001)\n",
    "\n",
    "ary01 + ary02"
   ]
  },
  {
   "cell_type": "code",
   "execution_count": 132,
   "id": "5a6135e8",
   "metadata": {},
   "outputs": [
    {
     "name": "stdout",
     "output_type": "stream",
     "text": [
      "answer\n",
      "[10002 10004 10006 ... 29996 29998 30000]\n"
     ]
    }
   ],
   "source": [
    "# 비어있는 배열 생성\n",
    "\n",
    "\n",
    "result = np.zeros_like(ary01)\n",
    "for idx in range(len(ary01)) :\n",
    "    result[idx] = ary01[idx] + ary02[idx]\n",
    "\n",
    "print('answer')\n",
    "print(result)\n",
    "\n",
    "\n"
   ]
  },
  {
   "cell_type": "code",
   "execution_count": 136,
   "id": "d48fe7f2",
   "metadata": {},
   "outputs": [
    {
     "name": "stdout",
     "output_type": "stream",
     "text": [
      "answer\n",
      "[10002 10004 10006 ... 29996 29998 30000]\n",
      "CPU times: total: 0 ns\n",
      "Wall time: 1 ms\n"
     ]
    }
   ],
   "source": [
    "%%time\n",
    "result = np.zeros_like(ary01)\n",
    "result = ary01 + ary02\n",
    "print('answer')\n",
    "print(result)"
   ]
  },
  {
   "cell_type": "code",
   "execution_count": 142,
   "id": "26d1dc7c",
   "metadata": {},
   "outputs": [
    {
     "name": "stdout",
     "output_type": "stream",
     "text": [
      "\n",
      "배열의 모든 원소가 같은지를 비교하고 싶다면 ? - all()\n",
      "False\n",
      "True\n",
      "False\n",
      "True\n"
     ]
    }
   ],
   "source": [
    "ary01 = np.array([1,2,3,4])\n",
    "ary02 = np.array([4,3,2,4])\n",
    "ary03 = np.array([11,12,13,4])\n",
    "print()\n",
    "print('배열의 모든 원소가 같은지를 비교하고 싶다면 ? - all()')\n",
    "\n",
    "print(np.all(ary01 == ary02))\n",
    "print(ary01 in ary02)\n",
    "\n",
    "print(np.all(ary01 == ary03))\n",
    "print(ary01 in ary03)\n",
    "\n",
    "\n",
    "\n",
    "\n"
   ]
  },
  {
   "cell_type": "raw",
   "id": "e8f8ef34",
   "metadata": {},
   "source": [
    "ary = np.arange(5)\n",
    "ary * 1 "
   ]
  },
  {
   "cell_type": "code",
   "execution_count": 144,
   "id": "9041544a",
   "metadata": {},
   "outputs": [
    {
     "data": {
      "text/plain": [
       "array([[ 0,  1,  2,  3],\n",
       "       [ 4,  5,  6,  7],\n",
       "       [ 8,  9, 10, 11]])"
      ]
     },
     "execution_count": 144,
     "metadata": {},
     "output_type": "execute_result"
    }
   ],
   "source": [
    "ary01 = np.arange(12).reshape(-1,4)\n",
    "ary01"
   ]
  },
  {
   "cell_type": "code",
   "execution_count": 146,
   "id": "e91e233e",
   "metadata": {},
   "outputs": [
    {
     "data": {
      "text/plain": [
       "array([0, 1, 2])"
      ]
     },
     "execution_count": 146,
     "metadata": {},
     "output_type": "execute_result"
    }
   ],
   "source": [
    "ary02 = np.arange(3)\n",
    "ary02"
   ]
  },
  {
   "cell_type": "code",
   "execution_count": 149,
   "id": "6b049448",
   "metadata": {},
   "outputs": [
    {
     "data": {
      "text/plain": [
       "array([[ 0,  1,  2,  3],\n",
       "       [ 5,  6,  7,  8],\n",
       "       [10, 11, 12, 13]])"
      ]
     },
     "execution_count": 149,
     "metadata": {},
     "output_type": "execute_result"
    }
   ],
   "source": [
    "ary01 + ary02[ : , np.newaxis]"
   ]
  },
  {
   "cell_type": "markdown",
   "id": "a64dd04d",
   "metadata": {},
   "source": [
    "#### 차원축소 (dimension reduction)\n",
    "- 기술적 통계함수(min, max, sum, mean, median, std, var etx...)\n",
    "- all , any\n",
    "- 인덱스를 리턴하는 차원축소 함수 : argmin, argmx\n",
    "\n"
   ]
  },
  {
   "cell_type": "code",
   "execution_count": 157,
   "id": "2d3a2da1",
   "metadata": {},
   "outputs": [
    {
     "name": "stdout",
     "output_type": "stream",
     "text": [
      "data -  [1 2 3 4 5] (5,) 1\n",
      "sum -  15 <class 'numpy.int32'>\n",
      "sum -  15 <class 'numpy.int32'>\n",
      "\n",
      "sum -  1 <class 'numpy.int32'>\n",
      "min -  1 <class 'numpy.int32'>\n",
      "\n",
      "max -  5 <class 'numpy.int32'>\n",
      "max -  5 <class 'numpy.int32'>\n",
      "\n",
      "mean -  3.0 <class 'numpy.float64'>\n",
      "mean -  3.0 <class 'numpy.float64'>\n",
      "\n",
      "median -  3.0 <class 'numpy.float64'>\n"
     ]
    }
   ],
   "source": [
    "ary = np.array([1,2,3,4,5])\n",
    "print('data - ' , ary , ary.shape , ary.ndim)\n",
    "print('sum - '  , np.sum(ary) , type(np.sum(ary)))\n",
    "print('sum - '  , ary.sum() , type(ary.sum()))\n",
    "print()\n",
    "print('sum - '  , np.min(ary) , type(np.min(ary)))\n",
    "print('min - '  , ary.min()   , type(ary.min()))\n",
    "print()\n",
    "print('max - '  , np.max(ary)   , type(np.max(ary)))\n",
    "print('max - '  , ary.max()     , type(ary.max()))\n",
    "print()\n",
    "print('mean - '  , np.mean(ary)   , type(np.mean(ary)))\n",
    "print('mean - '  , ary.mean()     , type(ary.mean()))\n",
    "print()\n",
    "print('median - '  , np.median(ary)   , type(np.median(ary)))\n",
    "# print('median - '  , ary.median()     , type(ary.median())) -- error!\n",
    "\n",
    "\n"
   ]
  },
  {
   "cell_type": "code",
   "execution_count": 164,
   "id": "5f3eba5e",
   "metadata": {},
   "outputs": [
    {
     "name": "stdout",
     "output_type": "stream",
     "text": [
      "index -  0\n",
      "min_idx 0 1\n",
      "max index -  4 5\n",
      "\n",
      "all - \n",
      "False\n",
      "any - \n",
      "True\n"
     ]
    }
   ],
   "source": [
    "# 중요 함수\n",
    "# 최소 인덱싱 번호\n",
    "# 최대 인덱싱 번호\n",
    "\n",
    "ary = np.array([1,2,3,4,5])\n",
    "ary\n",
    "\n",
    "print('index - ' , np.argmin(ary))\n",
    "min_idx = np.argmin(ary)\n",
    "print('min_idx' , min_idx , ary[min_idx])\n",
    "# min_idx = 0 , ary[0]\n",
    "\n",
    "print('max index - ' , np.argmax(ary) , ary[np.argmax(ary)])\n",
    "\n",
    "print()\n",
    "print('all - ')\n",
    "print( np.all([True, False, True]))\n",
    "print('any - ')\n",
    "print( np.any([True, False, True]))"
   ]
  },
  {
   "cell_type": "markdown",
   "id": "154b93f1",
   "metadata": {},
   "source": [
    "- 연산의 대상이 2차원 행렬(matrix) 이라면?\n",
    "- axis 방향 설정이 중요"
   ]
  },
  {
   "cell_type": "code",
   "execution_count": 167,
   "id": "d9fe2a97",
   "metadata": {},
   "outputs": [
    {
     "name": "stdout",
     "output_type": "stream",
     "text": [
      "type      -  <class 'numpy.ndarray'>\n",
      "shape     -  (4, 5)\n",
      "dimension -  2\n",
      "dtype     -  int32\n",
      "\n",
      "data - \n",
      "[[ 1  2  3  4  5]\n",
      " [ 6  7  8  9 10]\n",
      " [11 12 13 14 15]\n",
      " [16 17 18 19 20]]\n"
     ]
    }
   ],
   "source": [
    "ary = np.arange(1, 21, 1).reshape(4, -1)\n",
    "aryinfo(ary)"
   ]
  },
  {
   "cell_type": "code",
   "execution_count": 176,
   "id": "783b2d6c",
   "metadata": {},
   "outputs": [
    {
     "name": "stdout",
     "output_type": "stream",
     "text": [
      "sum - \n",
      "sum -  210 <class 'numpy.int32'>\n",
      "row sum -  [15 40 65 90]\n",
      "col sum -  [34 38 42 46 50]\n"
     ]
    }
   ],
   "source": [
    "print('sum - ')\n",
    "print('sum - ' , np.sum(ary) , type(np.sum(ary)))\n",
    "print('row sum - ' , np.sum(ary , axis = 1))\n",
    "print('col sum - ' , np.sum(ary , axis = 0))"
   ]
  },
  {
   "cell_type": "markdown",
   "id": "e6c15f93",
   "metadata": {},
   "source": [
    "### print('min , argmin - index , max , argmax - index ,mean , median')"
   ]
  },
  {
   "cell_type": "code",
   "execution_count": 184,
   "id": "7ea176af",
   "metadata": {},
   "outputs": [
    {
     "name": "stdout",
     "output_type": "stream",
     "text": [
      "min - \n",
      "min -  1 <class 'numpy.int32'>\n",
      "argmin - \n",
      "argmin -  0 <class 'numpy.int64'>\n",
      "max - \n",
      "max -  20 <class 'numpy.int32'>\n"
     ]
    }
   ],
   "source": [
    "print('min - ')\n",
    "print('min - ' , np.min(ary) , type(np.min(ary)) )\n",
    "print('argmin - ')\n",
    "print('argmin - ' , np.argmin(ary) , type(np.argmin(ary)))\n",
    "print('max - ')\n",
    "print('max - ' ,     np.max(ary) , type(np.max(ary)))"
   ]
  },
  {
   "cell_type": "code",
   "execution_count": 187,
   "id": "caac8a2a",
   "metadata": {},
   "outputs": [
    {
     "data": {
      "text/plain": [
       "array([[98270958, 89813175, 63024948, 73182408, 25951688, 89481980],\n",
       "       [69533106, 31948545, 19492427, 43864457, 68222885, 38423008],\n",
       "       [34879294, 78921569, 82170318, 81542826, 16637202, 57385805],\n",
       "       [52310016, 17647809, 24703802, 59306735, 68454418, 58795850],\n",
       "       [43985298, 97125328, 74848714, 51924568, 92777255, 25838324]])"
      ]
     },
     "execution_count": 187,
     "metadata": {},
     "output_type": "execute_result"
    }
   ],
   "source": [
    "ary = np.random.randint(0,10000000 , (5,6))\n",
    "ary"
   ]
  },
  {
   "cell_type": "code",
   "execution_count": 212,
   "id": "1260e511",
   "metadata": {},
   "outputs": [
    {
     "name": "stdout",
     "output_type": "stream",
     "text": [
      "전체의 최댓값 -  98270958\n",
      "98270958\n",
      "행의 합       [439725157 271484428 351537014 281218630 386499487]\n",
      "행의 합 for -hstack-\n",
      "hstack [439725157 271484428 351537014 281218630 386499487]\n"
     ]
    }
   ],
   "source": [
    "print('전체의 최댓값 - ', ary.max())\n",
    "print(np.max(ary))\n",
    "\n",
    "print('행의 합      '   , np.sum(ary , axis =1))\n",
    "print('행의 합 for -hstack-')\n",
    "print('hstack' , np.hstack([ary[idx].sum() for idx in range(ary.shape[0])]))"
   ]
  },
  {
   "cell_type": "code",
   "execution_count": 192,
   "id": "4a167f6c",
   "metadata": {},
   "outputs": [
    {
     "data": {
      "text/plain": [
       "439725157"
      ]
     },
     "execution_count": 192,
     "metadata": {},
     "output_type": "execute_result"
    }
   ],
   "source": [
    "len(ary)\n",
    "ary[0].sum()"
   ]
  },
  {
   "cell_type": "code",
   "execution_count": 230,
   "id": "22cf83ea",
   "metadata": {},
   "outputs": [
    {
     "name": "stdout",
     "output_type": "stream",
     "text": [
      "각 행의 최댓값 [439725157 271484428 351537014 281218630 386499487]\n",
      "\n",
      "98270958\n",
      "69533106\n",
      "82170318\n",
      "68454418\n",
      "97125328\n",
      "\n",
      "각 열의 평균 [59795734.4 63091285.2 52848041.8 61964198.8 54408689.6 53984993.4]\n",
      "\n",
      "59795734.4\n",
      "63091285.2\n",
      "52848041.8\n",
      "61964198.8\n",
      "54408689.6\n",
      "\n",
      "각 열의 최솟값 [34879294 17647809 19492427 43864457 16637202 25838324]\n",
      "\n",
      "34879294\n",
      "17647809\n",
      "19492427\n",
      "43864457\n",
      "16637202\n"
     ]
    }
   ],
   "source": [
    "print('각 행의 최댓값' , np.hstack([ary[idx].sum() for idx in range(ary.shape[0])]))\n",
    "print()\n",
    "for i in range(len(ary)) :\n",
    "    print(np.max(ary[i , :]))\n",
    "    \n",
    "print()\n",
    "print('각 열의 평균' , np.hstack([ary[: , idx].mean() for idx in range(ary.shape[1])]))\n",
    "print()\n",
    "for i in range(len(ary)) :\n",
    "    print(np.mean(ary[: , i]))\n",
    "    \n",
    "print()\n",
    "print('각 열의 최솟값' , np.hstack([ary[: , idx].min() for idx in range(ary.shape[1])]))\n",
    "print()\n",
    "for i in range(len(ary)) :\n",
    "    print(np.min(ary[: , i]))\n"
   ]
  },
  {
   "cell_type": "markdown",
   "id": "c3a85b9b",
   "metadata": {},
   "source": [
    "- 정렬 : sort\n",
    "- ary.sort() : 원본에 대한 변경(inplace = True)\n",
    "- np.sort(ary) : 원본에 대한 변경 X(inplace = False)\n",
    "- inplace - 실제로는 사용 거의 불가\n"
   ]
  },
  {
   "cell_type": "code",
   "execution_count": 248,
   "id": "33385654",
   "metadata": {},
   "outputs": [
    {
     "data": {
      "text/plain": [
       "array([0, 1, 2, 3, 4, 5, 6, 7, 8, 9])"
      ]
     },
     "execution_count": 248,
     "metadata": {},
     "output_type": "execute_result"
    }
   ],
   "source": [
    "ary = np.arange(10)\n",
    "ary"
   ]
  },
  {
   "cell_type": "code",
   "execution_count": 261,
   "id": "05023564",
   "metadata": {},
   "outputs": [
    {
     "data": {
      "text/plain": [
       "array([1, 4, 5, 9, 6, 3, 0, 8, 2, 7])"
      ]
     },
     "execution_count": 261,
     "metadata": {},
     "output_type": "execute_result"
    }
   ],
   "source": [
    "# 배열 순서 섞기\n",
    "np.random.shuffle(ary)\n",
    "ary"
   ]
  },
  {
   "cell_type": "code",
   "execution_count": 244,
   "id": "15dac1cf",
   "metadata": {},
   "outputs": [
    {
     "data": {
      "text/plain": [
       "array([0, 1, 2, 3, 4, 5, 6, 7, 8, 9])"
      ]
     },
     "execution_count": 244,
     "metadata": {},
     "output_type": "execute_result"
    }
   ],
   "source": [
    "np.sort(ary)"
   ]
  },
  {
   "cell_type": "code",
   "execution_count": 245,
   "id": "c6a97872",
   "metadata": {},
   "outputs": [
    {
     "data": {
      "text/plain": [
       "array([6, 7, 0, 4, 9, 3, 5, 1, 8, 2])"
      ]
     },
     "execution_count": 245,
     "metadata": {},
     "output_type": "execute_result"
    }
   ],
   "source": [
    "ary"
   ]
  },
  {
   "cell_type": "code",
   "execution_count": 260,
   "id": "43640ada",
   "metadata": {},
   "outputs": [
    {
     "data": {
      "text/plain": [
       "array([0, 1, 2, 3, 4, 5, 6, 7, 8, 9])"
      ]
     },
     "execution_count": 260,
     "metadata": {},
     "output_type": "execute_result"
    }
   ],
   "source": [
    "ary.sort()\n",
    "ary"
   ]
  },
  {
   "cell_type": "code",
   "execution_count": 262,
   "id": "ff7751c9",
   "metadata": {},
   "outputs": [
    {
     "data": {
      "text/plain": [
       "array([9, 8, 7, 6, 5, 4, 3, 2, 1, 0])"
      ]
     },
     "execution_count": 262,
     "metadata": {},
     "output_type": "execute_result"
    }
   ],
   "source": [
    "np.sort(ary)[::-1]"
   ]
  },
  {
   "cell_type": "code",
   "execution_count": 264,
   "id": "70055d04",
   "metadata": {},
   "outputs": [
    {
     "name": "stdout",
     "output_type": "stream",
     "text": [
      "행렬에 대한 정렬 - \n"
     ]
    },
    {
     "data": {
      "text/plain": [
       "array([[ 7, 13,  6,  1],\n",
       "       [ 5, 14,  2,  2],\n",
       "       [ 3,  2,  5, 15],\n",
       "       [ 8, 10,  4, 12]])"
      ]
     },
     "execution_count": 264,
     "metadata": {},
     "output_type": "execute_result"
    }
   ],
   "source": [
    "print('행렬에 대한 정렬 - ')\n",
    "ary = np.random.randint(0 , 17 , (4,4))\n",
    "ary"
   ]
  },
  {
   "cell_type": "code",
   "execution_count": 265,
   "id": "17c76e87",
   "metadata": {},
   "outputs": [
    {
     "data": {
      "text/plain": [
       "array([[ 1,  6,  7, 13],\n",
       "       [ 2,  2,  5, 14],\n",
       "       [ 2,  3,  5, 15],\n",
       "       [ 4,  8, 10, 12]])"
      ]
     },
     "execution_count": 265,
     "metadata": {},
     "output_type": "execute_result"
    }
   ],
   "source": [
    "print('행 정렬')\n",
    "np.sort(ary , axis = 1)"
   ]
  },
  {
   "cell_type": "code",
   "execution_count": 267,
   "id": "14c6521a",
   "metadata": {},
   "outputs": [
    {
     "name": "stdout",
     "output_type": "stream",
     "text": [
      "열 정렬\n"
     ]
    },
    {
     "data": {
      "text/plain": [
       "array([[ 3,  2,  2,  1],\n",
       "       [ 5, 10,  4,  2],\n",
       "       [ 7, 13,  5, 12],\n",
       "       [ 8, 14,  6, 15]])"
      ]
     },
     "execution_count": 267,
     "metadata": {},
     "output_type": "execute_result"
    }
   ],
   "source": [
    "print('열 정렬')\n",
    "np.sort(ary , axis = 0)"
   ]
  },
  {
   "cell_type": "markdown",
   "id": "5f715617",
   "metadata": {},
   "source": [
    "- 만약, 정렬된 인덱스를 필요로 한다면?\n",
    "- np.argsort()"
   ]
  },
  {
   "cell_type": "code",
   "execution_count": 273,
   "id": "da8b8f95",
   "metadata": {},
   "outputs": [
    {
     "data": {
      "text/plain": [
       "array([4, 3, 5, 7])"
      ]
     },
     "execution_count": 273,
     "metadata": {},
     "output_type": "execute_result"
    }
   ],
   "source": [
    "ary = np.array([4,3,5,7])\n",
    "ary"
   ]
  },
  {
   "cell_type": "code",
   "execution_count": 279,
   "id": "86522ad3",
   "metadata": {},
   "outputs": [
    {
     "data": {
      "text/plain": [
       "array([1, 0, 2, 3], dtype=int64)"
      ]
     },
     "execution_count": 279,
     "metadata": {},
     "output_type": "execute_result"
    }
   ],
   "source": [
    "# sort 된 순으로 인덱싱이 되어있다.\n",
    "\n",
    "ary_idx = np.argsort(ary)\n",
    "ary_idx"
   ]
  },
  {
   "cell_type": "code",
   "execution_count": 280,
   "id": "0e449fc6",
   "metadata": {},
   "outputs": [
    {
     "data": {
      "text/plain": [
       "array([3, 4, 5, 7])"
      ]
     },
     "execution_count": 280,
     "metadata": {},
     "output_type": "execute_result"
    }
   ],
   "source": [
    "ary[ary_idx]"
   ]
  },
  {
   "cell_type": "code",
   "execution_count": 281,
   "id": "1c3ab570",
   "metadata": {},
   "outputs": [
    {
     "data": {
      "text/plain": [
       "array([7, 5, 4, 3])"
      ]
     },
     "execution_count": 281,
     "metadata": {},
     "output_type": "execute_result"
    }
   ],
   "source": [
    "ary[ary_idx][::-1]"
   ]
  }
 ],
 "metadata": {
  "kernelspec": {
   "display_name": "Python 3 (ipykernel)",
   "language": "python",
   "name": "python3"
  },
  "language_info": {
   "codemirror_mode": {
    "name": "ipython",
    "version": 3
   },
   "file_extension": ".py",
   "mimetype": "text/x-python",
   "name": "python",
   "nbconvert_exporter": "python",
   "pygments_lexer": "ipython3",
   "version": "3.9.12"
  }
 },
 "nbformat": 4,
 "nbformat_minor": 5
}
