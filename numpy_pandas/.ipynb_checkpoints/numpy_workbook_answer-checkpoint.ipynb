{
 "cells": [
  {
   "cell_type": "code",
   "execution_count": 1,
   "id": "c90415e6",
   "metadata": {},
   "outputs": [],
   "source": [
    "import numpy as np\n",
    "import pandas as pd\n",
    "\n",
    "# 배열의 정보를 확인하기 위한 함수 정의\n",
    "\n",
    "def aryinfo(ary) :\n",
    "    print('type      - ' , type(ary))\n",
    "    print('shape     - ' , ary.shape)\n",
    "    print('dimension - ' , ary.ndim)\n",
    "    print('dtype     - ' , ary.dtype)\n",
    "    print()\n",
    "    print('data - ')\n",
    "    print(ary)"
   ]
  },
  {
   "cell_type": "markdown",
   "id": "a9aff5b6",
   "metadata": {},
   "source": [
    "#### 1번 문제"
   ]
  },
  {
   "cell_type": "code",
   "execution_count": 3,
   "id": "29aa8a33",
   "metadata": {},
   "outputs": [
    {
     "name": "stdout",
     "output_type": "stream",
     "text": [
      "type      -  <class 'numpy.ndarray'>\n",
      "shape     -  (1000209, 4)\n",
      "dimension -  2\n",
      "dtype     -  <U10\n",
      "\n",
      "data - \n",
      "[['1' '1193' '5' '978300760']\n",
      " ['1' '661' '3' '978302109']\n",
      " ['1' '914' '3' '978301968']\n",
      " ...\n",
      " ['6040' '562' '5' '956704746']\n",
      " ['6040' '1096' '4' '956715648']\n",
      " ['6040' '1097' '4' '956715569']]\n"
     ]
    }
   ],
   "source": [
    "# 데이터 가져오기\n",
    "ratings_data = np.loadtxt('C:/Users/a/Documents/SQL/data/numpy/ratings.dat' , dtype='U' , skiprows=1 , delimiter = '::')\n",
    "aryinfo(ratings_data)"
   ]
  },
  {
   "cell_type": "code",
   "execution_count": null,
   "id": "ea3e1f6d",
   "metadata": {},
   "outputs": [],
   "source": [
    "# 2 데이터의 첫 5행만 확인\n",
    "ratings_data[ : 5]"
   ]
  },
  {
   "cell_type": "code",
   "execution_count": null,
   "id": "45b89e51",
   "metadata": {},
   "outputs": [],
   "source": [
    "# 3 데이터의 형태 확인\n",
    "# type(ary) , ary.shape , ary.ndim , ary.dtype\n",
    "aryinfo(ratings_data)"
   ]
  },
  {
   "cell_type": "code",
   "execution_count": null,
   "id": "142c1997",
   "metadata": {},
   "outputs": [],
   "source": [
    "# 4 전체 평균 평점 계산\n",
    "ratings_data[: , 2]\n",
    "# 형변환\n",
    "point = ratings_data[:,2].astype('float')\n",
    "point_mean = point.mean()\n",
    "print('answer - ' , round(point_mean , 2))"
   ]
  },
  {
   "cell_type": "code",
   "execution_count": null,
   "id": "9a3ce37e",
   "metadata": {},
   "outputs": [],
   "source": [
    "# 5 사용자 아이디 수집\n",
    "user_ids = ratings_data[ : , 0]\n",
    "user_ids"
   ]
  },
  {
   "cell_type": "code",
   "execution_count": null,
   "id": "b95f0af2",
   "metadata": {},
   "outputs": [],
   "source": []
  },
  {
   "cell_type": "code",
   "execution_count": null,
   "id": "36a27c69",
   "metadata": {},
   "outputs": [],
   "source": [
    "# 6 사용자별 평점 확인을 위한 코드 구문 작성\n",
    "value = 1\n",
    "avg_id = []\n",
    "answer = []\n",
    "result = np.zeros_like(np.arange(1, 6041))\n",
    "num = 0\n",
    "for user_id , index in zip(user_ids , range(len(ratings_data)))  :\n",
    "    if user_id.astype(int) == value :           \n",
    "        avg_id.append(ratings_data[index , 2].astype(int))\n",
    "        mean = round(sum(avg_id)/len(avg_id) ,2)\n",
    "        if index == 1000208 :\n",
    "            num = num + 1\n",
    "            print('id - {}의 평균평점은 {}입니다.'.format(num , mean))\n",
    "            answer.append([num , mean])\n",
    "            print(index)\n",
    "    else :\n",
    "        num = num + 1\n",
    "        print('id - {}의 평균평점은 {}입니다.'.format(num , mean))    \n",
    "        answer.append([num , mean])\n",
    "        # print(answer)\n",
    "        mean = None\n",
    "        avg_id = []\n",
    "        value = value + 1\n",
    "        \n",
    "        \n",
    "#     else :\n",
    "#         value = value + 1\n",
    "#         num = num+1"
   ]
  },
  {
   "cell_type": "code",
   "execution_count": null,
   "id": "3dcbd350",
   "metadata": {},
   "outputs": [],
   "source": [
    "# answer 리스트를 score 배열로 변환\n",
    "# 배열로 변환 후, 평점이 4보다 큰 데이터를 boolean 단위로 반환\n",
    "\n",
    "score = np.array(answer)\n",
    "score[: , 1] > 4.0"
   ]
  },
  {
   "cell_type": "code",
   "execution_count": null,
   "id": "a0cb8d5f",
   "metadata": {},
   "outputs": [],
   "source": [
    "# score_over_4 생성\n",
    "score_over_4= score[score[: , 1] > 4.0]\n",
    "score_over_4"
   ]
  },
  {
   "cell_type": "code",
   "execution_count": null,
   "id": "742840f0",
   "metadata": {},
   "outputs": [],
   "source": [
    "# score_over_4 저장하기 평점이 4점 이상인 데이터 \n",
    "# np.savetxt('C:/Users/PiGiraffe0/Documents/SQL\\data/numpy/score.csv' , score_over_4 , delimiter=',' , fmt = '%.1f' )"
   ]
  },
  {
   "cell_type": "markdown",
   "id": "bb257b7d",
   "metadata": {},
   "source": [
    "#### 2번 문제"
   ]
  },
  {
   "cell_type": "code",
   "execution_count": 4,
   "id": "d0e1c30c",
   "metadata": {},
   "outputs": [
    {
     "data": {
      "text/plain": [
       "array([['1907-10-01', '108', '13.5', '7.9', '20.7'],\n",
       "       ['1907-10-02', '108', '16.2', '7.9', '22'],\n",
       "       ['1907-10-03', '108', '16.2', '13.1', '21.3'],\n",
       "       ...,\n",
       "       ['2020-09-04', '108', '23.3', '19.9', '27.5'],\n",
       "       ['2020-09-05', '108', '23.3', '19.2', '27.3'],\n",
       "       ['2020-09-06', '108', '21.7', '19.5', '24.4']], dtype='<U10')"
      ]
     },
     "execution_count": 4,
     "metadata": {},
     "output_type": "execute_result"
    }
   ],
   "source": [
    "seoul_data = np.loadtxt('C:/Users/a/Documents/SQL/data/numpy/seoul.csv' , dtype='U' \n",
    "                        , skiprows=8 ,delimiter=',')\n",
    "seoul_data"
   ]
  },
  {
   "cell_type": "code",
   "execution_count": 5,
   "id": "1299a08e",
   "metadata": {},
   "outputs": [
    {
     "data": {
      "text/plain": [
       "array([['1907-01-31', '143', '', '-7', '0.8'],\n",
       "       ['1907-02-01', '143', '', '', ''],\n",
       "       ['1907-02-02', '143', '', '', ''],\n",
       "       ...,\n",
       "       ['2020-09-04', '143', '24.1', '18.3', '30.4'],\n",
       "       ['2020-09-05', '143', '19.9', '17.3', '23.1'],\n",
       "       ['2020-09-06', '143', '19.5', '17.6', '20.7']], dtype='<U10')"
      ]
     },
     "execution_count": 5,
     "metadata": {},
     "output_type": "execute_result"
    }
   ],
   "source": [
    "daegu_data = np.loadtxt('C:/Users/a/Documents/SQL/data/numpy/daegu.csv' , dtype='U' \n",
    "                        , skiprows=8 ,delimiter=',')\n",
    "daegu_data\n"
   ]
  },
  {
   "cell_type": "code",
   "execution_count": null,
   "id": "373ec9cd",
   "metadata": {},
   "outputs": [],
   "source": [
    "# 1 기상 관측 아래, 서울의 최고 기온이 가장 높았던 날은 언제였고, 몇 도 였나?\n",
    "aryinfo(seoul_data)\n",
    "seoul = np.nan_to_num(seoul_data)\n",
    "print(seoul)\n",
    "for index in range(len(seoul)) :\n",
    "    if seoul[index , 4] == '' :\n",
    "        #print('none')\n",
    "        seoul[index , 4 ] = '20'\n",
    "\n",
    "# for index in range(len(seoul)) :\n",
    "#     if seoul[index , 4] == '' :\n",
    "#         print('none?')\n",
    "#     else :\n",
    "#         print('ok' , index)\n",
    "\n",
    "seoul_max = seoul[:,4].astype(float).max()\n",
    "print()\n",
    "print('max_temp ' , seoul_max)\n",
    "temp = seoul[:,4].astype(float)\n",
    "answer = seoul[np.argsort(temp)[::-1]][0 , :]\n",
    "answer\n",
    "        \n",
    "print('{}이 최고기온 {}도로 가장 높았습니다.' .format(answer[0] , answer[4]))"
   ]
  },
  {
   "cell_type": "code",
   "execution_count": null,
   "id": "44f84861",
   "metadata": {},
   "outputs": [],
   "source": [
    "# 2 역사적으로 일교차가 가장 큰 날짜는 몇 년 몇 월 몇 일 인가요?\n",
    "seoul = np.nan_to_num(seoul_data)\n",
    "daegu = np.nan_to_num(daegu_data)\n",
    "# 결측값 제거\n",
    "for index in range(len(seoul)) :\n",
    "    if seoul[index , 4] == '' :\n",
    "        #print('none')\n",
    "        seoul[index , 4 ] = '20'\n",
    "    if seoul[index , 3] == '' :\n",
    "        #print('none')\n",
    "        seoul[index , 3 ] = '10'\n",
    "\n",
    "for index in range(len(daegu)) :\n",
    "    if daegu[index , 4] == '' :\n",
    "        #print('none')\n",
    "        daegu[index , 4 ] = '20'\n",
    "    if daegu[index , 3] == '' :\n",
    "        #print('none')\n",
    "        daegu[index , 3 ] = '10'\n"
   ]
  },
  {
   "cell_type": "code",
   "execution_count": null,
   "id": "914ada4e",
   "metadata": {
    "scrolled": true
   },
   "outputs": [],
   "source": [
    "# 형변환\n",
    "seoul[:,3].astype(float)\n",
    "seoul[:,4].astype(float)\n",
    "daegu[:,3].astype(float)\n",
    "daegu[:,4].astype(float)\n",
    "\n",
    "# 일교차 계산\n",
    "seoul_tmp_range = seoul[:,4].astype(float)-seoul[:,3].astype(float)\n",
    "daegu_tmp_range = daegu[:,4].astype(float)-daegu[:,3].astype(float)\n",
    "seoul_tmp_range"
   ]
  },
  {
   "cell_type": "code",
   "execution_count": null,
   "id": "fd6c383d",
   "metadata": {},
   "outputs": [],
   "source": [
    "answer_seoul = seoul[np.argsort(seoul_tmp_range)[::-1]][0 , :]\n",
    "answer_daegu = daegu[np.argsort(daegu_tmp_range)[::-1]][0 , :]\n",
    "print('서울의 일교차가 가장 컸던 날은 {} 입니다.'.format(answer_seoul[0]))\n",
    "print('대구의 일교차가 가장 컸던 날은 {} 입니다.'.format(answer_daegu[0]))"
   ]
  },
  {
   "cell_type": "code",
   "execution_count": null,
   "id": "b65a3bbb",
   "metadata": {},
   "outputs": [],
   "source": [
    "# 3 1년 중 평균적으로 일교차가 가장 큰 날짜는 몇 월 몇 일 인가요?"
   ]
  },
  {
   "cell_type": "code",
   "execution_count": null,
   "id": "f38520ee",
   "metadata": {},
   "outputs": [],
   "source": [
    "seoul[:,0]"
   ]
  },
  {
   "cell_type": "code",
   "execution_count": null,
   "id": "7dabb0c4",
   "metadata": {},
   "outputs": [],
   "source": [
    "# 날짜의 년도가 끝나는 부분 찾기\n",
    "seoul[:,0][0].find('-')"
   ]
  },
  {
   "cell_type": "code",
   "execution_count": null,
   "id": "bbb200be",
   "metadata": {},
   "outputs": [],
   "source": [
    " seoul[:,0]"
   ]
  },
  {
   "cell_type": "code",
   "execution_count": null,
   "id": "f622a88e",
   "metadata": {},
   "outputs": [],
   "source": [
    "# 숫자(월)은 10 11 12 01 02 03 04 05 06 07 08 09 순서로 진행\n",
    "# 숫자(일)은 10 11 12 ... 31 01... 07 08 09 순서로 진행\n",
    "# 10-10일 부터 09-09 까지, 전체 연도별 평균 : 각 날마다의 일교차 계산\n",
    "# 데이터 저장 :  [['일교차' , '날짜'] , ['일교차' , '날짜'] ....]\n",
    "\n",
    "lst = []\n",
    "value = 0\n",
    "date = []\n",
    "for m in ['10','11','12','01','02','03','04','05','06','07','08','09']:\n",
    "    for d in ['10','11','12','13','14','15','16','17','18','19','20','21','22','23','24','25','26','27','28','29','30','31','01','02','03','04','05','06','07','08','09'] :\n",
    "        for i in range(len(seoul)) :\n",
    "            if str(str(m)+'-'+str(d)) == seoul[:,0][i][5:] :\n",
    "                lst.append(round(seoul[:,4][i].astype(float)-seoul[:,3][i].astype(float),2))\n",
    "            elif i == len(seoul)-1 :\n",
    "                if len(lst) != 0 :\n",
    "                    lst = round(sum(lst)/len(lst),2)\n",
    "                    date.append([lst , str(str(m)+'-'+str(d))])\n",
    "#             lst = sum(lst)/len(lst)\n",
    "#             date.append([lst , seoul[:,0][i][5:]])\n",
    "#             lst=[]\n",
    "#             print(date)\n",
    "        \n",
    "        print(date)\n",
    "        print('초기화')\n",
    "        lst = []\n",
    "        \n",
    "        \n",
    "                \n"
   ]
  },
  {
   "cell_type": "code",
   "execution_count": null,
   "id": "f2e1ed50",
   "metadata": {},
   "outputs": [],
   "source": [
    "# 배열로 바꾸기\n",
    "\n",
    "date_tem_high = np.array(date)\n",
    "\n",
    "# 일교차가 가장 큰 날짜 확인\n",
    "answer = date_tem_high[np.argsort(date_tem_high[: , 0].astype(float))[::-1]][0]\n",
    "print(answer)\n",
    "# 출력 \n",
    "print('1년 중 평균적으로 일교차가 가장 큰 날짜는 온도가 {}도 이고, 날짜는 {} 입니다.'.format(answer[0] , answer[1]))"
   ]
  },
  {
   "cell_type": "code",
   "execution_count": null,
   "id": "4b4bb605",
   "metadata": {},
   "outputs": [],
   "source": [
    "# 온도 비교 코드\n",
    "# 길이(len) 확인용 코드\n",
    "seoul[:,4][i].astype(float)-seoul[:,3][i].astype(float)\n",
    "print(i)"
   ]
  },
  {
   "cell_type": "code",
   "execution_count": null,
   "id": "34a1dafc",
   "metadata": {},
   "outputs": [],
   "source": [
    "# 4 가장 덥다고 알려진 대구보다 서울이 더 더운날이 가장 많은 연도는?"
   ]
  },
  {
   "cell_type": "code",
   "execution_count": null,
   "id": "f05a8ca3",
   "metadata": {},
   "outputs": [],
   "source": [
    "# 서울과 대구 최고 기온 데이터 확인\n",
    "\n",
    "aryinfo(seoul[:,4]) \n",
    "print()\n",
    "aryinfo(daegu[:,4])"
   ]
  },
  {
   "cell_type": "code",
   "execution_count": null,
   "id": "bfdcbbfb",
   "metadata": {},
   "outputs": [],
   "source": [
    "# 결측값에 20이 대신 들어간 데이터는 제외하고서 서울의 기온이 대구보다 높았던 날을(개수) 찾습니다.\n",
    "# [[서울이 더 더운 날(단위 : 개) , 년도] , [서울이 더 더운 날(단위 : 개) , 년도] ...]\n",
    "count = 0\n",
    "lst_num = []\n",
    "for year in range(1907,2021) :    \n",
    "    for index in range(len(seoul)):     \n",
    "        if seoul[index,0][:4] == str(year) :\n",
    "            for index2 in range(len(daegu)) :\n",
    "                if seoul[index,0] == daegu[index2,0] and seoul[index,4] > daegu[index2,4] and daegu[index2,4] != '20':\n",
    "                    count = count + 1\n",
    "        elif index == len(seoul)-1 :\n",
    "            lst_num.append([count , year])\n",
    "            count = 0\n",
    "            print(lst_num)\n",
    "                \n",
    "                    \n",
    "        "
   ]
  },
  {
   "cell_type": "code",
   "execution_count": null,
   "id": "a1ab3284",
   "metadata": {},
   "outputs": [],
   "source": [
    "# more_hot 배열로 변환하기\n",
    "# 대구보다 서울의 기온이 더 높았던 날이 많은 해 구하기\n",
    "more_hot = np.array(lst_num)\n",
    "more_hot[np.argsort(more_hot[:,0])[::-1]][0][1]\n",
    "\n",
    "print('서울의 기온이 더 높았던 날이 많은 해 : ' , more_hot[np.argsort(more_hot[:,0])[::-1]][:2,1])"
   ]
  },
  {
   "cell_type": "code",
   "execution_count": null,
   "id": "83f30db5",
   "metadata": {},
   "outputs": [],
   "source": [
    "more_hot[np.argsort(more_hot[:,0])[::-1]][:2]"
   ]
  }
 ],
 "metadata": {
  "kernelspec": {
   "display_name": "Python 3 (ipykernel)",
   "language": "python",
   "name": "python3"
  },
  "language_info": {
   "codemirror_mode": {
    "name": "ipython",
    "version": 3
   },
   "file_extension": ".py",
   "mimetype": "text/x-python",
   "name": "python",
   "nbconvert_exporter": "python",
   "pygments_lexer": "ipython3",
   "version": "3.9.12"
  }
 },
 "nbformat": 4,
 "nbformat_minor": 5
}
