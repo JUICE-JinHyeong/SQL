{
 "cells": [
  {
   "cell_type": "markdown",
   "id": "2c5399c4",
   "metadata": {},
   "source": [
    "#### Numpy 학습 목표\n",
    "- 배열 데이터 타입(인공지능 사영되는 데이터의 타입)\n",
    "- 생성 방벙 , 활용 방법\n",
    "- 통계에 관련된 다양한 함수를 지원\n",
    "\n",
    "##### 배열 (벡터화 연산 , 행렬의 벡터화 연산)\n",
    "- 리스트와 차이가 있다(배열의 모든 원소는 같은 자료형)\n",
    "- 원소의 개수를 바꿀 수 없다.(resizing X)\n",
    "- 배열의 차원 , 크기 , 타입 (ndim , shpae , dtype)"
   ]
  },
  {
   "cell_type": "code",
   "execution_count": 23,
   "id": "a2ff49ae",
   "metadata": {},
   "outputs": [],
   "source": [
    "import numpy  as np\n",
    "import pandas as pd"
   ]
  },
  {
   "cell_type": "code",
   "execution_count": 243,
   "id": "9c2cd12e",
   "metadata": {},
   "outputs": [],
   "source": [
    "# 배열의 정보를 확인하기 위한 함수 정의\n",
    "def aryinfo(ary) :\n",
    "    print('type      - ' , type(ary))\n",
    "    print('shape     - ' , ary.shape)\n",
    "    print('dimension - ' , ary.ndim)\n",
    "    print('dtype     - ' , ary.dtype)\n",
    "    print()\n",
    "    print('data - ')\n",
    "    print(ary)"
   ]
  },
  {
   "cell_type": "markdown",
   "id": "fe1c1491",
   "metadata": {},
   "source": [
    "- 배열 객체를 생성할 때 사용하는 함수 : array() , arange() , reshape()"
   ]
  },
  {
   "cell_type": "code",
   "execution_count": 25,
   "id": "45bb8956",
   "metadata": {},
   "outputs": [
    {
     "name": "stderr",
     "output_type": "stream",
     "text": [
      "C:\\Users\\a\\AppData\\Local\\Temp\\ipykernel_3504\\29025421.py:1: DeprecationWarning: `np.object` is a deprecated alias for the builtin `object`. To silence this warning, use `object` by itself. Doing this will not modify any behavior and is safe. \n",
      "Deprecated in NumPy 1.20; for more details and guidance: https://numpy.org/devdocs/release/1.20.0-notes.html#deprecations\n",
      "  ary = np.array([1,2,3,4,5,6,7,8,9] , dtype = np.object)\n"
     ]
    }
   ],
   "source": [
    "ary = np.array([1,2,3,4,5,6,7,8,9] , dtype = np.object)"
   ]
  },
  {
   "cell_type": "code",
   "execution_count": 22,
   "id": "ccf6b5d0",
   "metadata": {},
   "outputs": [
    {
     "name": "stdout",
     "output_type": "stream",
     "text": [
      "type      -  <class 'numpy.ndarray'>\n",
      "shaqe     -  (9,)\n",
      "dimension -  1\n",
      "dtype     -  object\n",
      "\n",
      "data - \n",
      "[1 2 3 4 5 6 7 8 9]\n"
     ]
    }
   ],
   "source": [
    "aryinfo(ary)"
   ]
  },
  {
   "cell_type": "code",
   "execution_count": 32,
   "id": "325351d9",
   "metadata": {},
   "outputs": [
    {
     "name": "stdout",
     "output_type": "stream",
     "text": [
      "type -  <class 'list'>\n",
      "\n",
      "\n",
      "[2, 4, 6, 8, 10, 12, 14, 16, 18]\n",
      "\n",
      "\n",
      "\n",
      "[2 4 6 8 10 12 14 16 18]\n"
     ]
    }
   ],
   "source": [
    "data = [1,2,3,4,5,6,7,8,9]\n",
    "print('type - ' , type(data))\n",
    "print()\n",
    "data * 2\n",
    "print()\n",
    "result = []\n",
    "for value in data :\n",
    "    result.append(value * 2)\n",
    "    \n",
    "print(result)\n",
    "print()\n",
    "\n",
    "result = [value*2  for valuei in data]\n",
    "\n",
    "print()\n",
    "print()\n",
    "\n",
    "print(ary * 2)\n"
   ]
  },
  {
   "cell_type": "markdown",
   "id": "b3faba62",
   "metadata": {},
   "source": [
    "- 산술 , 비교 , 논리"
   ]
  },
  {
   "cell_type": "code",
   "execution_count": 34,
   "id": "58b6941c",
   "metadata": {},
   "outputs": [
    {
     "name": "stdout",
     "output_type": "stream",
     "text": [
      "type -  <class 'numpy.ndarray'> <class 'numpy.ndarray'>\n"
     ]
    }
   ],
   "source": [
    "ary01 = np.array([1, 2, 3, 4, 5])\n",
    "ary02 = np.array([10, 20, 30, 40, 50])\n",
    "print('type - ' , type(ary01) , type(ary02))"
   ]
  },
  {
   "cell_type": "code",
   "execution_count": 36,
   "id": "0f9cca8d",
   "metadata": {},
   "outputs": [
    {
     "name": "stdout",
     "output_type": "stream",
     "text": [
      "[ 10  40  90 160 250]\n"
     ]
    }
   ],
   "source": [
    "print('산술연산 - ')\n",
    "print(ary01 * ary02)"
   ]
  },
  {
   "cell_type": "code",
   "execution_count": 40,
   "id": "9343baf5",
   "metadata": {},
   "outputs": [
    {
     "name": "stdout",
     "output_type": "stream",
     "text": [
      "비교연산 - \n",
      "[False  True False False False] <class 'numpy.ndarray'> False\n",
      "[2]\n"
     ]
    }
   ],
   "source": [
    "print('비교연산 - ')\n",
    "boolean_masking = (ary01 == 2)\n",
    "print(boolean_masking , type(boolean_masking) , boolean_masking[0])\n",
    "print(ary01[boolean_masking])"
   ]
  },
  {
   "cell_type": "code",
   "execution_count": 42,
   "id": "e52016ef",
   "metadata": {},
   "outputs": [
    {
     "name": "stdout",
     "output_type": "stream",
     "text": [
      "논리연산 - \n",
      "[False  True False False False]\n",
      "[False  True  True  True  True]\n"
     ]
    }
   ],
   "source": [
    "print('논리연산 - ')\n",
    "print((ary01 == 2) & (ary02 > 10))\n",
    "print((ary01 == 2) | (ary02 > 10))"
   ]
  },
  {
   "cell_type": "markdown",
   "id": "998ae2ea",
   "metadata": {},
   "source": [
    "- 2차원 배열(matrix - 행렬) : list of list  \n",
    "- N-dimensional Array"
   ]
  },
  {
   "cell_type": "code",
   "execution_count": 56,
   "id": "0bbe0234",
   "metadata": {},
   "outputs": [
    {
     "name": "stdout",
     "output_type": "stream",
     "text": [
      "2 * 3 의 배열을 생성한다면? -\n",
      "type      -  <class 'numpy.ndarray'>\n",
      "shaqe     -  (2, 3)\n",
      "dimension -  2\n",
      "dtype     -  int32\n",
      "\n",
      "data - \n",
      "[[1 2 3]\n",
      " [4 5 6]]\n",
      "\n",
      "len() -  2\n",
      "len() -  3\n",
      "len() -  3\n"
     ]
    }
   ],
   "source": [
    "print('2 * 3 의 배열을 생성한다면? -')\n",
    "ary = np.array([[1,2,3],[4,5,6]])\n",
    "aryinfo(ary)\n",
    "\n",
    "print()\n",
    "print('len() - ' , len(ary))\n",
    "print('len() - ' , len(ary[0]))\n",
    "print('len() - ' , len(ary[1]))\n"
   ]
  },
  {
   "cell_type": "code",
   "execution_count": 57,
   "id": "e678c698",
   "metadata": {},
   "outputs": [
    {
     "name": "stdout",
     "output_type": "stream",
     "text": [
      "3 * 4 의 배열을 2개 생성\n",
      "type      -  <class 'numpy.ndarray'>\n",
      "shaqe     -  (2, 3, 4)\n",
      "dimension -  3\n",
      "dtype     -  <U11\n",
      "\n",
      "data - \n",
      "[[['1' '2' '3' '4']\n",
      "  ['5' '6' '7' '8']\n",
      "  ['9' '10' '11' '12']]\n",
      "\n",
      " [['a' 'b' 'c' 'd']\n",
      "  ['e' 'f' 'g' 'h']\n",
      "  ['i' 'j' 'j' 'l']]]\n",
      "len() -  2\n",
      "len() -  3\n",
      "len() -  4\n"
     ]
    }
   ],
   "source": [
    "print('3 * 4 의 배열을 2개 생성')\n",
    "ary = np.array([[[1,2,3,4] , [5,6,7,8] , [9,10,11,12]], [['a','b','c','d'] , ['e','f','g','h'] , ['i','j','j','l']]])\n",
    "\n",
    "aryinfo(ary)\n",
    "print('len() - ' , len(ary))\n",
    "print('len() - ' , len(ary[0]))\n",
    "\n",
    "print('len() - ' , len(ary[0][0]))"
   ]
  },
  {
   "cell_type": "markdown",
   "id": "f5bf14b7",
   "metadata": {},
   "source": [
    "- astype() : 요소의 타입을 변경할 때 사용"
   ]
  },
  {
   "cell_type": "code",
   "execution_count": 61,
   "id": "2b560d3c",
   "metadata": {},
   "outputs": [
    {
     "name": "stdout",
     "output_type": "stream",
     "text": [
      "type      -  <class 'numpy.ndarray'>\n",
      "shaqe     -  (2, 3, 4)\n",
      "dimension -  3\n",
      "dtype     -  object\n",
      "\n",
      "data - \n",
      "[[['1' '2' '3' '4']\n",
      "  ['5' '6' '7' '8']\n",
      "  ['9' '10' '11' '12']]\n",
      "\n",
      " [['a' 'b' 'c' 'd']\n",
      "  ['e' 'f' 'g' 'h']\n",
      "  ['i' 'j' 'j' 'l']]]\n"
     ]
    }
   ],
   "source": [
    "aryinfo(ary.astype(object))"
   ]
  },
  {
   "cell_type": "code",
   "execution_count": 63,
   "id": "81f8c612",
   "metadata": {},
   "outputs": [
    {
     "name": "stdout",
     "output_type": "stream",
     "text": [
      "3 * 4 의 배열을 2개 생성\n",
      "type      -  <class 'numpy.ndarray'>\n",
      "shaqe     -  (2, 3, 4)\n",
      "dimension -  3\n",
      "dtype     -  <U11\n",
      "\n",
      "data - \n",
      "[[['1' '2' '3' '4']\n",
      "  ['5' '6' '7' '8']\n",
      "  ['9' '10' '11' '12']]\n",
      "\n",
      " [['a' 'b' 'c' 'd']\n",
      "  ['e' 'f' 'g' 'h']\n",
      "  ['i' 'j' 'j' 'l']]]\n",
      "len() -  2\n",
      "len() -  3\n",
      "len() -  4\n"
     ]
    }
   ],
   "source": [
    "print('3 * 4 의 배열을 2개 생성')\n",
    "ary = np.array([[[1,2,3,4] , [5,6,7,8] , [9,10,11,12]], [['a','b','c','d'] , ['e','f','g','h'] , ['i','j','j','l']]])\n",
    "\n",
    "aryinfo(ary)\n",
    "print('len() - ' , len(ary))\n",
    "print('len() - ' , len(ary[0]))\n",
    "\n",
    "print('len() - ' , len(ary[0][0]))"
   ]
  },
  {
   "cell_type": "markdown",
   "id": "2ce645e5",
   "metadata": {},
   "source": [
    "- 인덱싱과 슬라이싱"
   ]
  },
  {
   "cell_type": "code",
   "execution_count": 80,
   "id": "288082bf",
   "metadata": {},
   "outputs": [
    {
     "name": "stdout",
     "output_type": "stream",
     "text": [
      "type      -  <class 'numpy.ndarray'>\n",
      "shaqe     -  (9,)\n",
      "dimension -  1\n",
      "dtype     -  int32\n",
      "\n",
      "data - \n",
      "[1 2 3 4 5 6 7 8 9]\n",
      "indexing -  1 9\n",
      "slicing -  [5 6 7]\n",
      "[1 3]\n",
      "[1 3]\n"
     ]
    }
   ],
   "source": [
    "ary = np.array([1,2,3,4,5,6,7,8,9])\n",
    "aryinfo(ary)\n",
    "print('indexing - ' , ary[0] , ary[-1])\n",
    "print('slicing - '  , ary[4:7] )\n",
    "print(ary[[0, 2]])\n",
    "\n",
    "masking = [True , False , True , False , False , False , False , False , False ]\n",
    "print(ary[masking])\n"
   ]
  },
  {
   "cell_type": "code",
   "execution_count": 101,
   "id": "fcc442b3",
   "metadata": {},
   "outputs": [
    {
     "name": "stdout",
     "output_type": "stream",
     "text": [
      "type      -  <class 'numpy.ndarray'>\n",
      "shaqe     -  (2, 3)\n",
      "dimension -  2\n",
      "dtype     -  int32\n",
      "\n",
      "data - \n",
      "[[1 2 3]\n",
      " [4 5 6]]\n",
      "첫번째 행의 첫번째 열의 값을 추출 -  1 1\n",
      "두번째 행의 첫번째 열 -  4 4\n",
      "마지막 행의 마지막 열 -  6\n",
      "첫번째 행의 전체 열 -  [1 2 3]\n",
      "두번째 열의 전체 행 -  [2 5]\n",
      "두번째 행의 두번째부터 끝까지 -  [5 6]\n"
     ]
    }
   ],
   "source": [
    "ary = np.array([[1,2,3],[4,5,6]])\n",
    "aryinfo(ary)\n",
    "print('첫번째 행의 첫번째 열의 값을 추출 - ' , ary[0][0] , ary[0,0])\n",
    "print('두번째 행의 첫번째 열 - ' , ary[1][0] , ary[1,0])\n",
    "print('마지막 행의 마지막 열 - ' , ary[-1][-1])\n",
    "print('첫번째 행의 전체 열 - ' , ary[0])\n",
    "print('두번째 열의 전체 행 - ' , ary[: , 1])\n",
    "print('두번째 행의 두번째부터 끝까지 - ' , ary[1 , 1:])\n"
   ]
  },
  {
   "cell_type": "markdown",
   "id": "b1149242",
   "metadata": {},
   "source": [
    "- fancy indexing == arrayindexing\n",
    "- 정수 배열 인덱싱\n",
    "- bollean 인덱싱"
   ]
  },
  {
   "cell_type": "code",
   "execution_count": 108,
   "id": "f334e98d",
   "metadata": {},
   "outputs": [
    {
     "name": "stdout",
     "output_type": "stream",
     "text": [
      "짝수의 원소를 추출 - \n",
      "boolean indexing -  [0 2 4 6 8]\n",
      "정수 배열 인덱싱 -  [0 2 4 6 8]\n"
     ]
    }
   ],
   "source": [
    "ary = np.array([0,1,2,3,4,5,6,7,8,9])\n",
    "print('짝수의 원소를 추출 - ')\n",
    "\n",
    "# for i in ary :\n",
    "#     if i > 0 and i % 2 == 0 :\n",
    "#         print(i)\n",
    "        \n",
    "print('boolean indexing - ' , ary[ary % 2 == 0])\n",
    "evenidx = np.array([1,3,5,7,9])\n",
    "oddidx  = np.array([0,2,4,6,8])\n",
    "\n",
    "print('정수 배열 인덱싱 - ' , ary[oddidx])"
   ]
  },
  {
   "cell_type": "code",
   "execution_count": 120,
   "id": "05b1b373",
   "metadata": {},
   "outputs": [
    {
     "name": "stdout",
     "output_type": "stream",
     "text": [
      "type      -  <class 'numpy.ndarray'>\n",
      "shaqe     -  (20,)\n",
      "dimension -  1\n",
      "dtype     -  int32\n",
      "\n",
      "data - \n",
      "[ 1  2  3  4  5  6  7  8  9 10 11 12 13 14 15 16 17 18 19 20]\n",
      "\n",
      "3의 배수만 추출 - \n",
      "4로 나누면 1이 남는  수를 추출 - \n",
      "3의 배수이고 4로 나누면 1이 남는 수를 추출\n",
      "\n",
      "[ 3  6  9 12 15 18]\n",
      "[ 1  5  9 13 17]\n"
     ]
    },
    {
     "data": {
      "text/plain": [
       "array([9])"
      ]
     },
     "execution_count": 120,
     "metadata": {},
     "output_type": "execute_result"
    }
   ],
   "source": [
    "ary = np.arange(1, 21)\n",
    "aryinfo(ary)\n",
    "print()\n",
    "print('3의 배수만 추출 - ')\n",
    "print('4로 나누면 1이 남는  수를 추출 - ')\n",
    "print('3의 배수이고 4로 나누면 1이 남는 수를 추출')\n",
    "print()\n",
    "print(ary[ary % 3 == 0])\n",
    "print(ary[ary % 4 == 1])\n",
    "print(ary[(ary % 3 == 0)&(ary % 4 == 1)])"
   ]
  },
  {
   "cell_type": "markdown",
   "id": "c4d24da0",
   "metadata": {},
   "source": [
    "- reshape() : 배열의 변형"
   ]
  },
  {
   "cell_type": "code",
   "execution_count": 224,
   "id": "b3944f56",
   "metadata": {},
   "outputs": [
    {
     "name": "stdout",
     "output_type": "stream",
     "text": [
      "type      -  <class 'numpy.ndarray'>\n",
      "shaqe     -  (3, 4)\n",
      "dimension -  2\n",
      "dtype     -  int32\n",
      "\n",
      "data - \n",
      "[[ 1  2  3  4]\n",
      " [ 5  6  7  8]\n",
      " [ 9 10 11 12]]\n",
      "\n",
      "[[ 1  4]\n",
      " [ 5  8]\n",
      " [ 9 12]]\n",
      "위 코드를 boolean 인덱싱으로 - \n",
      "[[ 1  3]\n",
      " [ 5  7]\n",
      " [ 9 11]]\n",
      "5추출 5 <class 'numpy.int32'>\n",
      "5추출 [[5]] <class 'numpy.ndarray'>\n",
      "\n",
      "[[2][10]] 추출 -  [[ 2]\n",
      " [10]]\n",
      "[[1 3][9 11]] 추출 -  [[ 1  2  3]\n",
      " [ 9 10 11]]\n",
      "[[ 1  3]\n",
      " [ 9 11]]\n",
      "numpy ix_() 함수\n",
      "[[ 1  3]\n",
      " [ 9 11]]\n"
     ]
    },
    {
     "name": "stderr",
     "output_type": "stream",
     "text": [
      "C:\\Users\\a\\AppData\\Local\\Temp\\ipykernel_3504\\48522379.py:19: FutureWarning: Using a non-tuple sequence for multidimensional indexing is deprecated; use `arr[tuple(seq)]` instead of `arr[seq]`. In the future this will be interpreted as an array index, `arr[np.array(seq)]`, which will result either in an error or a different result.\n",
      "  print(ary[[row_idx]][:,col_idx])\n"
     ]
    },
    {
     "data": {
      "text/plain": [
       "array([[ 1,  3],\n",
       "       [ 9, 11]])"
      ]
     },
     "execution_count": 224,
     "metadata": {},
     "output_type": "execute_result"
    }
   ],
   "source": [
    "ary = np.arange(1,13).reshape(3,4)\n",
    "aryinfo(ary)\n",
    "print()\n",
    "col_idx = [0,3]\n",
    "print(ary[: , col_idx])\n",
    "print('위 코드를 boolean 인덱싱으로 - ')\n",
    "\n",
    "boolean_col_idx = [True , False , True , False]\n",
    "print(ary[ : , boolean_col_idx])\n",
    "print('5추출' , ary[1,0] , type(ary[1,0]))\n",
    "print('5추출' , ary[1:2,0:1] , type(ary[1:2,0:1]))\n",
    "print()\n",
    "print('[[2][10]] 추출 - ' , ary[[0,2] , 1:2])\n",
    "print('[[1 3][9 11]] 추출 - ' , ary[[0,2] , 0:3])\n",
    "\n",
    "row_idx = np.array([0,2])\n",
    "col_idx = np.array([0,2])\n",
    "\n",
    "print(ary[[row_idx]][:,col_idx])\n",
    "\n",
    "print('numpy ix_() 함수')\n",
    "print( ary[np.ix_(row_idx , col_idx)])\n",
    "\n",
    "\n",
    "ary[[0,2]][:,[0,2]]"
   ]
  },
  {
   "cell_type": "markdown",
   "id": "ec9de584",
   "metadata": {},
   "source": [
    "- dtype : b -> boolean , i -> int , u8 -> unsigned(부호없는 정수) , f -> float , U -> UNICODE(문자열)"
   ]
  },
  {
   "cell_type": "code",
   "execution_count": 227,
   "id": "28f6fb9b",
   "metadata": {},
   "outputs": [
    {
     "name": "stdout",
     "output_type": "stream",
     "text": [
      "type      -  <class 'numpy.ndarray'>\n",
      "shaqe     -  (3,)\n",
      "dimension -  1\n",
      "dtype     -  float32\n",
      "\n",
      "data - \n",
      "[1. 2. 3.]\n"
     ]
    }
   ],
   "source": [
    "ary = np.array([1,2,3] , dtype = 'f')\n",
    "aryinfo(ary)"
   ]
  },
  {
   "cell_type": "code",
   "execution_count": 228,
   "id": "5df33b0c",
   "metadata": {},
   "outputs": [
    {
     "name": "stdout",
     "output_type": "stream",
     "text": [
      "type      -  <class 'numpy.ndarray'>\n",
      "shaqe     -  (3,)\n",
      "dimension -  1\n",
      "dtype     -  <U1\n",
      "\n",
      "data - \n",
      "['1' '2' '3']\n"
     ]
    }
   ],
   "source": [
    "ary = np.array([1,2,3] , dtype = 'U')\n",
    "aryinfo(ary)"
   ]
  },
  {
   "cell_type": "code",
   "execution_count": 229,
   "id": "39fddeab",
   "metadata": {},
   "outputs": [
    {
     "name": "stdout",
     "output_type": "stream",
     "text": [
      "type      -  <class 'numpy.ndarray'>\n",
      "shaqe     -  (3,)\n",
      "dimension -  1\n",
      "dtype     -  int32\n",
      "\n",
      "data - \n",
      "[1 2 3]\n"
     ]
    }
   ],
   "source": [
    "ary = np.array([1,2,3] , dtype = 'i')\n",
    "aryinfo(ary)"
   ]
  },
  {
   "cell_type": "code",
   "execution_count": 232,
   "id": "a3185900",
   "metadata": {},
   "outputs": [
    {
     "name": "stdout",
     "output_type": "stream",
     "text": [
      "type      -  <class 'numpy.ndarray'>\n",
      "shaqe     -  (3,)\n",
      "dimension -  1\n",
      "dtype     -  uint64\n",
      "\n",
      "data - \n",
      "[1 2 3]\n"
     ]
    }
   ],
   "source": [
    "ary = np.array([1,2,3] , dtype = 'u8')\n",
    "aryinfo(ary)"
   ]
  },
  {
   "cell_type": "code",
   "execution_count": 233,
   "id": "c0d642e8",
   "metadata": {},
   "outputs": [
    {
     "name": "stdout",
     "output_type": "stream",
     "text": [
      "type      -  <class 'numpy.ndarray'>\n",
      "shaqe     -  (3,)\n",
      "dimension -  1\n",
      "dtype     -  uint64\n",
      "\n",
      "data - \n",
      "[18446744073709551615 18446744073709551614                    3]\n"
     ]
    }
   ],
   "source": [
    "ary = np.array([-1,-2,3] , dtype = 'u8')\n",
    "aryinfo(ary)"
   ]
  },
  {
   "cell_type": "code",
   "execution_count": 235,
   "id": "a170422f",
   "metadata": {},
   "outputs": [
    {
     "name": "stdout",
     "output_type": "stream",
     "text": [
      "type      -  <class 'numpy.ndarray'>\n",
      "shaqe     -  (3,)\n",
      "dimension -  1\n",
      "dtype     -  int64\n",
      "\n",
      "data - \n",
      "[1 2 3]\n"
     ]
    }
   ],
   "source": [
    "ary = np.array([1,2,3] , dtype = 'i8')\n",
    "aryinfo(ary)"
   ]
  },
  {
   "cell_type": "markdown",
   "id": "3a961b1f",
   "metadata": {},
   "source": [
    "- inf(infinity) , nan (not a number)"
   ]
  },
  {
   "cell_type": "code",
   "execution_count": 239,
   "id": "05a57595",
   "metadata": {},
   "outputs": [
    {
     "name": "stdout",
     "output_type": "stream",
     "text": [
      "infinity -inf\n",
      "infinity [inf nan]\n"
     ]
    },
    {
     "name": "stderr",
     "output_type": "stream",
     "text": [
      "C:\\Users\\a\\AppData\\Local\\Temp\\ipykernel_3504\\656805303.py:1: RuntimeWarning: divide by zero encountered in log\n",
      "  print('infinity' , np.log(0))\n",
      "C:\\Users\\a\\AppData\\Local\\Temp\\ipykernel_3504\\656805303.py:2: RuntimeWarning: divide by zero encountered in true_divide\n",
      "  print('infinity' , np.array([1,0]) / np.array([0,0]))\n",
      "C:\\Users\\a\\AppData\\Local\\Temp\\ipykernel_3504\\656805303.py:2: RuntimeWarning: invalid value encountered in true_divide\n",
      "  print('infinity' , np.array([1,0]) / np.array([0,0]))\n"
     ]
    }
   ],
   "source": [
    "print('infinity' , np.log(0))\n",
    "print('infinity' , np.array([1,0]) / np.array([0,0]))"
   ]
  },
  {
   "cell_type": "markdown",
   "id": "86c87e76",
   "metadata": {},
   "source": [
    "- 배열 생성 : array() , arange() , zeros() , ones() , zeros_like() , ones_like() , empty() , linspace() , logspace()"
   ]
  },
  {
   "cell_type": "code",
   "execution_count": 240,
   "id": "8f2eb5fc",
   "metadata": {},
   "outputs": [
    {
     "name": "stdout",
     "output_type": "stream",
     "text": [
      "type      -  <class 'numpy.ndarray'>\n",
      "shaqe     -  (5,)\n",
      "dimension -  1\n",
      "dtype     -  float64\n",
      "\n",
      "data - \n",
      "[0. 0. 0. 0. 0.]\n"
     ]
    }
   ],
   "source": [
    "ary = np.zeros(5)\n",
    "aryinfo(ary)"
   ]
  },
  {
   "cell_type": "code",
   "execution_count": 241,
   "id": "e831e54b",
   "metadata": {},
   "outputs": [
    {
     "name": "stdout",
     "output_type": "stream",
     "text": [
      "type      -  <class 'numpy.ndarray'>\n",
      "shaqe     -  (5,)\n",
      "dimension -  1\n",
      "dtype     -  float64\n",
      "\n",
      "data - \n",
      "[1. 1. 1. 1. 1.]\n"
     ]
    }
   ],
   "source": [
    "ary = np.ones(5)\n",
    "aryinfo(ary)"
   ]
  },
  {
   "cell_type": "code",
   "execution_count": 244,
   "id": "2f4af45c",
   "metadata": {},
   "outputs": [
    {
     "name": "stdout",
     "output_type": "stream",
     "text": [
      "type      -  <class 'numpy.ndarray'>\n",
      "shape     -  (3, 5, 2)\n",
      "dimension -  3\n",
      "dtype     -  int32\n",
      "\n",
      "data - \n",
      "[[[0 0]\n",
      "  [0 0]\n",
      "  [0 0]\n",
      "  [0 0]\n",
      "  [0 0]]\n",
      "\n",
      " [[0 0]\n",
      "  [0 0]\n",
      "  [0 0]\n",
      "  [0 0]\n",
      "  [0 0]]\n",
      "\n",
      " [[0 0]\n",
      "  [0 0]\n",
      "  [0 0]\n",
      "  [0 0]\n",
      "  [0 0]]]\n"
     ]
    }
   ],
   "source": [
    "ary = np.zeros((3,5,2) , dtype = 'i')\n",
    "aryinfo(ary)"
   ]
  },
  {
   "cell_type": "code",
   "execution_count": 246,
   "id": "2674ddcc",
   "metadata": {},
   "outputs": [
    {
     "name": "stdout",
     "output_type": "stream",
     "text": [
      "type      -  <class 'numpy.ndarray'>\n",
      "shape     -  (3, 5, 2)\n",
      "dimension -  3\n",
      "dtype     -  int32\n",
      "\n",
      "data - \n",
      "[[[0 0]\n",
      "  [0 0]\n",
      "  [0 0]\n",
      "  [0 0]\n",
      "  [0 0]]\n",
      "\n",
      " [[0 0]\n",
      "  [0 0]\n",
      "  [0 0]\n",
      "  [0 0]\n",
      "  [0 0]]\n",
      "\n",
      " [[0 0]\n",
      "  [0 0]\n",
      "  [0 0]\n",
      "  [0 0]\n",
      "  [0 0]]]\n"
     ]
    }
   ],
   "source": [
    "ary_copy = np.zeros_like(ary)\n",
    "aryinfo(ary_copy)"
   ]
  },
  {
   "cell_type": "code",
   "execution_count": 252,
   "id": "2d331a4e",
   "metadata": {},
   "outputs": [
    {
     "name": "stdout",
     "output_type": "stream",
     "text": [
      "type      -  <class 'numpy.ndarray'>\n",
      "shape     -  (4, 3)\n",
      "dimension -  2\n",
      "dtype     -  float64\n",
      "\n",
      "data - \n",
      "[[4.24399158e-314 8.48798317e-314 1.27319747e-313]\n",
      " [1.69759663e-313 2.12199579e-313 2.54639495e-313]\n",
      " [4.24399158e-314 8.48798317e-314 1.27319747e-313]\n",
      " [1.69759663e-313 2.12199579e-313 2.54639495e-313]]\n"
     ]
    }
   ],
   "source": [
    "ary = np.empty((4 , 3) , dtype = 'f8')\n",
    "aryinfo(ary)\n",
    "\n",
    "\n",
    "# 배열 무작정 생성시 쓰레기 값이 들어간다.\n"
   ]
  },
  {
   "cell_type": "code",
   "execution_count": 254,
   "id": "945b3f69",
   "metadata": {},
   "outputs": [
    {
     "data": {
      "text/plain": [
       "array([ 3,  5,  7,  9, 11, 13, 15, 17, 19])"
      ]
     },
     "execution_count": 254,
     "metadata": {},
     "output_type": "execute_result"
    }
   ],
   "source": [
    "ary = np.arange(3, 21 , 2)\n",
    "ary"
   ]
  },
  {
   "cell_type": "code",
   "execution_count": 257,
   "id": "80f39ad8",
   "metadata": {},
   "outputs": [
    {
     "data": {
      "text/plain": [
       "array([  0.,  25.,  50.,  75., 100.])"
      ]
     },
     "execution_count": 257,
     "metadata": {},
     "output_type": "execute_result"
    }
   ],
   "source": [
    "np.linspace(0 , 100 , 5)"
   ]
  },
  {
   "cell_type": "code",
   "execution_count": 258,
   "id": "080a46a1",
   "metadata": {},
   "outputs": [
    {
     "data": {
      "text/plain": [
       "array([ 1.25892541,  1.58489319,  1.99526231,  2.51188643,  3.16227766,\n",
       "        3.98107171,  5.01187234,  6.30957344,  7.94328235, 10.        ])"
      ]
     },
     "execution_count": 258,
     "metadata": {},
     "output_type": "execute_result"
    }
   ],
   "source": [
    "np.logspace(0.1 , 1 , 10)"
   ]
  },
  {
   "cell_type": "markdown",
   "id": "805b97cd",
   "metadata": {},
   "source": [
    "- transpose matrix (전치행렬)\n",
    "- T"
   ]
  },
  {
   "cell_type": "code",
   "execution_count": 268,
   "id": "eb67df82",
   "metadata": {},
   "outputs": [
    {
     "name": "stdout",
     "output_type": "stream",
     "text": [
      "type      -  <class 'numpy.ndarray'>\n",
      "shape     -  (2, 3)\n",
      "dimension -  2\n",
      "dtype     -  int32\n",
      "\n",
      "data - \n",
      "[[1 2 3]\n",
      " [4 5 6]]\n",
      "type      -  <class 'numpy.ndarray'>\n",
      "shape     -  (3, 2)\n",
      "dimension -  2\n",
      "dtype     -  int32\n",
      "\n",
      "data - \n",
      "[[1 4]\n",
      " [2 5]\n",
      " [3 6]]\n"
     ]
    }
   ],
   "source": [
    "ary = np.arange(1, 7).reshape(2,3)\n",
    "aryinfo(ary)\n",
    "\n",
    "ary_transpose = ary.T\n",
    "aryinfo(ary_transpose)"
   ]
  },
  {
   "cell_type": "code",
   "execution_count": 282,
   "id": "37b818c1",
   "metadata": {},
   "outputs": [
    {
     "name": "stdout",
     "output_type": "stream",
     "text": [
      "1차원 배열에 대한 전치행렬이 필요한 경우가 발생\n",
      "type      -  <class 'numpy.ndarray'>\n",
      "shape     -  (6,)\n",
      "dimension -  1\n",
      "dtype     -  int32\n",
      "\n",
      "data - \n",
      "[1 2 3 4 5 6]\n",
      "type      -  <class 'numpy.ndarray'>\n",
      "shape     -  (6, 1)\n",
      "dimension -  2\n",
      "dtype     -  int32\n",
      "\n",
      "data - \n",
      "[[1]\n",
      " [2]\n",
      " [3]\n",
      " [4]\n",
      " [5]\n",
      " [6]]\n"
     ]
    }
   ],
   "source": [
    "print('1차원 배열에 대한 전치행렬이 필요한 경우가 발생')\n",
    "ary = np.arange(1 , 7)\n",
    "aryinfo(ary)\n",
    "ary_transpose = ary.reshape(1 , 6).T\n",
    "aryinfo(ary_transpose)\n"
   ]
  },
  {
   "cell_type": "markdown",
   "id": "8a81c670",
   "metadata": {},
   "source": [
    "- 다차원 배열을 1차원으로 만들어야한다면?\n",
    "- flatten()\n"
   ]
  },
  {
   "cell_type": "code",
   "execution_count": 283,
   "id": "3daaa351",
   "metadata": {},
   "outputs": [
    {
     "name": "stdout",
     "output_type": "stream",
     "text": [
      "type      -  <class 'numpy.ndarray'>\n",
      "shape     -  (6,)\n",
      "dimension -  1\n",
      "dtype     -  int32\n",
      "\n",
      "data - \n",
      "[1 2 3 4 5 6]\n"
     ]
    }
   ],
   "source": [
    "aryinfo(ary_transpose.flatten())"
   ]
  },
  {
   "cell_type": "markdown",
   "id": "f77d67e3",
   "metadata": {},
   "source": [
    "- 배열 사용시 주의점(차원에 대한 주의가 필요함!!)"
   ]
  },
  {
   "cell_type": "code",
   "execution_count": 296,
   "id": "096d8dad",
   "metadata": {},
   "outputs": [
    {
     "name": "stdout",
     "output_type": "stream",
     "text": [
      "type      -  <class 'numpy.ndarray'>\n",
      "shape     -  (10,)\n",
      "dimension -  1\n",
      "dtype     -  int32\n",
      "\n",
      "data - \n",
      "[0 1 2 3 4 5 6 7 8 9]\n",
      "reshape -  [[0 1 2 3 4 5 6 7 8 9]]\n",
      "reshape -  [[0]\n",
      " [1]\n",
      " [2]\n",
      " [3]\n",
      " [4]\n",
      " [5]\n",
      " [6]\n",
      " [7]\n",
      " [8]\n",
      " [9]]\n",
      "\n",
      "차원의 변경이 아닌 차원 증가를 위해서는 - newaxis\n",
      "[[0 1 2 3 4 5 6 7 8 9]]\n",
      "[[0]\n",
      " [1]\n",
      " [2]\n",
      " [3]\n",
      " [4]\n",
      " [5]\n",
      " [6]\n",
      " [7]\n",
      " [8]\n",
      " [9]]\n"
     ]
    }
   ],
   "source": [
    "ary = np.arange(10)\n",
    "aryinfo(ary)\n",
    "print('reshape - ' , ary.reshape(1 , 10))\n",
    "print('reshape - ' , ary.reshape(10 , 1))\n",
    "print()\n",
    "print('차원의 변경이 아닌 차원 증가를 위해서는 - newaxis')\n",
    "print(ary[np.newaxis , :])\n",
    "print(ary[ : , np.newaxis])"
   ]
  },
  {
   "cell_type": "markdown",
   "id": "bdad3c17",
   "metadata": {},
   "source": [
    "- ndarray(배열) 모든 원소에 대해서 순차적으로 접근해야하는 경우\n",
    "- iternext() , finished "
   ]
  },
  {
   "cell_type": "code",
   "execution_count": 298,
   "id": "94b7860a",
   "metadata": {},
   "outputs": [
    {
     "data": {
      "text/plain": [
       "array([0, 1, 2, 3, 4, 5, 6, 7, 8, 9])"
      ]
     },
     "execution_count": 298,
     "metadata": {},
     "output_type": "execute_result"
    }
   ],
   "source": [
    "ary = np.arange(10)\n",
    "ary"
   ]
  },
  {
   "cell_type": "code",
   "execution_count": 310,
   "id": "ff6d2a61",
   "metadata": {},
   "outputs": [
    {
     "name": "stdout",
     "output_type": "stream",
     "text": [
      "0\t1\t2\t3\t4\t5\t6\t7\t8\t9\t\n",
      "\n",
      "0\t1\t2\t3\t4\t5\t6\t7\t8\t9\t"
     ]
    }
   ],
   "source": [
    "for tmp in ary :\n",
    "    print(tmp , end = \"\\t\")\n",
    "    \n",
    "print()\n",
    "print()\n",
    "\n",
    "for idx in range(len(ary)) :\n",
    "    print(idx , end = \"\\t\")"
   ]
  },
  {
   "cell_type": "markdown",
   "id": "6bca3039",
   "metadata": {},
   "source": [
    "#### 대용량 데이터를 다룰때 편하다."
   ]
  },
  {
   "cell_type": "code",
   "execution_count": 309,
   "id": "3a66cdbc",
   "metadata": {},
   "outputs": [
    {
     "name": "stdout",
     "output_type": "stream",
     "text": [
      "1차원 ndarray 에 대한 순차 접근 - \n",
      "idx -  0 0\tidx -  1 1\tidx -  2 2\tidx -  3 3\tidx -  4 4\tidx -  5 5\tidx -  6 6\tidx -  7 7\tidx -  8 8\tidx -  9 9\t"
     ]
    }
   ],
   "source": [
    "print('1차원 ndarray 에 대한 순차 접근 - ')\n",
    "iter = np.nditer(ary , flags = ['c_index'])\n",
    "while not iter.finished : \n",
    "    idx = iter.index\n",
    "    print('idx - ' , idx , ary[idx] , end = '\\t')\n",
    "    iter.iternext()"
   ]
  },
  {
   "cell_type": "code",
   "execution_count": 358,
   "id": "58d2846b",
   "metadata": {},
   "outputs": [
    {
     "name": "stdout",
     "output_type": "stream",
     "text": [
      "2차원 ndarray 대한 iterator - \n"
     ]
    },
    {
     "data": {
      "text/plain": [
       "array([[ 1,  2,  3,  4,  5],\n",
       "       [ 6,  7,  8,  9, 10]])"
      ]
     },
     "execution_count": 358,
     "metadata": {},
     "output_type": "execute_result"
    }
   ],
   "source": [
    "print('2차원 ndarray 대한 iterator - ')\n",
    "\n",
    "ary = ary.reshape(2,5)+1\n",
    "ary"
   ]
  },
  {
   "cell_type": "code",
   "execution_count": 323,
   "id": "71aa1355",
   "metadata": {},
   "outputs": [
    {
     "name": "stdout",
     "output_type": "stream",
     "text": [
      "0\t1\t2\t3\t4\t5\t6\t7\t8\t9\t"
     ]
    }
   ],
   "source": [
    "for i in range(len(ary)) :\n",
    "    for f in ary[i] :\n",
    "        print(f , end = '\\t')"
   ]
  },
  {
   "cell_type": "code",
   "execution_count": 335,
   "id": "a85681b3",
   "metadata": {},
   "outputs": [
    {
     "name": "stdout",
     "output_type": "stream",
     "text": [
      "idx -  0\tidx -  1\tidx -  2\tidx -  3\tidx -  4\tidx -  5\tidx -  6\tidx -  7\tidx -  8\tidx -  9\t"
     ]
    }
   ],
   "source": [
    "iter = np.nditer(ary , flags = ['c_index'])\n",
    "while not iter.finished :\n",
    "    idx = iter.index\n",
    "    print('idx - ' , idx , end = '\\t')\n",
    "    iter.iternext()"
   ]
  },
  {
   "cell_type": "code",
   "execution_count": 360,
   "id": "67d61287",
   "metadata": {},
   "outputs": [
    {
     "name": "stdout",
     "output_type": "stream",
     "text": [
      "(2, 5)\n",
      "2\n",
      "5\n",
      "1\t2\t3\t4\t5\t\n",
      "6\t7\t8\t9\t10\t\n"
     ]
    }
   ],
   "source": [
    "print(ary.shape)\n",
    "print(ary.shape[0])\n",
    "print(ary.shape[1])\n",
    "for row in range(ary.shape[0]) :\n",
    "    for col in range(ary.shape[1]) :\n",
    "        print(ary[row][col] , end = \"\\t\")\n",
    "    print()"
   ]
  },
  {
   "cell_type": "code",
   "execution_count": 398,
   "id": "1d9494fc",
   "metadata": {},
   "outputs": [
    {
     "name": "stdout",
     "output_type": "stream",
     "text": [
      "nditer - \n",
      "1\t2\t3\t4\t5\t\n",
      "6\t7\t8\t9\t10\t\n",
      "1\t2\t3\t4\t5\t\n",
      "6\t7\t8\t9\t10\t"
     ]
    }
   ],
   "source": [
    "print('nditer - ')\n",
    "iter = np.nditer(ary , flags = ['multi_index'])\n",
    "while not iter.finished :\n",
    "    idx = iter.multi_index\n",
    "    if idx[1] == 4 :\n",
    "        print(ary[idx] , end = '\\t')\n",
    "        print()\n",
    "    else :\n",
    "        print(ary[idx] , end = '\\t')\n",
    "    iter.iternext()\n",
    "    \n",
    "cnt = 0\n",
    "iter = np.nditer(ary , flags = ['multi_index'])\n",
    "while not iter.finished :\n",
    "    idx = iter.multi_index\n",
    "    if idx[0] == 0 :\n",
    "        print(ary[idx] , end = '\\t')\n",
    "        cnt = cnt + 1\n",
    "        if cnt % 5 == 0 :\n",
    "            print()\n",
    "    else :\n",
    "        print(ary[idx] , end = '\\t')\n",
    "    iter.iternext()\n",
    "    "
   ]
  },
  {
   "cell_type": "code",
   "execution_count": 373,
   "id": "d294614c",
   "metadata": {},
   "outputs": [
    {
     "data": {
      "text/plain": [
       "(1, 4)"
      ]
     },
     "execution_count": 373,
     "metadata": {},
     "output_type": "execute_result"
    }
   ],
   "source": [
    "tuple(idx)"
   ]
  },
  {
   "cell_type": "code",
   "execution_count": 389,
   "id": "1f3e13a3",
   "metadata": {},
   "outputs": [
    {
     "data": {
      "text/plain": [
       "(1, 4)"
      ]
     },
     "execution_count": 389,
     "metadata": {},
     "output_type": "execute_result"
    }
   ],
   "source": [
    "idx"
   ]
  },
  {
   "cell_type": "code",
   "execution_count": null,
   "id": "3e146693",
   "metadata": {},
   "outputs": [],
   "source": []
  },
  {
   "cell_type": "code",
   "execution_count": null,
   "id": "8783c1fc",
   "metadata": {},
   "outputs": [],
   "source": []
  },
  {
   "cell_type": "code",
   "execution_count": null,
   "id": "9d6ab190",
   "metadata": {},
   "outputs": [],
   "source": []
  },
  {
   "cell_type": "code",
   "execution_count": null,
   "id": "11fb6114",
   "metadata": {},
   "outputs": [],
   "source": []
  },
  {
   "cell_type": "code",
   "execution_count": null,
   "id": "d0c84965",
   "metadata": {},
   "outputs": [],
   "source": []
  },
  {
   "cell_type": "code",
   "execution_count": null,
   "id": "1a67654c",
   "metadata": {},
   "outputs": [],
   "source": []
  },
  {
   "cell_type": "code",
   "execution_count": null,
   "id": "0a487d54",
   "metadata": {},
   "outputs": [],
   "source": []
  },
  {
   "cell_type": "code",
   "execution_count": null,
   "id": "e2fd8aec",
   "metadata": {},
   "outputs": [],
   "source": []
  },
  {
   "cell_type": "code",
   "execution_count": null,
   "id": "eb9c5c63",
   "metadata": {},
   "outputs": [],
   "source": []
  },
  {
   "cell_type": "code",
   "execution_count": null,
   "id": "743f269e",
   "metadata": {},
   "outputs": [],
   "source": []
  },
  {
   "cell_type": "code",
   "execution_count": null,
   "id": "c98ebaa3",
   "metadata": {},
   "outputs": [],
   "source": []
  },
  {
   "cell_type": "code",
   "execution_count": null,
   "id": "0ec2979d",
   "metadata": {},
   "outputs": [],
   "source": []
  },
  {
   "cell_type": "code",
   "execution_count": null,
   "id": "364d36c2",
   "metadata": {},
   "outputs": [],
   "source": []
  },
  {
   "cell_type": "code",
   "execution_count": null,
   "id": "92bf9805",
   "metadata": {},
   "outputs": [],
   "source": []
  }
 ],
 "metadata": {
  "kernelspec": {
   "display_name": "Python 3 (ipykernel)",
   "language": "python",
   "name": "python3"
  },
  "language_info": {
   "codemirror_mode": {
    "name": "ipython",
    "version": 3
   },
   "file_extension": ".py",
   "mimetype": "text/x-python",
   "name": "python",
   "nbconvert_exporter": "python",
   "pygments_lexer": "ipython3",
   "version": "3.9.13"
  }
 },
 "nbformat": 4,
 "nbformat_minor": 5
}
