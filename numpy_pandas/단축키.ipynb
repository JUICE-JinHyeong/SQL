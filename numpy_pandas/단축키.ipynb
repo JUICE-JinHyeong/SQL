{
 "cells": [
  {
   "cell_type": "markdown",
   "id": "b096fa9a",
   "metadata": {},
   "source": [
    "a : 위에 새로운 셀 추가\n",
    "b : 아래에 새로운 셀 추가\n",
    "\n",
    "\n",
    "c : 셀 복사하기\n",
    "v : 셀 붙여넣기\n",
    "x : 셀 잘라내기\n",
    "dd : 셀 삭제하기\n",
    "\n",
    "p : 셀 아래에 붙여넣기\n",
    "\n",
    " \n",
    "\n",
    "o : 실행결과 열기/닫기\n",
    "\n",
    "m : Markdown으로 변경\n",
    "\n",
    "y : Code로 변경\n",
    "\n",
    "Shift + m : 선택 셀과 아래 셀과 합치기\n",
    "\n",
    "Ctrl + s 또는 s  : 파일 저장\n",
    "\n",
    "Enter  : 선택 셀의 코드 입력 모드로 돌아가기"
   ]
  },
  {
   "cell_type": "markdown",
   "id": "189f5b64",
   "metadata": {},
   "source": [
    "Ctrl + Enter : 입력 셀 실행 \n",
    "Shift + Enter : 입력 셀 실행 후 아래 셀로 이동 (없으면 새로운 셀 추가)\n",
    "Alt + Enter : 입력영역 실행 후 아래 새로운 영역 추가\n",
    "\n",
    " \n",
    "\n",
    "Ctrl + a : 선택 셀의 코드 전체 선택\n",
    "\n",
    "Ctrl + z : 선택 셀 내 실행 취소\n",
    "\n",
    "Ctrl + y : 선택 셀 내 다시 실행\n",
    "\n",
    "Ctrl + / : 커서 위치 라인 주석처리\n",
    "\n",
    " \n",
    "\n",
    "Shitf + Ctrl + - : 커서 위치에서 셀 둘로 나누기"
   ]
  },
  {
   "cell_type": "markdown",
   "id": "54b84aeb",
   "metadata": {},
   "source": [
    "### read_excel\n",
    "\n",
    "- sheet_name: 기본값 0. 시트의 인덱스 번호(int) 또는 시트의 이름(문자열)이 들어감. 리스트 값을 넣을 수 있음. None 설정 시 모든 시트 선택\n",
    "- header: 어느 행(row)에 열(column)의 이름이 있는지 지정. 기본 값은 0으로 첫 번째 줄. None 설정 시 헤더가 없는 것으로 설정되어 첫 번째 줄부터 바로 데이터로 받아옴\n",
    "- names: header가 None일 경우 열(column)의 이름을 지정해줌\n",
    "- index_col: 각 행(row)의 이름이 위치한 열(column)을 지정. 기본값은 None\n",
    "- usecols: 기본값은 None으로 모든 열을 다 불러옴. “A:E”, “A,C,F:H” 와 같이 원하는 열을 선택해 불러올 수 있음\n",
    "- dtype: 각 열의 데이터 타입을 지정 가능\n",
    "- skiprows: 엑셀을 읽을 때 첫줄(0)으로 부터 몇 줄을 건너뛸 지 지정\n",
    "- nrow: 몇 줄을 읽을 지 지정\n",
    "- na_values: 값이 없는 경우 어떤 str 등으로 넣을 지 지정\n",
    "- thousands: 돈과 같이 천단위로 쉼표(,)로 구분된 문자를 변환하기 위해 천단위의 구분자가 무엇인지 지정"
   ]
  },
  {
   "cell_type": "code",
   "execution_count": null,
   "id": "59640c59",
   "metadata": {},
   "outputs": [],
   "source": []
  }
 ],
 "metadata": {
  "kernelspec": {
   "display_name": "Python 3 (ipykernel)",
   "language": "python",
   "name": "python3"
  },
  "language_info": {
   "codemirror_mode": {
    "name": "ipython",
    "version": 3
   },
   "file_extension": ".py",
   "mimetype": "text/x-python",
   "name": "python",
   "nbconvert_exporter": "python",
   "pygments_lexer": "ipython3",
   "version": "3.9.13"
  }
 },
 "nbformat": 4,
 "nbformat_minor": 5
}
