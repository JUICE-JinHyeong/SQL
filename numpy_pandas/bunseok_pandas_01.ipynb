{
 "cells": [
  {
   "cell_type": "markdown",
   "id": "2a048d38",
   "metadata": {},
   "source": [
    "#### 학습목표\n",
    "- 분석하려는 데이터는 대부분 .csv 파일을 테이블 형식으로 처리할 수 있는 타입\n",
    "- 제공되는 2 type : Series , DataFrame\n",
    "- Series : index + value\n"
   ]
  },
  {
   "cell_type": "code",
   "execution_count": 4,
   "id": "cd3ae04d",
   "metadata": {},
   "outputs": [
    {
     "name": "stdout",
     "output_type": "stream",
     "text": [
      "numpy version -  1.21.5\n",
      "pandas version -  1.4.4\n"
     ]
    }
   ],
   "source": [
    "import numpy as np\n",
    "import pandas as pd\n",
    "import matplotlib.pyplot as plt\n",
    "import json\n",
    "\n",
    "print('numpy version - ' , np.__version__)\n",
    "print('pandas version - ' , pd.__version__)"
   ]
  },
  {
   "cell_type": "code",
   "execution_count": 6,
   "id": "16a7bd08",
   "metadata": {},
   "outputs": [],
   "source": [
    "def seriesinfo(s) :\n",
    "    print('index - ' , s.index , type(s.index))\n",
    "    print('value - ' , s.values , type(s.values))\n",
    "    print()\n",
    "    print('data - ')\n",
    "    print(s)\n",
    "    "
   ]
  },
  {
   "cell_type": "code",
   "execution_count": 10,
   "id": "7acc9ab1",
   "metadata": {},
   "outputs": [
    {
     "name": "stdout",
     "output_type": "stream",
     "text": [
      "index -  RangeIndex(start=0, stop=5, step=1) <class 'pandas.core.indexes.range.RangeIndex'>\n",
      "value -  [1. 2. 3. 4. 5.] <class 'numpy.ndarray'>\n",
      "\n",
      "data - \n",
      "0    1.0\n",
      "1    2.0\n",
      "2    3.0\n",
      "3    4.0\n",
      "4    5.0\n",
      "dtype: float64\n"
     ]
    }
   ],
   "source": [
    "s = pd.Series([1,2,3,4,5] , dtype = float)\n",
    "seriesinfo(s)"
   ]
  },
  {
   "cell_type": "code",
   "execution_count": 11,
   "id": "806f6f4e",
   "metadata": {},
   "outputs": [
    {
     "name": "stdout",
     "output_type": "stream",
     "text": [
      "index -  Index(['a', 'b', 'c', 'd', 'e'], dtype='object') <class 'pandas.core.indexes.base.Index'>\n",
      "value -  [1. 2. 3. 4. 5.] <class 'numpy.ndarray'>\n",
      "\n",
      "data - \n",
      "a    1.0\n",
      "b    2.0\n",
      "c    3.0\n",
      "d    4.0\n",
      "e    5.0\n",
      "dtype: float64\n"
     ]
    }
   ],
   "source": [
    "s = pd.Series({'a' : 1,'b' : 2, 'c' : 3, 'd' : 4, 'e' : 5} , dtype = float)\n",
    "seriesinfo(s)"
   ]
  },
  {
   "cell_type": "markdown",
   "id": "7bb4622f",
   "metadata": {},
   "source": [
    "- 인덱스의 라벨은 정수 , 문자 , 날짜 , 시간"
   ]
  },
  {
   "cell_type": "code",
   "execution_count": 15,
   "id": "6e6f7737",
   "metadata": {},
   "outputs": [
    {
     "name": "stdout",
     "output_type": "stream",
     "text": [
      "index -  Index(['강남', '서초', '방배', '동작', '신도림'], dtype='object') <class 'pandas.core.indexes.base.Index'>\n",
      "value -  [1 2 3 4 5] <class 'numpy.ndarray'>\n",
      "\n",
      "data - \n",
      "강남     1\n",
      "서초     2\n",
      "방배     3\n",
      "동작     4\n",
      "신도림    5\n",
      "dtype: int64\n"
     ]
    }
   ],
   "source": [
    "s = pd.Series([1,2,3,4,5] , index = ['강남' , '서초' , '방배' , '동작' , '신도림']) \n",
    "seriesinfo(s)"
   ]
  },
  {
   "cell_type": "markdown",
   "id": "91d9841d",
   "metadata": {},
   "source": [
    "- name :시리즈 데이터에 이름을 부여해주는 역할\n",
    "- index.name : 시리즈 인덱스에 이름을 부여해주는 역할\n"
   ]
  },
  {
   "cell_type": "code",
   "execution_count": 19,
   "id": "08be372c",
   "metadata": {},
   "outputs": [
    {
     "name": "stdout",
     "output_type": "stream",
     "text": [
      "index -  Index(['강남', '서초', '방배', '동작', '신도림'], dtype='object', name='구 구별') <class 'pandas.core.indexes.base.Index'>\n",
      "value -  [1 2 3 4 5] <class 'numpy.ndarray'>\n",
      "\n",
      "data - \n",
      "구 구별\n",
      "강남     1\n",
      "서초     2\n",
      "방배     3\n",
      "동작     4\n",
      "신도림    5\n",
      "Name: 데이터의 이름 부여, dtype: int64\n"
     ]
    }
   ],
   "source": [
    "s.name = '데이터의 이름 부여'\n",
    "s.index.name = '구 구별'\n",
    "seriesinfo(s)"
   ]
  },
  {
   "cell_type": "code",
   "execution_count": 22,
   "id": "c7198897",
   "metadata": {},
   "outputs": [
    {
     "name": "stdout",
     "output_type": "stream",
     "text": [
      "index -  Index(['이름', '날짜', '성별', '결혼'], dtype='object') <class 'pandas.core.indexes.base.Index'>\n",
      "value -  ['섭섭해' '2022-11-10' '남자' True] <class 'numpy.ndarray'>\n",
      "\n",
      "data - \n",
      "이름           섭섭해\n",
      "날짜    2022-11-10\n",
      "성별            남자\n",
      "결혼          True\n",
      "dtype: object\n"
     ]
    }
   ],
   "source": [
    "tmp_data = ('섭섭해' , '2022-11-10' , '남자' , True)\n",
    "s = pd.Series(tmp_data , dtype = object , index = ['이름' , '날짜' , '성별' , '결혼'])\n",
    "\n",
    "seriesinfo(s)"
   ]
  },
  {
   "cell_type": "markdown",
   "id": "171aec31",
   "metadata": {},
   "source": [
    "- series 에서 원소를 선택하기 위해선?\n",
    "- 정수형 위치 인덱스 또는 인덱스 이름을 활용해야 한다\n",
    "- 여러 원소를 선택하려면 리스트를 활용하면 된다.\n"
   ]
  },
  {
   "cell_type": "code",
   "execution_count": 32,
   "id": "7fc87bd1",
   "metadata": {},
   "outputs": [
    {
     "name": "stdout",
     "output_type": "stream",
     "text": [
      "정수 인덱싱 -  섭섭해 <class 'str'>\n",
      "인덱스 이름 -  섭섭해 <class 'str'>\n",
      "\n",
      "이름           섭섭해\n",
      "날짜    2022-11-10\n",
      "dtype: object\n",
      "이름           섭섭해\n",
      "날짜    2022-11-10\n",
      "dtype: object\n",
      "\n",
      "범위지정 - slicing\n",
      "이름           섭섭해\n",
      "날짜    2022-11-10\n",
      "성별            남자\n",
      "dtype: object\n",
      "이름           섭섭해\n",
      "날짜    2022-11-10\n",
      "성별            남자\n",
      "dtype: object\n"
     ]
    }
   ],
   "source": [
    "print('정수 인덱싱 - ' , s[0] , type(s[0]))\n",
    "print('인덱스 이름 - ' , s['이름'] , type(s['이름']))\n",
    "print()\n",
    "print(s[[0,1]])\n",
    "print(s[['이름' , '날짜']])\n",
    "print()\n",
    "print('범위지정 - slicing')\n",
    "print(s['이름' : '성별'])\n",
    "print(s[0:3])"
   ]
  },
  {
   "cell_type": "code",
   "execution_count": 37,
   "id": "3271e974",
   "metadata": {},
   "outputs": [
    {
     "name": "stdout",
     "output_type": "stream",
     "text": [
      "idx : 이름 , value : 섭섭해\n",
      "idx : 날짜 , value : 2022-11-10\n",
      "idx : 성별 , value : 남자\n",
      "idx : 결혼 , value : True\n",
      "\n",
      "idx : 이름\n",
      "idx : 날짜\n",
      "idx : 성별\n",
      "idx : 결혼\n",
      "\n",
      "value : 섭섭해\n",
      "value : 2022-11-10\n",
      "value : 남자\n",
      "value : True\n"
     ]
    }
   ],
   "source": [
    "for idx , value in s.items() :\n",
    "    print('idx : {} , value : {}'.format(idx,value))\n",
    "print()\n",
    "for idx in s.keys() :\n",
    "    print('idx : {}'.format(idx))\n",
    "print()\n",
    "for value in s.values :\n",
    "    print('value : {}'.format(value))"
   ]
  },
  {
   "cell_type": "code",
   "execution_count": 39,
   "id": "e2ff58a7",
   "metadata": {},
   "outputs": [
    {
     "data": {
      "text/plain": [
       "Index(['이름', '날짜', '성별', '결혼'], dtype='object')"
      ]
     },
     "execution_count": 39,
     "metadata": {},
     "output_type": "execute_result"
    }
   ],
   "source": [
    "s.index"
   ]
  },
  {
   "cell_type": "code",
   "execution_count": 41,
   "id": "bdda1ae6",
   "metadata": {},
   "outputs": [
    {
     "data": {
      "text/plain": [
       "array(['섭섭해', '2022-11-10', '남자', True], dtype=object)"
      ]
     },
     "execution_count": 41,
     "metadata": {},
     "output_type": "execute_result"
    }
   ],
   "source": [
    "s.values"
   ]
  },
  {
   "cell_type": "code",
   "execution_count": 42,
   "id": "42c0eecb",
   "metadata": {},
   "outputs": [
    {
     "name": "stdout",
     "output_type": "stream",
     "text": [
      "index -  RangeIndex(start=0, stop=11, step=1) <class 'pandas.core.indexes.range.RangeIndex'>\n",
      "value -  [10 11 12 13 14 15 16 17 18 19 20] <class 'numpy.ndarray'>\n",
      "\n",
      "data - \n",
      "0     10\n",
      "1     11\n",
      "2     12\n",
      "3     13\n",
      "4     14\n",
      "5     15\n",
      "6     16\n",
      "7     17\n",
      "8     18\n",
      "9     19\n",
      "10    20\n",
      "dtype: int64\n"
     ]
    }
   ],
   "source": [
    "s = pd.Series(range(10,21))\n",
    "seriesinfo(s)"
   ]
  },
  {
   "cell_type": "code",
   "execution_count": 46,
   "id": "8c346722",
   "metadata": {},
   "outputs": [
    {
     "name": "stdout",
     "output_type": "stream",
     "text": [
      "시리즈의 데이터는 배열이므로 벡터화 연산이 가능하다 - \n"
     ]
    },
    {
     "data": {
      "text/plain": [
       "0     200\n",
       "1     220\n",
       "2     240\n",
       "3     260\n",
       "4     280\n",
       "5     300\n",
       "6     320\n",
       "7     340\n",
       "8     360\n",
       "9     380\n",
       "10    400\n",
       "dtype: int64"
      ]
     },
     "execution_count": 46,
     "metadata": {},
     "output_type": "execute_result"
    }
   ],
   "source": [
    "print('시리즈의 데이터는 배열이므로 벡터화 연산이 가능하다 - ')\n",
    "s * 20"
   ]
  },
  {
   "cell_type": "code",
   "execution_count": 50,
   "id": "f4c8b4f2",
   "metadata": {},
   "outputs": [
    {
     "name": "stdout",
     "output_type": "stream",
     "text": [
      "2의 배수인 것만 추출\n",
      "boolean indexing : s%2 == 0\n"
     ]
    },
    {
     "data": {
      "text/plain": [
       "0     10\n",
       "2     12\n",
       "4     14\n",
       "6     16\n",
       "8     18\n",
       "10    20\n",
       "dtype: int64"
      ]
     },
     "execution_count": 50,
     "metadata": {},
     "output_type": "execute_result"
    }
   ],
   "source": [
    "print('2의 배수인 것만 추출')\n",
    "print('boolean indexing : s%2 == 0')\n",
    "s[s%2 == 0]"
   ]
  },
  {
   "cell_type": "code",
   "execution_count": 52,
   "id": "a734962c",
   "metadata": {},
   "outputs": [],
   "source": [
    "from datetime import date, datetime , timedelta\n",
    "from dateutil.parser import parse"
   ]
  },
  {
   "cell_type": "code",
   "execution_count": 82,
   "id": "7e244c0c",
   "metadata": {},
   "outputs": [
    {
     "name": "stdout",
     "output_type": "stream",
     "text": [
      "2022-11-11 00:00:00\n"
     ]
    }
   ],
   "source": [
    "day = datetime(2022 , 11 , 10)\n",
    "print(day + timedelta(days=1))"
   ]
  },
  {
   "cell_type": "markdown",
   "id": "6065d57f",
   "metadata": {},
   "source": [
    "- 평균이 50이고 편차 5 정규분포 데이터를 10일간 만들고 싶다면 ?\n",
    "- 중요"
   ]
  },
  {
   "cell_type": "code",
   "execution_count": 76,
   "id": "20253f05",
   "metadata": {},
   "outputs": [
    {
     "data": {
      "text/plain": [
       "array([46.57477405, 59.4368751 , 47.67698661, 47.91236568, 41.50774408,\n",
       "       50.08764566, 50.71283465, 48.78815311, 48.79192872, 49.81481273])"
      ]
     },
     "execution_count": 76,
     "metadata": {},
     "output_type": "execute_result"
    }
   ],
   "source": [
    "np.random.normal(50 , 5 , (10 ,))"
   ]
  },
  {
   "cell_type": "code",
   "execution_count": 77,
   "id": "d7e5bcfd",
   "metadata": {},
   "outputs": [
    {
     "data": {
      "text/plain": [
       "array([[46.34495879],\n",
       "       [47.03932974],\n",
       "       [53.35922493],\n",
       "       [50.08834691],\n",
       "       [47.84602155],\n",
       "       [50.4639965 ],\n",
       "       [49.49136102],\n",
       "       [51.53274354],\n",
       "       [52.85910903],\n",
       "       [45.29457627]])"
      ]
     },
     "execution_count": 77,
     "metadata": {},
     "output_type": "execute_result"
    }
   ],
   "source": [
    "np.random.normal(50 , 5 , (10 , 1))"
   ]
  },
  {
   "cell_type": "markdown",
   "id": "ddb09512",
   "metadata": {},
   "source": [
    "- 날짜 순으로 위의 값이 들어간 series 만들기"
   ]
  },
  {
   "cell_type": "markdown",
   "id": "c8c8d49b",
   "metadata": {},
   "source": [
    "- 평균이 50이고 편차가 5인 정규분포 데이터를 10일간 만들고 싶다면?\n",
    "- 평균이 70이고 편차가 8인 정규분포 데이터를 10일간 만들고 싶다면?"
   ]
  },
  {
   "cell_type": "code",
   "execution_count": 86,
   "id": "4c1b5d3b",
   "metadata": {},
   "outputs": [
    {
     "data": {
      "text/plain": [
       "2022-11-10    41.528639\n",
       "2022-11-11    45.842026\n",
       "2022-11-12    53.039328\n",
       "2022-11-13    48.809060\n",
       "2022-11-14    45.521821\n",
       "2022-11-15    50.313178\n",
       "2022-11-16    51.982133\n",
       "2022-11-17    56.601471\n",
       "2022-11-18    56.801893\n",
       "2022-11-19    51.684858\n",
       "dtype: float64"
      ]
     },
     "execution_count": 86,
     "metadata": {},
     "output_type": "execute_result"
    }
   ],
   "source": [
    "pd.Series(np.random.normal(50 , 5 , (10 ,)) , index = [day+timedelta(days=i) for i in range(10)])"
   ]
  },
  {
   "cell_type": "code",
   "execution_count": 87,
   "id": "3e34fee8",
   "metadata": {},
   "outputs": [
    {
     "data": {
      "text/plain": [
       "2022-11-10    61.467209\n",
       "2022-11-11    77.991140\n",
       "2022-11-12    63.904730\n",
       "2022-11-13    77.644890\n",
       "2022-11-14    58.695180\n",
       "2022-11-15    61.116349\n",
       "2022-11-16    73.955033\n",
       "2022-11-17    71.009513\n",
       "2022-11-18    64.891277\n",
       "2022-11-19    73.778578\n",
       "dtype: float64"
      ]
     },
     "execution_count": 87,
     "metadata": {},
     "output_type": "execute_result"
    }
   ],
   "source": [
    "pd.Series(np.random.normal(70 , 8 , (10 ,)) , index = [day+timedelta(days=i) for i in range(10)])"
   ]
  },
  {
   "cell_type": "markdown",
   "id": "5c28b8f0",
   "metadata": {},
   "source": [
    "- 데이터 갱신"
   ]
  },
  {
   "cell_type": "code",
   "execution_count": 93,
   "id": "49365c14",
   "metadata": {},
   "outputs": [
    {
     "name": "stdout",
     "output_type": "stream",
     "text": [
      "index -  Index(['a', 'b', 'c', 'd'], dtype='object') <class 'pandas.core.indexes.base.Index'>\n",
      "value -  [4000 3000 3500 2000] <class 'numpy.ndarray'>\n",
      "\n",
      "data - \n",
      "a    4000\n",
      "b    3000\n",
      "c    3500\n",
      "d    2000\n",
      "dtype: int64\n"
     ]
    }
   ],
   "source": [
    "price_series = pd.Series([4000 , 3000 , 3500 , 2000] ,\n",
    "                        index = ['a' , 'b' , 'c' , 'd'])\n",
    "seriesinfo(price_series)"
   ]
  },
  {
   "cell_type": "code",
   "execution_count": 97,
   "id": "881158cf",
   "metadata": {},
   "outputs": [
    {
     "name": "stdout",
     "output_type": "stream",
     "text": [
      "\n"
     ]
    },
    {
     "data": {
      "text/plain": [
       "a    6000\n",
       "b    3000\n",
       "c    3500\n",
       "d    2000\n",
       "dtype: int64"
      ]
     },
     "execution_count": 97,
     "metadata": {},
     "output_type": "execute_result"
    }
   ],
   "source": [
    "# 데이터 변경\n",
    "price_series[0] = 5000\n",
    "price_series\n",
    "print()\n",
    "price_series['a'] = 6000\n",
    "price_series"
   ]
  },
  {
   "cell_type": "markdown",
   "id": "bf7a4ba6",
   "metadata": {},
   "source": [
    "- 데이터 삭제\n",
    "- del"
   ]
  },
  {
   "cell_type": "code",
   "execution_count": 104,
   "id": "05c8db92",
   "metadata": {},
   "outputs": [
    {
     "data": {
      "text/plain": [
       "a    6000\n",
       "b    3000\n",
       "c    3500\n",
       "d    2000\n",
       "dtype: int64"
      ]
     },
     "execution_count": 104,
     "metadata": {},
     "output_type": "execute_result"
    }
   ],
   "source": [
    "# 데이터 추가\n",
    "price_series['e'] = 9000\n",
    "price_series\n",
    "\n",
    "# 데이터 삭제\n",
    "del price_series['e']\n",
    "price_series"
   ]
  },
  {
   "cell_type": "code",
   "execution_count": 107,
   "id": "2a9f181a",
   "metadata": {},
   "outputs": [
    {
     "name": "stdout",
     "output_type": "stream",
     "text": [
      "index -  Index(['a', 'b', 'c', 'd', 'e'], dtype='object') <class 'pandas.core.indexes.base.Index'>\n",
      "value -  [6000. 3000. 3500. 2000.   nan] <class 'numpy.ndarray'>\n",
      "\n",
      "data - \n",
      "a    6000.0\n",
      "b    3000.0\n",
      "c    3500.0\n",
      "d    2000.0\n",
      "e       NaN\n",
      "dtype: float64\n"
     ]
    }
   ],
   "source": [
    "# 결측값\n",
    "price_series['e'] = np.NaN\n",
    "seriesinfo(price_series)"
   ]
  },
  {
   "cell_type": "code",
   "execution_count": 110,
   "id": "840c18ad",
   "metadata": {},
   "outputs": [
    {
     "name": "stdout",
     "output_type": "stream",
     "text": [
      "isnull - \n",
      "\n",
      "a    False\n",
      "b    False\n",
      "c    False\n",
      "d    False\n",
      "e     True\n",
      "dtype: bool\n",
      "\n",
      "e   NaN\n",
      "dtype: float64\n",
      "\n",
      "e   NaN\n",
      "dtype: float64\n",
      "\n",
      "notnull - \n",
      "a    6000.0\n",
      "b    3000.0\n",
      "c    3500.0\n",
      "d    2000.0\n",
      "dtype: float64\n"
     ]
    }
   ],
   "source": [
    "# 결측값 여부 확인\n",
    "print('isnull - ')\n",
    "print()\n",
    "print(pd.isnull(price_series))\n",
    "print()\n",
    "print(price_series[pd.isnull(price_series)]) \n",
    "print()\n",
    "print(price_series[ price_series.isnull()])\n",
    "print()\n",
    "\n",
    "# 결측값이 아닌 것 찾기\n",
    "print('notnull - ')\n",
    "print(price_series[price_series.notnull()])"
   ]
  },
  {
   "cell_type": "code",
   "execution_count": 111,
   "id": "6468b355",
   "metadata": {},
   "outputs": [
    {
     "data": {
      "text/plain": [
       "a    400\n",
       "o    250\n",
       "k    350\n",
       "m    500\n",
       "dtype: int64"
      ]
     },
     "execution_count": 111,
     "metadata": {},
     "output_type": "execute_result"
    }
   ],
   "source": [
    "series01 = pd.Series([400, 250 , 350, 500] , index = ['a' , 'o' , 'k' , 'm'])\n",
    "series01"
   ]
  },
  {
   "cell_type": "code",
   "execution_count": 112,
   "id": "c3049e74",
   "metadata": {},
   "outputs": [
    {
     "data": {
      "text/plain": [
       "o    401\n",
       "a    251\n",
       "h    351\n",
       "m    501\n",
       "dtype: int64"
      ]
     },
     "execution_count": 112,
     "metadata": {},
     "output_type": "execute_result"
    }
   ],
   "source": [
    "series02 = pd.Series([401, 251 , 351, 501] , index = ['o' , 'a' , 'h' , 'm'])\n",
    "series02"
   ]
  },
  {
   "cell_type": "code",
   "execution_count": 124,
   "id": "9ba05da9",
   "metadata": {},
   "outputs": [
    {
     "name": "stdout",
     "output_type": "stream",
     "text": [
      "a     651.0\n",
      "h       NaN\n",
      "k       NaN\n",
      "m    1001.0\n",
      "o     651.0\n",
      "dtype: float64\n",
      "\n",
      "a     651.0\n",
      "h       NaN\n",
      "k       NaN\n",
      "m    1001.0\n",
      "o     651.0\n",
      "dtype: float64\n",
      "\n",
      "len() -  5\n"
     ]
    }
   ],
   "source": [
    "# series 합치기\n",
    "\n",
    "series03 = series01 + series02\n",
    "print(series03)\n",
    "print()\n",
    "\n",
    "series03 = series01.add(series02)\n",
    "print(series03)\n",
    "print()\n",
    "\n",
    "# NaN 값 채우기\n",
    "\n",
    "series03 = series01.add(series02 , fill_value = 0)\n",
    "print(series03)\n",
    "print()\n",
    "\n",
    "# 요소의 개수 세기\n",
    "print('len() - ' , len(series03))"
   ]
  },
  {
   "cell_type": "code",
   "execution_count": 141,
   "id": "0401d2f8",
   "metadata": {},
   "outputs": [
    {
     "name": "stdout",
     "output_type": "stream",
     "text": [
      "a     651.0\n",
      "h       NaN\n",
      "k       NaN\n",
      "m    1001.0\n",
      "o     651.0\n",
      "dtype: float64\n",
      "\n",
      "mean -  767.6666666666666\n",
      "mean -  767.6666666666666\n",
      "\n",
      "mean -  460.6\n",
      "filna() -  a     651.0\n",
      "h       0.0\n",
      "k       0.0\n",
      "m    1001.0\n",
      "o     651.0\n",
      "dtype: float64\n",
      "\n",
      "series05\n",
      "mean -  460.6\n",
      "mean -  460.6\n"
     ]
    }
   ],
   "source": [
    "series04 = series01.add(series02)\n",
    "print(series04)\n",
    "print()\n",
    "\n",
    "# 평균 구하기\n",
    "# 결측값을 제외한 3개 값의 평균\n",
    "print('mean - ' , np.mean(series03))\n",
    "print('mean - ' , series03.mean())\n",
    "print()\n",
    "\n",
    "# 전체 평균\n",
    "# 결측값 개수 포함 \n",
    "print('mean - ' , series04.sum() / len(series04))\n",
    "\n",
    "# fillna(data)  결측값을 'data'로 대체합니다.\n",
    "# 값을 다시 담아야지만 저장이 된다.\n",
    "print('filna() - ' , series04.fillna(0))\n",
    "series05 = series04.fillna(0)\n",
    "series05\n",
    "print()\n",
    "\n",
    "# series05(결측값에 0을 집어넣은 상태)\n",
    "# 평균 구하기\n",
    "print('series05')\n",
    "print('mean - ' , series05.mean())\n",
    "print('mean - ' , np.mean(series05))"
   ]
  },
  {
   "cell_type": "code",
   "execution_count": 160,
   "id": "a4ca9803",
   "metadata": {},
   "outputs": [
    {
     "name": "stdout",
     "output_type": "stream",
     "text": [
      "a     651.0\n",
      "h       NaN\n",
      "k       NaN\n",
      "m    1001.0\n",
      "o     651.0\n",
      "dtype: float64\n",
      "\n",
      "결측값을 제외한 subset( 추출한 데이터 )\n",
      "\n",
      "a     651.0\n",
      "m    1001.0\n",
      "o     651.0\n",
      "dtype: float64\n"
     ]
    }
   ],
   "source": [
    "# 결측값 제외하고 출력하기\n",
    "\n",
    "print(series03)\n",
    "print()\n",
    "print('결측값을 제외한 subset( 추출한 데이터 )')\n",
    "\n",
    "series05 = series03[pd.notnull(series03)]\n",
    "\n",
    "print()\n",
    "print(series05)"
   ]
  },
  {
   "cell_type": "markdown",
   "id": "0e4d6276",
   "metadata": {},
   "source": [
    "### DataFrame\n",
    "- 생성방법 : pd.DataFrame()\n",
    "- 행 인덱스(문자), 열 인덱스(문자)"
   ]
  },
  {
   "cell_type": "code",
   "execution_count": 165,
   "id": "c0deab41",
   "metadata": {},
   "outputs": [
    {
     "name": "stdout",
     "output_type": "stream",
     "text": [
      "dict 이용힌 생성 - \n"
     ]
    },
    {
     "data": {
      "text/html": [
       "<div>\n",
       "<style scoped>\n",
       "    .dataframe tbody tr th:only-of-type {\n",
       "        vertical-align: middle;\n",
       "    }\n",
       "\n",
       "    .dataframe tbody tr th {\n",
       "        vertical-align: top;\n",
       "    }\n",
       "\n",
       "    .dataframe thead th {\n",
       "        text-align: right;\n",
       "    }\n",
       "</style>\n",
       "<table border=\"1\" class=\"dataframe\">\n",
       "  <thead>\n",
       "    <tr style=\"text-align: right;\">\n",
       "      <th></th>\n",
       "      <th>feature01</th>\n",
       "      <th>feature02</th>\n",
       "      <th>feature03</th>\n",
       "      <th>feature04</th>\n",
       "      <th>feature05</th>\n",
       "    </tr>\n",
       "  </thead>\n",
       "  <tbody>\n",
       "    <tr>\n",
       "      <th>0</th>\n",
       "      <td>1</td>\n",
       "      <td>4</td>\n",
       "      <td>7</td>\n",
       "      <td>10</td>\n",
       "      <td>13</td>\n",
       "    </tr>\n",
       "    <tr>\n",
       "      <th>1</th>\n",
       "      <td>2</td>\n",
       "      <td>5</td>\n",
       "      <td>8</td>\n",
       "      <td>11</td>\n",
       "      <td>14</td>\n",
       "    </tr>\n",
       "    <tr>\n",
       "      <th>2</th>\n",
       "      <td>3</td>\n",
       "      <td>6</td>\n",
       "      <td>9</td>\n",
       "      <td>12</td>\n",
       "      <td>15</td>\n",
       "    </tr>\n",
       "  </tbody>\n",
       "</table>\n",
       "</div>"
      ],
      "text/plain": [
       "   feature01  feature02  feature03  feature04  feature05\n",
       "0          1          4          7         10         13\n",
       "1          2          5          8         11         14\n",
       "2          3          6          9         12         15"
      ]
     },
     "execution_count": 165,
     "metadata": {},
     "output_type": "execute_result"
    }
   ],
   "source": [
    "print('dict 이용힌 생성 - ')\n",
    "dict_data = {\n",
    "    'feature01' : [1,2,3] ,\n",
    "    'feature02' : [4,5,6] ,\n",
    "    'feature03' : [7,8,9] ,\n",
    "    'feature04' : [10,11,12] ,\n",
    "    'feature05' : [13,14,15] ,\n",
    "}\n",
    "tmp_frm = pd.DataFrame(dict_data)\n",
    "tmp_frm "
   ]
  },
  {
   "cell_type": "code",
   "execution_count": 185,
   "id": "8e8901ad",
   "metadata": {},
   "outputs": [],
   "source": [
    "def frminfo(df) :\n",
    "    print('shape     - ' , df.shape)\n",
    "    print('size      - ' , df.size)\n",
    "    print('ndim      - ' , df.ndim )\n",
    "    print('index     - ' , df.index   , type(df.index))\n",
    "    print('col index - ' , df.columns , type(df.columns))\n",
    "    print('values    - ')\n",
    "    print(df.values  , '\\n' , type(df.values))\n",
    "    print()\n",
    "    print('data - ')\n",
    "    display(df)"
   ]
  },
  {
   "cell_type": "code",
   "execution_count": 186,
   "id": "e22ba47a",
   "metadata": {},
   "outputs": [
    {
     "name": "stdout",
     "output_type": "stream",
     "text": [
      "shape     -  (3, 5)\n",
      "size      -  15\n",
      "ndim      -  2\n",
      "index     -  RangeIndex(start=0, stop=3, step=1) <class 'pandas.core.indexes.range.RangeIndex'>\n",
      "col index -  Index(['feature01', 'feature02', 'feature03', 'feature04', 'feature05'], dtype='object') <class 'pandas.core.indexes.base.Index'>\n",
      "values    - \n",
      "[[ 1  4  7 10 13]\n",
      " [ 2  5  8 11 14]\n",
      " [ 3  6  9 12 15]] \n",
      " <class 'numpy.ndarray'>\n",
      "\n",
      "data - \n"
     ]
    },
    {
     "data": {
      "text/html": [
       "<div>\n",
       "<style scoped>\n",
       "    .dataframe tbody tr th:only-of-type {\n",
       "        vertical-align: middle;\n",
       "    }\n",
       "\n",
       "    .dataframe tbody tr th {\n",
       "        vertical-align: top;\n",
       "    }\n",
       "\n",
       "    .dataframe thead th {\n",
       "        text-align: right;\n",
       "    }\n",
       "</style>\n",
       "<table border=\"1\" class=\"dataframe\">\n",
       "  <thead>\n",
       "    <tr style=\"text-align: right;\">\n",
       "      <th></th>\n",
       "      <th>feature01</th>\n",
       "      <th>feature02</th>\n",
       "      <th>feature03</th>\n",
       "      <th>feature04</th>\n",
       "      <th>feature05</th>\n",
       "    </tr>\n",
       "  </thead>\n",
       "  <tbody>\n",
       "    <tr>\n",
       "      <th>0</th>\n",
       "      <td>1</td>\n",
       "      <td>4</td>\n",
       "      <td>7</td>\n",
       "      <td>10</td>\n",
       "      <td>13</td>\n",
       "    </tr>\n",
       "    <tr>\n",
       "      <th>1</th>\n",
       "      <td>2</td>\n",
       "      <td>5</td>\n",
       "      <td>8</td>\n",
       "      <td>11</td>\n",
       "      <td>14</td>\n",
       "    </tr>\n",
       "    <tr>\n",
       "      <th>2</th>\n",
       "      <td>3</td>\n",
       "      <td>6</td>\n",
       "      <td>9</td>\n",
       "      <td>12</td>\n",
       "      <td>15</td>\n",
       "    </tr>\n",
       "  </tbody>\n",
       "</table>\n",
       "</div>"
      ],
      "text/plain": [
       "   feature01  feature02  feature03  feature04  feature05\n",
       "0          1          4          7         10         13\n",
       "1          2          5          8         11         14\n",
       "2          3          6          9         12         15"
      ]
     },
     "metadata": {},
     "output_type": "display_data"
    }
   ],
   "source": [
    "frminfo(tmp_frm)"
   ]
  },
  {
   "cell_type": "code",
   "execution_count": 193,
   "id": "8bd74720",
   "metadata": {},
   "outputs": [
    {
     "name": "stdout",
     "output_type": "stream",
     "text": [
      "리스트를 이용한 생성 - \n",
      "shape     -  (2, 3)\n",
      "size      -  6\n",
      "ndim      -  2\n",
      "index     -  Index(['user_1', 'user_2'], dtype='object') <class 'pandas.core.indexes.base.Index'>\n",
      "col index -  Index(['이름', '성별', '결혼여부'], dtype='object') <class 'pandas.core.indexes.base.Index'>\n",
      "values    - \n",
      "[['하나' 'm' True]\n",
      " ['두나' 'w' False]] \n",
      " <class 'numpy.ndarray'>\n",
      "\n",
      "data - \n"
     ]
    },
    {
     "data": {
      "text/html": [
       "<div>\n",
       "<style scoped>\n",
       "    .dataframe tbody tr th:only-of-type {\n",
       "        vertical-align: middle;\n",
       "    }\n",
       "\n",
       "    .dataframe tbody tr th {\n",
       "        vertical-align: top;\n",
       "    }\n",
       "\n",
       "    .dataframe thead th {\n",
       "        text-align: right;\n",
       "    }\n",
       "</style>\n",
       "<table border=\"1\" class=\"dataframe\">\n",
       "  <thead>\n",
       "    <tr style=\"text-align: right;\">\n",
       "      <th></th>\n",
       "      <th>이름</th>\n",
       "      <th>성별</th>\n",
       "      <th>결혼여부</th>\n",
       "    </tr>\n",
       "  </thead>\n",
       "  <tbody>\n",
       "    <tr>\n",
       "      <th>user_1</th>\n",
       "      <td>하나</td>\n",
       "      <td>m</td>\n",
       "      <td>True</td>\n",
       "    </tr>\n",
       "    <tr>\n",
       "      <th>user_2</th>\n",
       "      <td>두나</td>\n",
       "      <td>w</td>\n",
       "      <td>False</td>\n",
       "    </tr>\n",
       "  </tbody>\n",
       "</table>\n",
       "</div>"
      ],
      "text/plain": [
       "        이름 성별   결혼여부\n",
       "user_1  하나  m   True\n",
       "user_2  두나  w  False"
      ]
     },
     "metadata": {},
     "output_type": "display_data"
    },
    {
     "data": {
      "text/html": [
       "<div>\n",
       "<style scoped>\n",
       "    .dataframe tbody tr th:only-of-type {\n",
       "        vertical-align: middle;\n",
       "    }\n",
       "\n",
       "    .dataframe tbody tr th {\n",
       "        vertical-align: top;\n",
       "    }\n",
       "\n",
       "    .dataframe thead th {\n",
       "        text-align: right;\n",
       "    }\n",
       "</style>\n",
       "<table border=\"1\" class=\"dataframe\">\n",
       "  <thead>\n",
       "    <tr style=\"text-align: right;\">\n",
       "      <th></th>\n",
       "      <th>이름</th>\n",
       "      <th>성별</th>\n",
       "      <th>결혼여부</th>\n",
       "    </tr>\n",
       "  </thead>\n",
       "  <tbody>\n",
       "    <tr>\n",
       "      <th>user_1</th>\n",
       "      <td>하나</td>\n",
       "      <td>m</td>\n",
       "      <td>True</td>\n",
       "    </tr>\n",
       "    <tr>\n",
       "      <th>user_2</th>\n",
       "      <td>두나</td>\n",
       "      <td>w</td>\n",
       "      <td>False</td>\n",
       "    </tr>\n",
       "  </tbody>\n",
       "</table>\n",
       "</div>"
      ],
      "text/plain": [
       "        이름 성별   결혼여부\n",
       "user_1  하나  m   True\n",
       "user_2  두나  w  False"
      ]
     },
     "execution_count": 193,
     "metadata": {},
     "output_type": "execute_result"
    }
   ],
   "source": [
    "print('리스트를 이용한 생성 - ')\n",
    "list_frm = pd.DataFrame([['하나' , 'm' , True] , ['두나' , 'w' , False]] ,\n",
    "                       index = ['user_'+ str(idx) for idx in range(1,3)],\n",
    "                       columns = ['이름' , '성별' , '결혼여부'])\n",
    "frminfo(list_frm)\n",
    "list_frm"
   ]
  },
  {
   "cell_type": "code",
   "execution_count": null,
   "id": "f8789de6",
   "metadata": {},
   "outputs": [],
   "source": [
    "print('전처리 - 열 이름 변경(영문 -> 한글, 한글 -> 영문) , rename() - 열 이름 변경'')\n",
    "print('원본에 반영 - inplace')"
   ]
  },
  {
   "cell_type": "code",
   "execution_count": 199,
   "id": "ad7afed3",
   "metadata": {},
   "outputs": [
    {
     "data": {
      "text/html": [
       "<div>\n",
       "<style scoped>\n",
       "    .dataframe tbody tr th:only-of-type {\n",
       "        vertical-align: middle;\n",
       "    }\n",
       "\n",
       "    .dataframe tbody tr th {\n",
       "        vertical-align: top;\n",
       "    }\n",
       "\n",
       "    .dataframe thead th {\n",
       "        text-align: right;\n",
       "    }\n",
       "</style>\n",
       "<table border=\"1\" class=\"dataframe\">\n",
       "  <thead>\n",
       "    <tr style=\"text-align: right;\">\n",
       "      <th></th>\n",
       "      <th>name</th>\n",
       "      <th>gender</th>\n",
       "      <th>marriage</th>\n",
       "    </tr>\n",
       "  </thead>\n",
       "  <tbody>\n",
       "    <tr>\n",
       "      <th>customer_01</th>\n",
       "      <td>하나</td>\n",
       "      <td>m</td>\n",
       "      <td>True</td>\n",
       "    </tr>\n",
       "    <tr>\n",
       "      <th>customer_02</th>\n",
       "      <td>두나</td>\n",
       "      <td>w</td>\n",
       "      <td>False</td>\n",
       "    </tr>\n",
       "  </tbody>\n",
       "</table>\n",
       "</div>"
      ],
      "text/plain": [
       "            name gender  marriage\n",
       "customer_01   하나      m      True\n",
       "customer_02   두나      w     False"
      ]
     },
     "execution_count": 199,
     "metadata": {},
     "output_type": "execute_result"
    }
   ],
   "source": [
    "list_frm.rename(columns = {'이름' : 'name' , '성별' : 'gender' , '결혼여부' : 'marriage'} , inplace = True)\n",
    "list_frm.rename(index = {'user_1' : 'customer_01' , 'user_2' : 'customer_02' } , inplace = True)\n",
    "list_frm"
   ]
  },
  {
   "cell_type": "code",
   "execution_count": 201,
   "id": "2fca68eb",
   "metadata": {},
   "outputs": [
    {
     "name": "stdout",
     "output_type": "stream",
     "text": [
      "shape     -  (2, 3)\n",
      "size      -  6\n",
      "ndim      -  2\n",
      "index     -  Index(['customer_01', 'customer_02'], dtype='object', name='customer') <class 'pandas.core.indexes.base.Index'>\n",
      "col index -  Index(['name', 'gender', 'marriage'], dtype='object', name='featuer') <class 'pandas.core.indexes.base.Index'>\n",
      "values    - \n",
      "[['하나' 'm' True]\n",
      " ['두나' 'w' False]] \n",
      " <class 'numpy.ndarray'>\n",
      "\n",
      "data - \n"
     ]
    },
    {
     "data": {
      "text/html": [
       "<div>\n",
       "<style scoped>\n",
       "    .dataframe tbody tr th:only-of-type {\n",
       "        vertical-align: middle;\n",
       "    }\n",
       "\n",
       "    .dataframe tbody tr th {\n",
       "        vertical-align: top;\n",
       "    }\n",
       "\n",
       "    .dataframe thead th {\n",
       "        text-align: right;\n",
       "    }\n",
       "</style>\n",
       "<table border=\"1\" class=\"dataframe\">\n",
       "  <thead>\n",
       "    <tr style=\"text-align: right;\">\n",
       "      <th>featuer</th>\n",
       "      <th>name</th>\n",
       "      <th>gender</th>\n",
       "      <th>marriage</th>\n",
       "    </tr>\n",
       "    <tr>\n",
       "      <th>customer</th>\n",
       "      <th></th>\n",
       "      <th></th>\n",
       "      <th></th>\n",
       "    </tr>\n",
       "  </thead>\n",
       "  <tbody>\n",
       "    <tr>\n",
       "      <th>customer_01</th>\n",
       "      <td>하나</td>\n",
       "      <td>m</td>\n",
       "      <td>True</td>\n",
       "    </tr>\n",
       "    <tr>\n",
       "      <th>customer_02</th>\n",
       "      <td>두나</td>\n",
       "      <td>w</td>\n",
       "      <td>False</td>\n",
       "    </tr>\n",
       "  </tbody>\n",
       "</table>\n",
       "</div>"
      ],
      "text/plain": [
       "featuer     name gender  marriage\n",
       "customer                         \n",
       "customer_01   하나      m      True\n",
       "customer_02   두나      w     False"
      ]
     },
     "metadata": {},
     "output_type": "display_data"
    }
   ],
   "source": [
    "list_frm.index.name = 'customer'\n",
    "list_frm.columns.name = 'featuer'\n",
    "frminfo(list_frm)"
   ]
  },
  {
   "cell_type": "code",
   "execution_count": 202,
   "id": "460521f0",
   "metadata": {},
   "outputs": [
    {
     "name": "stdout",
     "output_type": "stream",
     "text": [
      "shape     -  (2, 3)\n",
      "size      -  6\n",
      "ndim      -  2\n",
      "index     -  Index(['customer_01', 'customer_02'], dtype='object', name='customer') <class 'pandas.core.indexes.base.Index'>\n",
      "col index -  Index(['name', 'gender', 'marriage'], dtype='object', name='featuer') <class 'pandas.core.indexes.base.Index'>\n",
      "values    - \n",
      "[['하나' 'm' True]\n",
      " ['두나' 'w' False]] \n",
      " <class 'numpy.ndarray'>\n",
      "\n",
      "data - \n"
     ]
    },
    {
     "data": {
      "text/html": [
       "<div>\n",
       "<style scoped>\n",
       "    .dataframe tbody tr th:only-of-type {\n",
       "        vertical-align: middle;\n",
       "    }\n",
       "\n",
       "    .dataframe tbody tr th {\n",
       "        vertical-align: top;\n",
       "    }\n",
       "\n",
       "    .dataframe thead th {\n",
       "        text-align: right;\n",
       "    }\n",
       "</style>\n",
       "<table border=\"1\" class=\"dataframe\">\n",
       "  <thead>\n",
       "    <tr style=\"text-align: right;\">\n",
       "      <th>featuer</th>\n",
       "      <th>name</th>\n",
       "      <th>gender</th>\n",
       "      <th>marriage</th>\n",
       "    </tr>\n",
       "    <tr>\n",
       "      <th>customer</th>\n",
       "      <th></th>\n",
       "      <th></th>\n",
       "      <th></th>\n",
       "    </tr>\n",
       "  </thead>\n",
       "  <tbody>\n",
       "    <tr>\n",
       "      <th>customer_01</th>\n",
       "      <td>하나</td>\n",
       "      <td>m</td>\n",
       "      <td>True</td>\n",
       "    </tr>\n",
       "    <tr>\n",
       "      <th>customer_02</th>\n",
       "      <td>두나</td>\n",
       "      <td>w</td>\n",
       "      <td>False</td>\n",
       "    </tr>\n",
       "  </tbody>\n",
       "</table>\n",
       "</div>"
      ],
      "text/plain": [
       "featuer     name gender  marriage\n",
       "customer                         \n",
       "customer_01   하나      m      True\n",
       "customer_02   두나      w     False"
      ]
     },
     "metadata": {},
     "output_type": "display_data"
    },
    {
     "name": "stdout",
     "output_type": "stream",
     "text": [
      "\n",
      "\n",
      "index name -  customer\n",
      "columns name -  featuer\n"
     ]
    }
   ],
   "source": [
    "frminfo(list_frm)\n",
    "print()\n",
    "print()\n",
    "print('index name - ' , list_frm.index.name)\n",
    "print('columns name - ' , list_frm.columns.name)"
   ]
  },
  {
   "cell_type": "code",
   "execution_count": 209,
   "id": "1ca96f95",
   "metadata": {},
   "outputs": [
    {
     "name": "stdout",
     "output_type": "stream",
     "text": [
      "data extract \n",
      " customer\n",
      "customer_01    하나\n",
      "customer_02    두나\n",
      "Name: name, dtype: object <class 'pandas.core.series.Series'>\n"
     ]
    }
   ],
   "source": [
    "print('data extract \\n' , list_frm['name'] , type(list_frm['name']))"
   ]
  },
  {
   "cell_type": "code",
   "execution_count": 216,
   "id": "b69f2cb2",
   "metadata": {},
   "outputs": [
    {
     "name": "stdout",
     "output_type": "stream",
     "text": [
      "add featuer - \n"
     ]
    },
    {
     "data": {
      "text/html": [
       "<div>\n",
       "<style scoped>\n",
       "    .dataframe tbody tr th:only-of-type {\n",
       "        vertical-align: middle;\n",
       "    }\n",
       "\n",
       "    .dataframe tbody tr th {\n",
       "        vertical-align: top;\n",
       "    }\n",
       "\n",
       "    .dataframe thead th {\n",
       "        text-align: right;\n",
       "    }\n",
       "</style>\n",
       "<table border=\"1\" class=\"dataframe\">\n",
       "  <thead>\n",
       "    <tr style=\"text-align: right;\">\n",
       "      <th>featuer</th>\n",
       "      <th>name</th>\n",
       "      <th>gender</th>\n",
       "      <th>marriage</th>\n",
       "      <th>age</th>\n",
       "      <th>something</th>\n",
       "    </tr>\n",
       "    <tr>\n",
       "      <th>customer</th>\n",
       "      <th></th>\n",
       "      <th></th>\n",
       "      <th></th>\n",
       "      <th></th>\n",
       "      <th></th>\n",
       "    </tr>\n",
       "  </thead>\n",
       "  <tbody>\n",
       "    <tr>\n",
       "      <th>customer_01</th>\n",
       "      <td>하나</td>\n",
       "      <td>m</td>\n",
       "      <td>True</td>\n",
       "      <td>20</td>\n",
       "      <td>1</td>\n",
       "    </tr>\n",
       "    <tr>\n",
       "      <th>customer_02</th>\n",
       "      <td>두나</td>\n",
       "      <td>w</td>\n",
       "      <td>False</td>\n",
       "      <td>30</td>\n",
       "      <td>2</td>\n",
       "    </tr>\n",
       "  </tbody>\n",
       "</table>\n",
       "</div>"
      ],
      "text/plain": [
       "featuer     name gender  marriage  age  something\n",
       "customer                                         \n",
       "customer_01   하나      m      True   20          1\n",
       "customer_02   두나      w     False   30          2"
      ]
     },
     "execution_count": 216,
     "metadata": {},
     "output_type": "execute_result"
    }
   ],
   "source": [
    "# 컬럼 추가\n",
    "\n",
    "print('add featuer - ')\n",
    "list_frm['age'] = [20 , 30]\n",
    "list_frm\n",
    "\n",
    "# .insert(loc , columns , value)\n",
    "list_frm.insert(4 , 'something' , [1,2])\n"
   ]
  },
  {
   "cell_type": "code",
   "execution_count": 219,
   "id": "74598649",
   "metadata": {},
   "outputs": [
    {
     "name": "stdout",
     "output_type": "stream",
     "text": [
      "def feature - \n",
      "featuer     name gender  marriage  something\n",
      "customer                                    \n",
      "customer_01   하나      m      True          1\n",
      "customer_02   두나      w     False          2\n"
     ]
    }
   ],
   "source": [
    "# 컬럼 삭제\n",
    "\n",
    "print('def feature - ')\n",
    "del list_frm['age']\n",
    "print(list_frm)"
   ]
  },
  {
   "cell_type": "code",
   "execution_count": 221,
   "id": "6bfe0597",
   "metadata": {},
   "outputs": [
    {
     "data": {
      "text/html": [
       "<div>\n",
       "<style scoped>\n",
       "    .dataframe tbody tr th:only-of-type {\n",
       "        vertical-align: middle;\n",
       "    }\n",
       "\n",
       "    .dataframe tbody tr th {\n",
       "        vertical-align: top;\n",
       "    }\n",
       "\n",
       "    .dataframe thead th {\n",
       "        text-align: right;\n",
       "    }\n",
       "</style>\n",
       "<table border=\"1\" class=\"dataframe\">\n",
       "  <thead>\n",
       "    <tr style=\"text-align: right;\">\n",
       "      <th>featuer</th>\n",
       "      <th>name</th>\n",
       "      <th>gender</th>\n",
       "      <th>marriage</th>\n",
       "    </tr>\n",
       "    <tr>\n",
       "      <th>customer</th>\n",
       "      <th></th>\n",
       "      <th></th>\n",
       "      <th></th>\n",
       "    </tr>\n",
       "  </thead>\n",
       "  <tbody>\n",
       "    <tr>\n",
       "      <th>customer_01</th>\n",
       "      <td>하나</td>\n",
       "      <td>m</td>\n",
       "      <td>True</td>\n",
       "    </tr>\n",
       "    <tr>\n",
       "      <th>customer_02</th>\n",
       "      <td>두나</td>\n",
       "      <td>w</td>\n",
       "      <td>False</td>\n",
       "    </tr>\n",
       "  </tbody>\n",
       "</table>\n",
       "</div>"
      ],
      "text/plain": [
       "featuer     name gender  marriage\n",
       "customer                         \n",
       "customer_01   하나      m      True\n",
       "customer_02   두나      w     False"
      ]
     },
     "execution_count": 221,
     "metadata": {},
     "output_type": "execute_result"
    }
   ],
   "source": [
    "# 컬럼 삭제 : drop\n",
    "list_frm.drop('something' , axis = 1)"
   ]
  },
  {
   "cell_type": "code",
   "execution_count": 240,
   "id": "4aaae533",
   "metadata": {},
   "outputs": [
    {
     "data": {
      "text/html": [
       "<div>\n",
       "<style scoped>\n",
       "    .dataframe tbody tr th:only-of-type {\n",
       "        vertical-align: middle;\n",
       "    }\n",
       "\n",
       "    .dataframe tbody tr th {\n",
       "        vertical-align: top;\n",
       "    }\n",
       "\n",
       "    .dataframe thead th {\n",
       "        text-align: right;\n",
       "    }\n",
       "</style>\n",
       "<table border=\"1\" class=\"dataframe\">\n",
       "  <thead>\n",
       "    <tr style=\"text-align: right;\">\n",
       "      <th>featuer</th>\n",
       "      <th>name</th>\n",
       "      <th>gender</th>\n",
       "      <th>marriage</th>\n",
       "      <th>something</th>\n",
       "    </tr>\n",
       "    <tr>\n",
       "      <th>customer</th>\n",
       "      <th></th>\n",
       "      <th></th>\n",
       "      <th></th>\n",
       "      <th></th>\n",
       "    </tr>\n",
       "  </thead>\n",
       "  <tbody>\n",
       "    <tr>\n",
       "      <th>customer_01</th>\n",
       "      <td>하나</td>\n",
       "      <td>m</td>\n",
       "      <td>True</td>\n",
       "      <td>1</td>\n",
       "    </tr>\n",
       "  </tbody>\n",
       "</table>\n",
       "</div>"
      ],
      "text/plain": [
       "featuer     name gender  marriage  something\n",
       "customer                                    \n",
       "customer_01   하나      m      True          1"
      ]
     },
     "execution_count": 240,
     "metadata": {},
     "output_type": "execute_result"
    }
   ],
   "source": [
    "list_frm[0:1]"
   ]
  },
  {
   "cell_type": "code",
   "execution_count": 241,
   "id": "378b4a8c",
   "metadata": {},
   "outputs": [
    {
     "data": {
      "text/html": [
       "<div>\n",
       "<style scoped>\n",
       "    .dataframe tbody tr th:only-of-type {\n",
       "        vertical-align: middle;\n",
       "    }\n",
       "\n",
       "    .dataframe tbody tr th {\n",
       "        vertical-align: top;\n",
       "    }\n",
       "\n",
       "    .dataframe thead th {\n",
       "        text-align: right;\n",
       "    }\n",
       "</style>\n",
       "<table border=\"1\" class=\"dataframe\">\n",
       "  <thead>\n",
       "    <tr style=\"text-align: right;\">\n",
       "      <th>featuer</th>\n",
       "      <th>name</th>\n",
       "      <th>gender</th>\n",
       "      <th>marriage</th>\n",
       "      <th>something</th>\n",
       "    </tr>\n",
       "    <tr>\n",
       "      <th>customer</th>\n",
       "      <th></th>\n",
       "      <th></th>\n",
       "      <th></th>\n",
       "      <th></th>\n",
       "    </tr>\n",
       "  </thead>\n",
       "  <tbody>\n",
       "    <tr>\n",
       "      <th>customer_01</th>\n",
       "      <td>하나</td>\n",
       "      <td>m</td>\n",
       "      <td>True</td>\n",
       "      <td>1</td>\n",
       "    </tr>\n",
       "  </tbody>\n",
       "</table>\n",
       "</div>"
      ],
      "text/plain": [
       "featuer     name gender  marriage  something\n",
       "customer                                    \n",
       "customer_01   하나      m      True          1"
      ]
     },
     "execution_count": 241,
     "metadata": {},
     "output_type": "execute_result"
    }
   ],
   "source": [
    "list_frm[:'customer_01']"
   ]
  },
  {
   "cell_type": "code",
   "execution_count": 267,
   "id": "6e7ff59a",
   "metadata": {},
   "outputs": [
    {
     "data": {
      "text/html": [
       "<div>\n",
       "<style scoped>\n",
       "    .dataframe tbody tr th:only-of-type {\n",
       "        vertical-align: middle;\n",
       "    }\n",
       "\n",
       "    .dataframe tbody tr th {\n",
       "        vertical-align: top;\n",
       "    }\n",
       "\n",
       "    .dataframe thead th {\n",
       "        text-align: right;\n",
       "    }\n",
       "</style>\n",
       "<table border=\"1\" class=\"dataframe\">\n",
       "  <thead>\n",
       "    <tr style=\"text-align: right;\">\n",
       "      <th>featuer</th>\n",
       "      <th>name</th>\n",
       "      <th>gender</th>\n",
       "    </tr>\n",
       "    <tr>\n",
       "      <th>customer</th>\n",
       "      <th></th>\n",
       "      <th></th>\n",
       "    </tr>\n",
       "  </thead>\n",
       "  <tbody>\n",
       "    <tr>\n",
       "      <th>customer_01</th>\n",
       "      <td>하나</td>\n",
       "      <td>m</td>\n",
       "    </tr>\n",
       "    <tr>\n",
       "      <th>customer_02</th>\n",
       "      <td>두나</td>\n",
       "      <td>w</td>\n",
       "    </tr>\n",
       "  </tbody>\n",
       "</table>\n",
       "</div>"
      ],
      "text/plain": [
       "featuer     name gender\n",
       "customer               \n",
       "customer_01   하나      m\n",
       "customer_02   두나      w"
      ]
     },
     "execution_count": 267,
     "metadata": {},
     "output_type": "execute_result"
    }
   ],
   "source": [
    "list_frm[['name' , 'gender']].iloc[:2]"
   ]
  },
  {
   "cell_type": "code",
   "execution_count": 268,
   "id": "54547422",
   "metadata": {},
   "outputs": [
    {
     "data": {
      "text/plain": [
       "'하나'"
      ]
     },
     "execution_count": 268,
     "metadata": {},
     "output_type": "execute_result"
    }
   ],
   "source": [
    "list_frm['name'][0]"
   ]
  },
  {
   "cell_type": "markdown",
   "id": "039b157d",
   "metadata": {},
   "source": [
    "### 사이트 \n",
    "- json 파일 요청시(url) 데이터를 확인할 수 있다.\n",
    "- 포스트맨\n",
    "- 스웨거\n",
    "- kobis ex : https://www.kobis.or.kr/kobisopenapi/homepg/apiservice/searchServiceInfo.doserviceId=searchDailyBoxOffice\n",
    "- ex url \n",
    "http://kobis.or.kr/kobisopenapi/webservice/rest/boxoffice/searchDailyBoxOfficeList.json?key=f5eef3421c602c6cb7ea224104795888&targetDt=20120101\n",
    "\n",
    "\n"
   ]
  },
  {
   "cell_type": "markdown",
   "id": "0ff4cdf4",
   "metadata": {},
   "source": [
    "### python 에서 웹을 접속하기위해 필요한 패키지\n",
    "- import urlib\n",
    "- json은 한 번 읽어들인후 소모되어지기 때문에 리로드가 필요하다."
   ]
  },
  {
   "cell_type": "code",
   "execution_count": 292,
   "id": "eb0d238f",
   "metadata": {},
   "outputs": [
    {
     "name": "stdout",
     "output_type": "stream",
     "text": [
      "response - \n"
     ]
    }
   ],
   "source": [
    "import urllib\n",
    "url='http://kobis.or.kr/kobisopenapi/webservice/rest/boxoffice/searchDailyBoxOfficeList.json?key=f5eef3421c602c6cb7ea224104795888&targetDt=20120101'\n",
    "\n",
    "response_page = urllib.request.urlopen(url)\n",
    "print('response - '  )\n",
    "#print(response_page.read())"
   ]
  },
  {
   "cell_type": "code",
   "execution_count": 293,
   "id": "f9dd677a",
   "metadata": {},
   "outputs": [
    {
     "data": {
      "text/plain": [
       "{'boxOfficeResult': {'boxofficeType': '일별 박스오피스',\n",
       "  'showRange': '20120101~20120101',\n",
       "  'dailyBoxOfficeList': [{'rnum': '1',\n",
       "    'rank': '1',\n",
       "    'rankInten': '0',\n",
       "    'rankOldAndNew': 'OLD',\n",
       "    'movieCd': '20112207',\n",
       "    'movieNm': '미션임파서블:고스트프로토콜',\n",
       "    'openDt': '2011-12-15',\n",
       "    'salesAmt': '2776060500',\n",
       "    'salesShare': '36.3',\n",
       "    'salesInten': '-415699000',\n",
       "    'salesChange': '-13',\n",
       "    'salesAcc': '40541108500',\n",
       "    'audiCnt': '353274',\n",
       "    'audiInten': '-60106',\n",
       "    'audiChange': '-14.5',\n",
       "    'audiAcc': '5328435',\n",
       "    'scrnCnt': '697',\n",
       "    'showCnt': '3223'},\n",
       "   {'rnum': '2',\n",
       "    'rank': '2',\n",
       "    'rankInten': '1',\n",
       "    'rankOldAndNew': 'OLD',\n",
       "    'movieCd': '20110295',\n",
       "    'movieNm': '마이 웨이',\n",
       "    'openDt': '2011-12-21',\n",
       "    'salesAmt': '1189058500',\n",
       "    'salesShare': '15.6',\n",
       "    'salesInten': '-105894500',\n",
       "    'salesChange': '-8.2',\n",
       "    'salesAcc': '13002897500',\n",
       "    'audiCnt': '153501',\n",
       "    'audiInten': '-16465',\n",
       "    'audiChange': '-9.7',\n",
       "    'audiAcc': '1739543',\n",
       "    'scrnCnt': '588',\n",
       "    'showCnt': '2321'},\n",
       "   {'rnum': '3',\n",
       "    'rank': '3',\n",
       "    'rankInten': '-1',\n",
       "    'rankOldAndNew': 'OLD',\n",
       "    'movieCd': '20112621',\n",
       "    'movieNm': '셜록홈즈 : 그림자 게임',\n",
       "    'openDt': '2011-12-21',\n",
       "    'salesAmt': '1176022500',\n",
       "    'salesShare': '15.4',\n",
       "    'salesInten': '-210328500',\n",
       "    'salesChange': '-15.2',\n",
       "    'salesAcc': '10678327500',\n",
       "    'audiCnt': '153004',\n",
       "    'audiInten': '-31283',\n",
       "    'audiChange': '-17',\n",
       "    'audiAcc': '1442861',\n",
       "    'scrnCnt': '360',\n",
       "    'showCnt': '1832'},\n",
       "   {'rnum': '4',\n",
       "    'rank': '4',\n",
       "    'rankInten': '0',\n",
       "    'rankOldAndNew': 'OLD',\n",
       "    'movieCd': '20113260',\n",
       "    'movieNm': '퍼펙트 게임',\n",
       "    'openDt': '2011-12-21',\n",
       "    'salesAmt': '644532000',\n",
       "    'salesShare': '8.4',\n",
       "    'salesInten': '-75116500',\n",
       "    'salesChange': '-10.4',\n",
       "    'salesAcc': '6640940000',\n",
       "    'audiCnt': '83644',\n",
       "    'audiInten': '-12225',\n",
       "    'audiChange': '-12.8',\n",
       "    'audiAcc': '895416',\n",
       "    'scrnCnt': '396',\n",
       "    'showCnt': '1364'},\n",
       "   {'rnum': '5',\n",
       "    'rank': '5',\n",
       "    'rankInten': '0',\n",
       "    'rankOldAndNew': 'OLD',\n",
       "    'movieCd': '20113271',\n",
       "    'movieNm': '프렌즈: 몬스터섬의비밀 ',\n",
       "    'openDt': '2011-12-29',\n",
       "    'salesAmt': '436753500',\n",
       "    'salesShare': '5.7',\n",
       "    'salesInten': '-89051000',\n",
       "    'salesChange': '-16.9',\n",
       "    'salesAcc': '1523037000',\n",
       "    'audiCnt': '55092',\n",
       "    'audiInten': '-15568',\n",
       "    'audiChange': '-22',\n",
       "    'audiAcc': '202909',\n",
       "    'scrnCnt': '290',\n",
       "    'showCnt': '838'},\n",
       "   {'rnum': '6',\n",
       "    'rank': '6',\n",
       "    'rankInten': '1',\n",
       "    'rankOldAndNew': 'OLD',\n",
       "    'movieCd': '19940256',\n",
       "    'movieNm': '라이온 킹',\n",
       "    'openDt': '1994-07-02',\n",
       "    'salesAmt': '507115500',\n",
       "    'salesShare': '6.6',\n",
       "    'salesInten': '-114593500',\n",
       "    'salesChange': '-18.4',\n",
       "    'salesAcc': '1841625000',\n",
       "    'audiCnt': '45750',\n",
       "    'audiInten': '-11699',\n",
       "    'audiChange': '-20.4',\n",
       "    'audiAcc': '171285',\n",
       "    'scrnCnt': '244',\n",
       "    'showCnt': '895'},\n",
       "   {'rnum': '7',\n",
       "    'rank': '7',\n",
       "    'rankInten': '-1',\n",
       "    'rankOldAndNew': 'OLD',\n",
       "    'movieCd': '20113381',\n",
       "    'movieNm': '오싹한 연애',\n",
       "    'openDt': '2011-12-01',\n",
       "    'salesAmt': '344871000',\n",
       "    'salesShare': '4.5',\n",
       "    'salesInten': '-107005500',\n",
       "    'salesChange': '-23.7',\n",
       "    'salesAcc': '20634684500',\n",
       "    'audiCnt': '45062',\n",
       "    'audiInten': '-15926',\n",
       "    'audiChange': '-26.1',\n",
       "    'audiAcc': '2823060',\n",
       "    'scrnCnt': '243',\n",
       "    'showCnt': '839'},\n",
       "   {'rnum': '8',\n",
       "    'rank': '8',\n",
       "    'rankInten': '0',\n",
       "    'rankOldAndNew': 'OLD',\n",
       "    'movieCd': '20112709',\n",
       "    'movieNm': '극장판 포켓몬스터 베스트 위시「비크티니와 백의 영웅 레시라무」',\n",
       "    'openDt': '2011-12-22',\n",
       "    'salesAmt': '167809500',\n",
       "    'salesShare': '2.2',\n",
       "    'salesInten': '-45900500',\n",
       "    'salesChange': '-21.5',\n",
       "    'salesAcc': '1897120000',\n",
       "    'audiCnt': '24202',\n",
       "    'audiInten': '-7756',\n",
       "    'audiChange': '-24.3',\n",
       "    'audiAcc': '285959',\n",
       "    'scrnCnt': '186',\n",
       "    'showCnt': '348'},\n",
       "   {'rnum': '9',\n",
       "    'rank': '9',\n",
       "    'rankInten': '0',\n",
       "    'rankOldAndNew': 'OLD',\n",
       "    'movieCd': '20113311',\n",
       "    'movieNm': '앨빈과 슈퍼밴드3',\n",
       "    'openDt': '2011-12-15',\n",
       "    'salesAmt': '137030000',\n",
       "    'salesShare': '1.8',\n",
       "    'salesInten': '-35408000',\n",
       "    'salesChange': '-20.5',\n",
       "    'salesAcc': '3416675000',\n",
       "    'audiCnt': '19729',\n",
       "    'audiInten': '-6461',\n",
       "    'audiChange': '-24.7',\n",
       "    'audiAcc': '516289',\n",
       "    'scrnCnt': '169',\n",
       "    'showCnt': '359'},\n",
       "   {'rnum': '10',\n",
       "    'rank': '10',\n",
       "    'rankInten': '0',\n",
       "    'rankOldAndNew': 'OLD',\n",
       "    'movieCd': '20112708',\n",
       "    'movieNm': '극장판 포켓몬스터 베스트 위시 「비크티니와 흑의 영웅 제크로무」',\n",
       "    'openDt': '2011-12-22',\n",
       "    'salesAmt': '125535500',\n",
       "    'salesShare': '1.6',\n",
       "    'salesInten': '-40756000',\n",
       "    'salesChange': '-24.5',\n",
       "    'salesAcc': '1595695000',\n",
       "    'audiCnt': '17817',\n",
       "    'audiInten': '-6554',\n",
       "    'audiChange': '-26.9',\n",
       "    'audiAcc': '235070',\n",
       "    'scrnCnt': '175',\n",
       "    'showCnt': '291'}]}}"
      ]
     },
     "execution_count": 293,
     "metadata": {},
     "output_type": "execute_result"
    }
   ],
   "source": [
    "res_json = json.loads(response_page.read())\n",
    "res_json"
   ]
  },
  {
   "cell_type": "code",
   "execution_count": 308,
   "id": "acaad0c6",
   "metadata": {},
   "outputs": [
    {
     "data": {
      "text/html": [
       "<div>\n",
       "<style scoped>\n",
       "    .dataframe tbody tr th:only-of-type {\n",
       "        vertical-align: middle;\n",
       "    }\n",
       "\n",
       "    .dataframe tbody tr th {\n",
       "        vertical-align: top;\n",
       "    }\n",
       "\n",
       "    .dataframe thead th {\n",
       "        text-align: right;\n",
       "    }\n",
       "</style>\n",
       "<table border=\"1\" class=\"dataframe\">\n",
       "  <thead>\n",
       "    <tr style=\"text-align: right;\">\n",
       "      <th></th>\n",
       "      <th>rank</th>\n",
       "      <th>movieNm</th>\n",
       "      <th>salesAmt</th>\n",
       "    </tr>\n",
       "  </thead>\n",
       "  <tbody>\n",
       "    <tr>\n",
       "      <th>0</th>\n",
       "      <td>1</td>\n",
       "      <td>미션임파서블:고스트프로토콜</td>\n",
       "      <td>2776060500</td>\n",
       "    </tr>\n",
       "    <tr>\n",
       "      <th>1</th>\n",
       "      <td>2</td>\n",
       "      <td>마이 웨이</td>\n",
       "      <td>1189058500</td>\n",
       "    </tr>\n",
       "    <tr>\n",
       "      <th>2</th>\n",
       "      <td>3</td>\n",
       "      <td>셜록홈즈 : 그림자 게임</td>\n",
       "      <td>1176022500</td>\n",
       "    </tr>\n",
       "    <tr>\n",
       "      <th>3</th>\n",
       "      <td>4</td>\n",
       "      <td>퍼펙트 게임</td>\n",
       "      <td>644532000</td>\n",
       "    </tr>\n",
       "    <tr>\n",
       "      <th>4</th>\n",
       "      <td>5</td>\n",
       "      <td>프렌즈: 몬스터섬의비밀</td>\n",
       "      <td>436753500</td>\n",
       "    </tr>\n",
       "    <tr>\n",
       "      <th>5</th>\n",
       "      <td>6</td>\n",
       "      <td>라이온 킹</td>\n",
       "      <td>507115500</td>\n",
       "    </tr>\n",
       "    <tr>\n",
       "      <th>6</th>\n",
       "      <td>7</td>\n",
       "      <td>오싹한 연애</td>\n",
       "      <td>344871000</td>\n",
       "    </tr>\n",
       "    <tr>\n",
       "      <th>7</th>\n",
       "      <td>8</td>\n",
       "      <td>극장판 포켓몬스터 베스트 위시「비크티니와 백의 영웅 레시라무」</td>\n",
       "      <td>167809500</td>\n",
       "    </tr>\n",
       "    <tr>\n",
       "      <th>8</th>\n",
       "      <td>9</td>\n",
       "      <td>앨빈과 슈퍼밴드3</td>\n",
       "      <td>137030000</td>\n",
       "    </tr>\n",
       "    <tr>\n",
       "      <th>9</th>\n",
       "      <td>10</td>\n",
       "      <td>극장판 포켓몬스터 베스트 위시 「비크티니와 흑의 영웅 제크로무」</td>\n",
       "      <td>125535500</td>\n",
       "    </tr>\n",
       "  </tbody>\n",
       "</table>\n",
       "</div>"
      ],
      "text/plain": [
       "  rank                              movieNm    salesAmt\n",
       "0    1                       미션임파서블:고스트프로토콜  2776060500\n",
       "1    2                                마이 웨이  1189058500\n",
       "2    3                        셜록홈즈 : 그림자 게임  1176022500\n",
       "3    4                               퍼펙트 게임   644532000\n",
       "4    5                        프렌즈: 몬스터섬의비밀    436753500\n",
       "5    6                                라이온 킹   507115500\n",
       "6    7                               오싹한 연애   344871000\n",
       "7    8   극장판 포켓몬스터 베스트 위시「비크티니와 백의 영웅 레시라무」   167809500\n",
       "8    9                            앨빈과 슈퍼밴드3   137030000\n",
       "9   10  극장판 포켓몬스터 베스트 위시 「비크티니와 흑의 영웅 제크로무」   125535500"
      ]
     },
     "execution_count": 308,
     "metadata": {},
     "output_type": "execute_result"
    }
   ],
   "source": [
    "data = res_json['boxOfficeResult']['dailyBoxOfficeList']\n",
    "df = pd.DataFrame(data)[['rank' , 'movieNm' ,'salesAmt']]\n",
    "df"
   ]
  },
  {
   "cell_type": "code",
   "execution_count": 315,
   "id": "960ab9e7",
   "metadata": {},
   "outputs": [
    {
     "name": "stdout",
     "output_type": "stream",
     "text": [
      "shape     -  (10, 3)\n",
      "size      -  30\n",
      "ndim      -  2\n",
      "index     -  RangeIndex(start=0, stop=10, step=1) <class 'pandas.core.indexes.range.RangeIndex'>\n",
      "col index -  Index(['rnum', 'movieNm', 'salesAmt'], dtype='object') <class 'pandas.core.indexes.base.Index'>\n",
      "values    - \n",
      "[['1' '미션임파서블:고스트프로토콜' '2776060500']\n",
      " ['2' '마이 웨이' '1189058500']\n",
      " ['3' '셜록홈즈 : 그림자 게임' '1176022500']\n",
      " ['4' '퍼펙트 게임' '644532000']\n",
      " ['5' '프렌즈: 몬스터섬의비밀 ' '436753500']\n",
      " ['6' '라이온 킹' '507115500']\n",
      " ['7' '오싹한 연애' '344871000']\n",
      " ['8' '극장판 포켓몬스터 베스트 위시「비크티니와 백의 영웅 레시라무」' '167809500']\n",
      " ['9' '앨빈과 슈퍼밴드3' '137030000']\n",
      " ['10' '극장판 포켓몬스터 베스트 위시 「비크티니와 흑의 영웅 제크로무」' '125535500']] \n",
      " <class 'numpy.ndarray'>\n",
      "\n",
      "data - \n"
     ]
    },
    {
     "data": {
      "text/html": [
       "<div>\n",
       "<style scoped>\n",
       "    .dataframe tbody tr th:only-of-type {\n",
       "        vertical-align: middle;\n",
       "    }\n",
       "\n",
       "    .dataframe tbody tr th {\n",
       "        vertical-align: top;\n",
       "    }\n",
       "\n",
       "    .dataframe thead th {\n",
       "        text-align: right;\n",
       "    }\n",
       "</style>\n",
       "<table border=\"1\" class=\"dataframe\">\n",
       "  <thead>\n",
       "    <tr style=\"text-align: right;\">\n",
       "      <th></th>\n",
       "      <th>rnum</th>\n",
       "      <th>movieNm</th>\n",
       "      <th>salesAmt</th>\n",
       "    </tr>\n",
       "  </thead>\n",
       "  <tbody>\n",
       "    <tr>\n",
       "      <th>0</th>\n",
       "      <td>1</td>\n",
       "      <td>미션임파서블:고스트프로토콜</td>\n",
       "      <td>2776060500</td>\n",
       "    </tr>\n",
       "    <tr>\n",
       "      <th>1</th>\n",
       "      <td>2</td>\n",
       "      <td>마이 웨이</td>\n",
       "      <td>1189058500</td>\n",
       "    </tr>\n",
       "    <tr>\n",
       "      <th>2</th>\n",
       "      <td>3</td>\n",
       "      <td>셜록홈즈 : 그림자 게임</td>\n",
       "      <td>1176022500</td>\n",
       "    </tr>\n",
       "    <tr>\n",
       "      <th>3</th>\n",
       "      <td>4</td>\n",
       "      <td>퍼펙트 게임</td>\n",
       "      <td>644532000</td>\n",
       "    </tr>\n",
       "    <tr>\n",
       "      <th>4</th>\n",
       "      <td>5</td>\n",
       "      <td>프렌즈: 몬스터섬의비밀</td>\n",
       "      <td>436753500</td>\n",
       "    </tr>\n",
       "    <tr>\n",
       "      <th>5</th>\n",
       "      <td>6</td>\n",
       "      <td>라이온 킹</td>\n",
       "      <td>507115500</td>\n",
       "    </tr>\n",
       "    <tr>\n",
       "      <th>6</th>\n",
       "      <td>7</td>\n",
       "      <td>오싹한 연애</td>\n",
       "      <td>344871000</td>\n",
       "    </tr>\n",
       "    <tr>\n",
       "      <th>7</th>\n",
       "      <td>8</td>\n",
       "      <td>극장판 포켓몬스터 베스트 위시「비크티니와 백의 영웅 레시라무」</td>\n",
       "      <td>167809500</td>\n",
       "    </tr>\n",
       "    <tr>\n",
       "      <th>8</th>\n",
       "      <td>9</td>\n",
       "      <td>앨빈과 슈퍼밴드3</td>\n",
       "      <td>137030000</td>\n",
       "    </tr>\n",
       "    <tr>\n",
       "      <th>9</th>\n",
       "      <td>10</td>\n",
       "      <td>극장판 포켓몬스터 베스트 위시 「비크티니와 흑의 영웅 제크로무」</td>\n",
       "      <td>125535500</td>\n",
       "    </tr>\n",
       "  </tbody>\n",
       "</table>\n",
       "</div>"
      ],
      "text/plain": [
       "  rnum                              movieNm    salesAmt\n",
       "0    1                       미션임파서블:고스트프로토콜  2776060500\n",
       "1    2                                마이 웨이  1189058500\n",
       "2    3                        셜록홈즈 : 그림자 게임  1176022500\n",
       "3    4                               퍼펙트 게임   644532000\n",
       "4    5                        프렌즈: 몬스터섬의비밀    436753500\n",
       "5    6                                라이온 킹   507115500\n",
       "6    7                               오싹한 연애   344871000\n",
       "7    8   극장판 포켓몬스터 베스트 위시「비크티니와 백의 영웅 레시라무」   167809500\n",
       "8    9                            앨빈과 슈퍼밴드3   137030000\n",
       "9   10  극장판 포켓몬스터 베스트 위시 「비크티니와 흑의 영웅 제크로무」   125535500"
      ]
     },
     "metadata": {},
     "output_type": "display_data"
    }
   ],
   "source": [
    "lst = []\n",
    "for tmp_dict in data :\n",
    "    lst.append([tmp_dict['rnum'] , tmp_dict['movieNm'] , tmp_dict['salesAmt']])\n",
    "    \n",
    "df = pd.DataFrame(lst , columns = ['rnum', 'movieNm' , 'salesAmt'])\n",
    "frminfo(df)"
   ]
  },
  {
   "cell_type": "markdown",
   "id": "0a80eec2",
   "metadata": {},
   "source": [
    "문) 다음 조건을 만족하는 임의의 데이터 프레임을 작성해보자\n",
    "- 조건 ) 열의 개수와 행의 개수가 각각 5개 이상이어야 한다.\n",
    "- 조건 ) 열에는 정수, 문자 , 실수 , 날짜  데이터가 각각 1개 이상 포함이 되어야한다.\n",
    "\n",
    "문2) 제공된 파일로부터 데이터를 읽어들여서 데이터 프레임을 작성해보자\n",
    "- hint) open() , json.load()\n",
    "- json.loads : json으로 된 문자열 파일을 읽어들일때\n",
    "- json.load() : json 파일을 읽어들일때"
   ]
  },
  {
   "cell_type": "code",
   "execution_count": 343,
   "id": "338201e0",
   "metadata": {},
   "outputs": [
    {
     "data": {
      "text/html": [
       "<div>\n",
       "<style scoped>\n",
       "    .dataframe tbody tr th:only-of-type {\n",
       "        vertical-align: middle;\n",
       "    }\n",
       "\n",
       "    .dataframe tbody tr th {\n",
       "        vertical-align: top;\n",
       "    }\n",
       "\n",
       "    .dataframe thead th {\n",
       "        text-align: right;\n",
       "    }\n",
       "</style>\n",
       "<table border=\"1\" class=\"dataframe\">\n",
       "  <thead>\n",
       "    <tr style=\"text-align: right;\">\n",
       "      <th></th>\n",
       "      <th>data_01</th>\n",
       "      <th>data_02</th>\n",
       "      <th>data_03</th>\n",
       "      <th>data_04</th>\n",
       "      <th>data_05</th>\n",
       "    </tr>\n",
       "  </thead>\n",
       "  <tbody>\n",
       "    <tr>\n",
       "      <th>이름</th>\n",
       "      <td>하나</td>\n",
       "      <td>두나</td>\n",
       "      <td>세나</td>\n",
       "      <td>네나</td>\n",
       "      <td>다나</td>\n",
       "    </tr>\n",
       "    <tr>\n",
       "      <th>번호</th>\n",
       "      <td>1</td>\n",
       "      <td>2</td>\n",
       "      <td>3</td>\n",
       "      <td>4</td>\n",
       "      <td>5</td>\n",
       "    </tr>\n",
       "    <tr>\n",
       "      <th>코드</th>\n",
       "      <td>3.14</td>\n",
       "      <td>4.24</td>\n",
       "      <td>5.34</td>\n",
       "      <td>6.44</td>\n",
       "      <td>7.54</td>\n",
       "    </tr>\n",
       "    <tr>\n",
       "      <th>날짜</th>\n",
       "      <td>2022-11-10 00:00:00</td>\n",
       "      <td>2022-11-11 00:00:00</td>\n",
       "      <td>2022-11-12 00:00:00</td>\n",
       "      <td>2022-11-13 00:00:00</td>\n",
       "      <td>2022-11-14 00:00:00</td>\n",
       "    </tr>\n",
       "    <tr>\n",
       "      <th>형제</th>\n",
       "      <td>첫째</td>\n",
       "      <td>둘째</td>\n",
       "      <td>셋째</td>\n",
       "      <td>넷째</td>\n",
       "      <td>다섯째</td>\n",
       "    </tr>\n",
       "  </tbody>\n",
       "</table>\n",
       "</div>"
      ],
      "text/plain": [
       "                data_01              data_02              data_03  \\\n",
       "이름                   하나                   두나                   세나   \n",
       "번호                    1                    2                    3   \n",
       "코드                 3.14                 4.24                 5.34   \n",
       "날짜  2022-11-10 00:00:00  2022-11-11 00:00:00  2022-11-12 00:00:00   \n",
       "형제                   첫째                   둘째                   셋째   \n",
       "\n",
       "                data_04              data_05  \n",
       "이름                   네나                   다나  \n",
       "번호                    4                    5  \n",
       "코드                 6.44                 7.54  \n",
       "날짜  2022-11-13 00:00:00  2022-11-14 00:00:00  \n",
       "형제                   넷째                  다섯째  "
      ]
     },
     "execution_count": 343,
     "metadata": {},
     "output_type": "execute_result"
    }
   ],
   "source": [
    "dict_data = {\n",
    "    'data_01' : ['하나' , 1 , 3.14 , datetime(2022 , 11 , 10) , '첫째'] ,\n",
    "    'data_02' : ['두나' , 2 , 4.24 , datetime(2022 , 11 , 11) , '둘째'] ,\n",
    "    'data_03' : ['세나' , 3 , 5.34 , datetime(2022 , 11 , 12) , '셋째'] ,\n",
    "    'data_04' : ['네나' , 4 , 6.44 , datetime(2022 , 11 , 13) , '넷째' ],\n",
    "    'data_05' : ['다나' , 5 , 7.54 , datetime(2022 , 11 , 14) , '다섯째'] ,\n",
    "}\n",
    "pb_01_df = pd.DataFrame(dict_data , index = ['이름' , '번호' , '코드' , '날짜' , '형제'])\n",
    "pb_01_df\n"
   ]
  },
  {
   "cell_type": "code",
   "execution_count": 339,
   "id": "9e0a9043",
   "metadata": {},
   "outputs": [
    {
     "name": "stdout",
     "output_type": "stream",
     "text": [
      "<class 'list'>\n",
      "[{'bookName': '나는 꼭 필요한 것만 남기기로 했다', 'link': 'http://www.hanbit.co.kr/store/books/look.php?p_code=B7269609529'}, {'bookName': '파이썬과 대스크를 활용한 고성능 데이터 분석', 'link': 'http://www.hanbit.co.kr/store/books/look.php?p_code=B4595034178'}, {'bookName': '웹어셈블리 인 액션', 'link': 'http://www.hanbit.co.kr/store/books/look.php?p_code=B5654500071'}, {'bookName': '쉽게 배워 바로 써먹는 디자인 패턴', 'link': 'http://www.hanbit.co.kr/store/books/look.php?p_code=B9696096335'}, {'bookName': '부의 원칙', 'link': 'http://www.hanbit.co.kr/store/books/look.php?p_code=B1303121763'}, {'bookName': '만들면서 배우는 픽셀 아트', 'link': 'http://www.hanbit.co.kr/store/books/look.php?p_code=B8144473464'}, {'bookName': '초보자를 위한 언리얼 엔진 4 입문', 'link': 'http://www.hanbit.co.kr/store/books/look.php?p_code=B4792640793'}, {'bookName': '분산원장 기술', 'link': 'http://www.hanbit.co.kr/store/books/look.php?p_code=B2916452728'}, {'bookName': '회사에서 바로 통하는 3ds Max + V-Ray', 'link': 'http://www.hanbit.co.kr/store/books/look.php?p_code=B2172775594'}, {'bookName': '재미있고 빠른 한글 쓰기 3권 : 교과서 쉬운 낱말', 'link': 'http://www.hanbit.co.kr/store/books/look.php?p_code=B8764310258'}, {'bookName': '나도 초록 식물 잘 키우면 소원이 없겠네', 'link': 'http://www.hanbit.co.kr/store/books/look.php?p_code=B9058586817'}, {'bookName': 'IT CookBook, 액세스 2019로 배우는 데이터베이스 기초와 실습', 'link': 'http://www.hanbit.co.kr/store/books/look.php?p_code=B6503201303'}, {'bookName': 'GAN 인 액션', 'link': 'http://www.hanbit.co.kr/store/books/look.php?p_code=B3137824436'}, {'bookName': '재미있고 빠른 어휘력 동화 – 아지랑이가 뭐야?', 'link': 'http://www.hanbit.co.kr/store/books/look.php?p_code=B1967812795'}, {'bookName': '재미있고 빠른 어휘력 동화 – 많다의 반대가 뭐야?', 'link': 'http://www.hanbit.co.kr/store/books/look.php?p_code=B2728411076'}, {'bookName': '만화로 보는 바빌론 부자들의 돈 버는 지혜', 'link': 'http://www.hanbit.co.kr/store/books/look.php?p_code=B8115627505'}, {'bookName': '포르잔 C++ 바이블', 'link': 'http://www.hanbit.co.kr/store/books/look.php?p_code=B1851418066'}, {'bookName': '청소년 인문학 수업 - 1권', 'link': 'http://www.hanbit.co.kr/store/books/look.php?p_code=B9143267027'}, {'bookName': '청소년 인문학 수업 - 2권', 'link': 'http://www.hanbit.co.kr/store/books/look.php?p_code=B3517216657'}, {'bookName': '처음 시작하는 파이썬&#40;2판&#41;', 'link': 'http://www.hanbit.co.kr/store/books/look.php?p_code=B4872223435'}, {'bookName': '퀀트 전략을 위한 인공지능 트레이딩', 'link': 'http://www.hanbit.co.kr/store/books/look.php?p_code=B1740090592'}, {'bookName': '처음 시작하는 딥러닝', 'link': 'http://www.hanbit.co.kr/store/books/look.php?p_code=B6787201225'}, {'bookName': '회사에서 바로 통하는 실무 엑셀 매크로&VBA', 'link': 'http://www.hanbit.co.kr/store/books/look.php?p_code=B2672932319'}, {'bookName': '게임 오버', 'link': 'http://www.hanbit.co.kr/store/books/look.php?p_code=B9279330130'}, {'bookName': '초소형 머신러닝 TinyML', 'link': 'http://www.hanbit.co.kr/store/books/look.php?p_code=B3963656224'}, {'bookName': '오늘도 뇌는 거짓말을 한다', 'link': 'http://www.hanbit.co.kr/store/books/look.php?p_code=B3872657116'}, {'bookName': '허팝만 따라 해봐! 유튜브 정석', 'link': 'http://www.hanbit.co.kr/store/books/look.php?p_code=B8226621719'}, {'bookName': '이것이 취업을 위한 코딩 테스트다 with 파이썬', 'link': 'http://www.hanbit.co.kr/store/books/look.php?p_code=B8945183661'}, {'bookName': '딥러닝을 위한 선형대수학', 'link': 'http://www.hanbit.co.kr/store/books/look.php?p_code=B9479195027'}, {'bookName': '유닉스의 탄생', 'link': 'http://www.hanbit.co.kr/store/books/look.php?p_code=B8460934222'}, {'bookName': '회사에서 바로 통하는  오토캐드 AutoCAD 2021', 'link': 'http://www.hanbit.co.kr/store/books/look.php?p_code=B1191734987'}, {'bookName': 'IT CookBook, 오라클로 배우는 데이터베이스 개론과 실습&#40;2판&#41;', 'link': 'http://www.hanbit.co.kr/store/books/look.php?p_code=B2082711299'}, {'bookName': '별, 걔 다 그립네', 'link': 'http://www.hanbit.co.kr/store/books/look.php?p_code=B5877288702'}, {'bookName': '대학을 버려야 대학이 산다', 'link': 'http://www.hanbit.co.kr/store/books/look.php?p_code=B1825116777'}, {'bookName': 'IT CookBook, 따라 하면서 배우는 사물인터넷', 'link': 'http://www.hanbit.co.kr/store/books/look.php?p_code=B5937482728'}, {'bookName': '재미있고 빠른 첫 한글 준비 선 긋기1권 직선∙곡선∙자음∙모음', 'link': 'http://www.hanbit.co.kr/store/books/look.php?p_code=B5555860904'}, {'bookName': '재미있고 빠른 첫 한글 4권 쌍자음∙받침', 'link': 'http://www.hanbit.co.kr/store/books/look.php?p_code=B3397547488'}, {'bookName': '핸즈온 비지도 학습', 'link': 'http://www.hanbit.co.kr/store/books/look.php?p_code=B7126889829'}, {'bookName': '재미있고 빠른 첫 한글 쓰기1권 모음∙자음∙쉬운 낱말', 'link': 'http://www.hanbit.co.kr/store/books/look.php?p_code=B7448405310'}, {'bookName': '우리 아이 처음 놀이', 'link': 'http://www.hanbit.co.kr/store/books/look.php?p_code=B8656803901'}, {'bookName': '미라클 모닝 기적의 공식&#40;개정판&#41;', 'link': 'http://www.hanbit.co.kr/store/books/look.php?p_code=B9697194640'}, {'bookName': '창의적 공학설계&#40;3판&#41;', 'link': 'http://www.hanbit.co.kr/store/books/look.php?p_code=B8573612142'}, {'bookName': 'R로 하는 다변량 데이터 분석 : 이론부터 실무 활용까지', 'link': 'http://www.hanbit.co.kr/store/books/look.php?p_code=B8404138031'}, {'bookName': '공학 핵심수학&#40;2판&#41;  : 기초부터 심화까지 핵심만 쏙쏙', 'link': 'http://www.hanbit.co.kr/store/books/look.php?p_code=B8658821149'}, {'bookName': '응용이 보이는 선형대수학 : 파이썬과 함께하는 선형대수학 이론과 응용', 'link': 'http://www.hanbit.co.kr/store/books/look.php?p_code=B7926921440'}, {'bookName': '파이썬 증권 데이터 분석', 'link': 'http://www.hanbit.co.kr/store/books/look.php?p_code=B7026921929'}, {'bookName': '나의 첫 파이썬&#40;2판&#41;', 'link': 'http://www.hanbit.co.kr/store/books/look.php?p_code=B3745711486'}, {'bookName': '나는 왜 네 말이 힘들까', 'link': 'http://www.hanbit.co.kr/store/books/look.php?p_code=B7748014142'}, {'bookName': '혼자 공부하는 첫 프로그래밍 with 파이썬', 'link': 'http://www.hanbit.co.kr/store/books/look.php?p_code=B9609283195'}, {'bookName': '퇴근길 인문학 수업 : 뉴노멀', 'link': 'http://www.hanbit.co.kr/store/books/look.php?p_code=B7346049104'}]\n"
     ]
    }
   ],
   "source": [
    "file_path = \"C:/Users/PiGiraffe0/Documents/SQL/data/pandas/booklist_json.json\"\n",
    "\n",
    "with open(file_path, 'r' , encoding=\"UTF-8\") as file:\n",
    "    data = json.load(file)\n",
    "    print(type(data))\n",
    "    print(data)\n",
    "    "
   ]
  },
  {
   "cell_type": "code",
   "execution_count": 340,
   "id": "3416be4b",
   "metadata": {},
   "outputs": [
    {
     "data": {
      "text/plain": [
       "[{'bookName': '나는 꼭 필요한 것만 남기기로 했다',\n",
       "  'link': 'http://www.hanbit.co.kr/store/books/look.php?p_code=B7269609529'},\n",
       " {'bookName': '파이썬과 대스크를 활용한 고성능 데이터 분석',\n",
       "  'link': 'http://www.hanbit.co.kr/store/books/look.php?p_code=B4595034178'},\n",
       " {'bookName': '웹어셈블리 인 액션',\n",
       "  'link': 'http://www.hanbit.co.kr/store/books/look.php?p_code=B5654500071'},\n",
       " {'bookName': '쉽게 배워 바로 써먹는 디자인 패턴',\n",
       "  'link': 'http://www.hanbit.co.kr/store/books/look.php?p_code=B9696096335'},\n",
       " {'bookName': '부의 원칙',\n",
       "  'link': 'http://www.hanbit.co.kr/store/books/look.php?p_code=B1303121763'},\n",
       " {'bookName': '만들면서 배우는 픽셀 아트',\n",
       "  'link': 'http://www.hanbit.co.kr/store/books/look.php?p_code=B8144473464'},\n",
       " {'bookName': '초보자를 위한 언리얼 엔진 4 입문',\n",
       "  'link': 'http://www.hanbit.co.kr/store/books/look.php?p_code=B4792640793'},\n",
       " {'bookName': '분산원장 기술',\n",
       "  'link': 'http://www.hanbit.co.kr/store/books/look.php?p_code=B2916452728'},\n",
       " {'bookName': '회사에서 바로 통하는 3ds Max + V-Ray',\n",
       "  'link': 'http://www.hanbit.co.kr/store/books/look.php?p_code=B2172775594'},\n",
       " {'bookName': '재미있고 빠른 한글 쓰기 3권 : 교과서 쉬운 낱말',\n",
       "  'link': 'http://www.hanbit.co.kr/store/books/look.php?p_code=B8764310258'},\n",
       " {'bookName': '나도 초록 식물 잘 키우면 소원이 없겠네',\n",
       "  'link': 'http://www.hanbit.co.kr/store/books/look.php?p_code=B9058586817'},\n",
       " {'bookName': 'IT CookBook, 액세스 2019로 배우는 데이터베이스 기초와 실습',\n",
       "  'link': 'http://www.hanbit.co.kr/store/books/look.php?p_code=B6503201303'},\n",
       " {'bookName': 'GAN 인 액션',\n",
       "  'link': 'http://www.hanbit.co.kr/store/books/look.php?p_code=B3137824436'},\n",
       " {'bookName': '재미있고 빠른 어휘력 동화 – 아지랑이가 뭐야?',\n",
       "  'link': 'http://www.hanbit.co.kr/store/books/look.php?p_code=B1967812795'},\n",
       " {'bookName': '재미있고 빠른 어휘력 동화 – 많다의 반대가 뭐야?',\n",
       "  'link': 'http://www.hanbit.co.kr/store/books/look.php?p_code=B2728411076'},\n",
       " {'bookName': '만화로 보는 바빌론 부자들의 돈 버는 지혜',\n",
       "  'link': 'http://www.hanbit.co.kr/store/books/look.php?p_code=B8115627505'},\n",
       " {'bookName': '포르잔 C++ 바이블',\n",
       "  'link': 'http://www.hanbit.co.kr/store/books/look.php?p_code=B1851418066'},\n",
       " {'bookName': '청소년 인문학 수업 - 1권',\n",
       "  'link': 'http://www.hanbit.co.kr/store/books/look.php?p_code=B9143267027'},\n",
       " {'bookName': '청소년 인문학 수업 - 2권',\n",
       "  'link': 'http://www.hanbit.co.kr/store/books/look.php?p_code=B3517216657'},\n",
       " {'bookName': '처음 시작하는 파이썬&#40;2판&#41;',\n",
       "  'link': 'http://www.hanbit.co.kr/store/books/look.php?p_code=B4872223435'},\n",
       " {'bookName': '퀀트 전략을 위한 인공지능 트레이딩',\n",
       "  'link': 'http://www.hanbit.co.kr/store/books/look.php?p_code=B1740090592'},\n",
       " {'bookName': '처음 시작하는 딥러닝',\n",
       "  'link': 'http://www.hanbit.co.kr/store/books/look.php?p_code=B6787201225'},\n",
       " {'bookName': '회사에서 바로 통하는 실무 엑셀 매크로&VBA',\n",
       "  'link': 'http://www.hanbit.co.kr/store/books/look.php?p_code=B2672932319'},\n",
       " {'bookName': '게임 오버',\n",
       "  'link': 'http://www.hanbit.co.kr/store/books/look.php?p_code=B9279330130'},\n",
       " {'bookName': '초소형 머신러닝 TinyML',\n",
       "  'link': 'http://www.hanbit.co.kr/store/books/look.php?p_code=B3963656224'},\n",
       " {'bookName': '오늘도 뇌는 거짓말을 한다',\n",
       "  'link': 'http://www.hanbit.co.kr/store/books/look.php?p_code=B3872657116'},\n",
       " {'bookName': '허팝만 따라 해봐! 유튜브 정석',\n",
       "  'link': 'http://www.hanbit.co.kr/store/books/look.php?p_code=B8226621719'},\n",
       " {'bookName': '이것이 취업을 위한 코딩 테스트다 with 파이썬',\n",
       "  'link': 'http://www.hanbit.co.kr/store/books/look.php?p_code=B8945183661'},\n",
       " {'bookName': '딥러닝을 위한 선형대수학',\n",
       "  'link': 'http://www.hanbit.co.kr/store/books/look.php?p_code=B9479195027'},\n",
       " {'bookName': '유닉스의 탄생',\n",
       "  'link': 'http://www.hanbit.co.kr/store/books/look.php?p_code=B8460934222'},\n",
       " {'bookName': '회사에서 바로 통하는  오토캐드 AutoCAD 2021',\n",
       "  'link': 'http://www.hanbit.co.kr/store/books/look.php?p_code=B1191734987'},\n",
       " {'bookName': 'IT CookBook, 오라클로 배우는 데이터베이스 개론과 실습&#40;2판&#41;',\n",
       "  'link': 'http://www.hanbit.co.kr/store/books/look.php?p_code=B2082711299'},\n",
       " {'bookName': '별, 걔 다 그립네',\n",
       "  'link': 'http://www.hanbit.co.kr/store/books/look.php?p_code=B5877288702'},\n",
       " {'bookName': '대학을 버려야 대학이 산다',\n",
       "  'link': 'http://www.hanbit.co.kr/store/books/look.php?p_code=B1825116777'},\n",
       " {'bookName': 'IT CookBook, 따라 하면서 배우는 사물인터넷',\n",
       "  'link': 'http://www.hanbit.co.kr/store/books/look.php?p_code=B5937482728'},\n",
       " {'bookName': '재미있고 빠른 첫 한글 준비 선 긋기1권 직선∙곡선∙자음∙모음',\n",
       "  'link': 'http://www.hanbit.co.kr/store/books/look.php?p_code=B5555860904'},\n",
       " {'bookName': '재미있고 빠른 첫 한글 4권 쌍자음∙받침',\n",
       "  'link': 'http://www.hanbit.co.kr/store/books/look.php?p_code=B3397547488'},\n",
       " {'bookName': '핸즈온 비지도 학습',\n",
       "  'link': 'http://www.hanbit.co.kr/store/books/look.php?p_code=B7126889829'},\n",
       " {'bookName': '재미있고 빠른 첫 한글 쓰기1권 모음∙자음∙쉬운 낱말',\n",
       "  'link': 'http://www.hanbit.co.kr/store/books/look.php?p_code=B7448405310'},\n",
       " {'bookName': '우리 아이 처음 놀이',\n",
       "  'link': 'http://www.hanbit.co.kr/store/books/look.php?p_code=B8656803901'},\n",
       " {'bookName': '미라클 모닝 기적의 공식&#40;개정판&#41;',\n",
       "  'link': 'http://www.hanbit.co.kr/store/books/look.php?p_code=B9697194640'},\n",
       " {'bookName': '창의적 공학설계&#40;3판&#41;',\n",
       "  'link': 'http://www.hanbit.co.kr/store/books/look.php?p_code=B8573612142'},\n",
       " {'bookName': 'R로 하는 다변량 데이터 분석 : 이론부터 실무 활용까지',\n",
       "  'link': 'http://www.hanbit.co.kr/store/books/look.php?p_code=B8404138031'},\n",
       " {'bookName': '공학 핵심수학&#40;2판&#41;  : 기초부터 심화까지 핵심만 쏙쏙',\n",
       "  'link': 'http://www.hanbit.co.kr/store/books/look.php?p_code=B8658821149'},\n",
       " {'bookName': '응용이 보이는 선형대수학 : 파이썬과 함께하는 선형대수학 이론과 응용',\n",
       "  'link': 'http://www.hanbit.co.kr/store/books/look.php?p_code=B7926921440'},\n",
       " {'bookName': '파이썬 증권 데이터 분석',\n",
       "  'link': 'http://www.hanbit.co.kr/store/books/look.php?p_code=B7026921929'},\n",
       " {'bookName': '나의 첫 파이썬&#40;2판&#41;',\n",
       "  'link': 'http://www.hanbit.co.kr/store/books/look.php?p_code=B3745711486'},\n",
       " {'bookName': '나는 왜 네 말이 힘들까',\n",
       "  'link': 'http://www.hanbit.co.kr/store/books/look.php?p_code=B7748014142'},\n",
       " {'bookName': '혼자 공부하는 첫 프로그래밍 with 파이썬',\n",
       "  'link': 'http://www.hanbit.co.kr/store/books/look.php?p_code=B9609283195'},\n",
       " {'bookName': '퇴근길 인문학 수업 : 뉴노멀',\n",
       "  'link': 'http://www.hanbit.co.kr/store/books/look.php?p_code=B7346049104'}]"
      ]
     },
     "execution_count": 340,
     "metadata": {},
     "output_type": "execute_result"
    }
   ],
   "source": [
    "data"
   ]
  },
  {
   "cell_type": "code",
   "execution_count": 338,
   "id": "084d5712",
   "metadata": {},
   "outputs": [
    {
     "data": {
      "text/html": [
       "<div>\n",
       "<style scoped>\n",
       "    .dataframe tbody tr th:only-of-type {\n",
       "        vertical-align: middle;\n",
       "    }\n",
       "\n",
       "    .dataframe tbody tr th {\n",
       "        vertical-align: top;\n",
       "    }\n",
       "\n",
       "    .dataframe thead th {\n",
       "        text-align: right;\n",
       "    }\n",
       "</style>\n",
       "<table border=\"1\" class=\"dataframe\">\n",
       "  <thead>\n",
       "    <tr style=\"text-align: right;\">\n",
       "      <th></th>\n",
       "      <th>책 이름</th>\n",
       "      <th>주소</th>\n",
       "    </tr>\n",
       "  </thead>\n",
       "  <tbody>\n",
       "    <tr>\n",
       "      <th>0</th>\n",
       "      <td>나는 꼭 필요한 것만 남기기로 했다</td>\n",
       "      <td>http://www.hanbit.co.kr/store/books/look.php?p...</td>\n",
       "    </tr>\n",
       "    <tr>\n",
       "      <th>1</th>\n",
       "      <td>파이썬과 대스크를 활용한 고성능 데이터 분석</td>\n",
       "      <td>http://www.hanbit.co.kr/store/books/look.php?p...</td>\n",
       "    </tr>\n",
       "    <tr>\n",
       "      <th>2</th>\n",
       "      <td>웹어셈블리 인 액션</td>\n",
       "      <td>http://www.hanbit.co.kr/store/books/look.php?p...</td>\n",
       "    </tr>\n",
       "    <tr>\n",
       "      <th>3</th>\n",
       "      <td>쉽게 배워 바로 써먹는 디자인 패턴</td>\n",
       "      <td>http://www.hanbit.co.kr/store/books/look.php?p...</td>\n",
       "    </tr>\n",
       "    <tr>\n",
       "      <th>4</th>\n",
       "      <td>부의 원칙</td>\n",
       "      <td>http://www.hanbit.co.kr/store/books/look.php?p...</td>\n",
       "    </tr>\n",
       "    <tr>\n",
       "      <th>5</th>\n",
       "      <td>만들면서 배우는 픽셀 아트</td>\n",
       "      <td>http://www.hanbit.co.kr/store/books/look.php?p...</td>\n",
       "    </tr>\n",
       "    <tr>\n",
       "      <th>6</th>\n",
       "      <td>초보자를 위한 언리얼 엔진 4 입문</td>\n",
       "      <td>http://www.hanbit.co.kr/store/books/look.php?p...</td>\n",
       "    </tr>\n",
       "    <tr>\n",
       "      <th>7</th>\n",
       "      <td>분산원장 기술</td>\n",
       "      <td>http://www.hanbit.co.kr/store/books/look.php?p...</td>\n",
       "    </tr>\n",
       "    <tr>\n",
       "      <th>8</th>\n",
       "      <td>회사에서 바로 통하는 3ds Max + V-Ray</td>\n",
       "      <td>http://www.hanbit.co.kr/store/books/look.php?p...</td>\n",
       "    </tr>\n",
       "    <tr>\n",
       "      <th>9</th>\n",
       "      <td>재미있고 빠른 한글 쓰기 3권 : 교과서 쉬운 낱말</td>\n",
       "      <td>http://www.hanbit.co.kr/store/books/look.php?p...</td>\n",
       "    </tr>\n",
       "    <tr>\n",
       "      <th>10</th>\n",
       "      <td>나도 초록 식물 잘 키우면 소원이 없겠네</td>\n",
       "      <td>http://www.hanbit.co.kr/store/books/look.php?p...</td>\n",
       "    </tr>\n",
       "    <tr>\n",
       "      <th>11</th>\n",
       "      <td>IT CookBook, 액세스 2019로 배우는 데이터베이스 기초와 실습</td>\n",
       "      <td>http://www.hanbit.co.kr/store/books/look.php?p...</td>\n",
       "    </tr>\n",
       "    <tr>\n",
       "      <th>12</th>\n",
       "      <td>GAN 인 액션</td>\n",
       "      <td>http://www.hanbit.co.kr/store/books/look.php?p...</td>\n",
       "    </tr>\n",
       "    <tr>\n",
       "      <th>13</th>\n",
       "      <td>재미있고 빠른 어휘력 동화 – 아지랑이가 뭐야?</td>\n",
       "      <td>http://www.hanbit.co.kr/store/books/look.php?p...</td>\n",
       "    </tr>\n",
       "    <tr>\n",
       "      <th>14</th>\n",
       "      <td>재미있고 빠른 어휘력 동화 – 많다의 반대가 뭐야?</td>\n",
       "      <td>http://www.hanbit.co.kr/store/books/look.php?p...</td>\n",
       "    </tr>\n",
       "    <tr>\n",
       "      <th>15</th>\n",
       "      <td>만화로 보는 바빌론 부자들의 돈 버는 지혜</td>\n",
       "      <td>http://www.hanbit.co.kr/store/books/look.php?p...</td>\n",
       "    </tr>\n",
       "    <tr>\n",
       "      <th>16</th>\n",
       "      <td>포르잔 C++ 바이블</td>\n",
       "      <td>http://www.hanbit.co.kr/store/books/look.php?p...</td>\n",
       "    </tr>\n",
       "    <tr>\n",
       "      <th>17</th>\n",
       "      <td>청소년 인문학 수업 - 1권</td>\n",
       "      <td>http://www.hanbit.co.kr/store/books/look.php?p...</td>\n",
       "    </tr>\n",
       "    <tr>\n",
       "      <th>18</th>\n",
       "      <td>청소년 인문학 수업 - 2권</td>\n",
       "      <td>http://www.hanbit.co.kr/store/books/look.php?p...</td>\n",
       "    </tr>\n",
       "    <tr>\n",
       "      <th>19</th>\n",
       "      <td>처음 시작하는 파이썬&amp;#40;2판&amp;#41;</td>\n",
       "      <td>http://www.hanbit.co.kr/store/books/look.php?p...</td>\n",
       "    </tr>\n",
       "    <tr>\n",
       "      <th>20</th>\n",
       "      <td>퀀트 전략을 위한 인공지능 트레이딩</td>\n",
       "      <td>http://www.hanbit.co.kr/store/books/look.php?p...</td>\n",
       "    </tr>\n",
       "    <tr>\n",
       "      <th>21</th>\n",
       "      <td>처음 시작하는 딥러닝</td>\n",
       "      <td>http://www.hanbit.co.kr/store/books/look.php?p...</td>\n",
       "    </tr>\n",
       "    <tr>\n",
       "      <th>22</th>\n",
       "      <td>회사에서 바로 통하는 실무 엑셀 매크로&amp;VBA</td>\n",
       "      <td>http://www.hanbit.co.kr/store/books/look.php?p...</td>\n",
       "    </tr>\n",
       "    <tr>\n",
       "      <th>23</th>\n",
       "      <td>게임 오버</td>\n",
       "      <td>http://www.hanbit.co.kr/store/books/look.php?p...</td>\n",
       "    </tr>\n",
       "    <tr>\n",
       "      <th>24</th>\n",
       "      <td>초소형 머신러닝 TinyML</td>\n",
       "      <td>http://www.hanbit.co.kr/store/books/look.php?p...</td>\n",
       "    </tr>\n",
       "    <tr>\n",
       "      <th>25</th>\n",
       "      <td>오늘도 뇌는 거짓말을 한다</td>\n",
       "      <td>http://www.hanbit.co.kr/store/books/look.php?p...</td>\n",
       "    </tr>\n",
       "    <tr>\n",
       "      <th>26</th>\n",
       "      <td>허팝만 따라 해봐! 유튜브 정석</td>\n",
       "      <td>http://www.hanbit.co.kr/store/books/look.php?p...</td>\n",
       "    </tr>\n",
       "    <tr>\n",
       "      <th>27</th>\n",
       "      <td>이것이 취업을 위한 코딩 테스트다 with 파이썬</td>\n",
       "      <td>http://www.hanbit.co.kr/store/books/look.php?p...</td>\n",
       "    </tr>\n",
       "    <tr>\n",
       "      <th>28</th>\n",
       "      <td>딥러닝을 위한 선형대수학</td>\n",
       "      <td>http://www.hanbit.co.kr/store/books/look.php?p...</td>\n",
       "    </tr>\n",
       "    <tr>\n",
       "      <th>29</th>\n",
       "      <td>유닉스의 탄생</td>\n",
       "      <td>http://www.hanbit.co.kr/store/books/look.php?p...</td>\n",
       "    </tr>\n",
       "    <tr>\n",
       "      <th>30</th>\n",
       "      <td>회사에서 바로 통하는  오토캐드 AutoCAD 2021</td>\n",
       "      <td>http://www.hanbit.co.kr/store/books/look.php?p...</td>\n",
       "    </tr>\n",
       "    <tr>\n",
       "      <th>31</th>\n",
       "      <td>IT CookBook, 오라클로 배우는 데이터베이스 개론과 실습&amp;#40;2판&amp;#41;</td>\n",
       "      <td>http://www.hanbit.co.kr/store/books/look.php?p...</td>\n",
       "    </tr>\n",
       "    <tr>\n",
       "      <th>32</th>\n",
       "      <td>별, 걔 다 그립네</td>\n",
       "      <td>http://www.hanbit.co.kr/store/books/look.php?p...</td>\n",
       "    </tr>\n",
       "    <tr>\n",
       "      <th>33</th>\n",
       "      <td>대학을 버려야 대학이 산다</td>\n",
       "      <td>http://www.hanbit.co.kr/store/books/look.php?p...</td>\n",
       "    </tr>\n",
       "    <tr>\n",
       "      <th>34</th>\n",
       "      <td>IT CookBook, 따라 하면서 배우는 사물인터넷</td>\n",
       "      <td>http://www.hanbit.co.kr/store/books/look.php?p...</td>\n",
       "    </tr>\n",
       "    <tr>\n",
       "      <th>35</th>\n",
       "      <td>재미있고 빠른 첫 한글 준비 선 긋기1권 직선∙곡선∙자음∙모음</td>\n",
       "      <td>http://www.hanbit.co.kr/store/books/look.php?p...</td>\n",
       "    </tr>\n",
       "    <tr>\n",
       "      <th>36</th>\n",
       "      <td>재미있고 빠른 첫 한글 4권 쌍자음∙받침</td>\n",
       "      <td>http://www.hanbit.co.kr/store/books/look.php?p...</td>\n",
       "    </tr>\n",
       "    <tr>\n",
       "      <th>37</th>\n",
       "      <td>핸즈온 비지도 학습</td>\n",
       "      <td>http://www.hanbit.co.kr/store/books/look.php?p...</td>\n",
       "    </tr>\n",
       "    <tr>\n",
       "      <th>38</th>\n",
       "      <td>재미있고 빠른 첫 한글 쓰기1권 모음∙자음∙쉬운 낱말</td>\n",
       "      <td>http://www.hanbit.co.kr/store/books/look.php?p...</td>\n",
       "    </tr>\n",
       "    <tr>\n",
       "      <th>39</th>\n",
       "      <td>우리 아이 처음 놀이</td>\n",
       "      <td>http://www.hanbit.co.kr/store/books/look.php?p...</td>\n",
       "    </tr>\n",
       "    <tr>\n",
       "      <th>40</th>\n",
       "      <td>미라클 모닝 기적의 공식&amp;#40;개정판&amp;#41;</td>\n",
       "      <td>http://www.hanbit.co.kr/store/books/look.php?p...</td>\n",
       "    </tr>\n",
       "    <tr>\n",
       "      <th>41</th>\n",
       "      <td>창의적 공학설계&amp;#40;3판&amp;#41;</td>\n",
       "      <td>http://www.hanbit.co.kr/store/books/look.php?p...</td>\n",
       "    </tr>\n",
       "    <tr>\n",
       "      <th>42</th>\n",
       "      <td>R로 하는 다변량 데이터 분석 : 이론부터 실무 활용까지</td>\n",
       "      <td>http://www.hanbit.co.kr/store/books/look.php?p...</td>\n",
       "    </tr>\n",
       "    <tr>\n",
       "      <th>43</th>\n",
       "      <td>공학 핵심수학&amp;#40;2판&amp;#41;  : 기초부터 심화까지 핵심만 쏙쏙</td>\n",
       "      <td>http://www.hanbit.co.kr/store/books/look.php?p...</td>\n",
       "    </tr>\n",
       "    <tr>\n",
       "      <th>44</th>\n",
       "      <td>응용이 보이는 선형대수학 : 파이썬과 함께하는 선형대수학 이론과 응용</td>\n",
       "      <td>http://www.hanbit.co.kr/store/books/look.php?p...</td>\n",
       "    </tr>\n",
       "    <tr>\n",
       "      <th>45</th>\n",
       "      <td>파이썬 증권 데이터 분석</td>\n",
       "      <td>http://www.hanbit.co.kr/store/books/look.php?p...</td>\n",
       "    </tr>\n",
       "    <tr>\n",
       "      <th>46</th>\n",
       "      <td>나의 첫 파이썬&amp;#40;2판&amp;#41;</td>\n",
       "      <td>http://www.hanbit.co.kr/store/books/look.php?p...</td>\n",
       "    </tr>\n",
       "    <tr>\n",
       "      <th>47</th>\n",
       "      <td>나는 왜 네 말이 힘들까</td>\n",
       "      <td>http://www.hanbit.co.kr/store/books/look.php?p...</td>\n",
       "    </tr>\n",
       "    <tr>\n",
       "      <th>48</th>\n",
       "      <td>혼자 공부하는 첫 프로그래밍 with 파이썬</td>\n",
       "      <td>http://www.hanbit.co.kr/store/books/look.php?p...</td>\n",
       "    </tr>\n",
       "    <tr>\n",
       "      <th>49</th>\n",
       "      <td>퇴근길 인문학 수업 : 뉴노멀</td>\n",
       "      <td>http://www.hanbit.co.kr/store/books/look.php?p...</td>\n",
       "    </tr>\n",
       "  </tbody>\n",
       "</table>\n",
       "</div>"
      ],
      "text/plain": [
       "                                               책 이름  \\\n",
       "0                               나는 꼭 필요한 것만 남기기로 했다   \n",
       "1                          파이썬과 대스크를 활용한 고성능 데이터 분석   \n",
       "2                                        웹어셈블리 인 액션   \n",
       "3                               쉽게 배워 바로 써먹는 디자인 패턴   \n",
       "4                                             부의 원칙   \n",
       "5                                    만들면서 배우는 픽셀 아트   \n",
       "6                               초보자를 위한 언리얼 엔진 4 입문   \n",
       "7                                           분산원장 기술   \n",
       "8                       회사에서 바로 통하는 3ds Max + V-Ray   \n",
       "9                      재미있고 빠른 한글 쓰기 3권 : 교과서 쉬운 낱말   \n",
       "10                           나도 초록 식물 잘 키우면 소원이 없겠네   \n",
       "11         IT CookBook, 액세스 2019로 배우는 데이터베이스 기초와 실습   \n",
       "12                                         GAN 인 액션   \n",
       "13                       재미있고 빠른 어휘력 동화 – 아지랑이가 뭐야?   \n",
       "14                     재미있고 빠른 어휘력 동화 – 많다의 반대가 뭐야?   \n",
       "15                          만화로 보는 바빌론 부자들의 돈 버는 지혜   \n",
       "16                                      포르잔 C++ 바이블   \n",
       "17                                  청소년 인문학 수업 - 1권   \n",
       "18                                  청소년 인문학 수업 - 2권   \n",
       "19                          처음 시작하는 파이썬&#40;2판&#41;   \n",
       "20                              퀀트 전략을 위한 인공지능 트레이딩   \n",
       "21                                      처음 시작하는 딥러닝   \n",
       "22                        회사에서 바로 통하는 실무 엑셀 매크로&VBA   \n",
       "23                                            게임 오버   \n",
       "24                                  초소형 머신러닝 TinyML   \n",
       "25                                   오늘도 뇌는 거짓말을 한다   \n",
       "26                                허팝만 따라 해봐! 유튜브 정석   \n",
       "27                      이것이 취업을 위한 코딩 테스트다 with 파이썬   \n",
       "28                                    딥러닝을 위한 선형대수학   \n",
       "29                                          유닉스의 탄생   \n",
       "30                   회사에서 바로 통하는  오토캐드 AutoCAD 2021   \n",
       "31  IT CookBook, 오라클로 배우는 데이터베이스 개론과 실습&#40;2판&#41;   \n",
       "32                                       별, 걔 다 그립네   \n",
       "33                                   대학을 버려야 대학이 산다   \n",
       "34                    IT CookBook, 따라 하면서 배우는 사물인터넷   \n",
       "35               재미있고 빠른 첫 한글 준비 선 긋기1권 직선∙곡선∙자음∙모음   \n",
       "36                           재미있고 빠른 첫 한글 4권 쌍자음∙받침   \n",
       "37                                       핸즈온 비지도 학습   \n",
       "38                    재미있고 빠른 첫 한글 쓰기1권 모음∙자음∙쉬운 낱말   \n",
       "39                                      우리 아이 처음 놀이   \n",
       "40                       미라클 모닝 기적의 공식&#40;개정판&#41;   \n",
       "41                             창의적 공학설계&#40;3판&#41;   \n",
       "42                  R로 하는 다변량 데이터 분석 : 이론부터 실무 활용까지   \n",
       "43          공학 핵심수학&#40;2판&#41;  : 기초부터 심화까지 핵심만 쏙쏙   \n",
       "44           응용이 보이는 선형대수학 : 파이썬과 함께하는 선형대수학 이론과 응용   \n",
       "45                                    파이썬 증권 데이터 분석   \n",
       "46                             나의 첫 파이썬&#40;2판&#41;   \n",
       "47                                    나는 왜 네 말이 힘들까   \n",
       "48                         혼자 공부하는 첫 프로그래밍 with 파이썬   \n",
       "49                                 퇴근길 인문학 수업 : 뉴노멀   \n",
       "\n",
       "                                                   주소  \n",
       "0   http://www.hanbit.co.kr/store/books/look.php?p...  \n",
       "1   http://www.hanbit.co.kr/store/books/look.php?p...  \n",
       "2   http://www.hanbit.co.kr/store/books/look.php?p...  \n",
       "3   http://www.hanbit.co.kr/store/books/look.php?p...  \n",
       "4   http://www.hanbit.co.kr/store/books/look.php?p...  \n",
       "5   http://www.hanbit.co.kr/store/books/look.php?p...  \n",
       "6   http://www.hanbit.co.kr/store/books/look.php?p...  \n",
       "7   http://www.hanbit.co.kr/store/books/look.php?p...  \n",
       "8   http://www.hanbit.co.kr/store/books/look.php?p...  \n",
       "9   http://www.hanbit.co.kr/store/books/look.php?p...  \n",
       "10  http://www.hanbit.co.kr/store/books/look.php?p...  \n",
       "11  http://www.hanbit.co.kr/store/books/look.php?p...  \n",
       "12  http://www.hanbit.co.kr/store/books/look.php?p...  \n",
       "13  http://www.hanbit.co.kr/store/books/look.php?p...  \n",
       "14  http://www.hanbit.co.kr/store/books/look.php?p...  \n",
       "15  http://www.hanbit.co.kr/store/books/look.php?p...  \n",
       "16  http://www.hanbit.co.kr/store/books/look.php?p...  \n",
       "17  http://www.hanbit.co.kr/store/books/look.php?p...  \n",
       "18  http://www.hanbit.co.kr/store/books/look.php?p...  \n",
       "19  http://www.hanbit.co.kr/store/books/look.php?p...  \n",
       "20  http://www.hanbit.co.kr/store/books/look.php?p...  \n",
       "21  http://www.hanbit.co.kr/store/books/look.php?p...  \n",
       "22  http://www.hanbit.co.kr/store/books/look.php?p...  \n",
       "23  http://www.hanbit.co.kr/store/books/look.php?p...  \n",
       "24  http://www.hanbit.co.kr/store/books/look.php?p...  \n",
       "25  http://www.hanbit.co.kr/store/books/look.php?p...  \n",
       "26  http://www.hanbit.co.kr/store/books/look.php?p...  \n",
       "27  http://www.hanbit.co.kr/store/books/look.php?p...  \n",
       "28  http://www.hanbit.co.kr/store/books/look.php?p...  \n",
       "29  http://www.hanbit.co.kr/store/books/look.php?p...  \n",
       "30  http://www.hanbit.co.kr/store/books/look.php?p...  \n",
       "31  http://www.hanbit.co.kr/store/books/look.php?p...  \n",
       "32  http://www.hanbit.co.kr/store/books/look.php?p...  \n",
       "33  http://www.hanbit.co.kr/store/books/look.php?p...  \n",
       "34  http://www.hanbit.co.kr/store/books/look.php?p...  \n",
       "35  http://www.hanbit.co.kr/store/books/look.php?p...  \n",
       "36  http://www.hanbit.co.kr/store/books/look.php?p...  \n",
       "37  http://www.hanbit.co.kr/store/books/look.php?p...  \n",
       "38  http://www.hanbit.co.kr/store/books/look.php?p...  \n",
       "39  http://www.hanbit.co.kr/store/books/look.php?p...  \n",
       "40  http://www.hanbit.co.kr/store/books/look.php?p...  \n",
       "41  http://www.hanbit.co.kr/store/books/look.php?p...  \n",
       "42  http://www.hanbit.co.kr/store/books/look.php?p...  \n",
       "43  http://www.hanbit.co.kr/store/books/look.php?p...  \n",
       "44  http://www.hanbit.co.kr/store/books/look.php?p...  \n",
       "45  http://www.hanbit.co.kr/store/books/look.php?p...  \n",
       "46  http://www.hanbit.co.kr/store/books/look.php?p...  \n",
       "47  http://www.hanbit.co.kr/store/books/look.php?p...  \n",
       "48  http://www.hanbit.co.kr/store/books/look.php?p...  \n",
       "49  http://www.hanbit.co.kr/store/books/look.php?p...  "
      ]
     },
     "execution_count": 338,
     "metadata": {},
     "output_type": "execute_result"
    }
   ],
   "source": [
    "pb_02_df = pd.DataFrame(data)\n",
    "pb_02_df.rename(columns = {'bookName' : '책 이름' , 'link' : '주소'} , inplace = True)\n",
    "pb_02_df"
   ]
  },
  {
   "cell_type": "code",
   "execution_count": null,
   "id": "2b3acb39",
   "metadata": {},
   "outputs": [],
   "source": []
  },
  {
   "cell_type": "code",
   "execution_count": null,
   "id": "eabdae03",
   "metadata": {},
   "outputs": [],
   "source": []
  },
  {
   "cell_type": "code",
   "execution_count": null,
   "id": "cacb74f6",
   "metadata": {},
   "outputs": [],
   "source": []
  },
  {
   "cell_type": "code",
   "execution_count": null,
   "id": "e0ce78fc",
   "metadata": {},
   "outputs": [],
   "source": []
  }
 ],
 "metadata": {
  "kernelspec": {
   "display_name": "Python 3 (ipykernel)",
   "language": "python",
   "name": "python3"
  },
  "language_info": {
   "codemirror_mode": {
    "name": "ipython",
    "version": 3
   },
   "file_extension": ".py",
   "mimetype": "text/x-python",
   "name": "python",
   "nbconvert_exporter": "python",
   "pygments_lexer": "ipython3",
   "version": "3.9.13"
  }
 },
 "nbformat": 4,
 "nbformat_minor": 5
}
